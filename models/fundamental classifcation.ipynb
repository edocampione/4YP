{
 "cells": [
  {
   "cell_type": "code",
   "execution_count": 1155,
   "metadata": {},
   "outputs": [
    {
     "data": {
      "text/html": [
       "        <script type=\"text/javascript\">\n",
       "        window.PlotlyConfig = {MathJaxConfig: 'local'};\n",
       "        if (window.MathJax && window.MathJax.Hub && window.MathJax.Hub.Config) {window.MathJax.Hub.Config({SVG: {font: \"STIX-Web\"}});}\n",
       "        if (typeof require !== 'undefined') {\n",
       "        require.undef(\"plotly\");\n",
       "        requirejs.config({\n",
       "            paths: {\n",
       "                'plotly': ['https://cdn.plot.ly/plotly-2.12.1.min']\n",
       "            }\n",
       "        });\n",
       "        require(['plotly'], function(Plotly) {\n",
       "            window._Plotly = Plotly;\n",
       "        });\n",
       "        }\n",
       "        </script>\n",
       "        "
      ]
     },
     "metadata": {},
     "output_type": "display_data"
    }
   ],
   "source": [
    "import os\n",
    "import numpy as np\n",
    "import pandas as pd\n",
    "import xgboost as xgb\n",
    "import matplotlib.pyplot as plt\n",
    "from xgboost import plot_importance, plot_tree\n",
    "from sklearn.metrics import mean_squared_error\n",
    "from sklearn.preprocessing import MinMaxScaler, StandardScaler\n",
    "from sklearn.model_selection import train_test_split, GridSearchCV\n",
    "from sklearn.metrics import accuracy_score,classification_report\n",
    "from sklearn.metrics import roc_curve, auc\n",
    "from sklearn.ensemble import RandomForestRegressor\n",
    "from sklearn.metrics import mean_squared_error, r2_score\n",
    "\n",
    "# Time series decomposition\n",
    "from statsmodels.tsa.seasonal import seasonal_decompose\n",
    "\n",
    "# Chart drawing\n",
    "import plotly as py\n",
    "import plotly.io as pio\n",
    "import plotly.graph_objects as go\n",
    "from plotly.subplots import make_subplots\n",
    "from plotly.offline import download_plotlyjs, init_notebook_mode, plot, iplot\n",
    "\n",
    "# Yahoo Finance\n",
    "import yfinance as yf\n",
    "\n",
    "# Mute sklearn warnings\n",
    "from warnings import simplefilter\n",
    "simplefilter(action='ignore', category=FutureWarning)\n",
    "simplefilter(action='ignore', category=DeprecationWarning)\n",
    "\n",
    "# Show charts when running kernel\n",
    "init_notebook_mode(connected=True)\n",
    "\n",
    "# Change default background color for all visualizations\n",
    "layout=go.Layout(paper_bgcolor='rgba(0,0,0,0)', plot_bgcolor='rgba(250,250,250,0.8)')\n",
    "fig = go.Figure(layout=layout)\n",
    "templated_fig = pio.to_templated(fig)\n",
    "pio.templates['my_template'] = templated_fig.layout.template\n",
    "pio.templates.default = 'my_template'"
   ]
  },
  {
   "cell_type": "code",
   "execution_count": 1156,
   "metadata": {},
   "outputs": [],
   "source": [
    "# Split data into training/validation and test sets based on dates\n",
    "start_date = '1950-01-31'\n",
    "end_date = '2030-09-30'"
   ]
  },
  {
   "cell_type": "code",
   "execution_count": 1157,
   "metadata": {},
   "outputs": [
    {
     "data": {
      "text/html": [
       "<div>\n",
       "<style scoped>\n",
       "    .dataframe tbody tr th:only-of-type {\n",
       "        vertical-align: middle;\n",
       "    }\n",
       "\n",
       "    .dataframe tbody tr th {\n",
       "        vertical-align: top;\n",
       "    }\n",
       "\n",
       "    .dataframe thead th {\n",
       "        text-align: right;\n",
       "    }\n",
       "</style>\n",
       "<table border=\"1\" class=\"dataframe\">\n",
       "  <thead>\n",
       "    <tr style=\"text-align: right;\">\n",
       "      <th></th>\n",
       "      <th>date</th>\n",
       "      <th>PRC</th>\n",
       "      <th>earnings_per_share</th>\n",
       "      <th>total_assets</th>\n",
       "      <th>current_assets</th>\n",
       "      <th>total_liabilities</th>\n",
       "      <th>current_liabilities</th>\n",
       "      <th>revenue</th>\n",
       "      <th>net_income</th>\n",
       "      <th>net_profit_margin</th>\n",
       "      <th>debt_equity_ratio</th>\n",
       "      <th>current_ratio</th>\n",
       "      <th>price_to_book_ratio</th>\n",
       "      <th>book_value</th>\n",
       "      <th>price_to_earnings_ratio</th>\n",
       "    </tr>\n",
       "  </thead>\n",
       "  <tbody>\n",
       "    <tr>\n",
       "      <th>0</th>\n",
       "      <td>1971-12-31</td>\n",
       "      <td>73.750</td>\n",
       "      <td>1.94</td>\n",
       "      <td>20315.199</td>\n",
       "      <td>6790.504</td>\n",
       "      <td>8228.082</td>\n",
       "      <td>4329.738</td>\n",
       "      <td>4971.629</td>\n",
       "      <td>378.562</td>\n",
       "      <td>0.081</td>\n",
       "      <td>0.710</td>\n",
       "      <td>1.568</td>\n",
       "      <td>1.282</td>\n",
       "      <td>12087.117</td>\n",
       "      <td>38.015464</td>\n",
       "    </tr>\n",
       "    <tr>\n",
       "      <th>1</th>\n",
       "      <td>1972-12-31</td>\n",
       "      <td>87.500</td>\n",
       "      <td>2.19</td>\n",
       "      <td>21558.297</td>\n",
       "      <td>7098.578</td>\n",
       "      <td>8752.382</td>\n",
       "      <td>4707.105</td>\n",
       "      <td>5471.750</td>\n",
       "      <td>492.770</td>\n",
       "      <td>0.075</td>\n",
       "      <td>0.713</td>\n",
       "      <td>1.508</td>\n",
       "      <td>1.658</td>\n",
       "      <td>12805.915</td>\n",
       "      <td>39.954338</td>\n",
       "    </tr>\n",
       "    <tr>\n",
       "      <th>2</th>\n",
       "      <td>1973-12-31</td>\n",
       "      <td>94.125</td>\n",
       "      <td>3.51</td>\n",
       "      <td>25079.500</td>\n",
       "      <td>9793.512</td>\n",
       "      <td>10770.659</td>\n",
       "      <td>6307.887</td>\n",
       "      <td>7582.316</td>\n",
       "      <td>787.286</td>\n",
       "      <td>0.095</td>\n",
       "      <td>0.785</td>\n",
       "      <td>1.553</td>\n",
       "      <td>1.169</td>\n",
       "      <td>14308.841</td>\n",
       "      <td>26.816239</td>\n",
       "    </tr>\n",
       "    <tr>\n",
       "      <th>3</th>\n",
       "      <td>1974-12-31</td>\n",
       "      <td>64.625</td>\n",
       "      <td>3.85</td>\n",
       "      <td>31332.398</td>\n",
       "      <td>14852.797</td>\n",
       "      <td>14923.736</td>\n",
       "      <td>9531.973</td>\n",
       "      <td>11552.797</td>\n",
       "      <td>862.192</td>\n",
       "      <td>0.075</td>\n",
       "      <td>0.949</td>\n",
       "      <td>1.558</td>\n",
       "      <td>1.050</td>\n",
       "      <td>16408.662</td>\n",
       "      <td>16.785714</td>\n",
       "    </tr>\n",
       "    <tr>\n",
       "      <th>4</th>\n",
       "      <td>1975-03-31</td>\n",
       "      <td>74.000</td>\n",
       "      <td>2.67</td>\n",
       "      <td>30880.008</td>\n",
       "      <td>14153.004</td>\n",
       "      <td>14932.004</td>\n",
       "      <td>8659.000</td>\n",
       "      <td>10921.000</td>\n",
       "      <td>596.000</td>\n",
       "      <td>0.070</td>\n",
       "      <td>0.968</td>\n",
       "      <td>1.595</td>\n",
       "      <td>1.220</td>\n",
       "      <td>15948.004</td>\n",
       "      <td>27.715356</td>\n",
       "    </tr>\n",
       "  </tbody>\n",
       "</table>\n",
       "</div>"
      ],
      "text/plain": [
       "        date     PRC  earnings_per_share  total_assets  current_assets  \\\n",
       "0 1971-12-31  73.750                1.94     20315.199        6790.504   \n",
       "1 1972-12-31  87.500                2.19     21558.297        7098.578   \n",
       "2 1973-12-31  94.125                3.51     25079.500        9793.512   \n",
       "3 1974-12-31  64.625                3.85     31332.398       14852.797   \n",
       "4 1975-03-31  74.000                2.67     30880.008       14153.004   \n",
       "\n",
       "   total_liabilities  current_liabilities    revenue  net_income  \\\n",
       "0           8228.082             4329.738   4971.629     378.562   \n",
       "1           8752.382             4707.105   5471.750     492.770   \n",
       "2          10770.659             6307.887   7582.316     787.286   \n",
       "3          14923.736             9531.973  11552.797     862.192   \n",
       "4          14932.004             8659.000  10921.000     596.000   \n",
       "\n",
       "   net_profit_margin  debt_equity_ratio  current_ratio  price_to_book_ratio  \\\n",
       "0              0.081              0.710          1.568                1.282   \n",
       "1              0.075              0.713          1.508                1.658   \n",
       "2              0.095              0.785          1.553                1.169   \n",
       "3              0.075              0.949          1.558                1.050   \n",
       "4              0.070              0.968          1.595                1.220   \n",
       "\n",
       "   book_value  price_to_earnings_ratio  \n",
       "0   12087.117                38.015464  \n",
       "1   12805.915                39.954338  \n",
       "2   14308.841                26.816239  \n",
       "3   16408.662                16.785714  \n",
       "4   15948.004                27.715356  "
      ]
     },
     "execution_count": 1157,
     "metadata": {},
     "output_type": "execute_result"
    }
   ],
   "source": [
    "\n",
    "file_path_1 = '/Users/edocampione/Desktop/Meng Engineering Science/4YP/data/ExxonMobil_CRSP_daily_data_alltime.csv' # Daily data (CRSP)\n",
    "file_path_2 = '/Users/edocampione/Desktop/Meng Engineering Science/4YP/data/ExxonMobil_Compustat_q_data_alltime.csv' # Fundamentals (Compustat)\n",
    "file_path_3 = '/Users/edocampione/Desktop/Meng Engineering Science/4YP/data/ExxonMobil_Compustat_quarterly_ratiodata_alltime.csv' # Ratios (Compustat)\n",
    "\n",
    "df1 = pd.read_csv(file_path_1)\n",
    "df2 = pd.read_csv(file_path_2)\n",
    "df3 = pd.read_csv(file_path_3)\n",
    "\n",
    "df1['date'] = pd.to_datetime(df1['date']) # daily technical data\n",
    "df2['datadate'] = pd.to_datetime(df2['datadate'])  # Fundamental data\n",
    "df3['qdate'] = pd.to_datetime(df3['qdate'])  # Financial ratios data\n",
    "\n",
    "\n",
    "# Sort by qdate and public_date to ensure the most recent public_date comes last\n",
    "df3 = df3.sort_values(by=['qdate', 'public_date'])\n",
    "# Drop duplicates to keep only the latest public_date for each qdate\n",
    "df3 = df3.drop_duplicates(subset='qdate', keep='last')\n",
    "\n",
    "df = pd.merge(\n",
    "    df2,  \n",
    "    df3,  \n",
    "    left_on='datadate', right_on='qdate',  # Merge on dates\n",
    "    how='left'\n",
    ")\n",
    "\n",
    "df1_quarterly = df1.set_index('date').resample('Q').last().reset_index()\n",
    "df1_quarterly = df1_quarterly[['date', 'PRC']]\n",
    "\n",
    "df = pd.merge_asof(\n",
    "    df1_quarterly,  # Daily data sorted by date\n",
    "    df,  # Fundamental data sorted by quarterly date\n",
    "    left_on='date', right_on='datadate',  # Merge on dates\n",
    "    direction='backward'  # Merge to the closest past quarter\n",
    ")\n",
    "\n",
    "features = ['PRC', 'epsfxq', 'atq', 'actq', 'ltq', 'lctq', 'chq', 'revtq', 'niq', 'capxy', 'npm', 'de_ratio', 'curr_ratio', 'ptb']\n",
    "\n",
    "feature_renames = {\n",
    "    'epsfxq': 'earnings_per_share', \n",
    "    'atq': 'total_assets',\n",
    "    'actq': 'current_assets',\n",
    "    'ltq': 'total_liabilities', \n",
    "    'lctq': 'current_liabilities',\n",
    "    'niq': 'net_income', \n",
    "    'revtq': 'revenue', \n",
    "    'chq': 'cash',\n",
    "    'capxy': 'capital_expenditures', \n",
    "    'npm': 'net_profit_margin', \n",
    "    'de_ratio': 'debt_equity_ratio', \n",
    "    'curr_ratio': 'current_ratio', \n",
    "    'ptb': 'price_to_book_ratio'\n",
    "}\n",
    "\n",
    "#df_fundamental[features] = df_fundamental[features].pct_change()\n",
    "df = df[(df['date'] >= start_date) & (df['date'] <= end_date)].copy()\n",
    "\n",
    "df = df[['date'] + features].rename(columns=feature_renames)\n",
    "df['book_value'] = df['total_assets'] - df['total_liabilities']\n",
    "df['price_to_earnings_ratio'] = df['PRC'] / df['earnings_per_share']\n",
    "df = df.drop(columns=['cash'])\n",
    "df = df.drop(columns=['capital_expenditures'])\n",
    "\n",
    "df = df.dropna()\n",
    "\n",
    "df.index = range(len(df))\n",
    "\n",
    "df.head()\n",
    "\n",
    "#\n"
   ]
  },
  {
   "cell_type": "code",
   "execution_count": 1158,
   "metadata": {},
   "outputs": [
    {
     "data": {
      "text/html": [
       "<div>\n",
       "<style scoped>\n",
       "    .dataframe tbody tr th:only-of-type {\n",
       "        vertical-align: middle;\n",
       "    }\n",
       "\n",
       "    .dataframe tbody tr th {\n",
       "        vertical-align: top;\n",
       "    }\n",
       "\n",
       "    .dataframe thead th {\n",
       "        text-align: right;\n",
       "    }\n",
       "</style>\n",
       "<table border=\"1\" class=\"dataframe\">\n",
       "  <thead>\n",
       "    <tr style=\"text-align: right;\">\n",
       "      <th></th>\n",
       "      <th>date</th>\n",
       "      <th>PRC</th>\n",
       "      <th>earnings_per_share</th>\n",
       "      <th>total_assets</th>\n",
       "      <th>current_assets</th>\n",
       "      <th>total_liabilities</th>\n",
       "      <th>current_liabilities</th>\n",
       "      <th>revenue</th>\n",
       "      <th>net_income</th>\n",
       "      <th>net_profit_margin</th>\n",
       "      <th>debt_equity_ratio</th>\n",
       "      <th>current_ratio</th>\n",
       "      <th>price_to_book_ratio</th>\n",
       "      <th>book_value</th>\n",
       "      <th>price_to_earnings_ratio</th>\n",
       "    </tr>\n",
       "  </thead>\n",
       "  <tbody>\n",
       "    <tr>\n",
       "      <th>0</th>\n",
       "      <td>1971-12-31</td>\n",
       "      <td>NaN</td>\n",
       "      <td>NaN</td>\n",
       "      <td>NaN</td>\n",
       "      <td>NaN</td>\n",
       "      <td>NaN</td>\n",
       "      <td>NaN</td>\n",
       "      <td>NaN</td>\n",
       "      <td>NaN</td>\n",
       "      <td>NaN</td>\n",
       "      <td>NaN</td>\n",
       "      <td>NaN</td>\n",
       "      <td>NaN</td>\n",
       "      <td>NaN</td>\n",
       "      <td>NaN</td>\n",
       "    </tr>\n",
       "    <tr>\n",
       "      <th>1</th>\n",
       "      <td>1972-12-31</td>\n",
       "      <td>0.186441</td>\n",
       "      <td>0.128866</td>\n",
       "      <td>0.061191</td>\n",
       "      <td>0.045368</td>\n",
       "      <td>0.063721</td>\n",
       "      <td>0.087157</td>\n",
       "      <td>0.100595</td>\n",
       "      <td>0.301689</td>\n",
       "      <td>-0.074074</td>\n",
       "      <td>0.004225</td>\n",
       "      <td>-0.038265</td>\n",
       "      <td>0.293292</td>\n",
       "      <td>0.059468</td>\n",
       "      <td>0.051002</td>\n",
       "    </tr>\n",
       "    <tr>\n",
       "      <th>2</th>\n",
       "      <td>1973-12-31</td>\n",
       "      <td>0.075714</td>\n",
       "      <td>0.602740</td>\n",
       "      <td>0.163334</td>\n",
       "      <td>0.379644</td>\n",
       "      <td>0.230597</td>\n",
       "      <td>0.340078</td>\n",
       "      <td>0.385720</td>\n",
       "      <td>0.597674</td>\n",
       "      <td>0.266667</td>\n",
       "      <td>0.100982</td>\n",
       "      <td>0.029841</td>\n",
       "      <td>-0.294934</td>\n",
       "      <td>0.117362</td>\n",
       "      <td>-0.328828</td>\n",
       "    </tr>\n",
       "    <tr>\n",
       "      <th>3</th>\n",
       "      <td>1974-12-31</td>\n",
       "      <td>-0.313413</td>\n",
       "      <td>0.096866</td>\n",
       "      <td>0.249323</td>\n",
       "      <td>0.516596</td>\n",
       "      <td>0.385592</td>\n",
       "      <td>0.511120</td>\n",
       "      <td>0.523650</td>\n",
       "      <td>0.095145</td>\n",
       "      <td>-0.210526</td>\n",
       "      <td>0.208917</td>\n",
       "      <td>0.003220</td>\n",
       "      <td>-0.101796</td>\n",
       "      <td>0.146750</td>\n",
       "      <td>-0.374047</td>\n",
       "    </tr>\n",
       "    <tr>\n",
       "      <th>4</th>\n",
       "      <td>1975-03-31</td>\n",
       "      <td>0.145068</td>\n",
       "      <td>-0.306494</td>\n",
       "      <td>-0.014438</td>\n",
       "      <td>-0.047115</td>\n",
       "      <td>0.000554</td>\n",
       "      <td>-0.091584</td>\n",
       "      <td>-0.054688</td>\n",
       "      <td>-0.308739</td>\n",
       "      <td>-0.066667</td>\n",
       "      <td>0.020021</td>\n",
       "      <td>0.023748</td>\n",
       "      <td>0.161905</td>\n",
       "      <td>-0.028074</td>\n",
       "      <td>0.651128</td>\n",
       "    </tr>\n",
       "  </tbody>\n",
       "</table>\n",
       "</div>"
      ],
      "text/plain": [
       "        date       PRC  earnings_per_share  total_assets  current_assets  \\\n",
       "0 1971-12-31       NaN                 NaN           NaN             NaN   \n",
       "1 1972-12-31  0.186441            0.128866      0.061191        0.045368   \n",
       "2 1973-12-31  0.075714            0.602740      0.163334        0.379644   \n",
       "3 1974-12-31 -0.313413            0.096866      0.249323        0.516596   \n",
       "4 1975-03-31  0.145068           -0.306494     -0.014438       -0.047115   \n",
       "\n",
       "   total_liabilities  current_liabilities   revenue  net_income  \\\n",
       "0                NaN                  NaN       NaN         NaN   \n",
       "1           0.063721             0.087157  0.100595    0.301689   \n",
       "2           0.230597             0.340078  0.385720    0.597674   \n",
       "3           0.385592             0.511120  0.523650    0.095145   \n",
       "4           0.000554            -0.091584 -0.054688   -0.308739   \n",
       "\n",
       "   net_profit_margin  debt_equity_ratio  current_ratio  price_to_book_ratio  \\\n",
       "0                NaN                NaN            NaN                  NaN   \n",
       "1          -0.074074           0.004225      -0.038265             0.293292   \n",
       "2           0.266667           0.100982       0.029841            -0.294934   \n",
       "3          -0.210526           0.208917       0.003220            -0.101796   \n",
       "4          -0.066667           0.020021       0.023748             0.161905   \n",
       "\n",
       "   book_value  price_to_earnings_ratio  \n",
       "0         NaN                      NaN  \n",
       "1    0.059468                 0.051002  \n",
       "2    0.117362                -0.328828  \n",
       "3    0.146750                -0.374047  \n",
       "4   -0.028074                 0.651128  "
      ]
     },
     "execution_count": 1158,
     "metadata": {},
     "output_type": "execute_result"
    }
   ],
   "source": [
    "# Convert Features into Percentage changes\n",
    "\n",
    "df.loc[:, df.columns != 'date'] = df.loc[:, df.columns != 'date'].pct_change()\n",
    "\n",
    "df.head()"
   ]
  },
  {
   "cell_type": "code",
   "execution_count": 1159,
   "metadata": {},
   "outputs": [
    {
     "data": {
      "text/html": [
       "<div>\n",
       "<style scoped>\n",
       "    .dataframe tbody tr th:only-of-type {\n",
       "        vertical-align: middle;\n",
       "    }\n",
       "\n",
       "    .dataframe tbody tr th {\n",
       "        vertical-align: top;\n",
       "    }\n",
       "\n",
       "    .dataframe thead th {\n",
       "        text-align: right;\n",
       "    }\n",
       "</style>\n",
       "<table border=\"1\" class=\"dataframe\">\n",
       "  <thead>\n",
       "    <tr style=\"text-align: right;\">\n",
       "      <th></th>\n",
       "      <th>date</th>\n",
       "      <th>earnings_per_share</th>\n",
       "      <th>total_assets</th>\n",
       "      <th>current_assets</th>\n",
       "      <th>total_liabilities</th>\n",
       "      <th>current_liabilities</th>\n",
       "      <th>revenue</th>\n",
       "      <th>net_income</th>\n",
       "      <th>net_profit_margin</th>\n",
       "      <th>debt_equity_ratio</th>\n",
       "      <th>current_ratio</th>\n",
       "      <th>price_to_book_ratio</th>\n",
       "      <th>book_value</th>\n",
       "      <th>price_to_earnings_ratio</th>\n",
       "      <th>relative_quarterly_return</th>\n",
       "      <th>target</th>\n",
       "    </tr>\n",
       "  </thead>\n",
       "  <tbody>\n",
       "    <tr>\n",
       "      <th>1</th>\n",
       "      <td>1972-12-31</td>\n",
       "      <td>0.128866</td>\n",
       "      <td>0.061191</td>\n",
       "      <td>0.045368</td>\n",
       "      <td>0.063721</td>\n",
       "      <td>0.087157</td>\n",
       "      <td>0.100595</td>\n",
       "      <td>0.301689</td>\n",
       "      <td>-0.074074</td>\n",
       "      <td>0.004225</td>\n",
       "      <td>-0.038265</td>\n",
       "      <td>0.293292</td>\n",
       "      <td>0.059468</td>\n",
       "      <td>0.051002</td>\n",
       "      <td>3.010803</td>\n",
       "      <td>24.936952</td>\n",
       "    </tr>\n",
       "    <tr>\n",
       "      <th>2</th>\n",
       "      <td>1973-12-31</td>\n",
       "      <td>0.602740</td>\n",
       "      <td>0.163334</td>\n",
       "      <td>0.379644</td>\n",
       "      <td>0.230597</td>\n",
       "      <td>0.340078</td>\n",
       "      <td>0.385720</td>\n",
       "      <td>0.597674</td>\n",
       "      <td>0.266667</td>\n",
       "      <td>0.100982</td>\n",
       "      <td>0.029841</td>\n",
       "      <td>-0.294934</td>\n",
       "      <td>0.117362</td>\n",
       "      <td>-0.328828</td>\n",
       "      <td>24.936952</td>\n",
       "      <td>-1.623208</td>\n",
       "    </tr>\n",
       "    <tr>\n",
       "      <th>3</th>\n",
       "      <td>1974-12-31</td>\n",
       "      <td>0.096866</td>\n",
       "      <td>0.249323</td>\n",
       "      <td>0.516596</td>\n",
       "      <td>0.385592</td>\n",
       "      <td>0.511120</td>\n",
       "      <td>0.523650</td>\n",
       "      <td>0.095145</td>\n",
       "      <td>-0.210526</td>\n",
       "      <td>0.208917</td>\n",
       "      <td>0.003220</td>\n",
       "      <td>-0.101796</td>\n",
       "      <td>0.146750</td>\n",
       "      <td>-0.374047</td>\n",
       "      <td>-1.623208</td>\n",
       "      <td>-7.080161</td>\n",
       "    </tr>\n",
       "    <tr>\n",
       "      <th>4</th>\n",
       "      <td>1975-03-31</td>\n",
       "      <td>-0.306494</td>\n",
       "      <td>-0.014438</td>\n",
       "      <td>-0.047115</td>\n",
       "      <td>0.000554</td>\n",
       "      <td>-0.091584</td>\n",
       "      <td>-0.054688</td>\n",
       "      <td>-0.308739</td>\n",
       "      <td>-0.066667</td>\n",
       "      <td>0.020021</td>\n",
       "      <td>0.023748</td>\n",
       "      <td>0.161905</td>\n",
       "      <td>-0.028074</td>\n",
       "      <td>0.651128</td>\n",
       "      <td>-7.080161</td>\n",
       "      <td>10.808541</td>\n",
       "    </tr>\n",
       "    <tr>\n",
       "      <th>5</th>\n",
       "      <td>1975-06-30</td>\n",
       "      <td>0.022472</td>\n",
       "      <td>0.014832</td>\n",
       "      <td>-0.013566</td>\n",
       "      <td>0.008304</td>\n",
       "      <td>0.012473</td>\n",
       "      <td>-0.017581</td>\n",
       "      <td>0.025168</td>\n",
       "      <td>-0.071429</td>\n",
       "      <td>-0.020661</td>\n",
       "      <td>-0.000627</td>\n",
       "      <td>0.003279</td>\n",
       "      <td>0.020943</td>\n",
       "      <td>0.222527</td>\n",
       "      <td>10.808541</td>\n",
       "      <td>6.486600</td>\n",
       "    </tr>\n",
       "  </tbody>\n",
       "</table>\n",
       "</div>"
      ],
      "text/plain": [
       "        date  earnings_per_share  total_assets  current_assets  \\\n",
       "1 1972-12-31            0.128866      0.061191        0.045368   \n",
       "2 1973-12-31            0.602740      0.163334        0.379644   \n",
       "3 1974-12-31            0.096866      0.249323        0.516596   \n",
       "4 1975-03-31           -0.306494     -0.014438       -0.047115   \n",
       "5 1975-06-30            0.022472      0.014832       -0.013566   \n",
       "\n",
       "   total_liabilities  current_liabilities   revenue  net_income  \\\n",
       "1           0.063721             0.087157  0.100595    0.301689   \n",
       "2           0.230597             0.340078  0.385720    0.597674   \n",
       "3           0.385592             0.511120  0.523650    0.095145   \n",
       "4           0.000554            -0.091584 -0.054688   -0.308739   \n",
       "5           0.008304             0.012473 -0.017581    0.025168   \n",
       "\n",
       "   net_profit_margin  debt_equity_ratio  current_ratio  price_to_book_ratio  \\\n",
       "1          -0.074074           0.004225      -0.038265             0.293292   \n",
       "2           0.266667           0.100982       0.029841            -0.294934   \n",
       "3          -0.210526           0.208917       0.003220            -0.101796   \n",
       "4          -0.066667           0.020021       0.023748             0.161905   \n",
       "5          -0.071429          -0.020661      -0.000627             0.003279   \n",
       "\n",
       "   book_value  price_to_earnings_ratio  relative_quarterly_return     target  \n",
       "1    0.059468                 0.051002                   3.010803  24.936952  \n",
       "2    0.117362                -0.328828                  24.936952  -1.623208  \n",
       "3    0.146750                -0.374047                  -1.623208  -7.080161  \n",
       "4   -0.028074                 0.651128                  -7.080161  10.808541  \n",
       "5    0.020943                 0.222527                  10.808541   6.486600  "
      ]
     },
     "execution_count": 1159,
     "metadata": {},
     "output_type": "execute_result"
    }
   ],
   "source": [
    "file_path_4 = '/Users/edocampione/Desktop/Meng Engineering Science/4YP/data/s&p500index.csv' # Ratios (Compustat)\n",
    "df4 = pd.read_csv(file_path_4)\n",
    "df4['caldt'] = pd.to_datetime(df4['caldt'])  # Adjust column name if needed\n",
    "\n",
    "#merge (fill empty cells with nearest s&p500 value)\n",
    "df = pd.merge_asof(df, df4, left_on='date', right_on='caldt', direction='nearest')\n",
    "df = df.drop(columns=['caldt'])\n",
    "\n",
    "# convert to pct\n",
    "df['spindx'] = df['spindx'].pct_change()\n",
    "\n",
    "# calculate relative returns\n",
    "df['relative_quarterly_return'] = (df['PRC'] - df['spindx'])*100\n",
    "df = df.drop(columns=['PRC', 'spindx'])\n",
    "\n",
    "# prediction target is return of next quarter\n",
    "df['target'] = df['relative_quarterly_return'].shift(-1)\n",
    "\n",
    "df = df.dropna()\n",
    "\n",
    "df.head()"
   ]
  },
  {
   "cell_type": "code",
   "execution_count": 1160,
   "metadata": {},
   "outputs": [
    {
     "data": {
      "text/html": [
       "<div>\n",
       "<style scoped>\n",
       "    .dataframe tbody tr th:only-of-type {\n",
       "        vertical-align: middle;\n",
       "    }\n",
       "\n",
       "    .dataframe tbody tr th {\n",
       "        vertical-align: top;\n",
       "    }\n",
       "\n",
       "    .dataframe thead th {\n",
       "        text-align: right;\n",
       "    }\n",
       "</style>\n",
       "<table border=\"1\" class=\"dataframe\">\n",
       "  <thead>\n",
       "    <tr style=\"text-align: right;\">\n",
       "      <th></th>\n",
       "      <th>date</th>\n",
       "      <th>earnings_per_share</th>\n",
       "      <th>total_assets</th>\n",
       "      <th>current_assets</th>\n",
       "      <th>total_liabilities</th>\n",
       "      <th>current_liabilities</th>\n",
       "      <th>revenue</th>\n",
       "      <th>net_income</th>\n",
       "      <th>net_profit_margin</th>\n",
       "      <th>debt_equity_ratio</th>\n",
       "      <th>current_ratio</th>\n",
       "      <th>price_to_book_ratio</th>\n",
       "      <th>book_value</th>\n",
       "      <th>price_to_earnings_ratio</th>\n",
       "      <th>relative_quarterly_return</th>\n",
       "      <th>target</th>\n",
       "    </tr>\n",
       "  </thead>\n",
       "  <tbody>\n",
       "    <tr>\n",
       "      <th>1</th>\n",
       "      <td>1972-12-31</td>\n",
       "      <td>0.128866</td>\n",
       "      <td>0.061191</td>\n",
       "      <td>0.045368</td>\n",
       "      <td>0.063721</td>\n",
       "      <td>0.087157</td>\n",
       "      <td>0.100595</td>\n",
       "      <td>0.301689</td>\n",
       "      <td>-0.074074</td>\n",
       "      <td>0.004225</td>\n",
       "      <td>-0.038265</td>\n",
       "      <td>0.293292</td>\n",
       "      <td>0.059468</td>\n",
       "      <td>0.051002</td>\n",
       "      <td>3.010803</td>\n",
       "      <td>24.936952</td>\n",
       "    </tr>\n",
       "    <tr>\n",
       "      <th>2</th>\n",
       "      <td>1973-12-31</td>\n",
       "      <td>0.602740</td>\n",
       "      <td>0.163334</td>\n",
       "      <td>0.379644</td>\n",
       "      <td>0.230597</td>\n",
       "      <td>0.340078</td>\n",
       "      <td>0.385720</td>\n",
       "      <td>0.597674</td>\n",
       "      <td>0.266667</td>\n",
       "      <td>0.100982</td>\n",
       "      <td>0.029841</td>\n",
       "      <td>-0.294934</td>\n",
       "      <td>0.117362</td>\n",
       "      <td>-0.328828</td>\n",
       "      <td>24.936952</td>\n",
       "      <td>-1.623208</td>\n",
       "    </tr>\n",
       "    <tr>\n",
       "      <th>3</th>\n",
       "      <td>1974-12-31</td>\n",
       "      <td>0.096866</td>\n",
       "      <td>0.249323</td>\n",
       "      <td>0.516596</td>\n",
       "      <td>0.385592</td>\n",
       "      <td>0.511120</td>\n",
       "      <td>0.523650</td>\n",
       "      <td>0.095145</td>\n",
       "      <td>-0.210526</td>\n",
       "      <td>0.208917</td>\n",
       "      <td>0.003220</td>\n",
       "      <td>-0.101796</td>\n",
       "      <td>0.146750</td>\n",
       "      <td>-0.374047</td>\n",
       "      <td>-1.623208</td>\n",
       "      <td>-7.080161</td>\n",
       "    </tr>\n",
       "    <tr>\n",
       "      <th>4</th>\n",
       "      <td>1975-03-31</td>\n",
       "      <td>-0.306494</td>\n",
       "      <td>-0.014438</td>\n",
       "      <td>-0.047115</td>\n",
       "      <td>0.000554</td>\n",
       "      <td>-0.091584</td>\n",
       "      <td>-0.054688</td>\n",
       "      <td>-0.308739</td>\n",
       "      <td>-0.066667</td>\n",
       "      <td>0.020021</td>\n",
       "      <td>0.023748</td>\n",
       "      <td>0.161905</td>\n",
       "      <td>-0.028074</td>\n",
       "      <td>0.651128</td>\n",
       "      <td>-7.080161</td>\n",
       "      <td>10.808541</td>\n",
       "    </tr>\n",
       "    <tr>\n",
       "      <th>5</th>\n",
       "      <td>1975-06-30</td>\n",
       "      <td>0.022472</td>\n",
       "      <td>0.014832</td>\n",
       "      <td>-0.013566</td>\n",
       "      <td>0.008304</td>\n",
       "      <td>0.012473</td>\n",
       "      <td>-0.017581</td>\n",
       "      <td>0.025168</td>\n",
       "      <td>-0.071429</td>\n",
       "      <td>-0.020661</td>\n",
       "      <td>-0.000627</td>\n",
       "      <td>0.003279</td>\n",
       "      <td>0.020943</td>\n",
       "      <td>0.222527</td>\n",
       "      <td>10.808541</td>\n",
       "      <td>6.486600</td>\n",
       "    </tr>\n",
       "  </tbody>\n",
       "</table>\n",
       "</div>"
      ],
      "text/plain": [
       "        date  earnings_per_share  total_assets  current_assets  \\\n",
       "1 1972-12-31            0.128866      0.061191        0.045368   \n",
       "2 1973-12-31            0.602740      0.163334        0.379644   \n",
       "3 1974-12-31            0.096866      0.249323        0.516596   \n",
       "4 1975-03-31           -0.306494     -0.014438       -0.047115   \n",
       "5 1975-06-30            0.022472      0.014832       -0.013566   \n",
       "\n",
       "   total_liabilities  current_liabilities   revenue  net_income  \\\n",
       "1           0.063721             0.087157  0.100595    0.301689   \n",
       "2           0.230597             0.340078  0.385720    0.597674   \n",
       "3           0.385592             0.511120  0.523650    0.095145   \n",
       "4           0.000554            -0.091584 -0.054688   -0.308739   \n",
       "5           0.008304             0.012473 -0.017581    0.025168   \n",
       "\n",
       "   net_profit_margin  debt_equity_ratio  current_ratio  price_to_book_ratio  \\\n",
       "1          -0.074074           0.004225      -0.038265             0.293292   \n",
       "2           0.266667           0.100982       0.029841            -0.294934   \n",
       "3          -0.210526           0.208917       0.003220            -0.101796   \n",
       "4          -0.066667           0.020021       0.023748             0.161905   \n",
       "5          -0.071429          -0.020661      -0.000627             0.003279   \n",
       "\n",
       "   book_value  price_to_earnings_ratio  relative_quarterly_return     target  \n",
       "1    0.059468                 0.051002                   3.010803  24.936952  \n",
       "2    0.117362                -0.328828                  24.936952  -1.623208  \n",
       "3    0.146750                -0.374047                  -1.623208  -7.080161  \n",
       "4   -0.028074                 0.651128                  -7.080161  10.808541  \n",
       "5    0.020943                 0.222527                  10.808541   6.486600  "
      ]
     },
     "execution_count": 1160,
     "metadata": {},
     "output_type": "execute_result"
    }
   ],
   "source": [
    "test_size  = 0.15\n",
    "valid_size = 0.0\n",
    "\n",
    "test_split_idx  = int(df.shape[0] * (1-test_size))\n",
    "valid_split_idx = int(df.shape[0] * (1-(valid_size+test_size)))\n",
    "\n",
    "train_df  = df.loc[:valid_split_idx].copy()\n",
    "valid_df  = df.loc[valid_split_idx+1:test_split_idx].copy()\n",
    "test_df   = df.loc[test_split_idx+1:].copy()\n",
    "\n",
    "# save test dates\n",
    "test_dates = test_df['date']\n",
    "\n",
    "train_df.head()"
   ]
  },
  {
   "cell_type": "code",
   "execution_count": 1161,
   "metadata": {},
   "outputs": [
    {
     "data": {
      "text/html": [
       "<div>\n",
       "<style scoped>\n",
       "    .dataframe tbody tr th:only-of-type {\n",
       "        vertical-align: middle;\n",
       "    }\n",
       "\n",
       "    .dataframe tbody tr th {\n",
       "        vertical-align: top;\n",
       "    }\n",
       "\n",
       "    .dataframe thead th {\n",
       "        text-align: right;\n",
       "    }\n",
       "</style>\n",
       "<table border=\"1\" class=\"dataframe\">\n",
       "  <thead>\n",
       "    <tr style=\"text-align: right;\">\n",
       "      <th></th>\n",
       "      <th>earnings_per_share</th>\n",
       "      <th>total_assets</th>\n",
       "      <th>current_assets</th>\n",
       "      <th>total_liabilities</th>\n",
       "      <th>current_liabilities</th>\n",
       "      <th>revenue</th>\n",
       "      <th>net_income</th>\n",
       "      <th>net_profit_margin</th>\n",
       "      <th>debt_equity_ratio</th>\n",
       "      <th>current_ratio</th>\n",
       "      <th>price_to_book_ratio</th>\n",
       "      <th>book_value</th>\n",
       "      <th>price_to_earnings_ratio</th>\n",
       "      <th>relative_quarterly_return</th>\n",
       "    </tr>\n",
       "  </thead>\n",
       "  <tbody>\n",
       "    <tr>\n",
       "      <th>1</th>\n",
       "      <td>0.128866</td>\n",
       "      <td>0.061191</td>\n",
       "      <td>0.045368</td>\n",
       "      <td>0.063721</td>\n",
       "      <td>0.087157</td>\n",
       "      <td>0.100595</td>\n",
       "      <td>0.301689</td>\n",
       "      <td>-0.074074</td>\n",
       "      <td>0.004225</td>\n",
       "      <td>-0.038265</td>\n",
       "      <td>0.293292</td>\n",
       "      <td>0.059468</td>\n",
       "      <td>0.051002</td>\n",
       "      <td>3.010803</td>\n",
       "    </tr>\n",
       "    <tr>\n",
       "      <th>2</th>\n",
       "      <td>0.602740</td>\n",
       "      <td>0.163334</td>\n",
       "      <td>0.379644</td>\n",
       "      <td>0.230597</td>\n",
       "      <td>0.340078</td>\n",
       "      <td>0.385720</td>\n",
       "      <td>0.597674</td>\n",
       "      <td>0.266667</td>\n",
       "      <td>0.100982</td>\n",
       "      <td>0.029841</td>\n",
       "      <td>-0.294934</td>\n",
       "      <td>0.117362</td>\n",
       "      <td>-0.328828</td>\n",
       "      <td>24.936952</td>\n",
       "    </tr>\n",
       "    <tr>\n",
       "      <th>3</th>\n",
       "      <td>0.096866</td>\n",
       "      <td>0.249323</td>\n",
       "      <td>0.516596</td>\n",
       "      <td>0.385592</td>\n",
       "      <td>0.511120</td>\n",
       "      <td>0.523650</td>\n",
       "      <td>0.095145</td>\n",
       "      <td>-0.210526</td>\n",
       "      <td>0.208917</td>\n",
       "      <td>0.003220</td>\n",
       "      <td>-0.101796</td>\n",
       "      <td>0.146750</td>\n",
       "      <td>-0.374047</td>\n",
       "      <td>-1.623208</td>\n",
       "    </tr>\n",
       "    <tr>\n",
       "      <th>4</th>\n",
       "      <td>-0.306494</td>\n",
       "      <td>-0.014438</td>\n",
       "      <td>-0.047115</td>\n",
       "      <td>0.000554</td>\n",
       "      <td>-0.091584</td>\n",
       "      <td>-0.054688</td>\n",
       "      <td>-0.308739</td>\n",
       "      <td>-0.066667</td>\n",
       "      <td>0.020021</td>\n",
       "      <td>0.023748</td>\n",
       "      <td>0.161905</td>\n",
       "      <td>-0.028074</td>\n",
       "      <td>0.651128</td>\n",
       "      <td>-7.080161</td>\n",
       "    </tr>\n",
       "    <tr>\n",
       "      <th>5</th>\n",
       "      <td>0.022472</td>\n",
       "      <td>0.014832</td>\n",
       "      <td>-0.013566</td>\n",
       "      <td>0.008304</td>\n",
       "      <td>0.012473</td>\n",
       "      <td>-0.017581</td>\n",
       "      <td>0.025168</td>\n",
       "      <td>-0.071429</td>\n",
       "      <td>-0.020661</td>\n",
       "      <td>-0.000627</td>\n",
       "      <td>0.003279</td>\n",
       "      <td>0.020943</td>\n",
       "      <td>0.222527</td>\n",
       "      <td>10.808541</td>\n",
       "    </tr>\n",
       "  </tbody>\n",
       "</table>\n",
       "</div>"
      ],
      "text/plain": [
       "   earnings_per_share  total_assets  current_assets  total_liabilities  \\\n",
       "1            0.128866      0.061191        0.045368           0.063721   \n",
       "2            0.602740      0.163334        0.379644           0.230597   \n",
       "3            0.096866      0.249323        0.516596           0.385592   \n",
       "4           -0.306494     -0.014438       -0.047115           0.000554   \n",
       "5            0.022472      0.014832       -0.013566           0.008304   \n",
       "\n",
       "   current_liabilities   revenue  net_income  net_profit_margin  \\\n",
       "1             0.087157  0.100595    0.301689          -0.074074   \n",
       "2             0.340078  0.385720    0.597674           0.266667   \n",
       "3             0.511120  0.523650    0.095145          -0.210526   \n",
       "4            -0.091584 -0.054688   -0.308739          -0.066667   \n",
       "5             0.012473 -0.017581    0.025168          -0.071429   \n",
       "\n",
       "   debt_equity_ratio  current_ratio  price_to_book_ratio  book_value  \\\n",
       "1           0.004225      -0.038265             0.293292    0.059468   \n",
       "2           0.100982       0.029841            -0.294934    0.117362   \n",
       "3           0.208917       0.003220            -0.101796    0.146750   \n",
       "4           0.020021       0.023748             0.161905   -0.028074   \n",
       "5          -0.020661      -0.000627             0.003279    0.020943   \n",
       "\n",
       "   price_to_earnings_ratio  relative_quarterly_return  \n",
       "1                 0.051002                   3.010803  \n",
       "2                -0.328828                  24.936952  \n",
       "3                -0.374047                  -1.623208  \n",
       "4                 0.651128                  -7.080161  \n",
       "5                 0.222527                  10.808541  "
      ]
     },
     "execution_count": 1161,
     "metadata": {},
     "output_type": "execute_result"
    }
   ],
   "source": [
    "y_train = train_df['target'].copy()\n",
    "X_train = train_df.drop(['target', 'date'], 1)\n",
    "\n",
    "y_valid = valid_df['target'].copy()\n",
    "X_valid = valid_df.drop(['target', 'date'], 1)\n",
    "\n",
    "y_test  = test_df['target'].copy()\n",
    "X_test  = test_df.drop(['target', 'date'], 1)\n",
    "\n",
    "X_train.head()"
   ]
  },
  {
   "cell_type": "code",
   "execution_count": 1162,
   "metadata": {},
   "outputs": [
    {
     "data": {
      "text/html": [
       "<div>\n",
       "<style scoped>\n",
       "    .dataframe tbody tr th:only-of-type {\n",
       "        vertical-align: middle;\n",
       "    }\n",
       "\n",
       "    .dataframe tbody tr th {\n",
       "        vertical-align: top;\n",
       "    }\n",
       "\n",
       "    .dataframe thead th {\n",
       "        text-align: right;\n",
       "    }\n",
       "</style>\n",
       "<table border=\"1\" class=\"dataframe\">\n",
       "  <thead>\n",
       "    <tr style=\"text-align: right;\">\n",
       "      <th></th>\n",
       "      <th>earnings_per_share</th>\n",
       "      <th>total_assets</th>\n",
       "      <th>current_assets</th>\n",
       "      <th>total_liabilities</th>\n",
       "      <th>current_liabilities</th>\n",
       "      <th>revenue</th>\n",
       "      <th>net_income</th>\n",
       "      <th>net_profit_margin</th>\n",
       "      <th>debt_equity_ratio</th>\n",
       "      <th>current_ratio</th>\n",
       "      <th>price_to_book_ratio</th>\n",
       "      <th>book_value</th>\n",
       "      <th>price_to_earnings_ratio</th>\n",
       "      <th>relative_quarterly_return</th>\n",
       "    </tr>\n",
       "  </thead>\n",
       "  <tbody>\n",
       "    <tr>\n",
       "      <th>162</th>\n",
       "      <td>0.093786</td>\n",
       "      <td>0.157039</td>\n",
       "      <td>0.154569</td>\n",
       "      <td>0.255017</td>\n",
       "      <td>0.237176</td>\n",
       "      <td>0.128785</td>\n",
       "      <td>0.096929</td>\n",
       "      <td>0.462617</td>\n",
       "      <td>0.429910</td>\n",
       "      <td>0.261080</td>\n",
       "      <td>0.485000</td>\n",
       "      <td>0.098747</td>\n",
       "      <td>0.119104</td>\n",
       "      <td>0.631863</td>\n",
       "    </tr>\n",
       "    <tr>\n",
       "      <th>163</th>\n",
       "      <td>0.083886</td>\n",
       "      <td>0.142347</td>\n",
       "      <td>0.210548</td>\n",
       "      <td>0.201927</td>\n",
       "      <td>0.130405</td>\n",
       "      <td>0.103001</td>\n",
       "      <td>0.088743</td>\n",
       "      <td>0.402840</td>\n",
       "      <td>0.297920</td>\n",
       "      <td>0.721928</td>\n",
       "      <td>0.384751</td>\n",
       "      <td>0.121533</td>\n",
       "      <td>0.123034</td>\n",
       "      <td>0.603737</td>\n",
       "    </tr>\n",
       "    <tr>\n",
       "      <th>164</th>\n",
       "      <td>0.097633</td>\n",
       "      <td>0.195611</td>\n",
       "      <td>0.274366</td>\n",
       "      <td>0.260145</td>\n",
       "      <td>0.297123</td>\n",
       "      <td>0.309250</td>\n",
       "      <td>0.101409</td>\n",
       "      <td>0.338894</td>\n",
       "      <td>0.387520</td>\n",
       "      <td>0.440297</td>\n",
       "      <td>0.491270</td>\n",
       "      <td>0.167253</td>\n",
       "      <td>0.113965</td>\n",
       "      <td>0.681105</td>\n",
       "    </tr>\n",
       "    <tr>\n",
       "      <th>165</th>\n",
       "      <td>0.118024</td>\n",
       "      <td>0.137468</td>\n",
       "      <td>0.166468</td>\n",
       "      <td>0.180306</td>\n",
       "      <td>0.199532</td>\n",
       "      <td>0.194201</td>\n",
       "      <td>0.122952</td>\n",
       "      <td>0.373949</td>\n",
       "      <td>0.396884</td>\n",
       "      <td>0.450706</td>\n",
       "      <td>0.416293</td>\n",
       "      <td>0.134138</td>\n",
       "      <td>0.084682</td>\n",
       "      <td>0.659852</td>\n",
       "    </tr>\n",
       "    <tr>\n",
       "      <th>166</th>\n",
       "      <td>0.072511</td>\n",
       "      <td>0.153626</td>\n",
       "      <td>0.153954</td>\n",
       "      <td>0.192667</td>\n",
       "      <td>0.241793</td>\n",
       "      <td>0.168904</td>\n",
       "      <td>0.076081</td>\n",
       "      <td>0.275947</td>\n",
       "      <td>0.256797</td>\n",
       "      <td>0.199697</td>\n",
       "      <td>0.592637</td>\n",
       "      <td>0.153072</td>\n",
       "      <td>0.162900</td>\n",
       "      <td>0.684324</td>\n",
       "    </tr>\n",
       "  </tbody>\n",
       "</table>\n",
       "</div>"
      ],
      "text/plain": [
       "     earnings_per_share  total_assets  current_assets  total_liabilities  \\\n",
       "162            0.093786      0.157039        0.154569           0.255017   \n",
       "163            0.083886      0.142347        0.210548           0.201927   \n",
       "164            0.097633      0.195611        0.274366           0.260145   \n",
       "165            0.118024      0.137468        0.166468           0.180306   \n",
       "166            0.072511      0.153626        0.153954           0.192667   \n",
       "\n",
       "     current_liabilities   revenue  net_income  net_profit_margin  \\\n",
       "162             0.237176  0.128785    0.096929           0.462617   \n",
       "163             0.130405  0.103001    0.088743           0.402840   \n",
       "164             0.297123  0.309250    0.101409           0.338894   \n",
       "165             0.199532  0.194201    0.122952           0.373949   \n",
       "166             0.241793  0.168904    0.076081           0.275947   \n",
       "\n",
       "     debt_equity_ratio  current_ratio  price_to_book_ratio  book_value  \\\n",
       "162           0.429910       0.261080             0.485000    0.098747   \n",
       "163           0.297920       0.721928             0.384751    0.121533   \n",
       "164           0.387520       0.440297             0.491270    0.167253   \n",
       "165           0.396884       0.450706             0.416293    0.134138   \n",
       "166           0.256797       0.199697             0.592637    0.153072   \n",
       "\n",
       "     price_to_earnings_ratio  relative_quarterly_return  \n",
       "162                 0.119104                   0.631863  \n",
       "163                 0.123034                   0.603737  \n",
       "164                 0.113965                   0.681105  \n",
       "165                 0.084682                   0.659852  \n",
       "166                 0.162900                   0.684324  "
      ]
     },
     "execution_count": 1162,
     "metadata": {},
     "output_type": "execute_result"
    }
   ],
   "source": [
    "# Scaling\n",
    "scaler = MinMaxScaler()\n",
    "\n",
    "# Fit the scaler on the training/validation data\n",
    "X_train_scaled = scaler.fit_transform(X_train)\n",
    "\n",
    "# Now apply the same scaling to the val/test data using the already fitted scaler\n",
    "#X_valid_scaled = scaler.transform(X_valid)\n",
    "X_test_scaled = scaler.transform(X_test)\n",
    "\n",
    "# Convert the scaled data back to DataFrame for consistency\n",
    "X_train_scaled = pd.DataFrame(X_train_scaled, columns=X_train.columns)\n",
    "#X_valid_scaled = pd.DataFrame(X_valid_scaled, columns=X_valid.columns)\n",
    "X_test_scaled = pd.DataFrame(X_test_scaled, columns=X_test.columns)\n",
    "\n",
    "X_train_scaled.tail()"
   ]
  },
  {
   "cell_type": "code",
   "execution_count": 1163,
   "metadata": {},
   "outputs": [
    {
     "name": "stdout",
     "output_type": "stream",
     "text": [
      "Train RMSE: 6.5057, R²: 0.6646\n",
      "Validation RMSE: 8.2602, R²: -0.1037\n",
      "Test RMSE: 15.0411, R²: -0.0571\n"
     ]
    }
   ],
   "source": [
    "'''\n",
    "parameters = {\n",
    "    'n_estimators': [100, 200, 300, 400],\n",
    "    'max_depth': [None],\n",
    "    'min_samples_split': [2],\n",
    "    'random_state': [42]\n",
    "    'n_jobs': [1]\n",
    "}\n",
    "\n",
    "'''\n",
    "\n",
    "# Initialize the model\n",
    "model = RandomForestRegressor(\n",
    "    n_estimators=100,  # Number of trees in the forest\n",
    "    max_depth=5,    # Allow trees to grow fully\n",
    "    min_samples_split=2,\n",
    "    min_samples_leaf=1,\n",
    "    random_state=42,   # For reproducibility\n",
    "    n_jobs=-1          # Use all available CPU cores\n",
    ")\n",
    "\n",
    "# Train the model\n",
    "model.fit(X_train_scaled, y_train)\n",
    "\n",
    "# Predictions\n",
    "y_train_pred = model.predict(X_train_scaled)\n",
    "#y_valid_pred = model.predict(X_valid_scaled)\n",
    "y_test_pred = model.predict(X_test_scaled)\n",
    "\n",
    "# Evaluate the model\n",
    "train_rmse = mean_squared_error(y_train, y_train_pred, squared=False)\n",
    "#valid_rmse = mean_squared_error(y_valid, y_valid_pred, squared=False)\n",
    "test_rmse = mean_squared_error(y_test, y_test_pred, squared=False)\n",
    "\n",
    "train_r2 = r2_score(y_train, y_train_pred)\n",
    "#valid_r2 = r2_score(y_valid, y_valid_pred)\n",
    "test_r2 = r2_score(y_test, y_test_pred)\n",
    "\n",
    "print(f\"Train RMSE: {train_rmse:.4f}, R²: {train_r2:.4f}\")\n",
    "print(f\"Validation RMSE: {valid_rmse:.4f}, R²: {valid_r2:.4f}\")\n",
    "print(f\"Test RMSE: {test_rmse:.4f}, R²: {test_r2:.4f}\")\n"
   ]
  },
  {
   "cell_type": "code",
   "execution_count": 1164,
   "metadata": {},
   "outputs": [
    {
     "name": "stdout",
     "output_type": "stream",
     "text": [
      "CPU times: user 8 µs, sys: 3 µs, total: 11 µs\n",
      "Wall time: 21 µs\n"
     ]
    },
    {
     "data": {
      "text/plain": [
       "\"\\nparameters = {\\n    'n_estimators': [100, 200, 300, 400],\\n    'learning_rate': [0.001, 0.005, 0.01, 0.05],\\n    'max_depth': [8, 10, 12, 15],\\n    'gamma': [0.00001, 0.0001, 0.001],\\n    'random_state': [42]\\n}\\n\\n\\nparameters = {\\n    'n_estimators': [100,200,300],\\n    'learning_rate': [0.05],\\n    'max_depth': [1,2,3,4],\\n    'gamma': [1,0.1,0.01],\\n    'random_state': [42]\\n}\\n\\neval_set = [(X_train_scaled, y_train), (X_valid_scaled, y_valid)]\\nmodel = xgb.XGBRegressor(eval_set=eval_set, objective='reg:squarederror', verbose=False)\\nclf = GridSearchCV(model, parameters)\\n\\nclf.fit(X_train_scaled, y_train)\\n\\nprint(f'Best params: {clf.best_params_}')\\nprint(f'Best validation score = {clf.best_score_}')\\n\\n\""
      ]
     },
     "execution_count": 1164,
     "metadata": {},
     "output_type": "execute_result"
    }
   ],
   "source": [
    "\n",
    "%%time\n",
    "'''\n",
    "parameters = {\n",
    "    'n_estimators': [100, 200, 300, 400],\n",
    "    'learning_rate': [0.001, 0.005, 0.01, 0.05],\n",
    "    'max_depth': [8, 10, 12, 15],\n",
    "    'gamma': [0.00001, 0.0001, 0.001],\n",
    "    'random_state': [42]\n",
    "}\n",
    "\n",
    "\n",
    "parameters = {\n",
    "    'n_estimators': [100,200,300],\n",
    "    'learning_rate': [0.05],\n",
    "    'max_depth': [1,2,3,4],\n",
    "    'gamma': [1,0.1,0.01],\n",
    "    'random_state': [42]\n",
    "}\n",
    "\n",
    "eval_set = [(X_train_scaled, y_train), (X_valid_scaled, y_valid)]\n",
    "model = xgb.XGBRegressor(eval_set=eval_set, objective='reg:squarederror', verbose=False)\n",
    "clf = GridSearchCV(model, parameters)\n",
    "\n",
    "clf.fit(X_train_scaled, y_train)\n",
    "\n",
    "print(f'Best params: {clf.best_params_}')\n",
    "print(f'Best validation score = {clf.best_score_}')\n",
    "\n",
    "'''\n",
    "\n"
   ]
  },
  {
   "cell_type": "code",
   "execution_count": 1165,
   "metadata": {},
   "outputs": [
    {
     "data": {
      "text/plain": [
       "\"\\n%%time\\n\\nmodel = xgb.XGBRegressor(**clf.best_params_, objective='reg:squarederror')\\nmodel.fit(X_train_scaled, y_train, eval_set=eval_set, verbose=False)\\n\\n\""
      ]
     },
     "execution_count": 1165,
     "metadata": {},
     "output_type": "execute_result"
    }
   ],
   "source": [
    "'''\n",
    "%%time\n",
    "\n",
    "model = xgb.XGBRegressor(**clf.best_params_, objective='reg:squarederror')\n",
    "model.fit(X_train_scaled, y_train, eval_set=eval_set, verbose=False)\n",
    "\n",
    "'''"
   ]
  },
  {
   "cell_type": "code",
   "execution_count": 1166,
   "metadata": {},
   "outputs": [],
   "source": [
    "#plot_importance(model);"
   ]
  },
  {
   "cell_type": "code",
   "execution_count": 1167,
   "metadata": {},
   "outputs": [
    {
     "name": "stdout",
     "output_type": "stream",
     "text": [
      "              precision    recall  f1-score   support\n",
      "\n",
      "           0       0.73      0.83      0.78        83\n",
      "           1       0.81      0.70      0.75        84\n",
      "\n",
      "    accuracy                           0.77       167\n",
      "   macro avg       0.77      0.77      0.77       167\n",
      "weighted avg       0.77      0.77      0.77       167\n",
      "\n"
     ]
    },
    {
     "data": {
      "text/html": [
       "<div>\n",
       "<style scoped>\n",
       "    .dataframe tbody tr th:only-of-type {\n",
       "        vertical-align: middle;\n",
       "    }\n",
       "\n",
       "    .dataframe tbody tr th {\n",
       "        vertical-align: top;\n",
       "    }\n",
       "\n",
       "    .dataframe thead th {\n",
       "        text-align: right;\n",
       "    }\n",
       "</style>\n",
       "<table border=\"1\" class=\"dataframe\">\n",
       "  <thead>\n",
       "    <tr style=\"text-align: right;\">\n",
       "      <th></th>\n",
       "      <th>date</th>\n",
       "      <th>earnings_per_share</th>\n",
       "      <th>total_assets</th>\n",
       "      <th>current_assets</th>\n",
       "      <th>total_liabilities</th>\n",
       "      <th>current_liabilities</th>\n",
       "      <th>revenue</th>\n",
       "      <th>net_income</th>\n",
       "      <th>net_profit_margin</th>\n",
       "      <th>debt_equity_ratio</th>\n",
       "      <th>current_ratio</th>\n",
       "      <th>price_to_book_ratio</th>\n",
       "      <th>book_value</th>\n",
       "      <th>price_to_earnings_ratio</th>\n",
       "      <th>relative_quarterly_return</th>\n",
       "      <th>target</th>\n",
       "      <th>y_pred</th>\n",
       "      <th>y_train_binary</th>\n",
       "      <th>y_pred_binary</th>\n",
       "    </tr>\n",
       "  </thead>\n",
       "  <tbody>\n",
       "    <tr>\n",
       "      <th>1</th>\n",
       "      <td>1972-12-31</td>\n",
       "      <td>0.128866</td>\n",
       "      <td>0.061191</td>\n",
       "      <td>0.045368</td>\n",
       "      <td>0.063721</td>\n",
       "      <td>0.087157</td>\n",
       "      <td>0.100595</td>\n",
       "      <td>0.301689</td>\n",
       "      <td>-0.074074</td>\n",
       "      <td>0.004225</td>\n",
       "      <td>-0.038265</td>\n",
       "      <td>0.293292</td>\n",
       "      <td>0.059468</td>\n",
       "      <td>0.051002</td>\n",
       "      <td>3.010803</td>\n",
       "      <td>24.936952</td>\n",
       "      <td>11.126553</td>\n",
       "      <td>1</td>\n",
       "      <td>1</td>\n",
       "    </tr>\n",
       "    <tr>\n",
       "      <th>2</th>\n",
       "      <td>1973-12-31</td>\n",
       "      <td>0.602740</td>\n",
       "      <td>0.163334</td>\n",
       "      <td>0.379644</td>\n",
       "      <td>0.230597</td>\n",
       "      <td>0.340078</td>\n",
       "      <td>0.385720</td>\n",
       "      <td>0.597674</td>\n",
       "      <td>0.266667</td>\n",
       "      <td>0.100982</td>\n",
       "      <td>0.029841</td>\n",
       "      <td>-0.294934</td>\n",
       "      <td>0.117362</td>\n",
       "      <td>-0.328828</td>\n",
       "      <td>24.936952</td>\n",
       "      <td>-1.623208</td>\n",
       "      <td>-1.060063</td>\n",
       "      <td>0</td>\n",
       "      <td>0</td>\n",
       "    </tr>\n",
       "    <tr>\n",
       "      <th>3</th>\n",
       "      <td>1974-12-31</td>\n",
       "      <td>0.096866</td>\n",
       "      <td>0.249323</td>\n",
       "      <td>0.516596</td>\n",
       "      <td>0.385592</td>\n",
       "      <td>0.511120</td>\n",
       "      <td>0.523650</td>\n",
       "      <td>0.095145</td>\n",
       "      <td>-0.210526</td>\n",
       "      <td>0.208917</td>\n",
       "      <td>0.003220</td>\n",
       "      <td>-0.101796</td>\n",
       "      <td>0.146750</td>\n",
       "      <td>-0.374047</td>\n",
       "      <td>-1.623208</td>\n",
       "      <td>-7.080161</td>\n",
       "      <td>-2.686263</td>\n",
       "      <td>0</td>\n",
       "      <td>0</td>\n",
       "    </tr>\n",
       "    <tr>\n",
       "      <th>4</th>\n",
       "      <td>1975-03-31</td>\n",
       "      <td>-0.306494</td>\n",
       "      <td>-0.014438</td>\n",
       "      <td>-0.047115</td>\n",
       "      <td>0.000554</td>\n",
       "      <td>-0.091584</td>\n",
       "      <td>-0.054688</td>\n",
       "      <td>-0.308739</td>\n",
       "      <td>-0.066667</td>\n",
       "      <td>0.020021</td>\n",
       "      <td>0.023748</td>\n",
       "      <td>0.161905</td>\n",
       "      <td>-0.028074</td>\n",
       "      <td>0.651128</td>\n",
       "      <td>-7.080161</td>\n",
       "      <td>10.808541</td>\n",
       "      <td>4.038118</td>\n",
       "      <td>1</td>\n",
       "      <td>1</td>\n",
       "    </tr>\n",
       "    <tr>\n",
       "      <th>5</th>\n",
       "      <td>1975-06-30</td>\n",
       "      <td>0.022472</td>\n",
       "      <td>0.014832</td>\n",
       "      <td>-0.013566</td>\n",
       "      <td>0.008304</td>\n",
       "      <td>0.012473</td>\n",
       "      <td>-0.017581</td>\n",
       "      <td>0.025168</td>\n",
       "      <td>-0.071429</td>\n",
       "      <td>-0.020661</td>\n",
       "      <td>-0.000627</td>\n",
       "      <td>0.003279</td>\n",
       "      <td>0.020943</td>\n",
       "      <td>0.222527</td>\n",
       "      <td>10.808541</td>\n",
       "      <td>6.486600</td>\n",
       "      <td>-1.710186</td>\n",
       "      <td>1</td>\n",
       "      <td>0</td>\n",
       "    </tr>\n",
       "  </tbody>\n",
       "</table>\n",
       "</div>"
      ],
      "text/plain": [
       "        date  earnings_per_share  total_assets  current_assets  \\\n",
       "1 1972-12-31            0.128866      0.061191        0.045368   \n",
       "2 1973-12-31            0.602740      0.163334        0.379644   \n",
       "3 1974-12-31            0.096866      0.249323        0.516596   \n",
       "4 1975-03-31           -0.306494     -0.014438       -0.047115   \n",
       "5 1975-06-30            0.022472      0.014832       -0.013566   \n",
       "\n",
       "   total_liabilities  current_liabilities   revenue  net_income  \\\n",
       "1           0.063721             0.087157  0.100595    0.301689   \n",
       "2           0.230597             0.340078  0.385720    0.597674   \n",
       "3           0.385592             0.511120  0.523650    0.095145   \n",
       "4           0.000554            -0.091584 -0.054688   -0.308739   \n",
       "5           0.008304             0.012473 -0.017581    0.025168   \n",
       "\n",
       "   net_profit_margin  debt_equity_ratio  current_ratio  price_to_book_ratio  \\\n",
       "1          -0.074074           0.004225      -0.038265             0.293292   \n",
       "2           0.266667           0.100982       0.029841            -0.294934   \n",
       "3          -0.210526           0.208917       0.003220            -0.101796   \n",
       "4          -0.066667           0.020021       0.023748             0.161905   \n",
       "5          -0.071429          -0.020661      -0.000627             0.003279   \n",
       "\n",
       "   book_value  price_to_earnings_ratio  relative_quarterly_return     target  \\\n",
       "1    0.059468                 0.051002                   3.010803  24.936952   \n",
       "2    0.117362                -0.328828                  24.936952  -1.623208   \n",
       "3    0.146750                -0.374047                  -1.623208  -7.080161   \n",
       "4   -0.028074                 0.651128                  -7.080161  10.808541   \n",
       "5    0.020943                 0.222527                  10.808541   6.486600   \n",
       "\n",
       "      y_pred  y_train_binary  y_pred_binary  \n",
       "1  11.126553               1              1  \n",
       "2  -1.060063               0              0  \n",
       "3  -2.686263               0              0  \n",
       "4   4.038118               1              1  \n",
       "5  -1.710186               1              0  "
      ]
     },
     "execution_count": 1167,
     "metadata": {},
     "output_type": "execute_result"
    }
   ],
   "source": [
    "y_pred = model.predict(X_train_scaled)\n",
    "train_df['y_pred'] = y_pred\n",
    "\n",
    "y_train_binary = (y_train >= 0).astype(int)\n",
    "y_pred_binary = (y_pred >= 0).astype(int)\n",
    "\n",
    "train_df['y_train_binary'] = y_train_binary\n",
    "train_df['y_pred_binary'] = y_pred_binary\n",
    "\n",
    "print(classification_report(y_train_binary, y_pred_binary))\n",
    "\n",
    "train_df.head()"
   ]
  },
  {
   "cell_type": "code",
   "execution_count": 1168,
   "metadata": {},
   "outputs": [
    {
     "data": {
      "text/plain": [
       "\"\\ny_pred = model.predict(X_valid_scaled)\\nvalid_df['y_pred'] = y_pred\\n\\ny_valid_binary = (y_valid >= 0).astype(int)\\ny_pred_binary = (y_pred >= 0).astype(int)\\n\\nvalid_df['y_valid_binary'] = y_valid_binary\\nvalid_df['y_pred_binary'] = y_pred_binary\\n\\nprint(classification_report(y_valid_binary, y_pred_binary))\\n\\nvalid_df.head()\\n\\n# Create a figure\\nfig = go.Figure()\\n\\n# Add Target values as bars\\nfig.add_trace(go.Bar(\\n    x=valid_df['date'],\\n    y=valid_df['target'],\\n    name='Target',\\n    marker_color='blue'\\n))\\n\\n# Add Predicted values as bars\\nfig.add_trace(go.Bar(\\n    x=valid_df['date'],\\n    y=valid_df['y_pred'],\\n    name='Predicted',\\n    marker_color='orange'\\n))\\n\\n# Update layout\\nfig.update_layout(\\n    title='Comparison of Target vs Predicted Values',\\n    xaxis_title='Date',\\n    yaxis_title='Percentage Change',\\n    barmode='group',  # Group bars side by side\\n    xaxis=dict(tickformat='%Y-%m-%d', tickangle=-45),\\n    template='plotly_white',\\n)\\n\\n# Show the plot\\nfig.show()\\n\""
      ]
     },
     "execution_count": 1168,
     "metadata": {},
     "output_type": "execute_result"
    }
   ],
   "source": [
    "'''\n",
    "y_pred = model.predict(X_valid_scaled)\n",
    "valid_df['y_pred'] = y_pred\n",
    "\n",
    "y_valid_binary = (y_valid >= 0).astype(int)\n",
    "y_pred_binary = (y_pred >= 0).astype(int)\n",
    "\n",
    "valid_df['y_valid_binary'] = y_valid_binary\n",
    "valid_df['y_pred_binary'] = y_pred_binary\n",
    "\n",
    "print(classification_report(y_valid_binary, y_pred_binary))\n",
    "\n",
    "valid_df.head()\n",
    "\n",
    "# Create a figure\n",
    "fig = go.Figure()\n",
    "\n",
    "# Add Target values as bars\n",
    "fig.add_trace(go.Bar(\n",
    "    x=valid_df['date'],\n",
    "    y=valid_df['target'],\n",
    "    name='Target',\n",
    "    marker_color='blue'\n",
    "))\n",
    "\n",
    "# Add Predicted values as bars\n",
    "fig.add_trace(go.Bar(\n",
    "    x=valid_df['date'],\n",
    "    y=valid_df['y_pred'],\n",
    "    name='Predicted',\n",
    "    marker_color='orange'\n",
    "))\n",
    "\n",
    "# Update layout\n",
    "fig.update_layout(\n",
    "    title='Comparison of Target vs Predicted Values',\n",
    "    xaxis_title='Date',\n",
    "    yaxis_title='Percentage Change',\n",
    "    barmode='group',  # Group bars side by side\n",
    "    xaxis=dict(tickformat='%Y-%m-%d', tickangle=-45),\n",
    "    template='plotly_white',\n",
    ")\n",
    "\n",
    "# Show the plot\n",
    "fig.show()\n",
    "'''"
   ]
  },
  {
   "cell_type": "code",
   "execution_count": 1169,
   "metadata": {},
   "outputs": [
    {
     "name": "stdout",
     "output_type": "stream",
     "text": [
      "              precision    recall  f1-score   support\n",
      "\n",
      "           0       0.65      0.83      0.73        18\n",
      "           1       0.57      0.33      0.42        12\n",
      "\n",
      "    accuracy                           0.63        30\n",
      "   macro avg       0.61      0.58      0.58        30\n",
      "weighted avg       0.62      0.63      0.61        30\n",
      "\n"
     ]
    },
    {
     "data": {
      "text/html": [
       "<div>\n",
       "<style scoped>\n",
       "    .dataframe tbody tr th:only-of-type {\n",
       "        vertical-align: middle;\n",
       "    }\n",
       "\n",
       "    .dataframe tbody tr th {\n",
       "        vertical-align: top;\n",
       "    }\n",
       "\n",
       "    .dataframe thead th {\n",
       "        text-align: right;\n",
       "    }\n",
       "</style>\n",
       "<table border=\"1\" class=\"dataframe\">\n",
       "  <thead>\n",
       "    <tr style=\"text-align: right;\">\n",
       "      <th></th>\n",
       "      <th>date</th>\n",
       "      <th>earnings_per_share</th>\n",
       "      <th>total_assets</th>\n",
       "      <th>current_assets</th>\n",
       "      <th>total_liabilities</th>\n",
       "      <th>current_liabilities</th>\n",
       "      <th>revenue</th>\n",
       "      <th>net_income</th>\n",
       "      <th>net_profit_margin</th>\n",
       "      <th>debt_equity_ratio</th>\n",
       "      <th>current_ratio</th>\n",
       "      <th>price_to_book_ratio</th>\n",
       "      <th>book_value</th>\n",
       "      <th>price_to_earnings_ratio</th>\n",
       "      <th>relative_quarterly_return</th>\n",
       "      <th>target</th>\n",
       "      <th>y_pred</th>\n",
       "      <th>y_test_binary</th>\n",
       "      <th>y_pred_binary</th>\n",
       "    </tr>\n",
       "  </thead>\n",
       "  <tbody>\n",
       "    <tr>\n",
       "      <th>168</th>\n",
       "      <td>2016-03-31</td>\n",
       "      <td>-0.358209</td>\n",
       "      <td>0.017909</td>\n",
       "      <td>0.038195</td>\n",
       "      <td>0.027153</td>\n",
       "      <td>-0.097265</td>\n",
       "      <td>-0.191720</td>\n",
       "      <td>-0.348921</td>\n",
       "      <td>-0.132353</td>\n",
       "      <td>0.023504</td>\n",
       "      <td>0.088608</td>\n",
       "      <td>0.001132</td>\n",
       "      <td>0.009547</td>\n",
       "      <td>0.670877</td>\n",
       "      <td>6.462390</td>\n",
       "      <td>10.243332</td>\n",
       "      <td>-5.036544</td>\n",
       "      <td>1</td>\n",
       "      <td>0</td>\n",
       "    </tr>\n",
       "    <tr>\n",
       "      <th>169</th>\n",
       "      <td>2016-06-30</td>\n",
       "      <td>-0.046512</td>\n",
       "      <td>-0.000922</td>\n",
       "      <td>0.035638</td>\n",
       "      <td>0.007955</td>\n",
       "      <td>0.057013</td>\n",
       "      <td>0.204185</td>\n",
       "      <td>-0.060773</td>\n",
       "      <td>-0.135593</td>\n",
       "      <td>-0.003132</td>\n",
       "      <td>0.001163</td>\n",
       "      <td>-0.054833</td>\n",
       "      <td>-0.009093</td>\n",
       "      <td>0.176130</td>\n",
       "      <td>10.243332</td>\n",
       "      <td>-10.198435</td>\n",
       "      <td>-6.918354</td>\n",
       "      <td>0</td>\n",
       "      <td>0</td>\n",
       "    </tr>\n",
       "    <tr>\n",
       "      <th>170</th>\n",
       "      <td>2016-09-30</td>\n",
       "      <td>0.536585</td>\n",
       "      <td>-0.009014</td>\n",
       "      <td>-0.062909</td>\n",
       "      <td>-0.019457</td>\n",
       "      <td>-0.028794</td>\n",
       "      <td>0.007953</td>\n",
       "      <td>0.558824</td>\n",
       "      <td>-0.117647</td>\n",
       "      <td>-0.002094</td>\n",
       "      <td>-0.001161</td>\n",
       "      <td>0.012560</td>\n",
       "      <td>0.000763</td>\n",
       "      <td>-0.394055</td>\n",
       "      <td>-10.198435</td>\n",
       "      <td>0.160092</td>\n",
       "      <td>-1.208652</td>\n",
       "      <td>1</td>\n",
       "      <td>0</td>\n",
       "    </tr>\n",
       "    <tr>\n",
       "      <th>171</th>\n",
       "      <td>2016-12-31</td>\n",
       "      <td>-0.349206</td>\n",
       "      <td>-0.026731</td>\n",
       "      <td>-0.035604</td>\n",
       "      <td>-0.036286</td>\n",
       "      <td>-0.047640</td>\n",
       "      <td>0.032009</td>\n",
       "      <td>-0.366038</td>\n",
       "      <td>-0.111111</td>\n",
       "      <td>-0.018888</td>\n",
       "      <td>0.010465</td>\n",
       "      <td>0.015357</td>\n",
       "      <td>-0.017965</td>\n",
       "      <td>0.589049</td>\n",
       "      <td>0.160092</td>\n",
       "      <td>-14.673955</td>\n",
       "      <td>-1.676216</td>\n",
       "      <td>0</td>\n",
       "      <td>0</td>\n",
       "    </tr>\n",
       "    <tr>\n",
       "      <th>172</th>\n",
       "      <td>2017-03-31</td>\n",
       "      <td>1.317073</td>\n",
       "      <td>0.042066</td>\n",
       "      <td>0.041409</td>\n",
       "      <td>0.025268</td>\n",
       "      <td>0.120408</td>\n",
       "      <td>0.066090</td>\n",
       "      <td>1.386905</td>\n",
       "      <td>0.175000</td>\n",
       "      <td>0.006417</td>\n",
       "      <td>-0.014960</td>\n",
       "      <td>-0.069226</td>\n",
       "      <td>0.057188</td>\n",
       "      <td>-0.607868</td>\n",
       "      <td>-14.673955</td>\n",
       "      <td>-4.129435</td>\n",
       "      <td>-9.924975</td>\n",
       "      <td>0</td>\n",
       "      <td>0</td>\n",
       "    </tr>\n",
       "  </tbody>\n",
       "</table>\n",
       "</div>"
      ],
      "text/plain": [
       "          date  earnings_per_share  total_assets  current_assets  \\\n",
       "168 2016-03-31           -0.358209      0.017909        0.038195   \n",
       "169 2016-06-30           -0.046512     -0.000922        0.035638   \n",
       "170 2016-09-30            0.536585     -0.009014       -0.062909   \n",
       "171 2016-12-31           -0.349206     -0.026731       -0.035604   \n",
       "172 2017-03-31            1.317073      0.042066        0.041409   \n",
       "\n",
       "     total_liabilities  current_liabilities   revenue  net_income  \\\n",
       "168           0.027153            -0.097265 -0.191720   -0.348921   \n",
       "169           0.007955             0.057013  0.204185   -0.060773   \n",
       "170          -0.019457            -0.028794  0.007953    0.558824   \n",
       "171          -0.036286            -0.047640  0.032009   -0.366038   \n",
       "172           0.025268             0.120408  0.066090    1.386905   \n",
       "\n",
       "     net_profit_margin  debt_equity_ratio  current_ratio  price_to_book_ratio  \\\n",
       "168          -0.132353           0.023504       0.088608             0.001132   \n",
       "169          -0.135593          -0.003132       0.001163            -0.054833   \n",
       "170          -0.117647          -0.002094      -0.001161             0.012560   \n",
       "171          -0.111111          -0.018888       0.010465             0.015357   \n",
       "172           0.175000           0.006417      -0.014960            -0.069226   \n",
       "\n",
       "     book_value  price_to_earnings_ratio  relative_quarterly_return  \\\n",
       "168    0.009547                 0.670877                   6.462390   \n",
       "169   -0.009093                 0.176130                  10.243332   \n",
       "170    0.000763                -0.394055                 -10.198435   \n",
       "171   -0.017965                 0.589049                   0.160092   \n",
       "172    0.057188                -0.607868                 -14.673955   \n",
       "\n",
       "        target    y_pred  y_test_binary  y_pred_binary  \n",
       "168  10.243332 -5.036544              1              0  \n",
       "169 -10.198435 -6.918354              0              0  \n",
       "170   0.160092 -1.208652              1              0  \n",
       "171 -14.673955 -1.676216              0              0  \n",
       "172  -4.129435 -9.924975              0              0  "
      ]
     },
     "execution_count": 1169,
     "metadata": {},
     "output_type": "execute_result"
    }
   ],
   "source": [
    "y_pred = model.predict(X_test_scaled)\n",
    "test_df['y_pred'] = y_pred\n",
    "\n",
    "y_test_binary = (y_test >= 0).astype(int)\n",
    "y_pred_binary = (y_pred >= 0).astype(int)\n",
    "\n",
    "test_df['y_test_binary'] = y_test_binary\n",
    "test_df['y_pred_binary'] = y_pred_binary\n",
    "\n",
    "print(classification_report(y_test_binary, y_pred_binary))\n",
    "\n",
    "test_df['date'] = test_dates\n",
    "\n",
    "test_df.head()"
   ]
  },
  {
   "cell_type": "code",
   "execution_count": 1170,
   "metadata": {},
   "outputs": [
    {
     "data": {
      "application/vnd.plotly.v1+json": {
       "config": {
        "plotlyServerURL": "https://plot.ly"
       },
       "data": [
        {
         "marker": {
          "color": "blue"
         },
         "name": "Target",
         "type": "bar",
         "x": [
          "2016-03-31T00:00:00",
          "2016-06-30T00:00:00",
          "2016-09-30T00:00:00",
          "2016-12-31T00:00:00",
          "2017-03-31T00:00:00",
          "2017-06-30T00:00:00",
          "2017-09-30T00:00:00",
          "2017-12-31T00:00:00",
          "2018-03-31T00:00:00",
          "2018-06-30T00:00:00",
          "2018-09-30T00:00:00",
          "2018-12-31T00:00:00",
          "2019-03-31T00:00:00",
          "2019-06-30T00:00:00",
          "2019-09-30T00:00:00",
          "2019-12-31T00:00:00",
          "2020-03-31T00:00:00",
          "2020-06-30T00:00:00",
          "2020-09-30T00:00:00",
          "2020-12-31T00:00:00",
          "2021-03-31T00:00:00",
          "2021-06-30T00:00:00",
          "2021-09-30T00:00:00",
          "2021-12-31T00:00:00",
          "2022-03-31T00:00:00",
          "2022-06-30T00:00:00",
          "2022-09-30T00:00:00",
          "2022-12-31T00:00:00",
          "2023-03-31T00:00:00",
          "2023-06-30T00:00:00"
         ],
         "y": [
          10.24333194981164,
          -10.198435091429348,
          0.16009153719795943,
          -14.673955405225204,
          -4.129434961969569,
          -2.4109259100270064,
          -4.097702570605266,
          -9.571708179533422,
          7.948620652998528,
          -4.818123153211928,
          -5.511630709418169,
          4.118232921103981,
          -8.548877235823982,
          -8.274575445445343,
          -9.709639147647708,
          -25.585075452879412,
          -2.175682016749758,
          -31.707176019790783,
          8.381833577461206,
          29.671436366781666,
          4.815223480921271,
          -6.986953306013611,
          -6.618134706305301,
          39.91976363646869,
          20.13803099276894,
          7.227168580736565,
          19.25095769880596,
          -7.607452806319581,
          -10.497635553451868,
          13.27925532374591
         ]
        },
        {
         "marker": {
          "color": "orange"
         },
         "name": "Predicted",
         "type": "bar",
         "x": [
          "2016-03-31T00:00:00",
          "2016-06-30T00:00:00",
          "2016-09-30T00:00:00",
          "2016-12-31T00:00:00",
          "2017-03-31T00:00:00",
          "2017-06-30T00:00:00",
          "2017-09-30T00:00:00",
          "2017-12-31T00:00:00",
          "2018-03-31T00:00:00",
          "2018-06-30T00:00:00",
          "2018-09-30T00:00:00",
          "2018-12-31T00:00:00",
          "2019-03-31T00:00:00",
          "2019-06-30T00:00:00",
          "2019-09-30T00:00:00",
          "2019-12-31T00:00:00",
          "2020-03-31T00:00:00",
          "2020-06-30T00:00:00",
          "2020-09-30T00:00:00",
          "2020-12-31T00:00:00",
          "2021-03-31T00:00:00",
          "2021-06-30T00:00:00",
          "2021-09-30T00:00:00",
          "2021-12-31T00:00:00",
          "2022-03-31T00:00:00",
          "2022-06-30T00:00:00",
          "2022-09-30T00:00:00",
          "2022-12-31T00:00:00",
          "2023-03-31T00:00:00",
          "2023-06-30T00:00:00"
         ],
         "y": [
          -5.03654399198528,
          -6.918353865695204,
          -1.2086517693680066,
          -1.676215526090777,
          -9.924975415449254,
          2.371684060055612,
          1.553563336693485,
          -2.388229571628005,
          -0.12890382474041562,
          -6.488602681518904,
          -2.5383771065769896,
          2.0752686661390998,
          -3.147867228457186,
          -2.812649103369878,
          -0.8919755747952618,
          -1.992354089072332,
          -10.067724852975452,
          -5.9665771578006535,
          -12.333482608980985,
          -6.003374368739785,
          -8.25466922161933,
          -0.4242003169849,
          1.7869466319883829,
          2.9549125652211523,
          -0.993751577417401,
          2.3873529180200808,
          0.20200003732863858,
          -4.742221190818251,
          -1.0949186993416373,
          -7.9451456716196125
         ]
        }
       ],
       "layout": {
        "barmode": "group",
        "template": {
         "data": {
          "bar": [
           {
            "error_x": {
             "color": "#2a3f5f"
            },
            "error_y": {
             "color": "#2a3f5f"
            },
            "marker": {
             "line": {
              "color": "white",
              "width": 0.5
             },
             "pattern": {
              "fillmode": "overlay",
              "size": 10,
              "solidity": 0.2
             }
            },
            "type": "bar"
           }
          ],
          "barpolar": [
           {
            "marker": {
             "line": {
              "color": "white",
              "width": 0.5
             },
             "pattern": {
              "fillmode": "overlay",
              "size": 10,
              "solidity": 0.2
             }
            },
            "type": "barpolar"
           }
          ],
          "carpet": [
           {
            "aaxis": {
             "endlinecolor": "#2a3f5f",
             "gridcolor": "#C8D4E3",
             "linecolor": "#C8D4E3",
             "minorgridcolor": "#C8D4E3",
             "startlinecolor": "#2a3f5f"
            },
            "baxis": {
             "endlinecolor": "#2a3f5f",
             "gridcolor": "#C8D4E3",
             "linecolor": "#C8D4E3",
             "minorgridcolor": "#C8D4E3",
             "startlinecolor": "#2a3f5f"
            },
            "type": "carpet"
           }
          ],
          "choropleth": [
           {
            "colorbar": {
             "outlinewidth": 0,
             "ticks": ""
            },
            "type": "choropleth"
           }
          ],
          "contour": [
           {
            "colorbar": {
             "outlinewidth": 0,
             "ticks": ""
            },
            "colorscale": [
             [
              0,
              "#0d0887"
             ],
             [
              0.1111111111111111,
              "#46039f"
             ],
             [
              0.2222222222222222,
              "#7201a8"
             ],
             [
              0.3333333333333333,
              "#9c179e"
             ],
             [
              0.4444444444444444,
              "#bd3786"
             ],
             [
              0.5555555555555556,
              "#d8576b"
             ],
             [
              0.6666666666666666,
              "#ed7953"
             ],
             [
              0.7777777777777778,
              "#fb9f3a"
             ],
             [
              0.8888888888888888,
              "#fdca26"
             ],
             [
              1,
              "#f0f921"
             ]
            ],
            "type": "contour"
           }
          ],
          "contourcarpet": [
           {
            "colorbar": {
             "outlinewidth": 0,
             "ticks": ""
            },
            "type": "contourcarpet"
           }
          ],
          "heatmap": [
           {
            "colorbar": {
             "outlinewidth": 0,
             "ticks": ""
            },
            "colorscale": [
             [
              0,
              "#0d0887"
             ],
             [
              0.1111111111111111,
              "#46039f"
             ],
             [
              0.2222222222222222,
              "#7201a8"
             ],
             [
              0.3333333333333333,
              "#9c179e"
             ],
             [
              0.4444444444444444,
              "#bd3786"
             ],
             [
              0.5555555555555556,
              "#d8576b"
             ],
             [
              0.6666666666666666,
              "#ed7953"
             ],
             [
              0.7777777777777778,
              "#fb9f3a"
             ],
             [
              0.8888888888888888,
              "#fdca26"
             ],
             [
              1,
              "#f0f921"
             ]
            ],
            "type": "heatmap"
           }
          ],
          "heatmapgl": [
           {
            "colorbar": {
             "outlinewidth": 0,
             "ticks": ""
            },
            "colorscale": [
             [
              0,
              "#0d0887"
             ],
             [
              0.1111111111111111,
              "#46039f"
             ],
             [
              0.2222222222222222,
              "#7201a8"
             ],
             [
              0.3333333333333333,
              "#9c179e"
             ],
             [
              0.4444444444444444,
              "#bd3786"
             ],
             [
              0.5555555555555556,
              "#d8576b"
             ],
             [
              0.6666666666666666,
              "#ed7953"
             ],
             [
              0.7777777777777778,
              "#fb9f3a"
             ],
             [
              0.8888888888888888,
              "#fdca26"
             ],
             [
              1,
              "#f0f921"
             ]
            ],
            "type": "heatmapgl"
           }
          ],
          "histogram": [
           {
            "marker": {
             "pattern": {
              "fillmode": "overlay",
              "size": 10,
              "solidity": 0.2
             }
            },
            "type": "histogram"
           }
          ],
          "histogram2d": [
           {
            "colorbar": {
             "outlinewidth": 0,
             "ticks": ""
            },
            "colorscale": [
             [
              0,
              "#0d0887"
             ],
             [
              0.1111111111111111,
              "#46039f"
             ],
             [
              0.2222222222222222,
              "#7201a8"
             ],
             [
              0.3333333333333333,
              "#9c179e"
             ],
             [
              0.4444444444444444,
              "#bd3786"
             ],
             [
              0.5555555555555556,
              "#d8576b"
             ],
             [
              0.6666666666666666,
              "#ed7953"
             ],
             [
              0.7777777777777778,
              "#fb9f3a"
             ],
             [
              0.8888888888888888,
              "#fdca26"
             ],
             [
              1,
              "#f0f921"
             ]
            ],
            "type": "histogram2d"
           }
          ],
          "histogram2dcontour": [
           {
            "colorbar": {
             "outlinewidth": 0,
             "ticks": ""
            },
            "colorscale": [
             [
              0,
              "#0d0887"
             ],
             [
              0.1111111111111111,
              "#46039f"
             ],
             [
              0.2222222222222222,
              "#7201a8"
             ],
             [
              0.3333333333333333,
              "#9c179e"
             ],
             [
              0.4444444444444444,
              "#bd3786"
             ],
             [
              0.5555555555555556,
              "#d8576b"
             ],
             [
              0.6666666666666666,
              "#ed7953"
             ],
             [
              0.7777777777777778,
              "#fb9f3a"
             ],
             [
              0.8888888888888888,
              "#fdca26"
             ],
             [
              1,
              "#f0f921"
             ]
            ],
            "type": "histogram2dcontour"
           }
          ],
          "mesh3d": [
           {
            "colorbar": {
             "outlinewidth": 0,
             "ticks": ""
            },
            "type": "mesh3d"
           }
          ],
          "parcoords": [
           {
            "line": {
             "colorbar": {
              "outlinewidth": 0,
              "ticks": ""
             }
            },
            "type": "parcoords"
           }
          ],
          "pie": [
           {
            "automargin": true,
            "type": "pie"
           }
          ],
          "scatter": [
           {
            "fillpattern": {
             "fillmode": "overlay",
             "size": 10,
             "solidity": 0.2
            },
            "type": "scatter"
           }
          ],
          "scatter3d": [
           {
            "line": {
             "colorbar": {
              "outlinewidth": 0,
              "ticks": ""
             }
            },
            "marker": {
             "colorbar": {
              "outlinewidth": 0,
              "ticks": ""
             }
            },
            "type": "scatter3d"
           }
          ],
          "scattercarpet": [
           {
            "marker": {
             "colorbar": {
              "outlinewidth": 0,
              "ticks": ""
             }
            },
            "type": "scattercarpet"
           }
          ],
          "scattergeo": [
           {
            "marker": {
             "colorbar": {
              "outlinewidth": 0,
              "ticks": ""
             }
            },
            "type": "scattergeo"
           }
          ],
          "scattergl": [
           {
            "marker": {
             "colorbar": {
              "outlinewidth": 0,
              "ticks": ""
             }
            },
            "type": "scattergl"
           }
          ],
          "scattermapbox": [
           {
            "marker": {
             "colorbar": {
              "outlinewidth": 0,
              "ticks": ""
             }
            },
            "type": "scattermapbox"
           }
          ],
          "scatterpolar": [
           {
            "marker": {
             "colorbar": {
              "outlinewidth": 0,
              "ticks": ""
             }
            },
            "type": "scatterpolar"
           }
          ],
          "scatterpolargl": [
           {
            "marker": {
             "colorbar": {
              "outlinewidth": 0,
              "ticks": ""
             }
            },
            "type": "scatterpolargl"
           }
          ],
          "scatterternary": [
           {
            "marker": {
             "colorbar": {
              "outlinewidth": 0,
              "ticks": ""
             }
            },
            "type": "scatterternary"
           }
          ],
          "surface": [
           {
            "colorbar": {
             "outlinewidth": 0,
             "ticks": ""
            },
            "colorscale": [
             [
              0,
              "#0d0887"
             ],
             [
              0.1111111111111111,
              "#46039f"
             ],
             [
              0.2222222222222222,
              "#7201a8"
             ],
             [
              0.3333333333333333,
              "#9c179e"
             ],
             [
              0.4444444444444444,
              "#bd3786"
             ],
             [
              0.5555555555555556,
              "#d8576b"
             ],
             [
              0.6666666666666666,
              "#ed7953"
             ],
             [
              0.7777777777777778,
              "#fb9f3a"
             ],
             [
              0.8888888888888888,
              "#fdca26"
             ],
             [
              1,
              "#f0f921"
             ]
            ],
            "type": "surface"
           }
          ],
          "table": [
           {
            "cells": {
             "fill": {
              "color": "#EBF0F8"
             },
             "line": {
              "color": "white"
             }
            },
            "header": {
             "fill": {
              "color": "#C8D4E3"
             },
             "line": {
              "color": "white"
             }
            },
            "type": "table"
           }
          ]
         },
         "layout": {
          "annotationdefaults": {
           "arrowcolor": "#2a3f5f",
           "arrowhead": 0,
           "arrowwidth": 1
          },
          "autotypenumbers": "strict",
          "coloraxis": {
           "colorbar": {
            "outlinewidth": 0,
            "ticks": ""
           }
          },
          "colorscale": {
           "diverging": [
            [
             0,
             "#8e0152"
            ],
            [
             0.1,
             "#c51b7d"
            ],
            [
             0.2,
             "#de77ae"
            ],
            [
             0.3,
             "#f1b6da"
            ],
            [
             0.4,
             "#fde0ef"
            ],
            [
             0.5,
             "#f7f7f7"
            ],
            [
             0.6,
             "#e6f5d0"
            ],
            [
             0.7,
             "#b8e186"
            ],
            [
             0.8,
             "#7fbc41"
            ],
            [
             0.9,
             "#4d9221"
            ],
            [
             1,
             "#276419"
            ]
           ],
           "sequential": [
            [
             0,
             "#0d0887"
            ],
            [
             0.1111111111111111,
             "#46039f"
            ],
            [
             0.2222222222222222,
             "#7201a8"
            ],
            [
             0.3333333333333333,
             "#9c179e"
            ],
            [
             0.4444444444444444,
             "#bd3786"
            ],
            [
             0.5555555555555556,
             "#d8576b"
            ],
            [
             0.6666666666666666,
             "#ed7953"
            ],
            [
             0.7777777777777778,
             "#fb9f3a"
            ],
            [
             0.8888888888888888,
             "#fdca26"
            ],
            [
             1,
             "#f0f921"
            ]
           ],
           "sequentialminus": [
            [
             0,
             "#0d0887"
            ],
            [
             0.1111111111111111,
             "#46039f"
            ],
            [
             0.2222222222222222,
             "#7201a8"
            ],
            [
             0.3333333333333333,
             "#9c179e"
            ],
            [
             0.4444444444444444,
             "#bd3786"
            ],
            [
             0.5555555555555556,
             "#d8576b"
            ],
            [
             0.6666666666666666,
             "#ed7953"
            ],
            [
             0.7777777777777778,
             "#fb9f3a"
            ],
            [
             0.8888888888888888,
             "#fdca26"
            ],
            [
             1,
             "#f0f921"
            ]
           ]
          },
          "colorway": [
           "#636efa",
           "#EF553B",
           "#00cc96",
           "#ab63fa",
           "#FFA15A",
           "#19d3f3",
           "#FF6692",
           "#B6E880",
           "#FF97FF",
           "#FECB52"
          ],
          "font": {
           "color": "#2a3f5f"
          },
          "geo": {
           "bgcolor": "white",
           "lakecolor": "white",
           "landcolor": "white",
           "showlakes": true,
           "showland": true,
           "subunitcolor": "#C8D4E3"
          },
          "hoverlabel": {
           "align": "left"
          },
          "hovermode": "closest",
          "mapbox": {
           "style": "light"
          },
          "paper_bgcolor": "white",
          "plot_bgcolor": "white",
          "polar": {
           "angularaxis": {
            "gridcolor": "#EBF0F8",
            "linecolor": "#EBF0F8",
            "ticks": ""
           },
           "bgcolor": "white",
           "radialaxis": {
            "gridcolor": "#EBF0F8",
            "linecolor": "#EBF0F8",
            "ticks": ""
           }
          },
          "scene": {
           "xaxis": {
            "backgroundcolor": "white",
            "gridcolor": "#DFE8F3",
            "gridwidth": 2,
            "linecolor": "#EBF0F8",
            "showbackground": true,
            "ticks": "",
            "zerolinecolor": "#EBF0F8"
           },
           "yaxis": {
            "backgroundcolor": "white",
            "gridcolor": "#DFE8F3",
            "gridwidth": 2,
            "linecolor": "#EBF0F8",
            "showbackground": true,
            "ticks": "",
            "zerolinecolor": "#EBF0F8"
           },
           "zaxis": {
            "backgroundcolor": "white",
            "gridcolor": "#DFE8F3",
            "gridwidth": 2,
            "linecolor": "#EBF0F8",
            "showbackground": true,
            "ticks": "",
            "zerolinecolor": "#EBF0F8"
           }
          },
          "shapedefaults": {
           "line": {
            "color": "#2a3f5f"
           }
          },
          "ternary": {
           "aaxis": {
            "gridcolor": "#DFE8F3",
            "linecolor": "#A2B1C6",
            "ticks": ""
           },
           "baxis": {
            "gridcolor": "#DFE8F3",
            "linecolor": "#A2B1C6",
            "ticks": ""
           },
           "bgcolor": "white",
           "caxis": {
            "gridcolor": "#DFE8F3",
            "linecolor": "#A2B1C6",
            "ticks": ""
           }
          },
          "title": {
           "x": 0.05
          },
          "xaxis": {
           "automargin": true,
           "gridcolor": "#EBF0F8",
           "linecolor": "#EBF0F8",
           "ticks": "",
           "title": {
            "standoff": 15
           },
           "zerolinecolor": "#EBF0F8",
           "zerolinewidth": 2
          },
          "yaxis": {
           "automargin": true,
           "gridcolor": "#EBF0F8",
           "linecolor": "#EBF0F8",
           "ticks": "",
           "title": {
            "standoff": 15
           },
           "zerolinecolor": "#EBF0F8",
           "zerolinewidth": 2
          }
         }
        },
        "title": {
         "text": "Comparison of Target vs Predicted Values"
        },
        "xaxis": {
         "tickangle": -45,
         "tickformat": "%Y-%m-%d",
         "title": {
          "text": "Date"
         }
        },
        "yaxis": {
         "title": {
          "text": "Percentage Change"
         }
        }
       }
      },
      "text/html": [
       "<div>                            <div id=\"22698e83-954b-4785-b34a-4cca85a957f1\" class=\"plotly-graph-div\" style=\"height:525px; width:100%;\"></div>            <script type=\"text/javascript\">                require([\"plotly\"], function(Plotly) {                    window.PLOTLYENV=window.PLOTLYENV || {};                                    if (document.getElementById(\"22698e83-954b-4785-b34a-4cca85a957f1\")) {                    Plotly.newPlot(                        \"22698e83-954b-4785-b34a-4cca85a957f1\",                        [{\"marker\":{\"color\":\"blue\"},\"name\":\"Target\",\"x\":[\"2016-03-31T00:00:00\",\"2016-06-30T00:00:00\",\"2016-09-30T00:00:00\",\"2016-12-31T00:00:00\",\"2017-03-31T00:00:00\",\"2017-06-30T00:00:00\",\"2017-09-30T00:00:00\",\"2017-12-31T00:00:00\",\"2018-03-31T00:00:00\",\"2018-06-30T00:00:00\",\"2018-09-30T00:00:00\",\"2018-12-31T00:00:00\",\"2019-03-31T00:00:00\",\"2019-06-30T00:00:00\",\"2019-09-30T00:00:00\",\"2019-12-31T00:00:00\",\"2020-03-31T00:00:00\",\"2020-06-30T00:00:00\",\"2020-09-30T00:00:00\",\"2020-12-31T00:00:00\",\"2021-03-31T00:00:00\",\"2021-06-30T00:00:00\",\"2021-09-30T00:00:00\",\"2021-12-31T00:00:00\",\"2022-03-31T00:00:00\",\"2022-06-30T00:00:00\",\"2022-09-30T00:00:00\",\"2022-12-31T00:00:00\",\"2023-03-31T00:00:00\",\"2023-06-30T00:00:00\"],\"y\":[10.24333194981164,-10.198435091429348,0.16009153719795943,-14.673955405225204,-4.129434961969569,-2.4109259100270064,-4.097702570605266,-9.571708179533422,7.948620652998528,-4.818123153211928,-5.511630709418169,4.118232921103981,-8.548877235823982,-8.274575445445343,-9.709639147647708,-25.585075452879412,-2.175682016749758,-31.707176019790783,8.381833577461206,29.671436366781666,4.815223480921271,-6.986953306013611,-6.618134706305301,39.91976363646869,20.13803099276894,7.227168580736565,19.25095769880596,-7.607452806319581,-10.497635553451868,13.27925532374591],\"type\":\"bar\"},{\"marker\":{\"color\":\"orange\"},\"name\":\"Predicted\",\"x\":[\"2016-03-31T00:00:00\",\"2016-06-30T00:00:00\",\"2016-09-30T00:00:00\",\"2016-12-31T00:00:00\",\"2017-03-31T00:00:00\",\"2017-06-30T00:00:00\",\"2017-09-30T00:00:00\",\"2017-12-31T00:00:00\",\"2018-03-31T00:00:00\",\"2018-06-30T00:00:00\",\"2018-09-30T00:00:00\",\"2018-12-31T00:00:00\",\"2019-03-31T00:00:00\",\"2019-06-30T00:00:00\",\"2019-09-30T00:00:00\",\"2019-12-31T00:00:00\",\"2020-03-31T00:00:00\",\"2020-06-30T00:00:00\",\"2020-09-30T00:00:00\",\"2020-12-31T00:00:00\",\"2021-03-31T00:00:00\",\"2021-06-30T00:00:00\",\"2021-09-30T00:00:00\",\"2021-12-31T00:00:00\",\"2022-03-31T00:00:00\",\"2022-06-30T00:00:00\",\"2022-09-30T00:00:00\",\"2022-12-31T00:00:00\",\"2023-03-31T00:00:00\",\"2023-06-30T00:00:00\"],\"y\":[-5.03654399198528,-6.918353865695204,-1.2086517693680066,-1.676215526090777,-9.924975415449254,2.371684060055612,1.553563336693485,-2.388229571628005,-0.12890382474041562,-6.488602681518904,-2.5383771065769896,2.0752686661390998,-3.147867228457186,-2.812649103369878,-0.8919755747952618,-1.992354089072332,-10.067724852975452,-5.9665771578006535,-12.333482608980985,-6.003374368739785,-8.25466922161933,-0.4242003169849,1.7869466319883829,2.9549125652211523,-0.993751577417401,2.3873529180200808,0.20200003732863858,-4.742221190818251,-1.0949186993416373,-7.9451456716196125],\"type\":\"bar\"}],                        {\"template\":{\"data\":{\"barpolar\":[{\"marker\":{\"line\":{\"color\":\"white\",\"width\":0.5},\"pattern\":{\"fillmode\":\"overlay\",\"size\":10,\"solidity\":0.2}},\"type\":\"barpolar\"}],\"bar\":[{\"error_x\":{\"color\":\"#2a3f5f\"},\"error_y\":{\"color\":\"#2a3f5f\"},\"marker\":{\"line\":{\"color\":\"white\",\"width\":0.5},\"pattern\":{\"fillmode\":\"overlay\",\"size\":10,\"solidity\":0.2}},\"type\":\"bar\"}],\"carpet\":[{\"aaxis\":{\"endlinecolor\":\"#2a3f5f\",\"gridcolor\":\"#C8D4E3\",\"linecolor\":\"#C8D4E3\",\"minorgridcolor\":\"#C8D4E3\",\"startlinecolor\":\"#2a3f5f\"},\"baxis\":{\"endlinecolor\":\"#2a3f5f\",\"gridcolor\":\"#C8D4E3\",\"linecolor\":\"#C8D4E3\",\"minorgridcolor\":\"#C8D4E3\",\"startlinecolor\":\"#2a3f5f\"},\"type\":\"carpet\"}],\"choropleth\":[{\"colorbar\":{\"outlinewidth\":0,\"ticks\":\"\"},\"type\":\"choropleth\"}],\"contourcarpet\":[{\"colorbar\":{\"outlinewidth\":0,\"ticks\":\"\"},\"type\":\"contourcarpet\"}],\"contour\":[{\"colorbar\":{\"outlinewidth\":0,\"ticks\":\"\"},\"colorscale\":[[0.0,\"#0d0887\"],[0.1111111111111111,\"#46039f\"],[0.2222222222222222,\"#7201a8\"],[0.3333333333333333,\"#9c179e\"],[0.4444444444444444,\"#bd3786\"],[0.5555555555555556,\"#d8576b\"],[0.6666666666666666,\"#ed7953\"],[0.7777777777777778,\"#fb9f3a\"],[0.8888888888888888,\"#fdca26\"],[1.0,\"#f0f921\"]],\"type\":\"contour\"}],\"heatmapgl\":[{\"colorbar\":{\"outlinewidth\":0,\"ticks\":\"\"},\"colorscale\":[[0.0,\"#0d0887\"],[0.1111111111111111,\"#46039f\"],[0.2222222222222222,\"#7201a8\"],[0.3333333333333333,\"#9c179e\"],[0.4444444444444444,\"#bd3786\"],[0.5555555555555556,\"#d8576b\"],[0.6666666666666666,\"#ed7953\"],[0.7777777777777778,\"#fb9f3a\"],[0.8888888888888888,\"#fdca26\"],[1.0,\"#f0f921\"]],\"type\":\"heatmapgl\"}],\"heatmap\":[{\"colorbar\":{\"outlinewidth\":0,\"ticks\":\"\"},\"colorscale\":[[0.0,\"#0d0887\"],[0.1111111111111111,\"#46039f\"],[0.2222222222222222,\"#7201a8\"],[0.3333333333333333,\"#9c179e\"],[0.4444444444444444,\"#bd3786\"],[0.5555555555555556,\"#d8576b\"],[0.6666666666666666,\"#ed7953\"],[0.7777777777777778,\"#fb9f3a\"],[0.8888888888888888,\"#fdca26\"],[1.0,\"#f0f921\"]],\"type\":\"heatmap\"}],\"histogram2dcontour\":[{\"colorbar\":{\"outlinewidth\":0,\"ticks\":\"\"},\"colorscale\":[[0.0,\"#0d0887\"],[0.1111111111111111,\"#46039f\"],[0.2222222222222222,\"#7201a8\"],[0.3333333333333333,\"#9c179e\"],[0.4444444444444444,\"#bd3786\"],[0.5555555555555556,\"#d8576b\"],[0.6666666666666666,\"#ed7953\"],[0.7777777777777778,\"#fb9f3a\"],[0.8888888888888888,\"#fdca26\"],[1.0,\"#f0f921\"]],\"type\":\"histogram2dcontour\"}],\"histogram2d\":[{\"colorbar\":{\"outlinewidth\":0,\"ticks\":\"\"},\"colorscale\":[[0.0,\"#0d0887\"],[0.1111111111111111,\"#46039f\"],[0.2222222222222222,\"#7201a8\"],[0.3333333333333333,\"#9c179e\"],[0.4444444444444444,\"#bd3786\"],[0.5555555555555556,\"#d8576b\"],[0.6666666666666666,\"#ed7953\"],[0.7777777777777778,\"#fb9f3a\"],[0.8888888888888888,\"#fdca26\"],[1.0,\"#f0f921\"]],\"type\":\"histogram2d\"}],\"histogram\":[{\"marker\":{\"pattern\":{\"fillmode\":\"overlay\",\"size\":10,\"solidity\":0.2}},\"type\":\"histogram\"}],\"mesh3d\":[{\"colorbar\":{\"outlinewidth\":0,\"ticks\":\"\"},\"type\":\"mesh3d\"}],\"parcoords\":[{\"line\":{\"colorbar\":{\"outlinewidth\":0,\"ticks\":\"\"}},\"type\":\"parcoords\"}],\"pie\":[{\"automargin\":true,\"type\":\"pie\"}],\"scatter3d\":[{\"line\":{\"colorbar\":{\"outlinewidth\":0,\"ticks\":\"\"}},\"marker\":{\"colorbar\":{\"outlinewidth\":0,\"ticks\":\"\"}},\"type\":\"scatter3d\"}],\"scattercarpet\":[{\"marker\":{\"colorbar\":{\"outlinewidth\":0,\"ticks\":\"\"}},\"type\":\"scattercarpet\"}],\"scattergeo\":[{\"marker\":{\"colorbar\":{\"outlinewidth\":0,\"ticks\":\"\"}},\"type\":\"scattergeo\"}],\"scattergl\":[{\"marker\":{\"colorbar\":{\"outlinewidth\":0,\"ticks\":\"\"}},\"type\":\"scattergl\"}],\"scattermapbox\":[{\"marker\":{\"colorbar\":{\"outlinewidth\":0,\"ticks\":\"\"}},\"type\":\"scattermapbox\"}],\"scatterpolargl\":[{\"marker\":{\"colorbar\":{\"outlinewidth\":0,\"ticks\":\"\"}},\"type\":\"scatterpolargl\"}],\"scatterpolar\":[{\"marker\":{\"colorbar\":{\"outlinewidth\":0,\"ticks\":\"\"}},\"type\":\"scatterpolar\"}],\"scatter\":[{\"fillpattern\":{\"fillmode\":\"overlay\",\"size\":10,\"solidity\":0.2},\"type\":\"scatter\"}],\"scatterternary\":[{\"marker\":{\"colorbar\":{\"outlinewidth\":0,\"ticks\":\"\"}},\"type\":\"scatterternary\"}],\"surface\":[{\"colorbar\":{\"outlinewidth\":0,\"ticks\":\"\"},\"colorscale\":[[0.0,\"#0d0887\"],[0.1111111111111111,\"#46039f\"],[0.2222222222222222,\"#7201a8\"],[0.3333333333333333,\"#9c179e\"],[0.4444444444444444,\"#bd3786\"],[0.5555555555555556,\"#d8576b\"],[0.6666666666666666,\"#ed7953\"],[0.7777777777777778,\"#fb9f3a\"],[0.8888888888888888,\"#fdca26\"],[1.0,\"#f0f921\"]],\"type\":\"surface\"}],\"table\":[{\"cells\":{\"fill\":{\"color\":\"#EBF0F8\"},\"line\":{\"color\":\"white\"}},\"header\":{\"fill\":{\"color\":\"#C8D4E3\"},\"line\":{\"color\":\"white\"}},\"type\":\"table\"}]},\"layout\":{\"annotationdefaults\":{\"arrowcolor\":\"#2a3f5f\",\"arrowhead\":0,\"arrowwidth\":1},\"autotypenumbers\":\"strict\",\"coloraxis\":{\"colorbar\":{\"outlinewidth\":0,\"ticks\":\"\"}},\"colorscale\":{\"diverging\":[[0,\"#8e0152\"],[0.1,\"#c51b7d\"],[0.2,\"#de77ae\"],[0.3,\"#f1b6da\"],[0.4,\"#fde0ef\"],[0.5,\"#f7f7f7\"],[0.6,\"#e6f5d0\"],[0.7,\"#b8e186\"],[0.8,\"#7fbc41\"],[0.9,\"#4d9221\"],[1,\"#276419\"]],\"sequential\":[[0.0,\"#0d0887\"],[0.1111111111111111,\"#46039f\"],[0.2222222222222222,\"#7201a8\"],[0.3333333333333333,\"#9c179e\"],[0.4444444444444444,\"#bd3786\"],[0.5555555555555556,\"#d8576b\"],[0.6666666666666666,\"#ed7953\"],[0.7777777777777778,\"#fb9f3a\"],[0.8888888888888888,\"#fdca26\"],[1.0,\"#f0f921\"]],\"sequentialminus\":[[0.0,\"#0d0887\"],[0.1111111111111111,\"#46039f\"],[0.2222222222222222,\"#7201a8\"],[0.3333333333333333,\"#9c179e\"],[0.4444444444444444,\"#bd3786\"],[0.5555555555555556,\"#d8576b\"],[0.6666666666666666,\"#ed7953\"],[0.7777777777777778,\"#fb9f3a\"],[0.8888888888888888,\"#fdca26\"],[1.0,\"#f0f921\"]]},\"colorway\":[\"#636efa\",\"#EF553B\",\"#00cc96\",\"#ab63fa\",\"#FFA15A\",\"#19d3f3\",\"#FF6692\",\"#B6E880\",\"#FF97FF\",\"#FECB52\"],\"font\":{\"color\":\"#2a3f5f\"},\"geo\":{\"bgcolor\":\"white\",\"lakecolor\":\"white\",\"landcolor\":\"white\",\"showlakes\":true,\"showland\":true,\"subunitcolor\":\"#C8D4E3\"},\"hoverlabel\":{\"align\":\"left\"},\"hovermode\":\"closest\",\"mapbox\":{\"style\":\"light\"},\"paper_bgcolor\":\"white\",\"plot_bgcolor\":\"white\",\"polar\":{\"angularaxis\":{\"gridcolor\":\"#EBF0F8\",\"linecolor\":\"#EBF0F8\",\"ticks\":\"\"},\"bgcolor\":\"white\",\"radialaxis\":{\"gridcolor\":\"#EBF0F8\",\"linecolor\":\"#EBF0F8\",\"ticks\":\"\"}},\"scene\":{\"xaxis\":{\"backgroundcolor\":\"white\",\"gridcolor\":\"#DFE8F3\",\"gridwidth\":2,\"linecolor\":\"#EBF0F8\",\"showbackground\":true,\"ticks\":\"\",\"zerolinecolor\":\"#EBF0F8\"},\"yaxis\":{\"backgroundcolor\":\"white\",\"gridcolor\":\"#DFE8F3\",\"gridwidth\":2,\"linecolor\":\"#EBF0F8\",\"showbackground\":true,\"ticks\":\"\",\"zerolinecolor\":\"#EBF0F8\"},\"zaxis\":{\"backgroundcolor\":\"white\",\"gridcolor\":\"#DFE8F3\",\"gridwidth\":2,\"linecolor\":\"#EBF0F8\",\"showbackground\":true,\"ticks\":\"\",\"zerolinecolor\":\"#EBF0F8\"}},\"shapedefaults\":{\"line\":{\"color\":\"#2a3f5f\"}},\"ternary\":{\"aaxis\":{\"gridcolor\":\"#DFE8F3\",\"linecolor\":\"#A2B1C6\",\"ticks\":\"\"},\"baxis\":{\"gridcolor\":\"#DFE8F3\",\"linecolor\":\"#A2B1C6\",\"ticks\":\"\"},\"bgcolor\":\"white\",\"caxis\":{\"gridcolor\":\"#DFE8F3\",\"linecolor\":\"#A2B1C6\",\"ticks\":\"\"}},\"title\":{\"x\":0.05},\"xaxis\":{\"automargin\":true,\"gridcolor\":\"#EBF0F8\",\"linecolor\":\"#EBF0F8\",\"ticks\":\"\",\"title\":{\"standoff\":15},\"zerolinecolor\":\"#EBF0F8\",\"zerolinewidth\":2},\"yaxis\":{\"automargin\":true,\"gridcolor\":\"#EBF0F8\",\"linecolor\":\"#EBF0F8\",\"ticks\":\"\",\"title\":{\"standoff\":15},\"zerolinecolor\":\"#EBF0F8\",\"zerolinewidth\":2}}},\"xaxis\":{\"title\":{\"text\":\"Date\"},\"tickformat\":\"%Y-%m-%d\",\"tickangle\":-45},\"title\":{\"text\":\"Comparison of Target vs Predicted Values\"},\"yaxis\":{\"title\":{\"text\":\"Percentage Change\"}},\"barmode\":\"group\"},                        {\"responsive\": true}                    ).then(function(){\n",
       "                            \n",
       "var gd = document.getElementById('22698e83-954b-4785-b34a-4cca85a957f1');\n",
       "var x = new MutationObserver(function (mutations, observer) {{\n",
       "        var display = window.getComputedStyle(gd).display;\n",
       "        if (!display || display === 'none') {{\n",
       "            console.log([gd, 'removed!']);\n",
       "            Plotly.purge(gd);\n",
       "            observer.disconnect();\n",
       "        }}\n",
       "}});\n",
       "\n",
       "// Listen for the removal of the full notebook cells\n",
       "var notebookContainer = gd.closest('#notebook-container');\n",
       "if (notebookContainer) {{\n",
       "    x.observe(notebookContainer, {childList: true});\n",
       "}}\n",
       "\n",
       "// Listen for the clearing of the current output cell\n",
       "var outputEl = gd.closest('.output');\n",
       "if (outputEl) {{\n",
       "    x.observe(outputEl, {childList: true});\n",
       "}}\n",
       "\n",
       "                        })                };                });            </script>        </div>"
      ]
     },
     "metadata": {},
     "output_type": "display_data"
    }
   ],
   "source": [
    "# Create a figure\n",
    "fig = go.Figure()\n",
    "\n",
    "# Add Target values as bars\n",
    "fig.add_trace(go.Bar(\n",
    "    x=test_df['date'],\n",
    "    y=test_df['target'],\n",
    "    name='Target',\n",
    "    marker_color='blue'\n",
    "))\n",
    "\n",
    "# Add Predicted values as bars\n",
    "fig.add_trace(go.Bar(\n",
    "    x=test_df['date'],\n",
    "    y=test_df['y_pred'],\n",
    "    name='Predicted',\n",
    "    marker_color='orange'\n",
    "))\n",
    "\n",
    "# Update layout\n",
    "fig.update_layout(\n",
    "    title='Comparison of Target vs Predicted Values',\n",
    "    xaxis_title='Date',\n",
    "    yaxis_title='Percentage Change',\n",
    "    barmode='group',  # Group bars side by side\n",
    "    xaxis=dict(tickformat='%Y-%m-%d', tickangle=-45),\n",
    "    template='plotly_white',\n",
    ")\n",
    "\n",
    "# Show the plot\n",
    "fig.show()\n"
   ]
  }
 ],
 "metadata": {
  "kernelspec": {
   "display_name": "Python 3",
   "language": "python",
   "name": "python3"
  },
  "language_info": {
   "codemirror_mode": {
    "name": "ipython",
    "version": 3
   },
   "file_extension": ".py",
   "mimetype": "text/x-python",
   "name": "python",
   "nbconvert_exporter": "python",
   "pygments_lexer": "ipython3",
   "version": "3.9.13"
  }
 },
 "nbformat": 4,
 "nbformat_minor": 2
}
