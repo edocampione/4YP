{
 "cells": [
  {
   "cell_type": "code",
   "execution_count": 50,
   "metadata": {},
   "outputs": [],
   "source": [
    "import numpy as np\n",
    "import pandas as pd\n",
    "from sklearn.model_selection import train_test_split\n",
    "from sklearn.ensemble import RandomForestRegressor\n",
    "from sklearn.metrics import mean_absolute_error, mean_squared_error\n"
   ]
  },
  {
   "cell_type": "code",
   "execution_count": 51,
   "metadata": {},
   "outputs": [],
   "source": [
    "df = pd.read_csv('/Users/edocampione/Desktop/Meng Engineering Science/4YP/data/filtered_exxon_data.csv')"
   ]
  },
  {
   "cell_type": "code",
   "execution_count": 52,
   "metadata": {},
   "outputs": [
    {
     "name": "stdout",
     "output_type": "stream",
     "text": [
      "Mean Absolute Error: 4.3231779085975495\n",
      "Mean Squared Error: 28.773087429901796\n"
     ]
    }
   ],
   "source": [
    "\n",
    "# Prepare the features and target\n",
    "# Use the percentage change columns as features\n",
    "features = df[[f'Price_Day_{i}' for i in range(1, 31)]] # First only using technical data\n",
    "target = df['Monthly_Percent_Change']\n",
    "\n",
    "# Split the data into training and test sets\n",
    "X_train, X_test, y_train, y_test = train_test_split(features, target, test_size=0.2, random_state=42)\n",
    "\n",
    "# Train a Random Forest Regressor model\n",
    "model = RandomForestRegressor(n_estimators=100, random_state=42)\n",
    "model.fit(X_train, y_train)\n",
    "\n",
    "# Step 6: Make predictions and evaluate the model\n",
    "y_pred = model.predict(X_test)\n",
    "mae = mean_absolute_error(y_test, y_pred)\n",
    "mse = mean_squared_error(y_test, y_pred)\n",
    "\n",
    "print(f\"Mean Absolute Error: {mae}\")\n",
    "print(f\"Mean Squared Error: {mse}\")\n"
   ]
  },
  {
   "cell_type": "code",
   "execution_count": 53,
   "metadata": {},
   "outputs": [
    {
     "name": "stdout",
     "output_type": "stream",
     "text": [
      "        Actual  Predicted\n",
      "694  -0.214181   0.103378\n",
      "1116 -8.110014   2.920009\n",
      "58    2.635025   3.474429\n",
      "70    0.950119   4.795033\n",
      "1030 -0.476144   1.564698\n"
     ]
    }
   ],
   "source": [
    "# Create a DataFrame for easier plotting and comparison\n",
    "results = pd.DataFrame({'Actual': y_test, 'Predicted': y_pred}, index=X_test.index)\n",
    "\n",
    "print(results.head())"
   ]
  },
  {
   "cell_type": "code",
   "execution_count": 54,
   "metadata": {},
   "outputs": [
    {
     "name": "stdout",
     "output_type": "stream",
     "text": [
      "Mean Absolute Error: 3.293820145350858\n",
      "RMSE: 4.325041218550949\n"
     ]
    }
   ],
   "source": [
    "# Prepare the features and target\n",
    "# Use the percentage change columns as features\n",
    "features = df_filtered.drop(columns=['Date', 'Monthly_Percent_Change']) # First using technical + fundamental data\n",
    "target = df_filtered['Monthly_Percent_Change']\n",
    "\n",
    "# Split the data into training and test sets\n",
    "X_train, X_test, y_train, y_test = train_test_split(features, target, test_size=0.2, random_state=42)\n",
    "\n",
    "# Train a Random Forest Regressor model\n",
    "model = RandomForestRegressor(n_estimators=100, random_state=42)\n",
    "model.fit(X_train, y_train)\n",
    "\n",
    "# Step 6: Make predictions and evaluate the model\n",
    "y_pred = model.predict(X_test)\n",
    "rmse = np.sqrt(mean_squared_error(y_test, y_pred))\n",
    "\n",
    "print(f\"MAE: {mae}\")\n",
    "print(f\"RMSE: {rmse}\")"
   ]
  },
  {
   "cell_type": "code",
   "execution_count": 55,
   "metadata": {},
   "outputs": [
    {
     "name": "stdout",
     "output_type": "stream",
     "text": [
      "       Actual  Predicted\n",
      "952  8.618504   4.064015\n",
      "352 -0.594732  -5.189128\n",
      "132 -0.590618   5.710464\n",
      "951  8.550228   5.297105\n",
      "89  -7.456478  -7.086919\n"
     ]
    }
   ],
   "source": [
    "# Create a DataFrame for easier plotting and comparison\n",
    "results = pd.DataFrame({'Actual': y_test, 'Predicted': y_pred}, index=X_test.index)\n",
    "\n",
    "print(results.head())"
   ]
  }
 ],
 "metadata": {
  "kernelspec": {
   "display_name": "Python 3",
   "language": "python",
   "name": "python3"
  },
  "language_info": {
   "codemirror_mode": {
    "name": "ipython",
    "version": 3
   },
   "file_extension": ".py",
   "mimetype": "text/x-python",
   "name": "python",
   "nbconvert_exporter": "python",
   "pygments_lexer": "ipython3",
   "version": "3.11.2"
  }
 },
 "nbformat": 4,
 "nbformat_minor": 2
}
