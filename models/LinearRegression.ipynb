{
 "cells": [
  {
   "cell_type": "code",
   "execution_count": 24,
   "metadata": {},
   "outputs": [],
   "source": [
    "import pandas as pd\n",
    "import numpy as np\n",
    "from sklearn.model_selection import train_test_split\n",
    "from sklearn.linear_model import LinearRegression\n",
    "from sklearn.metrics import mean_squared_error"
   ]
  },
  {
   "cell_type": "code",
   "execution_count": 25,
   "metadata": {},
   "outputs": [],
   "source": [
    "df = pd.read_csv('/Users/edocampione/Desktop/Meng Engineering Science/4YP/data/filtered_exxon_data.csv')"
   ]
  },
  {
   "cell_type": "code",
   "execution_count": 26,
   "metadata": {},
   "outputs": [
    {
     "name": "stdout",
     "output_type": "stream",
     "text": [
      "Train RMSE: 3.7865\n",
      "Validation RMSE: 4.2196\n",
      "Test RMSE: 4.1087\n",
      "Baseline Validation RMSE: 5.5090\n",
      "Baseline Test RMSE: 5.6246\n"
     ]
    }
   ],
   "source": [
    "# Prepare the features and target using only technical data\n",
    "fundamental_features = [\n",
    "    'Earnings_Per_Share', \n",
    "    'Long_Term_Debt', \n",
    "    'Net_Income', \n",
    "    'Revenue', \n",
    "    'Capital_Expenditure', \n",
    "    'Net_Profit_Margin', \n",
    "    'Debt_Equity_Ratio', \n",
    "    'Current_Ratio',\n",
    "    'Price_To_Book_Ratio'\n",
    "]\n",
    "    \n",
    "features = df.drop(columns=(['Date','Monthly_Percent_Change']+fundamental_features))\n",
    "features = df.drop(columns=['Date','Monthly_Percent_Change'])\n",
    "target = df['Monthly_Percent_Change']\n",
    "\n",
    "# Split the data: first into training + validation and test sets\n",
    "X_train_val, X_test, y_train_val, y_test = train_test_split(features, target, test_size=0.2, random_state=42)\n",
    "# Split the training + validation set further into training and validation sets\n",
    "X_train, X_val, y_train, y_val = train_test_split(X_train_val, y_train_val, test_size=0.25, random_state=42)  # 0.25 x 0.8 = 0.2\n",
    "\n",
    "# Initialize and train the Linear Regression model\n",
    "model = LinearRegression()\n",
    "model.fit(X_train, y_train)\n",
    "\n",
    "# Predictions and Evaluation on Training Set\n",
    "y_train_pred = model.predict(X_train)\n",
    "train_rmse = np.sqrt(mean_squared_error(y_train, y_train_pred))\n",
    "\n",
    "# Predictions and Evaluation on Validation Set\n",
    "y_val_pred = model.predict(X_val)\n",
    "val_rmse = np.sqrt(mean_squared_error(y_val, y_val_pred))\n",
    "\n",
    "# Predictions and Evaluation on Test Set\n",
    "y_test_pred = model.predict(X_test)\n",
    "test_rmse = np.sqrt(mean_squared_error(y_test, y_test_pred))\n",
    "\n",
    "print(f\"Train RMSE: {train_rmse:.4f}\")\n",
    "print(f\"Validation RMSE: {val_rmse:.4f}\")\n",
    "print(f\"Test RMSE: {test_rmse:.4f}\")\n",
    "\n",
    "# Baseline Model: Mean Prediction\n",
    "# Compute the mean of the training target\n",
    "mean_train_target = y_train.mean()\n",
    "\n",
    "# Use this mean as the prediction for all validation and test data points\n",
    "y_val_baseline = np.full_like(y_val, fill_value=mean_train_target)\n",
    "y_test_baseline = np.full_like(y_test, fill_value=mean_train_target)\n",
    "\n",
    "# Baseline evaluation for validation set\n",
    "val_baseline_rmse = np.sqrt(mean_squared_error(y_val, y_val_baseline))\n",
    "\n",
    "# Baseline evaluation for test set\n",
    "test_baseline_rmse = np.sqrt(mean_squared_error(y_test, y_test_baseline))\n",
    "\n",
    "print(f\"Baseline Validation RMSE: {val_baseline_rmse:.4f}\")\n",
    "print(f\"Baseline Test RMSE: {test_baseline_rmse:.4f}\")\n",
    "\n",
    "\n"
   ]
  },
  {
   "cell_type": "code",
   "execution_count": 27,
   "metadata": {},
   "outputs": [
    {
     "name": "stdout",
     "output_type": "stream",
     "text": [
      "        Actual  Predicted\n",
      "1176  1.249863   2.278477\n",
      "1014  0.980801   4.232043\n",
      "101  -0.807809   6.427699\n",
      "439   8.284625   1.944389\n",
      "58   -5.212535  -3.270654\n"
     ]
    }
   ],
   "source": [
    "# Create a DataFrame for easier plotting and comparison\n",
    "results = pd.DataFrame({'Actual': y_test, 'Predicted': y_test_pred}, index=X_test.index)\n",
    "\n",
    "print(results.head())"
   ]
  }
 ],
 "metadata": {
  "kernelspec": {
   "display_name": "Python 3",
   "language": "python",
   "name": "python3"
  },
  "language_info": {
   "codemirror_mode": {
    "name": "ipython",
    "version": 3
   },
   "file_extension": ".py",
   "mimetype": "text/x-python",
   "name": "python",
   "nbconvert_exporter": "python",
   "pygments_lexer": "ipython3",
   "version": "3.11.2"
  }
 },
 "nbformat": 4,
 "nbformat_minor": 2
}
