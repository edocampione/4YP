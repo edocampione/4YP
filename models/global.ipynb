{
 "cells": [
  {
   "cell_type": "code",
   "execution_count": 500,
   "metadata": {},
   "outputs": [
    {
     "data": {
      "text/html": [
       "        <script type=\"text/javascript\">\n",
       "        window.PlotlyConfig = {MathJaxConfig: 'local'};\n",
       "        if (window.MathJax && window.MathJax.Hub && window.MathJax.Hub.Config) {window.MathJax.Hub.Config({SVG: {font: \"STIX-Web\"}});}\n",
       "        if (typeof require !== 'undefined') {\n",
       "        require.undef(\"plotly\");\n",
       "        requirejs.config({\n",
       "            paths: {\n",
       "                'plotly': ['https://cdn.plot.ly/plotly-2.12.1.min']\n",
       "            }\n",
       "        });\n",
       "        require(['plotly'], function(Plotly) {\n",
       "            window._Plotly = Plotly;\n",
       "        });\n",
       "        }\n",
       "        </script>\n",
       "        "
      ]
     },
     "metadata": {},
     "output_type": "display_data"
    }
   ],
   "source": [
    "import os\n",
    "import numpy as np\n",
    "import pandas as pd\n",
    "import xgboost as xgb\n",
    "import matplotlib.pyplot as plt\n",
    "from xgboost import plot_importance, plot_tree\n",
    "from sklearn.metrics import mean_squared_error\n",
    "from sklearn.preprocessing import MinMaxScaler, StandardScaler\n",
    "from sklearn.model_selection import train_test_split, GridSearchCV\n",
    "from sklearn.metrics import accuracy_score,classification_report\n",
    "from sklearn.metrics import roc_curve, auc\n",
    "\n",
    "# Time series decomposition\n",
    "from statsmodels.tsa.seasonal import seasonal_decompose\n",
    "\n",
    "# Chart drawing\n",
    "import plotly as py\n",
    "import plotly.io as pio\n",
    "import plotly.graph_objects as go\n",
    "from plotly.subplots import make_subplots\n",
    "from plotly.offline import download_plotlyjs, init_notebook_mode, plot, iplot\n",
    "\n",
    "# Mute sklearn warnings\n",
    "from warnings import simplefilter\n",
    "simplefilter(action='ignore', category=FutureWarning)\n",
    "simplefilter(action='ignore', category=DeprecationWarning)\n",
    "\n",
    "# Show charts when running kernel\n",
    "init_notebook_mode(connected=True)\n",
    "\n",
    "# Change default background color for all visualizations\n",
    "layout=go.Layout(paper_bgcolor='rgba(0,0,0,0)', plot_bgcolor='rgba(250,250,250,0.8)')\n",
    "fig = go.Figure(layout=layout)\n",
    "templated_fig = pio.to_templated(fig)\n",
    "pio.templates['my_template'] = templated_fig.layout.template\n",
    "pio.templates.default = 'my_template'"
   ]
  },
  {
   "cell_type": "code",
   "execution_count": 501,
   "metadata": {},
   "outputs": [
    {
     "name": "stdout",
     "output_type": "stream",
     "text": [
      "<class 'pandas.core.frame.DataFrame'>\n",
      "Int64Index: 14322 entries, 1 to 15338\n",
      "Data columns (total 48 columns):\n",
      " #   Column                          Non-Null Count  Dtype         \n",
      "---  ------                          --------------  -----         \n",
      " 0   gvkey                           14322 non-null  int64         \n",
      " 1   datadate                        14322 non-null  datetime64[ns]\n",
      " 2   tic                             14322 non-null  object        \n",
      " 3   actq                            14322 non-null  float64       \n",
      " 4   ancq                            14322 non-null  float64       \n",
      " 5   epsfxq                          14302 non-null  float64       \n",
      " 6   lctq                            14322 non-null  float64       \n",
      " 7   ltq                             14322 non-null  float64       \n",
      " 8   revtq                           14322 non-null  float64       \n",
      " 9   capxy                           13783 non-null  float64       \n",
      " 10  roa                             14289 non-null  float64       \n",
      " 11  roe                             14097 non-null  float64       \n",
      " 12  pe_inc                          13681 non-null  float64       \n",
      " 13  divyield                        11113 non-null  float64       \n",
      " 14  pcf                             14290 non-null  float64       \n",
      " 15  roce                            14187 non-null  float64       \n",
      " 16  debt_ebitda                     14176 non-null  float64       \n",
      " 17  gpm                             14310 non-null  float64       \n",
      " 18  evm                             14243 non-null  float64       \n",
      " 19  cfm                             14037 non-null  float64       \n",
      " 20  npm                             14311 non-null  float64       \n",
      " 21  PEG_trailing                    9837 non-null   float64       \n",
      " 22  de_ratio                        14307 non-null  float64       \n",
      " 23  curr_ratio                      12494 non-null  float64       \n",
      " 24  ptb                             14128 non-null  float64       \n",
      " 25  roa_change                      14318 non-null  float64       \n",
      " 26  roe_change                      14316 non-null  float64       \n",
      " 27  pe_inc_change                   14322 non-null  float64       \n",
      " 28  divyield_change                 14298 non-null  float64       \n",
      " 29  pcf_change                      14322 non-null  float64       \n",
      " 30  roce_change                     14315 non-null  float64       \n",
      " 31  debt_ebitda_change              13908 non-null  float64       \n",
      " 32  gpm_change                      14322 non-null  float64       \n",
      " 33  evm_change                      14322 non-null  float64       \n",
      " 34  cfm_change                      14318 non-null  float64       \n",
      " 35  npm_change                      14309 non-null  float64       \n",
      " 36  PEG_trailing_change             14294 non-null  float64       \n",
      " 37  de_ratio_change                 14322 non-null  float64       \n",
      " 38  curr_ratio_change               14322 non-null  float64       \n",
      " 39  ptb_change                      14322 non-null  float64       \n",
      " 40  relative_quarterly_return       14322 non-null  float64       \n",
      " 41  next_relative_quarterly_return  14321 non-null  float64       \n",
      " 42  spindx                          14322 non-null  float64       \n",
      " 43  spindx_change                   14322 non-null  float64       \n",
      " 44  next_spindx_change              14321 non-null  float64       \n",
      " 45  prccq                           14321 non-null  float64       \n",
      " 46  prccq_change                    14322 non-null  float64       \n",
      " 47  next_prccq_change               14321 non-null  float64       \n",
      "dtypes: datetime64[ns](1), float64(45), int64(1), object(1)\n",
      "memory usage: 5.4+ MB\n"
     ]
    }
   ],
   "source": [
    "file_path = '/Users/edocampione/Desktop/Meng Engineering Science/4YP/scripts/dati_trattati.csv' # cleaned data\n",
    "df = pd.read_csv(file_path)\n",
    "df['datadate'] = pd.to_datetime(df['datadate'])\n",
    "df['datadate'] = df['datadate'] + pd.offsets.QuarterEnd(0)\n",
    "\n",
    "df = df.dropna(subset=['relative_quarterly_return'])\n",
    "\n",
    "df.info()"
   ]
  },
  {
   "cell_type": "code",
   "execution_count": 502,
   "metadata": {},
   "outputs": [
    {
     "name": "stdout",
     "output_type": "stream",
     "text": [
      "<class 'pandas.core.frame.DataFrame'>\n",
      "Int64Index: 11212 entries, 32 to 15337\n",
      "Data columns (total 43 columns):\n",
      " #   Column                          Non-Null Count  Dtype         \n",
      "---  ------                          --------------  -----         \n",
      " 0   gvkey                           11212 non-null  int64         \n",
      " 1   datadate                        11212 non-null  datetime64[ns]\n",
      " 2   tic                             11212 non-null  object        \n",
      " 3   actq                            11212 non-null  float64       \n",
      " 4   ancq                            11212 non-null  float64       \n",
      " 5   epsfxq                          11212 non-null  float64       \n",
      " 6   lctq                            11212 non-null  float64       \n",
      " 7   ltq                             11212 non-null  float64       \n",
      " 8   revtq                           11212 non-null  float64       \n",
      " 9   roa                             11212 non-null  float64       \n",
      " 10  roe                             11212 non-null  float64       \n",
      " 11  pe_inc                          11212 non-null  float64       \n",
      " 12  pcf                             11212 non-null  float64       \n",
      " 13  roce                            11212 non-null  float64       \n",
      " 14  debt_ebitda                     11212 non-null  float64       \n",
      " 15  gpm                             11212 non-null  float64       \n",
      " 16  evm                             11212 non-null  float64       \n",
      " 17  npm                             11212 non-null  float64       \n",
      " 18  curr_ratio                      11212 non-null  float64       \n",
      " 19  ptb                             11212 non-null  float64       \n",
      " 20  roa_change                      11212 non-null  float64       \n",
      " 21  roe_change                      11212 non-null  float64       \n",
      " 22  pe_inc_change                   11212 non-null  float64       \n",
      " 23  divyield_change                 11212 non-null  float64       \n",
      " 24  pcf_change                      11212 non-null  float64       \n",
      " 25  roce_change                     11212 non-null  float64       \n",
      " 26  debt_ebitda_change              11212 non-null  float64       \n",
      " 27  gpm_change                      11212 non-null  float64       \n",
      " 28  evm_change                      11212 non-null  float64       \n",
      " 29  cfm_change                      11212 non-null  float64       \n",
      " 30  npm_change                      11212 non-null  float64       \n",
      " 31  PEG_trailing_change             11212 non-null  float64       \n",
      " 32  de_ratio_change                 11212 non-null  float64       \n",
      " 33  curr_ratio_change               11212 non-null  float64       \n",
      " 34  ptb_change                      11212 non-null  float64       \n",
      " 35  relative_quarterly_return       11212 non-null  float64       \n",
      " 36  next_relative_quarterly_return  11212 non-null  float64       \n",
      " 37  spindx                          11212 non-null  float64       \n",
      " 38  spindx_change                   11212 non-null  float64       \n",
      " 39  next_spindx_change              11212 non-null  float64       \n",
      " 40  prccq                           11212 non-null  float64       \n",
      " 41  prccq_change                    11212 non-null  float64       \n",
      " 42  next_prccq_change               11212 non-null  float64       \n",
      "dtypes: datetime64[ns](1), float64(40), int64(1), object(1)\n",
      "memory usage: 3.8+ MB\n"
     ]
    }
   ],
   "source": [
    "drop_features = ['capxy', 'cfm', 'PEG_trailing', 'de_ratio', 'divyield']\n",
    "df = df.drop(drop_features, 1)\n",
    "df = df.dropna()\n",
    "df.info()"
   ]
  },
  {
   "cell_type": "code",
   "execution_count": 503,
   "metadata": {},
   "outputs": [
    {
     "name": "stdout",
     "output_type": "stream",
     "text": [
      "Number of unique gvkeys: 80\n",
      "['AAPL' 'ABT' 'ADBE' 'ADM' 'AMD' 'AMGN' 'AMT' 'AMZN' 'APD' 'BA' 'BAX'\n",
      " 'BMY' 'CAT' 'CL' 'CME' 'COP' 'COST' 'CSCO' 'CTSH' 'CVS' 'CVX' 'DIS' 'ECL'\n",
      " 'EQIX' 'EXC' 'EXPE' 'F' 'FDX' 'FIS' 'GE' 'GOOGL' 'HCA' 'HD' 'IBM' 'INTC'\n",
      " 'JBL' 'JNJ' 'KMB' 'KO' 'LLY' 'LMT' 'LUV' 'MA' 'MCD' 'META' 'MMC' 'MMM'\n",
      " 'MRK' 'MSFT' 'MU' 'NFLX' 'NKE' 'NOC' 'NVDA' 'OXY' 'PFE' 'PG' 'PPL' 'PYPL'\n",
      " 'QCOM' 'REGN' 'RJF' 'RTX' 'SBUX' 'SPGI' 'STZ' 'T' 'TGT' 'TMO' 'TSLA'\n",
      " 'TSN' 'UNH' 'UPS' 'V' 'VZ' 'WBA' 'WDC' 'WMT' 'XOM' 'ZTS']\n"
     ]
    }
   ],
   "source": [
    "# Find the unique number of stocks in the dataframe\n",
    "unique_gvkeys = df['tic'].unique()\n",
    "\n",
    "# Print the result\n",
    "print(f\"Number of unique gvkeys: {len(unique_gvkeys)}\")\n",
    "print(unique_gvkeys)\n"
   ]
  },
  {
   "cell_type": "code",
   "execution_count": 504,
   "metadata": {},
   "outputs": [
    {
     "name": "stdout",
     "output_type": "stream",
     "text": [
      "Number of unique gvkeys: 80\n",
      "<class 'pandas.core.frame.DataFrame'>\n",
      "Int64Index: 11212 entries, 172 to 3737\n",
      "Data columns (total 43 columns):\n",
      " #   Column                          Non-Null Count  Dtype         \n",
      "---  ------                          --------------  -----         \n",
      " 0   gvkey                           11212 non-null  int64         \n",
      " 1   datadate                        11212 non-null  datetime64[ns]\n",
      " 2   tic                             11212 non-null  object        \n",
      " 3   actq                            11212 non-null  float64       \n",
      " 4   ancq                            11212 non-null  float64       \n",
      " 5   epsfxq                          11212 non-null  float64       \n",
      " 6   lctq                            11212 non-null  float64       \n",
      " 7   ltq                             11212 non-null  float64       \n",
      " 8   revtq                           11212 non-null  float64       \n",
      " 9   roa                             11212 non-null  float64       \n",
      " 10  roe                             11212 non-null  float64       \n",
      " 11  pe_inc                          11212 non-null  float64       \n",
      " 12  pcf                             11212 non-null  float64       \n",
      " 13  roce                            11212 non-null  float64       \n",
      " 14  debt_ebitda                     11212 non-null  float64       \n",
      " 15  gpm                             11212 non-null  float64       \n",
      " 16  evm                             11212 non-null  float64       \n",
      " 17  npm                             11212 non-null  float64       \n",
      " 18  curr_ratio                      11212 non-null  float64       \n",
      " 19  ptb                             11212 non-null  float64       \n",
      " 20  roa_change                      11212 non-null  float64       \n",
      " 21  roe_change                      11212 non-null  float64       \n",
      " 22  pe_inc_change                   11212 non-null  float64       \n",
      " 23  divyield_change                 11212 non-null  float64       \n",
      " 24  pcf_change                      11212 non-null  float64       \n",
      " 25  roce_change                     11212 non-null  float64       \n",
      " 26  debt_ebitda_change              11212 non-null  float64       \n",
      " 27  gpm_change                      11212 non-null  float64       \n",
      " 28  evm_change                      11212 non-null  float64       \n",
      " 29  cfm_change                      11212 non-null  float64       \n",
      " 30  npm_change                      11212 non-null  float64       \n",
      " 31  PEG_trailing_change             11212 non-null  float64       \n",
      " 32  de_ratio_change                 11212 non-null  float64       \n",
      " 33  curr_ratio_change               11212 non-null  float64       \n",
      " 34  ptb_change                      11212 non-null  float64       \n",
      " 35  relative_quarterly_return       11212 non-null  float64       \n",
      " 36  next_relative_quarterly_return  11212 non-null  float64       \n",
      " 37  spindx                          11212 non-null  float64       \n",
      " 38  spindx_change                   11212 non-null  float64       \n",
      " 39  next_spindx_change              11212 non-null  float64       \n",
      " 40  prccq                           11212 non-null  float64       \n",
      " 41  prccq_change                    11212 non-null  float64       \n",
      " 42  next_prccq_change               11212 non-null  float64       \n",
      "dtypes: datetime64[ns](1), float64(40), int64(1), object(1)\n",
      "memory usage: 3.8+ MB\n"
     ]
    }
   ],
   "source": [
    "df = df.dropna()\n",
    "df = df.sort_values(by=['datadate'])\n",
    "\n",
    "unique_gvkeys = df['tic'].unique()\n",
    "\n",
    "# Print the result\n",
    "print(f\"Number of unique gvkeys: {len(unique_gvkeys)}\")\n",
    "\n",
    "df.info()"
   ]
  },
  {
   "cell_type": "code",
   "execution_count": 505,
   "metadata": {},
   "outputs": [
    {
     "data": {
      "text/html": [
       "<div>\n",
       "<style scoped>\n",
       "    .dataframe tbody tr th:only-of-type {\n",
       "        vertical-align: middle;\n",
       "    }\n",
       "\n",
       "    .dataframe tbody tr th {\n",
       "        vertical-align: top;\n",
       "    }\n",
       "\n",
       "    .dataframe thead th {\n",
       "        text-align: right;\n",
       "    }\n",
       "</style>\n",
       "<table border=\"1\" class=\"dataframe\">\n",
       "  <thead>\n",
       "    <tr style=\"text-align: right;\">\n",
       "      <th></th>\n",
       "      <th>gvkey</th>\n",
       "      <th>datadate</th>\n",
       "      <th>tic</th>\n",
       "      <th>actq</th>\n",
       "      <th>ancq</th>\n",
       "      <th>epsfxq</th>\n",
       "      <th>lctq</th>\n",
       "      <th>ltq</th>\n",
       "      <th>revtq</th>\n",
       "      <th>roa</th>\n",
       "      <th>...</th>\n",
       "      <th>curr_ratio_change</th>\n",
       "      <th>ptb_change</th>\n",
       "      <th>relative_quarterly_return</th>\n",
       "      <th>next_relative_quarterly_return</th>\n",
       "      <th>spindx</th>\n",
       "      <th>spindx_change</th>\n",
       "      <th>next_spindx_change</th>\n",
       "      <th>prccq</th>\n",
       "      <th>prccq_change</th>\n",
       "      <th>next_prccq_change</th>\n",
       "    </tr>\n",
       "  </thead>\n",
       "  <tbody>\n",
       "    <tr>\n",
       "      <th>32</th>\n",
       "      <td>1690</td>\n",
       "      <td>1988-12-31</td>\n",
       "      <td>AAPL</td>\n",
       "      <td>0.079635</td>\n",
       "      <td>0.174100</td>\n",
       "      <td>0.309524</td>\n",
       "      <td>0.036776</td>\n",
       "      <td>0.050238</td>\n",
       "      <td>0.202288</td>\n",
       "      <td>0.422</td>\n",
       "      <td>...</td>\n",
       "      <td>0.109926</td>\n",
       "      <td>-0.144798</td>\n",
       "      <td>-0.090732</td>\n",
       "      <td>-0.176660</td>\n",
       "      <td>277.72</td>\n",
       "      <td>0.021367</td>\n",
       "      <td>0.061753</td>\n",
       "      <td>40.250</td>\n",
       "      <td>-0.069364</td>\n",
       "      <td>-0.114907</td>\n",
       "    </tr>\n",
       "    <tr>\n",
       "      <th>33</th>\n",
       "      <td>1690</td>\n",
       "      <td>1989-03-31</td>\n",
       "      <td>AAPL</td>\n",
       "      <td>-0.002265</td>\n",
       "      <td>0.140199</td>\n",
       "      <td>-0.600000</td>\n",
       "      <td>-0.069827</td>\n",
       "      <td>-0.015156</td>\n",
       "      <td>-0.112601</td>\n",
       "      <td>0.373</td>\n",
       "      <td>...</td>\n",
       "      <td>-0.025073</td>\n",
       "      <td>0.236976</td>\n",
       "      <td>-0.176660</td>\n",
       "      <td>0.079521</td>\n",
       "      <td>294.87</td>\n",
       "      <td>0.061753</td>\n",
       "      <td>0.078374</td>\n",
       "      <td>35.625</td>\n",
       "      <td>-0.114907</td>\n",
       "      <td>0.157895</td>\n",
       "    </tr>\n",
       "    <tr>\n",
       "      <th>34</th>\n",
       "      <td>1690</td>\n",
       "      <td>1989-06-30</td>\n",
       "      <td>AAPL</td>\n",
       "      <td>0.021059</td>\n",
       "      <td>0.097413</td>\n",
       "      <td>0.681818</td>\n",
       "      <td>-0.063730</td>\n",
       "      <td>-0.031102</td>\n",
       "      <td>0.001039</td>\n",
       "      <td>0.355</td>\n",
       "      <td>...</td>\n",
       "      <td>0.007287</td>\n",
       "      <td>-0.132255</td>\n",
       "      <td>0.079521</td>\n",
       "      <td>-0.019237</td>\n",
       "      <td>317.98</td>\n",
       "      <td>0.078374</td>\n",
       "      <td>0.098025</td>\n",
       "      <td>41.250</td>\n",
       "      <td>0.157895</td>\n",
       "      <td>0.078788</td>\n",
       "    </tr>\n",
       "    <tr>\n",
       "      <th>35</th>\n",
       "      <td>1690</td>\n",
       "      <td>1989-09-30</td>\n",
       "      <td>AAPL</td>\n",
       "      <td>0.169988</td>\n",
       "      <td>0.022918</td>\n",
       "      <td>0.675676</td>\n",
       "      <td>0.198772</td>\n",
       "      <td>0.163898</td>\n",
       "      <td>0.108583</td>\n",
       "      <td>0.315</td>\n",
       "      <td>...</td>\n",
       "      <td>0.090638</td>\n",
       "      <td>-0.105653</td>\n",
       "      <td>-0.019237</td>\n",
       "      <td>-0.220038</td>\n",
       "      <td>349.15</td>\n",
       "      <td>0.098025</td>\n",
       "      <td>0.012172</td>\n",
       "      <td>44.500</td>\n",
       "      <td>0.078788</td>\n",
       "      <td>-0.207865</td>\n",
       "    </tr>\n",
       "    <tr>\n",
       "      <th>36</th>\n",
       "      <td>1690</td>\n",
       "      <td>1989-12-31</td>\n",
       "      <td>AAPL</td>\n",
       "      <td>0.013564</td>\n",
       "      <td>0.085242</td>\n",
       "      <td>-0.225806</td>\n",
       "      <td>-0.002874</td>\n",
       "      <td>0.024924</td>\n",
       "      <td>0.079231</td>\n",
       "      <td>0.319</td>\n",
       "      <td>...</td>\n",
       "      <td>-0.004682</td>\n",
       "      <td>-0.266711</td>\n",
       "      <td>-0.220038</td>\n",
       "      <td>0.179931</td>\n",
       "      <td>353.40</td>\n",
       "      <td>0.012172</td>\n",
       "      <td>-0.038087</td>\n",
       "      <td>35.250</td>\n",
       "      <td>-0.207865</td>\n",
       "      <td>0.141844</td>\n",
       "    </tr>\n",
       "  </tbody>\n",
       "</table>\n",
       "<p>5 rows × 43 columns</p>\n",
       "</div>"
      ],
      "text/plain": [
       "    gvkey   datadate   tic      actq      ancq    epsfxq      lctq       ltq  \\\n",
       "32   1690 1988-12-31  AAPL  0.079635  0.174100  0.309524  0.036776  0.050238   \n",
       "33   1690 1989-03-31  AAPL -0.002265  0.140199 -0.600000 -0.069827 -0.015156   \n",
       "34   1690 1989-06-30  AAPL  0.021059  0.097413  0.681818 -0.063730 -0.031102   \n",
       "35   1690 1989-09-30  AAPL  0.169988  0.022918  0.675676  0.198772  0.163898   \n",
       "36   1690 1989-12-31  AAPL  0.013564  0.085242 -0.225806 -0.002874  0.024924   \n",
       "\n",
       "       revtq    roa  ...  curr_ratio_change  ptb_change  \\\n",
       "32  0.202288  0.422  ...           0.109926   -0.144798   \n",
       "33 -0.112601  0.373  ...          -0.025073    0.236976   \n",
       "34  0.001039  0.355  ...           0.007287   -0.132255   \n",
       "35  0.108583  0.315  ...           0.090638   -0.105653   \n",
       "36  0.079231  0.319  ...          -0.004682   -0.266711   \n",
       "\n",
       "    relative_quarterly_return  next_relative_quarterly_return  spindx  \\\n",
       "32                  -0.090732                       -0.176660  277.72   \n",
       "33                  -0.176660                        0.079521  294.87   \n",
       "34                   0.079521                       -0.019237  317.98   \n",
       "35                  -0.019237                       -0.220038  349.15   \n",
       "36                  -0.220038                        0.179931  353.40   \n",
       "\n",
       "    spindx_change  next_spindx_change   prccq  prccq_change  next_prccq_change  \n",
       "32       0.021367            0.061753  40.250     -0.069364          -0.114907  \n",
       "33       0.061753            0.078374  35.625     -0.114907           0.157895  \n",
       "34       0.078374            0.098025  41.250      0.157895           0.078788  \n",
       "35       0.098025            0.012172  44.500      0.078788          -0.207865  \n",
       "36       0.012172           -0.038087  35.250     -0.207865           0.141844  \n",
       "\n",
       "[5 rows x 43 columns]"
      ]
     },
     "execution_count": 505,
     "metadata": {},
     "output_type": "execute_result"
    }
   ],
   "source": [
    "train_start_date = '1970-03-31'\n",
    "valid_start_date = '2010-03-31'\n",
    "test_start_date = '2013-03-31'\n",
    "end_date = '2023-09-30'\n",
    "\n",
    "train_df = df[(df['datadate'] >= train_start_date) & (df['datadate'] < valid_start_date)].sort_values(by=['tic', 'datadate'])\n",
    "valid_df = df[(df['datadate'] >= valid_start_date) & (df['datadate'] < test_start_date)].sort_values(by=['tic', 'datadate'])\n",
    "test_df = df[(df['datadate'] >= test_start_date) & (df['datadate'] < end_date)].sort_values(by=['tic', 'datadate'])\n",
    "\n",
    "train_df.head()"
   ]
  },
  {
   "cell_type": "code",
   "execution_count": 506,
   "metadata": {},
   "outputs": [
    {
     "data": {
      "text/html": [
       "<div>\n",
       "<style scoped>\n",
       "    .dataframe tbody tr th:only-of-type {\n",
       "        vertical-align: middle;\n",
       "    }\n",
       "\n",
       "    .dataframe tbody tr th {\n",
       "        vertical-align: top;\n",
       "    }\n",
       "\n",
       "    .dataframe thead th {\n",
       "        text-align: right;\n",
       "    }\n",
       "</style>\n",
       "<table border=\"1\" class=\"dataframe\">\n",
       "  <thead>\n",
       "    <tr style=\"text-align: right;\">\n",
       "      <th></th>\n",
       "      <th>actq</th>\n",
       "      <th>ancq</th>\n",
       "      <th>epsfxq</th>\n",
       "      <th>lctq</th>\n",
       "      <th>ltq</th>\n",
       "      <th>revtq</th>\n",
       "      <th>roa</th>\n",
       "      <th>roe</th>\n",
       "      <th>pe_inc</th>\n",
       "      <th>pcf</th>\n",
       "      <th>...</th>\n",
       "      <th>gpm_change</th>\n",
       "      <th>evm_change</th>\n",
       "      <th>cfm_change</th>\n",
       "      <th>npm_change</th>\n",
       "      <th>PEG_trailing_change</th>\n",
       "      <th>de_ratio_change</th>\n",
       "      <th>curr_ratio_change</th>\n",
       "      <th>ptb_change</th>\n",
       "      <th>relative_quarterly_return</th>\n",
       "      <th>next_relative_quarterly_return</th>\n",
       "    </tr>\n",
       "  </thead>\n",
       "  <tbody>\n",
       "    <tr>\n",
       "      <th>32</th>\n",
       "      <td>0.079635</td>\n",
       "      <td>0.174100</td>\n",
       "      <td>0.309524</td>\n",
       "      <td>0.036776</td>\n",
       "      <td>0.050238</td>\n",
       "      <td>0.202288</td>\n",
       "      <td>0.422</td>\n",
       "      <td>0.366</td>\n",
       "      <td>11.120</td>\n",
       "      <td>22.739</td>\n",
       "      <td>...</td>\n",
       "      <td>-0.016981</td>\n",
       "      <td>-0.084596</td>\n",
       "      <td>-0.025641</td>\n",
       "      <td>-0.030612</td>\n",
       "      <td>0.007246</td>\n",
       "      <td>-0.129302</td>\n",
       "      <td>0.109926</td>\n",
       "      <td>-0.144798</td>\n",
       "      <td>-0.090732</td>\n",
       "      <td>-0.176660</td>\n",
       "    </tr>\n",
       "    <tr>\n",
       "      <th>33</th>\n",
       "      <td>-0.002265</td>\n",
       "      <td>0.140199</td>\n",
       "      <td>-0.600000</td>\n",
       "      <td>-0.069827</td>\n",
       "      <td>-0.015156</td>\n",
       "      <td>-0.112601</td>\n",
       "      <td>0.373</td>\n",
       "      <td>0.320</td>\n",
       "      <td>15.453</td>\n",
       "      <td>38.382</td>\n",
       "      <td>...</td>\n",
       "      <td>-0.024952</td>\n",
       "      <td>0.017669</td>\n",
       "      <td>-0.114035</td>\n",
       "      <td>-0.136842</td>\n",
       "      <td>0.741007</td>\n",
       "      <td>0.028846</td>\n",
       "      <td>-0.025073</td>\n",
       "      <td>0.236976</td>\n",
       "      <td>-0.176660</td>\n",
       "      <td>0.079521</td>\n",
       "    </tr>\n",
       "    <tr>\n",
       "      <th>34</th>\n",
       "      <td>0.021059</td>\n",
       "      <td>0.097413</td>\n",
       "      <td>0.681818</td>\n",
       "      <td>-0.063730</td>\n",
       "      <td>-0.031102</td>\n",
       "      <td>0.001039</td>\n",
       "      <td>0.355</td>\n",
       "      <td>0.300</td>\n",
       "      <td>14.263</td>\n",
       "      <td>14.080</td>\n",
       "      <td>...</td>\n",
       "      <td>-0.003937</td>\n",
       "      <td>-0.057186</td>\n",
       "      <td>-0.009901</td>\n",
       "      <td>-0.036585</td>\n",
       "      <td>0.293388</td>\n",
       "      <td>-0.019730</td>\n",
       "      <td>0.007287</td>\n",
       "      <td>-0.132255</td>\n",
       "      <td>0.079521</td>\n",
       "      <td>-0.019237</td>\n",
       "    </tr>\n",
       "    <tr>\n",
       "      <th>35</th>\n",
       "      <td>0.169988</td>\n",
       "      <td>0.022918</td>\n",
       "      <td>0.675676</td>\n",
       "      <td>0.198772</td>\n",
       "      <td>0.163898</td>\n",
       "      <td>0.108583</td>\n",
       "      <td>0.315</td>\n",
       "      <td>0.293</td>\n",
       "      <td>12.535</td>\n",
       "      <td>11.013</td>\n",
       "      <td>...</td>\n",
       "      <td>0.015810</td>\n",
       "      <td>0.092809</td>\n",
       "      <td>0.100000</td>\n",
       "      <td>0.088608</td>\n",
       "      <td>-0.137380</td>\n",
       "      <td>-0.102754</td>\n",
       "      <td>0.090638</td>\n",
       "      <td>-0.105653</td>\n",
       "      <td>-0.019237</td>\n",
       "      <td>-0.220038</td>\n",
       "    </tr>\n",
       "    <tr>\n",
       "      <th>36</th>\n",
       "      <td>0.013564</td>\n",
       "      <td>0.085242</td>\n",
       "      <td>-0.225806</td>\n",
       "      <td>-0.002874</td>\n",
       "      <td>0.024924</td>\n",
       "      <td>0.079231</td>\n",
       "      <td>0.319</td>\n",
       "      <td>0.272</td>\n",
       "      <td>10.059</td>\n",
       "      <td>6.586</td>\n",
       "      <td>...</td>\n",
       "      <td>0.023346</td>\n",
       "      <td>-0.140966</td>\n",
       "      <td>-0.009091</td>\n",
       "      <td>-0.046512</td>\n",
       "      <td>-0.162963</td>\n",
       "      <td>0.011806</td>\n",
       "      <td>-0.004682</td>\n",
       "      <td>-0.266711</td>\n",
       "      <td>-0.220038</td>\n",
       "      <td>0.179931</td>\n",
       "    </tr>\n",
       "  </tbody>\n",
       "</table>\n",
       "<p>5 rows × 34 columns</p>\n",
       "</div>"
      ],
      "text/plain": [
       "        actq      ancq    epsfxq      lctq       ltq     revtq    roa    roe  \\\n",
       "32  0.079635  0.174100  0.309524  0.036776  0.050238  0.202288  0.422  0.366   \n",
       "33 -0.002265  0.140199 -0.600000 -0.069827 -0.015156 -0.112601  0.373  0.320   \n",
       "34  0.021059  0.097413  0.681818 -0.063730 -0.031102  0.001039  0.355  0.300   \n",
       "35  0.169988  0.022918  0.675676  0.198772  0.163898  0.108583  0.315  0.293   \n",
       "36  0.013564  0.085242 -0.225806 -0.002874  0.024924  0.079231  0.319  0.272   \n",
       "\n",
       "    pe_inc     pcf  ...  gpm_change  evm_change  cfm_change  npm_change  \\\n",
       "32  11.120  22.739  ...   -0.016981   -0.084596   -0.025641   -0.030612   \n",
       "33  15.453  38.382  ...   -0.024952    0.017669   -0.114035   -0.136842   \n",
       "34  14.263  14.080  ...   -0.003937   -0.057186   -0.009901   -0.036585   \n",
       "35  12.535  11.013  ...    0.015810    0.092809    0.100000    0.088608   \n",
       "36  10.059   6.586  ...    0.023346   -0.140966   -0.009091   -0.046512   \n",
       "\n",
       "    PEG_trailing_change  de_ratio_change  curr_ratio_change  ptb_change  \\\n",
       "32             0.007246        -0.129302           0.109926   -0.144798   \n",
       "33             0.741007         0.028846          -0.025073    0.236976   \n",
       "34             0.293388        -0.019730           0.007287   -0.132255   \n",
       "35            -0.137380        -0.102754           0.090638   -0.105653   \n",
       "36            -0.162963         0.011806          -0.004682   -0.266711   \n",
       "\n",
       "    relative_quarterly_return  next_relative_quarterly_return  \n",
       "32                  -0.090732                       -0.176660  \n",
       "33                  -0.176660                        0.079521  \n",
       "34                   0.079521                       -0.019237  \n",
       "35                  -0.019237                       -0.220038  \n",
       "36                  -0.220038                        0.179931  \n",
       "\n",
       "[5 rows x 34 columns]"
      ]
     },
     "execution_count": 506,
     "metadata": {},
     "output_type": "execute_result"
    }
   ],
   "source": [
    "results = test_df[['datadate', 'tic', 'next_prccq_change', 'next_relative_quarterly_return']].copy()\n",
    "\n",
    "drop_cols = ['gvkey', 'datadate', 'tic', 'spindx', 'spindx_change', 'next_spindx_change', 'prccq', 'prccq_change', 'next_prccq_change']\n",
    "\n",
    "train_df = train_df.drop(drop_cols, 1)\n",
    "valid_df = valid_df.drop(drop_cols, 1)\n",
    "test_df  = test_df.drop(drop_cols, 1)\n",
    "\n",
    "train_df.head()"
   ]
  },
  {
   "cell_type": "code",
   "execution_count": 507,
   "metadata": {},
   "outputs": [
    {
     "data": {
      "text/html": [
       "<div>\n",
       "<style scoped>\n",
       "    .dataframe tbody tr th:only-of-type {\n",
       "        vertical-align: middle;\n",
       "    }\n",
       "\n",
       "    .dataframe tbody tr th {\n",
       "        vertical-align: top;\n",
       "    }\n",
       "\n",
       "    .dataframe thead th {\n",
       "        text-align: right;\n",
       "    }\n",
       "</style>\n",
       "<table border=\"1\" class=\"dataframe\">\n",
       "  <thead>\n",
       "    <tr style=\"text-align: right;\">\n",
       "      <th></th>\n",
       "      <th>actq</th>\n",
       "      <th>ancq</th>\n",
       "      <th>epsfxq</th>\n",
       "      <th>lctq</th>\n",
       "      <th>ltq</th>\n",
       "      <th>revtq</th>\n",
       "      <th>roa</th>\n",
       "      <th>roe</th>\n",
       "      <th>pe_inc</th>\n",
       "      <th>pcf</th>\n",
       "      <th>...</th>\n",
       "      <th>debt_ebitda_change</th>\n",
       "      <th>gpm_change</th>\n",
       "      <th>evm_change</th>\n",
       "      <th>cfm_change</th>\n",
       "      <th>npm_change</th>\n",
       "      <th>PEG_trailing_change</th>\n",
       "      <th>de_ratio_change</th>\n",
       "      <th>curr_ratio_change</th>\n",
       "      <th>ptb_change</th>\n",
       "      <th>relative_quarterly_return</th>\n",
       "    </tr>\n",
       "  </thead>\n",
       "  <tbody>\n",
       "    <tr>\n",
       "      <th>32</th>\n",
       "      <td>0.079635</td>\n",
       "      <td>0.174100</td>\n",
       "      <td>0.309524</td>\n",
       "      <td>0.036776</td>\n",
       "      <td>0.050238</td>\n",
       "      <td>0.202288</td>\n",
       "      <td>0.422</td>\n",
       "      <td>0.366</td>\n",
       "      <td>11.120</td>\n",
       "      <td>22.739</td>\n",
       "      <td>...</td>\n",
       "      <td>-0.491803</td>\n",
       "      <td>-0.016981</td>\n",
       "      <td>-0.084596</td>\n",
       "      <td>-0.025641</td>\n",
       "      <td>-0.030612</td>\n",
       "      <td>0.007246</td>\n",
       "      <td>-0.129302</td>\n",
       "      <td>0.109926</td>\n",
       "      <td>-0.144798</td>\n",
       "      <td>-0.090732</td>\n",
       "    </tr>\n",
       "    <tr>\n",
       "      <th>33</th>\n",
       "      <td>-0.002265</td>\n",
       "      <td>0.140199</td>\n",
       "      <td>-0.600000</td>\n",
       "      <td>-0.069827</td>\n",
       "      <td>-0.015156</td>\n",
       "      <td>-0.112601</td>\n",
       "      <td>0.373</td>\n",
       "      <td>0.320</td>\n",
       "      <td>15.453</td>\n",
       "      <td>38.382</td>\n",
       "      <td>...</td>\n",
       "      <td>0.591398</td>\n",
       "      <td>-0.024952</td>\n",
       "      <td>0.017669</td>\n",
       "      <td>-0.114035</td>\n",
       "      <td>-0.136842</td>\n",
       "      <td>0.741007</td>\n",
       "      <td>0.028846</td>\n",
       "      <td>-0.025073</td>\n",
       "      <td>0.236976</td>\n",
       "      <td>-0.176660</td>\n",
       "    </tr>\n",
       "    <tr>\n",
       "      <th>34</th>\n",
       "      <td>0.021059</td>\n",
       "      <td>0.097413</td>\n",
       "      <td>0.681818</td>\n",
       "      <td>-0.063730</td>\n",
       "      <td>-0.031102</td>\n",
       "      <td>0.001039</td>\n",
       "      <td>0.355</td>\n",
       "      <td>0.300</td>\n",
       "      <td>14.263</td>\n",
       "      <td>14.080</td>\n",
       "      <td>...</td>\n",
       "      <td>0.108108</td>\n",
       "      <td>-0.003937</td>\n",
       "      <td>-0.057186</td>\n",
       "      <td>-0.009901</td>\n",
       "      <td>-0.036585</td>\n",
       "      <td>0.293388</td>\n",
       "      <td>-0.019730</td>\n",
       "      <td>0.007287</td>\n",
       "      <td>-0.132255</td>\n",
       "      <td>0.079521</td>\n",
       "    </tr>\n",
       "    <tr>\n",
       "      <th>35</th>\n",
       "      <td>0.169988</td>\n",
       "      <td>0.022918</td>\n",
       "      <td>0.675676</td>\n",
       "      <td>0.198772</td>\n",
       "      <td>0.163898</td>\n",
       "      <td>0.108583</td>\n",
       "      <td>0.315</td>\n",
       "      <td>0.293</td>\n",
       "      <td>12.535</td>\n",
       "      <td>11.013</td>\n",
       "      <td>...</td>\n",
       "      <td>-0.542683</td>\n",
       "      <td>0.015810</td>\n",
       "      <td>0.092809</td>\n",
       "      <td>0.100000</td>\n",
       "      <td>0.088608</td>\n",
       "      <td>-0.137380</td>\n",
       "      <td>-0.102754</td>\n",
       "      <td>0.090638</td>\n",
       "      <td>-0.105653</td>\n",
       "      <td>-0.019237</td>\n",
       "    </tr>\n",
       "    <tr>\n",
       "      <th>36</th>\n",
       "      <td>0.013564</td>\n",
       "      <td>0.085242</td>\n",
       "      <td>-0.225806</td>\n",
       "      <td>-0.002874</td>\n",
       "      <td>0.024924</td>\n",
       "      <td>0.079231</td>\n",
       "      <td>0.319</td>\n",
       "      <td>0.272</td>\n",
       "      <td>10.059</td>\n",
       "      <td>6.586</td>\n",
       "      <td>...</td>\n",
       "      <td>0.440000</td>\n",
       "      <td>0.023346</td>\n",
       "      <td>-0.140966</td>\n",
       "      <td>-0.009091</td>\n",
       "      <td>-0.046512</td>\n",
       "      <td>-0.162963</td>\n",
       "      <td>0.011806</td>\n",
       "      <td>-0.004682</td>\n",
       "      <td>-0.266711</td>\n",
       "      <td>-0.220038</td>\n",
       "    </tr>\n",
       "  </tbody>\n",
       "</table>\n",
       "<p>5 rows × 33 columns</p>\n",
       "</div>"
      ],
      "text/plain": [
       "        actq      ancq    epsfxq      lctq       ltq     revtq    roa    roe  \\\n",
       "32  0.079635  0.174100  0.309524  0.036776  0.050238  0.202288  0.422  0.366   \n",
       "33 -0.002265  0.140199 -0.600000 -0.069827 -0.015156 -0.112601  0.373  0.320   \n",
       "34  0.021059  0.097413  0.681818 -0.063730 -0.031102  0.001039  0.355  0.300   \n",
       "35  0.169988  0.022918  0.675676  0.198772  0.163898  0.108583  0.315  0.293   \n",
       "36  0.013564  0.085242 -0.225806 -0.002874  0.024924  0.079231  0.319  0.272   \n",
       "\n",
       "    pe_inc     pcf  ...  debt_ebitda_change  gpm_change  evm_change  \\\n",
       "32  11.120  22.739  ...           -0.491803   -0.016981   -0.084596   \n",
       "33  15.453  38.382  ...            0.591398   -0.024952    0.017669   \n",
       "34  14.263  14.080  ...            0.108108   -0.003937   -0.057186   \n",
       "35  12.535  11.013  ...           -0.542683    0.015810    0.092809   \n",
       "36  10.059   6.586  ...            0.440000    0.023346   -0.140966   \n",
       "\n",
       "    cfm_change  npm_change  PEG_trailing_change  de_ratio_change  \\\n",
       "32   -0.025641   -0.030612             0.007246        -0.129302   \n",
       "33   -0.114035   -0.136842             0.741007         0.028846   \n",
       "34   -0.009901   -0.036585             0.293388        -0.019730   \n",
       "35    0.100000    0.088608            -0.137380        -0.102754   \n",
       "36   -0.009091   -0.046512            -0.162963         0.011806   \n",
       "\n",
       "    curr_ratio_change  ptb_change  relative_quarterly_return  \n",
       "32           0.109926   -0.144798                  -0.090732  \n",
       "33          -0.025073    0.236976                  -0.176660  \n",
       "34           0.007287   -0.132255                   0.079521  \n",
       "35           0.090638   -0.105653                  -0.019237  \n",
       "36          -0.004682   -0.266711                  -0.220038  \n",
       "\n",
       "[5 rows x 33 columns]"
      ]
     },
     "execution_count": 507,
     "metadata": {},
     "output_type": "execute_result"
    }
   ],
   "source": [
    "y_train = train_df['next_relative_quarterly_return'].copy()\n",
    "X_train = train_df.drop(['next_relative_quarterly_return',], 1)\n",
    "\n",
    "y_valid = valid_df['next_relative_quarterly_return'].copy()\n",
    "X_valid = valid_df.drop(['next_relative_quarterly_return',], 1)\n",
    "\n",
    "y_test  = test_df['next_relative_quarterly_return'].copy()\n",
    "X_test  = test_df.drop(['next_relative_quarterly_return',], 1)\n",
    "\n",
    "X_train.head()"
   ]
  },
  {
   "cell_type": "code",
   "execution_count": 508,
   "metadata": {},
   "outputs": [
    {
     "data": {
      "text/html": [
       "<div>\n",
       "<style scoped>\n",
       "    .dataframe tbody tr th:only-of-type {\n",
       "        vertical-align: middle;\n",
       "    }\n",
       "\n",
       "    .dataframe tbody tr th {\n",
       "        vertical-align: top;\n",
       "    }\n",
       "\n",
       "    .dataframe thead th {\n",
       "        text-align: right;\n",
       "    }\n",
       "</style>\n",
       "<table border=\"1\" class=\"dataframe\">\n",
       "  <thead>\n",
       "    <tr style=\"text-align: right;\">\n",
       "      <th></th>\n",
       "      <th>actq</th>\n",
       "      <th>ancq</th>\n",
       "      <th>epsfxq</th>\n",
       "      <th>lctq</th>\n",
       "      <th>ltq</th>\n",
       "      <th>revtq</th>\n",
       "      <th>roa</th>\n",
       "      <th>roe</th>\n",
       "      <th>pe_inc</th>\n",
       "      <th>pcf</th>\n",
       "      <th>...</th>\n",
       "      <th>debt_ebitda_change</th>\n",
       "      <th>gpm_change</th>\n",
       "      <th>evm_change</th>\n",
       "      <th>cfm_change</th>\n",
       "      <th>npm_change</th>\n",
       "      <th>PEG_trailing_change</th>\n",
       "      <th>de_ratio_change</th>\n",
       "      <th>curr_ratio_change</th>\n",
       "      <th>ptb_change</th>\n",
       "      <th>relative_quarterly_return</th>\n",
       "    </tr>\n",
       "  </thead>\n",
       "  <tbody>\n",
       "    <tr>\n",
       "      <th>0</th>\n",
       "      <td>0.171845</td>\n",
       "      <td>0.183717</td>\n",
       "      <td>0.602187</td>\n",
       "      <td>0.082556</td>\n",
       "      <td>0.108864</td>\n",
       "      <td>0.105216</td>\n",
       "      <td>0.872315</td>\n",
       "      <td>0.305406</td>\n",
       "      <td>0.555650</td>\n",
       "      <td>0.486555</td>\n",
       "      <td>...</td>\n",
       "      <td>0.303075</td>\n",
       "      <td>0.282728</td>\n",
       "      <td>0.504897</td>\n",
       "      <td>0.572128</td>\n",
       "      <td>0.892791</td>\n",
       "      <td>0.114723</td>\n",
       "      <td>0.064056</td>\n",
       "      <td>0.334475</td>\n",
       "      <td>0.023210</td>\n",
       "      <td>0.104713</td>\n",
       "    </tr>\n",
       "    <tr>\n",
       "      <th>1</th>\n",
       "      <td>0.158789</td>\n",
       "      <td>0.178411</td>\n",
       "      <td>0.598283</td>\n",
       "      <td>0.074064</td>\n",
       "      <td>0.102085</td>\n",
       "      <td>0.076260</td>\n",
       "      <td>0.857489</td>\n",
       "      <td>0.304848</td>\n",
       "      <td>0.557977</td>\n",
       "      <td>0.509869</td>\n",
       "      <td>...</td>\n",
       "      <td>0.308803</td>\n",
       "      <td>0.282708</td>\n",
       "      <td>0.505808</td>\n",
       "      <td>0.570778</td>\n",
       "      <td>0.892414</td>\n",
       "      <td>0.114974</td>\n",
       "      <td>0.078339</td>\n",
       "      <td>0.284476</td>\n",
       "      <td>0.034798</td>\n",
       "      <td>0.090544</td>\n",
       "    </tr>\n",
       "    <tr>\n",
       "      <th>2</th>\n",
       "      <td>0.162507</td>\n",
       "      <td>0.171715</td>\n",
       "      <td>0.603785</td>\n",
       "      <td>0.074549</td>\n",
       "      <td>0.100432</td>\n",
       "      <td>0.086709</td>\n",
       "      <td>0.852042</td>\n",
       "      <td>0.304605</td>\n",
       "      <td>0.557338</td>\n",
       "      <td>0.473650</td>\n",
       "      <td>...</td>\n",
       "      <td>0.306247</td>\n",
       "      <td>0.282760</td>\n",
       "      <td>0.505141</td>\n",
       "      <td>0.572368</td>\n",
       "      <td>0.892770</td>\n",
       "      <td>0.114821</td>\n",
       "      <td>0.073952</td>\n",
       "      <td>0.296461</td>\n",
       "      <td>0.023591</td>\n",
       "      <td>0.132785</td>\n",
       "    </tr>\n",
       "    <tr>\n",
       "      <th>3</th>\n",
       "      <td>0.186248</td>\n",
       "      <td>0.160056</td>\n",
       "      <td>0.603758</td>\n",
       "      <td>0.095460</td>\n",
       "      <td>0.120646</td>\n",
       "      <td>0.096599</td>\n",
       "      <td>0.839939</td>\n",
       "      <td>0.304520</td>\n",
       "      <td>0.556410</td>\n",
       "      <td>0.469080</td>\n",
       "      <td>...</td>\n",
       "      <td>0.302806</td>\n",
       "      <td>0.282809</td>\n",
       "      <td>0.506477</td>\n",
       "      <td>0.574046</td>\n",
       "      <td>0.893214</td>\n",
       "      <td>0.114674</td>\n",
       "      <td>0.066453</td>\n",
       "      <td>0.327331</td>\n",
       "      <td>0.024398</td>\n",
       "      <td>0.116501</td>\n",
       "    </tr>\n",
       "    <tr>\n",
       "      <th>4</th>\n",
       "      <td>0.161312</td>\n",
       "      <td>0.169810</td>\n",
       "      <td>0.599889</td>\n",
       "      <td>0.079397</td>\n",
       "      <td>0.106240</td>\n",
       "      <td>0.093900</td>\n",
       "      <td>0.841150</td>\n",
       "      <td>0.304265</td>\n",
       "      <td>0.555080</td>\n",
       "      <td>0.462482</td>\n",
       "      <td>...</td>\n",
       "      <td>0.308003</td>\n",
       "      <td>0.282828</td>\n",
       "      <td>0.504394</td>\n",
       "      <td>0.572380</td>\n",
       "      <td>0.892734</td>\n",
       "      <td>0.114665</td>\n",
       "      <td>0.076800</td>\n",
       "      <td>0.292028</td>\n",
       "      <td>0.019510</td>\n",
       "      <td>0.083392</td>\n",
       "    </tr>\n",
       "  </tbody>\n",
       "</table>\n",
       "<p>5 rows × 33 columns</p>\n",
       "</div>"
      ],
      "text/plain": [
       "       actq      ancq    epsfxq      lctq       ltq     revtq       roa  \\\n",
       "0  0.171845  0.183717  0.602187  0.082556  0.108864  0.105216  0.872315   \n",
       "1  0.158789  0.178411  0.598283  0.074064  0.102085  0.076260  0.857489   \n",
       "2  0.162507  0.171715  0.603785  0.074549  0.100432  0.086709  0.852042   \n",
       "3  0.186248  0.160056  0.603758  0.095460  0.120646  0.096599  0.839939   \n",
       "4  0.161312  0.169810  0.599889  0.079397  0.106240  0.093900  0.841150   \n",
       "\n",
       "        roe    pe_inc       pcf  ...  debt_ebitda_change  gpm_change  \\\n",
       "0  0.305406  0.555650  0.486555  ...            0.303075    0.282728   \n",
       "1  0.304848  0.557977  0.509869  ...            0.308803    0.282708   \n",
       "2  0.304605  0.557338  0.473650  ...            0.306247    0.282760   \n",
       "3  0.304520  0.556410  0.469080  ...            0.302806    0.282809   \n",
       "4  0.304265  0.555080  0.462482  ...            0.308003    0.282828   \n",
       "\n",
       "   evm_change  cfm_change  npm_change  PEG_trailing_change  de_ratio_change  \\\n",
       "0    0.504897    0.572128    0.892791             0.114723         0.064056   \n",
       "1    0.505808    0.570778    0.892414             0.114974         0.078339   \n",
       "2    0.505141    0.572368    0.892770             0.114821         0.073952   \n",
       "3    0.506477    0.574046    0.893214             0.114674         0.066453   \n",
       "4    0.504394    0.572380    0.892734             0.114665         0.076800   \n",
       "\n",
       "   curr_ratio_change  ptb_change  relative_quarterly_return  \n",
       "0           0.334475    0.023210                   0.104713  \n",
       "1           0.284476    0.034798                   0.090544  \n",
       "2           0.296461    0.023591                   0.132785  \n",
       "3           0.327331    0.024398                   0.116501  \n",
       "4           0.292028    0.019510                   0.083392  \n",
       "\n",
       "[5 rows x 33 columns]"
      ]
     },
     "execution_count": 508,
     "metadata": {},
     "output_type": "execute_result"
    }
   ],
   "source": [
    "# Scaling\n",
    "scaler = MinMaxScaler()\n",
    "\n",
    "# Fit the scaler on the training/validation data\n",
    "X_train_scaled = scaler.fit_transform(X_train)\n",
    "\n",
    "# Now apply the same scaling to the val/test data using the already fitted scaler\n",
    "X_valid_scaled = scaler.transform(X_valid)\n",
    "X_test_scaled = scaler.transform(X_test)\n",
    "\n",
    "# Convert the scaled data back to DataFrame for consistency\n",
    "X_train_scaled = pd.DataFrame(X_train_scaled, columns=X_train.columns)\n",
    "X_valid_scaled = pd.DataFrame(X_valid_scaled, columns=X_valid.columns)\n",
    "X_test_scaled = pd.DataFrame(X_test_scaled, columns=X_test.columns)\n",
    "\n",
    "X_train_scaled.head()"
   ]
  },
  {
   "cell_type": "code",
   "execution_count": 509,
   "metadata": {},
   "outputs": [
    {
     "name": "stderr",
     "output_type": "stream",
     "text": [
      "/opt/anaconda3/lib/python3.9/site-packages/xgboost/core.py:158: UserWarning:\n",
      "\n",
      "[19:58:12] WARNING: /Users/runner/work/xgboost/xgboost/src/learner.cc:740: \n",
      "Parameters: { \"eval_set\", \"verbose\" } are not used.\n",
      "\n",
      "\n"
     ]
    },
    {
     "name": "stderr",
     "output_type": "stream",
     "text": [
      "/opt/anaconda3/lib/python3.9/site-packages/xgboost/core.py:158: UserWarning:\n",
      "\n",
      "[19:58:17] WARNING: /Users/runner/work/xgboost/xgboost/src/learner.cc:740: \n",
      "Parameters: { \"eval_set\", \"verbose\" } are not used.\n",
      "\n",
      "\n",
      "/opt/anaconda3/lib/python3.9/site-packages/xgboost/core.py:158: UserWarning:\n",
      "\n",
      "[19:58:23] WARNING: /Users/runner/work/xgboost/xgboost/src/learner.cc:740: \n",
      "Parameters: { \"eval_set\", \"verbose\" } are not used.\n",
      "\n",
      "\n",
      "/opt/anaconda3/lib/python3.9/site-packages/xgboost/core.py:158: UserWarning:\n",
      "\n",
      "[19:58:24] WARNING: /Users/runner/work/xgboost/xgboost/src/learner.cc:740: \n",
      "Parameters: { \"eval_set\", \"verbose\" } are not used.\n",
      "\n",
      "\n",
      "/opt/anaconda3/lib/python3.9/site-packages/xgboost/core.py:158: UserWarning:\n",
      "\n",
      "[19:58:25] WARNING: /Users/runner/work/xgboost/xgboost/src/learner.cc:740: \n",
      "Parameters: { \"eval_set\", \"verbose\" } are not used.\n",
      "\n",
      "\n",
      "/opt/anaconda3/lib/python3.9/site-packages/xgboost/core.py:158: UserWarning:\n",
      "\n",
      "[19:58:26] WARNING: /Users/runner/work/xgboost/xgboost/src/learner.cc:740: \n",
      "Parameters: { \"eval_set\", \"verbose\" } are not used.\n",
      "\n",
      "\n"
     ]
    },
    {
     "name": "stdout",
     "output_type": "stream",
     "text": [
      "Best params: {'gamma': 0.1, 'learning_rate': 0.05, 'max_depth': 8, 'n_estimators': 300, 'random_state': 42}\n",
      "Best validation score = 0.25929094023083\n",
      "CPU times: user 32.2 s, sys: 1.91 s, total: 34.1 s\n",
      "Wall time: 15.1 s\n"
     ]
    }
   ],
   "source": [
    "\n",
    "\n",
    "%%time\n",
    "\n",
    "parameters = {\n",
    "    'n_estimators': [300],\n",
    "    'learning_rate': [0.05],\n",
    "    'max_depth': [8],\n",
    "    'gamma': [0.1],\n",
    "    'random_state': [42]\n",
    "}\n",
    "\n",
    "eval_set = [(X_train_scaled, y_train), (X_valid_scaled, y_valid)]\n",
    "model = xgb.XGBRegressor(eval_set=eval_set, objective='reg:squarederror', verbose=False)\n",
    "clf = GridSearchCV(model, parameters)\n",
    "\n",
    "clf.fit(X_train_scaled, y_train)\n",
    "\n",
    "print(f'Best params: {clf.best_params_}')\n",
    "print(f'Best validation score = {clf.best_score_}')\n",
    "\n"
   ]
  },
  {
   "cell_type": "code",
   "execution_count": 510,
   "metadata": {},
   "outputs": [
    {
     "name": "stdout",
     "output_type": "stream",
     "text": [
      "CPU times: user 7.49 s, sys: 246 ms, total: 7.73 s\n",
      "Wall time: 1.1 s\n"
     ]
    },
    {
     "data": {
      "text/plain": [
       "XGBRegressor(base_score=None, booster=None, callbacks=None,\n",
       "             colsample_bylevel=None, colsample_bynode=None,\n",
       "             colsample_bytree=None, device=None, early_stopping_rounds=None,\n",
       "             enable_categorical=False, eval_metric=None, feature_types=None,\n",
       "             gamma=0.1, grow_policy=None, importance_type=None,\n",
       "             interaction_constraints=None, learning_rate=0.05, max_bin=None,\n",
       "             max_cat_threshold=None, max_cat_to_onehot=None,\n",
       "             max_delta_step=None, max_depth=8, max_leaves=None,\n",
       "             min_child_weight=None, missing=nan, monotone_constraints=None,\n",
       "             multi_strategy=None, n_estimators=300, n_jobs=None,\n",
       "             num_parallel_tree=None, random_state=42, ...)"
      ]
     },
     "execution_count": 510,
     "metadata": {},
     "output_type": "execute_result"
    }
   ],
   "source": [
    "%%time\n",
    "\n",
    "model = xgb.XGBRegressor(**clf.best_params_, objective='reg:squarederror')\n",
    "model.fit(X_train_scaled, y_train, eval_set=eval_set, verbose=False)"
   ]
  },
  {
   "cell_type": "code",
   "execution_count": 511,
   "metadata": {},
   "outputs": [
    {
     "data": {
      "image/png": "[encoded data removed]",
      "text/plain": [
       "<Figure size 640x480 with 1 Axes>"
      ]
     },
     "metadata": {},
     "output_type": "display_data"
    }
   ],
   "source": [
    "plot_importance(model);\n",
    "\n",
    "# Get the feature importance scores\n",
    "importance = model.get_booster().get_score(importance_type='weight')\n",
    "\n",
    "# Sort the features by importance\n",
    "sorted_importance = sorted(importance.items(), key=lambda x: x[1], reverse=True)\n",
    "\n",
    "# Extract the most important features as a list of feature names (strings)\n",
    "important_features = [feature for feature, score in sorted_importance[:5]]\n"
   ]
  },
  {
   "cell_type": "code",
   "execution_count": 512,
   "metadata": {},
   "outputs": [
    {
     "name": "stdout",
     "output_type": "stream",
     "text": [
      "              precision    recall  f1-score   support\n",
      "\n",
      "           0       0.75      0.59      0.66      1470\n",
      "           1       0.66      0.80      0.73      1465\n",
      "\n",
      "    accuracy                           0.70      2935\n",
      "   macro avg       0.71      0.70      0.69      2935\n",
      "weighted avg       0.71      0.70      0.69      2935\n",
      "\n"
     ]
    }
   ],
   "source": [
    "# Predictions\n",
    "y_train_pred = model.predict(X_train_scaled)\n",
    "y_valid_pred = model.predict(X_valid_scaled)\n",
    "y_test_pred = model.predict(X_test_scaled)\n",
    "\n",
    "# Classifier\n",
    "y_train_pred_binary = (y_train_pred >= 0).astype(int)\n",
    "y_valid_pred_binary = (y_valid_pred >= 0).astype(int)\n",
    "y_test_pred_binary = (y_test_pred >= 0).astype(int)\n",
    "\n",
    "y_train_binary = (y_train >= 0).astype(int)\n",
    "y_valid_binary = (y_valid >= 0).astype(int)\n",
    "y_test_binary = (y_test >= 0).astype(int)\n",
    "\n",
    "print(classification_report(y_test_binary, y_test_pred_binary))\n",
    "\n"
   ]
  },
  {
   "cell_type": "code",
   "execution_count": 513,
   "metadata": {},
   "outputs": [
    {
     "data": {
      "text/html": [
       "<div>\n",
       "<style scoped>\n",
       "    .dataframe tbody tr th:only-of-type {\n",
       "        vertical-align: middle;\n",
       "    }\n",
       "\n",
       "    .dataframe tbody tr th {\n",
       "        vertical-align: top;\n",
       "    }\n",
       "\n",
       "    .dataframe thead th {\n",
       "        text-align: right;\n",
       "    }\n",
       "</style>\n",
       "<table border=\"1\" class=\"dataframe\">\n",
       "  <thead>\n",
       "    <tr style=\"text-align: right;\">\n",
       "      <th></th>\n",
       "      <th>datadate</th>\n",
       "      <th>tic</th>\n",
       "      <th>next_prccq_change</th>\n",
       "      <th>next_relative_quarterly_return</th>\n",
       "      <th>y_pred</th>\n",
       "    </tr>\n",
       "  </thead>\n",
       "  <tbody>\n",
       "    <tr>\n",
       "      <th>131</th>\n",
       "      <td>2013-09-30</td>\n",
       "      <td>AAPL</td>\n",
       "      <td>0.176759</td>\n",
       "      <td>0.077559</td>\n",
       "      <td>0.124467</td>\n",
       "    </tr>\n",
       "    <tr>\n",
       "      <th>132</th>\n",
       "      <td>2013-12-31</td>\n",
       "      <td>AAPL</td>\n",
       "      <td>-0.043278</td>\n",
       "      <td>-0.056252</td>\n",
       "      <td>0.001057</td>\n",
       "    </tr>\n",
       "    <tr>\n",
       "      <th>135</th>\n",
       "      <td>2014-09-30</td>\n",
       "      <td>AAPL</td>\n",
       "      <td>0.095583</td>\n",
       "      <td>0.051670</td>\n",
       "      <td>0.068938</td>\n",
       "    </tr>\n",
       "    <tr>\n",
       "      <th>136</th>\n",
       "      <td>2014-12-31</td>\n",
       "      <td>AAPL</td>\n",
       "      <td>0.127288</td>\n",
       "      <td>0.122921</td>\n",
       "      <td>0.049548</td>\n",
       "    </tr>\n",
       "    <tr>\n",
       "      <th>137</th>\n",
       "      <td>2015-03-31</td>\n",
       "      <td>AAPL</td>\n",
       "      <td>0.007996</td>\n",
       "      <td>0.010308</td>\n",
       "      <td>-0.024520</td>\n",
       "    </tr>\n",
       "  </tbody>\n",
       "</table>\n",
       "</div>"
      ],
      "text/plain": [
       "      datadate   tic  next_prccq_change  next_relative_quarterly_return  \\\n",
       "131 2013-09-30  AAPL           0.176759                        0.077559   \n",
       "132 2013-12-31  AAPL          -0.043278                       -0.056252   \n",
       "135 2014-09-30  AAPL           0.095583                        0.051670   \n",
       "136 2014-12-31  AAPL           0.127288                        0.122921   \n",
       "137 2015-03-31  AAPL           0.007996                        0.010308   \n",
       "\n",
       "       y_pred  \n",
       "131  0.124467  \n",
       "132  0.001057  \n",
       "135  0.068938  \n",
       "136  0.049548  \n",
       "137 -0.024520  "
      ]
     },
     "execution_count": 513,
     "metadata": {},
     "output_type": "execute_result"
    }
   ],
   "source": [
    "results['y_pred'] = y_test_pred\n",
    "#results = results.sort_values(by=['datadate', 'y_pred'])\n",
    "\n",
    "results.head()\n",
    "\n"
   ]
  },
  {
   "cell_type": "code",
   "execution_count": 514,
   "metadata": {},
   "outputs": [
    {
     "data": {
      "text/html": [
       "<div>\n",
       "<style scoped>\n",
       "    .dataframe tbody tr th:only-of-type {\n",
       "        vertical-align: middle;\n",
       "    }\n",
       "\n",
       "    .dataframe tbody tr th {\n",
       "        vertical-align: top;\n",
       "    }\n",
       "\n",
       "    .dataframe thead th {\n",
       "        text-align: right;\n",
       "    }\n",
       "</style>\n",
       "<table border=\"1\" class=\"dataframe\">\n",
       "  <thead>\n",
       "    <tr style=\"text-align: right;\">\n",
       "      <th></th>\n",
       "      <th>datadate</th>\n",
       "      <th>stocks</th>\n",
       "      <th>baseline</th>\n",
       "      <th>top_10</th>\n",
       "      <th>top_10_ideal</th>\n",
       "      <th>bottom_10</th>\n",
       "      <th>bottom_10_ideal</th>\n",
       "    </tr>\n",
       "  </thead>\n",
       "  <tbody>\n",
       "    <tr>\n",
       "      <th>0</th>\n",
       "      <td>2013-03-31</td>\n",
       "      <td>66</td>\n",
       "      <td>0.091472</td>\n",
       "      <td>0.424071</td>\n",
       "      <td>0.435377</td>\n",
       "      <td>-0.021347</td>\n",
       "      <td>-0.084238</td>\n",
       "    </tr>\n",
       "    <tr>\n",
       "      <th>1</th>\n",
       "      <td>2013-06-30</td>\n",
       "      <td>67</td>\n",
       "      <td>0.072373</td>\n",
       "      <td>0.216697</td>\n",
       "      <td>0.316802</td>\n",
       "      <td>-0.015938</td>\n",
       "      <td>-0.061988</td>\n",
       "    </tr>\n",
       "    <tr>\n",
       "      <th>2</th>\n",
       "      <td>2013-09-30</td>\n",
       "      <td>70</td>\n",
       "      <td>0.106628</td>\n",
       "      <td>0.235707</td>\n",
       "      <td>0.318250</td>\n",
       "      <td>-0.060497</td>\n",
       "      <td>-0.081207</td>\n",
       "    </tr>\n",
       "    <tr>\n",
       "      <th>3</th>\n",
       "      <td>2013-12-31</td>\n",
       "      <td>69</td>\n",
       "      <td>0.036740</td>\n",
       "      <td>0.142012</td>\n",
       "      <td>0.212162</td>\n",
       "      <td>-0.017447</td>\n",
       "      <td>-0.089119</td>\n",
       "    </tr>\n",
       "    <tr>\n",
       "      <th>4</th>\n",
       "      <td>2014-03-31</td>\n",
       "      <td>69</td>\n",
       "      <td>0.043231</td>\n",
       "      <td>0.089474</td>\n",
       "      <td>0.168357</td>\n",
       "      <td>0.043606</td>\n",
       "      <td>-0.061300</td>\n",
       "    </tr>\n",
       "    <tr>\n",
       "      <th>5</th>\n",
       "      <td>2014-06-30</td>\n",
       "      <td>71</td>\n",
       "      <td>0.026139</td>\n",
       "      <td>0.095784</td>\n",
       "      <td>0.174932</td>\n",
       "      <td>-0.057136</td>\n",
       "      <td>-0.099601</td>\n",
       "    </tr>\n",
       "    <tr>\n",
       "      <th>6</th>\n",
       "      <td>2014-09-30</td>\n",
       "      <td>69</td>\n",
       "      <td>0.050479</td>\n",
       "      <td>0.173309</td>\n",
       "      <td>0.197413</td>\n",
       "      <td>-0.075149</td>\n",
       "      <td>-0.118342</td>\n",
       "    </tr>\n",
       "    <tr>\n",
       "      <th>7</th>\n",
       "      <td>2014-12-31</td>\n",
       "      <td>68</td>\n",
       "      <td>0.025900</td>\n",
       "      <td>0.121870</td>\n",
       "      <td>0.177872</td>\n",
       "      <td>-0.048405</td>\n",
       "      <td>-0.128522</td>\n",
       "    </tr>\n",
       "    <tr>\n",
       "      <th>8</th>\n",
       "      <td>2015-03-31</td>\n",
       "      <td>69</td>\n",
       "      <td>0.016074</td>\n",
       "      <td>0.141075</td>\n",
       "      <td>0.208564</td>\n",
       "      <td>-0.064951</td>\n",
       "      <td>-0.111613</td>\n",
       "    </tr>\n",
       "    <tr>\n",
       "      <th>9</th>\n",
       "      <td>2015-06-30</td>\n",
       "      <td>67</td>\n",
       "      <td>-0.055364</td>\n",
       "      <td>0.051937</td>\n",
       "      <td>0.097880</td>\n",
       "      <td>-0.182313</td>\n",
       "      <td>-0.221275</td>\n",
       "    </tr>\n",
       "  </tbody>\n",
       "</table>\n",
       "</div>"
      ],
      "text/plain": [
       "    datadate  stocks  baseline    top_10  top_10_ideal  bottom_10  \\\n",
       "0 2013-03-31      66  0.091472  0.424071      0.435377  -0.021347   \n",
       "1 2013-06-30      67  0.072373  0.216697      0.316802  -0.015938   \n",
       "2 2013-09-30      70  0.106628  0.235707      0.318250  -0.060497   \n",
       "3 2013-12-31      69  0.036740  0.142012      0.212162  -0.017447   \n",
       "4 2014-03-31      69  0.043231  0.089474      0.168357   0.043606   \n",
       "5 2014-06-30      71  0.026139  0.095784      0.174932  -0.057136   \n",
       "6 2014-09-30      69  0.050479  0.173309      0.197413  -0.075149   \n",
       "7 2014-12-31      68  0.025900  0.121870      0.177872  -0.048405   \n",
       "8 2015-03-31      69  0.016074  0.141075      0.208564  -0.064951   \n",
       "9 2015-06-30      67 -0.055364  0.051937      0.097880  -0.182313   \n",
       "\n",
       "   bottom_10_ideal  \n",
       "0        -0.084238  \n",
       "1        -0.061988  \n",
       "2        -0.081207  \n",
       "3        -0.089119  \n",
       "4        -0.061300  \n",
       "5        -0.099601  \n",
       "6        -0.118342  \n",
       "7        -0.128522  \n",
       "8        -0.111613  \n",
       "9        -0.221275  "
      ]
     },
     "execution_count": 514,
     "metadata": {},
     "output_type": "execute_result"
    }
   ],
   "source": [
    "# Group by 'datadate' and calculate the count of rows and the mean of 'next_prccq_change'\n",
    "df_avg = results.groupby('datadate').agg(\n",
    "    stocks=('next_prccq_change', 'size'),\n",
    "    baseline=('next_prccq_change', 'mean')\n",
    ").reset_index()\n",
    "\n",
    "\n",
    "# Add a 'top_10' column that contains the average of the top 10 highest 'y_pred' for each quarter\n",
    "df_avg['top_10'] = results.groupby('datadate').apply(\n",
    "    lambda x: x.nlargest(10, 'y_pred')['next_prccq_change'].mean()\n",
    ").reset_index(level=0, drop=True)\n",
    "\n",
    "\n",
    "df_avg['top_10_ideal'] = results.groupby('datadate').apply(\n",
    "    lambda x: x.nlargest(10, 'next_prccq_change')['next_prccq_change'].mean()\n",
    ").reset_index(level=0, drop=True)\n",
    "\n",
    "\n",
    "df_avg['bottom_10'] = results.groupby('datadate').apply(\n",
    "    lambda x: x.nsmallest(10, 'y_pred')['next_prccq_change'].mean()\n",
    ").reset_index(level=0, drop=True)\n",
    "\n",
    "\n",
    "df_avg['bottom_10_ideal'] = results.groupby('datadate').apply(\n",
    "    lambda x: x.nsmallest(10, 'next_prccq_change')['next_prccq_change'].mean()\n",
    ").reset_index(level=0, drop=True)\n",
    "\n",
    "# Show the first few rows of the new dataframe\n",
    "df_avg.head(10)\n"
   ]
  },
  {
   "cell_type": "code",
   "execution_count": 515,
   "metadata": {},
   "outputs": [
    {
     "name": "stdout",
     "output_type": "stream",
     "text": [
      "Mean quarterly return of the baseline portfolio: 0.03605902462421427\n",
      "Sharpe Ratio of the baseline portfolio: 0.17847995042685905\n",
      "\n",
      "Mean quarterly return of the top_10 portfolio: 0.16767700195556537\n",
      "Sharpe Ratio of the top_10 portfolio: 1.5124466747699288\n",
      "\n"
     ]
    }
   ],
   "source": [
    "for portfolio in ['baseline', 'top_10']:\n",
    "\n",
    "    mean_return = df_avg[portfolio].mean()\n",
    "\n",
    "    # Calculate the standard deviation of the returns of the top 10 portfolio\n",
    "    std_return = df_avg[portfolio].std()\n",
    "\n",
    "    # Assuming the risk-free rate is 0 (if you have a specific risk-free rate, replace 0 with that value)\n",
    "    risk_free_rate = 0.025\n",
    "\n",
    "    # Calculate the Sharpe ratio\n",
    "    sharpe_ratio = (mean_return - risk_free_rate) / std_return\n",
    "\n",
    "    # Print the Sharpe ratio\n",
    "    print(f\"Mean quarterly return of the {portfolio} portfolio: {mean_return}\")\n",
    "    print(f\"Sharpe Ratio of the {portfolio} portfolio: {sharpe_ratio}\")\n",
    "    print(\"\")"
   ]
  },
  {
   "cell_type": "code",
   "execution_count": 516,
   "metadata": {},
   "outputs": [
    {
     "data": {
      "application/vnd.plotly.v1+json": {
       "config": {
        "plotlyServerURL": "https://plot.ly"
       },
       "data": [
        {
         "mode": "lines",
         "name": "Baseline Portfolio",
         "type": "scatter",
         "x": [
          "2013-03-31T00:00:00",
          "2013-06-30T00:00:00",
          "2013-09-30T00:00:00",
          "2013-12-31T00:00:00",
          "2014-03-31T00:00:00",
          "2014-06-30T00:00:00",
          "2014-09-30T00:00:00",
          "2014-12-31T00:00:00",
          "2015-03-31T00:00:00",
          "2015-06-30T00:00:00",
          "2015-09-30T00:00:00",
          "2015-12-31T00:00:00",
          "2016-03-31T00:00:00",
          "2016-06-30T00:00:00",
          "2016-09-30T00:00:00",
          "2016-12-31T00:00:00",
          "2017-03-31T00:00:00",
          "2017-06-30T00:00:00",
          "2017-09-30T00:00:00",
          "2017-12-31T00:00:00",
          "2018-03-31T00:00:00",
          "2018-06-30T00:00:00",
          "2018-09-30T00:00:00",
          "2018-12-31T00:00:00",
          "2019-03-31T00:00:00",
          "2019-06-30T00:00:00",
          "2019-09-30T00:00:00",
          "2019-12-31T00:00:00",
          "2020-03-31T00:00:00",
          "2020-06-30T00:00:00",
          "2020-09-30T00:00:00",
          "2020-12-31T00:00:00",
          "2021-03-31T00:00:00",
          "2021-06-30T00:00:00",
          "2021-09-30T00:00:00",
          "2021-12-31T00:00:00",
          "2022-03-31T00:00:00",
          "2022-06-30T00:00:00",
          "2022-09-30T00:00:00",
          "2022-12-31T00:00:00",
          "2023-03-31T00:00:00",
          "2023-06-30T00:00:00"
         ],
         "y": [
          1091.472111665351,
          1170.4647814520024,
          1295.2691051861777,
          1342.85786693635,
          1400.9108637149773,
          1437.5292190272637,
          1510.0944890681558,
          1549.20551196771,
          1574.1067231471427,
          1486.9585560678684,
          1607.735775661612,
          1603.5297802370949,
          1666.6329779228547,
          1742.9877930034468,
          1768.3823759529369,
          1895.0008694218648,
          1984.4139719732902,
          2085.3980185089645,
          2197.2672064333074,
          2250.355271327874,
          2341.7063218629787,
          2534.0262644174454,
          2292.1544480804973,
          2505.9299300488733,
          2568.1006734575553,
          2647.243265730138,
          2897.8894618354366,
          2449.677014971172,
          2852.4628626475883,
          3096.420688577384,
          3421.948904030547,
          3681.2455888445697,
          3933.74489311249,
          3942.580800016818,
          4310.542573906424,
          4232.274962675608,
          3780.80969531531,
          3489.028756550173,
          3755.7685178383463,
          3919.7753220853388,
          4099.461838441852,
          4098.761706831914
         ]
        },
        {
         "mode": "lines",
         "name": "Top 10 Portfolio",
         "type": "scatter",
         "x": [
          "2013-03-31T00:00:00",
          "2013-06-30T00:00:00",
          "2013-09-30T00:00:00",
          "2013-12-31T00:00:00",
          "2014-03-31T00:00:00",
          "2014-06-30T00:00:00",
          "2014-09-30T00:00:00",
          "2014-12-31T00:00:00",
          "2015-03-31T00:00:00",
          "2015-06-30T00:00:00",
          "2015-09-30T00:00:00",
          "2015-12-31T00:00:00",
          "2016-03-31T00:00:00",
          "2016-06-30T00:00:00",
          "2016-09-30T00:00:00",
          "2016-12-31T00:00:00",
          "2017-03-31T00:00:00",
          "2017-06-30T00:00:00",
          "2017-09-30T00:00:00",
          "2017-12-31T00:00:00",
          "2018-03-31T00:00:00",
          "2018-06-30T00:00:00",
          "2018-09-30T00:00:00",
          "2018-12-31T00:00:00",
          "2019-03-31T00:00:00",
          "2019-06-30T00:00:00",
          "2019-09-30T00:00:00",
          "2019-12-31T00:00:00",
          "2020-03-31T00:00:00",
          "2020-06-30T00:00:00",
          "2020-09-30T00:00:00",
          "2020-12-31T00:00:00",
          "2021-03-31T00:00:00",
          "2021-06-30T00:00:00",
          "2021-09-30T00:00:00",
          "2021-12-31T00:00:00",
          "2022-03-31T00:00:00",
          "2022-06-30T00:00:00",
          "2022-09-30T00:00:00",
          "2022-12-31T00:00:00",
          "2023-03-31T00:00:00",
          "2023-06-30T00:00:00"
         ],
         "y": [
          1424.0709229409867,
          1732.6635208335988,
          2141.0651991961095,
          2445.121795046843,
          2663.895675108836,
          2919.0548018577774,
          3424.9540675912963,
          3842.354840528946,
          4384.415558931949,
          4612.1270691273385,
          5888.662050444832,
          6371.993488898817,
          6975.262405891981,
          8192.977391787643,
          9558.262946464949,
          11435.994042199753,
          13055.274467897738,
          14808.860943269648,
          17561.48842558341,
          19071.37482733037,
          20965.694025154866,
          25476.80622997027,
          25319.097051670928,
          30824.424439129114,
          34764.76423652201,
          38306.501769520066,
          51783.1245194046,
          53701.21712620414,
          71367.14159490941,
          81129.76742084109,
          107043.9920266992,
          135293.75964061182,
          156145.1816147546,
          172783.87113573344,
          214110.93222692658,
          273599.82309753797,
          274551.68235536275,
          282505.7634626685,
          329875.50071974564,
          402164.35188257525,
          490974.5425815222,
          589335.7047741271
         ]
        }
       ],
       "layout": {
        "template": {
         "data": {
          "bar": [
           {
            "error_x": {
             "color": "#2a3f5f"
            },
            "error_y": {
             "color": "#2a3f5f"
            },
            "marker": {
             "line": {
              "color": "#E5ECF6",
              "width": 0.5
             },
             "pattern": {
              "fillmode": "overlay",
              "size": 10,
              "solidity": 0.2
             }
            },
            "type": "bar"
           }
          ],
          "barpolar": [
           {
            "marker": {
             "line": {
              "color": "#E5ECF6",
              "width": 0.5
             },
             "pattern": {
              "fillmode": "overlay",
              "size": 10,
              "solidity": 0.2
             }
            },
            "type": "barpolar"
           }
          ],
          "carpet": [
           {
            "aaxis": {
             "endlinecolor": "#2a3f5f",
             "gridcolor": "white",
             "linecolor": "white",
             "minorgridcolor": "white",
             "startlinecolor": "#2a3f5f"
            },
            "baxis": {
             "endlinecolor": "#2a3f5f",
             "gridcolor": "white",
             "linecolor": "white",
             "minorgridcolor": "white",
             "startlinecolor": "#2a3f5f"
            },
            "type": "carpet"
           }
          ],
          "choropleth": [
           {
            "colorbar": {
             "outlinewidth": 0,
             "ticks": ""
            },
            "type": "choropleth"
           }
          ],
          "contour": [
           {
            "colorbar": {
             "outlinewidth": 0,
             "ticks": ""
            },
            "colorscale": [
             [
              0,
              "#0d0887"
             ],
             [
              0.1111111111111111,
              "#46039f"
             ],
             [
              0.2222222222222222,
              "#7201a8"
             ],
             [
              0.3333333333333333,
              "#9c179e"
             ],
             [
              0.4444444444444444,
              "#bd3786"
             ],
             [
              0.5555555555555556,
              "#d8576b"
             ],
             [
              0.6666666666666666,
              "#ed7953"
             ],
             [
              0.7777777777777778,
              "#fb9f3a"
             ],
             [
              0.8888888888888888,
              "#fdca26"
             ],
             [
              1,
              "#f0f921"
             ]
            ],
            "type": "contour"
           }
          ],
          "contourcarpet": [
           {
            "colorbar": {
             "outlinewidth": 0,
             "ticks": ""
            },
            "type": "contourcarpet"
           }
          ],
          "heatmap": [
           {
            "colorbar": {
             "outlinewidth": 0,
             "ticks": ""
            },
            "colorscale": [
             [
              0,
              "#0d0887"
             ],
             [
              0.1111111111111111,
              "#46039f"
             ],
             [
              0.2222222222222222,
              "#7201a8"
             ],
             [
              0.3333333333333333,
              "#9c179e"
             ],
             [
              0.4444444444444444,
              "#bd3786"
             ],
             [
              0.5555555555555556,
              "#d8576b"
             ],
             [
              0.6666666666666666,
              "#ed7953"
             ],
             [
              0.7777777777777778,
              "#fb9f3a"
             ],
             [
              0.8888888888888888,
              "#fdca26"
             ],
             [
              1,
              "#f0f921"
             ]
            ],
            "type": "heatmap"
           }
          ],
          "heatmapgl": [
           {
            "colorbar": {
             "outlinewidth": 0,
             "ticks": ""
            },
            "colorscale": [
             [
              0,
              "#0d0887"
             ],
             [
              0.1111111111111111,
              "#46039f"
             ],
             [
              0.2222222222222222,
              "#7201a8"
             ],
             [
              0.3333333333333333,
              "#9c179e"
             ],
             [
              0.4444444444444444,
              "#bd3786"
             ],
             [
              0.5555555555555556,
              "#d8576b"
             ],
             [
              0.6666666666666666,
              "#ed7953"
             ],
             [
              0.7777777777777778,
              "#fb9f3a"
             ],
             [
              0.8888888888888888,
              "#fdca26"
             ],
             [
              1,
              "#f0f921"
             ]
            ],
            "type": "heatmapgl"
           }
          ],
          "histogram": [
           {
            "marker": {
             "pattern": {
              "fillmode": "overlay",
              "size": 10,
              "solidity": 0.2
             }
            },
            "type": "histogram"
           }
          ],
          "histogram2d": [
           {
            "colorbar": {
             "outlinewidth": 0,
             "ticks": ""
            },
            "colorscale": [
             [
              0,
              "#0d0887"
             ],
             [
              0.1111111111111111,
              "#46039f"
             ],
             [
              0.2222222222222222,
              "#7201a8"
             ],
             [
              0.3333333333333333,
              "#9c179e"
             ],
             [
              0.4444444444444444,
              "#bd3786"
             ],
             [
              0.5555555555555556,
              "#d8576b"
             ],
             [
              0.6666666666666666,
              "#ed7953"
             ],
             [
              0.7777777777777778,
              "#fb9f3a"
             ],
             [
              0.8888888888888888,
              "#fdca26"
             ],
             [
              1,
              "#f0f921"
             ]
            ],
            "type": "histogram2d"
           }
          ],
          "histogram2dcontour": [
           {
            "colorbar": {
             "outlinewidth": 0,
             "ticks": ""
            },
            "colorscale": [
             [
              0,
              "#0d0887"
             ],
             [
              0.1111111111111111,
              "#46039f"
             ],
             [
              0.2222222222222222,
              "#7201a8"
             ],
             [
              0.3333333333333333,
              "#9c179e"
             ],
             [
              0.4444444444444444,
              "#bd3786"
             ],
             [
              0.5555555555555556,
              "#d8576b"
             ],
             [
              0.6666666666666666,
              "#ed7953"
             ],
             [
              0.7777777777777778,
              "#fb9f3a"
             ],
             [
              0.8888888888888888,
              "#fdca26"
             ],
             [
              1,
              "#f0f921"
             ]
            ],
            "type": "histogram2dcontour"
           }
          ],
          "mesh3d": [
           {
            "colorbar": {
             "outlinewidth": 0,
             "ticks": ""
            },
            "type": "mesh3d"
           }
          ],
          "parcoords": [
           {
            "line": {
             "colorbar": {
              "outlinewidth": 0,
              "ticks": ""
             }
            },
            "type": "parcoords"
           }
          ],
          "pie": [
           {
            "automargin": true,
            "type": "pie"
           }
          ],
          "scatter": [
           {
            "fillpattern": {
             "fillmode": "overlay",
             "size": 10,
             "solidity": 0.2
            },
            "type": "scatter"
           }
          ],
          "scatter3d": [
           {
            "line": {
             "colorbar": {
              "outlinewidth": 0,
              "ticks": ""
             }
            },
            "marker": {
             "colorbar": {
              "outlinewidth": 0,
              "ticks": ""
             }
            },
            "type": "scatter3d"
           }
          ],
          "scattercarpet": [
           {
            "marker": {
             "colorbar": {
              "outlinewidth": 0,
              "ticks": ""
             }
            },
            "type": "scattercarpet"
           }
          ],
          "scattergeo": [
           {
            "marker": {
             "colorbar": {
              "outlinewidth": 0,
              "ticks": ""
             }
            },
            "type": "scattergeo"
           }
          ],
          "scattergl": [
           {
            "marker": {
             "colorbar": {
              "outlinewidth": 0,
              "ticks": ""
             }
            },
            "type": "scattergl"
           }
          ],
          "scattermapbox": [
           {
            "marker": {
             "colorbar": {
              "outlinewidth": 0,
              "ticks": ""
             }
            },
            "type": "scattermapbox"
           }
          ],
          "scatterpolar": [
           {
            "marker": {
             "colorbar": {
              "outlinewidth": 0,
              "ticks": ""
             }
            },
            "type": "scatterpolar"
           }
          ],
          "scatterpolargl": [
           {
            "marker": {
             "colorbar": {
              "outlinewidth": 0,
              "ticks": ""
             }
            },
            "type": "scatterpolargl"
           }
          ],
          "scatterternary": [
           {
            "marker": {
             "colorbar": {
              "outlinewidth": 0,
              "ticks": ""
             }
            },
            "type": "scatterternary"
           }
          ],
          "surface": [
           {
            "colorbar": {
             "outlinewidth": 0,
             "ticks": ""
            },
            "colorscale": [
             [
              0,
              "#0d0887"
             ],
             [
              0.1111111111111111,
              "#46039f"
             ],
             [
              0.2222222222222222,
              "#7201a8"
             ],
             [
              0.3333333333333333,
              "#9c179e"
             ],
             [
              0.4444444444444444,
              "#bd3786"
             ],
             [
              0.5555555555555556,
              "#d8576b"
             ],
             [
              0.6666666666666666,
              "#ed7953"
             ],
             [
              0.7777777777777778,
              "#fb9f3a"
             ],
             [
              0.8888888888888888,
              "#fdca26"
             ],
             [
              1,
              "#f0f921"
             ]
            ],
            "type": "surface"
           }
          ],
          "table": [
           {
            "cells": {
             "fill": {
              "color": "#EBF0F8"
             },
             "line": {
              "color": "white"
             }
            },
            "header": {
             "fill": {
              "color": "#C8D4E3"
             },
             "line": {
              "color": "white"
             }
            },
            "type": "table"
           }
          ]
         },
         "layout": {
          "annotationdefaults": {
           "arrowcolor": "#2a3f5f",
           "arrowhead": 0,
           "arrowwidth": 1
          },
          "autotypenumbers": "strict",
          "coloraxis": {
           "colorbar": {
            "outlinewidth": 0,
            "ticks": ""
           }
          },
          "colorscale": {
           "diverging": [
            [
             0,
             "#8e0152"
            ],
            [
             0.1,
             "#c51b7d"
            ],
            [
             0.2,
             "#de77ae"
            ],
            [
             0.3,
             "#f1b6da"
            ],
            [
             0.4,
             "#fde0ef"
            ],
            [
             0.5,
             "#f7f7f7"
            ],
            [
             0.6,
             "#e6f5d0"
            ],
            [
             0.7,
             "#b8e186"
            ],
            [
             0.8,
             "#7fbc41"
            ],
            [
             0.9,
             "#4d9221"
            ],
            [
             1,
             "#276419"
            ]
           ],
           "sequential": [
            [
             0,
             "#0d0887"
            ],
            [
             0.1111111111111111,
             "#46039f"
            ],
            [
             0.2222222222222222,
             "#7201a8"
            ],
            [
             0.3333333333333333,
             "#9c179e"
            ],
            [
             0.4444444444444444,
             "#bd3786"
            ],
            [
             0.5555555555555556,
             "#d8576b"
            ],
            [
             0.6666666666666666,
             "#ed7953"
            ],
            [
             0.7777777777777778,
             "#fb9f3a"
            ],
            [
             0.8888888888888888,
             "#fdca26"
            ],
            [
             1,
             "#f0f921"
            ]
           ],
           "sequentialminus": [
            [
             0,
             "#0d0887"
            ],
            [
             0.1111111111111111,
             "#46039f"
            ],
            [
             0.2222222222222222,
             "#7201a8"
            ],
            [
             0.3333333333333333,
             "#9c179e"
            ],
            [
             0.4444444444444444,
             "#bd3786"
            ],
            [
             0.5555555555555556,
             "#d8576b"
            ],
            [
             0.6666666666666666,
             "#ed7953"
            ],
            [
             0.7777777777777778,
             "#fb9f3a"
            ],
            [
             0.8888888888888888,
             "#fdca26"
            ],
            [
             1,
             "#f0f921"
            ]
           ]
          },
          "colorway": [
           "#636efa",
           "#EF553B",
           "#00cc96",
           "#ab63fa",
           "#FFA15A",
           "#19d3f3",
           "#FF6692",
           "#B6E880",
           "#FF97FF",
           "#FECB52"
          ],
          "font": {
           "color": "#2a3f5f"
          },
          "geo": {
           "bgcolor": "white",
           "lakecolor": "white",
           "landcolor": "#E5ECF6",
           "showlakes": true,
           "showland": true,
           "subunitcolor": "white"
          },
          "hoverlabel": {
           "align": "left"
          },
          "hovermode": "closest",
          "mapbox": {
           "style": "light"
          },
          "paper_bgcolor": "rgba(0,0,0,0)",
          "plot_bgcolor": "rgba(250,250,250,0.8)",
          "polar": {
           "angularaxis": {
            "gridcolor": "white",
            "linecolor": "white",
            "ticks": ""
           },
           "bgcolor": "#E5ECF6",
           "radialaxis": {
            "gridcolor": "white",
            "linecolor": "white",
            "ticks": ""
           }
          },
          "scene": {
           "xaxis": {
            "backgroundcolor": "#E5ECF6",
            "gridcolor": "white",
            "gridwidth": 2,
            "linecolor": "white",
            "showbackground": true,
            "ticks": "",
            "zerolinecolor": "white"
           },
           "yaxis": {
            "backgroundcolor": "#E5ECF6",
            "gridcolor": "white",
            "gridwidth": 2,
            "linecolor": "white",
            "showbackground": true,
            "ticks": "",
            "zerolinecolor": "white"
           },
           "zaxis": {
            "backgroundcolor": "#E5ECF6",
            "gridcolor": "white",
            "gridwidth": 2,
            "linecolor": "white",
            "showbackground": true,
            "ticks": "",
            "zerolinecolor": "white"
           }
          },
          "shapedefaults": {
           "line": {
            "color": "#2a3f5f"
           }
          },
          "ternary": {
           "aaxis": {
            "gridcolor": "white",
            "linecolor": "white",
            "ticks": ""
           },
           "baxis": {
            "gridcolor": "white",
            "linecolor": "white",
            "ticks": ""
           },
           "bgcolor": "#E5ECF6",
           "caxis": {
            "gridcolor": "white",
            "linecolor": "white",
            "ticks": ""
           }
          },
          "title": {
           "x": 0.05
          },
          "xaxis": {
           "automargin": true,
           "gridcolor": "white",
           "linecolor": "white",
           "ticks": "",
           "title": {
            "standoff": 15
           },
           "zerolinecolor": "white",
           "zerolinewidth": 2
          },
          "yaxis": {
           "automargin": true,
           "gridcolor": "white",
           "linecolor": "white",
           "ticks": "",
           "title": {
            "standoff": 15
           },
           "zerolinecolor": "white",
           "zerolinewidth": 2
          }
         }
        },
        "title": {
         "text": "Portfolio Value Over Time ($1,000 Investment)"
        },
        "xaxis": {
         "title": {
          "text": "Date"
         }
        },
        "yaxis": {
         "title": {
          "text": "Portfolio Value ($)"
         }
        }
       }
      },
      "text/html": [
       "<div>                            <div id=\"24fce5bf-857b-4ed1-a418-c78116319663\" class=\"plotly-graph-div\" style=\"height:525px; width:100%;\"></div>            <script type=\"text/javascript\">                require([\"plotly\"], function(Plotly) {                    window.PLOTLYENV=window.PLOTLYENV || {};                                    if (document.getElementById(\"24fce5bf-857b-4ed1-a418-c78116319663\")) {                    Plotly.newPlot(                        \"24fce5bf-857b-4ed1-a418-c78116319663\",                        [{\"mode\":\"lines\",\"name\":\"Baseline Portfolio\",\"x\":[\"2013-03-31T00:00:00\",\"2013-06-30T00:00:00\",\"2013-09-30T00:00:00\",\"2013-12-31T00:00:00\",\"2014-03-31T00:00:00\",\"2014-06-30T00:00:00\",\"2014-09-30T00:00:00\",\"2014-12-31T00:00:00\",\"2015-03-31T00:00:00\",\"2015-06-30T00:00:00\",\"2015-09-30T00:00:00\",\"2015-12-31T00:00:00\",\"2016-03-31T00:00:00\",\"2016-06-30T00:00:00\",\"2016-09-30T00:00:00\",\"2016-12-31T00:00:00\",\"2017-03-31T00:00:00\",\"2017-06-30T00:00:00\",\"2017-09-30T00:00:00\",\"2017-12-31T00:00:00\",\"2018-03-31T00:00:00\",\"2018-06-30T00:00:00\",\"2018-09-30T00:00:00\",\"2018-12-31T00:00:00\",\"2019-03-31T00:00:00\",\"2019-06-30T00:00:00\",\"2019-09-30T00:00:00\",\"2019-12-31T00:00:00\",\"2020-03-31T00:00:00\",\"2020-06-30T00:00:00\",\"2020-09-30T00:00:00\",\"2020-12-31T00:00:00\",\"2021-03-31T00:00:00\",\"2021-06-30T00:00:00\",\"2021-09-30T00:00:00\",\"2021-12-31T00:00:00\",\"2022-03-31T00:00:00\",\"2022-06-30T00:00:00\",\"2022-09-30T00:00:00\",\"2022-12-31T00:00:00\",\"2023-03-31T00:00:00\",\"2023-06-30T00:00:00\"],\"y\":[1091.472111665351,1170.4647814520024,1295.2691051861777,1342.85786693635,1400.9108637149773,1437.5292190272637,1510.0944890681558,1549.20551196771,1574.1067231471427,1486.9585560678684,1607.735775661612,1603.5297802370949,1666.6329779228547,1742.9877930034468,1768.3823759529369,1895.0008694218648,1984.4139719732902,2085.3980185089645,2197.2672064333074,2250.355271327874,2341.7063218629787,2534.0262644174454,2292.1544480804973,2505.9299300488733,2568.1006734575553,2647.243265730138,2897.8894618354366,2449.677014971172,2852.4628626475883,3096.420688577384,3421.948904030547,3681.2455888445697,3933.74489311249,3942.580800016818,4310.542573906424,4232.274962675608,3780.80969531531,3489.028756550173,3755.7685178383463,3919.7753220853388,4099.461838441852,4098.761706831914],\"type\":\"scatter\"},{\"mode\":\"lines\",\"name\":\"Top 10 Portfolio\",\"x\":[\"2013-03-31T00:00:00\",\"2013-06-30T00:00:00\",\"2013-09-30T00:00:00\",\"2013-12-31T00:00:00\",\"2014-03-31T00:00:00\",\"2014-06-30T00:00:00\",\"2014-09-30T00:00:00\",\"2014-12-31T00:00:00\",\"2015-03-31T00:00:00\",\"2015-06-30T00:00:00\",\"2015-09-30T00:00:00\",\"2015-12-31T00:00:00\",\"2016-03-31T00:00:00\",\"2016-06-30T00:00:00\",\"2016-09-30T00:00:00\",\"2016-12-31T00:00:00\",\"2017-03-31T00:00:00\",\"2017-06-30T00:00:00\",\"2017-09-30T00:00:00\",\"2017-12-31T00:00:00\",\"2018-03-31T00:00:00\",\"2018-06-30T00:00:00\",\"2018-09-30T00:00:00\",\"2018-12-31T00:00:00\",\"2019-03-31T00:00:00\",\"2019-06-30T00:00:00\",\"2019-09-30T00:00:00\",\"2019-12-31T00:00:00\",\"2020-03-31T00:00:00\",\"2020-06-30T00:00:00\",\"2020-09-30T00:00:00\",\"2020-12-31T00:00:00\",\"2021-03-31T00:00:00\",\"2021-06-30T00:00:00\",\"2021-09-30T00:00:00\",\"2021-12-31T00:00:00\",\"2022-03-31T00:00:00\",\"2022-06-30T00:00:00\",\"2022-09-30T00:00:00\",\"2022-12-31T00:00:00\",\"2023-03-31T00:00:00\",\"2023-06-30T00:00:00\"],\"y\":[1424.0709229409867,1732.6635208335988,2141.0651991961095,2445.121795046843,2663.895675108836,2919.0548018577774,3424.9540675912963,3842.354840528946,4384.415558931949,4612.1270691273385,5888.662050444832,6371.993488898817,6975.262405891981,8192.977391787643,9558.262946464949,11435.994042199753,13055.274467897738,14808.860943269648,17561.48842558341,19071.37482733037,20965.694025154866,25476.80622997027,25319.097051670928,30824.424439129114,34764.76423652201,38306.501769520066,51783.1245194046,53701.21712620414,71367.14159490941,81129.76742084109,107043.9920266992,135293.75964061182,156145.1816147546,172783.87113573344,214110.93222692658,273599.82309753797,274551.68235536275,282505.7634626685,329875.50071974564,402164.35188257525,490974.5425815222,589335.7047741271],\"type\":\"scatter\"}],                        {\"template\":{\"data\":{\"barpolar\":[{\"marker\":{\"line\":{\"color\":\"#E5ECF6\",\"width\":0.5},\"pattern\":{\"fillmode\":\"overlay\",\"size\":10,\"solidity\":0.2}},\"type\":\"barpolar\"}],\"bar\":[{\"error_x\":{\"color\":\"#2a3f5f\"},\"error_y\":{\"color\":\"#2a3f5f\"},\"marker\":{\"line\":{\"color\":\"#E5ECF6\",\"width\":0.5},\"pattern\":{\"fillmode\":\"overlay\",\"size\":10,\"solidity\":0.2}},\"type\":\"bar\"}],\"carpet\":[{\"aaxis\":{\"endlinecolor\":\"#2a3f5f\",\"gridcolor\":\"white\",\"linecolor\":\"white\",\"minorgridcolor\":\"white\",\"startlinecolor\":\"#2a3f5f\"},\"baxis\":{\"endlinecolor\":\"#2a3f5f\",\"gridcolor\":\"white\",\"linecolor\":\"white\",\"minorgridcolor\":\"white\",\"startlinecolor\":\"#2a3f5f\"},\"type\":\"carpet\"}],\"choropleth\":[{\"colorbar\":{\"outlinewidth\":0,\"ticks\":\"\"},\"type\":\"choropleth\"}],\"contourcarpet\":[{\"colorbar\":{\"outlinewidth\":0,\"ticks\":\"\"},\"type\":\"contourcarpet\"}],\"contour\":[{\"colorbar\":{\"outlinewidth\":0,\"ticks\":\"\"},\"colorscale\":[[0.0,\"#0d0887\"],[0.1111111111111111,\"#46039f\"],[0.2222222222222222,\"#7201a8\"],[0.3333333333333333,\"#9c179e\"],[0.4444444444444444,\"#bd3786\"],[0.5555555555555556,\"#d8576b\"],[0.6666666666666666,\"#ed7953\"],[0.7777777777777778,\"#fb9f3a\"],[0.8888888888888888,\"#fdca26\"],[1.0,\"#f0f921\"]],\"type\":\"contour\"}],\"heatmapgl\":[{\"colorbar\":{\"outlinewidth\":0,\"ticks\":\"\"},\"colorscale\":[[0.0,\"#0d0887\"],[0.1111111111111111,\"#46039f\"],[0.2222222222222222,\"#7201a8\"],[0.3333333333333333,\"#9c179e\"],[0.4444444444444444,\"#bd3786\"],[0.5555555555555556,\"#d8576b\"],[0.6666666666666666,\"#ed7953\"],[0.7777777777777778,\"#fb9f3a\"],[0.8888888888888888,\"#fdca26\"],[1.0,\"#f0f921\"]],\"type\":\"heatmapgl\"}],\"heatmap\":[{\"colorbar\":{\"outlinewidth\":0,\"ticks\":\"\"},\"colorscale\":[[0.0,\"#0d0887\"],[0.1111111111111111,\"#46039f\"],[0.2222222222222222,\"#7201a8\"],[0.3333333333333333,\"#9c179e\"],[0.4444444444444444,\"#bd3786\"],[0.5555555555555556,\"#d8576b\"],[0.6666666666666666,\"#ed7953\"],[0.7777777777777778,\"#fb9f3a\"],[0.8888888888888888,\"#fdca26\"],[1.0,\"#f0f921\"]],\"type\":\"heatmap\"}],\"histogram2dcontour\":[{\"colorbar\":{\"outlinewidth\":0,\"ticks\":\"\"},\"colorscale\":[[0.0,\"#0d0887\"],[0.1111111111111111,\"#46039f\"],[0.2222222222222222,\"#7201a8\"],[0.3333333333333333,\"#9c179e\"],[0.4444444444444444,\"#bd3786\"],[0.5555555555555556,\"#d8576b\"],[0.6666666666666666,\"#ed7953\"],[0.7777777777777778,\"#fb9f3a\"],[0.8888888888888888,\"#fdca26\"],[1.0,\"#f0f921\"]],\"type\":\"histogram2dcontour\"}],\"histogram2d\":[{\"colorbar\":{\"outlinewidth\":0,\"ticks\":\"\"},\"colorscale\":[[0.0,\"#0d0887\"],[0.1111111111111111,\"#46039f\"],[0.2222222222222222,\"#7201a8\"],[0.3333333333333333,\"#9c179e\"],[0.4444444444444444,\"#bd3786\"],[0.5555555555555556,\"#d8576b\"],[0.6666666666666666,\"#ed7953\"],[0.7777777777777778,\"#fb9f3a\"],[0.8888888888888888,\"#fdca26\"],[1.0,\"#f0f921\"]],\"type\":\"histogram2d\"}],\"histogram\":[{\"marker\":{\"pattern\":{\"fillmode\":\"overlay\",\"size\":10,\"solidity\":0.2}},\"type\":\"histogram\"}],\"mesh3d\":[{\"colorbar\":{\"outlinewidth\":0,\"ticks\":\"\"},\"type\":\"mesh3d\"}],\"parcoords\":[{\"line\":{\"colorbar\":{\"outlinewidth\":0,\"ticks\":\"\"}},\"type\":\"parcoords\"}],\"pie\":[{\"automargin\":true,\"type\":\"pie\"}],\"scatter3d\":[{\"line\":{\"colorbar\":{\"outlinewidth\":0,\"ticks\":\"\"}},\"marker\":{\"colorbar\":{\"outlinewidth\":0,\"ticks\":\"\"}},\"type\":\"scatter3d\"}],\"scattercarpet\":[{\"marker\":{\"colorbar\":{\"outlinewidth\":0,\"ticks\":\"\"}},\"type\":\"scattercarpet\"}],\"scattergeo\":[{\"marker\":{\"colorbar\":{\"outlinewidth\":0,\"ticks\":\"\"}},\"type\":\"scattergeo\"}],\"scattergl\":[{\"marker\":{\"colorbar\":{\"outlinewidth\":0,\"ticks\":\"\"}},\"type\":\"scattergl\"}],\"scattermapbox\":[{\"marker\":{\"colorbar\":{\"outlinewidth\":0,\"ticks\":\"\"}},\"type\":\"scattermapbox\"}],\"scatterpolargl\":[{\"marker\":{\"colorbar\":{\"outlinewidth\":0,\"ticks\":\"\"}},\"type\":\"scatterpolargl\"}],\"scatterpolar\":[{\"marker\":{\"colorbar\":{\"outlinewidth\":0,\"ticks\":\"\"}},\"type\":\"scatterpolar\"}],\"scatter\":[{\"fillpattern\":{\"fillmode\":\"overlay\",\"size\":10,\"solidity\":0.2},\"type\":\"scatter\"}],\"scatterternary\":[{\"marker\":{\"colorbar\":{\"outlinewidth\":0,\"ticks\":\"\"}},\"type\":\"scatterternary\"}],\"surface\":[{\"colorbar\":{\"outlinewidth\":0,\"ticks\":\"\"},\"colorscale\":[[0.0,\"#0d0887\"],[0.1111111111111111,\"#46039f\"],[0.2222222222222222,\"#7201a8\"],[0.3333333333333333,\"#9c179e\"],[0.4444444444444444,\"#bd3786\"],[0.5555555555555556,\"#d8576b\"],[0.6666666666666666,\"#ed7953\"],[0.7777777777777778,\"#fb9f3a\"],[0.8888888888888888,\"#fdca26\"],[1.0,\"#f0f921\"]],\"type\":\"surface\"}],\"table\":[{\"cells\":{\"fill\":{\"color\":\"#EBF0F8\"},\"line\":{\"color\":\"white\"}},\"header\":{\"fill\":{\"color\":\"#C8D4E3\"},\"line\":{\"color\":\"white\"}},\"type\":\"table\"}]},\"layout\":{\"annotationdefaults\":{\"arrowcolor\":\"#2a3f5f\",\"arrowhead\":0,\"arrowwidth\":1},\"autotypenumbers\":\"strict\",\"coloraxis\":{\"colorbar\":{\"outlinewidth\":0,\"ticks\":\"\"}},\"colorscale\":{\"diverging\":[[0,\"#8e0152\"],[0.1,\"#c51b7d\"],[0.2,\"#de77ae\"],[0.3,\"#f1b6da\"],[0.4,\"#fde0ef\"],[0.5,\"#f7f7f7\"],[0.6,\"#e6f5d0\"],[0.7,\"#b8e186\"],[0.8,\"#7fbc41\"],[0.9,\"#4d9221\"],[1,\"#276419\"]],\"sequential\":[[0.0,\"#0d0887\"],[0.1111111111111111,\"#46039f\"],[0.2222222222222222,\"#7201a8\"],[0.3333333333333333,\"#9c179e\"],[0.4444444444444444,\"#bd3786\"],[0.5555555555555556,\"#d8576b\"],[0.6666666666666666,\"#ed7953\"],[0.7777777777777778,\"#fb9f3a\"],[0.8888888888888888,\"#fdca26\"],[1.0,\"#f0f921\"]],\"sequentialminus\":[[0.0,\"#0d0887\"],[0.1111111111111111,\"#46039f\"],[0.2222222222222222,\"#7201a8\"],[0.3333333333333333,\"#9c179e\"],[0.4444444444444444,\"#bd3786\"],[0.5555555555555556,\"#d8576b\"],[0.6666666666666666,\"#ed7953\"],[0.7777777777777778,\"#fb9f3a\"],[0.8888888888888888,\"#fdca26\"],[1.0,\"#f0f921\"]]},\"colorway\":[\"#636efa\",\"#EF553B\",\"#00cc96\",\"#ab63fa\",\"#FFA15A\",\"#19d3f3\",\"#FF6692\",\"#B6E880\",\"#FF97FF\",\"#FECB52\"],\"font\":{\"color\":\"#2a3f5f\"},\"geo\":{\"bgcolor\":\"white\",\"lakecolor\":\"white\",\"landcolor\":\"#E5ECF6\",\"showlakes\":true,\"showland\":true,\"subunitcolor\":\"white\"},\"hoverlabel\":{\"align\":\"left\"},\"hovermode\":\"closest\",\"mapbox\":{\"style\":\"light\"},\"paper_bgcolor\":\"rgba(0,0,0,0)\",\"plot_bgcolor\":\"rgba(250,250,250,0.8)\",\"polar\":{\"angularaxis\":{\"gridcolor\":\"white\",\"linecolor\":\"white\",\"ticks\":\"\"},\"bgcolor\":\"#E5ECF6\",\"radialaxis\":{\"gridcolor\":\"white\",\"linecolor\":\"white\",\"ticks\":\"\"}},\"scene\":{\"xaxis\":{\"backgroundcolor\":\"#E5ECF6\",\"gridcolor\":\"white\",\"gridwidth\":2,\"linecolor\":\"white\",\"showbackground\":true,\"ticks\":\"\",\"zerolinecolor\":\"white\"},\"yaxis\":{\"backgroundcolor\":\"#E5ECF6\",\"gridcolor\":\"white\",\"gridwidth\":2,\"linecolor\":\"white\",\"showbackground\":true,\"ticks\":\"\",\"zerolinecolor\":\"white\"},\"zaxis\":{\"backgroundcolor\":\"#E5ECF6\",\"gridcolor\":\"white\",\"gridwidth\":2,\"linecolor\":\"white\",\"showbackground\":true,\"ticks\":\"\",\"zerolinecolor\":\"white\"}},\"shapedefaults\":{\"line\":{\"color\":\"#2a3f5f\"}},\"ternary\":{\"aaxis\":{\"gridcolor\":\"white\",\"linecolor\":\"white\",\"ticks\":\"\"},\"baxis\":{\"gridcolor\":\"white\",\"linecolor\":\"white\",\"ticks\":\"\"},\"bgcolor\":\"#E5ECF6\",\"caxis\":{\"gridcolor\":\"white\",\"linecolor\":\"white\",\"ticks\":\"\"}},\"title\":{\"x\":0.05},\"xaxis\":{\"automargin\":true,\"gridcolor\":\"white\",\"linecolor\":\"white\",\"ticks\":\"\",\"title\":{\"standoff\":15},\"zerolinecolor\":\"white\",\"zerolinewidth\":2},\"yaxis\":{\"automargin\":true,\"gridcolor\":\"white\",\"linecolor\":\"white\",\"ticks\":\"\",\"title\":{\"standoff\":15},\"zerolinecolor\":\"white\",\"zerolinewidth\":2}}},\"title\":{\"text\":\"Portfolio Value Over Time ($1,000 Investment)\"},\"xaxis\":{\"title\":{\"text\":\"Date\"}},\"yaxis\":{\"title\":{\"text\":\"Portfolio Value ($)\"}}},                        {\"responsive\": true}                    ).then(function(){\n",
       "                            \n",
       "var gd = document.getElementById('24fce5bf-857b-4ed1-a418-c78116319663');\n",
       "var x = new MutationObserver(function (mutations, observer) {{\n",
       "        var display = window.getComputedStyle(gd).display;\n",
       "        if (!display || display === 'none') {{\n",
       "            console.log([gd, 'removed!']);\n",
       "            Plotly.purge(gd);\n",
       "            observer.disconnect();\n",
       "        }}\n",
       "}});\n",
       "\n",
       "// Listen for the removal of the full notebook cells\n",
       "var notebookContainer = gd.closest('#notebook-container');\n",
       "if (notebookContainer) {{\n",
       "    x.observe(notebookContainer, {childList: true});\n",
       "}}\n",
       "\n",
       "// Listen for the clearing of the current output cell\n",
       "var outputEl = gd.closest('.output');\n",
       "if (outputEl) {{\n",
       "    x.observe(outputEl, {childList: true});\n",
       "}}\n",
       "\n",
       "                        })                };                });            </script>        </div>"
      ]
     },
     "metadata": {},
     "output_type": "display_data"
    }
   ],
   "source": [
    "import plotly.graph_objects as go\n",
    "\n",
    "# Assuming you have a dataframe 'df_avg' with columns 'datadate', 'baseline_portfolio', and 'top_10'\n",
    "\n",
    "# Calculate the cumulative return for both portfolios\n",
    "df_avg['baseline_cum_return'] = (1 + df_avg['baseline']).cumprod()\n",
    "df_avg['top_10_cum_return'] = (1 + df_avg['top_10']).cumprod()\n",
    "\n",
    "# Calculate the value over time of a $1,000 investment\n",
    "initial_investment = 1000\n",
    "df_avg['baseline_value'] = initial_investment * df_avg['baseline_cum_return']\n",
    "df_avg['top_10_value'] = initial_investment * df_avg['top_10_cum_return']\n",
    "\n",
    "# Create the plot\n",
    "fig = go.Figure()\n",
    "\n",
    "# Add baseline portfolio trace\n",
    "fig.add_trace(go.Scatter(x=df_avg['datadate'], y=df_avg['baseline_value'],\n",
    "                         mode='lines', name='Baseline Portfolio'))\n",
    "\n",
    "# Add top_10 portfolio trace\n",
    "fig.add_trace(go.Scatter(x=df_avg['datadate'], y=df_avg['top_10_value'],\n",
    "                         mode='lines', name='Top 10 Portfolio'))\n",
    "\n",
    "# Update the layout\n",
    "fig.update_layout(\n",
    "    title='Portfolio Value Over Time ($1,000 Investment)',\n",
    "    xaxis_title='Date',\n",
    "    yaxis_title='Portfolio Value ($)',\n",
    ")\n",
    "\n",
    "# Show the plot\n",
    "fig.show()\n"
   ]
  },
  {
   "cell_type": "code",
   "execution_count": 517,
   "metadata": {},
   "outputs": [
    {
     "data": {
      "text/html": [
       "<div>\n",
       "<style scoped>\n",
       "    .dataframe tbody tr th:only-of-type {\n",
       "        vertical-align: middle;\n",
       "    }\n",
       "\n",
       "    .dataframe tbody tr th {\n",
       "        vertical-align: top;\n",
       "    }\n",
       "\n",
       "    .dataframe thead th {\n",
       "        text-align: right;\n",
       "    }\n",
       "</style>\n",
       "<table border=\"1\" class=\"dataframe\">\n",
       "  <thead>\n",
       "    <tr style=\"text-align: right;\">\n",
       "      <th></th>\n",
       "      <th>ptb_change</th>\n",
       "      <th>relative_quarterly_return</th>\n",
       "      <th>divyield_change</th>\n",
       "      <th>pe_inc_change</th>\n",
       "      <th>evm_change</th>\n",
       "    </tr>\n",
       "  </thead>\n",
       "  <tbody>\n",
       "    <tr>\n",
       "      <th>0</th>\n",
       "      <td>0.023210</td>\n",
       "      <td>0.104713</td>\n",
       "      <td>0.140545</td>\n",
       "      <td>0.549174</td>\n",
       "      <td>0.504897</td>\n",
       "    </tr>\n",
       "    <tr>\n",
       "      <th>1</th>\n",
       "      <td>0.034798</td>\n",
       "      <td>0.090544</td>\n",
       "      <td>0.101605</td>\n",
       "      <td>0.550532</td>\n",
       "      <td>0.505808</td>\n",
       "    </tr>\n",
       "    <tr>\n",
       "      <th>2</th>\n",
       "      <td>0.023591</td>\n",
       "      <td>0.132785</td>\n",
       "      <td>0.145492</td>\n",
       "      <td>0.549210</td>\n",
       "      <td>0.505141</td>\n",
       "    </tr>\n",
       "    <tr>\n",
       "      <th>3</th>\n",
       "      <td>0.024398</td>\n",
       "      <td>0.116501</td>\n",
       "      <td>0.150132</td>\n",
       "      <td>0.549085</td>\n",
       "      <td>0.506477</td>\n",
       "    </tr>\n",
       "    <tr>\n",
       "      <th>4</th>\n",
       "      <td>0.019510</td>\n",
       "      <td>0.083392</td>\n",
       "      <td>0.177245</td>\n",
       "      <td>0.548868</td>\n",
       "      <td>0.504394</td>\n",
       "    </tr>\n",
       "  </tbody>\n",
       "</table>\n",
       "</div>"
      ],
      "text/plain": [
       "   ptb_change  relative_quarterly_return  divyield_change  pe_inc_change  \\\n",
       "0    0.023210                   0.104713         0.140545       0.549174   \n",
       "1    0.034798                   0.090544         0.101605       0.550532   \n",
       "2    0.023591                   0.132785         0.145492       0.549210   \n",
       "3    0.024398                   0.116501         0.150132       0.549085   \n",
       "4    0.019510                   0.083392         0.177245       0.548868   \n",
       "\n",
       "   evm_change  \n",
       "0    0.504897  \n",
       "1    0.505808  \n",
       "2    0.505141  \n",
       "3    0.506477  \n",
       "4    0.504394  "
      ]
     },
     "execution_count": 517,
     "metadata": {},
     "output_type": "execute_result"
    }
   ],
   "source": [
    "train_df = train_df[important_features + ['next_relative_quarterly_return']]\n",
    "valid_df = valid_df[important_features + ['next_relative_quarterly_return']]\n",
    "test_df  = test_df[important_features + ['next_relative_quarterly_return']]\n",
    "\n",
    "y_train = train_df['next_relative_quarterly_return'].copy()\n",
    "X_train = train_df.drop(['next_relative_quarterly_return'], 1)\n",
    "\n",
    "y_valid = valid_df['next_relative_quarterly_return'].copy()\n",
    "X_valid = valid_df.drop(['next_relative_quarterly_return'], 1)\n",
    "\n",
    "y_test  = test_df['next_relative_quarterly_return'].copy()\n",
    "X_test  = test_df.drop(['next_relative_quarterly_return'], 1)\n",
    "\n",
    "# Scaling\n",
    "scaler = MinMaxScaler()\n",
    "\n",
    "# Fit the scaler on the training/validation data\n",
    "X_train_scaled = scaler.fit_transform(X_train)\n",
    "\n",
    "# Now apply the same scaling to the val/test data using the already fitted scaler\n",
    "X_valid_scaled = scaler.transform(X_valid)\n",
    "X_test_scaled = scaler.transform(X_test)\n",
    "\n",
    "# Convert the scaled data back to DataFrame for consistency\n",
    "X_train_scaled = pd.DataFrame(X_train_scaled, columns=X_train.columns)\n",
    "X_valid_scaled = pd.DataFrame(X_valid_scaled, columns=X_valid.columns)\n",
    "X_test_scaled = pd.DataFrame(X_test_scaled, columns=X_test.columns)\n",
    "\n",
    "X_train_scaled.head()"
   ]
  },
  {
   "cell_type": "code",
   "execution_count": 518,
   "metadata": {},
   "outputs": [
    {
     "data": {
      "text/plain": [
       "XGBRegressor(base_score=None, booster=None, callbacks=None,\n",
       "             colsample_bylevel=None, colsample_bynode=None,\n",
       "             colsample_bytree=None, device=None, early_stopping_rounds=None,\n",
       "             enable_categorical=False, eval_metric=None, feature_types=None,\n",
       "             gamma=0.1, grow_policy=None, importance_type=None,\n",
       "             interaction_constraints=None, learning_rate=0.05, max_bin=None,\n",
       "             max_cat_threshold=None, max_cat_to_onehot=None,\n",
       "             max_delta_step=None, max_depth=8, max_leaves=None,\n",
       "             min_child_weight=None, missing=nan, monotone_constraints=None,\n",
       "             multi_strategy=None, n_estimators=300, n_jobs=None,\n",
       "             num_parallel_tree=None, random_state=42, ...)"
      ]
     },
     "execution_count": 518,
     "metadata": {},
     "output_type": "execute_result"
    }
   ],
   "source": [
    "params = {\n",
    "    'objective': 'reg:squarederror',\n",
    "    'max_depth': 8,\n",
    "    'learning_rate': 0.05,\n",
    "    'n_estimators': 300,\n",
    "    'gamma': 0.1,\n",
    "    'random_state': 42\n",
    "}\n",
    "eval_set = [(X_train_scaled, y_train), (X_valid_scaled, y_valid)]\n",
    "model = xgb.XGBRegressor(**params)\n",
    "model.fit(X_train_scaled, y_train, eval_set=eval_set, verbose=False)"
   ]
  },
  {
   "cell_type": "code",
   "execution_count": 519,
   "metadata": {},
   "outputs": [
    {
     "name": "stdout",
     "output_type": "stream",
     "text": [
      "[ 0.07352004 -0.0291503   0.08640249 ...  0.05915682 -0.017184\n",
      "  0.075367  ]\n",
      "              precision    recall  f1-score   support\n",
      "\n",
      "           0       0.73      0.61      0.67      1470\n",
      "           1       0.67      0.77      0.71      1465\n",
      "\n",
      "    accuracy                           0.69      2935\n",
      "   macro avg       0.70      0.69      0.69      2935\n",
      "weighted avg       0.70      0.69      0.69      2935\n",
      "\n"
     ]
    }
   ],
   "source": [
    "# Predictions\n",
    "y_train_pred = model.predict(X_train_scaled)\n",
    "y_valid_pred = model.predict(X_valid_scaled)\n",
    "y_test_pred = model.predict(X_test_scaled)\n",
    "\n",
    "# Classifier\n",
    "y_train_pred_binary = (y_train_pred >= 0).astype(int)\n",
    "y_valid_pred_binary = (y_valid_pred >= 0).astype(int)\n",
    "y_test_pred_binary = (y_test_pred >= 0).astype(int)\n",
    "\n",
    "y_train_binary = (y_train >= 0).astype(int)\n",
    "y_valid_binary = (y_valid >= 0).astype(int)\n",
    "y_test_binary = (y_test >= 0).astype(int)\n",
    "\n",
    "print(y_test_pred)\n",
    "\n",
    "print(classification_report(y_test_binary, y_test_pred_binary))\n"
   ]
  },
  {
   "cell_type": "code",
   "execution_count": 520,
   "metadata": {},
   "outputs": [
    {
     "data": {
      "text/html": [
       "<div>\n",
       "<style scoped>\n",
       "    .dataframe tbody tr th:only-of-type {\n",
       "        vertical-align: middle;\n",
       "    }\n",
       "\n",
       "    .dataframe tbody tr th {\n",
       "        vertical-align: top;\n",
       "    }\n",
       "\n",
       "    .dataframe thead th {\n",
       "        text-align: right;\n",
       "    }\n",
       "</style>\n",
       "<table border=\"1\" class=\"dataframe\">\n",
       "  <thead>\n",
       "    <tr style=\"text-align: right;\">\n",
       "      <th></th>\n",
       "      <th>datadate</th>\n",
       "      <th>tic</th>\n",
       "      <th>next_prccq_change</th>\n",
       "      <th>next_relative_quarterly_return</th>\n",
       "      <th>y_pred</th>\n",
       "      <th>y_pred_sim</th>\n",
       "    </tr>\n",
       "  </thead>\n",
       "  <tbody>\n",
       "    <tr>\n",
       "      <th>13646</th>\n",
       "      <td>2023-06-30</td>\n",
       "      <td>TSLA</td>\n",
       "      <td>-0.044123</td>\n",
       "      <td>-0.007647</td>\n",
       "      <td>0.075187</td>\n",
       "      <td>0.087328</td>\n",
       "    </tr>\n",
       "    <tr>\n",
       "      <th>6347</th>\n",
       "      <td>2023-06-30</td>\n",
       "      <td>HD</td>\n",
       "      <td>0.110801</td>\n",
       "      <td>0.009768</td>\n",
       "      <td>0.045904</td>\n",
       "      <td>0.088934</td>\n",
       "    </tr>\n",
       "    <tr>\n",
       "      <th>14662</th>\n",
       "      <td>2023-06-30</td>\n",
       "      <td>WDC</td>\n",
       "      <td>0.203006</td>\n",
       "      <td>0.239481</td>\n",
       "      <td>0.149157</td>\n",
       "      <td>0.105067</td>\n",
       "    </tr>\n",
       "    <tr>\n",
       "      <th>8145</th>\n",
       "      <td>2023-06-30</td>\n",
       "      <td>LLY</td>\n",
       "      <td>0.145315</td>\n",
       "      <td>0.181791</td>\n",
       "      <td>0.147887</td>\n",
       "      <td>0.109029</td>\n",
       "    </tr>\n",
       "    <tr>\n",
       "      <th>2972</th>\n",
       "      <td>2023-06-30</td>\n",
       "      <td>CAT</td>\n",
       "      <td>0.109531</td>\n",
       "      <td>0.146006</td>\n",
       "      <td>0.172063</td>\n",
       "      <td>0.128446</td>\n",
       "    </tr>\n",
       "    <tr>\n",
       "      <th>3484</th>\n",
       "      <td>2023-06-30</td>\n",
       "      <td>COP</td>\n",
       "      <td>0.156259</td>\n",
       "      <td>0.192735</td>\n",
       "      <td>0.178149</td>\n",
       "      <td>0.146045</td>\n",
       "    </tr>\n",
       "    <tr>\n",
       "      <th>10718</th>\n",
       "      <td>2023-06-30</td>\n",
       "      <td>NVDA</td>\n",
       "      <td>0.683989</td>\n",
       "      <td>0.582956</td>\n",
       "      <td>0.202701</td>\n",
       "      <td>0.157848</td>\n",
       "    </tr>\n",
       "    <tr>\n",
       "      <th>6886</th>\n",
       "      <td>2023-06-30</td>\n",
       "      <td>JBL</td>\n",
       "      <td>0.278150</td>\n",
       "      <td>0.199719</td>\n",
       "      <td>0.186592</td>\n",
       "      <td>0.158307</td>\n",
       "    </tr>\n",
       "    <tr>\n",
       "      <th>532</th>\n",
       "      <td>2023-06-30</td>\n",
       "      <td>ADBE</td>\n",
       "      <td>0.338807</td>\n",
       "      <td>0.260375</td>\n",
       "      <td>0.177448</td>\n",
       "      <td>0.175658</td>\n",
       "    </tr>\n",
       "    <tr>\n",
       "      <th>9487</th>\n",
       "      <td>2023-06-30</td>\n",
       "      <td>MMM</td>\n",
       "      <td>-0.064642</td>\n",
       "      <td>-0.028166</td>\n",
       "      <td>0.332643</td>\n",
       "      <td>0.218603</td>\n",
       "    </tr>\n",
       "  </tbody>\n",
       "</table>\n",
       "</div>"
      ],
      "text/plain": [
       "        datadate   tic  next_prccq_change  next_relative_quarterly_return  \\\n",
       "13646 2023-06-30  TSLA          -0.044123                       -0.007647   \n",
       "6347  2023-06-30    HD           0.110801                        0.009768   \n",
       "14662 2023-06-30   WDC           0.203006                        0.239481   \n",
       "8145  2023-06-30   LLY           0.145315                        0.181791   \n",
       "2972  2023-06-30   CAT           0.109531                        0.146006   \n",
       "3484  2023-06-30   COP           0.156259                        0.192735   \n",
       "10718 2023-06-30  NVDA           0.683989                        0.582956   \n",
       "6886  2023-06-30   JBL           0.278150                        0.199719   \n",
       "532   2023-06-30  ADBE           0.338807                        0.260375   \n",
       "9487  2023-06-30   MMM          -0.064642                       -0.028166   \n",
       "\n",
       "         y_pred  y_pred_sim  \n",
       "13646  0.075187    0.087328  \n",
       "6347   0.045904    0.088934  \n",
       "14662  0.149157    0.105067  \n",
       "8145   0.147887    0.109029  \n",
       "2972   0.172063    0.128446  \n",
       "3484   0.178149    0.146045  \n",
       "10718  0.202701    0.157848  \n",
       "6886   0.186592    0.158307  \n",
       "532    0.177448    0.175658  \n",
       "9487   0.332643    0.218603  "
      ]
     },
     "execution_count": 520,
     "metadata": {},
     "output_type": "execute_result"
    }
   ],
   "source": [
    "results['y_pred_sim'] = y_test_pred\n",
    "results = results.sort_values(by=['datadate', 'y_pred_sim'])\n",
    "\n",
    "results.tail(10)"
   ]
  },
  {
   "cell_type": "code",
   "execution_count": 525,
   "metadata": {},
   "outputs": [
    {
     "data": {
      "text/html": [
       "<div>\n",
       "<style scoped>\n",
       "    .dataframe tbody tr th:only-of-type {\n",
       "        vertical-align: middle;\n",
       "    }\n",
       "\n",
       "    .dataframe tbody tr th {\n",
       "        vertical-align: top;\n",
       "    }\n",
       "\n",
       "    .dataframe thead th {\n",
       "        text-align: right;\n",
       "    }\n",
       "</style>\n",
       "<table border=\"1\" class=\"dataframe\">\n",
       "  <thead>\n",
       "    <tr style=\"text-align: right;\">\n",
       "      <th></th>\n",
       "      <th>datadate</th>\n",
       "      <th>stocks</th>\n",
       "      <th>baseline</th>\n",
       "      <th>top_10</th>\n",
       "      <th>top_10_ideal</th>\n",
       "      <th>bottom_10</th>\n",
       "      <th>bottom_10_ideal</th>\n",
       "    </tr>\n",
       "  </thead>\n",
       "  <tbody>\n",
       "    <tr>\n",
       "      <th>0</th>\n",
       "      <td>2013-03-31</td>\n",
       "      <td>66</td>\n",
       "      <td>0.091472</td>\n",
       "      <td>0.660227</td>\n",
       "      <td>0.667934</td>\n",
       "      <td>-0.009733</td>\n",
       "      <td>-0.084238</td>\n",
       "    </tr>\n",
       "    <tr>\n",
       "      <th>1</th>\n",
       "      <td>2013-06-30</td>\n",
       "      <td>67</td>\n",
       "      <td>0.072373</td>\n",
       "      <td>0.285397</td>\n",
       "      <td>0.466270</td>\n",
       "      <td>-0.014270</td>\n",
       "      <td>-0.061988</td>\n",
       "    </tr>\n",
       "    <tr>\n",
       "      <th>2</th>\n",
       "      <td>2013-09-30</td>\n",
       "      <td>70</td>\n",
       "      <td>0.106628</td>\n",
       "      <td>0.224949</td>\n",
       "      <td>0.362922</td>\n",
       "      <td>-0.000798</td>\n",
       "      <td>-0.081207</td>\n",
       "    </tr>\n",
       "    <tr>\n",
       "      <th>3</th>\n",
       "      <td>2013-12-31</td>\n",
       "      <td>69</td>\n",
       "      <td>0.036740</td>\n",
       "      <td>0.128831</td>\n",
       "      <td>0.277631</td>\n",
       "      <td>-0.033762</td>\n",
       "      <td>-0.089119</td>\n",
       "    </tr>\n",
       "    <tr>\n",
       "      <th>4</th>\n",
       "      <td>2014-03-31</td>\n",
       "      <td>69</td>\n",
       "      <td>0.043231</td>\n",
       "      <td>0.086266</td>\n",
       "      <td>0.205114</td>\n",
       "      <td>0.029640</td>\n",
       "      <td>-0.061300</td>\n",
       "    </tr>\n",
       "    <tr>\n",
       "      <th>5</th>\n",
       "      <td>2014-06-30</td>\n",
       "      <td>71</td>\n",
       "      <td>0.026139</td>\n",
       "      <td>0.028926</td>\n",
       "      <td>0.210655</td>\n",
       "      <td>-0.043427</td>\n",
       "      <td>-0.099601</td>\n",
       "    </tr>\n",
       "    <tr>\n",
       "      <th>6</th>\n",
       "      <td>2014-09-30</td>\n",
       "      <td>69</td>\n",
       "      <td>0.050479</td>\n",
       "      <td>0.167644</td>\n",
       "      <td>0.227675</td>\n",
       "      <td>-0.055360</td>\n",
       "      <td>-0.118342</td>\n",
       "    </tr>\n",
       "    <tr>\n",
       "      <th>7</th>\n",
       "      <td>2014-12-31</td>\n",
       "      <td>68</td>\n",
       "      <td>0.025900</td>\n",
       "      <td>0.090864</td>\n",
       "      <td>0.202082</td>\n",
       "      <td>-0.075304</td>\n",
       "      <td>-0.128522</td>\n",
       "    </tr>\n",
       "    <tr>\n",
       "      <th>8</th>\n",
       "      <td>2015-03-31</td>\n",
       "      <td>69</td>\n",
       "      <td>0.016074</td>\n",
       "      <td>0.206250</td>\n",
       "      <td>0.296327</td>\n",
       "      <td>-0.075571</td>\n",
       "      <td>-0.111613</td>\n",
       "    </tr>\n",
       "    <tr>\n",
       "      <th>9</th>\n",
       "      <td>2015-06-30</td>\n",
       "      <td>67</td>\n",
       "      <td>-0.055364</td>\n",
       "      <td>0.079047</td>\n",
       "      <td>0.127415</td>\n",
       "      <td>-0.179315</td>\n",
       "      <td>-0.221275</td>\n",
       "    </tr>\n",
       "    <tr>\n",
       "      <th>10</th>\n",
       "      <td>2015-09-30</td>\n",
       "      <td>69</td>\n",
       "      <td>0.081224</td>\n",
       "      <td>0.337621</td>\n",
       "      <td>0.397405</td>\n",
       "      <td>-0.055954</td>\n",
       "      <td>-0.095412</td>\n",
       "    </tr>\n",
       "    <tr>\n",
       "      <th>11</th>\n",
       "      <td>2015-12-31</td>\n",
       "      <td>67</td>\n",
       "      <td>-0.002616</td>\n",
       "      <td>0.145836</td>\n",
       "      <td>0.201798</td>\n",
       "      <td>-0.095331</td>\n",
       "      <td>-0.191685</td>\n",
       "    </tr>\n",
       "    <tr>\n",
       "      <th>12</th>\n",
       "      <td>2016-03-31</td>\n",
       "      <td>69</td>\n",
       "      <td>0.039353</td>\n",
       "      <td>0.075254</td>\n",
       "      <td>0.201654</td>\n",
       "      <td>-0.024744</td>\n",
       "      <td>-0.089739</td>\n",
       "    </tr>\n",
       "    <tr>\n",
       "      <th>13</th>\n",
       "      <td>2016-06-30</td>\n",
       "      <td>72</td>\n",
       "      <td>0.045814</td>\n",
       "      <td>0.229289</td>\n",
       "      <td>0.320381</td>\n",
       "      <td>-0.020025</td>\n",
       "      <td>-0.101966</td>\n",
       "    </tr>\n",
       "    <tr>\n",
       "      <th>14</th>\n",
       "      <td>2016-09-30</td>\n",
       "      <td>71</td>\n",
       "      <td>0.014570</td>\n",
       "      <td>0.205545</td>\n",
       "      <td>0.230018</td>\n",
       "      <td>-0.075723</td>\n",
       "      <td>-0.122545</td>\n",
       "    </tr>\n",
       "    <tr>\n",
       "      <th>15</th>\n",
       "      <td>2016-12-31</td>\n",
       "      <td>69</td>\n",
       "      <td>0.071601</td>\n",
       "      <td>0.220987</td>\n",
       "      <td>0.305486</td>\n",
       "      <td>0.039009</td>\n",
       "      <td>-0.077952</td>\n",
       "    </tr>\n",
       "    <tr>\n",
       "      <th>16</th>\n",
       "      <td>2017-03-31</td>\n",
       "      <td>72</td>\n",
       "      <td>0.047184</td>\n",
       "      <td>0.172756</td>\n",
       "      <td>0.251758</td>\n",
       "      <td>-0.046037</td>\n",
       "      <td>-0.098882</td>\n",
       "    </tr>\n",
       "    <tr>\n",
       "      <th>17</th>\n",
       "      <td>2017-06-30</td>\n",
       "      <td>72</td>\n",
       "      <td>0.050889</td>\n",
       "      <td>0.188883</td>\n",
       "      <td>0.276106</td>\n",
       "      <td>-0.023694</td>\n",
       "      <td>-0.081147</td>\n",
       "    </tr>\n",
       "    <tr>\n",
       "      <th>18</th>\n",
       "      <td>2017-09-30</td>\n",
       "      <td>72</td>\n",
       "      <td>0.053644</td>\n",
       "      <td>0.242967</td>\n",
       "      <td>0.262708</td>\n",
       "      <td>-0.062318</td>\n",
       "      <td>-0.128862</td>\n",
       "    </tr>\n",
       "    <tr>\n",
       "      <th>19</th>\n",
       "      <td>2017-12-31</td>\n",
       "      <td>69</td>\n",
       "      <td>0.024161</td>\n",
       "      <td>0.068067</td>\n",
       "      <td>0.297518</td>\n",
       "      <td>-0.070647</td>\n",
       "      <td>-0.121983</td>\n",
       "    </tr>\n",
       "    <tr>\n",
       "      <th>20</th>\n",
       "      <td>2018-03-31</td>\n",
       "      <td>72</td>\n",
       "      <td>0.040594</td>\n",
       "      <td>0.163516</td>\n",
       "      <td>0.321956</td>\n",
       "      <td>-0.010948</td>\n",
       "      <td>-0.122981</td>\n",
       "    </tr>\n",
       "    <tr>\n",
       "      <th>21</th>\n",
       "      <td>2018-06-30</td>\n",
       "      <td>73</td>\n",
       "      <td>0.082128</td>\n",
       "      <td>0.335497</td>\n",
       "      <td>0.410501</td>\n",
       "      <td>-0.060482</td>\n",
       "      <td>-0.121794</td>\n",
       "    </tr>\n",
       "    <tr>\n",
       "      <th>22</th>\n",
       "      <td>2018-09-30</td>\n",
       "      <td>73</td>\n",
       "      <td>-0.095450</td>\n",
       "      <td>0.130656</td>\n",
       "      <td>0.170796</td>\n",
       "      <td>-0.248530</td>\n",
       "      <td>-0.287277</td>\n",
       "    </tr>\n",
       "    <tr>\n",
       "      <th>23</th>\n",
       "      <td>2018-12-31</td>\n",
       "      <td>71</td>\n",
       "      <td>0.093264</td>\n",
       "      <td>0.247975</td>\n",
       "      <td>0.317263</td>\n",
       "      <td>-0.105493</td>\n",
       "      <td>-0.154744</td>\n",
       "    </tr>\n",
       "    <tr>\n",
       "      <th>24</th>\n",
       "      <td>2019-03-31</td>\n",
       "      <td>71</td>\n",
       "      <td>0.024809</td>\n",
       "      <td>0.199912</td>\n",
       "      <td>0.252060</td>\n",
       "      <td>-0.124775</td>\n",
       "      <td>-0.190775</td>\n",
       "    </tr>\n",
       "    <tr>\n",
       "      <th>25</th>\n",
       "      <td>2019-06-30</td>\n",
       "      <td>71</td>\n",
       "      <td>0.030818</td>\n",
       "      <td>0.118289</td>\n",
       "      <td>0.240935</td>\n",
       "      <td>-0.081153</td>\n",
       "      <td>-0.121940</td>\n",
       "    </tr>\n",
       "    <tr>\n",
       "      <th>26</th>\n",
       "      <td>2019-09-30</td>\n",
       "      <td>70</td>\n",
       "      <td>0.094682</td>\n",
       "      <td>0.404001</td>\n",
       "      <td>0.474627</td>\n",
       "      <td>-0.024522</td>\n",
       "      <td>-0.095553</td>\n",
       "    </tr>\n",
       "    <tr>\n",
       "      <th>27</th>\n",
       "      <td>2019-12-31</td>\n",
       "      <td>69</td>\n",
       "      <td>-0.154669</td>\n",
       "      <td>0.176000</td>\n",
       "      <td>0.200933</td>\n",
       "      <td>-0.301333</td>\n",
       "      <td>-0.447930</td>\n",
       "    </tr>\n",
       "    <tr>\n",
       "      <th>28</th>\n",
       "      <td>2020-03-31</td>\n",
       "      <td>68</td>\n",
       "      <td>0.164424</td>\n",
       "      <td>0.427337</td>\n",
       "      <td>0.671248</td>\n",
       "      <td>0.137401</td>\n",
       "      <td>-0.049126</td>\n",
       "    </tr>\n",
       "    <tr>\n",
       "      <th>29</th>\n",
       "      <td>2020-06-30</td>\n",
       "      <td>66</td>\n",
       "      <td>0.085525</td>\n",
       "      <td>0.172202</td>\n",
       "      <td>0.504331</td>\n",
       "      <td>-0.093216</td>\n",
       "      <td>-0.171397</td>\n",
       "    </tr>\n",
       "    <tr>\n",
       "      <th>30</th>\n",
       "      <td>2020-09-30</td>\n",
       "      <td>67</td>\n",
       "      <td>0.105130</td>\n",
       "      <td>0.333169</td>\n",
       "      <td>0.511435</td>\n",
       "      <td>-0.034525</td>\n",
       "      <td>-0.094689</td>\n",
       "    </tr>\n",
       "    <tr>\n",
       "      <th>31</th>\n",
       "      <td>2020-12-31</td>\n",
       "      <td>69</td>\n",
       "      <td>0.075775</td>\n",
       "      <td>0.300088</td>\n",
       "      <td>0.407727</td>\n",
       "      <td>-0.035310</td>\n",
       "      <td>-0.090782</td>\n",
       "    </tr>\n",
       "    <tr>\n",
       "      <th>32</th>\n",
       "      <td>2021-03-31</td>\n",
       "      <td>72</td>\n",
       "      <td>0.068591</td>\n",
       "      <td>0.140979</td>\n",
       "      <td>0.241929</td>\n",
       "      <td>0.078768</td>\n",
       "      <td>-0.073784</td>\n",
       "    </tr>\n",
       "    <tr>\n",
       "      <th>33</th>\n",
       "      <td>2021-06-30</td>\n",
       "      <td>71</td>\n",
       "      <td>0.002246</td>\n",
       "      <td>0.128725</td>\n",
       "      <td>0.232059</td>\n",
       "      <td>-0.093226</td>\n",
       "      <td>-0.134863</td>\n",
       "    </tr>\n",
       "    <tr>\n",
       "      <th>34</th>\n",
       "      <td>2021-09-30</td>\n",
       "      <td>70</td>\n",
       "      <td>0.093330</td>\n",
       "      <td>0.272956</td>\n",
       "      <td>0.403750</td>\n",
       "      <td>-0.047624</td>\n",
       "      <td>-0.109420</td>\n",
       "    </tr>\n",
       "    <tr>\n",
       "      <th>35</th>\n",
       "      <td>2021-12-31</td>\n",
       "      <td>70</td>\n",
       "      <td>-0.018157</td>\n",
       "      <td>0.331559</td>\n",
       "      <td>0.483069</td>\n",
       "      <td>-0.156904</td>\n",
       "      <td>-0.273800</td>\n",
       "    </tr>\n",
       "    <tr>\n",
       "      <th>36</th>\n",
       "      <td>2022-03-31</td>\n",
       "      <td>69</td>\n",
       "      <td>-0.106672</td>\n",
       "      <td>0.020466</td>\n",
       "      <td>0.114684</td>\n",
       "      <td>-0.255531</td>\n",
       "      <td>-0.360022</td>\n",
       "    </tr>\n",
       "    <tr>\n",
       "      <th>37</th>\n",
       "      <td>2022-06-30</td>\n",
       "      <td>68</td>\n",
       "      <td>-0.077174</td>\n",
       "      <td>0.094493</td>\n",
       "      <td>0.200696</td>\n",
       "      <td>-0.179865</td>\n",
       "      <td>-0.231128</td>\n",
       "    </tr>\n",
       "    <tr>\n",
       "      <th>38</th>\n",
       "      <td>2022-09-30</td>\n",
       "      <td>71</td>\n",
       "      <td>0.076451</td>\n",
       "      <td>0.227984</td>\n",
       "      <td>0.337922</td>\n",
       "      <td>-0.057723</td>\n",
       "      <td>-0.131707</td>\n",
       "    </tr>\n",
       "    <tr>\n",
       "      <th>39</th>\n",
       "      <td>2022-12-31</td>\n",
       "      <td>73</td>\n",
       "      <td>0.043668</td>\n",
       "      <td>0.269213</td>\n",
       "      <td>0.535046</td>\n",
       "      <td>-0.093519</td>\n",
       "      <td>-0.166300</td>\n",
       "    </tr>\n",
       "    <tr>\n",
       "      <th>40</th>\n",
       "      <td>2023-03-31</td>\n",
       "      <td>72</td>\n",
       "      <td>0.045841</td>\n",
       "      <td>0.296688</td>\n",
       "      <td>0.340939</td>\n",
       "      <td>-0.028315</td>\n",
       "      <td>-0.120463</td>\n",
       "    </tr>\n",
       "    <tr>\n",
       "      <th>41</th>\n",
       "      <td>2023-06-30</td>\n",
       "      <td>72</td>\n",
       "      <td>-0.000171</td>\n",
       "      <td>0.278513</td>\n",
       "      <td>0.342894</td>\n",
       "      <td>-0.074929</td>\n",
       "      <td>-0.164867</td>\n",
       "    </tr>\n",
       "  </tbody>\n",
       "</table>\n",
       "</div>"
      ],
      "text/plain": [
       "     datadate  stocks  baseline    top_10  top_10_ideal  bottom_10  \\\n",
       "0  2013-03-31      66  0.091472  0.660227      0.667934  -0.009733   \n",
       "1  2013-06-30      67  0.072373  0.285397      0.466270  -0.014270   \n",
       "2  2013-09-30      70  0.106628  0.224949      0.362922  -0.000798   \n",
       "3  2013-12-31      69  0.036740  0.128831      0.277631  -0.033762   \n",
       "4  2014-03-31      69  0.043231  0.086266      0.205114   0.029640   \n",
       "5  2014-06-30      71  0.026139  0.028926      0.210655  -0.043427   \n",
       "6  2014-09-30      69  0.050479  0.167644      0.227675  -0.055360   \n",
       "7  2014-12-31      68  0.025900  0.090864      0.202082  -0.075304   \n",
       "8  2015-03-31      69  0.016074  0.206250      0.296327  -0.075571   \n",
       "9  2015-06-30      67 -0.055364  0.079047      0.127415  -0.179315   \n",
       "10 2015-09-30      69  0.081224  0.337621      0.397405  -0.055954   \n",
       "11 2015-12-31      67 -0.002616  0.145836      0.201798  -0.095331   \n",
       "12 2016-03-31      69  0.039353  0.075254      0.201654  -0.024744   \n",
       "13 2016-06-30      72  0.045814  0.229289      0.320381  -0.020025   \n",
       "14 2016-09-30      71  0.014570  0.205545      0.230018  -0.075723   \n",
       "15 2016-12-31      69  0.071601  0.220987      0.305486   0.039009   \n",
       "16 2017-03-31      72  0.047184  0.172756      0.251758  -0.046037   \n",
       "17 2017-06-30      72  0.050889  0.188883      0.276106  -0.023694   \n",
       "18 2017-09-30      72  0.053644  0.242967      0.262708  -0.062318   \n",
       "19 2017-12-31      69  0.024161  0.068067      0.297518  -0.070647   \n",
       "20 2018-03-31      72  0.040594  0.163516      0.321956  -0.010948   \n",
       "21 2018-06-30      73  0.082128  0.335497      0.410501  -0.060482   \n",
       "22 2018-09-30      73 -0.095450  0.130656      0.170796  -0.248530   \n",
       "23 2018-12-31      71  0.093264  0.247975      0.317263  -0.105493   \n",
       "24 2019-03-31      71  0.024809  0.199912      0.252060  -0.124775   \n",
       "25 2019-06-30      71  0.030818  0.118289      0.240935  -0.081153   \n",
       "26 2019-09-30      70  0.094682  0.404001      0.474627  -0.024522   \n",
       "27 2019-12-31      69 -0.154669  0.176000      0.200933  -0.301333   \n",
       "28 2020-03-31      68  0.164424  0.427337      0.671248   0.137401   \n",
       "29 2020-06-30      66  0.085525  0.172202      0.504331  -0.093216   \n",
       "30 2020-09-30      67  0.105130  0.333169      0.511435  -0.034525   \n",
       "31 2020-12-31      69  0.075775  0.300088      0.407727  -0.035310   \n",
       "32 2021-03-31      72  0.068591  0.140979      0.241929   0.078768   \n",
       "33 2021-06-30      71  0.002246  0.128725      0.232059  -0.093226   \n",
       "34 2021-09-30      70  0.093330  0.272956      0.403750  -0.047624   \n",
       "35 2021-12-31      70 -0.018157  0.331559      0.483069  -0.156904   \n",
       "36 2022-03-31      69 -0.106672  0.020466      0.114684  -0.255531   \n",
       "37 2022-06-30      68 -0.077174  0.094493      0.200696  -0.179865   \n",
       "38 2022-09-30      71  0.076451  0.227984      0.337922  -0.057723   \n",
       "39 2022-12-31      73  0.043668  0.269213      0.535046  -0.093519   \n",
       "40 2023-03-31      72  0.045841  0.296688      0.340939  -0.028315   \n",
       "41 2023-06-30      72 -0.000171  0.278513      0.342894  -0.074929   \n",
       "\n",
       "    bottom_10_ideal  \n",
       "0         -0.084238  \n",
       "1         -0.061988  \n",
       "2         -0.081207  \n",
       "3         -0.089119  \n",
       "4         -0.061300  \n",
       "5         -0.099601  \n",
       "6         -0.118342  \n",
       "7         -0.128522  \n",
       "8         -0.111613  \n",
       "9         -0.221275  \n",
       "10        -0.095412  \n",
       "11        -0.191685  \n",
       "12        -0.089739  \n",
       "13        -0.101966  \n",
       "14        -0.122545  \n",
       "15        -0.077952  \n",
       "16        -0.098882  \n",
       "17        -0.081147  \n",
       "18        -0.128862  \n",
       "19        -0.121983  \n",
       "20        -0.122981  \n",
       "21        -0.121794  \n",
       "22        -0.287277  \n",
       "23        -0.154744  \n",
       "24        -0.190775  \n",
       "25        -0.121940  \n",
       "26        -0.095553  \n",
       "27        -0.447930  \n",
       "28        -0.049126  \n",
       "29        -0.171397  \n",
       "30        -0.094689  \n",
       "31        -0.090782  \n",
       "32        -0.073784  \n",
       "33        -0.134863  \n",
       "34        -0.109420  \n",
       "35        -0.273800  \n",
       "36        -0.360022  \n",
       "37        -0.231128  \n",
       "38        -0.131707  \n",
       "39        -0.166300  \n",
       "40        -0.120463  \n",
       "41        -0.164867  "
      ]
     },
     "execution_count": 525,
     "metadata": {},
     "output_type": "execute_result"
    }
   ],
   "source": [
    "# Group by 'datadate' and calculate the count of rows and the mean of 'next_prccq_change'\n",
    "df_avg = results.groupby('datadate').agg(\n",
    "    stocks=('next_prccq_change', 'size'),\n",
    "    baseline=('next_prccq_change', 'mean')\n",
    ").reset_index()\n",
    "\n",
    "\n",
    "# Add a 'top_10' column that contains the average of the top 10 highest 'y_pred' for each quarter\n",
    "df_avg['top_10'] = results.groupby('datadate').apply(\n",
    "    lambda x: x.nlargest(5, 'y_pred_sim')['next_prccq_change'].mean()\n",
    ").reset_index(level=0, drop=True)\n",
    "\n",
    "\n",
    "df_avg['top_10_ideal'] = results.groupby('datadate').apply(\n",
    "    lambda x: x.nlargest(5, 'next_prccq_change')['next_prccq_change'].mean()\n",
    ").reset_index(level=0, drop=True)\n",
    "\n",
    "\n",
    "df_avg['bottom_10'] = results.groupby('datadate').apply(\n",
    "    lambda x: x.nsmallest(10, 'y_pred_sim')['next_prccq_change'].mean()\n",
    ").reset_index(level=0, drop=True)\n",
    "\n",
    "\n",
    "df_avg['bottom_10_ideal'] = results.groupby('datadate').apply(\n",
    "    lambda x: x.nsmallest(10, 'next_prccq_change')['next_prccq_change'].mean()\n",
    ").reset_index(level=0, drop=True)\n",
    "\n",
    "# Show the first few rows of the new dataframe\n",
    "df_avg.head(100)\n"
   ]
  },
  {
   "cell_type": "code",
   "execution_count": 522,
   "metadata": {},
   "outputs": [
    {
     "name": "stdout",
     "output_type": "stream",
     "text": [
      "Mean quarterly return of the baseline portfolio: 0.03605902462421427\n",
      "Sharpe Ratio of the baseline portfolio: 0.17847995042685905\n",
      "\n",
      "Mean quarterly return of the top_10 portfolio: 0.16763608889267836\n",
      "Sharpe Ratio of the top_10 portfolio: 1.5739905659122626\n",
      "\n"
     ]
    }
   ],
   "source": [
    "for portfolio in ['baseline', 'top_10']:\n",
    "\n",
    "    mean_return = df_avg[portfolio].mean()\n",
    "\n",
    "    # Calculate the standard deviation of the returns of the top 10 portfolio\n",
    "    std_return = df_avg[portfolio].std()\n",
    "\n",
    "    # Assuming the risk-free rate is 0 (if you have a specific risk-free rate, replace 0 with that value)\n",
    "    risk_free_rate = 0.025\n",
    "\n",
    "    # Calculate the Sharpe ratio\n",
    "    sharpe_ratio = (mean_return - risk_free_rate) / std_return\n",
    "\n",
    "    # Print the Sharpe ratio\n",
    "    print(f\"Mean quarterly return of the {portfolio} portfolio: {mean_return}\")\n",
    "    print(f\"Sharpe Ratio of the {portfolio} portfolio: {sharpe_ratio}\")\n",
    "    print(\"\")"
   ]
  }
 ],
 "metadata": {
  "kernelspec": {
   "display_name": "Python 3",
   "language": "python",
   "name": "python3"
  },
  "language_info": {
   "codemirror_mode": {
    "name": "ipython",
    "version": 3
   },
   "file_extension": ".py",
   "mimetype": "text/x-python",
   "name": "python",
   "nbconvert_exporter": "python",
   "pygments_lexer": "ipython3",
   "version": "3.9.13"
  }
 },
 "nbformat": 4,
 "nbformat_minor": 2
}
