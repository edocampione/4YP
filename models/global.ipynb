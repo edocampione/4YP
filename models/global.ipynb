{
 "cells": [
  {
   "cell_type": "code",
   "execution_count": 532,
   "metadata": {},
   "outputs": [
    {
     "data": {
      "text/html": [
       "        <script type=\"text/javascript\">\n",
       "        window.PlotlyConfig = {MathJaxConfig: 'local'};\n",
       "        if (window.MathJax && window.MathJax.Hub && window.MathJax.Hub.Config) {window.MathJax.Hub.Config({SVG: {font: \"STIX-Web\"}});}\n",
       "        if (typeof require !== 'undefined') {\n",
       "        require.undef(\"plotly\");\n",
       "        requirejs.config({\n",
       "            paths: {\n",
       "                'plotly': ['https://cdn.plot.ly/plotly-2.12.1.min']\n",
       "            }\n",
       "        });\n",
       "        require(['plotly'], function(Plotly) {\n",
       "            window._Plotly = Plotly;\n",
       "        });\n",
       "        }\n",
       "        </script>\n",
       "        "
      ]
     },
     "metadata": {},
     "output_type": "display_data"
    }
   ],
   "source": [
    "import os\n",
    "import numpy as np\n",
    "import pandas as pd\n",
    "import xgboost as xgb\n",
    "import matplotlib.pyplot as plt\n",
    "from xgboost import plot_importance, plot_tree\n",
    "from sklearn.metrics import mean_squared_error\n",
    "from sklearn.preprocessing import MinMaxScaler, StandardScaler\n",
    "from sklearn.model_selection import train_test_split, GridSearchCV\n",
    "from sklearn.metrics import accuracy_score,classification_report\n",
    "from sklearn.metrics import roc_curve, auc\n",
    "from sklearn.base import BaseEstimator\n",
    "\n",
    "# Time series decomposition\n",
    "from statsmodels.tsa.seasonal import seasonal_decompose\n",
    "\n",
    "# Chart drawing\n",
    "import plotly as py\n",
    "import plotly.io as pio\n",
    "import plotly.graph_objects as go\n",
    "from plotly.subplots import make_subplots\n",
    "from plotly.offline import download_plotlyjs, init_notebook_mode, plot, iplot\n",
    "\n",
    "# Mute sklearn warnings\n",
    "from warnings import simplefilter\n",
    "simplefilter(action='ignore', category=FutureWarning)\n",
    "simplefilter(action='ignore', category=DeprecationWarning)\n",
    "\n",
    "# Show charts when running kernel\n",
    "init_notebook_mode(connected=True)\n",
    "\n",
    "# Change default background color for all visualizations\n",
    "layout=go.Layout(paper_bgcolor='rgba(0,0,0,0)', plot_bgcolor='rgba(250,250,250,0.8)')\n",
    "fig = go.Figure(layout=layout)\n",
    "templated_fig = pio.to_templated(fig)\n",
    "pio.templates['my_template'] = templated_fig.layout.template\n",
    "pio.templates.default = 'my_template'"
   ]
  },
  {
   "cell_type": "code",
   "execution_count": 533,
   "metadata": {},
   "outputs": [
    {
     "name": "stdout",
     "output_type": "stream",
     "text": [
      "<class 'pandas.core.frame.DataFrame'>\n",
      "Int64Index: 14322 entries, 1 to 15338\n",
      "Data columns (total 48 columns):\n",
      " #   Column                          Non-Null Count  Dtype         \n",
      "---  ------                          --------------  -----         \n",
      " 0   gvkey                           14322 non-null  int64         \n",
      " 1   datadate                        14322 non-null  datetime64[ns]\n",
      " 2   tic                             14322 non-null  object        \n",
      " 3   actq                            14322 non-null  float64       \n",
      " 4   ancq                            14322 non-null  float64       \n",
      " 5   epsfxq                          14302 non-null  float64       \n",
      " 6   lctq                            14322 non-null  float64       \n",
      " 7   ltq                             14322 non-null  float64       \n",
      " 8   revtq                           14322 non-null  float64       \n",
      " 9   capxy                           13783 non-null  float64       \n",
      " 10  roa                             14289 non-null  float64       \n",
      " 11  roe                             14097 non-null  float64       \n",
      " 12  pe_inc                          13681 non-null  float64       \n",
      " 13  divyield                        11113 non-null  float64       \n",
      " 14  pcf                             14290 non-null  float64       \n",
      " 15  roce                            14187 non-null  float64       \n",
      " 16  debt_ebitda                     14176 non-null  float64       \n",
      " 17  gpm                             14310 non-null  float64       \n",
      " 18  evm                             14243 non-null  float64       \n",
      " 19  cfm                             14037 non-null  float64       \n",
      " 20  npm                             14311 non-null  float64       \n",
      " 21  PEG_trailing                    9837 non-null   float64       \n",
      " 22  de_ratio                        14307 non-null  float64       \n",
      " 23  curr_ratio                      12494 non-null  float64       \n",
      " 24  ptb                             14128 non-null  float64       \n",
      " 25  roa_change                      14318 non-null  float64       \n",
      " 26  roe_change                      14316 non-null  float64       \n",
      " 27  pe_inc_change                   14322 non-null  float64       \n",
      " 28  divyield_change                 14298 non-null  float64       \n",
      " 29  pcf_change                      14322 non-null  float64       \n",
      " 30  roce_change                     14315 non-null  float64       \n",
      " 31  debt_ebitda_change              13908 non-null  float64       \n",
      " 32  gpm_change                      14322 non-null  float64       \n",
      " 33  evm_change                      14322 non-null  float64       \n",
      " 34  cfm_change                      14318 non-null  float64       \n",
      " 35  npm_change                      14309 non-null  float64       \n",
      " 36  PEG_trailing_change             14294 non-null  float64       \n",
      " 37  de_ratio_change                 14322 non-null  float64       \n",
      " 38  curr_ratio_change               14322 non-null  float64       \n",
      " 39  ptb_change                      14322 non-null  float64       \n",
      " 40  relative_quarterly_return       14322 non-null  float64       \n",
      " 41  next_relative_quarterly_return  14321 non-null  float64       \n",
      " 42  spindx                          14322 non-null  float64       \n",
      " 43  spindx_change                   14322 non-null  float64       \n",
      " 44  next_spindx_change              14321 non-null  float64       \n",
      " 45  prccq                           14321 non-null  float64       \n",
      " 46  prccq_change                    14322 non-null  float64       \n",
      " 47  next_prccq_change               14321 non-null  float64       \n",
      "dtypes: datetime64[ns](1), float64(45), int64(1), object(1)\n",
      "memory usage: 5.4+ MB\n"
     ]
    }
   ],
   "source": [
    "file_path = '/Users/edocampione/Desktop/Meng Engineering Science/4YP/scripts/dati_trattati.csv' # cleaned data\n",
    "df = pd.read_csv(file_path)\n",
    "df['datadate'] = pd.to_datetime(df['datadate'])\n",
    "df['datadate'] = df['datadate'] + pd.offsets.QuarterEnd(0)\n",
    "\n",
    "df = df.dropna(subset=['relative_quarterly_return'])\n",
    "\n",
    "df.info()"
   ]
  },
  {
   "cell_type": "code",
   "execution_count": 534,
   "metadata": {},
   "outputs": [
    {
     "name": "stdout",
     "output_type": "stream",
     "text": [
      "<class 'pandas.core.frame.DataFrame'>\n",
      "Int64Index: 11212 entries, 32 to 15337\n",
      "Data columns (total 43 columns):\n",
      " #   Column                          Non-Null Count  Dtype         \n",
      "---  ------                          --------------  -----         \n",
      " 0   gvkey                           11212 non-null  int64         \n",
      " 1   datadate                        11212 non-null  datetime64[ns]\n",
      " 2   tic                             11212 non-null  object        \n",
      " 3   actq                            11212 non-null  float64       \n",
      " 4   ancq                            11212 non-null  float64       \n",
      " 5   epsfxq                          11212 non-null  float64       \n",
      " 6   lctq                            11212 non-null  float64       \n",
      " 7   ltq                             11212 non-null  float64       \n",
      " 8   revtq                           11212 non-null  float64       \n",
      " 9   roa                             11212 non-null  float64       \n",
      " 10  roe                             11212 non-null  float64       \n",
      " 11  pe_inc                          11212 non-null  float64       \n",
      " 12  pcf                             11212 non-null  float64       \n",
      " 13  roce                            11212 non-null  float64       \n",
      " 14  debt_ebitda                     11212 non-null  float64       \n",
      " 15  gpm                             11212 non-null  float64       \n",
      " 16  evm                             11212 non-null  float64       \n",
      " 17  npm                             11212 non-null  float64       \n",
      " 18  curr_ratio                      11212 non-null  float64       \n",
      " 19  ptb                             11212 non-null  float64       \n",
      " 20  roa_change                      11212 non-null  float64       \n",
      " 21  roe_change                      11212 non-null  float64       \n",
      " 22  pe_inc_change                   11212 non-null  float64       \n",
      " 23  divyield_change                 11212 non-null  float64       \n",
      " 24  pcf_change                      11212 non-null  float64       \n",
      " 25  roce_change                     11212 non-null  float64       \n",
      " 26  debt_ebitda_change              11212 non-null  float64       \n",
      " 27  gpm_change                      11212 non-null  float64       \n",
      " 28  evm_change                      11212 non-null  float64       \n",
      " 29  cfm_change                      11212 non-null  float64       \n",
      " 30  npm_change                      11212 non-null  float64       \n",
      " 31  PEG_trailing_change             11212 non-null  float64       \n",
      " 32  de_ratio_change                 11212 non-null  float64       \n",
      " 33  curr_ratio_change               11212 non-null  float64       \n",
      " 34  ptb_change                      11212 non-null  float64       \n",
      " 35  relative_quarterly_return       11212 non-null  float64       \n",
      " 36  next_relative_quarterly_return  11212 non-null  float64       \n",
      " 37  spindx                          11212 non-null  float64       \n",
      " 38  spindx_change                   11212 non-null  float64       \n",
      " 39  next_spindx_change              11212 non-null  float64       \n",
      " 40  prccq                           11212 non-null  float64       \n",
      " 41  prccq_change                    11212 non-null  float64       \n",
      " 42  next_prccq_change               11212 non-null  float64       \n",
      "dtypes: datetime64[ns](1), float64(40), int64(1), object(1)\n",
      "memory usage: 3.8+ MB\n"
     ]
    }
   ],
   "source": [
    "drop_features = ['capxy', 'cfm', 'PEG_trailing', 'de_ratio', 'divyield']\n",
    "df = df.drop(drop_features, 1)\n",
    "df = df.dropna()\n",
    "df.info()"
   ]
  },
  {
   "cell_type": "code",
   "execution_count": 535,
   "metadata": {},
   "outputs": [
    {
     "name": "stdout",
     "output_type": "stream",
     "text": [
      "Number of unique gvkeys: 80\n",
      "['AAPL' 'ABT' 'ADBE' 'ADM' 'AMD' 'AMGN' 'AMT' 'AMZN' 'APD' 'BA' 'BAX'\n",
      " 'BMY' 'CAT' 'CL' 'CME' 'COP' 'COST' 'CSCO' 'CTSH' 'CVS' 'CVX' 'DIS' 'ECL'\n",
      " 'EQIX' 'EXC' 'EXPE' 'F' 'FDX' 'FIS' 'GE' 'GOOGL' 'HCA' 'HD' 'IBM' 'INTC'\n",
      " 'JBL' 'JNJ' 'KMB' 'KO' 'LLY' 'LMT' 'LUV' 'MA' 'MCD' 'META' 'MMC' 'MMM'\n",
      " 'MRK' 'MSFT' 'MU' 'NFLX' 'NKE' 'NOC' 'NVDA' 'OXY' 'PFE' 'PG' 'PPL' 'PYPL'\n",
      " 'QCOM' 'REGN' 'RJF' 'RTX' 'SBUX' 'SPGI' 'STZ' 'T' 'TGT' 'TMO' 'TSLA'\n",
      " 'TSN' 'UNH' 'UPS' 'V' 'VZ' 'WBA' 'WDC' 'WMT' 'XOM' 'ZTS']\n"
     ]
    }
   ],
   "source": [
    "# Find the unique number of stocks in the dataframe\n",
    "unique_gvkeys = df['tic'].unique()\n",
    "\n",
    "# Print the result\n",
    "print(f\"Number of unique gvkeys: {len(unique_gvkeys)}\")\n",
    "print(unique_gvkeys)\n"
   ]
  },
  {
   "cell_type": "code",
   "execution_count": 536,
   "metadata": {},
   "outputs": [
    {
     "name": "stdout",
     "output_type": "stream",
     "text": [
      "Number of unique gvkeys: 80\n",
      "<class 'pandas.core.frame.DataFrame'>\n",
      "Int64Index: 11212 entries, 172 to 3737\n",
      "Data columns (total 43 columns):\n",
      " #   Column                          Non-Null Count  Dtype         \n",
      "---  ------                          --------------  -----         \n",
      " 0   gvkey                           11212 non-null  int64         \n",
      " 1   datadate                        11212 non-null  datetime64[ns]\n",
      " 2   tic                             11212 non-null  object        \n",
      " 3   actq                            11212 non-null  float64       \n",
      " 4   ancq                            11212 non-null  float64       \n",
      " 5   epsfxq                          11212 non-null  float64       \n",
      " 6   lctq                            11212 non-null  float64       \n",
      " 7   ltq                             11212 non-null  float64       \n",
      " 8   revtq                           11212 non-null  float64       \n",
      " 9   roa                             11212 non-null  float64       \n",
      " 10  roe                             11212 non-null  float64       \n",
      " 11  pe_inc                          11212 non-null  float64       \n",
      " 12  pcf                             11212 non-null  float64       \n",
      " 13  roce                            11212 non-null  float64       \n",
      " 14  debt_ebitda                     11212 non-null  float64       \n",
      " 15  gpm                             11212 non-null  float64       \n",
      " 16  evm                             11212 non-null  float64       \n",
      " 17  npm                             11212 non-null  float64       \n",
      " 18  curr_ratio                      11212 non-null  float64       \n",
      " 19  ptb                             11212 non-null  float64       \n",
      " 20  roa_change                      11212 non-null  float64       \n",
      " 21  roe_change                      11212 non-null  float64       \n",
      " 22  pe_inc_change                   11212 non-null  float64       \n",
      " 23  divyield_change                 11212 non-null  float64       \n",
      " 24  pcf_change                      11212 non-null  float64       \n",
      " 25  roce_change                     11212 non-null  float64       \n",
      " 26  debt_ebitda_change              11212 non-null  float64       \n",
      " 27  gpm_change                      11212 non-null  float64       \n",
      " 28  evm_change                      11212 non-null  float64       \n",
      " 29  cfm_change                      11212 non-null  float64       \n",
      " 30  npm_change                      11212 non-null  float64       \n",
      " 31  PEG_trailing_change             11212 non-null  float64       \n",
      " 32  de_ratio_change                 11212 non-null  float64       \n",
      " 33  curr_ratio_change               11212 non-null  float64       \n",
      " 34  ptb_change                      11212 non-null  float64       \n",
      " 35  relative_quarterly_return       11212 non-null  float64       \n",
      " 36  next_relative_quarterly_return  11212 non-null  float64       \n",
      " 37  spindx                          11212 non-null  float64       \n",
      " 38  spindx_change                   11212 non-null  float64       \n",
      " 39  next_spindx_change              11212 non-null  float64       \n",
      " 40  prccq                           11212 non-null  float64       \n",
      " 41  prccq_change                    11212 non-null  float64       \n",
      " 42  next_prccq_change               11212 non-null  float64       \n",
      "dtypes: datetime64[ns](1), float64(40), int64(1), object(1)\n",
      "memory usage: 3.8+ MB\n"
     ]
    }
   ],
   "source": [
    "df = df.dropna()\n",
    "df = df.sort_values(by=['datadate'])\n",
    "\n",
    "unique_gvkeys = df['tic'].unique()\n",
    "\n",
    "# Print the result\n",
    "print(f\"Number of unique gvkeys: {len(unique_gvkeys)}\")\n",
    "\n",
    "df.info()"
   ]
  },
  {
   "cell_type": "code",
   "execution_count": 537,
   "metadata": {},
   "outputs": [],
   "source": [
    "tickers_to_drop = ['AMT', 'CTSH', 'GOOGL', 'META', 'PYPL', 'RJF', 'TSLA', 'ZTS']\n",
    "\n",
    "df = df[~df['tic'].isin(tickers_to_drop)]"
   ]
  },
  {
   "cell_type": "code",
   "execution_count": 538,
   "metadata": {},
   "outputs": [
    {
     "data": {
      "text/html": [
       "<div>\n",
       "<style scoped>\n",
       "    .dataframe tbody tr th:only-of-type {\n",
       "        vertical-align: middle;\n",
       "    }\n",
       "\n",
       "    .dataframe tbody tr th {\n",
       "        vertical-align: top;\n",
       "    }\n",
       "\n",
       "    .dataframe thead th {\n",
       "        text-align: right;\n",
       "    }\n",
       "</style>\n",
       "<table border=\"1\" class=\"dataframe\">\n",
       "  <thead>\n",
       "    <tr style=\"text-align: right;\">\n",
       "      <th></th>\n",
       "      <th>gvkey</th>\n",
       "      <th>datadate</th>\n",
       "      <th>tic</th>\n",
       "      <th>actq</th>\n",
       "      <th>ancq</th>\n",
       "      <th>epsfxq</th>\n",
       "      <th>lctq</th>\n",
       "      <th>ltq</th>\n",
       "      <th>revtq</th>\n",
       "      <th>roa</th>\n",
       "      <th>...</th>\n",
       "      <th>curr_ratio_change</th>\n",
       "      <th>ptb_change</th>\n",
       "      <th>relative_quarterly_return</th>\n",
       "      <th>next_relative_quarterly_return</th>\n",
       "      <th>spindx</th>\n",
       "      <th>spindx_change</th>\n",
       "      <th>next_spindx_change</th>\n",
       "      <th>prccq</th>\n",
       "      <th>prccq_change</th>\n",
       "      <th>next_prccq_change</th>\n",
       "    </tr>\n",
       "  </thead>\n",
       "  <tbody>\n",
       "    <tr>\n",
       "      <th>1253</th>\n",
       "      <td>1161</td>\n",
       "      <td>2013-03-31</td>\n",
       "      <td>AMD</td>\n",
       "      <td>0.032230</td>\n",
       "      <td>-0.159078</td>\n",
       "      <td>-0.698413</td>\n",
       "      <td>-0.054402</td>\n",
       "      <td>-0.023108</td>\n",
       "      <td>-0.058009</td>\n",
       "      <td>0.023</td>\n",
       "      <td>...</td>\n",
       "      <td>-0.008020</td>\n",
       "      <td>1.083812</td>\n",
       "      <td>-0.032845</td>\n",
       "      <td>0.566207</td>\n",
       "      <td>1562.17</td>\n",
       "      <td>0.095345</td>\n",
       "      <td>0.033793</td>\n",
       "      <td>2.550</td>\n",
       "      <td>0.062500</td>\n",
       "      <td>0.600000</td>\n",
       "    </tr>\n",
       "    <tr>\n",
       "      <th>10115</th>\n",
       "      <td>7343</td>\n",
       "      <td>2013-03-31</td>\n",
       "      <td>MU</td>\n",
       "      <td>0.009219</td>\n",
       "      <td>-0.023309</td>\n",
       "      <td>0.037037</td>\n",
       "      <td>-0.009822</td>\n",
       "      <td>0.012073</td>\n",
       "      <td>0.133043</td>\n",
       "      <td>0.107</td>\n",
       "      <td>...</td>\n",
       "      <td>-0.014717</td>\n",
       "      <td>0.297872</td>\n",
       "      <td>0.334470</td>\n",
       "      <td>0.318003</td>\n",
       "      <td>1514.68</td>\n",
       "      <td>0.069553</td>\n",
       "      <td>0.076623</td>\n",
       "      <td>8.375</td>\n",
       "      <td>0.404023</td>\n",
       "      <td>0.394627</td>\n",
       "    </tr>\n",
       "    <tr>\n",
       "      <th>11978</th>\n",
       "      <td>23812</td>\n",
       "      <td>2013-03-31</td>\n",
       "      <td>REGN</td>\n",
       "      <td>0.083838</td>\n",
       "      <td>0.107948</td>\n",
       "      <td>-0.779412</td>\n",
       "      <td>0.206017</td>\n",
       "      <td>0.041366</td>\n",
       "      <td>0.060448</td>\n",
       "      <td>0.383</td>\n",
       "      <td>...</td>\n",
       "      <td>-0.205994</td>\n",
       "      <td>0.289679</td>\n",
       "      <td>-0.064171</td>\n",
       "      <td>0.241016</td>\n",
       "      <td>1562.17</td>\n",
       "      <td>0.095345</td>\n",
       "      <td>0.033793</td>\n",
       "      <td>176.403</td>\n",
       "      <td>0.031174</td>\n",
       "      <td>0.274808</td>\n",
       "    </tr>\n",
       "    <tr>\n",
       "      <th>3228</th>\n",
       "      <td>149070</td>\n",
       "      <td>2013-03-31</td>\n",
       "      <td>CME</td>\n",
       "      <td>0.410638</td>\n",
       "      <td>-0.000707</td>\n",
       "      <td>0.420000</td>\n",
       "      <td>0.547441</td>\n",
       "      <td>0.197396</td>\n",
       "      <td>0.087305</td>\n",
       "      <td>0.049</td>\n",
       "      <td>...</td>\n",
       "      <td>-0.004367</td>\n",
       "      <td>0.134783</td>\n",
       "      <td>0.116615</td>\n",
       "      <td>0.202977</td>\n",
       "      <td>1562.17</td>\n",
       "      <td>0.095345</td>\n",
       "      <td>0.033793</td>\n",
       "      <td>61.410</td>\n",
       "      <td>0.211960</td>\n",
       "      <td>0.236769</td>\n",
       "    </tr>\n",
       "    <tr>\n",
       "      <th>14621</th>\n",
       "      <td>11399</td>\n",
       "      <td>2013-03-31</td>\n",
       "      <td>WDC</td>\n",
       "      <td>0.022997</td>\n",
       "      <td>-0.024726</td>\n",
       "      <td>0.176471</td>\n",
       "      <td>-0.030066</td>\n",
       "      <td>-0.031327</td>\n",
       "      <td>-0.015690</td>\n",
       "      <td>0.266</td>\n",
       "      <td>...</td>\n",
       "      <td>0.087776</td>\n",
       "      <td>0.291424</td>\n",
       "      <td>0.088228</td>\n",
       "      <td>0.200846</td>\n",
       "      <td>1562.17</td>\n",
       "      <td>0.095345</td>\n",
       "      <td>0.033793</td>\n",
       "      <td>50.290</td>\n",
       "      <td>0.183573</td>\n",
       "      <td>0.234639</td>\n",
       "    </tr>\n",
       "    <tr>\n",
       "      <th>9959</th>\n",
       "      <td>12141</td>\n",
       "      <td>2013-03-31</td>\n",
       "      <td>MSFT</td>\n",
       "      <td>0.044098</td>\n",
       "      <td>0.037638</td>\n",
       "      <td>-0.052632</td>\n",
       "      <td>0.000595</td>\n",
       "      <td>0.023348</td>\n",
       "      <td>-0.045069</td>\n",
       "      <td>0.256</td>\n",
       "      <td>...</td>\n",
       "      <td>0.002184</td>\n",
       "      <td>0.186091</td>\n",
       "      <td>-0.024386</td>\n",
       "      <td>0.173863</td>\n",
       "      <td>1562.17</td>\n",
       "      <td>0.095345</td>\n",
       "      <td>0.033793</td>\n",
       "      <td>28.605</td>\n",
       "      <td>0.070959</td>\n",
       "      <td>0.207656</td>\n",
       "    </tr>\n",
       "    <tr>\n",
       "      <th>13004</th>\n",
       "      <td>2710</td>\n",
       "      <td>2013-03-31</td>\n",
       "      <td>STZ</td>\n",
       "      <td>-0.003789</td>\n",
       "      <td>-0.115575</td>\n",
       "      <td>-0.258621</td>\n",
       "      <td>-0.139502</td>\n",
       "      <td>-0.138732</td>\n",
       "      <td>-0.092581</td>\n",
       "      <td>0.091</td>\n",
       "      <td>...</td>\n",
       "      <td>0.359567</td>\n",
       "      <td>0.514735</td>\n",
       "      <td>0.163446</td>\n",
       "      <td>0.121613</td>\n",
       "      <td>1514.68</td>\n",
       "      <td>0.069553</td>\n",
       "      <td>0.076623</td>\n",
       "      <td>44.240</td>\n",
       "      <td>0.232999</td>\n",
       "      <td>0.198237</td>\n",
       "    </tr>\n",
       "    <tr>\n",
       "      <th>2121</th>\n",
       "      <td>2285</td>\n",
       "      <td>2013-03-31</td>\n",
       "      <td>BA</td>\n",
       "      <td>0.038057</td>\n",
       "      <td>-0.019945</td>\n",
       "      <td>0.125000</td>\n",
       "      <td>0.015206</td>\n",
       "      <td>-0.000506</td>\n",
       "      <td>-0.152856</td>\n",
       "      <td>0.094</td>\n",
       "      <td>...</td>\n",
       "      <td>-0.008634</td>\n",
       "      <td>0.015841</td>\n",
       "      <td>0.043854</td>\n",
       "      <td>0.159451</td>\n",
       "      <td>1562.17</td>\n",
       "      <td>0.095345</td>\n",
       "      <td>0.033793</td>\n",
       "      <td>85.850</td>\n",
       "      <td>0.139199</td>\n",
       "      <td>0.193244</td>\n",
       "    </tr>\n",
       "    <tr>\n",
       "      <th>10580</th>\n",
       "      <td>7985</td>\n",
       "      <td>2013-03-31</td>\n",
       "      <td>NOC</td>\n",
       "      <td>-0.065062</td>\n",
       "      <td>-0.004573</td>\n",
       "      <td>-0.051402</td>\n",
       "      <td>-0.082728</td>\n",
       "      <td>-0.034294</td>\n",
       "      <td>-0.057443</td>\n",
       "      <td>0.139</td>\n",
       "      <td>...</td>\n",
       "      <td>0.002886</td>\n",
       "      <td>0.249847</td>\n",
       "      <td>-0.057316</td>\n",
       "      <td>0.146535</td>\n",
       "      <td>1562.17</td>\n",
       "      <td>0.095345</td>\n",
       "      <td>0.033793</td>\n",
       "      <td>70.150</td>\n",
       "      <td>0.038029</td>\n",
       "      <td>0.180328</td>\n",
       "    </tr>\n",
       "    <tr>\n",
       "      <th>13375</th>\n",
       "      <td>3813</td>\n",
       "      <td>2013-03-31</td>\n",
       "      <td>TGT</td>\n",
       "      <td>-0.113923</td>\n",
       "      <td>0.022230</td>\n",
       "      <td>0.531250</td>\n",
       "      <td>-0.106818</td>\n",
       "      <td>-0.048816</td>\n",
       "      <td>0.342430</td>\n",
       "      <td>0.155</td>\n",
       "      <td>...</td>\n",
       "      <td>-0.026667</td>\n",
       "      <td>0.125000</td>\n",
       "      <td>-0.113256</td>\n",
       "      <td>0.101628</td>\n",
       "      <td>1498.11</td>\n",
       "      <td>0.060864</td>\n",
       "      <td>0.066390</td>\n",
       "      <td>60.410</td>\n",
       "      <td>-0.052392</td>\n",
       "      <td>0.168019</td>\n",
       "    </tr>\n",
       "  </tbody>\n",
       "</table>\n",
       "<p>10 rows × 43 columns</p>\n",
       "</div>"
      ],
      "text/plain": [
       "        gvkey   datadate   tic      actq      ancq    epsfxq      lctq  \\\n",
       "1253     1161 2013-03-31   AMD  0.032230 -0.159078 -0.698413 -0.054402   \n",
       "10115    7343 2013-03-31    MU  0.009219 -0.023309  0.037037 -0.009822   \n",
       "11978   23812 2013-03-31  REGN  0.083838  0.107948 -0.779412  0.206017   \n",
       "3228   149070 2013-03-31   CME  0.410638 -0.000707  0.420000  0.547441   \n",
       "14621   11399 2013-03-31   WDC  0.022997 -0.024726  0.176471 -0.030066   \n",
       "9959    12141 2013-03-31  MSFT  0.044098  0.037638 -0.052632  0.000595   \n",
       "13004    2710 2013-03-31   STZ -0.003789 -0.115575 -0.258621 -0.139502   \n",
       "2121     2285 2013-03-31    BA  0.038057 -0.019945  0.125000  0.015206   \n",
       "10580    7985 2013-03-31   NOC -0.065062 -0.004573 -0.051402 -0.082728   \n",
       "13375    3813 2013-03-31   TGT -0.113923  0.022230  0.531250 -0.106818   \n",
       "\n",
       "            ltq     revtq    roa  ...  curr_ratio_change  ptb_change  \\\n",
       "1253  -0.023108 -0.058009  0.023  ...          -0.008020    1.083812   \n",
       "10115  0.012073  0.133043  0.107  ...          -0.014717    0.297872   \n",
       "11978  0.041366  0.060448  0.383  ...          -0.205994    0.289679   \n",
       "3228   0.197396  0.087305  0.049  ...          -0.004367    0.134783   \n",
       "14621 -0.031327 -0.015690  0.266  ...           0.087776    0.291424   \n",
       "9959   0.023348 -0.045069  0.256  ...           0.002184    0.186091   \n",
       "13004 -0.138732 -0.092581  0.091  ...           0.359567    0.514735   \n",
       "2121  -0.000506 -0.152856  0.094  ...          -0.008634    0.015841   \n",
       "10580 -0.034294 -0.057443  0.139  ...           0.002886    0.249847   \n",
       "13375 -0.048816  0.342430  0.155  ...          -0.026667    0.125000   \n",
       "\n",
       "       relative_quarterly_return  next_relative_quarterly_return   spindx  \\\n",
       "1253                   -0.032845                        0.566207  1562.17   \n",
       "10115                   0.334470                        0.318003  1514.68   \n",
       "11978                  -0.064171                        0.241016  1562.17   \n",
       "3228                    0.116615                        0.202977  1562.17   \n",
       "14621                   0.088228                        0.200846  1562.17   \n",
       "9959                   -0.024386                        0.173863  1562.17   \n",
       "13004                   0.163446                        0.121613  1514.68   \n",
       "2121                    0.043854                        0.159451  1562.17   \n",
       "10580                  -0.057316                        0.146535  1562.17   \n",
       "13375                  -0.113256                        0.101628  1498.11   \n",
       "\n",
       "       spindx_change  next_spindx_change    prccq  prccq_change  \\\n",
       "1253        0.095345            0.033793    2.550      0.062500   \n",
       "10115       0.069553            0.076623    8.375      0.404023   \n",
       "11978       0.095345            0.033793  176.403      0.031174   \n",
       "3228        0.095345            0.033793   61.410      0.211960   \n",
       "14621       0.095345            0.033793   50.290      0.183573   \n",
       "9959        0.095345            0.033793   28.605      0.070959   \n",
       "13004       0.069553            0.076623   44.240      0.232999   \n",
       "2121        0.095345            0.033793   85.850      0.139199   \n",
       "10580       0.095345            0.033793   70.150      0.038029   \n",
       "13375       0.060864            0.066390   60.410     -0.052392   \n",
       "\n",
       "       next_prccq_change  \n",
       "1253            0.600000  \n",
       "10115           0.394627  \n",
       "11978           0.274808  \n",
       "3228            0.236769  \n",
       "14621           0.234639  \n",
       "9959            0.207656  \n",
       "13004           0.198237  \n",
       "2121            0.193244  \n",
       "10580           0.180328  \n",
       "13375           0.168019  \n",
       "\n",
       "[10 rows x 43 columns]"
      ]
     },
     "execution_count": 538,
     "metadata": {},
     "output_type": "execute_result"
    }
   ],
   "source": [
    "train_start_date = '1970-03-31'\n",
    "valid_start_date = '2010-03-31'\n",
    "test_start_date = '2013-03-31'\n",
    "end_date = '2023-09-30'\n",
    "\n",
    "df = df.sort_values(by=['datadate'])\n",
    "\n",
    "train_df = df[(df['datadate'] >= train_start_date) & (df['datadate'] < valid_start_date)]\n",
    "valid_df = df[(df['datadate'] >= valid_start_date) & (df['datadate'] < test_start_date)]\n",
    "test_df = df[(df['datadate'] >= test_start_date) & (df['datadate'] < end_date)]\n",
    "\n",
    "test_df = test_df.sort_values(by=['datadate', 'next_prccq_change'], ascending=[True, False])\n",
    "test_df.head(10)\n"
   ]
  },
  {
   "cell_type": "code",
   "execution_count": 539,
   "metadata": {},
   "outputs": [
    {
     "data": {
      "text/html": [
       "<div>\n",
       "<style scoped>\n",
       "    .dataframe tbody tr th:only-of-type {\n",
       "        vertical-align: middle;\n",
       "    }\n",
       "\n",
       "    .dataframe tbody tr th {\n",
       "        vertical-align: top;\n",
       "    }\n",
       "\n",
       "    .dataframe thead th {\n",
       "        text-align: right;\n",
       "    }\n",
       "</style>\n",
       "<table border=\"1\" class=\"dataframe\">\n",
       "  <thead>\n",
       "    <tr style=\"text-align: right;\">\n",
       "      <th></th>\n",
       "      <th>actq</th>\n",
       "      <th>ancq</th>\n",
       "      <th>epsfxq</th>\n",
       "      <th>lctq</th>\n",
       "      <th>ltq</th>\n",
       "      <th>revtq</th>\n",
       "      <th>roa</th>\n",
       "      <th>roe</th>\n",
       "      <th>pe_inc</th>\n",
       "      <th>pcf</th>\n",
       "      <th>...</th>\n",
       "      <th>gpm_change</th>\n",
       "      <th>evm_change</th>\n",
       "      <th>cfm_change</th>\n",
       "      <th>npm_change</th>\n",
       "      <th>PEG_trailing_change</th>\n",
       "      <th>de_ratio_change</th>\n",
       "      <th>curr_ratio_change</th>\n",
       "      <th>ptb_change</th>\n",
       "      <th>relative_quarterly_return</th>\n",
       "      <th>next_relative_quarterly_return</th>\n",
       "    </tr>\n",
       "  </thead>\n",
       "  <tbody>\n",
       "    <tr>\n",
       "      <th>172</th>\n",
       "      <td>0.0</td>\n",
       "      <td>0.0</td>\n",
       "      <td>-0.115385</td>\n",
       "      <td>0.0</td>\n",
       "      <td>0.0</td>\n",
       "      <td>-0.016251</td>\n",
       "      <td>0.224</td>\n",
       "      <td>0.556</td>\n",
       "      <td>25.408</td>\n",
       "      <td>34.228</td>\n",
       "      <td>...</td>\n",
       "      <td>0.0</td>\n",
       "      <td>0.000000</td>\n",
       "      <td>0.000000</td>\n",
       "      <td>0.000000</td>\n",
       "      <td>-0.295597</td>\n",
       "      <td>0.0</td>\n",
       "      <td>0.0</td>\n",
       "      <td>-0.177037</td>\n",
       "      <td>-0.016088</td>\n",
       "      <td>0.028255</td>\n",
       "    </tr>\n",
       "    <tr>\n",
       "      <th>15082</th>\n",
       "      <td>0.0</td>\n",
       "      <td>0.0</td>\n",
       "      <td>-0.013423</td>\n",
       "      <td>0.0</td>\n",
       "      <td>0.0</td>\n",
       "      <td>0.036061</td>\n",
       "      <td>0.170</td>\n",
       "      <td>0.032</td>\n",
       "      <td>11.749</td>\n",
       "      <td>6.020</td>\n",
       "      <td>...</td>\n",
       "      <td>0.0</td>\n",
       "      <td>-0.028041</td>\n",
       "      <td>-0.106383</td>\n",
       "      <td>-0.108434</td>\n",
       "      <td>0.237403</td>\n",
       "      <td>0.0</td>\n",
       "      <td>0.0</td>\n",
       "      <td>0.050788</td>\n",
       "      <td>-0.046479</td>\n",
       "      <td>0.144996</td>\n",
       "    </tr>\n",
       "    <tr>\n",
       "      <th>5213</th>\n",
       "      <td>0.0</td>\n",
       "      <td>0.0</td>\n",
       "      <td>-0.135338</td>\n",
       "      <td>0.0</td>\n",
       "      <td>0.0</td>\n",
       "      <td>-0.172254</td>\n",
       "      <td>0.211</td>\n",
       "      <td>0.034</td>\n",
       "      <td>9.079</td>\n",
       "      <td>3.284</td>\n",
       "      <td>...</td>\n",
       "      <td>0.0</td>\n",
       "      <td>0.354212</td>\n",
       "      <td>-0.326087</td>\n",
       "      <td>-0.054054</td>\n",
       "      <td>0.148148</td>\n",
       "      <td>0.0</td>\n",
       "      <td>0.0</td>\n",
       "      <td>-0.005464</td>\n",
       "      <td>0.138857</td>\n",
       "      <td>0.147681</td>\n",
       "    </tr>\n",
       "    <tr>\n",
       "      <th>1734</th>\n",
       "      <td>0.0</td>\n",
       "      <td>0.0</td>\n",
       "      <td>0.181818</td>\n",
       "      <td>0.0</td>\n",
       "      <td>0.0</td>\n",
       "      <td>0.089057</td>\n",
       "      <td>0.146</td>\n",
       "      <td>0.097</td>\n",
       "      <td>15.323</td>\n",
       "      <td>14.417</td>\n",
       "      <td>...</td>\n",
       "      <td>0.0</td>\n",
       "      <td>0.000000</td>\n",
       "      <td>0.000000</td>\n",
       "      <td>-0.016949</td>\n",
       "      <td>-0.363201</td>\n",
       "      <td>0.0</td>\n",
       "      <td>0.0</td>\n",
       "      <td>-0.095171</td>\n",
       "      <td>0.130826</td>\n",
       "      <td>0.071186</td>\n",
       "    </tr>\n",
       "    <tr>\n",
       "      <th>4912</th>\n",
       "      <td>0.0</td>\n",
       "      <td>0.0</td>\n",
       "      <td>0.304444</td>\n",
       "      <td>0.0</td>\n",
       "      <td>0.0</td>\n",
       "      <td>0.135055</td>\n",
       "      <td>0.112</td>\n",
       "      <td>0.110</td>\n",
       "      <td>11.028</td>\n",
       "      <td>5.864</td>\n",
       "      <td>...</td>\n",
       "      <td>0.0</td>\n",
       "      <td>0.000000</td>\n",
       "      <td>-0.011628</td>\n",
       "      <td>-0.013699</td>\n",
       "      <td>0.000000</td>\n",
       "      <td>0.0</td>\n",
       "      <td>0.0</td>\n",
       "      <td>-0.114448</td>\n",
       "      <td>0.036812</td>\n",
       "      <td>-0.002057</td>\n",
       "    </tr>\n",
       "  </tbody>\n",
       "</table>\n",
       "<p>5 rows × 34 columns</p>\n",
       "</div>"
      ],
      "text/plain": [
       "       actq  ancq    epsfxq  lctq  ltq     revtq    roa    roe  pe_inc  \\\n",
       "172     0.0   0.0 -0.115385   0.0  0.0 -0.016251  0.224  0.556  25.408   \n",
       "15082   0.0   0.0 -0.013423   0.0  0.0  0.036061  0.170  0.032  11.749   \n",
       "5213    0.0   0.0 -0.135338   0.0  0.0 -0.172254  0.211  0.034   9.079   \n",
       "1734    0.0   0.0  0.181818   0.0  0.0  0.089057  0.146  0.097  15.323   \n",
       "4912    0.0   0.0  0.304444   0.0  0.0  0.135055  0.112  0.110  11.028   \n",
       "\n",
       "          pcf  ...  gpm_change  evm_change  cfm_change  npm_change  \\\n",
       "172    34.228  ...         0.0    0.000000    0.000000    0.000000   \n",
       "15082   6.020  ...         0.0   -0.028041   -0.106383   -0.108434   \n",
       "5213    3.284  ...         0.0    0.354212   -0.326087   -0.054054   \n",
       "1734   14.417  ...         0.0    0.000000    0.000000   -0.016949   \n",
       "4912    5.864  ...         0.0    0.000000   -0.011628   -0.013699   \n",
       "\n",
       "       PEG_trailing_change  de_ratio_change  curr_ratio_change  ptb_change  \\\n",
       "172              -0.295597              0.0                0.0   -0.177037   \n",
       "15082             0.237403              0.0                0.0    0.050788   \n",
       "5213              0.148148              0.0                0.0   -0.005464   \n",
       "1734             -0.363201              0.0                0.0   -0.095171   \n",
       "4912              0.000000              0.0                0.0   -0.114448   \n",
       "\n",
       "       relative_quarterly_return  next_relative_quarterly_return  \n",
       "172                    -0.016088                        0.028255  \n",
       "15082                  -0.046479                        0.144996  \n",
       "5213                    0.138857                        0.147681  \n",
       "1734                    0.130826                        0.071186  \n",
       "4912                    0.036812                       -0.002057  \n",
       "\n",
       "[5 rows x 34 columns]"
      ]
     },
     "execution_count": 539,
     "metadata": {},
     "output_type": "execute_result"
    }
   ],
   "source": [
    "results = test_df[['datadate', 'tic', 'next_prccq_change', 'next_relative_quarterly_return']].copy()\n",
    "\n",
    "drop_cols = ['gvkey', 'datadate', 'tic', 'spindx', 'spindx_change', 'next_spindx_change', 'prccq', 'prccq_change', 'next_prccq_change']\n",
    "\n",
    "train_df = train_df.drop(drop_cols, 1)\n",
    "valid_df = valid_df.drop(drop_cols, 1)\n",
    "test_df  = test_df.drop(drop_cols, 1)\n",
    "\n",
    "train_df.head()"
   ]
  },
  {
   "cell_type": "code",
   "execution_count": 540,
   "metadata": {},
   "outputs": [
    {
     "data": {
      "text/html": [
       "<div>\n",
       "<style scoped>\n",
       "    .dataframe tbody tr th:only-of-type {\n",
       "        vertical-align: middle;\n",
       "    }\n",
       "\n",
       "    .dataframe tbody tr th {\n",
       "        vertical-align: top;\n",
       "    }\n",
       "\n",
       "    .dataframe thead th {\n",
       "        text-align: right;\n",
       "    }\n",
       "</style>\n",
       "<table border=\"1\" class=\"dataframe\">\n",
       "  <thead>\n",
       "    <tr style=\"text-align: right;\">\n",
       "      <th></th>\n",
       "      <th>actq</th>\n",
       "      <th>ancq</th>\n",
       "      <th>epsfxq</th>\n",
       "      <th>lctq</th>\n",
       "      <th>ltq</th>\n",
       "      <th>revtq</th>\n",
       "      <th>roa</th>\n",
       "      <th>roe</th>\n",
       "      <th>pe_inc</th>\n",
       "      <th>pcf</th>\n",
       "      <th>...</th>\n",
       "      <th>debt_ebitda_change</th>\n",
       "      <th>gpm_change</th>\n",
       "      <th>evm_change</th>\n",
       "      <th>cfm_change</th>\n",
       "      <th>npm_change</th>\n",
       "      <th>PEG_trailing_change</th>\n",
       "      <th>de_ratio_change</th>\n",
       "      <th>curr_ratio_change</th>\n",
       "      <th>ptb_change</th>\n",
       "      <th>relative_quarterly_return</th>\n",
       "    </tr>\n",
       "  </thead>\n",
       "  <tbody>\n",
       "    <tr>\n",
       "      <th>172</th>\n",
       "      <td>0.0</td>\n",
       "      <td>0.0</td>\n",
       "      <td>-0.115385</td>\n",
       "      <td>0.0</td>\n",
       "      <td>0.0</td>\n",
       "      <td>-0.016251</td>\n",
       "      <td>0.224</td>\n",
       "      <td>0.556</td>\n",
       "      <td>25.408</td>\n",
       "      <td>34.228</td>\n",
       "      <td>...</td>\n",
       "      <td>0.000000</td>\n",
       "      <td>0.0</td>\n",
       "      <td>0.000000</td>\n",
       "      <td>0.000000</td>\n",
       "      <td>0.000000</td>\n",
       "      <td>-0.295597</td>\n",
       "      <td>0.0</td>\n",
       "      <td>0.0</td>\n",
       "      <td>-0.177037</td>\n",
       "      <td>-0.016088</td>\n",
       "    </tr>\n",
       "    <tr>\n",
       "      <th>15082</th>\n",
       "      <td>0.0</td>\n",
       "      <td>0.0</td>\n",
       "      <td>-0.013423</td>\n",
       "      <td>0.0</td>\n",
       "      <td>0.0</td>\n",
       "      <td>0.036061</td>\n",
       "      <td>0.170</td>\n",
       "      <td>0.032</td>\n",
       "      <td>11.749</td>\n",
       "      <td>6.020</td>\n",
       "      <td>...</td>\n",
       "      <td>-0.000895</td>\n",
       "      <td>0.0</td>\n",
       "      <td>-0.028041</td>\n",
       "      <td>-0.106383</td>\n",
       "      <td>-0.108434</td>\n",
       "      <td>0.237403</td>\n",
       "      <td>0.0</td>\n",
       "      <td>0.0</td>\n",
       "      <td>0.050788</td>\n",
       "      <td>-0.046479</td>\n",
       "    </tr>\n",
       "    <tr>\n",
       "      <th>5213</th>\n",
       "      <td>0.0</td>\n",
       "      <td>0.0</td>\n",
       "      <td>-0.135338</td>\n",
       "      <td>0.0</td>\n",
       "      <td>0.0</td>\n",
       "      <td>-0.172254</td>\n",
       "      <td>0.211</td>\n",
       "      <td>0.034</td>\n",
       "      <td>9.079</td>\n",
       "      <td>3.284</td>\n",
       "      <td>...</td>\n",
       "      <td>0.371212</td>\n",
       "      <td>0.0</td>\n",
       "      <td>0.354212</td>\n",
       "      <td>-0.326087</td>\n",
       "      <td>-0.054054</td>\n",
       "      <td>0.148148</td>\n",
       "      <td>0.0</td>\n",
       "      <td>0.0</td>\n",
       "      <td>-0.005464</td>\n",
       "      <td>0.138857</td>\n",
       "    </tr>\n",
       "    <tr>\n",
       "      <th>1734</th>\n",
       "      <td>0.0</td>\n",
       "      <td>0.0</td>\n",
       "      <td>0.181818</td>\n",
       "      <td>0.0</td>\n",
       "      <td>0.0</td>\n",
       "      <td>0.089057</td>\n",
       "      <td>0.146</td>\n",
       "      <td>0.097</td>\n",
       "      <td>15.323</td>\n",
       "      <td>14.417</td>\n",
       "      <td>...</td>\n",
       "      <td>0.000000</td>\n",
       "      <td>0.0</td>\n",
       "      <td>0.000000</td>\n",
       "      <td>0.000000</td>\n",
       "      <td>-0.016949</td>\n",
       "      <td>-0.363201</td>\n",
       "      <td>0.0</td>\n",
       "      <td>0.0</td>\n",
       "      <td>-0.095171</td>\n",
       "      <td>0.130826</td>\n",
       "    </tr>\n",
       "    <tr>\n",
       "      <th>4912</th>\n",
       "      <td>0.0</td>\n",
       "      <td>0.0</td>\n",
       "      <td>0.304444</td>\n",
       "      <td>0.0</td>\n",
       "      <td>0.0</td>\n",
       "      <td>0.135055</td>\n",
       "      <td>0.112</td>\n",
       "      <td>0.110</td>\n",
       "      <td>11.028</td>\n",
       "      <td>5.864</td>\n",
       "      <td>...</td>\n",
       "      <td>0.000000</td>\n",
       "      <td>0.0</td>\n",
       "      <td>0.000000</td>\n",
       "      <td>-0.011628</td>\n",
       "      <td>-0.013699</td>\n",
       "      <td>0.000000</td>\n",
       "      <td>0.0</td>\n",
       "      <td>0.0</td>\n",
       "      <td>-0.114448</td>\n",
       "      <td>0.036812</td>\n",
       "    </tr>\n",
       "  </tbody>\n",
       "</table>\n",
       "<p>5 rows × 33 columns</p>\n",
       "</div>"
      ],
      "text/plain": [
       "       actq  ancq    epsfxq  lctq  ltq     revtq    roa    roe  pe_inc  \\\n",
       "172     0.0   0.0 -0.115385   0.0  0.0 -0.016251  0.224  0.556  25.408   \n",
       "15082   0.0   0.0 -0.013423   0.0  0.0  0.036061  0.170  0.032  11.749   \n",
       "5213    0.0   0.0 -0.135338   0.0  0.0 -0.172254  0.211  0.034   9.079   \n",
       "1734    0.0   0.0  0.181818   0.0  0.0  0.089057  0.146  0.097  15.323   \n",
       "4912    0.0   0.0  0.304444   0.0  0.0  0.135055  0.112  0.110  11.028   \n",
       "\n",
       "          pcf  ...  debt_ebitda_change  gpm_change  evm_change  cfm_change  \\\n",
       "172    34.228  ...            0.000000         0.0    0.000000    0.000000   \n",
       "15082   6.020  ...           -0.000895         0.0   -0.028041   -0.106383   \n",
       "5213    3.284  ...            0.371212         0.0    0.354212   -0.326087   \n",
       "1734   14.417  ...            0.000000         0.0    0.000000    0.000000   \n",
       "4912    5.864  ...            0.000000         0.0    0.000000   -0.011628   \n",
       "\n",
       "       npm_change  PEG_trailing_change  de_ratio_change  curr_ratio_change  \\\n",
       "172      0.000000            -0.295597              0.0                0.0   \n",
       "15082   -0.108434             0.237403              0.0                0.0   \n",
       "5213    -0.054054             0.148148              0.0                0.0   \n",
       "1734    -0.016949            -0.363201              0.0                0.0   \n",
       "4912    -0.013699             0.000000              0.0                0.0   \n",
       "\n",
       "       ptb_change  relative_quarterly_return  \n",
       "172     -0.177037                  -0.016088  \n",
       "15082    0.050788                  -0.046479  \n",
       "5213    -0.005464                   0.138857  \n",
       "1734    -0.095171                   0.130826  \n",
       "4912    -0.114448                   0.036812  \n",
       "\n",
       "[5 rows x 33 columns]"
      ]
     },
     "execution_count": 540,
     "metadata": {},
     "output_type": "execute_result"
    }
   ],
   "source": [
    "y_train = train_df['next_relative_quarterly_return'].copy()\n",
    "X_train = train_df.drop(['next_relative_quarterly_return',], 1)\n",
    "\n",
    "y_valid = valid_df['next_relative_quarterly_return'].copy()\n",
    "X_valid = valid_df.drop(['next_relative_quarterly_return',], 1)\n",
    "\n",
    "y_test  = test_df['next_relative_quarterly_return'].copy()\n",
    "X_test  = test_df.drop(['next_relative_quarterly_return',], 1)\n",
    "\n",
    "X_train.head()"
   ]
  },
  {
   "cell_type": "code",
   "execution_count": 541,
   "metadata": {},
   "outputs": [
    {
     "data": {
      "text/html": [
       "<div>\n",
       "<style scoped>\n",
       "    .dataframe tbody tr th:only-of-type {\n",
       "        vertical-align: middle;\n",
       "    }\n",
       "\n",
       "    .dataframe tbody tr th {\n",
       "        vertical-align: top;\n",
       "    }\n",
       "\n",
       "    .dataframe thead th {\n",
       "        text-align: right;\n",
       "    }\n",
       "</style>\n",
       "<table border=\"1\" class=\"dataframe\">\n",
       "  <thead>\n",
       "    <tr style=\"text-align: right;\">\n",
       "      <th></th>\n",
       "      <th>actq</th>\n",
       "      <th>ancq</th>\n",
       "      <th>epsfxq</th>\n",
       "      <th>lctq</th>\n",
       "      <th>ltq</th>\n",
       "      <th>revtq</th>\n",
       "      <th>roa</th>\n",
       "      <th>roe</th>\n",
       "      <th>pe_inc</th>\n",
       "      <th>pcf</th>\n",
       "      <th>...</th>\n",
       "      <th>debt_ebitda_change</th>\n",
       "      <th>gpm_change</th>\n",
       "      <th>evm_change</th>\n",
       "      <th>cfm_change</th>\n",
       "      <th>npm_change</th>\n",
       "      <th>PEG_trailing_change</th>\n",
       "      <th>de_ratio_change</th>\n",
       "      <th>curr_ratio_change</th>\n",
       "      <th>ptb_change</th>\n",
       "      <th>relative_quarterly_return</th>\n",
       "    </tr>\n",
       "  </thead>\n",
       "  <tbody>\n",
       "    <tr>\n",
       "      <th>0</th>\n",
       "      <td>0.15915</td>\n",
       "      <td>0.15647</td>\n",
       "      <td>0.600363</td>\n",
       "      <td>0.14011</td>\n",
       "      <td>0.103656</td>\n",
       "      <td>0.085120</td>\n",
       "      <td>0.812405</td>\n",
       "      <td>0.307713</td>\n",
       "      <td>0.563323</td>\n",
       "      <td>0.503678</td>\n",
       "      <td>...</td>\n",
       "      <td>0.305676</td>\n",
       "      <td>0.28277</td>\n",
       "      <td>0.505650</td>\n",
       "      <td>0.543478</td>\n",
       "      <td>0.892899</td>\n",
       "      <td>0.114620</td>\n",
       "      <td>0.075733</td>\n",
       "      <td>0.263092</td>\n",
       "      <td>0.022231</td>\n",
       "      <td>0.117021</td>\n",
       "    </tr>\n",
       "    <tr>\n",
       "      <th>1</th>\n",
       "      <td>0.15915</td>\n",
       "      <td>0.15647</td>\n",
       "      <td>0.600801</td>\n",
       "      <td>0.14011</td>\n",
       "      <td>0.103656</td>\n",
       "      <td>0.089930</td>\n",
       "      <td>0.796067</td>\n",
       "      <td>0.301351</td>\n",
       "      <td>0.555988</td>\n",
       "      <td>0.461638</td>\n",
       "      <td>...</td>\n",
       "      <td>0.305671</td>\n",
       "      <td>0.28277</td>\n",
       "      <td>0.505401</td>\n",
       "      <td>0.541744</td>\n",
       "      <td>0.892514</td>\n",
       "      <td>0.114802</td>\n",
       "      <td>0.075733</td>\n",
       "      <td>0.263092</td>\n",
       "      <td>0.029147</td>\n",
       "      <td>0.112010</td>\n",
       "    </tr>\n",
       "    <tr>\n",
       "      <th>2</th>\n",
       "      <td>0.15915</td>\n",
       "      <td>0.15647</td>\n",
       "      <td>0.600278</td>\n",
       "      <td>0.14011</td>\n",
       "      <td>0.103656</td>\n",
       "      <td>0.070774</td>\n",
       "      <td>0.808472</td>\n",
       "      <td>0.301376</td>\n",
       "      <td>0.554554</td>\n",
       "      <td>0.457561</td>\n",
       "      <td>...</td>\n",
       "      <td>0.307639</td>\n",
       "      <td>0.28277</td>\n",
       "      <td>0.508806</td>\n",
       "      <td>0.538162</td>\n",
       "      <td>0.892708</td>\n",
       "      <td>0.114771</td>\n",
       "      <td>0.075733</td>\n",
       "      <td>0.263092</td>\n",
       "      <td>0.027439</td>\n",
       "      <td>0.142569</td>\n",
       "    </tr>\n",
       "    <tr>\n",
       "      <th>3</th>\n",
       "      <td>0.15915</td>\n",
       "      <td>0.15647</td>\n",
       "      <td>0.601639</td>\n",
       "      <td>0.14011</td>\n",
       "      <td>0.103656</td>\n",
       "      <td>0.094803</td>\n",
       "      <td>0.788805</td>\n",
       "      <td>0.302140</td>\n",
       "      <td>0.557907</td>\n",
       "      <td>0.474153</td>\n",
       "      <td>...</td>\n",
       "      <td>0.305676</td>\n",
       "      <td>0.28277</td>\n",
       "      <td>0.505650</td>\n",
       "      <td>0.543478</td>\n",
       "      <td>0.892839</td>\n",
       "      <td>0.114597</td>\n",
       "      <td>0.075733</td>\n",
       "      <td>0.263092</td>\n",
       "      <td>0.024716</td>\n",
       "      <td>0.141245</td>\n",
       "    </tr>\n",
       "    <tr>\n",
       "      <th>4</th>\n",
       "      <td>0.15915</td>\n",
       "      <td>0.15647</td>\n",
       "      <td>0.602165</td>\n",
       "      <td>0.14011</td>\n",
       "      <td>0.103656</td>\n",
       "      <td>0.099033</td>\n",
       "      <td>0.778517</td>\n",
       "      <td>0.302298</td>\n",
       "      <td>0.555600</td>\n",
       "      <td>0.461406</td>\n",
       "      <td>...</td>\n",
       "      <td>0.305676</td>\n",
       "      <td>0.28277</td>\n",
       "      <td>0.505650</td>\n",
       "      <td>0.543289</td>\n",
       "      <td>0.892851</td>\n",
       "      <td>0.114721</td>\n",
       "      <td>0.075733</td>\n",
       "      <td>0.263092</td>\n",
       "      <td>0.024131</td>\n",
       "      <td>0.125743</td>\n",
       "    </tr>\n",
       "  </tbody>\n",
       "</table>\n",
       "<p>5 rows × 33 columns</p>\n",
       "</div>"
      ],
      "text/plain": [
       "      actq     ancq    epsfxq     lctq       ltq     revtq       roa  \\\n",
       "0  0.15915  0.15647  0.600363  0.14011  0.103656  0.085120  0.812405   \n",
       "1  0.15915  0.15647  0.600801  0.14011  0.103656  0.089930  0.796067   \n",
       "2  0.15915  0.15647  0.600278  0.14011  0.103656  0.070774  0.808472   \n",
       "3  0.15915  0.15647  0.601639  0.14011  0.103656  0.094803  0.788805   \n",
       "4  0.15915  0.15647  0.602165  0.14011  0.103656  0.099033  0.778517   \n",
       "\n",
       "        roe    pe_inc       pcf  ...  debt_ebitda_change  gpm_change  \\\n",
       "0  0.307713  0.563323  0.503678  ...            0.305676     0.28277   \n",
       "1  0.301351  0.555988  0.461638  ...            0.305671     0.28277   \n",
       "2  0.301376  0.554554  0.457561  ...            0.307639     0.28277   \n",
       "3  0.302140  0.557907  0.474153  ...            0.305676     0.28277   \n",
       "4  0.302298  0.555600  0.461406  ...            0.305676     0.28277   \n",
       "\n",
       "   evm_change  cfm_change  npm_change  PEG_trailing_change  de_ratio_change  \\\n",
       "0    0.505650    0.543478    0.892899             0.114620         0.075733   \n",
       "1    0.505401    0.541744    0.892514             0.114802         0.075733   \n",
       "2    0.508806    0.538162    0.892708             0.114771         0.075733   \n",
       "3    0.505650    0.543478    0.892839             0.114597         0.075733   \n",
       "4    0.505650    0.543289    0.892851             0.114721         0.075733   \n",
       "\n",
       "   curr_ratio_change  ptb_change  relative_quarterly_return  \n",
       "0           0.263092    0.022231                   0.117021  \n",
       "1           0.263092    0.029147                   0.112010  \n",
       "2           0.263092    0.027439                   0.142569  \n",
       "3           0.263092    0.024716                   0.141245  \n",
       "4           0.263092    0.024131                   0.125743  \n",
       "\n",
       "[5 rows x 33 columns]"
      ]
     },
     "execution_count": 541,
     "metadata": {},
     "output_type": "execute_result"
    }
   ],
   "source": [
    "# Scaling\n",
    "scaler = MinMaxScaler()\n",
    "\n",
    "# Fit the scaler on the training/validation data\n",
    "X_train_scaled = scaler.fit_transform(X_train)\n",
    "\n",
    "# Now apply the same scaling to the val/test data using the already fitted scaler\n",
    "X_valid_scaled = scaler.transform(X_valid)\n",
    "X_test_scaled = scaler.transform(X_test)\n",
    "\n",
    "# Convert the scaled data back to DataFrame for consistency\n",
    "X_train_scaled = pd.DataFrame(X_train_scaled, columns=X_train.columns)\n",
    "X_valid_scaled = pd.DataFrame(X_valid_scaled, columns=X_valid.columns)\n",
    "X_test_scaled = pd.DataFrame(X_test_scaled, columns=X_test.columns)\n",
    "\n",
    "X_train_scaled.head()"
   ]
  },
  {
   "cell_type": "code",
   "execution_count": 542,
   "metadata": {},
   "outputs": [
    {
     "data": {
      "text/plain": [
       "'\\n\\nmodel = xgb.XGBRanker(\\n    objective=\"rank:pairwise\",  \\n    eval_metric=\"ndcg\",\\n    learning_rate=0.05,\\n    max_depth=8,\\n    gamma=0.1,\\n    random_state=42,\\n    n_estimators=300\\n)\\n\\n# Fit model with `group`\\nmodel.fit(X_train, y_train, group=train_group)\\n\\n'"
      ]
     },
     "execution_count": 542,
     "metadata": {},
     "output_type": "execute_result"
    }
   ],
   "source": [
    "'''\n",
    "\n",
    "model = xgb.XGBRanker(\n",
    "    objective=\"rank:pairwise\",  \n",
    "    eval_metric=\"ndcg\",\n",
    "    learning_rate=0.05,\n",
    "    max_depth=8,\n",
    "    gamma=0.1,\n",
    "    random_state=42,\n",
    "    n_estimators=300\n",
    ")\n",
    "\n",
    "# Fit model with `group`\n",
    "model.fit(X_train, y_train, group=train_group)\n",
    "\n",
    "'''"
   ]
  },
  {
   "cell_type": "code",
   "execution_count": 543,
   "metadata": {},
   "outputs": [
    {
     "name": "stderr",
     "output_type": "stream",
     "text": [
      "/opt/anaconda3/lib/python3.9/site-packages/xgboost/core.py:158: UserWarning:\n",
      "\n",
      "[21:24:01] WARNING: /Users/runner/work/xgboost/xgboost/src/learner.cc:740: \n",
      "Parameters: { \"eval_set\", \"verbose\" } are not used.\n",
      "\n",
      "\n",
      "/opt/anaconda3/lib/python3.9/site-packages/xgboost/core.py:158: UserWarning:\n",
      "\n",
      "[21:24:01] WARNING: /Users/runner/work/xgboost/xgboost/src/learner.cc:740: \n",
      "Parameters: { \"eval_set\", \"verbose\" } are not used.\n",
      "\n",
      "\n",
      "/opt/anaconda3/lib/python3.9/site-packages/xgboost/core.py:158: UserWarning:\n",
      "\n",
      "[21:24:01] WARNING: /Users/runner/work/xgboost/xgboost/src/learner.cc:740: \n",
      "Parameters: { \"eval_set\", \"verbose\" } are not used.\n",
      "\n",
      "\n",
      "/opt/anaconda3/lib/python3.9/site-packages/xgboost/core.py:158: UserWarning:\n",
      "\n",
      "[21:24:02] WARNING: /Users/runner/work/xgboost/xgboost/src/learner.cc:740: \n",
      "Parameters: { \"eval_set\", \"verbose\" } are not used.\n",
      "\n",
      "\n",
      "/opt/anaconda3/lib/python3.9/site-packages/xgboost/core.py:158: UserWarning:\n",
      "\n",
      "[21:24:02] WARNING: /Users/runner/work/xgboost/xgboost/src/learner.cc:740: \n",
      "Parameters: { \"eval_set\", \"verbose\" } are not used.\n",
      "\n",
      "\n",
      "/opt/anaconda3/lib/python3.9/site-packages/xgboost/core.py:158: UserWarning:\n",
      "\n",
      "[21:24:03] WARNING: /Users/runner/work/xgboost/xgboost/src/learner.cc:740: \n",
      "Parameters: { \"eval_set\", \"verbose\" } are not used.\n",
      "\n",
      "\n"
     ]
    },
    {
     "name": "stdout",
     "output_type": "stream",
     "text": [
      "Best params: {'gamma': 0.1, 'learning_rate': 0.1, 'max_depth': 8, 'n_estimators': 300, 'random_state': 42}\n",
      "Best validation score = 0.2495428750947096\n",
      "CPU times: user 17.1 s, sys: 924 ms, total: 18 s\n",
      "Wall time: 6.87 s\n"
     ]
    }
   ],
   "source": [
    "\n",
    "\n",
    "%%time\n",
    "\n",
    "parameters = {\n",
    "    'n_estimators': [300],\n",
    "    'learning_rate': [0.1],\n",
    "    'max_depth': [8],\n",
    "    'gamma': [0.1],\n",
    "    'random_state': [42]\n",
    "}\n",
    "\n",
    "eval_set = [(X_train_scaled, y_train), (X_valid_scaled, y_valid)]\n",
    "model = xgb.XGBRegressor(eval_set=eval_set, objective='reg:squarederror', verbose=False)\n",
    "clf = GridSearchCV(model, parameters)\n",
    "\n",
    "clf.fit(X_train_scaled, y_train)\n",
    "\n",
    "print(f'Best params: {clf.best_params_}')\n",
    "print(f'Best validation score = {clf.best_score_}')\n",
    "\n"
   ]
  },
  {
   "cell_type": "code",
   "execution_count": 544,
   "metadata": {},
   "outputs": [
    {
     "name": "stdout",
     "output_type": "stream",
     "text": [
      "CPU times: user 5.42 s, sys: 383 ms, total: 5.8 s\n",
      "Wall time: 1.52 s\n"
     ]
    },
    {
     "data": {
      "text/plain": [
       "XGBRegressor(base_score=None, booster=None, callbacks=None,\n",
       "             colsample_bylevel=None, colsample_bynode=None,\n",
       "             colsample_bytree=None, device=None, early_stopping_rounds=None,\n",
       "             enable_categorical=False, eval_metric=None, feature_types=None,\n",
       "             gamma=0.1, grow_policy=None, importance_type=None,\n",
       "             interaction_constraints=None, learning_rate=0.1, max_bin=None,\n",
       "             max_cat_threshold=None, max_cat_to_onehot=None,\n",
       "             max_delta_step=None, max_depth=8, max_leaves=None,\n",
       "             min_child_weight=None, missing=nan, monotone_constraints=None,\n",
       "             multi_strategy=None, n_estimators=300, n_jobs=None,\n",
       "             num_parallel_tree=None, random_state=42, ...)"
      ]
     },
     "execution_count": 544,
     "metadata": {},
     "output_type": "execute_result"
    }
   ],
   "source": [
    "\n",
    "%%time\n",
    "\n",
    "model = xgb.XGBRegressor(**clf.best_params_, objective='reg:squarederror')\n",
    "model.fit(X_train_scaled, y_train, eval_set=eval_set, verbose=False)\n",
    "\n"
   ]
  },
  {
   "cell_type": "code",
   "execution_count": 545,
   "metadata": {},
   "outputs": [
    {
     "data": {
      "image/png": "[encoded data removed]",
      "text/plain": [
       "<Figure size 640x480 with 1 Axes>"
      ]
     },
     "metadata": {},
     "output_type": "display_data"
    }
   ],
   "source": [
    "plot_importance(model);\n",
    "\n",
    "# Get the feature importance scores\n",
    "importance = model.get_booster().get_score(importance_type='weight')\n",
    "\n",
    "# Sort the features by importance\n",
    "sorted_importance = sorted(importance.items(), key=lambda x: x[1], reverse=True)\n",
    "\n",
    "# Extract the most important features as a list of feature names (strings)\n",
    "important_features = [feature for feature, score in sorted_importance[:5]]\n"
   ]
  },
  {
   "cell_type": "code",
   "execution_count": 546,
   "metadata": {},
   "outputs": [
    {
     "name": "stdout",
     "output_type": "stream",
     "text": [
      "[ 0.44004095  0.08845297  0.3230055  ... -0.0063904   0.01361869\n",
      " -0.02671743]\n",
      "              precision    recall  f1-score   support\n",
      "\n",
      "           0       0.73      0.67      0.70      3460\n",
      "           1       0.73      0.78      0.76      3936\n",
      "\n",
      "    accuracy                           0.73      7396\n",
      "   macro avg       0.73      0.73      0.73      7396\n",
      "weighted avg       0.73      0.73      0.73      7396\n",
      "\n"
     ]
    }
   ],
   "source": [
    "y_train_pred = model.predict(X_train_scaled)\n",
    "y_valid_pred = model.predict(X_valid_scaled)\n",
    "y_test_pred = model.predict(X_test_scaled)\n",
    "\n",
    "# Classifier\n",
    "y_train_pred_binary = (y_train_pred >= 0).astype(int)\n",
    "y_valid_pred_binary = (y_valid_pred >= 0).astype(int)\n",
    "y_test_pred_binary = (y_test_pred >= 0).astype(int)\n",
    "\n",
    "y_train_binary = (y_train >= 0).astype(int)\n",
    "y_valid_binary = (y_valid >= 0).astype(int)\n",
    "y_test_binary = (y_test >= 0).astype(int)\n",
    "\n",
    "print(y_test_pred)\n",
    "\n",
    "print(classification_report(y_train_binary, y_train_pred_binary))\n",
    "\n"
   ]
  },
  {
   "cell_type": "code",
   "execution_count": 547,
   "metadata": {},
   "outputs": [
    {
     "data": {
      "text/html": [
       "<div>\n",
       "<style scoped>\n",
       "    .dataframe tbody tr th:only-of-type {\n",
       "        vertical-align: middle;\n",
       "    }\n",
       "\n",
       "    .dataframe tbody tr th {\n",
       "        vertical-align: top;\n",
       "    }\n",
       "\n",
       "    .dataframe thead th {\n",
       "        text-align: right;\n",
       "    }\n",
       "</style>\n",
       "<table border=\"1\" class=\"dataframe\">\n",
       "  <thead>\n",
       "    <tr style=\"text-align: right;\">\n",
       "      <th></th>\n",
       "      <th>datadate</th>\n",
       "      <th>tic</th>\n",
       "      <th>next_prccq_change</th>\n",
       "      <th>next_relative_quarterly_return</th>\n",
       "      <th>y_pred</th>\n",
       "    </tr>\n",
       "  </thead>\n",
       "  <tbody>\n",
       "    <tr>\n",
       "      <th>1253</th>\n",
       "      <td>2013-03-31</td>\n",
       "      <td>AMD</td>\n",
       "      <td>0.600000</td>\n",
       "      <td>0.566207</td>\n",
       "      <td>0.440041</td>\n",
       "    </tr>\n",
       "    <tr>\n",
       "      <th>11978</th>\n",
       "      <td>2013-03-31</td>\n",
       "      <td>REGN</td>\n",
       "      <td>0.274808</td>\n",
       "      <td>0.241016</td>\n",
       "      <td>0.323005</td>\n",
       "    </tr>\n",
       "    <tr>\n",
       "      <th>13004</th>\n",
       "      <td>2013-03-31</td>\n",
       "      <td>STZ</td>\n",
       "      <td>0.198237</td>\n",
       "      <td>0.121613</td>\n",
       "      <td>0.236625</td>\n",
       "    </tr>\n",
       "    <tr>\n",
       "      <th>10200</th>\n",
       "      <td>2013-03-31</td>\n",
       "      <td>NFLX</td>\n",
       "      <td>0.115226</td>\n",
       "      <td>0.081433</td>\n",
       "      <td>0.159093</td>\n",
       "    </tr>\n",
       "    <tr>\n",
       "      <th>8319</th>\n",
       "      <td>2013-03-31</td>\n",
       "      <td>LMT</td>\n",
       "      <td>0.123705</td>\n",
       "      <td>0.089912</td>\n",
       "      <td>0.153238</td>\n",
       "    </tr>\n",
       "  </tbody>\n",
       "</table>\n",
       "</div>"
      ],
      "text/plain": [
       "        datadate   tic  next_prccq_change  next_relative_quarterly_return  \\\n",
       "1253  2013-03-31   AMD           0.600000                        0.566207   \n",
       "11978 2013-03-31  REGN           0.274808                        0.241016   \n",
       "13004 2013-03-31   STZ           0.198237                        0.121613   \n",
       "10200 2013-03-31  NFLX           0.115226                        0.081433   \n",
       "8319  2013-03-31   LMT           0.123705                        0.089912   \n",
       "\n",
       "         y_pred  \n",
       "1253   0.440041  \n",
       "11978  0.323005  \n",
       "13004  0.236625  \n",
       "10200  0.159093  \n",
       "8319   0.153238  "
      ]
     },
     "execution_count": 547,
     "metadata": {},
     "output_type": "execute_result"
    }
   ],
   "source": [
    "results['y_pred'] = y_test_pred\n",
    "results1 = results.sort_values(by=['datadate', 'y_pred'], ascending=[True, False])\n",
    "\n",
    "results1.head(5)\n",
    "\n"
   ]
  },
  {
   "cell_type": "code",
   "execution_count": 548,
   "metadata": {},
   "outputs": [
    {
     "data": {
      "text/html": [
       "<div>\n",
       "<style scoped>\n",
       "    .dataframe tbody tr th:only-of-type {\n",
       "        vertical-align: middle;\n",
       "    }\n",
       "\n",
       "    .dataframe tbody tr th {\n",
       "        vertical-align: top;\n",
       "    }\n",
       "\n",
       "    .dataframe thead th {\n",
       "        text-align: right;\n",
       "    }\n",
       "</style>\n",
       "<table border=\"1\" class=\"dataframe\">\n",
       "  <thead>\n",
       "    <tr style=\"text-align: right;\">\n",
       "      <th></th>\n",
       "      <th>datadate</th>\n",
       "      <th>stocks</th>\n",
       "      <th>baseline</th>\n",
       "      <th>top_10</th>\n",
       "      <th>top_10_ideal</th>\n",
       "      <th>bottom_10</th>\n",
       "      <th>bottom_10_ideal</th>\n",
       "    </tr>\n",
       "  </thead>\n",
       "  <tbody>\n",
       "    <tr>\n",
       "      <th>0</th>\n",
       "      <td>2013-03-31</td>\n",
       "      <td>63</td>\n",
       "      <td>0.065437</td>\n",
       "      <td>0.363120</td>\n",
       "      <td>0.421077</td>\n",
       "      <td>-0.017599</td>\n",
       "      <td>-0.124256</td>\n",
       "    </tr>\n",
       "    <tr>\n",
       "      <th>1</th>\n",
       "      <td>2013-06-30</td>\n",
       "      <td>64</td>\n",
       "      <td>0.059808</td>\n",
       "      <td>0.135495</td>\n",
       "      <td>0.354006</td>\n",
       "      <td>-0.051917</td>\n",
       "      <td>-0.093581</td>\n",
       "    </tr>\n",
       "    <tr>\n",
       "      <th>2</th>\n",
       "      <td>2013-09-30</td>\n",
       "      <td>66</td>\n",
       "      <td>0.110123</td>\n",
       "      <td>0.257526</td>\n",
       "      <td>0.412804</td>\n",
       "      <td>-0.066567</td>\n",
       "      <td>-0.106066</td>\n",
       "    </tr>\n",
       "    <tr>\n",
       "      <th>3</th>\n",
       "      <td>2013-12-31</td>\n",
       "      <td>66</td>\n",
       "      <td>0.032754</td>\n",
       "      <td>0.054885</td>\n",
       "      <td>0.256265</td>\n",
       "      <td>-0.069344</td>\n",
       "      <td>-0.120828</td>\n",
       "    </tr>\n",
       "    <tr>\n",
       "      <th>4</th>\n",
       "      <td>2014-03-31</td>\n",
       "      <td>66</td>\n",
       "      <td>0.039382</td>\n",
       "      <td>0.124978</td>\n",
       "      <td>0.215892</td>\n",
       "      <td>0.055244</td>\n",
       "      <td>-0.098166</td>\n",
       "    </tr>\n",
       "    <tr>\n",
       "      <th>5</th>\n",
       "      <td>2014-06-30</td>\n",
       "      <td>67</td>\n",
       "      <td>0.022670</td>\n",
       "      <td>0.169408</td>\n",
       "      <td>0.230542</td>\n",
       "      <td>-0.067449</td>\n",
       "      <td>-0.145873</td>\n",
       "    </tr>\n",
       "    <tr>\n",
       "      <th>6</th>\n",
       "      <td>2014-09-30</td>\n",
       "      <td>65</td>\n",
       "      <td>0.054048</td>\n",
       "      <td>0.181808</td>\n",
       "      <td>0.238110</td>\n",
       "      <td>-0.054880</td>\n",
       "      <td>-0.189307</td>\n",
       "    </tr>\n",
       "    <tr>\n",
       "      <th>7</th>\n",
       "      <td>2014-12-31</td>\n",
       "      <td>64</td>\n",
       "      <td>0.027150</td>\n",
       "      <td>0.131051</td>\n",
       "      <td>0.206037</td>\n",
       "      <td>-0.064309</td>\n",
       "      <td>-0.152242</td>\n",
       "    </tr>\n",
       "    <tr>\n",
       "      <th>8</th>\n",
       "      <td>2015-03-31</td>\n",
       "      <td>65</td>\n",
       "      <td>0.009599</td>\n",
       "      <td>0.124979</td>\n",
       "      <td>0.322730</td>\n",
       "      <td>-0.120439</td>\n",
       "      <td>-0.169087</td>\n",
       "    </tr>\n",
       "    <tr>\n",
       "      <th>9</th>\n",
       "      <td>2015-06-30</td>\n",
       "      <td>63</td>\n",
       "      <td>-0.056546</td>\n",
       "      <td>0.092258</td>\n",
       "      <td>0.143413</td>\n",
       "      <td>-0.239675</td>\n",
       "      <td>-0.309548</td>\n",
       "    </tr>\n",
       "  </tbody>\n",
       "</table>\n",
       "</div>"
      ],
      "text/plain": [
       "    datadate  stocks  baseline    top_10  top_10_ideal  bottom_10  \\\n",
       "0 2013-03-31      63  0.065437  0.363120      0.421077  -0.017599   \n",
       "1 2013-06-30      64  0.059808  0.135495      0.354006  -0.051917   \n",
       "2 2013-09-30      66  0.110123  0.257526      0.412804  -0.066567   \n",
       "3 2013-12-31      66  0.032754  0.054885      0.256265  -0.069344   \n",
       "4 2014-03-31      66  0.039382  0.124978      0.215892   0.055244   \n",
       "5 2014-06-30      67  0.022670  0.169408      0.230542  -0.067449   \n",
       "6 2014-09-30      65  0.054048  0.181808      0.238110  -0.054880   \n",
       "7 2014-12-31      64  0.027150  0.131051      0.206037  -0.064309   \n",
       "8 2015-03-31      65  0.009599  0.124979      0.322730  -0.120439   \n",
       "9 2015-06-30      63 -0.056546  0.092258      0.143413  -0.239675   \n",
       "\n",
       "   bottom_10_ideal  \n",
       "0        -0.124256  \n",
       "1        -0.093581  \n",
       "2        -0.106066  \n",
       "3        -0.120828  \n",
       "4        -0.098166  \n",
       "5        -0.145873  \n",
       "6        -0.189307  \n",
       "7        -0.152242  \n",
       "8        -0.169087  \n",
       "9        -0.309548  "
      ]
     },
     "execution_count": 548,
     "metadata": {},
     "output_type": "execute_result"
    }
   ],
   "source": [
    "def softmax_weighted_return(df, sort_col, target_col, n=5, largest=True):\n",
    "    if largest:\n",
    "        selected = df.nlargest(n, sort_col)\n",
    "    else:\n",
    "        selected = df.nsmallest(n, sort_col)\n",
    "    # Compute softmax weights from the predicted scores:\n",
    "    e_scores = np.exp(selected[sort_col])\n",
    "    weights = e_scores / e_scores.sum()\n",
    "    return (selected[target_col] * weights).sum()\n",
    "\n",
    "def exponential_weighted_return(df, sort_col, target_col, n=10, largest=True, alpha=0.5):\n",
    "    if largest:\n",
    "        selected = df.nlargest(n, sort_col)\n",
    "    else:\n",
    "        selected = df.nsmallest(n, sort_col)\n",
    "    selected = selected.sort_values(by=sort_col, ascending=not largest).copy()\n",
    "    selected['rank'] = range(1, len(selected) + 1)\n",
    "    # Exponential weights: weight = exp(-alpha * (rank - 1))\n",
    "    selected['weight'] = np.exp(-alpha * (selected['rank'] - 1))\n",
    "    selected['weight'] /= selected['weight'].sum()  # Normalize weights\n",
    "    return (selected[target_col] * selected['weight']).sum()\n",
    "\n",
    "\n",
    "# Baseline aggregation remains unchanged.\n",
    "df_avg = results.groupby('datadate').agg(\n",
    "    stocks=('next_prccq_change', 'size'),\n",
    "    baseline=('next_prccq_change', 'mean')\n",
    ").reset_index()\n",
    "\n",
    "# For the predicted top 10, weight by predicted returns ('pred_rank_score')\n",
    "df_avg['top_10'] = results.groupby('datadate').apply(\n",
    "    lambda group: exponential_weighted_return(\n",
    "        group,\n",
    "        sort_col='y_pred',\n",
    "        target_col='next_prccq_change',\n",
    "        largest=True\n",
    "    )\n",
    ").reset_index(level=0, drop=True)\n",
    "\n",
    "# For the ideal top 10, weight by the actual returns\n",
    "df_avg['top_10_ideal'] = results.groupby('datadate').apply(\n",
    "    lambda group: exponential_weighted_return(\n",
    "        group,\n",
    "        sort_col='next_prccq_change',\n",
    "        target_col='next_prccq_change',\n",
    "        largest=True\n",
    "    )\n",
    ").reset_index(level=0, drop=True)\n",
    "\n",
    "# For the predicted bottom 10, weight by predicted returns\n",
    "df_avg['bottom_10'] = results.groupby('datadate').apply(\n",
    "    lambda group: exponential_weighted_return(\n",
    "        group,\n",
    "        sort_col='y_pred',\n",
    "        target_col='next_prccq_change',\n",
    "        largest=False\n",
    "    )\n",
    ").reset_index(level=0, drop=True)\n",
    "\n",
    "# For the ideal bottom 10, weight by the actual returns\n",
    "df_avg['bottom_10_ideal'] = results.groupby('datadate').apply(\n",
    "    lambda group: exponential_weighted_return(\n",
    "        group,\n",
    "        sort_col='next_prccq_change',\n",
    "        target_col='next_prccq_change',\n",
    "        largest=False\n",
    "    )\n",
    ").reset_index(level=0, drop=True)\n",
    "\n",
    "# Display the first 100 rows of the new dataframe\n",
    "df_avg.head(10)\n"
   ]
  },
  {
   "cell_type": "code",
   "execution_count": 549,
   "metadata": {},
   "outputs": [
    {
     "name": "stdout",
     "output_type": "stream",
     "text": [
      "Mean quarterly return of the baseline portfolio: 0.03360167684373077\n",
      "Sharpe Ratio of the baseline portfolio: 0.14378314191983466\n",
      "\n",
      "Mean quarterly return of the top_10 portfolio: 0.20581700842274153\n",
      "Sharpe Ratio of the top_10 portfolio: 1.319828079735179\n",
      "\n",
      "Mean quarterly return of the bottom_10 portfolio: -0.10395251124719497\n",
      "Sharpe Ratio of the bottom_10 portfolio: -1.2169011575852147\n",
      "\n"
     ]
    }
   ],
   "source": [
    "for portfolio in ['baseline', 'top_10', 'bottom_10']:\n",
    "\n",
    "    mean_return = df_avg[portfolio].mean()\n",
    "\n",
    "    # Calculate the standard deviation of the returns of the top 10 portfolio\n",
    "    std_return = df_avg[portfolio].std()\n",
    "\n",
    "    # Assuming the risk-free rate is 0 (if you have a specific risk-free rate, replace 0 with that value)\n",
    "    risk_free_rate = 0.025\n",
    "\n",
    "    # Calculate the Sharpe ratio\n",
    "    sharpe_ratio = (mean_return - risk_free_rate) / std_return\n",
    "\n",
    "    # Print the Sharpe ratio\n",
    "    print(f\"Mean quarterly return of the {portfolio} portfolio: {mean_return}\")\n",
    "    print(f\"Sharpe Ratio of the {portfolio} portfolio: {sharpe_ratio}\")\n",
    "    print(\"\")"
   ]
  },
  {
   "cell_type": "code",
   "execution_count": 550,
   "metadata": {},
   "outputs": [
    {
     "data": {
      "application/vnd.plotly.v1+json": {
       "config": {
        "plotlyServerURL": "https://plot.ly"
       },
       "data": [
        {
         "mode": "lines",
         "name": "Baseline Portfolio",
         "type": "scatter",
         "x": [
          "2013-03-31T00:00:00",
          "2013-06-30T00:00:00",
          "2013-09-30T00:00:00",
          "2013-12-31T00:00:00",
          "2014-03-31T00:00:00",
          "2014-06-30T00:00:00",
          "2014-09-30T00:00:00",
          "2014-12-31T00:00:00",
          "2015-03-31T00:00:00",
          "2015-06-30T00:00:00",
          "2015-09-30T00:00:00",
          "2015-12-31T00:00:00",
          "2016-03-31T00:00:00",
          "2016-06-30T00:00:00",
          "2016-09-30T00:00:00",
          "2016-12-31T00:00:00",
          "2017-03-31T00:00:00",
          "2017-06-30T00:00:00",
          "2017-09-30T00:00:00",
          "2017-12-31T00:00:00",
          "2018-03-31T00:00:00",
          "2018-06-30T00:00:00",
          "2018-09-30T00:00:00",
          "2018-12-31T00:00:00",
          "2019-03-31T00:00:00",
          "2019-06-30T00:00:00",
          "2019-09-30T00:00:00",
          "2019-12-31T00:00:00",
          "2020-03-31T00:00:00",
          "2020-06-30T00:00:00",
          "2020-09-30T00:00:00",
          "2020-12-31T00:00:00",
          "2021-03-31T00:00:00",
          "2021-06-30T00:00:00",
          "2021-09-30T00:00:00",
          "2021-12-31T00:00:00",
          "2022-03-31T00:00:00",
          "2022-06-30T00:00:00",
          "2022-09-30T00:00:00",
          "2022-12-31T00:00:00",
          "2023-03-31T00:00:00",
          "2023-06-30T00:00:00"
         ],
         "y": [
          1065.4371958232998,
          1129.158555801018,
          1253.504932219555,
          1294.5627948278475,
          1345.5449075612785,
          1376.0488503962213,
          1450.4209420711502,
          1489.7999079150622,
          1504.1006826860594,
          1419.0491976789824,
          1532.8619041760492,
          1526.8454764030162,
          1595.6530802603083,
          1670.5003529710327,
          1693.3048216355464,
          1806.3940396765208,
          1877.9491868072244,
          1974.0047428534597,
          2083.7869748399794,
          2136.843713783442,
          2209.0551592121974,
          2413.5292586963624,
          2175.7094661891324,
          2370.8521064286383,
          2435.7967721326663,
          2514.7218204608134,
          2731.0651296527913,
          2291.9914990282114,
          2599.984512088596,
          2808.7678965191553,
          3100.289213300711,
          3350.5361613923674,
          3568.127870904715,
          3564.924966398189,
          3894.5966139011493,
          3875.813552377668,
          3521.3314335965306,
          3244.2768305862883,
          3521.720690443635,
          3590.0165855143373,
          3728.5024491728045,
          3726.7208199094616
         ]
        },
        {
         "mode": "lines",
         "name": "Top 10 Portfolio",
         "type": "scatter",
         "x": [
          "2013-03-31T00:00:00",
          "2013-06-30T00:00:00",
          "2013-09-30T00:00:00",
          "2013-12-31T00:00:00",
          "2014-03-31T00:00:00",
          "2014-06-30T00:00:00",
          "2014-09-30T00:00:00",
          "2014-12-31T00:00:00",
          "2015-03-31T00:00:00",
          "2015-06-30T00:00:00",
          "2015-09-30T00:00:00",
          "2015-12-31T00:00:00",
          "2016-03-31T00:00:00",
          "2016-06-30T00:00:00",
          "2016-09-30T00:00:00",
          "2016-12-31T00:00:00",
          "2017-03-31T00:00:00",
          "2017-06-30T00:00:00",
          "2017-09-30T00:00:00",
          "2017-12-31T00:00:00",
          "2018-03-31T00:00:00",
          "2018-06-30T00:00:00",
          "2018-09-30T00:00:00",
          "2018-12-31T00:00:00",
          "2019-03-31T00:00:00",
          "2019-06-30T00:00:00",
          "2019-09-30T00:00:00",
          "2019-12-31T00:00:00",
          "2020-03-31T00:00:00",
          "2020-06-30T00:00:00",
          "2020-09-30T00:00:00",
          "2020-12-31T00:00:00",
          "2021-03-31T00:00:00",
          "2021-06-30T00:00:00",
          "2021-09-30T00:00:00",
          "2021-12-31T00:00:00",
          "2022-03-31T00:00:00",
          "2022-06-30T00:00:00",
          "2022-09-30T00:00:00",
          "2022-12-31T00:00:00",
          "2023-03-31T00:00:00",
          "2023-06-30T00:00:00"
         ],
         "y": [
          1363.1200846719955,
          1547.816637929358,
          1946.4200812110669,
          2053.250070857676,
          2309.8603410394835,
          2701.169890897,
          3192.263190237488,
          3610.6140583423266,
          4061.865451484195,
          4436.606648471804,
          6276.963823643519,
          7490.2589662440705,
          8530.0562753475,
          11094.505106126513,
          13218.631943686387,
          16661.687945360183,
          18030.94527901993,
          21688.630625900398,
          27252.599922081314,
          34145.35418941364,
          40589.69901355052,
          61134.84610968059,
          59028.61300587328,
          71531.80716400471,
          84987.71185111036,
          93977.47649298521,
          131133.093992609,
          135947.4155850148,
          179016.7881209984,
          209025.5053891723,
          317902.72530604556,
          437199.4903738371,
          481656.64044751215,
          532501.8547534312,
          704081.6379399997,
          1078904.6723409735,
          1066281.0238081506,
          1098336.6400741523,
          1263237.3396915114,
          1500996.4331097852,
          1836262.3087221985,
          2009072.6754321952
         ]
        }
       ],
       "layout": {
        "template": {
         "data": {
          "bar": [
           {
            "error_x": {
             "color": "#2a3f5f"
            },
            "error_y": {
             "color": "#2a3f5f"
            },
            "marker": {
             "line": {
              "color": "#E5ECF6",
              "width": 0.5
             },
             "pattern": {
              "fillmode": "overlay",
              "size": 10,
              "solidity": 0.2
             }
            },
            "type": "bar"
           }
          ],
          "barpolar": [
           {
            "marker": {
             "line": {
              "color": "#E5ECF6",
              "width": 0.5
             },
             "pattern": {
              "fillmode": "overlay",
              "size": 10,
              "solidity": 0.2
             }
            },
            "type": "barpolar"
           }
          ],
          "carpet": [
           {
            "aaxis": {
             "endlinecolor": "#2a3f5f",
             "gridcolor": "white",
             "linecolor": "white",
             "minorgridcolor": "white",
             "startlinecolor": "#2a3f5f"
            },
            "baxis": {
             "endlinecolor": "#2a3f5f",
             "gridcolor": "white",
             "linecolor": "white",
             "minorgridcolor": "white",
             "startlinecolor": "#2a3f5f"
            },
            "type": "carpet"
           }
          ],
          "choropleth": [
           {
            "colorbar": {
             "outlinewidth": 0,
             "ticks": ""
            },
            "type": "choropleth"
           }
          ],
          "contour": [
           {
            "colorbar": {
             "outlinewidth": 0,
             "ticks": ""
            },
            "colorscale": [
             [
              0,
              "#0d0887"
             ],
             [
              0.1111111111111111,
              "#46039f"
             ],
             [
              0.2222222222222222,
              "#7201a8"
             ],
             [
              0.3333333333333333,
              "#9c179e"
             ],
             [
              0.4444444444444444,
              "#bd3786"
             ],
             [
              0.5555555555555556,
              "#d8576b"
             ],
             [
              0.6666666666666666,
              "#ed7953"
             ],
             [
              0.7777777777777778,
              "#fb9f3a"
             ],
             [
              0.8888888888888888,
              "#fdca26"
             ],
             [
              1,
              "#f0f921"
             ]
            ],
            "type": "contour"
           }
          ],
          "contourcarpet": [
           {
            "colorbar": {
             "outlinewidth": 0,
             "ticks": ""
            },
            "type": "contourcarpet"
           }
          ],
          "heatmap": [
           {
            "colorbar": {
             "outlinewidth": 0,
             "ticks": ""
            },
            "colorscale": [
             [
              0,
              "#0d0887"
             ],
             [
              0.1111111111111111,
              "#46039f"
             ],
             [
              0.2222222222222222,
              "#7201a8"
             ],
             [
              0.3333333333333333,
              "#9c179e"
             ],
             [
              0.4444444444444444,
              "#bd3786"
             ],
             [
              0.5555555555555556,
              "#d8576b"
             ],
             [
              0.6666666666666666,
              "#ed7953"
             ],
             [
              0.7777777777777778,
              "#fb9f3a"
             ],
             [
              0.8888888888888888,
              "#fdca26"
             ],
             [
              1,
              "#f0f921"
             ]
            ],
            "type": "heatmap"
           }
          ],
          "heatmapgl": [
           {
            "colorbar": {
             "outlinewidth": 0,
             "ticks": ""
            },
            "colorscale": [
             [
              0,
              "#0d0887"
             ],
             [
              0.1111111111111111,
              "#46039f"
             ],
             [
              0.2222222222222222,
              "#7201a8"
             ],
             [
              0.3333333333333333,
              "#9c179e"
             ],
             [
              0.4444444444444444,
              "#bd3786"
             ],
             [
              0.5555555555555556,
              "#d8576b"
             ],
             [
              0.6666666666666666,
              "#ed7953"
             ],
             [
              0.7777777777777778,
              "#fb9f3a"
             ],
             [
              0.8888888888888888,
              "#fdca26"
             ],
             [
              1,
              "#f0f921"
             ]
            ],
            "type": "heatmapgl"
           }
          ],
          "histogram": [
           {
            "marker": {
             "pattern": {
              "fillmode": "overlay",
              "size": 10,
              "solidity": 0.2
             }
            },
            "type": "histogram"
           }
          ],
          "histogram2d": [
           {
            "colorbar": {
             "outlinewidth": 0,
             "ticks": ""
            },
            "colorscale": [
             [
              0,
              "#0d0887"
             ],
             [
              0.1111111111111111,
              "#46039f"
             ],
             [
              0.2222222222222222,
              "#7201a8"
             ],
             [
              0.3333333333333333,
              "#9c179e"
             ],
             [
              0.4444444444444444,
              "#bd3786"
             ],
             [
              0.5555555555555556,
              "#d8576b"
             ],
             [
              0.6666666666666666,
              "#ed7953"
             ],
             [
              0.7777777777777778,
              "#fb9f3a"
             ],
             [
              0.8888888888888888,
              "#fdca26"
             ],
             [
              1,
              "#f0f921"
             ]
            ],
            "type": "histogram2d"
           }
          ],
          "histogram2dcontour": [
           {
            "colorbar": {
             "outlinewidth": 0,
             "ticks": ""
            },
            "colorscale": [
             [
              0,
              "#0d0887"
             ],
             [
              0.1111111111111111,
              "#46039f"
             ],
             [
              0.2222222222222222,
              "#7201a8"
             ],
             [
              0.3333333333333333,
              "#9c179e"
             ],
             [
              0.4444444444444444,
              "#bd3786"
             ],
             [
              0.5555555555555556,
              "#d8576b"
             ],
             [
              0.6666666666666666,
              "#ed7953"
             ],
             [
              0.7777777777777778,
              "#fb9f3a"
             ],
             [
              0.8888888888888888,
              "#fdca26"
             ],
             [
              1,
              "#f0f921"
             ]
            ],
            "type": "histogram2dcontour"
           }
          ],
          "mesh3d": [
           {
            "colorbar": {
             "outlinewidth": 0,
             "ticks": ""
            },
            "type": "mesh3d"
           }
          ],
          "parcoords": [
           {
            "line": {
             "colorbar": {
              "outlinewidth": 0,
              "ticks": ""
             }
            },
            "type": "parcoords"
           }
          ],
          "pie": [
           {
            "automargin": true,
            "type": "pie"
           }
          ],
          "scatter": [
           {
            "fillpattern": {
             "fillmode": "overlay",
             "size": 10,
             "solidity": 0.2
            },
            "type": "scatter"
           }
          ],
          "scatter3d": [
           {
            "line": {
             "colorbar": {
              "outlinewidth": 0,
              "ticks": ""
             }
            },
            "marker": {
             "colorbar": {
              "outlinewidth": 0,
              "ticks": ""
             }
            },
            "type": "scatter3d"
           }
          ],
          "scattercarpet": [
           {
            "marker": {
             "colorbar": {
              "outlinewidth": 0,
              "ticks": ""
             }
            },
            "type": "scattercarpet"
           }
          ],
          "scattergeo": [
           {
            "marker": {
             "colorbar": {
              "outlinewidth": 0,
              "ticks": ""
             }
            },
            "type": "scattergeo"
           }
          ],
          "scattergl": [
           {
            "marker": {
             "colorbar": {
              "outlinewidth": 0,
              "ticks": ""
             }
            },
            "type": "scattergl"
           }
          ],
          "scattermapbox": [
           {
            "marker": {
             "colorbar": {
              "outlinewidth": 0,
              "ticks": ""
             }
            },
            "type": "scattermapbox"
           }
          ],
          "scatterpolar": [
           {
            "marker": {
             "colorbar": {
              "outlinewidth": 0,
              "ticks": ""
             }
            },
            "type": "scatterpolar"
           }
          ],
          "scatterpolargl": [
           {
            "marker": {
             "colorbar": {
              "outlinewidth": 0,
              "ticks": ""
             }
            },
            "type": "scatterpolargl"
           }
          ],
          "scatterternary": [
           {
            "marker": {
             "colorbar": {
              "outlinewidth": 0,
              "ticks": ""
             }
            },
            "type": "scatterternary"
           }
          ],
          "surface": [
           {
            "colorbar": {
             "outlinewidth": 0,
             "ticks": ""
            },
            "colorscale": [
             [
              0,
              "#0d0887"
             ],
             [
              0.1111111111111111,
              "#46039f"
             ],
             [
              0.2222222222222222,
              "#7201a8"
             ],
             [
              0.3333333333333333,
              "#9c179e"
             ],
             [
              0.4444444444444444,
              "#bd3786"
             ],
             [
              0.5555555555555556,
              "#d8576b"
             ],
             [
              0.6666666666666666,
              "#ed7953"
             ],
             [
              0.7777777777777778,
              "#fb9f3a"
             ],
             [
              0.8888888888888888,
              "#fdca26"
             ],
             [
              1,
              "#f0f921"
             ]
            ],
            "type": "surface"
           }
          ],
          "table": [
           {
            "cells": {
             "fill": {
              "color": "#EBF0F8"
             },
             "line": {
              "color": "white"
             }
            },
            "header": {
             "fill": {
              "color": "#C8D4E3"
             },
             "line": {
              "color": "white"
             }
            },
            "type": "table"
           }
          ]
         },
         "layout": {
          "annotationdefaults": {
           "arrowcolor": "#2a3f5f",
           "arrowhead": 0,
           "arrowwidth": 1
          },
          "autotypenumbers": "strict",
          "coloraxis": {
           "colorbar": {
            "outlinewidth": 0,
            "ticks": ""
           }
          },
          "colorscale": {
           "diverging": [
            [
             0,
             "#8e0152"
            ],
            [
             0.1,
             "#c51b7d"
            ],
            [
             0.2,
             "#de77ae"
            ],
            [
             0.3,
             "#f1b6da"
            ],
            [
             0.4,
             "#fde0ef"
            ],
            [
             0.5,
             "#f7f7f7"
            ],
            [
             0.6,
             "#e6f5d0"
            ],
            [
             0.7,
             "#b8e186"
            ],
            [
             0.8,
             "#7fbc41"
            ],
            [
             0.9,
             "#4d9221"
            ],
            [
             1,
             "#276419"
            ]
           ],
           "sequential": [
            [
             0,
             "#0d0887"
            ],
            [
             0.1111111111111111,
             "#46039f"
            ],
            [
             0.2222222222222222,
             "#7201a8"
            ],
            [
             0.3333333333333333,
             "#9c179e"
            ],
            [
             0.4444444444444444,
             "#bd3786"
            ],
            [
             0.5555555555555556,
             "#d8576b"
            ],
            [
             0.6666666666666666,
             "#ed7953"
            ],
            [
             0.7777777777777778,
             "#fb9f3a"
            ],
            [
             0.8888888888888888,
             "#fdca26"
            ],
            [
             1,
             "#f0f921"
            ]
           ],
           "sequentialminus": [
            [
             0,
             "#0d0887"
            ],
            [
             0.1111111111111111,
             "#46039f"
            ],
            [
             0.2222222222222222,
             "#7201a8"
            ],
            [
             0.3333333333333333,
             "#9c179e"
            ],
            [
             0.4444444444444444,
             "#bd3786"
            ],
            [
             0.5555555555555556,
             "#d8576b"
            ],
            [
             0.6666666666666666,
             "#ed7953"
            ],
            [
             0.7777777777777778,
             "#fb9f3a"
            ],
            [
             0.8888888888888888,
             "#fdca26"
            ],
            [
             1,
             "#f0f921"
            ]
           ]
          },
          "colorway": [
           "#636efa",
           "#EF553B",
           "#00cc96",
           "#ab63fa",
           "#FFA15A",
           "#19d3f3",
           "#FF6692",
           "#B6E880",
           "#FF97FF",
           "#FECB52"
          ],
          "font": {
           "color": "#2a3f5f"
          },
          "geo": {
           "bgcolor": "white",
           "lakecolor": "white",
           "landcolor": "#E5ECF6",
           "showlakes": true,
           "showland": true,
           "subunitcolor": "white"
          },
          "hoverlabel": {
           "align": "left"
          },
          "hovermode": "closest",
          "mapbox": {
           "style": "light"
          },
          "paper_bgcolor": "rgba(0,0,0,0)",
          "plot_bgcolor": "rgba(250,250,250,0.8)",
          "polar": {
           "angularaxis": {
            "gridcolor": "white",
            "linecolor": "white",
            "ticks": ""
           },
           "bgcolor": "#E5ECF6",
           "radialaxis": {
            "gridcolor": "white",
            "linecolor": "white",
            "ticks": ""
           }
          },
          "scene": {
           "xaxis": {
            "backgroundcolor": "#E5ECF6",
            "gridcolor": "white",
            "gridwidth": 2,
            "linecolor": "white",
            "showbackground": true,
            "ticks": "",
            "zerolinecolor": "white"
           },
           "yaxis": {
            "backgroundcolor": "#E5ECF6",
            "gridcolor": "white",
            "gridwidth": 2,
            "linecolor": "white",
            "showbackground": true,
            "ticks": "",
            "zerolinecolor": "white"
           },
           "zaxis": {
            "backgroundcolor": "#E5ECF6",
            "gridcolor": "white",
            "gridwidth": 2,
            "linecolor": "white",
            "showbackground": true,
            "ticks": "",
            "zerolinecolor": "white"
           }
          },
          "shapedefaults": {
           "line": {
            "color": "#2a3f5f"
           }
          },
          "ternary": {
           "aaxis": {
            "gridcolor": "white",
            "linecolor": "white",
            "ticks": ""
           },
           "baxis": {
            "gridcolor": "white",
            "linecolor": "white",
            "ticks": ""
           },
           "bgcolor": "#E5ECF6",
           "caxis": {
            "gridcolor": "white",
            "linecolor": "white",
            "ticks": ""
           }
          },
          "title": {
           "x": 0.05
          },
          "xaxis": {
           "automargin": true,
           "gridcolor": "white",
           "linecolor": "white",
           "ticks": "",
           "title": {
            "standoff": 15
           },
           "zerolinecolor": "white",
           "zerolinewidth": 2
          },
          "yaxis": {
           "automargin": true,
           "gridcolor": "white",
           "linecolor": "white",
           "ticks": "",
           "title": {
            "standoff": 15
           },
           "zerolinecolor": "white",
           "zerolinewidth": 2
          }
         }
        },
        "title": {
         "text": "Portfolio Value Over Time ($1,000 Investment)"
        },
        "xaxis": {
         "title": {
          "text": "Date"
         }
        },
        "yaxis": {
         "title": {
          "text": "Portfolio Value ($)"
         }
        }
       }
      },
      "text/html": [
       "<div>                            <div id=\"46191288-cceb-432f-b52e-fbfbb5faf815\" class=\"plotly-graph-div\" style=\"height:525px; width:100%;\"></div>            <script type=\"text/javascript\">                require([\"plotly\"], function(Plotly) {                    window.PLOTLYENV=window.PLOTLYENV || {};                                    if (document.getElementById(\"46191288-cceb-432f-b52e-fbfbb5faf815\")) {                    Plotly.newPlot(                        \"46191288-cceb-432f-b52e-fbfbb5faf815\",                        [{\"mode\":\"lines\",\"name\":\"Baseline Portfolio\",\"x\":[\"2013-03-31T00:00:00\",\"2013-06-30T00:00:00\",\"2013-09-30T00:00:00\",\"2013-12-31T00:00:00\",\"2014-03-31T00:00:00\",\"2014-06-30T00:00:00\",\"2014-09-30T00:00:00\",\"2014-12-31T00:00:00\",\"2015-03-31T00:00:00\",\"2015-06-30T00:00:00\",\"2015-09-30T00:00:00\",\"2015-12-31T00:00:00\",\"2016-03-31T00:00:00\",\"2016-06-30T00:00:00\",\"2016-09-30T00:00:00\",\"2016-12-31T00:00:00\",\"2017-03-31T00:00:00\",\"2017-06-30T00:00:00\",\"2017-09-30T00:00:00\",\"2017-12-31T00:00:00\",\"2018-03-31T00:00:00\",\"2018-06-30T00:00:00\",\"2018-09-30T00:00:00\",\"2018-12-31T00:00:00\",\"2019-03-31T00:00:00\",\"2019-06-30T00:00:00\",\"2019-09-30T00:00:00\",\"2019-12-31T00:00:00\",\"2020-03-31T00:00:00\",\"2020-06-30T00:00:00\",\"2020-09-30T00:00:00\",\"2020-12-31T00:00:00\",\"2021-03-31T00:00:00\",\"2021-06-30T00:00:00\",\"2021-09-30T00:00:00\",\"2021-12-31T00:00:00\",\"2022-03-31T00:00:00\",\"2022-06-30T00:00:00\",\"2022-09-30T00:00:00\",\"2022-12-31T00:00:00\",\"2023-03-31T00:00:00\",\"2023-06-30T00:00:00\"],\"y\":[1065.4371958232998,1129.158555801018,1253.504932219555,1294.5627948278475,1345.5449075612785,1376.0488503962213,1450.4209420711502,1489.7999079150622,1504.1006826860594,1419.0491976789824,1532.8619041760492,1526.8454764030162,1595.6530802603083,1670.5003529710327,1693.3048216355464,1806.3940396765208,1877.9491868072244,1974.0047428534597,2083.7869748399794,2136.843713783442,2209.0551592121974,2413.5292586963624,2175.7094661891324,2370.8521064286383,2435.7967721326663,2514.7218204608134,2731.0651296527913,2291.9914990282114,2599.984512088596,2808.7678965191553,3100.289213300711,3350.5361613923674,3568.127870904715,3564.924966398189,3894.5966139011493,3875.813552377668,3521.3314335965306,3244.2768305862883,3521.720690443635,3590.0165855143373,3728.5024491728045,3726.7208199094616],\"type\":\"scatter\"},{\"mode\":\"lines\",\"name\":\"Top 10 Portfolio\",\"x\":[\"2013-03-31T00:00:00\",\"2013-06-30T00:00:00\",\"2013-09-30T00:00:00\",\"2013-12-31T00:00:00\",\"2014-03-31T00:00:00\",\"2014-06-30T00:00:00\",\"2014-09-30T00:00:00\",\"2014-12-31T00:00:00\",\"2015-03-31T00:00:00\",\"2015-06-30T00:00:00\",\"2015-09-30T00:00:00\",\"2015-12-31T00:00:00\",\"2016-03-31T00:00:00\",\"2016-06-30T00:00:00\",\"2016-09-30T00:00:00\",\"2016-12-31T00:00:00\",\"2017-03-31T00:00:00\",\"2017-06-30T00:00:00\",\"2017-09-30T00:00:00\",\"2017-12-31T00:00:00\",\"2018-03-31T00:00:00\",\"2018-06-30T00:00:00\",\"2018-09-30T00:00:00\",\"2018-12-31T00:00:00\",\"2019-03-31T00:00:00\",\"2019-06-30T00:00:00\",\"2019-09-30T00:00:00\",\"2019-12-31T00:00:00\",\"2020-03-31T00:00:00\",\"2020-06-30T00:00:00\",\"2020-09-30T00:00:00\",\"2020-12-31T00:00:00\",\"2021-03-31T00:00:00\",\"2021-06-30T00:00:00\",\"2021-09-30T00:00:00\",\"2021-12-31T00:00:00\",\"2022-03-31T00:00:00\",\"2022-06-30T00:00:00\",\"2022-09-30T00:00:00\",\"2022-12-31T00:00:00\",\"2023-03-31T00:00:00\",\"2023-06-30T00:00:00\"],\"y\":[1363.1200846719955,1547.816637929358,1946.4200812110669,2053.250070857676,2309.8603410394835,2701.169890897,3192.263190237488,3610.6140583423266,4061.865451484195,4436.606648471804,6276.963823643519,7490.2589662440705,8530.0562753475,11094.505106126513,13218.631943686387,16661.687945360183,18030.94527901993,21688.630625900398,27252.599922081314,34145.35418941364,40589.69901355052,61134.84610968059,59028.61300587328,71531.80716400471,84987.71185111036,93977.47649298521,131133.093992609,135947.4155850148,179016.7881209984,209025.5053891723,317902.72530604556,437199.4903738371,481656.64044751215,532501.8547534312,704081.6379399997,1078904.6723409735,1066281.0238081506,1098336.6400741523,1263237.3396915114,1500996.4331097852,1836262.3087221985,2009072.6754321952],\"type\":\"scatter\"}],                        {\"template\":{\"data\":{\"barpolar\":[{\"marker\":{\"line\":{\"color\":\"#E5ECF6\",\"width\":0.5},\"pattern\":{\"fillmode\":\"overlay\",\"size\":10,\"solidity\":0.2}},\"type\":\"barpolar\"}],\"bar\":[{\"error_x\":{\"color\":\"#2a3f5f\"},\"error_y\":{\"color\":\"#2a3f5f\"},\"marker\":{\"line\":{\"color\":\"#E5ECF6\",\"width\":0.5},\"pattern\":{\"fillmode\":\"overlay\",\"size\":10,\"solidity\":0.2}},\"type\":\"bar\"}],\"carpet\":[{\"aaxis\":{\"endlinecolor\":\"#2a3f5f\",\"gridcolor\":\"white\",\"linecolor\":\"white\",\"minorgridcolor\":\"white\",\"startlinecolor\":\"#2a3f5f\"},\"baxis\":{\"endlinecolor\":\"#2a3f5f\",\"gridcolor\":\"white\",\"linecolor\":\"white\",\"minorgridcolor\":\"white\",\"startlinecolor\":\"#2a3f5f\"},\"type\":\"carpet\"}],\"choropleth\":[{\"colorbar\":{\"outlinewidth\":0,\"ticks\":\"\"},\"type\":\"choropleth\"}],\"contourcarpet\":[{\"colorbar\":{\"outlinewidth\":0,\"ticks\":\"\"},\"type\":\"contourcarpet\"}],\"contour\":[{\"colorbar\":{\"outlinewidth\":0,\"ticks\":\"\"},\"colorscale\":[[0.0,\"#0d0887\"],[0.1111111111111111,\"#46039f\"],[0.2222222222222222,\"#7201a8\"],[0.3333333333333333,\"#9c179e\"],[0.4444444444444444,\"#bd3786\"],[0.5555555555555556,\"#d8576b\"],[0.6666666666666666,\"#ed7953\"],[0.7777777777777778,\"#fb9f3a\"],[0.8888888888888888,\"#fdca26\"],[1.0,\"#f0f921\"]],\"type\":\"contour\"}],\"heatmapgl\":[{\"colorbar\":{\"outlinewidth\":0,\"ticks\":\"\"},\"colorscale\":[[0.0,\"#0d0887\"],[0.1111111111111111,\"#46039f\"],[0.2222222222222222,\"#7201a8\"],[0.3333333333333333,\"#9c179e\"],[0.4444444444444444,\"#bd3786\"],[0.5555555555555556,\"#d8576b\"],[0.6666666666666666,\"#ed7953\"],[0.7777777777777778,\"#fb9f3a\"],[0.8888888888888888,\"#fdca26\"],[1.0,\"#f0f921\"]],\"type\":\"heatmapgl\"}],\"heatmap\":[{\"colorbar\":{\"outlinewidth\":0,\"ticks\":\"\"},\"colorscale\":[[0.0,\"#0d0887\"],[0.1111111111111111,\"#46039f\"],[0.2222222222222222,\"#7201a8\"],[0.3333333333333333,\"#9c179e\"],[0.4444444444444444,\"#bd3786\"],[0.5555555555555556,\"#d8576b\"],[0.6666666666666666,\"#ed7953\"],[0.7777777777777778,\"#fb9f3a\"],[0.8888888888888888,\"#fdca26\"],[1.0,\"#f0f921\"]],\"type\":\"heatmap\"}],\"histogram2dcontour\":[{\"colorbar\":{\"outlinewidth\":0,\"ticks\":\"\"},\"colorscale\":[[0.0,\"#0d0887\"],[0.1111111111111111,\"#46039f\"],[0.2222222222222222,\"#7201a8\"],[0.3333333333333333,\"#9c179e\"],[0.4444444444444444,\"#bd3786\"],[0.5555555555555556,\"#d8576b\"],[0.6666666666666666,\"#ed7953\"],[0.7777777777777778,\"#fb9f3a\"],[0.8888888888888888,\"#fdca26\"],[1.0,\"#f0f921\"]],\"type\":\"histogram2dcontour\"}],\"histogram2d\":[{\"colorbar\":{\"outlinewidth\":0,\"ticks\":\"\"},\"colorscale\":[[0.0,\"#0d0887\"],[0.1111111111111111,\"#46039f\"],[0.2222222222222222,\"#7201a8\"],[0.3333333333333333,\"#9c179e\"],[0.4444444444444444,\"#bd3786\"],[0.5555555555555556,\"#d8576b\"],[0.6666666666666666,\"#ed7953\"],[0.7777777777777778,\"#fb9f3a\"],[0.8888888888888888,\"#fdca26\"],[1.0,\"#f0f921\"]],\"type\":\"histogram2d\"}],\"histogram\":[{\"marker\":{\"pattern\":{\"fillmode\":\"overlay\",\"size\":10,\"solidity\":0.2}},\"type\":\"histogram\"}],\"mesh3d\":[{\"colorbar\":{\"outlinewidth\":0,\"ticks\":\"\"},\"type\":\"mesh3d\"}],\"parcoords\":[{\"line\":{\"colorbar\":{\"outlinewidth\":0,\"ticks\":\"\"}},\"type\":\"parcoords\"}],\"pie\":[{\"automargin\":true,\"type\":\"pie\"}],\"scatter3d\":[{\"line\":{\"colorbar\":{\"outlinewidth\":0,\"ticks\":\"\"}},\"marker\":{\"colorbar\":{\"outlinewidth\":0,\"ticks\":\"\"}},\"type\":\"scatter3d\"}],\"scattercarpet\":[{\"marker\":{\"colorbar\":{\"outlinewidth\":0,\"ticks\":\"\"}},\"type\":\"scattercarpet\"}],\"scattergeo\":[{\"marker\":{\"colorbar\":{\"outlinewidth\":0,\"ticks\":\"\"}},\"type\":\"scattergeo\"}],\"scattergl\":[{\"marker\":{\"colorbar\":{\"outlinewidth\":0,\"ticks\":\"\"}},\"type\":\"scattergl\"}],\"scattermapbox\":[{\"marker\":{\"colorbar\":{\"outlinewidth\":0,\"ticks\":\"\"}},\"type\":\"scattermapbox\"}],\"scatterpolargl\":[{\"marker\":{\"colorbar\":{\"outlinewidth\":0,\"ticks\":\"\"}},\"type\":\"scatterpolargl\"}],\"scatterpolar\":[{\"marker\":{\"colorbar\":{\"outlinewidth\":0,\"ticks\":\"\"}},\"type\":\"scatterpolar\"}],\"scatter\":[{\"fillpattern\":{\"fillmode\":\"overlay\",\"size\":10,\"solidity\":0.2},\"type\":\"scatter\"}],\"scatterternary\":[{\"marker\":{\"colorbar\":{\"outlinewidth\":0,\"ticks\":\"\"}},\"type\":\"scatterternary\"}],\"surface\":[{\"colorbar\":{\"outlinewidth\":0,\"ticks\":\"\"},\"colorscale\":[[0.0,\"#0d0887\"],[0.1111111111111111,\"#46039f\"],[0.2222222222222222,\"#7201a8\"],[0.3333333333333333,\"#9c179e\"],[0.4444444444444444,\"#bd3786\"],[0.5555555555555556,\"#d8576b\"],[0.6666666666666666,\"#ed7953\"],[0.7777777777777778,\"#fb9f3a\"],[0.8888888888888888,\"#fdca26\"],[1.0,\"#f0f921\"]],\"type\":\"surface\"}],\"table\":[{\"cells\":{\"fill\":{\"color\":\"#EBF0F8\"},\"line\":{\"color\":\"white\"}},\"header\":{\"fill\":{\"color\":\"#C8D4E3\"},\"line\":{\"color\":\"white\"}},\"type\":\"table\"}]},\"layout\":{\"annotationdefaults\":{\"arrowcolor\":\"#2a3f5f\",\"arrowhead\":0,\"arrowwidth\":1},\"autotypenumbers\":\"strict\",\"coloraxis\":{\"colorbar\":{\"outlinewidth\":0,\"ticks\":\"\"}},\"colorscale\":{\"diverging\":[[0,\"#8e0152\"],[0.1,\"#c51b7d\"],[0.2,\"#de77ae\"],[0.3,\"#f1b6da\"],[0.4,\"#fde0ef\"],[0.5,\"#f7f7f7\"],[0.6,\"#e6f5d0\"],[0.7,\"#b8e186\"],[0.8,\"#7fbc41\"],[0.9,\"#4d9221\"],[1,\"#276419\"]],\"sequential\":[[0.0,\"#0d0887\"],[0.1111111111111111,\"#46039f\"],[0.2222222222222222,\"#7201a8\"],[0.3333333333333333,\"#9c179e\"],[0.4444444444444444,\"#bd3786\"],[0.5555555555555556,\"#d8576b\"],[0.6666666666666666,\"#ed7953\"],[0.7777777777777778,\"#fb9f3a\"],[0.8888888888888888,\"#fdca26\"],[1.0,\"#f0f921\"]],\"sequentialminus\":[[0.0,\"#0d0887\"],[0.1111111111111111,\"#46039f\"],[0.2222222222222222,\"#7201a8\"],[0.3333333333333333,\"#9c179e\"],[0.4444444444444444,\"#bd3786\"],[0.5555555555555556,\"#d8576b\"],[0.6666666666666666,\"#ed7953\"],[0.7777777777777778,\"#fb9f3a\"],[0.8888888888888888,\"#fdca26\"],[1.0,\"#f0f921\"]]},\"colorway\":[\"#636efa\",\"#EF553B\",\"#00cc96\",\"#ab63fa\",\"#FFA15A\",\"#19d3f3\",\"#FF6692\",\"#B6E880\",\"#FF97FF\",\"#FECB52\"],\"font\":{\"color\":\"#2a3f5f\"},\"geo\":{\"bgcolor\":\"white\",\"lakecolor\":\"white\",\"landcolor\":\"#E5ECF6\",\"showlakes\":true,\"showland\":true,\"subunitcolor\":\"white\"},\"hoverlabel\":{\"align\":\"left\"},\"hovermode\":\"closest\",\"mapbox\":{\"style\":\"light\"},\"paper_bgcolor\":\"rgba(0,0,0,0)\",\"plot_bgcolor\":\"rgba(250,250,250,0.8)\",\"polar\":{\"angularaxis\":{\"gridcolor\":\"white\",\"linecolor\":\"white\",\"ticks\":\"\"},\"bgcolor\":\"#E5ECF6\",\"radialaxis\":{\"gridcolor\":\"white\",\"linecolor\":\"white\",\"ticks\":\"\"}},\"scene\":{\"xaxis\":{\"backgroundcolor\":\"#E5ECF6\",\"gridcolor\":\"white\",\"gridwidth\":2,\"linecolor\":\"white\",\"showbackground\":true,\"ticks\":\"\",\"zerolinecolor\":\"white\"},\"yaxis\":{\"backgroundcolor\":\"#E5ECF6\",\"gridcolor\":\"white\",\"gridwidth\":2,\"linecolor\":\"white\",\"showbackground\":true,\"ticks\":\"\",\"zerolinecolor\":\"white\"},\"zaxis\":{\"backgroundcolor\":\"#E5ECF6\",\"gridcolor\":\"white\",\"gridwidth\":2,\"linecolor\":\"white\",\"showbackground\":true,\"ticks\":\"\",\"zerolinecolor\":\"white\"}},\"shapedefaults\":{\"line\":{\"color\":\"#2a3f5f\"}},\"ternary\":{\"aaxis\":{\"gridcolor\":\"white\",\"linecolor\":\"white\",\"ticks\":\"\"},\"baxis\":{\"gridcolor\":\"white\",\"linecolor\":\"white\",\"ticks\":\"\"},\"bgcolor\":\"#E5ECF6\",\"caxis\":{\"gridcolor\":\"white\",\"linecolor\":\"white\",\"ticks\":\"\"}},\"title\":{\"x\":0.05},\"xaxis\":{\"automargin\":true,\"gridcolor\":\"white\",\"linecolor\":\"white\",\"ticks\":\"\",\"title\":{\"standoff\":15},\"zerolinecolor\":\"white\",\"zerolinewidth\":2},\"yaxis\":{\"automargin\":true,\"gridcolor\":\"white\",\"linecolor\":\"white\",\"ticks\":\"\",\"title\":{\"standoff\":15},\"zerolinecolor\":\"white\",\"zerolinewidth\":2}}},\"title\":{\"text\":\"Portfolio Value Over Time ($1,000 Investment)\"},\"xaxis\":{\"title\":{\"text\":\"Date\"}},\"yaxis\":{\"title\":{\"text\":\"Portfolio Value ($)\"}}},                        {\"responsive\": true}                    ).then(function(){\n",
       "                            \n",
       "var gd = document.getElementById('46191288-cceb-432f-b52e-fbfbb5faf815');\n",
       "var x = new MutationObserver(function (mutations, observer) {{\n",
       "        var display = window.getComputedStyle(gd).display;\n",
       "        if (!display || display === 'none') {{\n",
       "            console.log([gd, 'removed!']);\n",
       "            Plotly.purge(gd);\n",
       "            observer.disconnect();\n",
       "        }}\n",
       "}});\n",
       "\n",
       "// Listen for the removal of the full notebook cells\n",
       "var notebookContainer = gd.closest('#notebook-container');\n",
       "if (notebookContainer) {{\n",
       "    x.observe(notebookContainer, {childList: true});\n",
       "}}\n",
       "\n",
       "// Listen for the clearing of the current output cell\n",
       "var outputEl = gd.closest('.output');\n",
       "if (outputEl) {{\n",
       "    x.observe(outputEl, {childList: true});\n",
       "}}\n",
       "\n",
       "                        })                };                });            </script>        </div>"
      ]
     },
     "metadata": {},
     "output_type": "display_data"
    }
   ],
   "source": [
    "import plotly.graph_objects as go\n",
    "\n",
    "# Assuming you have a dataframe 'df_avg' with columns 'datadate', 'baseline_portfolio', and 'top_10'\n",
    "\n",
    "# Calculate the cumulative return for both portfolios\n",
    "df_avg['baseline_cum_return'] = (1 + df_avg['baseline']).cumprod()\n",
    "df_avg['top_10_cum_return'] = (1 + df_avg['top_10']).cumprod()\n",
    "\n",
    "# Calculate the value over time of a $1,000 investment\n",
    "initial_investment = 1000\n",
    "df_avg['baseline_value'] = initial_investment * df_avg['baseline_cum_return']\n",
    "df_avg['top_10_value'] = initial_investment * df_avg['top_10_cum_return']\n",
    "\n",
    "# Create the plot\n",
    "fig = go.Figure()\n",
    "\n",
    "# Add baseline portfolio trace\n",
    "fig.add_trace(go.Scatter(x=df_avg['datadate'], y=df_avg['baseline_value'],\n",
    "                         mode='lines', name='Baseline Portfolio'))\n",
    "\n",
    "# Add top_10 portfolio trace\n",
    "fig.add_trace(go.Scatter(x=df_avg['datadate'], y=df_avg['top_10_value'],\n",
    "                         mode='lines', name='Top 10 Portfolio'))\n",
    "\n",
    "# Update the layout\n",
    "fig.update_layout(\n",
    "    title='Portfolio Value Over Time ($1,000 Investment)',\n",
    "    xaxis_title='Date',\n",
    "    yaxis_title='Portfolio Value ($)',\n",
    ")\n",
    "\n",
    "# Show the plot\n",
    "fig.show()\n"
   ]
  },
  {
   "cell_type": "code",
   "execution_count": 551,
   "metadata": {},
   "outputs": [
    {
     "data": {
      "text/html": [
       "<div>\n",
       "<style scoped>\n",
       "    .dataframe tbody tr th:only-of-type {\n",
       "        vertical-align: middle;\n",
       "    }\n",
       "\n",
       "    .dataframe tbody tr th {\n",
       "        vertical-align: top;\n",
       "    }\n",
       "\n",
       "    .dataframe thead th {\n",
       "        text-align: right;\n",
       "    }\n",
       "</style>\n",
       "<table border=\"1\" class=\"dataframe\">\n",
       "  <thead>\n",
       "    <tr style=\"text-align: right;\">\n",
       "      <th></th>\n",
       "      <th>ptb_change</th>\n",
       "      <th>relative_quarterly_return</th>\n",
       "      <th>divyield_change</th>\n",
       "      <th>pe_inc_change</th>\n",
       "      <th>evm_change</th>\n",
       "    </tr>\n",
       "  </thead>\n",
       "  <tbody>\n",
       "    <tr>\n",
       "      <th>0</th>\n",
       "      <td>0.022231</td>\n",
       "      <td>0.117021</td>\n",
       "      <td>0.166364</td>\n",
       "      <td>0.548851</td>\n",
       "      <td>0.505650</td>\n",
       "    </tr>\n",
       "    <tr>\n",
       "      <th>1</th>\n",
       "      <td>0.029147</td>\n",
       "      <td>0.112010</td>\n",
       "      <td>0.128508</td>\n",
       "      <td>0.549597</td>\n",
       "      <td>0.505401</td>\n",
       "    </tr>\n",
       "    <tr>\n",
       "      <th>2</th>\n",
       "      <td>0.027439</td>\n",
       "      <td>0.142569</td>\n",
       "      <td>0.136216</td>\n",
       "      <td>0.550186</td>\n",
       "      <td>0.508806</td>\n",
       "    </tr>\n",
       "    <tr>\n",
       "      <th>3</th>\n",
       "      <td>0.024716</td>\n",
       "      <td>0.141245</td>\n",
       "      <td>0.149920</td>\n",
       "      <td>0.549042</td>\n",
       "      <td>0.505650</td>\n",
       "    </tr>\n",
       "    <tr>\n",
       "      <th>4</th>\n",
       "      <td>0.024131</td>\n",
       "      <td>0.125743</td>\n",
       "      <td>0.153609</td>\n",
       "      <td>0.545904</td>\n",
       "      <td>0.505650</td>\n",
       "    </tr>\n",
       "  </tbody>\n",
       "</table>\n",
       "</div>"
      ],
      "text/plain": [
       "   ptb_change  relative_quarterly_return  divyield_change  pe_inc_change  \\\n",
       "0    0.022231                   0.117021         0.166364       0.548851   \n",
       "1    0.029147                   0.112010         0.128508       0.549597   \n",
       "2    0.027439                   0.142569         0.136216       0.550186   \n",
       "3    0.024716                   0.141245         0.149920       0.549042   \n",
       "4    0.024131                   0.125743         0.153609       0.545904   \n",
       "\n",
       "   evm_change  \n",
       "0    0.505650  \n",
       "1    0.505401  \n",
       "2    0.508806  \n",
       "3    0.505650  \n",
       "4    0.505650  "
      ]
     },
     "execution_count": 551,
     "metadata": {},
     "output_type": "execute_result"
    }
   ],
   "source": [
    "train_df = train_df[important_features + ['next_relative_quarterly_return']]\n",
    "valid_df = valid_df[important_features + ['next_relative_quarterly_return']]\n",
    "test_df  = test_df[important_features + ['next_relative_quarterly_return']]\n",
    "\n",
    "y_train = train_df['next_relative_quarterly_return'].copy()\n",
    "X_train = train_df.drop(['next_relative_quarterly_return'], 1)\n",
    "\n",
    "y_valid = valid_df['next_relative_quarterly_return'].copy()\n",
    "X_valid = valid_df.drop(['next_relative_quarterly_return'], 1)\n",
    "\n",
    "y_test  = test_df['next_relative_quarterly_return'].copy()\n",
    "X_test  = test_df.drop(['next_relative_quarterly_return'], 1)\n",
    "\n",
    "# Scaling\n",
    "scaler = MinMaxScaler()\n",
    "\n",
    "# Fit the scaler on the training/validation data\n",
    "X_train_scaled = scaler.fit_transform(X_train)\n",
    "\n",
    "# Now apply the same scaling to the val/test data using the already fitted scaler\n",
    "X_valid_scaled = scaler.transform(X_valid)\n",
    "X_test_scaled = scaler.transform(X_test)\n",
    "\n",
    "# Convert the scaled data back to DataFrame for consistency\n",
    "X_train_scaled = pd.DataFrame(X_train_scaled, columns=X_train.columns)\n",
    "X_valid_scaled = pd.DataFrame(X_valid_scaled, columns=X_valid.columns)\n",
    "X_test_scaled = pd.DataFrame(X_test_scaled, columns=X_test.columns)\n",
    "\n",
    "X_train_scaled.head()"
   ]
  },
  {
   "cell_type": "code",
   "execution_count": 552,
   "metadata": {},
   "outputs": [
    {
     "data": {
      "text/plain": [
       "XGBRegressor(base_score=None, booster=None, callbacks=None,\n",
       "             colsample_bylevel=None, colsample_bynode=None,\n",
       "             colsample_bytree=None, device=None, early_stopping_rounds=None,\n",
       "             enable_categorical=False, eval_metric=None, feature_types=None,\n",
       "             gamma=0.1, grow_policy=None, importance_type=None,\n",
       "             interaction_constraints=None, learning_rate=0.1, max_bin=None,\n",
       "             max_cat_threshold=None, max_cat_to_onehot=None,\n",
       "             max_delta_step=None, max_depth=8, max_leaves=None,\n",
       "             min_child_weight=None, missing=nan, monotone_constraints=None,\n",
       "             multi_strategy=None, n_estimators=300, n_jobs=None,\n",
       "             num_parallel_tree=None, random_state=42, ...)"
      ]
     },
     "execution_count": 552,
     "metadata": {},
     "output_type": "execute_result"
    }
   ],
   "source": [
    "params = {\n",
    "    'objective': 'reg:squarederror',\n",
    "    'max_depth': 8,\n",
    "    'learning_rate': 0.1,\n",
    "    'n_estimators': 300,\n",
    "    'gamma': 0.1,\n",
    "    'random_state': 42\n",
    "}\n",
    "eval_set = [(X_train_scaled, y_train), (X_valid_scaled, y_valid)]\n",
    "model = xgb.XGBRegressor(**params)\n",
    "model.fit(X_train_scaled, y_train, eval_set=eval_set, verbose=False)"
   ]
  },
  {
   "cell_type": "code",
   "execution_count": 553,
   "metadata": {},
   "outputs": [
    {
     "name": "stdout",
     "output_type": "stream",
     "text": [
      "[ 0.49604607  0.20148762  0.25936222 ... -0.01148643  0.01150399\n",
      " -0.01914257]\n",
      "              precision    recall  f1-score   support\n",
      "\n",
      "           0       0.73      0.60      0.66      1373\n",
      "           1       0.65      0.78      0.71      1349\n",
      "\n",
      "    accuracy                           0.69      2722\n",
      "   macro avg       0.69      0.69      0.68      2722\n",
      "weighted avg       0.69      0.69      0.68      2722\n",
      "\n"
     ]
    }
   ],
   "source": [
    "# Predictions\n",
    "y_train_pred = model.predict(X_train_scaled)\n",
    "y_valid_pred = model.predict(X_valid_scaled)\n",
    "y_test_pred = model.predict(X_test_scaled)\n",
    "\n",
    "# Classifier\n",
    "y_train_pred_binary = (y_train_pred >= 0).astype(int)\n",
    "y_valid_pred_binary = (y_valid_pred >= 0).astype(int)\n",
    "y_test_pred_binary = (y_test_pred >= 0).astype(int)\n",
    "\n",
    "y_train_binary = (y_train >= 0).astype(int)\n",
    "y_valid_binary = (y_valid >= 0).astype(int)\n",
    "y_test_binary = (y_test >= 0).astype(int)\n",
    "\n",
    "print(y_test_pred)\n",
    "\n",
    "print(classification_report(y_test_binary, y_test_pred_binary))\n"
   ]
  },
  {
   "cell_type": "code",
   "execution_count": 554,
   "metadata": {},
   "outputs": [
    {
     "data": {
      "text/html": [
       "<div>\n",
       "<style scoped>\n",
       "    .dataframe tbody tr th:only-of-type {\n",
       "        vertical-align: middle;\n",
       "    }\n",
       "\n",
       "    .dataframe tbody tr th {\n",
       "        vertical-align: top;\n",
       "    }\n",
       "\n",
       "    .dataframe thead th {\n",
       "        text-align: right;\n",
       "    }\n",
       "</style>\n",
       "<table border=\"1\" class=\"dataframe\">\n",
       "  <thead>\n",
       "    <tr style=\"text-align: right;\">\n",
       "      <th></th>\n",
       "      <th>datadate</th>\n",
       "      <th>tic</th>\n",
       "      <th>next_prccq_change</th>\n",
       "      <th>next_relative_quarterly_return</th>\n",
       "      <th>y_pred</th>\n",
       "      <th>y_pred_import</th>\n",
       "    </tr>\n",
       "  </thead>\n",
       "  <tbody>\n",
       "    <tr>\n",
       "      <th>1253</th>\n",
       "      <td>2013-03-31</td>\n",
       "      <td>AMD</td>\n",
       "      <td>0.600000</td>\n",
       "      <td>0.566207</td>\n",
       "      <td>0.440041</td>\n",
       "      <td>0.496046</td>\n",
       "    </tr>\n",
       "    <tr>\n",
       "      <th>11978</th>\n",
       "      <td>2013-03-31</td>\n",
       "      <td>REGN</td>\n",
       "      <td>0.274808</td>\n",
       "      <td>0.241016</td>\n",
       "      <td>0.323005</td>\n",
       "      <td>0.259362</td>\n",
       "    </tr>\n",
       "    <tr>\n",
       "      <th>13004</th>\n",
       "      <td>2013-03-31</td>\n",
       "      <td>STZ</td>\n",
       "      <td>0.198237</td>\n",
       "      <td>0.121613</td>\n",
       "      <td>0.236625</td>\n",
       "      <td>0.229056</td>\n",
       "    </tr>\n",
       "    <tr>\n",
       "      <th>10200</th>\n",
       "      <td>2013-03-31</td>\n",
       "      <td>NFLX</td>\n",
       "      <td>0.115226</td>\n",
       "      <td>0.081433</td>\n",
       "      <td>0.159093</td>\n",
       "      <td>-0.073912</td>\n",
       "    </tr>\n",
       "    <tr>\n",
       "      <th>8319</th>\n",
       "      <td>2013-03-31</td>\n",
       "      <td>LMT</td>\n",
       "      <td>0.123705</td>\n",
       "      <td>0.089912</td>\n",
       "      <td>0.153238</td>\n",
       "      <td>0.108578</td>\n",
       "    </tr>\n",
       "  </tbody>\n",
       "</table>\n",
       "</div>"
      ],
      "text/plain": [
       "        datadate   tic  next_prccq_change  next_relative_quarterly_return  \\\n",
       "1253  2013-03-31   AMD           0.600000                        0.566207   \n",
       "11978 2013-03-31  REGN           0.274808                        0.241016   \n",
       "13004 2013-03-31   STZ           0.198237                        0.121613   \n",
       "10200 2013-03-31  NFLX           0.115226                        0.081433   \n",
       "8319  2013-03-31   LMT           0.123705                        0.089912   \n",
       "\n",
       "         y_pred  y_pred_import  \n",
       "1253   0.440041       0.496046  \n",
       "11978  0.323005       0.259362  \n",
       "13004  0.236625       0.229056  \n",
       "10200  0.159093      -0.073912  \n",
       "8319   0.153238       0.108578  "
      ]
     },
     "execution_count": 554,
     "metadata": {},
     "output_type": "execute_result"
    }
   ],
   "source": [
    "results['y_pred_import'] = y_test_pred\n",
    "results = results.sort_values(by=['datadate', 'y_pred'], ascending=[True, False])\n",
    "\n",
    "results.head(5)"
   ]
  },
  {
   "cell_type": "code",
   "execution_count": 555,
   "metadata": {},
   "outputs": [
    {
     "data": {
      "text/html": [
       "<div>\n",
       "<style scoped>\n",
       "    .dataframe tbody tr th:only-of-type {\n",
       "        vertical-align: middle;\n",
       "    }\n",
       "\n",
       "    .dataframe tbody tr th {\n",
       "        vertical-align: top;\n",
       "    }\n",
       "\n",
       "    .dataframe thead th {\n",
       "        text-align: right;\n",
       "    }\n",
       "</style>\n",
       "<table border=\"1\" class=\"dataframe\">\n",
       "  <thead>\n",
       "    <tr style=\"text-align: right;\">\n",
       "      <th></th>\n",
       "      <th>datadate</th>\n",
       "      <th>stocks</th>\n",
       "      <th>baseline</th>\n",
       "      <th>top_10</th>\n",
       "      <th>top_10_ideal</th>\n",
       "      <th>bottom_10</th>\n",
       "      <th>bottom_10_ideal</th>\n",
       "      <th>baseline_cum_return</th>\n",
       "      <th>top_10_cum_return</th>\n",
       "      <th>baseline_value</th>\n",
       "      <th>top_10_value</th>\n",
       "      <th>top_10_import</th>\n",
       "      <th>bottom_10_import</th>\n",
       "    </tr>\n",
       "  </thead>\n",
       "  <tbody>\n",
       "    <tr>\n",
       "      <th>0</th>\n",
       "      <td>2013-03-31</td>\n",
       "      <td>63</td>\n",
       "      <td>0.065437</td>\n",
       "      <td>0.363120</td>\n",
       "      <td>0.421077</td>\n",
       "      <td>-0.017599</td>\n",
       "      <td>-0.124256</td>\n",
       "      <td>1.065437</td>\n",
       "      <td>1.363120</td>\n",
       "      <td>1065.437196</td>\n",
       "      <td>1363.120085</td>\n",
       "      <td>0.390619</td>\n",
       "      <td>0.032750</td>\n",
       "    </tr>\n",
       "    <tr>\n",
       "      <th>1</th>\n",
       "      <td>2013-06-30</td>\n",
       "      <td>64</td>\n",
       "      <td>0.059808</td>\n",
       "      <td>0.135495</td>\n",
       "      <td>0.354006</td>\n",
       "      <td>-0.051917</td>\n",
       "      <td>-0.093581</td>\n",
       "      <td>1.129159</td>\n",
       "      <td>1.547817</td>\n",
       "      <td>1129.158556</td>\n",
       "      <td>1547.816638</td>\n",
       "      <td>0.136545</td>\n",
       "      <td>-0.062104</td>\n",
       "    </tr>\n",
       "    <tr>\n",
       "      <th>2</th>\n",
       "      <td>2013-09-30</td>\n",
       "      <td>66</td>\n",
       "      <td>0.110123</td>\n",
       "      <td>0.257526</td>\n",
       "      <td>0.412804</td>\n",
       "      <td>-0.066567</td>\n",
       "      <td>-0.106066</td>\n",
       "      <td>1.253505</td>\n",
       "      <td>1.946420</td>\n",
       "      <td>1253.504932</td>\n",
       "      <td>1946.420081</td>\n",
       "      <td>0.224191</td>\n",
       "      <td>-0.036317</td>\n",
       "    </tr>\n",
       "    <tr>\n",
       "      <th>3</th>\n",
       "      <td>2013-12-31</td>\n",
       "      <td>66</td>\n",
       "      <td>0.032754</td>\n",
       "      <td>0.054885</td>\n",
       "      <td>0.256265</td>\n",
       "      <td>-0.069344</td>\n",
       "      <td>-0.120828</td>\n",
       "      <td>1.294563</td>\n",
       "      <td>2.053250</td>\n",
       "      <td>1294.562795</td>\n",
       "      <td>2053.250071</td>\n",
       "      <td>0.134232</td>\n",
       "      <td>-0.066309</td>\n",
       "    </tr>\n",
       "    <tr>\n",
       "      <th>4</th>\n",
       "      <td>2014-03-31</td>\n",
       "      <td>66</td>\n",
       "      <td>0.039382</td>\n",
       "      <td>0.124978</td>\n",
       "      <td>0.215892</td>\n",
       "      <td>0.055244</td>\n",
       "      <td>-0.098166</td>\n",
       "      <td>1.345545</td>\n",
       "      <td>2.309860</td>\n",
       "      <td>1345.544908</td>\n",
       "      <td>2309.860341</td>\n",
       "      <td>0.090021</td>\n",
       "      <td>0.083753</td>\n",
       "    </tr>\n",
       "    <tr>\n",
       "      <th>5</th>\n",
       "      <td>2014-06-30</td>\n",
       "      <td>67</td>\n",
       "      <td>0.022670</td>\n",
       "      <td>0.169408</td>\n",
       "      <td>0.230542</td>\n",
       "      <td>-0.067449</td>\n",
       "      <td>-0.145873</td>\n",
       "      <td>1.376049</td>\n",
       "      <td>2.701170</td>\n",
       "      <td>1376.048850</td>\n",
       "      <td>2701.169891</td>\n",
       "      <td>0.145642</td>\n",
       "      <td>-0.052598</td>\n",
       "    </tr>\n",
       "    <tr>\n",
       "      <th>6</th>\n",
       "      <td>2014-09-30</td>\n",
       "      <td>65</td>\n",
       "      <td>0.054048</td>\n",
       "      <td>0.181808</td>\n",
       "      <td>0.238110</td>\n",
       "      <td>-0.054880</td>\n",
       "      <td>-0.189307</td>\n",
       "      <td>1.450421</td>\n",
       "      <td>3.192263</td>\n",
       "      <td>1450.420942</td>\n",
       "      <td>3192.263190</td>\n",
       "      <td>0.201162</td>\n",
       "      <td>-0.129466</td>\n",
       "    </tr>\n",
       "    <tr>\n",
       "      <th>7</th>\n",
       "      <td>2014-12-31</td>\n",
       "      <td>64</td>\n",
       "      <td>0.027150</td>\n",
       "      <td>0.131051</td>\n",
       "      <td>0.206037</td>\n",
       "      <td>-0.064309</td>\n",
       "      <td>-0.152242</td>\n",
       "      <td>1.489800</td>\n",
       "      <td>3.610614</td>\n",
       "      <td>1489.799908</td>\n",
       "      <td>3610.614058</td>\n",
       "      <td>0.092458</td>\n",
       "      <td>-0.069410</td>\n",
       "    </tr>\n",
       "    <tr>\n",
       "      <th>8</th>\n",
       "      <td>2015-03-31</td>\n",
       "      <td>65</td>\n",
       "      <td>0.009599</td>\n",
       "      <td>0.124979</td>\n",
       "      <td>0.322730</td>\n",
       "      <td>-0.120439</td>\n",
       "      <td>-0.169087</td>\n",
       "      <td>1.504101</td>\n",
       "      <td>4.061865</td>\n",
       "      <td>1504.100683</td>\n",
       "      <td>4061.865451</td>\n",
       "      <td>0.117659</td>\n",
       "      <td>-0.147248</td>\n",
       "    </tr>\n",
       "    <tr>\n",
       "      <th>9</th>\n",
       "      <td>2015-06-30</td>\n",
       "      <td>63</td>\n",
       "      <td>-0.056546</td>\n",
       "      <td>0.092258</td>\n",
       "      <td>0.143413</td>\n",
       "      <td>-0.239675</td>\n",
       "      <td>-0.309548</td>\n",
       "      <td>1.419049</td>\n",
       "      <td>4.436607</td>\n",
       "      <td>1419.049198</td>\n",
       "      <td>4436.606648</td>\n",
       "      <td>0.097912</td>\n",
       "      <td>-0.215075</td>\n",
       "    </tr>\n",
       "  </tbody>\n",
       "</table>\n",
       "</div>"
      ],
      "text/plain": [
       "    datadate  stocks  baseline    top_10  top_10_ideal  bottom_10  \\\n",
       "0 2013-03-31      63  0.065437  0.363120      0.421077  -0.017599   \n",
       "1 2013-06-30      64  0.059808  0.135495      0.354006  -0.051917   \n",
       "2 2013-09-30      66  0.110123  0.257526      0.412804  -0.066567   \n",
       "3 2013-12-31      66  0.032754  0.054885      0.256265  -0.069344   \n",
       "4 2014-03-31      66  0.039382  0.124978      0.215892   0.055244   \n",
       "5 2014-06-30      67  0.022670  0.169408      0.230542  -0.067449   \n",
       "6 2014-09-30      65  0.054048  0.181808      0.238110  -0.054880   \n",
       "7 2014-12-31      64  0.027150  0.131051      0.206037  -0.064309   \n",
       "8 2015-03-31      65  0.009599  0.124979      0.322730  -0.120439   \n",
       "9 2015-06-30      63 -0.056546  0.092258      0.143413  -0.239675   \n",
       "\n",
       "   bottom_10_ideal  baseline_cum_return  top_10_cum_return  baseline_value  \\\n",
       "0        -0.124256             1.065437           1.363120     1065.437196   \n",
       "1        -0.093581             1.129159           1.547817     1129.158556   \n",
       "2        -0.106066             1.253505           1.946420     1253.504932   \n",
       "3        -0.120828             1.294563           2.053250     1294.562795   \n",
       "4        -0.098166             1.345545           2.309860     1345.544908   \n",
       "5        -0.145873             1.376049           2.701170     1376.048850   \n",
       "6        -0.189307             1.450421           3.192263     1450.420942   \n",
       "7        -0.152242             1.489800           3.610614     1489.799908   \n",
       "8        -0.169087             1.504101           4.061865     1504.100683   \n",
       "9        -0.309548             1.419049           4.436607     1419.049198   \n",
       "\n",
       "   top_10_value  top_10_import  bottom_10_import  \n",
       "0   1363.120085       0.390619          0.032750  \n",
       "1   1547.816638       0.136545         -0.062104  \n",
       "2   1946.420081       0.224191         -0.036317  \n",
       "3   2053.250071       0.134232         -0.066309  \n",
       "4   2309.860341       0.090021          0.083753  \n",
       "5   2701.169891       0.145642         -0.052598  \n",
       "6   3192.263190       0.201162         -0.129466  \n",
       "7   3610.614058       0.092458         -0.069410  \n",
       "8   4061.865451       0.117659         -0.147248  \n",
       "9   4436.606648       0.097912         -0.215075  "
      ]
     },
     "execution_count": 555,
     "metadata": {},
     "output_type": "execute_result"
    }
   ],
   "source": [
    "def softmax_weighted_return(df, sort_col, target_col, n=5, largest=True):\n",
    "    if largest:\n",
    "        selected = df.nlargest(n, sort_col)\n",
    "    else:\n",
    "        selected = df.nsmallest(n, sort_col)\n",
    "    # Compute softmax weights from the predicted scores:\n",
    "    e_scores = np.exp(selected[sort_col])\n",
    "    weights = e_scores / e_scores.sum()\n",
    "    return (selected[target_col] * weights).sum()\n",
    "\n",
    "def exponential_weighted_return(df, sort_col, target_col, n=10, largest=True, alpha=0.5):\n",
    "    if largest:\n",
    "        selected = df.nlargest(n, sort_col)\n",
    "    else:\n",
    "        selected = df.nsmallest(n, sort_col)\n",
    "    selected = selected.sort_values(by=sort_col, ascending=not largest).copy()\n",
    "    selected['rank'] = range(1, len(selected) + 1)\n",
    "    # Exponential weights: weight = exp(-alpha * (rank - 1))\n",
    "    selected['weight'] = np.exp(-alpha * (selected['rank'] - 1))\n",
    "    selected['weight'] /= selected['weight'].sum()  # Normalize weights\n",
    "    return (selected[target_col] * selected['weight']).sum()\n",
    "\n",
    "# For the predicted top 10, weight by predicted returns ('pred_rank_score')\n",
    "df_avg['top_10_import'] = results.groupby('datadate').apply(\n",
    "    lambda group: exponential_weighted_return(\n",
    "        group,\n",
    "        sort_col='y_pred_import',\n",
    "        target_col='next_prccq_change',\n",
    "        largest=True\n",
    "    )\n",
    ").reset_index(level=0, drop=True)\n",
    "\n",
    "# For the predicted bottom 10, weight by predicted returns\n",
    "df_avg['bottom_10_import'] = results.groupby('datadate').apply(\n",
    "    lambda group: exponential_weighted_return(\n",
    "        group,\n",
    "        sort_col='y_pred_import',\n",
    "        target_col='next_prccq_change',\n",
    "        largest=False\n",
    "    )\n",
    ").reset_index(level=0, drop=True)\n",
    "\n",
    "# Display the first 100 rows of the new dataframe\n",
    "df_avg.head(10)\n"
   ]
  },
  {
   "cell_type": "code",
   "execution_count": 556,
   "metadata": {},
   "outputs": [
    {
     "name": "stdout",
     "output_type": "stream",
     "text": [
      "Mean quarterly return of the top_10 portfolio: 0.20581700842274153\n",
      "Sharpe Ratio of the top_10 portfolio: 1.319828079735179\n",
      "\n",
      "Mean quarterly return of the top_10_import portfolio: 0.2000897774134724\n",
      "Sharpe Ratio of the top_10_import portfolio: 1.5004188408005699\n",
      "\n"
     ]
    }
   ],
   "source": [
    "for portfolio in ['top_10', 'top_10_import']:\n",
    "\n",
    "    mean_return = df_avg[portfolio].mean()\n",
    "\n",
    "    # Calculate the standard deviation of the returns of the top 10 portfolio\n",
    "    std_return = df_avg[portfolio].std()\n",
    "\n",
    "    # Assuming the risk-free rate is 0 (if you have a specific risk-free rate, replace 0 with that value)\n",
    "    risk_free_rate = 0.025\n",
    "\n",
    "    # Calculate the Sharpe ratio\n",
    "    sharpe_ratio = (mean_return - risk_free_rate) / std_return\n",
    "\n",
    "    # Print the Sharpe ratio\n",
    "    print(f\"Mean quarterly return of the {portfolio} portfolio: {mean_return}\")\n",
    "    print(f\"Sharpe Ratio of the {portfolio} portfolio: {sharpe_ratio}\")\n",
    "    print(\"\")"
   ]
  }
 ],
 "metadata": {
  "kernelspec": {
   "display_name": "Python 3",
   "language": "python",
   "name": "python3"
  },
  "language_info": {
   "codemirror_mode": {
    "name": "ipython",
    "version": 3
   },
   "file_extension": ".py",
   "mimetype": "text/x-python",
   "name": "python",
   "nbconvert_exporter": "python",
   "pygments_lexer": "ipython3",
   "version": "3.9.13"
  }
 },
 "nbformat": 4,
 "nbformat_minor": 2
}
