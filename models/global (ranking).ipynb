{
 "cells": [
  {
   "cell_type": "code",
   "execution_count": 3154,
   "metadata": {},
   "outputs": [
    {
     "data": {
      "text/html": [
       "        <script type=\"text/javascript\">\n",
       "        window.PlotlyConfig = {MathJaxConfig: 'local'};\n",
       "        if (window.MathJax && window.MathJax.Hub && window.MathJax.Hub.Config) {window.MathJax.Hub.Config({SVG: {font: \"STIX-Web\"}});}\n",
       "        if (typeof require !== 'undefined') {\n",
       "        require.undef(\"plotly\");\n",
       "        requirejs.config({\n",
       "            paths: {\n",
       "                'plotly': ['https://cdn.plot.ly/plotly-2.12.1.min']\n",
       "            }\n",
       "        });\n",
       "        require(['plotly'], function(Plotly) {\n",
       "            window._Plotly = Plotly;\n",
       "        });\n",
       "        }\n",
       "        </script>\n",
       "        "
      ]
     },
     "metadata": {},
     "output_type": "display_data"
    }
   ],
   "source": [
    "import os\n",
    "import numpy as np\n",
    "import pandas as pd\n",
    "import xgboost as xgb\n",
    "import matplotlib.pyplot as plt\n",
    "from xgboost import plot_importance, plot_tree\n",
    "from sklearn.metrics import mean_squared_error\n",
    "from sklearn.preprocessing import MinMaxScaler, StandardScaler\n",
    "from sklearn.model_selection import train_test_split, GridSearchCV\n",
    "from sklearn.metrics import accuracy_score,classification_report\n",
    "from sklearn.metrics import roc_curve, auc\n",
    "from sklearn.base import BaseEstimator\n",
    "from sklearn.metrics import ndcg_score\n",
    "\n",
    "# Time series decomposition\n",
    "from statsmodels.tsa.seasonal import seasonal_decompose\n",
    "\n",
    "# Chart drawing\n",
    "import plotly as py\n",
    "import plotly.io as pio\n",
    "import plotly.graph_objects as go\n",
    "from plotly.subplots import make_subplots\n",
    "from plotly.offline import download_plotlyjs, init_notebook_mode, plot, iplot\n",
    "\n",
    "# Mute sklearn warnings\n",
    "from warnings import simplefilter\n",
    "simplefilter(action='ignore', category=FutureWarning)\n",
    "simplefilter(action='ignore', category=DeprecationWarning)\n",
    "\n",
    "# Show charts when running kernel\n",
    "init_notebook_mode(connected=True)\n",
    "\n",
    "# Change default background color for all visualizations\n",
    "layout=go.Layout(paper_bgcolor='rgba(0,0,0,0)', plot_bgcolor='rgba(250,250,250,0.8)')\n",
    "fig = go.Figure(layout=layout)\n",
    "templated_fig = pio.to_templated(fig)\n",
    "pio.templates['my_template'] = templated_fig.layout.template\n",
    "pio.templates.default = 'my_template'"
   ]
  },
  {
   "cell_type": "code",
   "execution_count": 3155,
   "metadata": {},
   "outputs": [
    {
     "name": "stdout",
     "output_type": "stream",
     "text": [
      "<class 'pandas.core.frame.DataFrame'>\n",
      "Int64Index: 14322 entries, 1 to 15338\n",
      "Data columns (total 48 columns):\n",
      " #   Column                          Non-Null Count  Dtype         \n",
      "---  ------                          --------------  -----         \n",
      " 0   gvkey                           14322 non-null  int64         \n",
      " 1   datadate                        14322 non-null  datetime64[ns]\n",
      " 2   tic                             14322 non-null  object        \n",
      " 3   actq                            14322 non-null  float64       \n",
      " 4   ancq                            14322 non-null  float64       \n",
      " 5   epsfxq                          14302 non-null  float64       \n",
      " 6   lctq                            14322 non-null  float64       \n",
      " 7   ltq                             14322 non-null  float64       \n",
      " 8   revtq                           14322 non-null  float64       \n",
      " 9   capxy                           13783 non-null  float64       \n",
      " 10  roa                             14289 non-null  float64       \n",
      " 11  roe                             14097 non-null  float64       \n",
      " 12  pe_inc                          13681 non-null  float64       \n",
      " 13  divyield                        11113 non-null  float64       \n",
      " 14  pcf                             14290 non-null  float64       \n",
      " 15  roce                            14187 non-null  float64       \n",
      " 16  debt_ebitda                     14176 non-null  float64       \n",
      " 17  gpm                             14310 non-null  float64       \n",
      " 18  evm                             14243 non-null  float64       \n",
      " 19  cfm                             14037 non-null  float64       \n",
      " 20  npm                             14311 non-null  float64       \n",
      " 21  PEG_trailing                    9837 non-null   float64       \n",
      " 22  de_ratio                        14307 non-null  float64       \n",
      " 23  curr_ratio                      12494 non-null  float64       \n",
      " 24  ptb                             14128 non-null  float64       \n",
      " 25  roa_change                      14318 non-null  float64       \n",
      " 26  roe_change                      14316 non-null  float64       \n",
      " 27  pe_inc_change                   14322 non-null  float64       \n",
      " 28  divyield_change                 14298 non-null  float64       \n",
      " 29  pcf_change                      14322 non-null  float64       \n",
      " 30  roce_change                     14315 non-null  float64       \n",
      " 31  debt_ebitda_change              13908 non-null  float64       \n",
      " 32  gpm_change                      14322 non-null  float64       \n",
      " 33  evm_change                      14322 non-null  float64       \n",
      " 34  cfm_change                      14318 non-null  float64       \n",
      " 35  npm_change                      14309 non-null  float64       \n",
      " 36  PEG_trailing_change             14294 non-null  float64       \n",
      " 37  de_ratio_change                 14322 non-null  float64       \n",
      " 38  curr_ratio_change               14322 non-null  float64       \n",
      " 39  ptb_change                      14322 non-null  float64       \n",
      " 40  relative_quarterly_return       14322 non-null  float64       \n",
      " 41  next_relative_quarterly_return  14321 non-null  float64       \n",
      " 42  spindx                          14322 non-null  float64       \n",
      " 43  spindx_change                   14322 non-null  float64       \n",
      " 44  next_spindx_change              14321 non-null  float64       \n",
      " 45  prccq                           14321 non-null  float64       \n",
      " 46  prccq_change                    14322 non-null  float64       \n",
      " 47  next_prccq_change               14321 non-null  float64       \n",
      "dtypes: datetime64[ns](1), float64(45), int64(1), object(1)\n",
      "memory usage: 5.4+ MB\n"
     ]
    }
   ],
   "source": [
    "file_path = '/Users/edocampione/Desktop/Meng Engineering Science/4YP/scripts/dati_trattati.csv' # cleaned data\n",
    "df = pd.read_csv(file_path)\n",
    "df['datadate'] = pd.to_datetime(df['datadate'])\n",
    "df['datadate'] = df['datadate'] + pd.offsets.QuarterEnd(0)\n",
    "\n",
    "df = df.dropna(subset=['relative_quarterly_return'])\n",
    "\n",
    "df.info()"
   ]
  },
  {
   "cell_type": "code",
   "execution_count": 3156,
   "metadata": {},
   "outputs": [
    {
     "name": "stdout",
     "output_type": "stream",
     "text": [
      "<class 'pandas.core.frame.DataFrame'>\n",
      "Int64Index: 11212 entries, 32 to 15337\n",
      "Data columns (total 43 columns):\n",
      " #   Column                          Non-Null Count  Dtype         \n",
      "---  ------                          --------------  -----         \n",
      " 0   gvkey                           11212 non-null  int64         \n",
      " 1   datadate                        11212 non-null  datetime64[ns]\n",
      " 2   tic                             11212 non-null  object        \n",
      " 3   actq                            11212 non-null  float64       \n",
      " 4   ancq                            11212 non-null  float64       \n",
      " 5   epsfxq                          11212 non-null  float64       \n",
      " 6   lctq                            11212 non-null  float64       \n",
      " 7   ltq                             11212 non-null  float64       \n",
      " 8   revtq                           11212 non-null  float64       \n",
      " 9   roa                             11212 non-null  float64       \n",
      " 10  roe                             11212 non-null  float64       \n",
      " 11  pe_inc                          11212 non-null  float64       \n",
      " 12  pcf                             11212 non-null  float64       \n",
      " 13  roce                            11212 non-null  float64       \n",
      " 14  debt_ebitda                     11212 non-null  float64       \n",
      " 15  gpm                             11212 non-null  float64       \n",
      " 16  evm                             11212 non-null  float64       \n",
      " 17  npm                             11212 non-null  float64       \n",
      " 18  curr_ratio                      11212 non-null  float64       \n",
      " 19  ptb                             11212 non-null  float64       \n",
      " 20  roa_change                      11212 non-null  float64       \n",
      " 21  roe_change                      11212 non-null  float64       \n",
      " 22  pe_inc_change                   11212 non-null  float64       \n",
      " 23  divyield_change                 11212 non-null  float64       \n",
      " 24  pcf_change                      11212 non-null  float64       \n",
      " 25  roce_change                     11212 non-null  float64       \n",
      " 26  debt_ebitda_change              11212 non-null  float64       \n",
      " 27  gpm_change                      11212 non-null  float64       \n",
      " 28  evm_change                      11212 non-null  float64       \n",
      " 29  cfm_change                      11212 non-null  float64       \n",
      " 30  npm_change                      11212 non-null  float64       \n",
      " 31  PEG_trailing_change             11212 non-null  float64       \n",
      " 32  de_ratio_change                 11212 non-null  float64       \n",
      " 33  curr_ratio_change               11212 non-null  float64       \n",
      " 34  ptb_change                      11212 non-null  float64       \n",
      " 35  relative_quarterly_return       11212 non-null  float64       \n",
      " 36  next_relative_quarterly_return  11212 non-null  float64       \n",
      " 37  spindx                          11212 non-null  float64       \n",
      " 38  spindx_change                   11212 non-null  float64       \n",
      " 39  next_spindx_change              11212 non-null  float64       \n",
      " 40  prccq                           11212 non-null  float64       \n",
      " 41  prccq_change                    11212 non-null  float64       \n",
      " 42  next_prccq_change               11212 non-null  float64       \n",
      "dtypes: datetime64[ns](1), float64(40), int64(1), object(1)\n",
      "memory usage: 3.8+ MB\n"
     ]
    }
   ],
   "source": [
    "drop_features = ['capxy', 'cfm', 'PEG_trailing', 'de_ratio', 'divyield']\n",
    "df = df.drop(drop_features, 1)\n",
    "df = df.dropna()\n",
    "df.info()"
   ]
  },
  {
   "cell_type": "code",
   "execution_count": 3157,
   "metadata": {},
   "outputs": [
    {
     "name": "stdout",
     "output_type": "stream",
     "text": [
      "Number of unique gvkeys: 80\n",
      "['AAPL' 'ABT' 'ADBE' 'ADM' 'AMD' 'AMGN' 'AMT' 'AMZN' 'APD' 'BA' 'BAX'\n",
      " 'BMY' 'CAT' 'CL' 'CME' 'COP' 'COST' 'CSCO' 'CTSH' 'CVS' 'CVX' 'DIS' 'ECL'\n",
      " 'EQIX' 'EXC' 'EXPE' 'F' 'FDX' 'FIS' 'GE' 'GOOGL' 'HCA' 'HD' 'IBM' 'INTC'\n",
      " 'JBL' 'JNJ' 'KMB' 'KO' 'LLY' 'LMT' 'LUV' 'MA' 'MCD' 'META' 'MMC' 'MMM'\n",
      " 'MRK' 'MSFT' 'MU' 'NFLX' 'NKE' 'NOC' 'NVDA' 'OXY' 'PFE' 'PG' 'PPL' 'PYPL'\n",
      " 'QCOM' 'REGN' 'RJF' 'RTX' 'SBUX' 'SPGI' 'STZ' 'T' 'TGT' 'TMO' 'TSLA'\n",
      " 'TSN' 'UNH' 'UPS' 'V' 'VZ' 'WBA' 'WDC' 'WMT' 'XOM' 'ZTS']\n"
     ]
    }
   ],
   "source": [
    "# Find the unique number of stocks in the dataframe\n",
    "unique_gvkeys = df['tic'].unique()\n",
    "\n",
    "# Print the result\n",
    "print(f\"Number of unique gvkeys: {len(unique_gvkeys)}\")\n",
    "print(unique_gvkeys)\n"
   ]
  },
  {
   "cell_type": "code",
   "execution_count": 3158,
   "metadata": {},
   "outputs": [
    {
     "name": "stdout",
     "output_type": "stream",
     "text": [
      "Number of unique gvkeys: 80\n",
      "<class 'pandas.core.frame.DataFrame'>\n",
      "Int64Index: 11212 entries, 172 to 3737\n",
      "Data columns (total 43 columns):\n",
      " #   Column                          Non-Null Count  Dtype         \n",
      "---  ------                          --------------  -----         \n",
      " 0   gvkey                           11212 non-null  int64         \n",
      " 1   datadate                        11212 non-null  datetime64[ns]\n",
      " 2   tic                             11212 non-null  object        \n",
      " 3   actq                            11212 non-null  float64       \n",
      " 4   ancq                            11212 non-null  float64       \n",
      " 5   epsfxq                          11212 non-null  float64       \n",
      " 6   lctq                            11212 non-null  float64       \n",
      " 7   ltq                             11212 non-null  float64       \n",
      " 8   revtq                           11212 non-null  float64       \n",
      " 9   roa                             11212 non-null  float64       \n",
      " 10  roe                             11212 non-null  float64       \n",
      " 11  pe_inc                          11212 non-null  float64       \n",
      " 12  pcf                             11212 non-null  float64       \n",
      " 13  roce                            11212 non-null  float64       \n",
      " 14  debt_ebitda                     11212 non-null  float64       \n",
      " 15  gpm                             11212 non-null  float64       \n",
      " 16  evm                             11212 non-null  float64       \n",
      " 17  npm                             11212 non-null  float64       \n",
      " 18  curr_ratio                      11212 non-null  float64       \n",
      " 19  ptb                             11212 non-null  float64       \n",
      " 20  roa_change                      11212 non-null  float64       \n",
      " 21  roe_change                      11212 non-null  float64       \n",
      " 22  pe_inc_change                   11212 non-null  float64       \n",
      " 23  divyield_change                 11212 non-null  float64       \n",
      " 24  pcf_change                      11212 non-null  float64       \n",
      " 25  roce_change                     11212 non-null  float64       \n",
      " 26  debt_ebitda_change              11212 non-null  float64       \n",
      " 27  gpm_change                      11212 non-null  float64       \n",
      " 28  evm_change                      11212 non-null  float64       \n",
      " 29  cfm_change                      11212 non-null  float64       \n",
      " 30  npm_change                      11212 non-null  float64       \n",
      " 31  PEG_trailing_change             11212 non-null  float64       \n",
      " 32  de_ratio_change                 11212 non-null  float64       \n",
      " 33  curr_ratio_change               11212 non-null  float64       \n",
      " 34  ptb_change                      11212 non-null  float64       \n",
      " 35  relative_quarterly_return       11212 non-null  float64       \n",
      " 36  next_relative_quarterly_return  11212 non-null  float64       \n",
      " 37  spindx                          11212 non-null  float64       \n",
      " 38  spindx_change                   11212 non-null  float64       \n",
      " 39  next_spindx_change              11212 non-null  float64       \n",
      " 40  prccq                           11212 non-null  float64       \n",
      " 41  prccq_change                    11212 non-null  float64       \n",
      " 42  next_prccq_change               11212 non-null  float64       \n",
      "dtypes: datetime64[ns](1), float64(40), int64(1), object(1)\n",
      "memory usage: 3.8+ MB\n"
     ]
    }
   ],
   "source": [
    "df = df.dropna()\n",
    "df = df.sort_values(by=['datadate'])\n",
    "\n",
    "unique_gvkeys = df['tic'].unique()\n",
    "\n",
    "# Print the result\n",
    "print(f\"Number of unique gvkeys: {len(unique_gvkeys)}\")\n",
    "\n",
    "df.info()"
   ]
  },
  {
   "cell_type": "code",
   "execution_count": 3159,
   "metadata": {},
   "outputs": [],
   "source": [
    "tickers_to_drop = ['AMT', 'CTSH', 'GOOGL', 'META', 'PYPL', 'RJF', 'TSLA', 'ZTS']\n",
    "\n",
    "df = df[~df['tic'].isin(tickers_to_drop)]\n",
    "df = df.sort_values(by=['datadate'])"
   ]
  },
  {
   "cell_type": "code",
   "execution_count": 3160,
   "metadata": {},
   "outputs": [
    {
     "data": {
      "text/html": [
       "<div>\n",
       "<style scoped>\n",
       "    .dataframe tbody tr th:only-of-type {\n",
       "        vertical-align: middle;\n",
       "    }\n",
       "\n",
       "    .dataframe tbody tr th {\n",
       "        vertical-align: top;\n",
       "    }\n",
       "\n",
       "    .dataframe thead th {\n",
       "        text-align: right;\n",
       "    }\n",
       "</style>\n",
       "<table border=\"1\" class=\"dataframe\">\n",
       "  <thead>\n",
       "    <tr style=\"text-align: right;\">\n",
       "      <th></th>\n",
       "      <th>gvkey</th>\n",
       "      <th>datadate</th>\n",
       "      <th>tic</th>\n",
       "      <th>actq</th>\n",
       "      <th>ancq</th>\n",
       "      <th>epsfxq</th>\n",
       "      <th>lctq</th>\n",
       "      <th>ltq</th>\n",
       "      <th>revtq</th>\n",
       "      <th>roa</th>\n",
       "      <th>...</th>\n",
       "      <th>curr_ratio_change</th>\n",
       "      <th>ptb_change</th>\n",
       "      <th>relative_quarterly_return</th>\n",
       "      <th>next_relative_quarterly_return</th>\n",
       "      <th>spindx</th>\n",
       "      <th>spindx_change</th>\n",
       "      <th>next_spindx_change</th>\n",
       "      <th>prccq</th>\n",
       "      <th>prccq_change</th>\n",
       "      <th>next_prccq_change</th>\n",
       "    </tr>\n",
       "  </thead>\n",
       "  <tbody>\n",
       "    <tr>\n",
       "      <th>3271</th>\n",
       "      <td>8549</td>\n",
       "      <td>1970-03-31</td>\n",
       "      <td>COP</td>\n",
       "      <td>0.0</td>\n",
       "      <td>0.0</td>\n",
       "      <td>-0.122449</td>\n",
       "      <td>0.0</td>\n",
       "      <td>0.0</td>\n",
       "      <td>-0.024939</td>\n",
       "      <td>0.131</td>\n",
       "      <td>...</td>\n",
       "      <td>0.0</td>\n",
       "      <td>0.074219</td>\n",
       "      <td>-0.004692</td>\n",
       "      <td>0.247488</td>\n",
       "      <td>89.63</td>\n",
       "      <td>-0.026396</td>\n",
       "      <td>-0.188665</td>\n",
       "      <td>23.374998</td>\n",
       "      <td>-0.031088</td>\n",
       "      <td>0.058823</td>\n",
       "    </tr>\n",
       "    <tr>\n",
       "      <th>5213</th>\n",
       "      <td>4839</td>\n",
       "      <td>1970-03-31</td>\n",
       "      <td>F</td>\n",
       "      <td>0.0</td>\n",
       "      <td>0.0</td>\n",
       "      <td>-0.135338</td>\n",
       "      <td>0.0</td>\n",
       "      <td>0.0</td>\n",
       "      <td>-0.172254</td>\n",
       "      <td>0.211</td>\n",
       "      <td>...</td>\n",
       "      <td>0.0</td>\n",
       "      <td>-0.005464</td>\n",
       "      <td>0.138857</td>\n",
       "      <td>0.147681</td>\n",
       "      <td>89.63</td>\n",
       "      <td>-0.026396</td>\n",
       "      <td>-0.188665</td>\n",
       "      <td>45.749946</td>\n",
       "      <td>0.112462</td>\n",
       "      <td>-0.040983</td>\n",
       "    </tr>\n",
       "    <tr>\n",
       "      <th>15082</th>\n",
       "      <td>4503</td>\n",
       "      <td>1970-03-31</td>\n",
       "      <td>XOM</td>\n",
       "      <td>0.0</td>\n",
       "      <td>0.0</td>\n",
       "      <td>-0.013423</td>\n",
       "      <td>0.0</td>\n",
       "      <td>0.0</td>\n",
       "      <td>0.036061</td>\n",
       "      <td>0.170</td>\n",
       "      <td>...</td>\n",
       "      <td>0.0</td>\n",
       "      <td>0.050788</td>\n",
       "      <td>-0.046479</td>\n",
       "      <td>0.144996</td>\n",
       "      <td>89.63</td>\n",
       "      <td>-0.026396</td>\n",
       "      <td>-0.188665</td>\n",
       "      <td>57.250000</td>\n",
       "      <td>-0.072874</td>\n",
       "      <td>-0.043668</td>\n",
       "    </tr>\n",
       "    <tr>\n",
       "      <th>5679</th>\n",
       "      <td>5047</td>\n",
       "      <td>1970-03-31</td>\n",
       "      <td>GE</td>\n",
       "      <td>0.0</td>\n",
       "      <td>0.0</td>\n",
       "      <td>0.000000</td>\n",
       "      <td>0.0</td>\n",
       "      <td>0.0</td>\n",
       "      <td>-0.194418</td>\n",
       "      <td>0.144</td>\n",
       "      <td>...</td>\n",
       "      <td>0.0</td>\n",
       "      <td>-0.058690</td>\n",
       "      <td>-0.021991</td>\n",
       "      <td>0.103919</td>\n",
       "      <td>89.63</td>\n",
       "      <td>-0.026396</td>\n",
       "      <td>-0.188665</td>\n",
       "      <td>73.749939</td>\n",
       "      <td>-0.048387</td>\n",
       "      <td>-0.084746</td>\n",
       "    </tr>\n",
       "    <tr>\n",
       "      <th>4054</th>\n",
       "      <td>2991</td>\n",
       "      <td>1970-03-31</td>\n",
       "      <td>CVX</td>\n",
       "      <td>0.0</td>\n",
       "      <td>0.0</td>\n",
       "      <td>-0.089552</td>\n",
       "      <td>0.0</td>\n",
       "      <td>0.0</td>\n",
       "      <td>0.028004</td>\n",
       "      <td>0.110</td>\n",
       "      <td>...</td>\n",
       "      <td>0.0</td>\n",
       "      <td>-0.084615</td>\n",
       "      <td>-0.103189</td>\n",
       "      <td>0.093159</td>\n",
       "      <td>89.63</td>\n",
       "      <td>-0.026396</td>\n",
       "      <td>-0.188665</td>\n",
       "      <td>44.500000</td>\n",
       "      <td>-0.129584</td>\n",
       "      <td>-0.095506</td>\n",
       "    </tr>\n",
       "  </tbody>\n",
       "</table>\n",
       "<p>5 rows × 43 columns</p>\n",
       "</div>"
      ],
      "text/plain": [
       "       gvkey   datadate  tic  actq  ancq    epsfxq  lctq  ltq     revtq  \\\n",
       "3271    8549 1970-03-31  COP   0.0   0.0 -0.122449   0.0  0.0 -0.024939   \n",
       "5213    4839 1970-03-31    F   0.0   0.0 -0.135338   0.0  0.0 -0.172254   \n",
       "15082   4503 1970-03-31  XOM   0.0   0.0 -0.013423   0.0  0.0  0.036061   \n",
       "5679    5047 1970-03-31   GE   0.0   0.0  0.000000   0.0  0.0 -0.194418   \n",
       "4054    2991 1970-03-31  CVX   0.0   0.0 -0.089552   0.0  0.0  0.028004   \n",
       "\n",
       "         roa  ...  curr_ratio_change  ptb_change  relative_quarterly_return  \\\n",
       "3271   0.131  ...                0.0    0.074219                  -0.004692   \n",
       "5213   0.211  ...                0.0   -0.005464                   0.138857   \n",
       "15082  0.170  ...                0.0    0.050788                  -0.046479   \n",
       "5679   0.144  ...                0.0   -0.058690                  -0.021991   \n",
       "4054   0.110  ...                0.0   -0.084615                  -0.103189   \n",
       "\n",
       "       next_relative_quarterly_return  spindx  spindx_change  \\\n",
       "3271                         0.247488   89.63      -0.026396   \n",
       "5213                         0.147681   89.63      -0.026396   \n",
       "15082                        0.144996   89.63      -0.026396   \n",
       "5679                         0.103919   89.63      -0.026396   \n",
       "4054                         0.093159   89.63      -0.026396   \n",
       "\n",
       "       next_spindx_change      prccq  prccq_change  next_prccq_change  \n",
       "3271            -0.188665  23.374998     -0.031088           0.058823  \n",
       "5213            -0.188665  45.749946      0.112462          -0.040983  \n",
       "15082           -0.188665  57.250000     -0.072874          -0.043668  \n",
       "5679            -0.188665  73.749939     -0.048387          -0.084746  \n",
       "4054            -0.188665  44.500000     -0.129584          -0.095506  \n",
       "\n",
       "[5 rows x 43 columns]"
      ]
     },
     "execution_count": 3160,
     "metadata": {},
     "output_type": "execute_result"
    }
   ],
   "source": [
    "#df['next_relative_quarterly_return'] = df.groupby(\"datadate\")[\"next_relative_quarterly_return\"].rank(ascending=False, method=\"first\")\n",
    "df = df.sort_values(by=['datadate', 'next_relative_quarterly_return'], ascending=[True, False])\n",
    "\n",
    "df.head()"
   ]
  },
  {
   "cell_type": "code",
   "execution_count": 3161,
   "metadata": {},
   "outputs": [
    {
     "name": "stdout",
     "output_type": "stream",
     "text": [
      "<class 'pandas.core.frame.DataFrame'>\n",
      "Int64Index: 789 entries, 10188 to 12834\n",
      "Data columns (total 43 columns):\n",
      " #   Column                          Non-Null Count  Dtype         \n",
      "---  ------                          --------------  -----         \n",
      " 0   gvkey                           789 non-null    int64         \n",
      " 1   datadate                        789 non-null    datetime64[ns]\n",
      " 2   tic                             789 non-null    object        \n",
      " 3   actq                            789 non-null    float64       \n",
      " 4   ancq                            789 non-null    float64       \n",
      " 5   epsfxq                          789 non-null    float64       \n",
      " 6   lctq                            789 non-null    float64       \n",
      " 7   ltq                             789 non-null    float64       \n",
      " 8   revtq                           789 non-null    float64       \n",
      " 9   roa                             789 non-null    float64       \n",
      " 10  roe                             789 non-null    float64       \n",
      " 11  pe_inc                          789 non-null    float64       \n",
      " 12  pcf                             789 non-null    float64       \n",
      " 13  roce                            789 non-null    float64       \n",
      " 14  debt_ebitda                     789 non-null    float64       \n",
      " 15  gpm                             789 non-null    float64       \n",
      " 16  evm                             789 non-null    float64       \n",
      " 17  npm                             789 non-null    float64       \n",
      " 18  curr_ratio                      789 non-null    float64       \n",
      " 19  ptb                             789 non-null    float64       \n",
      " 20  roa_change                      789 non-null    float64       \n",
      " 21  roe_change                      789 non-null    float64       \n",
      " 22  pe_inc_change                   789 non-null    float64       \n",
      " 23  divyield_change                 789 non-null    float64       \n",
      " 24  pcf_change                      789 non-null    float64       \n",
      " 25  roce_change                     789 non-null    float64       \n",
      " 26  debt_ebitda_change              789 non-null    float64       \n",
      " 27  gpm_change                      789 non-null    float64       \n",
      " 28  evm_change                      789 non-null    float64       \n",
      " 29  cfm_change                      789 non-null    float64       \n",
      " 30  npm_change                      789 non-null    float64       \n",
      " 31  PEG_trailing_change             789 non-null    float64       \n",
      " 32  de_ratio_change                 789 non-null    float64       \n",
      " 33  curr_ratio_change               789 non-null    float64       \n",
      " 34  ptb_change                      789 non-null    float64       \n",
      " 35  relative_quarterly_return       789 non-null    float64       \n",
      " 36  next_relative_quarterly_return  789 non-null    float64       \n",
      " 37  spindx                          789 non-null    float64       \n",
      " 38  spindx_change                   789 non-null    float64       \n",
      " 39  next_spindx_change              789 non-null    float64       \n",
      " 40  prccq                           789 non-null    float64       \n",
      " 41  prccq_change                    789 non-null    float64       \n",
      " 42  next_prccq_change               789 non-null    float64       \n",
      "dtypes: datetime64[ns](1), float64(40), int64(1), object(1)\n",
      "memory usage: 271.2+ KB\n"
     ]
    }
   ],
   "source": [
    "train_start_date = '1970-03-31'\n",
    "valid_start_date = '2010-03-31'\n",
    "test_start_date = '2013-03-31'\n",
    "end_date = '2023-09-30'\n",
    "\n",
    "train_df = df[(df['datadate'] >= train_start_date) & (df['datadate'] < valid_start_date)]\n",
    "valid_df = df[(df['datadate'] >= valid_start_date) & (df['datadate'] < test_start_date)]\n",
    "test_df = df[(df['datadate'] >= test_start_date) & (df['datadate'] < end_date)]\n",
    "\n",
    "valid_df.info()\n"
   ]
  },
  {
   "cell_type": "code",
   "execution_count": 3162,
   "metadata": {},
   "outputs": [
    {
     "name": "stdout",
     "output_type": "stream",
     "text": [
      "[27, 29, 31, 30, 32, 33, 35, 32, 32, 32, 34, 30, 31, 35, 36, 35, 38, 37, 38, 37, 39, 39, 36, 36, 37, 35, 37, 37, 34, 34, 37, 39, 37, 38, 38, 38, 38, 38, 40, 40, 39, 39, 34, 32, 35, 37, 38, 34, 40, 43, 41, 36, 37, 34, 36, 39, 42, 43, 44, 46, 48, 46, 47, 48, 41, 40, 48, 49, 44, 40, 45, 46, 47, 51, 52, 51, 48, 48, 49, 49, 46, 42, 48, 50, 47, 47, 53, 50, 43, 43, 49, 53, 50, 47, 53, 51, 48, 50, 55, 53, 51, 48, 48, 51, 50, 49, 49, 48, 43, 40, 46, 48, 45, 45, 51, 47, 42, 47, 51, 51, 53, 51, 53, 56, 52, 52, 56, 57, 58, 57, 58, 59, 59, 59, 60, 61, 56, 56, 60, 60, 52, 51, 56, 58, 59, 59, 61, 61, 60, 60, 62, 63, 62, 63, 65, 65, 64, 65, 66, 66]\n"
     ]
    }
   ],
   "source": [
    "# for ranking\n",
    "train_group = list(train_df['datadate'].value_counts().sort_index().tolist())\n",
    "valid_group = list(valid_df['datadate'].value_counts().sort_index().tolist())\n",
    "test_group = list(test_df['datadate'].value_counts().sort_index().tolist())\n",
    "\n",
    "print(train_group)"
   ]
  },
  {
   "cell_type": "code",
   "execution_count": 3163,
   "metadata": {},
   "outputs": [
    {
     "data": {
      "text/html": [
       "<div>\n",
       "<style scoped>\n",
       "    .dataframe tbody tr th:only-of-type {\n",
       "        vertical-align: middle;\n",
       "    }\n",
       "\n",
       "    .dataframe tbody tr th {\n",
       "        vertical-align: top;\n",
       "    }\n",
       "\n",
       "    .dataframe thead th {\n",
       "        text-align: right;\n",
       "    }\n",
       "</style>\n",
       "<table border=\"1\" class=\"dataframe\">\n",
       "  <thead>\n",
       "    <tr style=\"text-align: right;\">\n",
       "      <th></th>\n",
       "      <th>datadate</th>\n",
       "      <th>tic</th>\n",
       "      <th>actq</th>\n",
       "      <th>ancq</th>\n",
       "      <th>epsfxq</th>\n",
       "      <th>lctq</th>\n",
       "      <th>ltq</th>\n",
       "      <th>revtq</th>\n",
       "      <th>roa</th>\n",
       "      <th>roe</th>\n",
       "      <th>...</th>\n",
       "      <th>evm_change</th>\n",
       "      <th>cfm_change</th>\n",
       "      <th>npm_change</th>\n",
       "      <th>PEG_trailing_change</th>\n",
       "      <th>de_ratio_change</th>\n",
       "      <th>curr_ratio_change</th>\n",
       "      <th>ptb_change</th>\n",
       "      <th>relative_quarterly_return</th>\n",
       "      <th>next_relative_quarterly_return</th>\n",
       "      <th>next_prccq_change</th>\n",
       "    </tr>\n",
       "  </thead>\n",
       "  <tbody>\n",
       "    <tr>\n",
       "      <th>3271</th>\n",
       "      <td>1970-03-31</td>\n",
       "      <td>COP</td>\n",
       "      <td>0.0</td>\n",
       "      <td>0.0</td>\n",
       "      <td>-0.122449</td>\n",
       "      <td>0.0</td>\n",
       "      <td>0.0</td>\n",
       "      <td>-0.024939</td>\n",
       "      <td>0.131</td>\n",
       "      <td>-0.007</td>\n",
       "      <td>...</td>\n",
       "      <td>-0.086275</td>\n",
       "      <td>-0.020408</td>\n",
       "      <td>-0.017241</td>\n",
       "      <td>0.000000</td>\n",
       "      <td>0.0</td>\n",
       "      <td>0.0</td>\n",
       "      <td>0.074219</td>\n",
       "      <td>-0.004692</td>\n",
       "      <td>0.247488</td>\n",
       "      <td>0.058823</td>\n",
       "    </tr>\n",
       "    <tr>\n",
       "      <th>5213</th>\n",
       "      <td>1970-03-31</td>\n",
       "      <td>F</td>\n",
       "      <td>0.0</td>\n",
       "      <td>0.0</td>\n",
       "      <td>-0.135338</td>\n",
       "      <td>0.0</td>\n",
       "      <td>0.0</td>\n",
       "      <td>-0.172254</td>\n",
       "      <td>0.211</td>\n",
       "      <td>0.034</td>\n",
       "      <td>...</td>\n",
       "      <td>0.354212</td>\n",
       "      <td>-0.326087</td>\n",
       "      <td>-0.054054</td>\n",
       "      <td>0.148148</td>\n",
       "      <td>0.0</td>\n",
       "      <td>0.0</td>\n",
       "      <td>-0.005464</td>\n",
       "      <td>0.138857</td>\n",
       "      <td>0.147681</td>\n",
       "      <td>-0.040983</td>\n",
       "    </tr>\n",
       "    <tr>\n",
       "      <th>15082</th>\n",
       "      <td>1970-03-31</td>\n",
       "      <td>XOM</td>\n",
       "      <td>0.0</td>\n",
       "      <td>0.0</td>\n",
       "      <td>-0.013423</td>\n",
       "      <td>0.0</td>\n",
       "      <td>0.0</td>\n",
       "      <td>0.036061</td>\n",
       "      <td>0.170</td>\n",
       "      <td>0.032</td>\n",
       "      <td>...</td>\n",
       "      <td>-0.028041</td>\n",
       "      <td>-0.106383</td>\n",
       "      <td>-0.108434</td>\n",
       "      <td>0.237403</td>\n",
       "      <td>0.0</td>\n",
       "      <td>0.0</td>\n",
       "      <td>0.050788</td>\n",
       "      <td>-0.046479</td>\n",
       "      <td>0.144996</td>\n",
       "      <td>-0.043668</td>\n",
       "    </tr>\n",
       "    <tr>\n",
       "      <th>5679</th>\n",
       "      <td>1970-03-31</td>\n",
       "      <td>GE</td>\n",
       "      <td>0.0</td>\n",
       "      <td>0.0</td>\n",
       "      <td>0.000000</td>\n",
       "      <td>0.0</td>\n",
       "      <td>0.0</td>\n",
       "      <td>-0.194418</td>\n",
       "      <td>0.144</td>\n",
       "      <td>0.062</td>\n",
       "      <td>...</td>\n",
       "      <td>0.000000</td>\n",
       "      <td>0.000000</td>\n",
       "      <td>-0.393939</td>\n",
       "      <td>0.000000</td>\n",
       "      <td>0.0</td>\n",
       "      <td>0.0</td>\n",
       "      <td>-0.058690</td>\n",
       "      <td>-0.021991</td>\n",
       "      <td>0.103919</td>\n",
       "      <td>-0.084746</td>\n",
       "    </tr>\n",
       "    <tr>\n",
       "      <th>4054</th>\n",
       "      <td>1970-03-31</td>\n",
       "      <td>CVX</td>\n",
       "      <td>0.0</td>\n",
       "      <td>0.0</td>\n",
       "      <td>-0.089552</td>\n",
       "      <td>0.0</td>\n",
       "      <td>0.0</td>\n",
       "      <td>0.028004</td>\n",
       "      <td>0.110</td>\n",
       "      <td>0.020</td>\n",
       "      <td>...</td>\n",
       "      <td>0.015542</td>\n",
       "      <td>-0.025000</td>\n",
       "      <td>-0.042017</td>\n",
       "      <td>0.043961</td>\n",
       "      <td>0.0</td>\n",
       "      <td>0.0</td>\n",
       "      <td>-0.084615</td>\n",
       "      <td>-0.103189</td>\n",
       "      <td>0.093159</td>\n",
       "      <td>-0.095506</td>\n",
       "    </tr>\n",
       "  </tbody>\n",
       "</table>\n",
       "<p>5 rows × 37 columns</p>\n",
       "</div>"
      ],
      "text/plain": [
       "        datadate  tic  actq  ancq    epsfxq  lctq  ltq     revtq    roa  \\\n",
       "3271  1970-03-31  COP   0.0   0.0 -0.122449   0.0  0.0 -0.024939  0.131   \n",
       "5213  1970-03-31    F   0.0   0.0 -0.135338   0.0  0.0 -0.172254  0.211   \n",
       "15082 1970-03-31  XOM   0.0   0.0 -0.013423   0.0  0.0  0.036061  0.170   \n",
       "5679  1970-03-31   GE   0.0   0.0  0.000000   0.0  0.0 -0.194418  0.144   \n",
       "4054  1970-03-31  CVX   0.0   0.0 -0.089552   0.0  0.0  0.028004  0.110   \n",
       "\n",
       "         roe  ...  evm_change  cfm_change  npm_change  PEG_trailing_change  \\\n",
       "3271  -0.007  ...   -0.086275   -0.020408   -0.017241             0.000000   \n",
       "5213   0.034  ...    0.354212   -0.326087   -0.054054             0.148148   \n",
       "15082  0.032  ...   -0.028041   -0.106383   -0.108434             0.237403   \n",
       "5679   0.062  ...    0.000000    0.000000   -0.393939             0.000000   \n",
       "4054   0.020  ...    0.015542   -0.025000   -0.042017             0.043961   \n",
       "\n",
       "       de_ratio_change  curr_ratio_change  ptb_change  \\\n",
       "3271               0.0                0.0    0.074219   \n",
       "5213               0.0                0.0   -0.005464   \n",
       "15082              0.0                0.0    0.050788   \n",
       "5679               0.0                0.0   -0.058690   \n",
       "4054               0.0                0.0   -0.084615   \n",
       "\n",
       "       relative_quarterly_return  next_relative_quarterly_return  \\\n",
       "3271                   -0.004692                        0.247488   \n",
       "5213                    0.138857                        0.147681   \n",
       "15082                  -0.046479                        0.144996   \n",
       "5679                   -0.021991                        0.103919   \n",
       "4054                   -0.103189                        0.093159   \n",
       "\n",
       "       next_prccq_change  \n",
       "3271            0.058823  \n",
       "5213           -0.040983  \n",
       "15082          -0.043668  \n",
       "5679           -0.084746  \n",
       "4054           -0.095506  \n",
       "\n",
       "[5 rows x 37 columns]"
      ]
     },
     "execution_count": 3163,
     "metadata": {},
     "output_type": "execute_result"
    }
   ],
   "source": [
    "results = test_df[['datadate', 'tic', 'next_prccq_change', 'next_relative_quarterly_return']].copy()\n",
    "\n",
    "drop_cols = ['gvkey', 'spindx', 'spindx_change', 'next_spindx_change', 'prccq', 'prccq_change']\n",
    "\n",
    "train_df = train_df.drop(drop_cols, 1)\n",
    "valid_df = valid_df.drop(drop_cols, 1)\n",
    "test_df  = test_df.drop(drop_cols, 1)\n",
    "\n",
    "train_df.head()"
   ]
  },
  {
   "cell_type": "code",
   "execution_count": 3164,
   "metadata": {},
   "outputs": [
    {
     "data": {
      "text/html": [
       "<div>\n",
       "<style scoped>\n",
       "    .dataframe tbody tr th:only-of-type {\n",
       "        vertical-align: middle;\n",
       "    }\n",
       "\n",
       "    .dataframe tbody tr th {\n",
       "        vertical-align: top;\n",
       "    }\n",
       "\n",
       "    .dataframe thead th {\n",
       "        text-align: right;\n",
       "    }\n",
       "</style>\n",
       "<table border=\"1\" class=\"dataframe\">\n",
       "  <thead>\n",
       "    <tr style=\"text-align: right;\">\n",
       "      <th></th>\n",
       "      <th>actq</th>\n",
       "      <th>ancq</th>\n",
       "      <th>epsfxq</th>\n",
       "      <th>lctq</th>\n",
       "      <th>ltq</th>\n",
       "      <th>revtq</th>\n",
       "      <th>roa</th>\n",
       "      <th>roe</th>\n",
       "      <th>pe_inc</th>\n",
       "      <th>pcf</th>\n",
       "      <th>...</th>\n",
       "      <th>debt_ebitda_change</th>\n",
       "      <th>gpm_change</th>\n",
       "      <th>evm_change</th>\n",
       "      <th>cfm_change</th>\n",
       "      <th>npm_change</th>\n",
       "      <th>PEG_trailing_change</th>\n",
       "      <th>de_ratio_change</th>\n",
       "      <th>curr_ratio_change</th>\n",
       "      <th>ptb_change</th>\n",
       "      <th>relative_quarterly_return</th>\n",
       "    </tr>\n",
       "  </thead>\n",
       "  <tbody>\n",
       "    <tr>\n",
       "      <th>3271</th>\n",
       "      <td>0.0</td>\n",
       "      <td>0.0</td>\n",
       "      <td>-0.122449</td>\n",
       "      <td>0.0</td>\n",
       "      <td>0.0</td>\n",
       "      <td>-0.024939</td>\n",
       "      <td>0.131</td>\n",
       "      <td>-0.007</td>\n",
       "      <td>14.655</td>\n",
       "      <td>5.818</td>\n",
       "      <td>...</td>\n",
       "      <td>-0.079099</td>\n",
       "      <td>0.036667</td>\n",
       "      <td>-0.086275</td>\n",
       "      <td>-0.020408</td>\n",
       "      <td>-0.017241</td>\n",
       "      <td>0.000000</td>\n",
       "      <td>0.0</td>\n",
       "      <td>0.0</td>\n",
       "      <td>0.074219</td>\n",
       "      <td>-0.004692</td>\n",
       "    </tr>\n",
       "    <tr>\n",
       "      <th>5213</th>\n",
       "      <td>0.0</td>\n",
       "      <td>0.0</td>\n",
       "      <td>-0.135338</td>\n",
       "      <td>0.0</td>\n",
       "      <td>0.0</td>\n",
       "      <td>-0.172254</td>\n",
       "      <td>0.211</td>\n",
       "      <td>0.034</td>\n",
       "      <td>9.079</td>\n",
       "      <td>3.284</td>\n",
       "      <td>...</td>\n",
       "      <td>0.371212</td>\n",
       "      <td>0.000000</td>\n",
       "      <td>0.354212</td>\n",
       "      <td>-0.326087</td>\n",
       "      <td>-0.054054</td>\n",
       "      <td>0.148148</td>\n",
       "      <td>0.0</td>\n",
       "      <td>0.0</td>\n",
       "      <td>-0.005464</td>\n",
       "      <td>0.138857</td>\n",
       "    </tr>\n",
       "    <tr>\n",
       "      <th>15082</th>\n",
       "      <td>0.0</td>\n",
       "      <td>0.0</td>\n",
       "      <td>-0.013423</td>\n",
       "      <td>0.0</td>\n",
       "      <td>0.0</td>\n",
       "      <td>0.036061</td>\n",
       "      <td>0.170</td>\n",
       "      <td>0.032</td>\n",
       "      <td>11.749</td>\n",
       "      <td>6.020</td>\n",
       "      <td>...</td>\n",
       "      <td>-0.000895</td>\n",
       "      <td>0.000000</td>\n",
       "      <td>-0.028041</td>\n",
       "      <td>-0.106383</td>\n",
       "      <td>-0.108434</td>\n",
       "      <td>0.237403</td>\n",
       "      <td>0.0</td>\n",
       "      <td>0.0</td>\n",
       "      <td>0.050788</td>\n",
       "      <td>-0.046479</td>\n",
       "    </tr>\n",
       "    <tr>\n",
       "      <th>5679</th>\n",
       "      <td>0.0</td>\n",
       "      <td>0.0</td>\n",
       "      <td>0.000000</td>\n",
       "      <td>0.0</td>\n",
       "      <td>0.0</td>\n",
       "      <td>-0.194418</td>\n",
       "      <td>0.144</td>\n",
       "      <td>0.062</td>\n",
       "      <td>21.621</td>\n",
       "      <td>7.412</td>\n",
       "      <td>...</td>\n",
       "      <td>0.000000</td>\n",
       "      <td>0.000000</td>\n",
       "      <td>0.000000</td>\n",
       "      <td>0.000000</td>\n",
       "      <td>-0.393939</td>\n",
       "      <td>0.000000</td>\n",
       "      <td>0.0</td>\n",
       "      <td>0.0</td>\n",
       "      <td>-0.058690</td>\n",
       "      <td>-0.021991</td>\n",
       "    </tr>\n",
       "    <tr>\n",
       "      <th>4054</th>\n",
       "      <td>0.0</td>\n",
       "      <td>0.0</td>\n",
       "      <td>-0.089552</td>\n",
       "      <td>0.0</td>\n",
       "      <td>0.0</td>\n",
       "      <td>0.028004</td>\n",
       "      <td>0.110</td>\n",
       "      <td>0.020</td>\n",
       "      <td>8.317</td>\n",
       "      <td>4.854</td>\n",
       "      <td>...</td>\n",
       "      <td>0.016043</td>\n",
       "      <td>0.000000</td>\n",
       "      <td>0.015542</td>\n",
       "      <td>-0.025000</td>\n",
       "      <td>-0.042017</td>\n",
       "      <td>0.043961</td>\n",
       "      <td>0.0</td>\n",
       "      <td>0.0</td>\n",
       "      <td>-0.084615</td>\n",
       "      <td>-0.103189</td>\n",
       "    </tr>\n",
       "  </tbody>\n",
       "</table>\n",
       "<p>5 rows × 33 columns</p>\n",
       "</div>"
      ],
      "text/plain": [
       "       actq  ancq    epsfxq  lctq  ltq     revtq    roa    roe  pe_inc    pcf  \\\n",
       "3271    0.0   0.0 -0.122449   0.0  0.0 -0.024939  0.131 -0.007  14.655  5.818   \n",
       "5213    0.0   0.0 -0.135338   0.0  0.0 -0.172254  0.211  0.034   9.079  3.284   \n",
       "15082   0.0   0.0 -0.013423   0.0  0.0  0.036061  0.170  0.032  11.749  6.020   \n",
       "5679    0.0   0.0  0.000000   0.0  0.0 -0.194418  0.144  0.062  21.621  7.412   \n",
       "4054    0.0   0.0 -0.089552   0.0  0.0  0.028004  0.110  0.020   8.317  4.854   \n",
       "\n",
       "       ...  debt_ebitda_change  gpm_change  evm_change  cfm_change  \\\n",
       "3271   ...           -0.079099    0.036667   -0.086275   -0.020408   \n",
       "5213   ...            0.371212    0.000000    0.354212   -0.326087   \n",
       "15082  ...           -0.000895    0.000000   -0.028041   -0.106383   \n",
       "5679   ...            0.000000    0.000000    0.000000    0.000000   \n",
       "4054   ...            0.016043    0.000000    0.015542   -0.025000   \n",
       "\n",
       "       npm_change  PEG_trailing_change  de_ratio_change  curr_ratio_change  \\\n",
       "3271    -0.017241             0.000000              0.0                0.0   \n",
       "5213    -0.054054             0.148148              0.0                0.0   \n",
       "15082   -0.108434             0.237403              0.0                0.0   \n",
       "5679    -0.393939             0.000000              0.0                0.0   \n",
       "4054    -0.042017             0.043961              0.0                0.0   \n",
       "\n",
       "       ptb_change  relative_quarterly_return  \n",
       "3271     0.074219                  -0.004692  \n",
       "5213    -0.005464                   0.138857  \n",
       "15082    0.050788                  -0.046479  \n",
       "5679    -0.058690                  -0.021991  \n",
       "4054    -0.084615                  -0.103189  \n",
       "\n",
       "[5 rows x 33 columns]"
      ]
     },
     "execution_count": 3164,
     "metadata": {},
     "output_type": "execute_result"
    }
   ],
   "source": [
    "y_train = train_df['next_relative_quarterly_return'].copy()\n",
    "X_train = train_df.drop(['datadate', 'tic', 'next_relative_quarterly_return', 'next_prccq_change'], 1)\n",
    "\n",
    "y_valid = valid_df['next_relative_quarterly_return'].copy()\n",
    "X_valid = valid_df.drop(['datadate', 'tic', 'next_relative_quarterly_return', 'next_prccq_change'], 1)\n",
    "\n",
    "y_test  = test_df['next_relative_quarterly_return'].copy()\n",
    "X_test  = test_df.drop(['datadate', 'tic', 'next_relative_quarterly_return', 'next_prccq_change'], 1)\n",
    "\n",
    "X_train.head()"
   ]
  },
  {
   "cell_type": "code",
   "execution_count": 3165,
   "metadata": {},
   "outputs": [
    {
     "data": {
      "text/html": [
       "<div>\n",
       "<style scoped>\n",
       "    .dataframe tbody tr th:only-of-type {\n",
       "        vertical-align: middle;\n",
       "    }\n",
       "\n",
       "    .dataframe tbody tr th {\n",
       "        vertical-align: top;\n",
       "    }\n",
       "\n",
       "    .dataframe thead th {\n",
       "        text-align: right;\n",
       "    }\n",
       "</style>\n",
       "<table border=\"1\" class=\"dataframe\">\n",
       "  <thead>\n",
       "    <tr style=\"text-align: right;\">\n",
       "      <th></th>\n",
       "      <th>actq</th>\n",
       "      <th>ancq</th>\n",
       "      <th>epsfxq</th>\n",
       "      <th>lctq</th>\n",
       "      <th>ltq</th>\n",
       "      <th>revtq</th>\n",
       "      <th>roa</th>\n",
       "      <th>roe</th>\n",
       "      <th>pe_inc</th>\n",
       "      <th>pcf</th>\n",
       "      <th>...</th>\n",
       "      <th>debt_ebitda_change</th>\n",
       "      <th>gpm_change</th>\n",
       "      <th>evm_change</th>\n",
       "      <th>cfm_change</th>\n",
       "      <th>npm_change</th>\n",
       "      <th>PEG_trailing_change</th>\n",
       "      <th>de_ratio_change</th>\n",
       "      <th>curr_ratio_change</th>\n",
       "      <th>ptb_change</th>\n",
       "      <th>relative_quarterly_return</th>\n",
       "    </tr>\n",
       "  </thead>\n",
       "  <tbody>\n",
       "    <tr>\n",
       "      <th>0</th>\n",
       "      <td>0.15915</td>\n",
       "      <td>0.15647</td>\n",
       "      <td>0.600333</td>\n",
       "      <td>0.14011</td>\n",
       "      <td>0.103656</td>\n",
       "      <td>0.084321</td>\n",
       "      <td>0.784266</td>\n",
       "      <td>0.300878</td>\n",
       "      <td>0.557548</td>\n",
       "      <td>0.461337</td>\n",
       "      <td>...</td>\n",
       "      <td>0.305257</td>\n",
       "      <td>0.282861</td>\n",
       "      <td>0.504882</td>\n",
       "      <td>0.543146</td>\n",
       "      <td>0.892838</td>\n",
       "      <td>0.114721</td>\n",
       "      <td>0.075733</td>\n",
       "      <td>0.263092</td>\n",
       "      <td>0.029858</td>\n",
       "      <td>0.118900</td>\n",
       "    </tr>\n",
       "    <tr>\n",
       "      <th>1</th>\n",
       "      <td>0.15915</td>\n",
       "      <td>0.15647</td>\n",
       "      <td>0.600278</td>\n",
       "      <td>0.14011</td>\n",
       "      <td>0.103656</td>\n",
       "      <td>0.070774</td>\n",
       "      <td>0.808472</td>\n",
       "      <td>0.301376</td>\n",
       "      <td>0.554554</td>\n",
       "      <td>0.457561</td>\n",
       "      <td>...</td>\n",
       "      <td>0.307639</td>\n",
       "      <td>0.282770</td>\n",
       "      <td>0.508806</td>\n",
       "      <td>0.538162</td>\n",
       "      <td>0.892708</td>\n",
       "      <td>0.114771</td>\n",
       "      <td>0.075733</td>\n",
       "      <td>0.263092</td>\n",
       "      <td>0.027439</td>\n",
       "      <td>0.142569</td>\n",
       "    </tr>\n",
       "    <tr>\n",
       "      <th>2</th>\n",
       "      <td>0.15915</td>\n",
       "      <td>0.15647</td>\n",
       "      <td>0.600801</td>\n",
       "      <td>0.14011</td>\n",
       "      <td>0.103656</td>\n",
       "      <td>0.089930</td>\n",
       "      <td>0.796067</td>\n",
       "      <td>0.301351</td>\n",
       "      <td>0.555988</td>\n",
       "      <td>0.461638</td>\n",
       "      <td>...</td>\n",
       "      <td>0.305671</td>\n",
       "      <td>0.282770</td>\n",
       "      <td>0.505401</td>\n",
       "      <td>0.541744</td>\n",
       "      <td>0.892514</td>\n",
       "      <td>0.114802</td>\n",
       "      <td>0.075733</td>\n",
       "      <td>0.263092</td>\n",
       "      <td>0.029147</td>\n",
       "      <td>0.112010</td>\n",
       "    </tr>\n",
       "    <tr>\n",
       "      <th>3</th>\n",
       "      <td>0.15915</td>\n",
       "      <td>0.15647</td>\n",
       "      <td>0.600858</td>\n",
       "      <td>0.14011</td>\n",
       "      <td>0.103656</td>\n",
       "      <td>0.068736</td>\n",
       "      <td>0.788200</td>\n",
       "      <td>0.301715</td>\n",
       "      <td>0.561289</td>\n",
       "      <td>0.463713</td>\n",
       "      <td>...</td>\n",
       "      <td>0.305676</td>\n",
       "      <td>0.282770</td>\n",
       "      <td>0.505650</td>\n",
       "      <td>0.543478</td>\n",
       "      <td>0.891501</td>\n",
       "      <td>0.114721</td>\n",
       "      <td>0.075733</td>\n",
       "      <td>0.263092</td>\n",
       "      <td>0.025824</td>\n",
       "      <td>0.116047</td>\n",
       "    </tr>\n",
       "    <tr>\n",
       "      <th>4</th>\n",
       "      <td>0.15915</td>\n",
       "      <td>0.15647</td>\n",
       "      <td>0.600474</td>\n",
       "      <td>0.14011</td>\n",
       "      <td>0.103656</td>\n",
       "      <td>0.089189</td>\n",
       "      <td>0.777912</td>\n",
       "      <td>0.301206</td>\n",
       "      <td>0.554144</td>\n",
       "      <td>0.459900</td>\n",
       "      <td>...</td>\n",
       "      <td>0.305761</td>\n",
       "      <td>0.282770</td>\n",
       "      <td>0.505789</td>\n",
       "      <td>0.543071</td>\n",
       "      <td>0.892750</td>\n",
       "      <td>0.114736</td>\n",
       "      <td>0.075733</td>\n",
       "      <td>0.263092</td>\n",
       "      <td>0.025037</td>\n",
       "      <td>0.102659</td>\n",
       "    </tr>\n",
       "  </tbody>\n",
       "</table>\n",
       "<p>5 rows × 33 columns</p>\n",
       "</div>"
      ],
      "text/plain": [
       "      actq     ancq    epsfxq     lctq       ltq     revtq       roa  \\\n",
       "0  0.15915  0.15647  0.600333  0.14011  0.103656  0.084321  0.784266   \n",
       "1  0.15915  0.15647  0.600278  0.14011  0.103656  0.070774  0.808472   \n",
       "2  0.15915  0.15647  0.600801  0.14011  0.103656  0.089930  0.796067   \n",
       "3  0.15915  0.15647  0.600858  0.14011  0.103656  0.068736  0.788200   \n",
       "4  0.15915  0.15647  0.600474  0.14011  0.103656  0.089189  0.777912   \n",
       "\n",
       "        roe    pe_inc       pcf  ...  debt_ebitda_change  gpm_change  \\\n",
       "0  0.300878  0.557548  0.461337  ...            0.305257    0.282861   \n",
       "1  0.301376  0.554554  0.457561  ...            0.307639    0.282770   \n",
       "2  0.301351  0.555988  0.461638  ...            0.305671    0.282770   \n",
       "3  0.301715  0.561289  0.463713  ...            0.305676    0.282770   \n",
       "4  0.301206  0.554144  0.459900  ...            0.305761    0.282770   \n",
       "\n",
       "   evm_change  cfm_change  npm_change  PEG_trailing_change  de_ratio_change  \\\n",
       "0    0.504882    0.543146    0.892838             0.114721         0.075733   \n",
       "1    0.508806    0.538162    0.892708             0.114771         0.075733   \n",
       "2    0.505401    0.541744    0.892514             0.114802         0.075733   \n",
       "3    0.505650    0.543478    0.891501             0.114721         0.075733   \n",
       "4    0.505789    0.543071    0.892750             0.114736         0.075733   \n",
       "\n",
       "   curr_ratio_change  ptb_change  relative_quarterly_return  \n",
       "0           0.263092    0.029858                   0.118900  \n",
       "1           0.263092    0.027439                   0.142569  \n",
       "2           0.263092    0.029147                   0.112010  \n",
       "3           0.263092    0.025824                   0.116047  \n",
       "4           0.263092    0.025037                   0.102659  \n",
       "\n",
       "[5 rows x 33 columns]"
      ]
     },
     "execution_count": 3165,
     "metadata": {},
     "output_type": "execute_result"
    }
   ],
   "source": [
    "# Scaling\n",
    "scaler = MinMaxScaler()\n",
    "\n",
    "# Fit the scaler on the training/validation data\n",
    "X_train_scaled = scaler.fit_transform(X_train)\n",
    "\n",
    "# Now apply the same scaling to the val/test data using the already fitted scaler\n",
    "X_valid_scaled = scaler.transform(X_valid)\n",
    "X_test_scaled = scaler.transform(X_test)\n",
    "\n",
    "# Convert the scaled data back to DataFrame for consistency\n",
    "X_train_scaled = pd.DataFrame(X_train_scaled, columns=X_train.columns)\n",
    "X_valid_scaled = pd.DataFrame(X_valid_scaled, columns=X_valid.columns)\n",
    "X_test_scaled = pd.DataFrame(X_test_scaled, columns=X_test.columns)\n",
    "\n",
    "X_train_scaled.head()"
   ]
  },
  {
   "cell_type": "code",
   "execution_count": 3166,
   "metadata": {},
   "outputs": [
    {
     "data": {
      "text/plain": [
       "XGBRanker(base_score=None, booster=None, callbacks=None, colsample_bylevel=None,\n",
       "          colsample_bynode=None, colsample_bytree=None, device=None,\n",
       "          early_stopping_rounds=None, enable_categorical=False,\n",
       "          eval_metric='ndcg@10', feature_types=None, gamma=0.1,\n",
       "          grow_policy=None, importance_type=None, interaction_constraints=None,\n",
       "          learning_rate=0.05, max_bin=None, max_cat_threshold=None,\n",
       "          max_cat_to_onehot=None, max_delta_step=None, max_depth=8,\n",
       "          max_leaves=None, min_child_weight=None, missing=nan,\n",
       "          monotone_constraints=None, multi_strategy=None, n_estimators=300,\n",
       "          n_jobs=None, ndcg_exp_gain=False, num_parallel_tree=None, ...)"
      ]
     },
     "execution_count": 3166,
     "metadata": {},
     "output_type": "execute_result"
    }
   ],
   "source": [
    "# **Define Model Parameters**\n",
    "model = xgb.XGBRanker(\n",
    "    objective=\"rank:ndcg\",\n",
    "    eval_metric=\"ndcg@10\",\n",
    "    ndcg_exp_gain=False,\n",
    "    learning_rate=0.05,\n",
    "    max_depth=8,  # Reduce to avoid overfitting\n",
    "    gamma=0.1,  # Increase regularization\n",
    "    random_state=42,\n",
    "    n_estimators=300\n",
    ")\n",
    "\n",
    "model.fit(\n",
    "        X_train_scaled,\n",
    "        y_train,\n",
    "        group=train_group,\n",
    "        verbose=True,\n",
    "    )\n"
   ]
  },
  {
   "cell_type": "code",
   "execution_count": 3167,
   "metadata": {},
   "outputs": [
    {
     "data": {
      "image/png": "[encoded data removed]",
      "text/plain": [
       "<Figure size 640x480 with 1 Axes>"
      ]
     },
     "metadata": {},
     "output_type": "display_data"
    }
   ],
   "source": [
    "plot_importance(model);\n",
    "\n",
    "# Get the feature importance scores\n",
    "importance = model.get_booster().get_score(importance_type='weight')\n",
    "\n",
    "# Sort the features by importance\n",
    "sorted_importance = sorted(importance.items(), key=lambda x: x[1], reverse=True)\n",
    "\n",
    "# Extract the most important features as a list of feature names (strings)\n",
    "important_features = [feature for feature, score in sorted_importance[:5]]\n"
   ]
  },
  {
   "cell_type": "code",
   "execution_count": 3168,
   "metadata": {},
   "outputs": [],
   "source": [
    "y_train_pred = model.predict(X_train_scaled)\n",
    "y_valid_pred = model.predict(X_valid_scaled)\n",
    "y_test_pred = model.predict(X_test_scaled)\n",
    "\n",
    "\n",
    "# Convert test predictions into a DataFrame\n",
    "predictions_df = pd.DataFrame({\"datadate\": test_df[\"datadate\"], \"tic\": test_df[\"tic\"], \"true_relative_return\": y_test, \"pred_rank_score\": y_test_pred, 'real_return': test_df['next_prccq_change']})\n",
    "\n",
    "# Rank stocks within each datadate\n",
    "predictions_df[\"pred_rank\"] = predictions_df.groupby(\"datadate\")[\"pred_rank_score\"].rank(ascending=False, method=\"first\")\n",
    "predictions_df[\"true_rank\"] = predictions_df.groupby(\"datadate\")[\"real_return\"].rank(ascending=False, method=\"first\")\n",
    "\n",
    "#predictions_df = predictions_df.sort_values(by=[\"datadate\", \"pred_rank_score\"], ascending=[True, True])\n",
    "\n",
    "# Show the selected stocks for portfolio construction\n"
   ]
  },
  {
   "cell_type": "code",
   "execution_count": 3169,
   "metadata": {},
   "outputs": [
    {
     "data": {
      "text/html": [
       "<div>\n",
       "<style scoped>\n",
       "    .dataframe tbody tr th:only-of-type {\n",
       "        vertical-align: middle;\n",
       "    }\n",
       "\n",
       "    .dataframe tbody tr th {\n",
       "        vertical-align: top;\n",
       "    }\n",
       "\n",
       "    .dataframe thead th {\n",
       "        text-align: right;\n",
       "    }\n",
       "</style>\n",
       "<table border=\"1\" class=\"dataframe\">\n",
       "  <thead>\n",
       "    <tr style=\"text-align: right;\">\n",
       "      <th></th>\n",
       "      <th>datadate</th>\n",
       "      <th>tic</th>\n",
       "      <th>true_relative_return</th>\n",
       "      <th>pred_rank_score</th>\n",
       "      <th>real_return</th>\n",
       "      <th>pred_rank</th>\n",
       "      <th>true_rank</th>\n",
       "    </tr>\n",
       "  </thead>\n",
       "  <tbody>\n",
       "    <tr>\n",
       "      <th>1253</th>\n",
       "      <td>2013-03-31</td>\n",
       "      <td>AMD</td>\n",
       "      <td>0.566207</td>\n",
       "      <td>3.611665</td>\n",
       "      <td>0.600000</td>\n",
       "      <td>1.0</td>\n",
       "      <td>1.0</td>\n",
       "    </tr>\n",
       "    <tr>\n",
       "      <th>10115</th>\n",
       "      <td>2013-03-31</td>\n",
       "      <td>MU</td>\n",
       "      <td>0.318003</td>\n",
       "      <td>2.073404</td>\n",
       "      <td>0.394627</td>\n",
       "      <td>2.0</td>\n",
       "      <td>2.0</td>\n",
       "    </tr>\n",
       "    <tr>\n",
       "      <th>11978</th>\n",
       "      <td>2013-03-31</td>\n",
       "      <td>REGN</td>\n",
       "      <td>0.241016</td>\n",
       "      <td>1.891009</td>\n",
       "      <td>0.274808</td>\n",
       "      <td>3.0</td>\n",
       "      <td>3.0</td>\n",
       "    </tr>\n",
       "    <tr>\n",
       "      <th>3228</th>\n",
       "      <td>2013-03-31</td>\n",
       "      <td>CME</td>\n",
       "      <td>0.202977</td>\n",
       "      <td>-0.003631</td>\n",
       "      <td>0.236769</td>\n",
       "      <td>26.0</td>\n",
       "      <td>4.0</td>\n",
       "    </tr>\n",
       "    <tr>\n",
       "      <th>14621</th>\n",
       "      <td>2013-03-31</td>\n",
       "      <td>WDC</td>\n",
       "      <td>0.200846</td>\n",
       "      <td>1.531590</td>\n",
       "      <td>0.234639</td>\n",
       "      <td>5.0</td>\n",
       "      <td>5.0</td>\n",
       "    </tr>\n",
       "    <tr>\n",
       "      <th>9959</th>\n",
       "      <td>2013-03-31</td>\n",
       "      <td>MSFT</td>\n",
       "      <td>0.173863</td>\n",
       "      <td>1.095823</td>\n",
       "      <td>0.207656</td>\n",
       "      <td>7.0</td>\n",
       "      <td>6.0</td>\n",
       "    </tr>\n",
       "    <tr>\n",
       "      <th>13004</th>\n",
       "      <td>2013-03-31</td>\n",
       "      <td>STZ</td>\n",
       "      <td>0.121613</td>\n",
       "      <td>1.802685</td>\n",
       "      <td>0.198237</td>\n",
       "      <td>4.0</td>\n",
       "      <td>7.0</td>\n",
       "    </tr>\n",
       "    <tr>\n",
       "      <th>2121</th>\n",
       "      <td>2013-03-31</td>\n",
       "      <td>BA</td>\n",
       "      <td>0.159451</td>\n",
       "      <td>0.700274</td>\n",
       "      <td>0.193244</td>\n",
       "      <td>10.0</td>\n",
       "      <td>8.0</td>\n",
       "    </tr>\n",
       "    <tr>\n",
       "      <th>10580</th>\n",
       "      <td>2013-03-31</td>\n",
       "      <td>NOC</td>\n",
       "      <td>0.146535</td>\n",
       "      <td>1.001797</td>\n",
       "      <td>0.180328</td>\n",
       "      <td>8.0</td>\n",
       "      <td>9.0</td>\n",
       "    </tr>\n",
       "    <tr>\n",
       "      <th>13375</th>\n",
       "      <td>2013-03-31</td>\n",
       "      <td>TGT</td>\n",
       "      <td>0.101628</td>\n",
       "      <td>0.458533</td>\n",
       "      <td>0.168019</td>\n",
       "      <td>14.0</td>\n",
       "      <td>10.0</td>\n",
       "    </tr>\n",
       "  </tbody>\n",
       "</table>\n",
       "</div>"
      ],
      "text/plain": [
       "        datadate   tic  true_relative_return  pred_rank_score  real_return  \\\n",
       "1253  2013-03-31   AMD              0.566207         3.611665     0.600000   \n",
       "10115 2013-03-31    MU              0.318003         2.073404     0.394627   \n",
       "11978 2013-03-31  REGN              0.241016         1.891009     0.274808   \n",
       "3228  2013-03-31   CME              0.202977        -0.003631     0.236769   \n",
       "14621 2013-03-31   WDC              0.200846         1.531590     0.234639   \n",
       "9959  2013-03-31  MSFT              0.173863         1.095823     0.207656   \n",
       "13004 2013-03-31   STZ              0.121613         1.802685     0.198237   \n",
       "2121  2013-03-31    BA              0.159451         0.700274     0.193244   \n",
       "10580 2013-03-31   NOC              0.146535         1.001797     0.180328   \n",
       "13375 2013-03-31   TGT              0.101628         0.458533     0.168019   \n",
       "\n",
       "       pred_rank  true_rank  \n",
       "1253         1.0        1.0  \n",
       "10115        2.0        2.0  \n",
       "11978        3.0        3.0  \n",
       "3228        26.0        4.0  \n",
       "14621        5.0        5.0  \n",
       "9959         7.0        6.0  \n",
       "13004        4.0        7.0  \n",
       "2121        10.0        8.0  \n",
       "10580        8.0        9.0  \n",
       "13375       14.0       10.0  "
      ]
     },
     "execution_count": 3169,
     "metadata": {},
     "output_type": "execute_result"
    }
   ],
   "source": [
    "predictions_df = predictions_df.sort_values(by=[\"datadate\", \"real_return\"], ascending=[True, False])\n",
    "predictions_df.head(10)"
   ]
  },
  {
   "cell_type": "code",
   "execution_count": 3170,
   "metadata": {},
   "outputs": [
    {
     "data": {
      "text/html": [
       "<div>\n",
       "<style scoped>\n",
       "    .dataframe tbody tr th:only-of-type {\n",
       "        vertical-align: middle;\n",
       "    }\n",
       "\n",
       "    .dataframe tbody tr th {\n",
       "        vertical-align: top;\n",
       "    }\n",
       "\n",
       "    .dataframe thead th {\n",
       "        text-align: right;\n",
       "    }\n",
       "</style>\n",
       "<table border=\"1\" class=\"dataframe\">\n",
       "  <thead>\n",
       "    <tr style=\"text-align: right;\">\n",
       "      <th></th>\n",
       "      <th>datadate</th>\n",
       "      <th>stocks</th>\n",
       "      <th>baseline</th>\n",
       "      <th>top_10</th>\n",
       "      <th>top_10_ideal</th>\n",
       "      <th>bottom_10</th>\n",
       "      <th>bottom_10_ideal</th>\n",
       "    </tr>\n",
       "  </thead>\n",
       "  <tbody>\n",
       "    <tr>\n",
       "      <th>0</th>\n",
       "      <td>2013-03-31</td>\n",
       "      <td>63</td>\n",
       "      <td>0.065437</td>\n",
       "      <td>0.248852</td>\n",
       "      <td>0.268833</td>\n",
       "      <td>-0.032913</td>\n",
       "      <td>-0.084238</td>\n",
       "    </tr>\n",
       "    <tr>\n",
       "      <th>1</th>\n",
       "      <td>2013-06-30</td>\n",
       "      <td>64</td>\n",
       "      <td>0.059808</td>\n",
       "      <td>0.141755</td>\n",
       "      <td>0.230842</td>\n",
       "      <td>-0.009824</td>\n",
       "      <td>-0.061988</td>\n",
       "    </tr>\n",
       "    <tr>\n",
       "      <th>2</th>\n",
       "      <td>2013-09-30</td>\n",
       "      <td>66</td>\n",
       "      <td>0.110123</td>\n",
       "      <td>0.245315</td>\n",
       "      <td>0.314411</td>\n",
       "      <td>-0.022591</td>\n",
       "      <td>-0.058148</td>\n",
       "    </tr>\n",
       "    <tr>\n",
       "      <th>3</th>\n",
       "      <td>2013-12-31</td>\n",
       "      <td>66</td>\n",
       "      <td>0.032754</td>\n",
       "      <td>0.104179</td>\n",
       "      <td>0.183728</td>\n",
       "      <td>-0.019660</td>\n",
       "      <td>-0.082451</td>\n",
       "    </tr>\n",
       "    <tr>\n",
       "      <th>4</th>\n",
       "      <td>2014-03-31</td>\n",
       "      <td>66</td>\n",
       "      <td>0.039382</td>\n",
       "      <td>0.085457</td>\n",
       "      <td>0.158701</td>\n",
       "      <td>0.020349</td>\n",
       "      <td>-0.061300</td>\n",
       "    </tr>\n",
       "    <tr>\n",
       "      <th>5</th>\n",
       "      <td>2014-06-30</td>\n",
       "      <td>67</td>\n",
       "      <td>0.022670</td>\n",
       "      <td>0.092796</td>\n",
       "      <td>0.167058</td>\n",
       "      <td>-0.052132</td>\n",
       "      <td>-0.099601</td>\n",
       "    </tr>\n",
       "    <tr>\n",
       "      <th>6</th>\n",
       "      <td>2014-09-30</td>\n",
       "      <td>65</td>\n",
       "      <td>0.054048</td>\n",
       "      <td>0.170130</td>\n",
       "      <td>0.196296</td>\n",
       "      <td>-0.023824</td>\n",
       "      <td>-0.109057</td>\n",
       "    </tr>\n",
       "    <tr>\n",
       "      <th>7</th>\n",
       "      <td>2014-12-31</td>\n",
       "      <td>64</td>\n",
       "      <td>0.027150</td>\n",
       "      <td>0.129935</td>\n",
       "      <td>0.177872</td>\n",
       "      <td>-0.087767</td>\n",
       "      <td>-0.122243</td>\n",
       "    </tr>\n",
       "    <tr>\n",
       "      <th>8</th>\n",
       "      <td>2015-03-31</td>\n",
       "      <td>65</td>\n",
       "      <td>0.009599</td>\n",
       "      <td>0.112749</td>\n",
       "      <td>0.175274</td>\n",
       "      <td>-0.054937</td>\n",
       "      <td>-0.111613</td>\n",
       "    </tr>\n",
       "    <tr>\n",
       "      <th>9</th>\n",
       "      <td>2015-06-30</td>\n",
       "      <td>63</td>\n",
       "      <td>-0.056546</td>\n",
       "      <td>0.055590</td>\n",
       "      <td>0.096890</td>\n",
       "      <td>-0.147528</td>\n",
       "      <td>-0.220885</td>\n",
       "    </tr>\n",
       "    <tr>\n",
       "      <th>10</th>\n",
       "      <td>2015-09-30</td>\n",
       "      <td>64</td>\n",
       "      <td>0.080203</td>\n",
       "      <td>0.263405</td>\n",
       "      <td>0.294816</td>\n",
       "      <td>-0.065944</td>\n",
       "      <td>-0.093734</td>\n",
       "    </tr>\n",
       "    <tr>\n",
       "      <th>11</th>\n",
       "      <td>2015-12-31</td>\n",
       "      <td>61</td>\n",
       "      <td>-0.003925</td>\n",
       "      <td>0.108265</td>\n",
       "      <td>0.156446</td>\n",
       "      <td>-0.151397</td>\n",
       "      <td>-0.191685</td>\n",
       "    </tr>\n",
       "    <tr>\n",
       "      <th>12</th>\n",
       "      <td>2016-03-31</td>\n",
       "      <td>64</td>\n",
       "      <td>0.045065</td>\n",
       "      <td>0.068806</td>\n",
       "      <td>0.182836</td>\n",
       "      <td>-0.010686</td>\n",
       "      <td>-0.080231</td>\n",
       "    </tr>\n",
       "    <tr>\n",
       "      <th>13</th>\n",
       "      <td>2016-06-30</td>\n",
       "      <td>67</td>\n",
       "      <td>0.046907</td>\n",
       "      <td>0.184996</td>\n",
       "      <td>0.242970</td>\n",
       "      <td>-0.002223</td>\n",
       "      <td>-0.090562</td>\n",
       "    </tr>\n",
       "    <tr>\n",
       "      <th>14</th>\n",
       "      <td>2016-09-30</td>\n",
       "      <td>66</td>\n",
       "      <td>0.013651</td>\n",
       "      <td>0.181726</td>\n",
       "      <td>0.191454</td>\n",
       "      <td>-0.082081</td>\n",
       "      <td>-0.121413</td>\n",
       "    </tr>\n",
       "    <tr>\n",
       "      <th>15</th>\n",
       "      <td>2016-12-31</td>\n",
       "      <td>64</td>\n",
       "      <td>0.066786</td>\n",
       "      <td>0.212968</td>\n",
       "      <td>0.233745</td>\n",
       "      <td>-0.018600</td>\n",
       "      <td>-0.077952</td>\n",
       "    </tr>\n",
       "    <tr>\n",
       "      <th>16</th>\n",
       "      <td>2017-03-31</td>\n",
       "      <td>67</td>\n",
       "      <td>0.039612</td>\n",
       "      <td>0.102659</td>\n",
       "      <td>0.190066</td>\n",
       "      <td>-0.048374</td>\n",
       "      <td>-0.098882</td>\n",
       "    </tr>\n",
       "    <tr>\n",
       "      <th>17</th>\n",
       "      <td>2017-06-30</td>\n",
       "      <td>67</td>\n",
       "      <td>0.051149</td>\n",
       "      <td>0.139015</td>\n",
       "      <td>0.204273</td>\n",
       "      <td>-0.027164</td>\n",
       "      <td>-0.080413</td>\n",
       "    </tr>\n",
       "    <tr>\n",
       "      <th>18</th>\n",
       "      <td>2017-09-30</td>\n",
       "      <td>67</td>\n",
       "      <td>0.055614</td>\n",
       "      <td>0.179567</td>\n",
       "      <td>0.220123</td>\n",
       "      <td>-0.065063</td>\n",
       "      <td>-0.126871</td>\n",
       "    </tr>\n",
       "    <tr>\n",
       "      <th>19</th>\n",
       "      <td>2017-12-31</td>\n",
       "      <td>64</td>\n",
       "      <td>0.025462</td>\n",
       "      <td>0.109588</td>\n",
       "      <td>0.235782</td>\n",
       "      <td>-0.104245</td>\n",
       "      <td>-0.116366</td>\n",
       "    </tr>\n",
       "    <tr>\n",
       "      <th>20</th>\n",
       "      <td>2018-03-31</td>\n",
       "      <td>66</td>\n",
       "      <td>0.033794</td>\n",
       "      <td>0.106778</td>\n",
       "      <td>0.222925</td>\n",
       "      <td>-0.075532</td>\n",
       "      <td>-0.122981</td>\n",
       "    </tr>\n",
       "    <tr>\n",
       "      <th>21</th>\n",
       "      <td>2018-06-30</td>\n",
       "      <td>67</td>\n",
       "      <td>0.092562</td>\n",
       "      <td>0.240054</td>\n",
       "      <td>0.304624</td>\n",
       "      <td>-0.042761</td>\n",
       "      <td>-0.091083</td>\n",
       "    </tr>\n",
       "    <tr>\n",
       "      <th>22</th>\n",
       "      <td>2018-09-30</td>\n",
       "      <td>67</td>\n",
       "      <td>-0.098536</td>\n",
       "      <td>0.038825</td>\n",
       "      <td>0.102832</td>\n",
       "      <td>-0.215502</td>\n",
       "      <td>-0.287277</td>\n",
       "    </tr>\n",
       "    <tr>\n",
       "      <th>23</th>\n",
       "      <td>2018-12-31</td>\n",
       "      <td>65</td>\n",
       "      <td>0.089691</td>\n",
       "      <td>0.193871</td>\n",
       "      <td>0.271202</td>\n",
       "      <td>-0.104584</td>\n",
       "      <td>-0.143274</td>\n",
       "    </tr>\n",
       "    <tr>\n",
       "      <th>24</th>\n",
       "      <td>2019-03-31</td>\n",
       "      <td>65</td>\n",
       "      <td>0.027393</td>\n",
       "      <td>0.133731</td>\n",
       "      <td>0.216348</td>\n",
       "      <td>-0.099564</td>\n",
       "      <td>-0.178993</td>\n",
       "    </tr>\n",
       "    <tr>\n",
       "      <th>25</th>\n",
       "      <td>2019-06-30</td>\n",
       "      <td>65</td>\n",
       "      <td>0.032402</td>\n",
       "      <td>0.107939</td>\n",
       "      <td>0.194616</td>\n",
       "      <td>-0.067440</td>\n",
       "      <td>-0.119144</td>\n",
       "    </tr>\n",
       "    <tr>\n",
       "      <th>26</th>\n",
       "      <td>2019-09-30</td>\n",
       "      <td>64</td>\n",
       "      <td>0.086031</td>\n",
       "      <td>0.292077</td>\n",
       "      <td>0.309699</td>\n",
       "      <td>-0.035460</td>\n",
       "      <td>-0.095553</td>\n",
       "    </tr>\n",
       "    <tr>\n",
       "      <th>27</th>\n",
       "      <td>2019-12-31</td>\n",
       "      <td>63</td>\n",
       "      <td>-0.160770</td>\n",
       "      <td>0.022816</td>\n",
       "      <td>0.099656</td>\n",
       "      <td>-0.358477</td>\n",
       "      <td>-0.447930</td>\n",
       "    </tr>\n",
       "    <tr>\n",
       "      <th>28</th>\n",
       "      <td>2020-03-31</td>\n",
       "      <td>62</td>\n",
       "      <td>0.134378</td>\n",
       "      <td>0.250349</td>\n",
       "      <td>0.379304</td>\n",
       "      <td>0.051711</td>\n",
       "      <td>-0.049126</td>\n",
       "    </tr>\n",
       "    <tr>\n",
       "      <th>29</th>\n",
       "      <td>2020-06-30</td>\n",
       "      <td>61</td>\n",
       "      <td>0.080302</td>\n",
       "      <td>0.154017</td>\n",
       "      <td>0.363333</td>\n",
       "      <td>-0.103937</td>\n",
       "      <td>-0.171397</td>\n",
       "    </tr>\n",
       "    <tr>\n",
       "      <th>30</th>\n",
       "      <td>2020-09-30</td>\n",
       "      <td>62</td>\n",
       "      <td>0.103790</td>\n",
       "      <td>0.307419</td>\n",
       "      <td>0.386139</td>\n",
       "      <td>-0.011722</td>\n",
       "      <td>-0.094689</td>\n",
       "    </tr>\n",
       "    <tr>\n",
       "      <th>31</th>\n",
       "      <td>2020-12-31</td>\n",
       "      <td>63</td>\n",
       "      <td>0.080717</td>\n",
       "      <td>0.291426</td>\n",
       "      <td>0.340992</td>\n",
       "      <td>-0.035300</td>\n",
       "      <td>-0.088401</td>\n",
       "    </tr>\n",
       "    <tr>\n",
       "      <th>32</th>\n",
       "      <td>2021-03-31</td>\n",
       "      <td>66</td>\n",
       "      <td>0.064942</td>\n",
       "      <td>0.077375</td>\n",
       "      <td>0.208005</td>\n",
       "      <td>0.023391</td>\n",
       "      <td>-0.066227</td>\n",
       "    </tr>\n",
       "    <tr>\n",
       "      <th>33</th>\n",
       "      <td>2021-06-30</td>\n",
       "      <td>65</td>\n",
       "      <td>-0.000898</td>\n",
       "      <td>0.114335</td>\n",
       "      <td>0.175494</td>\n",
       "      <td>-0.091445</td>\n",
       "      <td>-0.134863</td>\n",
       "    </tr>\n",
       "    <tr>\n",
       "      <th>34</th>\n",
       "      <td>2021-09-30</td>\n",
       "      <td>64</td>\n",
       "      <td>0.092476</td>\n",
       "      <td>0.233266</td>\n",
       "      <td>0.299500</td>\n",
       "      <td>-0.041248</td>\n",
       "      <td>-0.084603</td>\n",
       "    </tr>\n",
       "    <tr>\n",
       "      <th>35</th>\n",
       "      <td>2021-12-31</td>\n",
       "      <td>64</td>\n",
       "      <td>-0.004823</td>\n",
       "      <td>0.293212</td>\n",
       "      <td>0.324109</td>\n",
       "      <td>-0.168532</td>\n",
       "      <td>-0.228998</td>\n",
       "    </tr>\n",
       "    <tr>\n",
       "      <th>36</th>\n",
       "      <td>2022-03-31</td>\n",
       "      <td>63</td>\n",
       "      <td>-0.091460</td>\n",
       "      <td>0.010300</td>\n",
       "      <td>0.090480</td>\n",
       "      <td>-0.173707</td>\n",
       "      <td>-0.322292</td>\n",
       "    </tr>\n",
       "    <tr>\n",
       "      <th>37</th>\n",
       "      <td>2022-06-30</td>\n",
       "      <td>64</td>\n",
       "      <td>-0.078679</td>\n",
       "      <td>0.009629</td>\n",
       "      <td>0.091733</td>\n",
       "      <td>-0.179256</td>\n",
       "      <td>-0.231128</td>\n",
       "    </tr>\n",
       "    <tr>\n",
       "      <th>38</th>\n",
       "      <td>2022-09-30</td>\n",
       "      <td>67</td>\n",
       "      <td>0.085518</td>\n",
       "      <td>0.181679</td>\n",
       "      <td>0.290656</td>\n",
       "      <td>-0.088573</td>\n",
       "      <td>-0.114095</td>\n",
       "    </tr>\n",
       "    <tr>\n",
       "      <th>39</th>\n",
       "      <td>2022-12-31</td>\n",
       "      <td>67</td>\n",
       "      <td>0.019393</td>\n",
       "      <td>0.097389</td>\n",
       "      <td>0.257628</td>\n",
       "      <td>-0.083245</td>\n",
       "      <td>-0.166300</td>\n",
       "    </tr>\n",
       "    <tr>\n",
       "      <th>40</th>\n",
       "      <td>2023-03-31</td>\n",
       "      <td>66</td>\n",
       "      <td>0.038575</td>\n",
       "      <td>0.184178</td>\n",
       "      <td>0.251329</td>\n",
       "      <td>-0.026423</td>\n",
       "      <td>-0.116496</td>\n",
       "    </tr>\n",
       "    <tr>\n",
       "      <th>41</th>\n",
       "      <td>2023-06-30</td>\n",
       "      <td>66</td>\n",
       "      <td>-0.000478</td>\n",
       "      <td>0.176538</td>\n",
       "      <td>0.246962</td>\n",
       "      <td>-0.105230</td>\n",
       "      <td>-0.164208</td>\n",
       "    </tr>\n",
       "  </tbody>\n",
       "</table>\n",
       "</div>"
      ],
      "text/plain": [
       "     datadate  stocks  baseline    top_10  top_10_ideal  bottom_10  \\\n",
       "0  2013-03-31      63  0.065437  0.248852      0.268833  -0.032913   \n",
       "1  2013-06-30      64  0.059808  0.141755      0.230842  -0.009824   \n",
       "2  2013-09-30      66  0.110123  0.245315      0.314411  -0.022591   \n",
       "3  2013-12-31      66  0.032754  0.104179      0.183728  -0.019660   \n",
       "4  2014-03-31      66  0.039382  0.085457      0.158701   0.020349   \n",
       "5  2014-06-30      67  0.022670  0.092796      0.167058  -0.052132   \n",
       "6  2014-09-30      65  0.054048  0.170130      0.196296  -0.023824   \n",
       "7  2014-12-31      64  0.027150  0.129935      0.177872  -0.087767   \n",
       "8  2015-03-31      65  0.009599  0.112749      0.175274  -0.054937   \n",
       "9  2015-06-30      63 -0.056546  0.055590      0.096890  -0.147528   \n",
       "10 2015-09-30      64  0.080203  0.263405      0.294816  -0.065944   \n",
       "11 2015-12-31      61 -0.003925  0.108265      0.156446  -0.151397   \n",
       "12 2016-03-31      64  0.045065  0.068806      0.182836  -0.010686   \n",
       "13 2016-06-30      67  0.046907  0.184996      0.242970  -0.002223   \n",
       "14 2016-09-30      66  0.013651  0.181726      0.191454  -0.082081   \n",
       "15 2016-12-31      64  0.066786  0.212968      0.233745  -0.018600   \n",
       "16 2017-03-31      67  0.039612  0.102659      0.190066  -0.048374   \n",
       "17 2017-06-30      67  0.051149  0.139015      0.204273  -0.027164   \n",
       "18 2017-09-30      67  0.055614  0.179567      0.220123  -0.065063   \n",
       "19 2017-12-31      64  0.025462  0.109588      0.235782  -0.104245   \n",
       "20 2018-03-31      66  0.033794  0.106778      0.222925  -0.075532   \n",
       "21 2018-06-30      67  0.092562  0.240054      0.304624  -0.042761   \n",
       "22 2018-09-30      67 -0.098536  0.038825      0.102832  -0.215502   \n",
       "23 2018-12-31      65  0.089691  0.193871      0.271202  -0.104584   \n",
       "24 2019-03-31      65  0.027393  0.133731      0.216348  -0.099564   \n",
       "25 2019-06-30      65  0.032402  0.107939      0.194616  -0.067440   \n",
       "26 2019-09-30      64  0.086031  0.292077      0.309699  -0.035460   \n",
       "27 2019-12-31      63 -0.160770  0.022816      0.099656  -0.358477   \n",
       "28 2020-03-31      62  0.134378  0.250349      0.379304   0.051711   \n",
       "29 2020-06-30      61  0.080302  0.154017      0.363333  -0.103937   \n",
       "30 2020-09-30      62  0.103790  0.307419      0.386139  -0.011722   \n",
       "31 2020-12-31      63  0.080717  0.291426      0.340992  -0.035300   \n",
       "32 2021-03-31      66  0.064942  0.077375      0.208005   0.023391   \n",
       "33 2021-06-30      65 -0.000898  0.114335      0.175494  -0.091445   \n",
       "34 2021-09-30      64  0.092476  0.233266      0.299500  -0.041248   \n",
       "35 2021-12-31      64 -0.004823  0.293212      0.324109  -0.168532   \n",
       "36 2022-03-31      63 -0.091460  0.010300      0.090480  -0.173707   \n",
       "37 2022-06-30      64 -0.078679  0.009629      0.091733  -0.179256   \n",
       "38 2022-09-30      67  0.085518  0.181679      0.290656  -0.088573   \n",
       "39 2022-12-31      67  0.019393  0.097389      0.257628  -0.083245   \n",
       "40 2023-03-31      66  0.038575  0.184178      0.251329  -0.026423   \n",
       "41 2023-06-30      66 -0.000478  0.176538      0.246962  -0.105230   \n",
       "\n",
       "    bottom_10_ideal  \n",
       "0         -0.084238  \n",
       "1         -0.061988  \n",
       "2         -0.058148  \n",
       "3         -0.082451  \n",
       "4         -0.061300  \n",
       "5         -0.099601  \n",
       "6         -0.109057  \n",
       "7         -0.122243  \n",
       "8         -0.111613  \n",
       "9         -0.220885  \n",
       "10        -0.093734  \n",
       "11        -0.191685  \n",
       "12        -0.080231  \n",
       "13        -0.090562  \n",
       "14        -0.121413  \n",
       "15        -0.077952  \n",
       "16        -0.098882  \n",
       "17        -0.080413  \n",
       "18        -0.126871  \n",
       "19        -0.116366  \n",
       "20        -0.122981  \n",
       "21        -0.091083  \n",
       "22        -0.287277  \n",
       "23        -0.143274  \n",
       "24        -0.178993  \n",
       "25        -0.119144  \n",
       "26        -0.095553  \n",
       "27        -0.447930  \n",
       "28        -0.049126  \n",
       "29        -0.171397  \n",
       "30        -0.094689  \n",
       "31        -0.088401  \n",
       "32        -0.066227  \n",
       "33        -0.134863  \n",
       "34        -0.084603  \n",
       "35        -0.228998  \n",
       "36        -0.322292  \n",
       "37        -0.231128  \n",
       "38        -0.114095  \n",
       "39        -0.166300  \n",
       "40        -0.116496  \n",
       "41        -0.164208  "
      ]
     },
     "execution_count": 3170,
     "metadata": {},
     "output_type": "execute_result"
    }
   ],
   "source": [
    "# Group by 'datadate' and calculate the count of rows and the mean of 'next_prccq_change'\n",
    "df_avg = predictions_df.groupby('datadate').agg(\n",
    "    stocks=('real_return', 'size'),\n",
    "    baseline=('real_return', 'mean')\n",
    ").reset_index()\n",
    "\n",
    "\n",
    "# Add a 'top_10' column that contains the average of the top 10 highest 'y_pred' for each quarter\n",
    "df_avg['top_10'] = predictions_df.groupby('datadate').apply(\n",
    "    lambda x: x.nlargest(10, 'pred_rank_score')['real_return'].mean()\n",
    ").reset_index(level=0, drop=True)\n",
    "\n",
    "\n",
    "df_avg['top_10_ideal'] = predictions_df.groupby('datadate').apply(\n",
    "    lambda x: x.nlargest(10, 'real_return')['real_return'].mean()\n",
    ").reset_index(level=0, drop=True)\n",
    "\n",
    "\n",
    "df_avg['bottom_10'] = predictions_df.groupby('datadate').apply(\n",
    "    lambda x: x.nsmallest(10, 'pred_rank_score')['real_return'].mean()\n",
    ").reset_index(level=0, drop=True)\n",
    "\n",
    "\n",
    "df_avg['bottom_10_ideal'] = predictions_df.groupby('datadate').apply(\n",
    "    lambda x: x.nsmallest(10, 'real_return')['real_return'].mean()\n",
    ").reset_index(level=0, drop=True)\n",
    "\n",
    "# Show the first few rows of the new dataframe\n",
    "df_avg.head(100)\n"
   ]
  },
  {
   "cell_type": "code",
   "execution_count": 3171,
   "metadata": {},
   "outputs": [
    {
     "name": "stdout",
     "output_type": "stream",
     "text": [
      "Mean quarterly return of the baseline portfolio: 0.03360167684373077\n",
      "Sharpe Ratio of the baseline portfolio: 0.14378314191983466\n",
      "\n",
      "Mean quarterly return of the top_10 portfolio: 0.1536894006939014\n",
      "Sharpe Ratio of the top_10 portfolio: 1.5927965747301391\n",
      "\n",
      "Mean quarterly return of the bottom_10 portfolio: -0.07236767685948291\n",
      "Sharpe Ratio of the bottom_10 portfolio: -1.320780141349857\n",
      "\n"
     ]
    }
   ],
   "source": [
    "for portfolio in ['baseline', 'top_10', 'bottom_10']:\n",
    "\n",
    "    mean_return = df_avg[portfolio].mean()\n",
    "\n",
    "    # Calculate the standard deviation of the returns of the top 10 portfolio\n",
    "    std_return = df_avg[portfolio].std()\n",
    "\n",
    "    # Assuming the risk-free rate is 0 (if you have a specific risk-free rate, replace 0 with that value)\n",
    "    risk_free_rate = 0.025\n",
    "\n",
    "    # Calculate the Sharpe ratio\n",
    "    sharpe_ratio = (mean_return - risk_free_rate) / std_return\n",
    "\n",
    "    # Print the Sharpe ratio\n",
    "    print(f\"Mean quarterly return of the {portfolio} portfolio: {mean_return}\")\n",
    "    print(f\"Sharpe Ratio of the {portfolio} portfolio: {sharpe_ratio}\")\n",
    "    print(\"\")"
   ]
  },
  {
   "cell_type": "code",
   "execution_count": 3172,
   "metadata": {},
   "outputs": [
    {
     "data": {
      "application/vnd.plotly.v1+json": {
       "config": {
        "plotlyServerURL": "https://plot.ly"
       },
       "data": [
        {
         "mode": "lines",
         "name": "Baseline Portfolio",
         "type": "scatter",
         "x": [
          "2013-03-31T00:00:00",
          "2013-06-30T00:00:00",
          "2013-09-30T00:00:00",
          "2013-12-31T00:00:00",
          "2014-03-31T00:00:00",
          "2014-06-30T00:00:00",
          "2014-09-30T00:00:00",
          "2014-12-31T00:00:00",
          "2015-03-31T00:00:00",
          "2015-06-30T00:00:00",
          "2015-09-30T00:00:00",
          "2015-12-31T00:00:00",
          "2016-03-31T00:00:00",
          "2016-06-30T00:00:00",
          "2016-09-30T00:00:00",
          "2016-12-31T00:00:00",
          "2017-03-31T00:00:00",
          "2017-06-30T00:00:00",
          "2017-09-30T00:00:00",
          "2017-12-31T00:00:00",
          "2018-03-31T00:00:00",
          "2018-06-30T00:00:00",
          "2018-09-30T00:00:00",
          "2018-12-31T00:00:00",
          "2019-03-31T00:00:00",
          "2019-06-30T00:00:00",
          "2019-09-30T00:00:00",
          "2019-12-31T00:00:00",
          "2020-03-31T00:00:00",
          "2020-06-30T00:00:00",
          "2020-09-30T00:00:00",
          "2020-12-31T00:00:00",
          "2021-03-31T00:00:00",
          "2021-06-30T00:00:00",
          "2021-09-30T00:00:00",
          "2021-12-31T00:00:00",
          "2022-03-31T00:00:00",
          "2022-06-30T00:00:00",
          "2022-09-30T00:00:00",
          "2022-12-31T00:00:00",
          "2023-03-31T00:00:00",
          "2023-06-30T00:00:00"
         ],
         "y": [
          1065.4371958232998,
          1129.158555801018,
          1253.504932219555,
          1294.5627948278475,
          1345.5449075612785,
          1376.0488503962213,
          1450.4209420711502,
          1489.7999079150622,
          1504.1006826860594,
          1419.0491976789824,
          1532.8619041760492,
          1526.8454764030162,
          1595.6530802603083,
          1670.5003529710327,
          1693.3048216355464,
          1806.3940396765208,
          1877.9491868072244,
          1974.0047428534597,
          2083.7869748399794,
          2136.843713783442,
          2209.0551592121974,
          2413.5292586963624,
          2175.7094661891324,
          2370.8521064286383,
          2435.7967721326663,
          2514.7218204608134,
          2731.0651296527913,
          2291.9914990282114,
          2599.984512088596,
          2808.7678965191553,
          3100.289213300711,
          3350.5361613923674,
          3568.127870904715,
          3564.924966398189,
          3894.5966139011493,
          3875.813552377668,
          3521.3314335965306,
          3244.2768305862883,
          3521.720690443635,
          3590.0165855143373,
          3728.5024491728045,
          3726.7208199094616
         ]
        },
        {
         "mode": "lines",
         "name": "Top 10 Portfolio",
         "type": "scatter",
         "x": [
          "2013-03-31T00:00:00",
          "2013-06-30T00:00:00",
          "2013-09-30T00:00:00",
          "2013-12-31T00:00:00",
          "2014-03-31T00:00:00",
          "2014-06-30T00:00:00",
          "2014-09-30T00:00:00",
          "2014-12-31T00:00:00",
          "2015-03-31T00:00:00",
          "2015-06-30T00:00:00",
          "2015-09-30T00:00:00",
          "2015-12-31T00:00:00",
          "2016-03-31T00:00:00",
          "2016-06-30T00:00:00",
          "2016-09-30T00:00:00",
          "2016-12-31T00:00:00",
          "2017-03-31T00:00:00",
          "2017-06-30T00:00:00",
          "2017-09-30T00:00:00",
          "2017-12-31T00:00:00",
          "2018-03-31T00:00:00",
          "2018-06-30T00:00:00",
          "2018-09-30T00:00:00",
          "2018-12-31T00:00:00",
          "2019-03-31T00:00:00",
          "2019-06-30T00:00:00",
          "2019-09-30T00:00:00",
          "2019-12-31T00:00:00",
          "2020-03-31T00:00:00",
          "2020-06-30T00:00:00",
          "2020-09-30T00:00:00",
          "2020-12-31T00:00:00",
          "2021-03-31T00:00:00",
          "2021-06-30T00:00:00",
          "2021-09-30T00:00:00",
          "2021-12-31T00:00:00",
          "2022-03-31T00:00:00",
          "2022-06-30T00:00:00",
          "2022-09-30T00:00:00",
          "2022-12-31T00:00:00",
          "2023-03-31T00:00:00",
          "2023-06-30T00:00:00"
         ],
         "y": [
          1248.8516019942626,
          1425.883095507083,
          1775.6732488936375,
          1960.6605522436334,
          2128.2134466781454,
          2325.703343916586,
          2721.374854069591,
          3074.976289278686,
          3421.6754262648487,
          3611.8871106353636,
          4563.276279282744,
          5057.317959985714,
          5405.292263457966,
          6405.247025230758,
          7569.249305306302,
          9181.260140388154,
          10123.798226656196,
          11531.156938388789,
          13601.77784972459,
          15092.37130386732,
          16703.898607541105,
          20713.738431461166,
          21517.941852546242,
          25689.641900784074,
          29125.146270493082,
          32268.89917510347,
          41693.89147115683,
          42645.17037372189,
          53321.34865179745,
          61533.71890933358,
          80450.34047318851,
          103895.68559941997,
          111934.65176096495,
          124732.7113002283,
          153828.67201245742,
          198933.00882937547,
          200982.09175611992,
          202917.39923264555,
          239783.20036992297,
          263135.34884618706,
          311598.9643446388,
          366608.03842074936
         ]
        }
       ],
       "layout": {
        "template": {
         "data": {
          "bar": [
           {
            "error_x": {
             "color": "#2a3f5f"
            },
            "error_y": {
             "color": "#2a3f5f"
            },
            "marker": {
             "line": {
              "color": "#E5ECF6",
              "width": 0.5
             },
             "pattern": {
              "fillmode": "overlay",
              "size": 10,
              "solidity": 0.2
             }
            },
            "type": "bar"
           }
          ],
          "barpolar": [
           {
            "marker": {
             "line": {
              "color": "#E5ECF6",
              "width": 0.5
             },
             "pattern": {
              "fillmode": "overlay",
              "size": 10,
              "solidity": 0.2
             }
            },
            "type": "barpolar"
           }
          ],
          "carpet": [
           {
            "aaxis": {
             "endlinecolor": "#2a3f5f",
             "gridcolor": "white",
             "linecolor": "white",
             "minorgridcolor": "white",
             "startlinecolor": "#2a3f5f"
            },
            "baxis": {
             "endlinecolor": "#2a3f5f",
             "gridcolor": "white",
             "linecolor": "white",
             "minorgridcolor": "white",
             "startlinecolor": "#2a3f5f"
            },
            "type": "carpet"
           }
          ],
          "choropleth": [
           {
            "colorbar": {
             "outlinewidth": 0,
             "ticks": ""
            },
            "type": "choropleth"
           }
          ],
          "contour": [
           {
            "colorbar": {
             "outlinewidth": 0,
             "ticks": ""
            },
            "colorscale": [
             [
              0,
              "#0d0887"
             ],
             [
              0.1111111111111111,
              "#46039f"
             ],
             [
              0.2222222222222222,
              "#7201a8"
             ],
             [
              0.3333333333333333,
              "#9c179e"
             ],
             [
              0.4444444444444444,
              "#bd3786"
             ],
             [
              0.5555555555555556,
              "#d8576b"
             ],
             [
              0.6666666666666666,
              "#ed7953"
             ],
             [
              0.7777777777777778,
              "#fb9f3a"
             ],
             [
              0.8888888888888888,
              "#fdca26"
             ],
             [
              1,
              "#f0f921"
             ]
            ],
            "type": "contour"
           }
          ],
          "contourcarpet": [
           {
            "colorbar": {
             "outlinewidth": 0,
             "ticks": ""
            },
            "type": "contourcarpet"
           }
          ],
          "heatmap": [
           {
            "colorbar": {
             "outlinewidth": 0,
             "ticks": ""
            },
            "colorscale": [
             [
              0,
              "#0d0887"
             ],
             [
              0.1111111111111111,
              "#46039f"
             ],
             [
              0.2222222222222222,
              "#7201a8"
             ],
             [
              0.3333333333333333,
              "#9c179e"
             ],
             [
              0.4444444444444444,
              "#bd3786"
             ],
             [
              0.5555555555555556,
              "#d8576b"
             ],
             [
              0.6666666666666666,
              "#ed7953"
             ],
             [
              0.7777777777777778,
              "#fb9f3a"
             ],
             [
              0.8888888888888888,
              "#fdca26"
             ],
             [
              1,
              "#f0f921"
             ]
            ],
            "type": "heatmap"
           }
          ],
          "heatmapgl": [
           {
            "colorbar": {
             "outlinewidth": 0,
             "ticks": ""
            },
            "colorscale": [
             [
              0,
              "#0d0887"
             ],
             [
              0.1111111111111111,
              "#46039f"
             ],
             [
              0.2222222222222222,
              "#7201a8"
             ],
             [
              0.3333333333333333,
              "#9c179e"
             ],
             [
              0.4444444444444444,
              "#bd3786"
             ],
             [
              0.5555555555555556,
              "#d8576b"
             ],
             [
              0.6666666666666666,
              "#ed7953"
             ],
             [
              0.7777777777777778,
              "#fb9f3a"
             ],
             [
              0.8888888888888888,
              "#fdca26"
             ],
             [
              1,
              "#f0f921"
             ]
            ],
            "type": "heatmapgl"
           }
          ],
          "histogram": [
           {
            "marker": {
             "pattern": {
              "fillmode": "overlay",
              "size": 10,
              "solidity": 0.2
             }
            },
            "type": "histogram"
           }
          ],
          "histogram2d": [
           {
            "colorbar": {
             "outlinewidth": 0,
             "ticks": ""
            },
            "colorscale": [
             [
              0,
              "#0d0887"
             ],
             [
              0.1111111111111111,
              "#46039f"
             ],
             [
              0.2222222222222222,
              "#7201a8"
             ],
             [
              0.3333333333333333,
              "#9c179e"
             ],
             [
              0.4444444444444444,
              "#bd3786"
             ],
             [
              0.5555555555555556,
              "#d8576b"
             ],
             [
              0.6666666666666666,
              "#ed7953"
             ],
             [
              0.7777777777777778,
              "#fb9f3a"
             ],
             [
              0.8888888888888888,
              "#fdca26"
             ],
             [
              1,
              "#f0f921"
             ]
            ],
            "type": "histogram2d"
           }
          ],
          "histogram2dcontour": [
           {
            "colorbar": {
             "outlinewidth": 0,
             "ticks": ""
            },
            "colorscale": [
             [
              0,
              "#0d0887"
             ],
             [
              0.1111111111111111,
              "#46039f"
             ],
             [
              0.2222222222222222,
              "#7201a8"
             ],
             [
              0.3333333333333333,
              "#9c179e"
             ],
             [
              0.4444444444444444,
              "#bd3786"
             ],
             [
              0.5555555555555556,
              "#d8576b"
             ],
             [
              0.6666666666666666,
              "#ed7953"
             ],
             [
              0.7777777777777778,
              "#fb9f3a"
             ],
             [
              0.8888888888888888,
              "#fdca26"
             ],
             [
              1,
              "#f0f921"
             ]
            ],
            "type": "histogram2dcontour"
           }
          ],
          "mesh3d": [
           {
            "colorbar": {
             "outlinewidth": 0,
             "ticks": ""
            },
            "type": "mesh3d"
           }
          ],
          "parcoords": [
           {
            "line": {
             "colorbar": {
              "outlinewidth": 0,
              "ticks": ""
             }
            },
            "type": "parcoords"
           }
          ],
          "pie": [
           {
            "automargin": true,
            "type": "pie"
           }
          ],
          "scatter": [
           {
            "fillpattern": {
             "fillmode": "overlay",
             "size": 10,
             "solidity": 0.2
            },
            "type": "scatter"
           }
          ],
          "scatter3d": [
           {
            "line": {
             "colorbar": {
              "outlinewidth": 0,
              "ticks": ""
             }
            },
            "marker": {
             "colorbar": {
              "outlinewidth": 0,
              "ticks": ""
             }
            },
            "type": "scatter3d"
           }
          ],
          "scattercarpet": [
           {
            "marker": {
             "colorbar": {
              "outlinewidth": 0,
              "ticks": ""
             }
            },
            "type": "scattercarpet"
           }
          ],
          "scattergeo": [
           {
            "marker": {
             "colorbar": {
              "outlinewidth": 0,
              "ticks": ""
             }
            },
            "type": "scattergeo"
           }
          ],
          "scattergl": [
           {
            "marker": {
             "colorbar": {
              "outlinewidth": 0,
              "ticks": ""
             }
            },
            "type": "scattergl"
           }
          ],
          "scattermapbox": [
           {
            "marker": {
             "colorbar": {
              "outlinewidth": 0,
              "ticks": ""
             }
            },
            "type": "scattermapbox"
           }
          ],
          "scatterpolar": [
           {
            "marker": {
             "colorbar": {
              "outlinewidth": 0,
              "ticks": ""
             }
            },
            "type": "scatterpolar"
           }
          ],
          "scatterpolargl": [
           {
            "marker": {
             "colorbar": {
              "outlinewidth": 0,
              "ticks": ""
             }
            },
            "type": "scatterpolargl"
           }
          ],
          "scatterternary": [
           {
            "marker": {
             "colorbar": {
              "outlinewidth": 0,
              "ticks": ""
             }
            },
            "type": "scatterternary"
           }
          ],
          "surface": [
           {
            "colorbar": {
             "outlinewidth": 0,
             "ticks": ""
            },
            "colorscale": [
             [
              0,
              "#0d0887"
             ],
             [
              0.1111111111111111,
              "#46039f"
             ],
             [
              0.2222222222222222,
              "#7201a8"
             ],
             [
              0.3333333333333333,
              "#9c179e"
             ],
             [
              0.4444444444444444,
              "#bd3786"
             ],
             [
              0.5555555555555556,
              "#d8576b"
             ],
             [
              0.6666666666666666,
              "#ed7953"
             ],
             [
              0.7777777777777778,
              "#fb9f3a"
             ],
             [
              0.8888888888888888,
              "#fdca26"
             ],
             [
              1,
              "#f0f921"
             ]
            ],
            "type": "surface"
           }
          ],
          "table": [
           {
            "cells": {
             "fill": {
              "color": "#EBF0F8"
             },
             "line": {
              "color": "white"
             }
            },
            "header": {
             "fill": {
              "color": "#C8D4E3"
             },
             "line": {
              "color": "white"
             }
            },
            "type": "table"
           }
          ]
         },
         "layout": {
          "annotationdefaults": {
           "arrowcolor": "#2a3f5f",
           "arrowhead": 0,
           "arrowwidth": 1
          },
          "autotypenumbers": "strict",
          "coloraxis": {
           "colorbar": {
            "outlinewidth": 0,
            "ticks": ""
           }
          },
          "colorscale": {
           "diverging": [
            [
             0,
             "#8e0152"
            ],
            [
             0.1,
             "#c51b7d"
            ],
            [
             0.2,
             "#de77ae"
            ],
            [
             0.3,
             "#f1b6da"
            ],
            [
             0.4,
             "#fde0ef"
            ],
            [
             0.5,
             "#f7f7f7"
            ],
            [
             0.6,
             "#e6f5d0"
            ],
            [
             0.7,
             "#b8e186"
            ],
            [
             0.8,
             "#7fbc41"
            ],
            [
             0.9,
             "#4d9221"
            ],
            [
             1,
             "#276419"
            ]
           ],
           "sequential": [
            [
             0,
             "#0d0887"
            ],
            [
             0.1111111111111111,
             "#46039f"
            ],
            [
             0.2222222222222222,
             "#7201a8"
            ],
            [
             0.3333333333333333,
             "#9c179e"
            ],
            [
             0.4444444444444444,
             "#bd3786"
            ],
            [
             0.5555555555555556,
             "#d8576b"
            ],
            [
             0.6666666666666666,
             "#ed7953"
            ],
            [
             0.7777777777777778,
             "#fb9f3a"
            ],
            [
             0.8888888888888888,
             "#fdca26"
            ],
            [
             1,
             "#f0f921"
            ]
           ],
           "sequentialminus": [
            [
             0,
             "#0d0887"
            ],
            [
             0.1111111111111111,
             "#46039f"
            ],
            [
             0.2222222222222222,
             "#7201a8"
            ],
            [
             0.3333333333333333,
             "#9c179e"
            ],
            [
             0.4444444444444444,
             "#bd3786"
            ],
            [
             0.5555555555555556,
             "#d8576b"
            ],
            [
             0.6666666666666666,
             "#ed7953"
            ],
            [
             0.7777777777777778,
             "#fb9f3a"
            ],
            [
             0.8888888888888888,
             "#fdca26"
            ],
            [
             1,
             "#f0f921"
            ]
           ]
          },
          "colorway": [
           "#636efa",
           "#EF553B",
           "#00cc96",
           "#ab63fa",
           "#FFA15A",
           "#19d3f3",
           "#FF6692",
           "#B6E880",
           "#FF97FF",
           "#FECB52"
          ],
          "font": {
           "color": "#2a3f5f"
          },
          "geo": {
           "bgcolor": "white",
           "lakecolor": "white",
           "landcolor": "#E5ECF6",
           "showlakes": true,
           "showland": true,
           "subunitcolor": "white"
          },
          "hoverlabel": {
           "align": "left"
          },
          "hovermode": "closest",
          "mapbox": {
           "style": "light"
          },
          "paper_bgcolor": "rgba(0,0,0,0)",
          "plot_bgcolor": "rgba(250,250,250,0.8)",
          "polar": {
           "angularaxis": {
            "gridcolor": "white",
            "linecolor": "white",
            "ticks": ""
           },
           "bgcolor": "#E5ECF6",
           "radialaxis": {
            "gridcolor": "white",
            "linecolor": "white",
            "ticks": ""
           }
          },
          "scene": {
           "xaxis": {
            "backgroundcolor": "#E5ECF6",
            "gridcolor": "white",
            "gridwidth": 2,
            "linecolor": "white",
            "showbackground": true,
            "ticks": "",
            "zerolinecolor": "white"
           },
           "yaxis": {
            "backgroundcolor": "#E5ECF6",
            "gridcolor": "white",
            "gridwidth": 2,
            "linecolor": "white",
            "showbackground": true,
            "ticks": "",
            "zerolinecolor": "white"
           },
           "zaxis": {
            "backgroundcolor": "#E5ECF6",
            "gridcolor": "white",
            "gridwidth": 2,
            "linecolor": "white",
            "showbackground": true,
            "ticks": "",
            "zerolinecolor": "white"
           }
          },
          "shapedefaults": {
           "line": {
            "color": "#2a3f5f"
           }
          },
          "ternary": {
           "aaxis": {
            "gridcolor": "white",
            "linecolor": "white",
            "ticks": ""
           },
           "baxis": {
            "gridcolor": "white",
            "linecolor": "white",
            "ticks": ""
           },
           "bgcolor": "#E5ECF6",
           "caxis": {
            "gridcolor": "white",
            "linecolor": "white",
            "ticks": ""
           }
          },
          "title": {
           "x": 0.05
          },
          "xaxis": {
           "automargin": true,
           "gridcolor": "white",
           "linecolor": "white",
           "ticks": "",
           "title": {
            "standoff": 15
           },
           "zerolinecolor": "white",
           "zerolinewidth": 2
          },
          "yaxis": {
           "automargin": true,
           "gridcolor": "white",
           "linecolor": "white",
           "ticks": "",
           "title": {
            "standoff": 15
           },
           "zerolinecolor": "white",
           "zerolinewidth": 2
          }
         }
        },
        "title": {
         "text": "Portfolio Value Over Time ($1,000 Investment)"
        },
        "xaxis": {
         "title": {
          "text": "Date"
         }
        },
        "yaxis": {
         "title": {
          "text": "Portfolio Value ($)"
         }
        }
       }
      },
      "text/html": [
       "<div>                            <div id=\"57f016f9-3c38-4366-a0d5-223716fd6a27\" class=\"plotly-graph-div\" style=\"height:525px; width:100%;\"></div>            <script type=\"text/javascript\">                require([\"plotly\"], function(Plotly) {                    window.PLOTLYENV=window.PLOTLYENV || {};                                    if (document.getElementById(\"57f016f9-3c38-4366-a0d5-223716fd6a27\")) {                    Plotly.newPlot(                        \"57f016f9-3c38-4366-a0d5-223716fd6a27\",                        [{\"mode\":\"lines\",\"name\":\"Baseline Portfolio\",\"x\":[\"2013-03-31T00:00:00\",\"2013-06-30T00:00:00\",\"2013-09-30T00:00:00\",\"2013-12-31T00:00:00\",\"2014-03-31T00:00:00\",\"2014-06-30T00:00:00\",\"2014-09-30T00:00:00\",\"2014-12-31T00:00:00\",\"2015-03-31T00:00:00\",\"2015-06-30T00:00:00\",\"2015-09-30T00:00:00\",\"2015-12-31T00:00:00\",\"2016-03-31T00:00:00\",\"2016-06-30T00:00:00\",\"2016-09-30T00:00:00\",\"2016-12-31T00:00:00\",\"2017-03-31T00:00:00\",\"2017-06-30T00:00:00\",\"2017-09-30T00:00:00\",\"2017-12-31T00:00:00\",\"2018-03-31T00:00:00\",\"2018-06-30T00:00:00\",\"2018-09-30T00:00:00\",\"2018-12-31T00:00:00\",\"2019-03-31T00:00:00\",\"2019-06-30T00:00:00\",\"2019-09-30T00:00:00\",\"2019-12-31T00:00:00\",\"2020-03-31T00:00:00\",\"2020-06-30T00:00:00\",\"2020-09-30T00:00:00\",\"2020-12-31T00:00:00\",\"2021-03-31T00:00:00\",\"2021-06-30T00:00:00\",\"2021-09-30T00:00:00\",\"2021-12-31T00:00:00\",\"2022-03-31T00:00:00\",\"2022-06-30T00:00:00\",\"2022-09-30T00:00:00\",\"2022-12-31T00:00:00\",\"2023-03-31T00:00:00\",\"2023-06-30T00:00:00\"],\"y\":[1065.4371958232998,1129.158555801018,1253.504932219555,1294.5627948278475,1345.5449075612785,1376.0488503962213,1450.4209420711502,1489.7999079150622,1504.1006826860594,1419.0491976789824,1532.8619041760492,1526.8454764030162,1595.6530802603083,1670.5003529710327,1693.3048216355464,1806.3940396765208,1877.9491868072244,1974.0047428534597,2083.7869748399794,2136.843713783442,2209.0551592121974,2413.5292586963624,2175.7094661891324,2370.8521064286383,2435.7967721326663,2514.7218204608134,2731.0651296527913,2291.9914990282114,2599.984512088596,2808.7678965191553,3100.289213300711,3350.5361613923674,3568.127870904715,3564.924966398189,3894.5966139011493,3875.813552377668,3521.3314335965306,3244.2768305862883,3521.720690443635,3590.0165855143373,3728.5024491728045,3726.7208199094616],\"type\":\"scatter\"},{\"mode\":\"lines\",\"name\":\"Top 10 Portfolio\",\"x\":[\"2013-03-31T00:00:00\",\"2013-06-30T00:00:00\",\"2013-09-30T00:00:00\",\"2013-12-31T00:00:00\",\"2014-03-31T00:00:00\",\"2014-06-30T00:00:00\",\"2014-09-30T00:00:00\",\"2014-12-31T00:00:00\",\"2015-03-31T00:00:00\",\"2015-06-30T00:00:00\",\"2015-09-30T00:00:00\",\"2015-12-31T00:00:00\",\"2016-03-31T00:00:00\",\"2016-06-30T00:00:00\",\"2016-09-30T00:00:00\",\"2016-12-31T00:00:00\",\"2017-03-31T00:00:00\",\"2017-06-30T00:00:00\",\"2017-09-30T00:00:00\",\"2017-12-31T00:00:00\",\"2018-03-31T00:00:00\",\"2018-06-30T00:00:00\",\"2018-09-30T00:00:00\",\"2018-12-31T00:00:00\",\"2019-03-31T00:00:00\",\"2019-06-30T00:00:00\",\"2019-09-30T00:00:00\",\"2019-12-31T00:00:00\",\"2020-03-31T00:00:00\",\"2020-06-30T00:00:00\",\"2020-09-30T00:00:00\",\"2020-12-31T00:00:00\",\"2021-03-31T00:00:00\",\"2021-06-30T00:00:00\",\"2021-09-30T00:00:00\",\"2021-12-31T00:00:00\",\"2022-03-31T00:00:00\",\"2022-06-30T00:00:00\",\"2022-09-30T00:00:00\",\"2022-12-31T00:00:00\",\"2023-03-31T00:00:00\",\"2023-06-30T00:00:00\"],\"y\":[1248.8516019942626,1425.883095507083,1775.6732488936375,1960.6605522436334,2128.2134466781454,2325.703343916586,2721.374854069591,3074.976289278686,3421.6754262648487,3611.8871106353636,4563.276279282744,5057.317959985714,5405.292263457966,6405.247025230758,7569.249305306302,9181.260140388154,10123.798226656196,11531.156938388789,13601.77784972459,15092.37130386732,16703.898607541105,20713.738431461166,21517.941852546242,25689.641900784074,29125.146270493082,32268.89917510347,41693.89147115683,42645.17037372189,53321.34865179745,61533.71890933358,80450.34047318851,103895.68559941997,111934.65176096495,124732.7113002283,153828.67201245742,198933.00882937547,200982.09175611992,202917.39923264555,239783.20036992297,263135.34884618706,311598.9643446388,366608.03842074936],\"type\":\"scatter\"}],                        {\"template\":{\"data\":{\"barpolar\":[{\"marker\":{\"line\":{\"color\":\"#E5ECF6\",\"width\":0.5},\"pattern\":{\"fillmode\":\"overlay\",\"size\":10,\"solidity\":0.2}},\"type\":\"barpolar\"}],\"bar\":[{\"error_x\":{\"color\":\"#2a3f5f\"},\"error_y\":{\"color\":\"#2a3f5f\"},\"marker\":{\"line\":{\"color\":\"#E5ECF6\",\"width\":0.5},\"pattern\":{\"fillmode\":\"overlay\",\"size\":10,\"solidity\":0.2}},\"type\":\"bar\"}],\"carpet\":[{\"aaxis\":{\"endlinecolor\":\"#2a3f5f\",\"gridcolor\":\"white\",\"linecolor\":\"white\",\"minorgridcolor\":\"white\",\"startlinecolor\":\"#2a3f5f\"},\"baxis\":{\"endlinecolor\":\"#2a3f5f\",\"gridcolor\":\"white\",\"linecolor\":\"white\",\"minorgridcolor\":\"white\",\"startlinecolor\":\"#2a3f5f\"},\"type\":\"carpet\"}],\"choropleth\":[{\"colorbar\":{\"outlinewidth\":0,\"ticks\":\"\"},\"type\":\"choropleth\"}],\"contourcarpet\":[{\"colorbar\":{\"outlinewidth\":0,\"ticks\":\"\"},\"type\":\"contourcarpet\"}],\"contour\":[{\"colorbar\":{\"outlinewidth\":0,\"ticks\":\"\"},\"colorscale\":[[0.0,\"#0d0887\"],[0.1111111111111111,\"#46039f\"],[0.2222222222222222,\"#7201a8\"],[0.3333333333333333,\"#9c179e\"],[0.4444444444444444,\"#bd3786\"],[0.5555555555555556,\"#d8576b\"],[0.6666666666666666,\"#ed7953\"],[0.7777777777777778,\"#fb9f3a\"],[0.8888888888888888,\"#fdca26\"],[1.0,\"#f0f921\"]],\"type\":\"contour\"}],\"heatmapgl\":[{\"colorbar\":{\"outlinewidth\":0,\"ticks\":\"\"},\"colorscale\":[[0.0,\"#0d0887\"],[0.1111111111111111,\"#46039f\"],[0.2222222222222222,\"#7201a8\"],[0.3333333333333333,\"#9c179e\"],[0.4444444444444444,\"#bd3786\"],[0.5555555555555556,\"#d8576b\"],[0.6666666666666666,\"#ed7953\"],[0.7777777777777778,\"#fb9f3a\"],[0.8888888888888888,\"#fdca26\"],[1.0,\"#f0f921\"]],\"type\":\"heatmapgl\"}],\"heatmap\":[{\"colorbar\":{\"outlinewidth\":0,\"ticks\":\"\"},\"colorscale\":[[0.0,\"#0d0887\"],[0.1111111111111111,\"#46039f\"],[0.2222222222222222,\"#7201a8\"],[0.3333333333333333,\"#9c179e\"],[0.4444444444444444,\"#bd3786\"],[0.5555555555555556,\"#d8576b\"],[0.6666666666666666,\"#ed7953\"],[0.7777777777777778,\"#fb9f3a\"],[0.8888888888888888,\"#fdca26\"],[1.0,\"#f0f921\"]],\"type\":\"heatmap\"}],\"histogram2dcontour\":[{\"colorbar\":{\"outlinewidth\":0,\"ticks\":\"\"},\"colorscale\":[[0.0,\"#0d0887\"],[0.1111111111111111,\"#46039f\"],[0.2222222222222222,\"#7201a8\"],[0.3333333333333333,\"#9c179e\"],[0.4444444444444444,\"#bd3786\"],[0.5555555555555556,\"#d8576b\"],[0.6666666666666666,\"#ed7953\"],[0.7777777777777778,\"#fb9f3a\"],[0.8888888888888888,\"#fdca26\"],[1.0,\"#f0f921\"]],\"type\":\"histogram2dcontour\"}],\"histogram2d\":[{\"colorbar\":{\"outlinewidth\":0,\"ticks\":\"\"},\"colorscale\":[[0.0,\"#0d0887\"],[0.1111111111111111,\"#46039f\"],[0.2222222222222222,\"#7201a8\"],[0.3333333333333333,\"#9c179e\"],[0.4444444444444444,\"#bd3786\"],[0.5555555555555556,\"#d8576b\"],[0.6666666666666666,\"#ed7953\"],[0.7777777777777778,\"#fb9f3a\"],[0.8888888888888888,\"#fdca26\"],[1.0,\"#f0f921\"]],\"type\":\"histogram2d\"}],\"histogram\":[{\"marker\":{\"pattern\":{\"fillmode\":\"overlay\",\"size\":10,\"solidity\":0.2}},\"type\":\"histogram\"}],\"mesh3d\":[{\"colorbar\":{\"outlinewidth\":0,\"ticks\":\"\"},\"type\":\"mesh3d\"}],\"parcoords\":[{\"line\":{\"colorbar\":{\"outlinewidth\":0,\"ticks\":\"\"}},\"type\":\"parcoords\"}],\"pie\":[{\"automargin\":true,\"type\":\"pie\"}],\"scatter3d\":[{\"line\":{\"colorbar\":{\"outlinewidth\":0,\"ticks\":\"\"}},\"marker\":{\"colorbar\":{\"outlinewidth\":0,\"ticks\":\"\"}},\"type\":\"scatter3d\"}],\"scattercarpet\":[{\"marker\":{\"colorbar\":{\"outlinewidth\":0,\"ticks\":\"\"}},\"type\":\"scattercarpet\"}],\"scattergeo\":[{\"marker\":{\"colorbar\":{\"outlinewidth\":0,\"ticks\":\"\"}},\"type\":\"scattergeo\"}],\"scattergl\":[{\"marker\":{\"colorbar\":{\"outlinewidth\":0,\"ticks\":\"\"}},\"type\":\"scattergl\"}],\"scattermapbox\":[{\"marker\":{\"colorbar\":{\"outlinewidth\":0,\"ticks\":\"\"}},\"type\":\"scattermapbox\"}],\"scatterpolargl\":[{\"marker\":{\"colorbar\":{\"outlinewidth\":0,\"ticks\":\"\"}},\"type\":\"scatterpolargl\"}],\"scatterpolar\":[{\"marker\":{\"colorbar\":{\"outlinewidth\":0,\"ticks\":\"\"}},\"type\":\"scatterpolar\"}],\"scatter\":[{\"fillpattern\":{\"fillmode\":\"overlay\",\"size\":10,\"solidity\":0.2},\"type\":\"scatter\"}],\"scatterternary\":[{\"marker\":{\"colorbar\":{\"outlinewidth\":0,\"ticks\":\"\"}},\"type\":\"scatterternary\"}],\"surface\":[{\"colorbar\":{\"outlinewidth\":0,\"ticks\":\"\"},\"colorscale\":[[0.0,\"#0d0887\"],[0.1111111111111111,\"#46039f\"],[0.2222222222222222,\"#7201a8\"],[0.3333333333333333,\"#9c179e\"],[0.4444444444444444,\"#bd3786\"],[0.5555555555555556,\"#d8576b\"],[0.6666666666666666,\"#ed7953\"],[0.7777777777777778,\"#fb9f3a\"],[0.8888888888888888,\"#fdca26\"],[1.0,\"#f0f921\"]],\"type\":\"surface\"}],\"table\":[{\"cells\":{\"fill\":{\"color\":\"#EBF0F8\"},\"line\":{\"color\":\"white\"}},\"header\":{\"fill\":{\"color\":\"#C8D4E3\"},\"line\":{\"color\":\"white\"}},\"type\":\"table\"}]},\"layout\":{\"annotationdefaults\":{\"arrowcolor\":\"#2a3f5f\",\"arrowhead\":0,\"arrowwidth\":1},\"autotypenumbers\":\"strict\",\"coloraxis\":{\"colorbar\":{\"outlinewidth\":0,\"ticks\":\"\"}},\"colorscale\":{\"diverging\":[[0,\"#8e0152\"],[0.1,\"#c51b7d\"],[0.2,\"#de77ae\"],[0.3,\"#f1b6da\"],[0.4,\"#fde0ef\"],[0.5,\"#f7f7f7\"],[0.6,\"#e6f5d0\"],[0.7,\"#b8e186\"],[0.8,\"#7fbc41\"],[0.9,\"#4d9221\"],[1,\"#276419\"]],\"sequential\":[[0.0,\"#0d0887\"],[0.1111111111111111,\"#46039f\"],[0.2222222222222222,\"#7201a8\"],[0.3333333333333333,\"#9c179e\"],[0.4444444444444444,\"#bd3786\"],[0.5555555555555556,\"#d8576b\"],[0.6666666666666666,\"#ed7953\"],[0.7777777777777778,\"#fb9f3a\"],[0.8888888888888888,\"#fdca26\"],[1.0,\"#f0f921\"]],\"sequentialminus\":[[0.0,\"#0d0887\"],[0.1111111111111111,\"#46039f\"],[0.2222222222222222,\"#7201a8\"],[0.3333333333333333,\"#9c179e\"],[0.4444444444444444,\"#bd3786\"],[0.5555555555555556,\"#d8576b\"],[0.6666666666666666,\"#ed7953\"],[0.7777777777777778,\"#fb9f3a\"],[0.8888888888888888,\"#fdca26\"],[1.0,\"#f0f921\"]]},\"colorway\":[\"#636efa\",\"#EF553B\",\"#00cc96\",\"#ab63fa\",\"#FFA15A\",\"#19d3f3\",\"#FF6692\",\"#B6E880\",\"#FF97FF\",\"#FECB52\"],\"font\":{\"color\":\"#2a3f5f\"},\"geo\":{\"bgcolor\":\"white\",\"lakecolor\":\"white\",\"landcolor\":\"#E5ECF6\",\"showlakes\":true,\"showland\":true,\"subunitcolor\":\"white\"},\"hoverlabel\":{\"align\":\"left\"},\"hovermode\":\"closest\",\"mapbox\":{\"style\":\"light\"},\"paper_bgcolor\":\"rgba(0,0,0,0)\",\"plot_bgcolor\":\"rgba(250,250,250,0.8)\",\"polar\":{\"angularaxis\":{\"gridcolor\":\"white\",\"linecolor\":\"white\",\"ticks\":\"\"},\"bgcolor\":\"#E5ECF6\",\"radialaxis\":{\"gridcolor\":\"white\",\"linecolor\":\"white\",\"ticks\":\"\"}},\"scene\":{\"xaxis\":{\"backgroundcolor\":\"#E5ECF6\",\"gridcolor\":\"white\",\"gridwidth\":2,\"linecolor\":\"white\",\"showbackground\":true,\"ticks\":\"\",\"zerolinecolor\":\"white\"},\"yaxis\":{\"backgroundcolor\":\"#E5ECF6\",\"gridcolor\":\"white\",\"gridwidth\":2,\"linecolor\":\"white\",\"showbackground\":true,\"ticks\":\"\",\"zerolinecolor\":\"white\"},\"zaxis\":{\"backgroundcolor\":\"#E5ECF6\",\"gridcolor\":\"white\",\"gridwidth\":2,\"linecolor\":\"white\",\"showbackground\":true,\"ticks\":\"\",\"zerolinecolor\":\"white\"}},\"shapedefaults\":{\"line\":{\"color\":\"#2a3f5f\"}},\"ternary\":{\"aaxis\":{\"gridcolor\":\"white\",\"linecolor\":\"white\",\"ticks\":\"\"},\"baxis\":{\"gridcolor\":\"white\",\"linecolor\":\"white\",\"ticks\":\"\"},\"bgcolor\":\"#E5ECF6\",\"caxis\":{\"gridcolor\":\"white\",\"linecolor\":\"white\",\"ticks\":\"\"}},\"title\":{\"x\":0.05},\"xaxis\":{\"automargin\":true,\"gridcolor\":\"white\",\"linecolor\":\"white\",\"ticks\":\"\",\"title\":{\"standoff\":15},\"zerolinecolor\":\"white\",\"zerolinewidth\":2},\"yaxis\":{\"automargin\":true,\"gridcolor\":\"white\",\"linecolor\":\"white\",\"ticks\":\"\",\"title\":{\"standoff\":15},\"zerolinecolor\":\"white\",\"zerolinewidth\":2}}},\"title\":{\"text\":\"Portfolio Value Over Time ($1,000 Investment)\"},\"xaxis\":{\"title\":{\"text\":\"Date\"}},\"yaxis\":{\"title\":{\"text\":\"Portfolio Value ($)\"}}},                        {\"responsive\": true}                    ).then(function(){\n",
       "                            \n",
       "var gd = document.getElementById('57f016f9-3c38-4366-a0d5-223716fd6a27');\n",
       "var x = new MutationObserver(function (mutations, observer) {{\n",
       "        var display = window.getComputedStyle(gd).display;\n",
       "        if (!display || display === 'none') {{\n",
       "            console.log([gd, 'removed!']);\n",
       "            Plotly.purge(gd);\n",
       "            observer.disconnect();\n",
       "        }}\n",
       "}});\n",
       "\n",
       "// Listen for the removal of the full notebook cells\n",
       "var notebookContainer = gd.closest('#notebook-container');\n",
       "if (notebookContainer) {{\n",
       "    x.observe(notebookContainer, {childList: true});\n",
       "}}\n",
       "\n",
       "// Listen for the clearing of the current output cell\n",
       "var outputEl = gd.closest('.output');\n",
       "if (outputEl) {{\n",
       "    x.observe(outputEl, {childList: true});\n",
       "}}\n",
       "\n",
       "                        })                };                });            </script>        </div>"
      ]
     },
     "metadata": {},
     "output_type": "display_data"
    }
   ],
   "source": [
    "import plotly.graph_objects as go\n",
    "\n",
    "# Assuming you have a dataframe 'df_avg' with columns 'datadate', 'baseline_portfolio', and 'top_10'\n",
    "\n",
    "# Calculate the cumulative return for both portfolios\n",
    "df_avg['baseline_cum_return'] = (1 + df_avg['baseline']).cumprod()\n",
    "df_avg['top_10_cum_return'] = (1 + df_avg['top_10']).cumprod()\n",
    "\n",
    "# Calculate the value over time of a $1,000 investment\n",
    "initial_investment = 1000\n",
    "df_avg['baseline_value'] = initial_investment * df_avg['baseline_cum_return']\n",
    "df_avg['top_10_value'] = initial_investment * df_avg['top_10_cum_return']\n",
    "\n",
    "# Create the plot\n",
    "fig = go.Figure()\n",
    "\n",
    "# Add baseline portfolio trace\n",
    "fig.add_trace(go.Scatter(x=df_avg['datadate'], y=df_avg['baseline_value'],\n",
    "                         mode='lines', name='Baseline Portfolio'))\n",
    "\n",
    "# Add top_10 portfolio trace\n",
    "fig.add_trace(go.Scatter(x=df_avg['datadate'], y=df_avg['top_10_value'],\n",
    "                         mode='lines', name='Top 10 Portfolio'))\n",
    "\n",
    "# Update the layout\n",
    "fig.update_layout(\n",
    "    title='Portfolio Value Over Time ($1,000 Investment)',\n",
    "    xaxis_title='Date',\n",
    "    yaxis_title='Portfolio Value ($)',\n",
    ")\n",
    "\n",
    "# Show the plot\n",
    "fig.show()\n"
   ]
  }
 ],
 "metadata": {
  "kernelspec": {
   "display_name": "Python 3",
   "language": "python",
   "name": "python3"
  },
  "language_info": {
   "codemirror_mode": {
    "name": "ipython",
    "version": 3
   },
   "file_extension": ".py",
   "mimetype": "text/x-python",
   "name": "python",
   "nbconvert_exporter": "python",
   "pygments_lexer": "ipython3",
   "version": "3.9.13"
  }
 },
 "nbformat": 4,
 "nbformat_minor": 2
}
