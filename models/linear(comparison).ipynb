{
 "cells": [
  {
   "cell_type": "code",
   "execution_count": 1,
   "metadata": {},
   "outputs": [
    {
     "name": "stderr",
     "output_type": "stream",
     "text": [
      "/Library/Frameworks/Python.framework/Versions/3.11/lib/python3.11/site-packages/tqdm/auto.py:21: TqdmWarning: IProgress not found. Please update jupyter and ipywidgets. See https://ipywidgets.readthedocs.io/en/stable/user_install.html\n",
      "  from .autonotebook import tqdm as notebook_tqdm\n"
     ]
    },
    {
     "data": {
      "text/html": [
       "        <script type=\"text/javascript\">\n",
       "        window.PlotlyConfig = {MathJaxConfig: 'local'};\n",
       "        if (window.MathJax && window.MathJax.Hub && window.MathJax.Hub.Config) {window.MathJax.Hub.Config({SVG: {font: \"STIX-Web\"}});}\n",
       "        if (typeof require !== 'undefined') {\n",
       "        require.undef(\"plotly\");\n",
       "        requirejs.config({\n",
       "            paths: {\n",
       "                'plotly': ['https://cdn.plot.ly/plotly-2.35.2.min']\n",
       "            }\n",
       "        });\n",
       "        require(['plotly'], function(Plotly) {\n",
       "            window._Plotly = Plotly;\n",
       "        });\n",
       "        }\n",
       "        </script>\n",
       "        "
      ]
     },
     "metadata": {},
     "output_type": "display_data"
    }
   ],
   "source": [
    "import os\n",
    "import numpy as np\n",
    "import pandas as pd\n",
    "#import xgboost as xgb\n",
    "import matplotlib.pyplot as plt\n",
    "#from xgboost import plot_importance, plot_tree\n",
    "from sklearn.metrics import mean_squared_error\n",
    "from sklearn.preprocessing import MinMaxScaler, StandardScaler\n",
    "from sklearn.model_selection import train_test_split, GridSearchCV\n",
    "from sklearn.metrics import accuracy_score,classification_report\n",
    "from sklearn.metrics import roc_curve, auc\n",
    "from sklearn.base import BaseEstimator\n",
    "from sklearn.linear_model import LinearRegression, Ridge, Lasso\n",
    "from contextualized.easy import ContextualizedRegressor\n",
    "\n",
    "# Time series decomposition\n",
    "from statsmodels.tsa.seasonal import seasonal_decompose\n",
    "\n",
    "# Chart drawing\n",
    "import plotly as py\n",
    "import plotly.io as pio\n",
    "import plotly.graph_objects as go\n",
    "from plotly.subplots import make_subplots\n",
    "from plotly.offline import download_plotlyjs, init_notebook_mode, plot, iplot\n",
    "\n",
    "# Mute sklearn warnings\n",
    "from warnings import simplefilter\n",
    "simplefilter(action='ignore', category=FutureWarning)\n",
    "simplefilter(action='ignore', category=DeprecationWarning)\n",
    "\n",
    "# Show charts when running kernel\n",
    "init_notebook_mode(connected=True)\n",
    "\n",
    "# Change default background color for all visualizations\n",
    "layout=go.Layout(paper_bgcolor='rgba(0,0,0,0)', plot_bgcolor='rgba(250,250,250,0.8)')\n",
    "fig = go.Figure(layout=layout)\n",
    "templated_fig = pio.to_templated(fig)\n",
    "pio.templates['my_template'] = templated_fig.layout.template\n",
    "pio.templates.default = 'my_template'"
   ]
  },
  {
   "cell_type": "code",
   "execution_count": 2,
   "metadata": {},
   "outputs": [
    {
     "name": "stdout",
     "output_type": "stream",
     "text": [
      "<class 'pandas.core.frame.DataFrame'>\n",
      "Index: 14322 entries, 1 to 15338\n",
      "Data columns (total 48 columns):\n",
      " #   Column                          Non-Null Count  Dtype         \n",
      "---  ------                          --------------  -----         \n",
      " 0   gvkey                           14322 non-null  int64         \n",
      " 1   datadate                        14322 non-null  datetime64[ns]\n",
      " 2   tic                             14322 non-null  object        \n",
      " 3   actq                            14322 non-null  float64       \n",
      " 4   ancq                            14322 non-null  float64       \n",
      " 5   epsfxq                          14302 non-null  float64       \n",
      " 6   lctq                            14322 non-null  float64       \n",
      " 7   ltq                             14322 non-null  float64       \n",
      " 8   revtq                           14322 non-null  float64       \n",
      " 9   capxy                           13783 non-null  float64       \n",
      " 10  roa                             14289 non-null  float64       \n",
      " 11  roe                             14097 non-null  float64       \n",
      " 12  pe_inc                          13681 non-null  float64       \n",
      " 13  divyield                        11113 non-null  float64       \n",
      " 14  pcf                             14290 non-null  float64       \n",
      " 15  roce                            14187 non-null  float64       \n",
      " 16  debt_ebitda                     14176 non-null  float64       \n",
      " 17  gpm                             14310 non-null  float64       \n",
      " 18  evm                             14243 non-null  float64       \n",
      " 19  cfm                             14037 non-null  float64       \n",
      " 20  npm                             14311 non-null  float64       \n",
      " 21  PEG_trailing                    9837 non-null   float64       \n",
      " 22  de_ratio                        14307 non-null  float64       \n",
      " 23  curr_ratio                      12494 non-null  float64       \n",
      " 24  ptb                             14128 non-null  float64       \n",
      " 25  roa_change                      14318 non-null  float64       \n",
      " 26  roe_change                      14316 non-null  float64       \n",
      " 27  pe_inc_change                   14322 non-null  float64       \n",
      " 28  divyield_change                 14298 non-null  float64       \n",
      " 29  pcf_change                      14322 non-null  float64       \n",
      " 30  roce_change                     14315 non-null  float64       \n",
      " 31  debt_ebitda_change              13908 non-null  float64       \n",
      " 32  gpm_change                      14322 non-null  float64       \n",
      " 33  evm_change                      14322 non-null  float64       \n",
      " 34  cfm_change                      14318 non-null  float64       \n",
      " 35  npm_change                      14309 non-null  float64       \n",
      " 36  PEG_trailing_change             14294 non-null  float64       \n",
      " 37  de_ratio_change                 14322 non-null  float64       \n",
      " 38  curr_ratio_change               14322 non-null  float64       \n",
      " 39  ptb_change                      14322 non-null  float64       \n",
      " 40  relative_quarterly_return       14322 non-null  float64       \n",
      " 41  next_relative_quarterly_return  14321 non-null  float64       \n",
      " 42  spindx                          14322 non-null  float64       \n",
      " 43  spindx_change                   14322 non-null  float64       \n",
      " 44  next_spindx_change              14321 non-null  float64       \n",
      " 45  prccq                           14321 non-null  float64       \n",
      " 46  prccq_change                    14322 non-null  float64       \n",
      " 47  next_prccq_change               14321 non-null  float64       \n",
      "dtypes: datetime64[ns](1), float64(45), int64(1), object(1)\n",
      "memory usage: 5.4+ MB\n"
     ]
    }
   ],
   "source": [
    "file_path = '/Users/edocampione/Desktop/Meng Engineering Science/4YP/scripts/dati_trattati.csv' # cleaned data\n",
    "df = pd.read_csv(file_path)\n",
    "df['datadate'] = pd.to_datetime(df['datadate'])\n",
    "df['datadate'] = df['datadate'] + pd.offsets.QuarterEnd(0)\n",
    "\n",
    "df = df.dropna(subset=['relative_quarterly_return'])\n",
    "\n",
    "df.info()"
   ]
  },
  {
   "cell_type": "code",
   "execution_count": 3,
   "metadata": {},
   "outputs": [
    {
     "name": "stdout",
     "output_type": "stream",
     "text": [
      "<class 'pandas.core.frame.DataFrame'>\n",
      "Index: 11212 entries, 32 to 15337\n",
      "Data columns (total 43 columns):\n",
      " #   Column                          Non-Null Count  Dtype         \n",
      "---  ------                          --------------  -----         \n",
      " 0   gvkey                           11212 non-null  int64         \n",
      " 1   datadate                        11212 non-null  datetime64[ns]\n",
      " 2   tic                             11212 non-null  object        \n",
      " 3   actq                            11212 non-null  float64       \n",
      " 4   ancq                            11212 non-null  float64       \n",
      " 5   epsfxq                          11212 non-null  float64       \n",
      " 6   lctq                            11212 non-null  float64       \n",
      " 7   ltq                             11212 non-null  float64       \n",
      " 8   revtq                           11212 non-null  float64       \n",
      " 9   roa                             11212 non-null  float64       \n",
      " 10  roe                             11212 non-null  float64       \n",
      " 11  pe_inc                          11212 non-null  float64       \n",
      " 12  pcf                             11212 non-null  float64       \n",
      " 13  roce                            11212 non-null  float64       \n",
      " 14  debt_ebitda                     11212 non-null  float64       \n",
      " 15  gpm                             11212 non-null  float64       \n",
      " 16  evm                             11212 non-null  float64       \n",
      " 17  npm                             11212 non-null  float64       \n",
      " 18  curr_ratio                      11212 non-null  float64       \n",
      " 19  ptb                             11212 non-null  float64       \n",
      " 20  roa_change                      11212 non-null  float64       \n",
      " 21  roe_change                      11212 non-null  float64       \n",
      " 22  pe_inc_change                   11212 non-null  float64       \n",
      " 23  divyield_change                 11212 non-null  float64       \n",
      " 24  pcf_change                      11212 non-null  float64       \n",
      " 25  roce_change                     11212 non-null  float64       \n",
      " 26  debt_ebitda_change              11212 non-null  float64       \n",
      " 27  gpm_change                      11212 non-null  float64       \n",
      " 28  evm_change                      11212 non-null  float64       \n",
      " 29  cfm_change                      11212 non-null  float64       \n",
      " 30  npm_change                      11212 non-null  float64       \n",
      " 31  PEG_trailing_change             11212 non-null  float64       \n",
      " 32  de_ratio_change                 11212 non-null  float64       \n",
      " 33  curr_ratio_change               11212 non-null  float64       \n",
      " 34  ptb_change                      11212 non-null  float64       \n",
      " 35  relative_quarterly_return       11212 non-null  float64       \n",
      " 36  next_relative_quarterly_return  11212 non-null  float64       \n",
      " 37  spindx                          11212 non-null  float64       \n",
      " 38  spindx_change                   11212 non-null  float64       \n",
      " 39  next_spindx_change              11212 non-null  float64       \n",
      " 40  prccq                           11212 non-null  float64       \n",
      " 41  prccq_change                    11212 non-null  float64       \n",
      " 42  next_prccq_change               11212 non-null  float64       \n",
      "dtypes: datetime64[ns](1), float64(40), int64(1), object(1)\n",
      "memory usage: 3.8+ MB\n"
     ]
    }
   ],
   "source": [
    "drop_features = ['capxy', 'cfm', 'PEG_trailing', 'de_ratio', 'divyield']\n",
    "\n",
    "# Drop the specified columns\n",
    "df = df.drop(columns=drop_features)\n",
    "\n",
    "# Drop rows with missing values\n",
    "df = df.dropna()\n",
    "\n",
    "# Display dataframe info\n",
    "df.info()\n"
   ]
  },
  {
   "cell_type": "code",
   "execution_count": 4,
   "metadata": {},
   "outputs": [
    {
     "name": "stdout",
     "output_type": "stream",
     "text": [
      "Number of unique gvkeys: 80\n",
      "['AAPL' 'ABT' 'ADBE' 'ADM' 'AMD' 'AMGN' 'AMT' 'AMZN' 'APD' 'BA' 'BAX'\n",
      " 'BMY' 'CAT' 'CL' 'CME' 'COP' 'COST' 'CSCO' 'CTSH' 'CVS' 'CVX' 'DIS' 'ECL'\n",
      " 'EQIX' 'EXC' 'EXPE' 'F' 'FDX' 'FIS' 'GE' 'GOOGL' 'HCA' 'HD' 'IBM' 'INTC'\n",
      " 'JBL' 'JNJ' 'KMB' 'KO' 'LLY' 'LMT' 'LUV' 'MA' 'MCD' 'META' 'MMC' 'MMM'\n",
      " 'MRK' 'MSFT' 'MU' 'NFLX' 'NKE' 'NOC' 'NVDA' 'OXY' 'PFE' 'PG' 'PPL' 'PYPL'\n",
      " 'QCOM' 'REGN' 'RJF' 'RTX' 'SBUX' 'SPGI' 'STZ' 'T' 'TGT' 'TMO' 'TSLA'\n",
      " 'TSN' 'UNH' 'UPS' 'V' 'VZ' 'WBA' 'WDC' 'WMT' 'XOM' 'ZTS']\n"
     ]
    }
   ],
   "source": [
    "# Find the unique number of stocks in the dataframe\n",
    "unique_gvkeys = df['tic'].unique()\n",
    "\n",
    "# Print the result\n",
    "print(f\"Number of unique gvkeys: {len(unique_gvkeys)}\")\n",
    "print(unique_gvkeys)\n"
   ]
  },
  {
   "cell_type": "code",
   "execution_count": 5,
   "metadata": {},
   "outputs": [
    {
     "name": "stdout",
     "output_type": "stream",
     "text": [
      "Number of unique gvkeys: 80\n",
      "<class 'pandas.core.frame.DataFrame'>\n",
      "Index: 11212 entries, 172 to 3737\n",
      "Data columns (total 43 columns):\n",
      " #   Column                          Non-Null Count  Dtype         \n",
      "---  ------                          --------------  -----         \n",
      " 0   gvkey                           11212 non-null  int64         \n",
      " 1   datadate                        11212 non-null  datetime64[ns]\n",
      " 2   tic                             11212 non-null  object        \n",
      " 3   actq                            11212 non-null  float64       \n",
      " 4   ancq                            11212 non-null  float64       \n",
      " 5   epsfxq                          11212 non-null  float64       \n",
      " 6   lctq                            11212 non-null  float64       \n",
      " 7   ltq                             11212 non-null  float64       \n",
      " 8   revtq                           11212 non-null  float64       \n",
      " 9   roa                             11212 non-null  float64       \n",
      " 10  roe                             11212 non-null  float64       \n",
      " 11  pe_inc                          11212 non-null  float64       \n",
      " 12  pcf                             11212 non-null  float64       \n",
      " 13  roce                            11212 non-null  float64       \n",
      " 14  debt_ebitda                     11212 non-null  float64       \n",
      " 15  gpm                             11212 non-null  float64       \n",
      " 16  evm                             11212 non-null  float64       \n",
      " 17  npm                             11212 non-null  float64       \n",
      " 18  curr_ratio                      11212 non-null  float64       \n",
      " 19  ptb                             11212 non-null  float64       \n",
      " 20  roa_change                      11212 non-null  float64       \n",
      " 21  roe_change                      11212 non-null  float64       \n",
      " 22  pe_inc_change                   11212 non-null  float64       \n",
      " 23  divyield_change                 11212 non-null  float64       \n",
      " 24  pcf_change                      11212 non-null  float64       \n",
      " 25  roce_change                     11212 non-null  float64       \n",
      " 26  debt_ebitda_change              11212 non-null  float64       \n",
      " 27  gpm_change                      11212 non-null  float64       \n",
      " 28  evm_change                      11212 non-null  float64       \n",
      " 29  cfm_change                      11212 non-null  float64       \n",
      " 30  npm_change                      11212 non-null  float64       \n",
      " 31  PEG_trailing_change             11212 non-null  float64       \n",
      " 32  de_ratio_change                 11212 non-null  float64       \n",
      " 33  curr_ratio_change               11212 non-null  float64       \n",
      " 34  ptb_change                      11212 non-null  float64       \n",
      " 35  relative_quarterly_return       11212 non-null  float64       \n",
      " 36  next_relative_quarterly_return  11212 non-null  float64       \n",
      " 37  spindx                          11212 non-null  float64       \n",
      " 38  spindx_change                   11212 non-null  float64       \n",
      " 39  next_spindx_change              11212 non-null  float64       \n",
      " 40  prccq                           11212 non-null  float64       \n",
      " 41  prccq_change                    11212 non-null  float64       \n",
      " 42  next_prccq_change               11212 non-null  float64       \n",
      "dtypes: datetime64[ns](1), float64(40), int64(1), object(1)\n",
      "memory usage: 3.8+ MB\n"
     ]
    }
   ],
   "source": [
    "df = df.dropna()\n",
    "df = df.sort_values(by=['datadate'])\n",
    "\n",
    "unique_gvkeys = df['tic'].unique()\n",
    "\n",
    "# Print the result\n",
    "print(f\"Number of unique gvkeys: {len(unique_gvkeys)}\")\n",
    "\n",
    "df.info()"
   ]
  },
  {
   "cell_type": "code",
   "execution_count": 6,
   "metadata": {},
   "outputs": [],
   "source": [
    "tickers_to_drop = ['AMT', 'CTSH', 'GOOGL', 'META', 'PYPL', 'RJF', 'TSLA', 'ZTS']\n",
    "\n",
    "df = df[~df['tic'].isin(tickers_to_drop)]"
   ]
  },
  {
   "cell_type": "code",
   "execution_count": 7,
   "metadata": {},
   "outputs": [
    {
     "data": {
      "text/html": [
       "<div>\n",
       "<style scoped>\n",
       "    .dataframe tbody tr th:only-of-type {\n",
       "        vertical-align: middle;\n",
       "    }\n",
       "\n",
       "    .dataframe tbody tr th {\n",
       "        vertical-align: top;\n",
       "    }\n",
       "\n",
       "    .dataframe thead th {\n",
       "        text-align: right;\n",
       "    }\n",
       "</style>\n",
       "<table border=\"1\" class=\"dataframe\">\n",
       "  <thead>\n",
       "    <tr style=\"text-align: right;\">\n",
       "      <th></th>\n",
       "      <th>gvkey</th>\n",
       "      <th>datadate</th>\n",
       "      <th>tic</th>\n",
       "      <th>actq</th>\n",
       "      <th>ancq</th>\n",
       "      <th>epsfxq</th>\n",
       "      <th>lctq</th>\n",
       "      <th>ltq</th>\n",
       "      <th>revtq</th>\n",
       "      <th>roa</th>\n",
       "      <th>...</th>\n",
       "      <th>curr_ratio_change</th>\n",
       "      <th>ptb_change</th>\n",
       "      <th>relative_quarterly_return</th>\n",
       "      <th>next_relative_quarterly_return</th>\n",
       "      <th>spindx</th>\n",
       "      <th>spindx_change</th>\n",
       "      <th>next_spindx_change</th>\n",
       "      <th>prccq</th>\n",
       "      <th>prccq_change</th>\n",
       "      <th>next_prccq_change</th>\n",
       "    </tr>\n",
       "  </thead>\n",
       "  <tbody>\n",
       "    <tr>\n",
       "      <th>1253</th>\n",
       "      <td>1161</td>\n",
       "      <td>2013-03-31</td>\n",
       "      <td>AMD</td>\n",
       "      <td>0.032230</td>\n",
       "      <td>-0.159078</td>\n",
       "      <td>-0.698413</td>\n",
       "      <td>-0.054402</td>\n",
       "      <td>-0.023108</td>\n",
       "      <td>-0.058009</td>\n",
       "      <td>0.023</td>\n",
       "      <td>...</td>\n",
       "      <td>-0.008020</td>\n",
       "      <td>1.083812</td>\n",
       "      <td>-0.032845</td>\n",
       "      <td>0.566207</td>\n",
       "      <td>1562.17</td>\n",
       "      <td>0.095345</td>\n",
       "      <td>0.033793</td>\n",
       "      <td>2.550</td>\n",
       "      <td>0.062500</td>\n",
       "      <td>0.600000</td>\n",
       "    </tr>\n",
       "    <tr>\n",
       "      <th>10115</th>\n",
       "      <td>7343</td>\n",
       "      <td>2013-03-31</td>\n",
       "      <td>MU</td>\n",
       "      <td>0.009219</td>\n",
       "      <td>-0.023309</td>\n",
       "      <td>0.037037</td>\n",
       "      <td>-0.009822</td>\n",
       "      <td>0.012073</td>\n",
       "      <td>0.133043</td>\n",
       "      <td>0.107</td>\n",
       "      <td>...</td>\n",
       "      <td>-0.014717</td>\n",
       "      <td>0.297872</td>\n",
       "      <td>0.334470</td>\n",
       "      <td>0.318003</td>\n",
       "      <td>1514.68</td>\n",
       "      <td>0.069553</td>\n",
       "      <td>0.076623</td>\n",
       "      <td>8.375</td>\n",
       "      <td>0.404023</td>\n",
       "      <td>0.394627</td>\n",
       "    </tr>\n",
       "    <tr>\n",
       "      <th>11978</th>\n",
       "      <td>23812</td>\n",
       "      <td>2013-03-31</td>\n",
       "      <td>REGN</td>\n",
       "      <td>0.083838</td>\n",
       "      <td>0.107948</td>\n",
       "      <td>-0.779412</td>\n",
       "      <td>0.206017</td>\n",
       "      <td>0.041366</td>\n",
       "      <td>0.060448</td>\n",
       "      <td>0.383</td>\n",
       "      <td>...</td>\n",
       "      <td>-0.205994</td>\n",
       "      <td>0.289679</td>\n",
       "      <td>-0.064171</td>\n",
       "      <td>0.241016</td>\n",
       "      <td>1562.17</td>\n",
       "      <td>0.095345</td>\n",
       "      <td>0.033793</td>\n",
       "      <td>176.403</td>\n",
       "      <td>0.031174</td>\n",
       "      <td>0.274808</td>\n",
       "    </tr>\n",
       "    <tr>\n",
       "      <th>3228</th>\n",
       "      <td>149070</td>\n",
       "      <td>2013-03-31</td>\n",
       "      <td>CME</td>\n",
       "      <td>0.410638</td>\n",
       "      <td>-0.000707</td>\n",
       "      <td>0.420000</td>\n",
       "      <td>0.547441</td>\n",
       "      <td>0.197396</td>\n",
       "      <td>0.087305</td>\n",
       "      <td>0.049</td>\n",
       "      <td>...</td>\n",
       "      <td>-0.004367</td>\n",
       "      <td>0.134783</td>\n",
       "      <td>0.116615</td>\n",
       "      <td>0.202977</td>\n",
       "      <td>1562.17</td>\n",
       "      <td>0.095345</td>\n",
       "      <td>0.033793</td>\n",
       "      <td>61.410</td>\n",
       "      <td>0.211960</td>\n",
       "      <td>0.236769</td>\n",
       "    </tr>\n",
       "    <tr>\n",
       "      <th>14621</th>\n",
       "      <td>11399</td>\n",
       "      <td>2013-03-31</td>\n",
       "      <td>WDC</td>\n",
       "      <td>0.022997</td>\n",
       "      <td>-0.024726</td>\n",
       "      <td>0.176471</td>\n",
       "      <td>-0.030066</td>\n",
       "      <td>-0.031327</td>\n",
       "      <td>-0.015690</td>\n",
       "      <td>0.266</td>\n",
       "      <td>...</td>\n",
       "      <td>0.087776</td>\n",
       "      <td>0.291424</td>\n",
       "      <td>0.088228</td>\n",
       "      <td>0.200846</td>\n",
       "      <td>1562.17</td>\n",
       "      <td>0.095345</td>\n",
       "      <td>0.033793</td>\n",
       "      <td>50.290</td>\n",
       "      <td>0.183573</td>\n",
       "      <td>0.234639</td>\n",
       "    </tr>\n",
       "    <tr>\n",
       "      <th>9959</th>\n",
       "      <td>12141</td>\n",
       "      <td>2013-03-31</td>\n",
       "      <td>MSFT</td>\n",
       "      <td>0.044098</td>\n",
       "      <td>0.037638</td>\n",
       "      <td>-0.052632</td>\n",
       "      <td>0.000595</td>\n",
       "      <td>0.023348</td>\n",
       "      <td>-0.045069</td>\n",
       "      <td>0.256</td>\n",
       "      <td>...</td>\n",
       "      <td>0.002184</td>\n",
       "      <td>0.186091</td>\n",
       "      <td>-0.024386</td>\n",
       "      <td>0.173863</td>\n",
       "      <td>1562.17</td>\n",
       "      <td>0.095345</td>\n",
       "      <td>0.033793</td>\n",
       "      <td>28.605</td>\n",
       "      <td>0.070959</td>\n",
       "      <td>0.207656</td>\n",
       "    </tr>\n",
       "    <tr>\n",
       "      <th>13004</th>\n",
       "      <td>2710</td>\n",
       "      <td>2013-03-31</td>\n",
       "      <td>STZ</td>\n",
       "      <td>-0.003789</td>\n",
       "      <td>-0.115575</td>\n",
       "      <td>-0.258621</td>\n",
       "      <td>-0.139502</td>\n",
       "      <td>-0.138732</td>\n",
       "      <td>-0.092581</td>\n",
       "      <td>0.091</td>\n",
       "      <td>...</td>\n",
       "      <td>0.359567</td>\n",
       "      <td>0.514735</td>\n",
       "      <td>0.163446</td>\n",
       "      <td>0.121613</td>\n",
       "      <td>1514.68</td>\n",
       "      <td>0.069553</td>\n",
       "      <td>0.076623</td>\n",
       "      <td>44.240</td>\n",
       "      <td>0.232999</td>\n",
       "      <td>0.198237</td>\n",
       "    </tr>\n",
       "    <tr>\n",
       "      <th>2121</th>\n",
       "      <td>2285</td>\n",
       "      <td>2013-03-31</td>\n",
       "      <td>BA</td>\n",
       "      <td>0.038057</td>\n",
       "      <td>-0.019945</td>\n",
       "      <td>0.125000</td>\n",
       "      <td>0.015206</td>\n",
       "      <td>-0.000506</td>\n",
       "      <td>-0.152856</td>\n",
       "      <td>0.094</td>\n",
       "      <td>...</td>\n",
       "      <td>-0.008634</td>\n",
       "      <td>0.015841</td>\n",
       "      <td>0.043854</td>\n",
       "      <td>0.159451</td>\n",
       "      <td>1562.17</td>\n",
       "      <td>0.095345</td>\n",
       "      <td>0.033793</td>\n",
       "      <td>85.850</td>\n",
       "      <td>0.139199</td>\n",
       "      <td>0.193244</td>\n",
       "    </tr>\n",
       "    <tr>\n",
       "      <th>10580</th>\n",
       "      <td>7985</td>\n",
       "      <td>2013-03-31</td>\n",
       "      <td>NOC</td>\n",
       "      <td>-0.065062</td>\n",
       "      <td>-0.004573</td>\n",
       "      <td>-0.051402</td>\n",
       "      <td>-0.082728</td>\n",
       "      <td>-0.034294</td>\n",
       "      <td>-0.057443</td>\n",
       "      <td>0.139</td>\n",
       "      <td>...</td>\n",
       "      <td>0.002886</td>\n",
       "      <td>0.249847</td>\n",
       "      <td>-0.057316</td>\n",
       "      <td>0.146535</td>\n",
       "      <td>1562.17</td>\n",
       "      <td>0.095345</td>\n",
       "      <td>0.033793</td>\n",
       "      <td>70.150</td>\n",
       "      <td>0.038029</td>\n",
       "      <td>0.180328</td>\n",
       "    </tr>\n",
       "    <tr>\n",
       "      <th>13375</th>\n",
       "      <td>3813</td>\n",
       "      <td>2013-03-31</td>\n",
       "      <td>TGT</td>\n",
       "      <td>-0.113923</td>\n",
       "      <td>0.022230</td>\n",
       "      <td>0.531250</td>\n",
       "      <td>-0.106818</td>\n",
       "      <td>-0.048816</td>\n",
       "      <td>0.342430</td>\n",
       "      <td>0.155</td>\n",
       "      <td>...</td>\n",
       "      <td>-0.026667</td>\n",
       "      <td>0.125000</td>\n",
       "      <td>-0.113256</td>\n",
       "      <td>0.101628</td>\n",
       "      <td>1498.11</td>\n",
       "      <td>0.060864</td>\n",
       "      <td>0.066390</td>\n",
       "      <td>60.410</td>\n",
       "      <td>-0.052392</td>\n",
       "      <td>0.168019</td>\n",
       "    </tr>\n",
       "  </tbody>\n",
       "</table>\n",
       "<p>10 rows × 43 columns</p>\n",
       "</div>"
      ],
      "text/plain": [
       "        gvkey   datadate   tic      actq      ancq    epsfxq      lctq  \\\n",
       "1253     1161 2013-03-31   AMD  0.032230 -0.159078 -0.698413 -0.054402   \n",
       "10115    7343 2013-03-31    MU  0.009219 -0.023309  0.037037 -0.009822   \n",
       "11978   23812 2013-03-31  REGN  0.083838  0.107948 -0.779412  0.206017   \n",
       "3228   149070 2013-03-31   CME  0.410638 -0.000707  0.420000  0.547441   \n",
       "14621   11399 2013-03-31   WDC  0.022997 -0.024726  0.176471 -0.030066   \n",
       "9959    12141 2013-03-31  MSFT  0.044098  0.037638 -0.052632  0.000595   \n",
       "13004    2710 2013-03-31   STZ -0.003789 -0.115575 -0.258621 -0.139502   \n",
       "2121     2285 2013-03-31    BA  0.038057 -0.019945  0.125000  0.015206   \n",
       "10580    7985 2013-03-31   NOC -0.065062 -0.004573 -0.051402 -0.082728   \n",
       "13375    3813 2013-03-31   TGT -0.113923  0.022230  0.531250 -0.106818   \n",
       "\n",
       "            ltq     revtq    roa  ...  curr_ratio_change  ptb_change  \\\n",
       "1253  -0.023108 -0.058009  0.023  ...          -0.008020    1.083812   \n",
       "10115  0.012073  0.133043  0.107  ...          -0.014717    0.297872   \n",
       "11978  0.041366  0.060448  0.383  ...          -0.205994    0.289679   \n",
       "3228   0.197396  0.087305  0.049  ...          -0.004367    0.134783   \n",
       "14621 -0.031327 -0.015690  0.266  ...           0.087776    0.291424   \n",
       "9959   0.023348 -0.045069  0.256  ...           0.002184    0.186091   \n",
       "13004 -0.138732 -0.092581  0.091  ...           0.359567    0.514735   \n",
       "2121  -0.000506 -0.152856  0.094  ...          -0.008634    0.015841   \n",
       "10580 -0.034294 -0.057443  0.139  ...           0.002886    0.249847   \n",
       "13375 -0.048816  0.342430  0.155  ...          -0.026667    0.125000   \n",
       "\n",
       "       relative_quarterly_return  next_relative_quarterly_return   spindx  \\\n",
       "1253                   -0.032845                        0.566207  1562.17   \n",
       "10115                   0.334470                        0.318003  1514.68   \n",
       "11978                  -0.064171                        0.241016  1562.17   \n",
       "3228                    0.116615                        0.202977  1562.17   \n",
       "14621                   0.088228                        0.200846  1562.17   \n",
       "9959                   -0.024386                        0.173863  1562.17   \n",
       "13004                   0.163446                        0.121613  1514.68   \n",
       "2121                    0.043854                        0.159451  1562.17   \n",
       "10580                  -0.057316                        0.146535  1562.17   \n",
       "13375                  -0.113256                        0.101628  1498.11   \n",
       "\n",
       "       spindx_change  next_spindx_change    prccq  prccq_change  \\\n",
       "1253        0.095345            0.033793    2.550      0.062500   \n",
       "10115       0.069553            0.076623    8.375      0.404023   \n",
       "11978       0.095345            0.033793  176.403      0.031174   \n",
       "3228        0.095345            0.033793   61.410      0.211960   \n",
       "14621       0.095345            0.033793   50.290      0.183573   \n",
       "9959        0.095345            0.033793   28.605      0.070959   \n",
       "13004       0.069553            0.076623   44.240      0.232999   \n",
       "2121        0.095345            0.033793   85.850      0.139199   \n",
       "10580       0.095345            0.033793   70.150      0.038029   \n",
       "13375       0.060864            0.066390   60.410     -0.052392   \n",
       "\n",
       "       next_prccq_change  \n",
       "1253            0.600000  \n",
       "10115           0.394627  \n",
       "11978           0.274808  \n",
       "3228            0.236769  \n",
       "14621           0.234639  \n",
       "9959            0.207656  \n",
       "13004           0.198237  \n",
       "2121            0.193244  \n",
       "10580           0.180328  \n",
       "13375           0.168019  \n",
       "\n",
       "[10 rows x 43 columns]"
      ]
     },
     "execution_count": 7,
     "metadata": {},
     "output_type": "execute_result"
    }
   ],
   "source": [
    "train_start_date = '1970-03-31'\n",
    "valid_start_date = '2010-03-31'\n",
    "test_start_date = '2013-03-31'\n",
    "end_date = '2023-09-30'\n",
    "\n",
    "df = df.sort_values(by=['datadate'])\n",
    "\n",
    "train_df = df[(df['datadate'] >= train_start_date) & (df['datadate'] < valid_start_date)]\n",
    "valid_df = df[(df['datadate'] >= valid_start_date) & (df['datadate'] < test_start_date)]\n",
    "test_df = df[(df['datadate'] >= test_start_date) & (df['datadate'] < end_date)]\n",
    "\n",
    "test_df = test_df.sort_values(by=['datadate', 'next_prccq_change'], ascending=[True, False])\n",
    "test_df.head(10)\n"
   ]
  },
  {
   "cell_type": "code",
   "execution_count": 8,
   "metadata": {},
   "outputs": [
    {
     "data": {
      "text/html": [
       "<div>\n",
       "<style scoped>\n",
       "    .dataframe tbody tr th:only-of-type {\n",
       "        vertical-align: middle;\n",
       "    }\n",
       "\n",
       "    .dataframe tbody tr th {\n",
       "        vertical-align: top;\n",
       "    }\n",
       "\n",
       "    .dataframe thead th {\n",
       "        text-align: right;\n",
       "    }\n",
       "</style>\n",
       "<table border=\"1\" class=\"dataframe\">\n",
       "  <thead>\n",
       "    <tr style=\"text-align: right;\">\n",
       "      <th></th>\n",
       "      <th>actq</th>\n",
       "      <th>ancq</th>\n",
       "      <th>epsfxq</th>\n",
       "      <th>lctq</th>\n",
       "      <th>ltq</th>\n",
       "      <th>revtq</th>\n",
       "      <th>roa</th>\n",
       "      <th>roe</th>\n",
       "      <th>pe_inc</th>\n",
       "      <th>pcf</th>\n",
       "      <th>...</th>\n",
       "      <th>gpm_change</th>\n",
       "      <th>evm_change</th>\n",
       "      <th>cfm_change</th>\n",
       "      <th>npm_change</th>\n",
       "      <th>PEG_trailing_change</th>\n",
       "      <th>de_ratio_change</th>\n",
       "      <th>curr_ratio_change</th>\n",
       "      <th>ptb_change</th>\n",
       "      <th>relative_quarterly_return</th>\n",
       "      <th>next_relative_quarterly_return</th>\n",
       "    </tr>\n",
       "  </thead>\n",
       "  <tbody>\n",
       "    <tr>\n",
       "      <th>172</th>\n",
       "      <td>0.0</td>\n",
       "      <td>0.0</td>\n",
       "      <td>-0.115385</td>\n",
       "      <td>0.0</td>\n",
       "      <td>0.0</td>\n",
       "      <td>-0.016251</td>\n",
       "      <td>0.224</td>\n",
       "      <td>0.556</td>\n",
       "      <td>25.408</td>\n",
       "      <td>34.228</td>\n",
       "      <td>...</td>\n",
       "      <td>0.0</td>\n",
       "      <td>0.000000</td>\n",
       "      <td>0.000000</td>\n",
       "      <td>0.000000</td>\n",
       "      <td>-0.295597</td>\n",
       "      <td>0.0</td>\n",
       "      <td>0.0</td>\n",
       "      <td>-0.177037</td>\n",
       "      <td>-0.016088</td>\n",
       "      <td>0.028255</td>\n",
       "    </tr>\n",
       "    <tr>\n",
       "      <th>15082</th>\n",
       "      <td>0.0</td>\n",
       "      <td>0.0</td>\n",
       "      <td>-0.013423</td>\n",
       "      <td>0.0</td>\n",
       "      <td>0.0</td>\n",
       "      <td>0.036061</td>\n",
       "      <td>0.170</td>\n",
       "      <td>0.032</td>\n",
       "      <td>11.749</td>\n",
       "      <td>6.020</td>\n",
       "      <td>...</td>\n",
       "      <td>0.0</td>\n",
       "      <td>-0.028041</td>\n",
       "      <td>-0.106383</td>\n",
       "      <td>-0.108434</td>\n",
       "      <td>0.237403</td>\n",
       "      <td>0.0</td>\n",
       "      <td>0.0</td>\n",
       "      <td>0.050788</td>\n",
       "      <td>-0.046479</td>\n",
       "      <td>0.144996</td>\n",
       "    </tr>\n",
       "    <tr>\n",
       "      <th>5213</th>\n",
       "      <td>0.0</td>\n",
       "      <td>0.0</td>\n",
       "      <td>-0.135338</td>\n",
       "      <td>0.0</td>\n",
       "      <td>0.0</td>\n",
       "      <td>-0.172254</td>\n",
       "      <td>0.211</td>\n",
       "      <td>0.034</td>\n",
       "      <td>9.079</td>\n",
       "      <td>3.284</td>\n",
       "      <td>...</td>\n",
       "      <td>0.0</td>\n",
       "      <td>0.354212</td>\n",
       "      <td>-0.326087</td>\n",
       "      <td>-0.054054</td>\n",
       "      <td>0.148148</td>\n",
       "      <td>0.0</td>\n",
       "      <td>0.0</td>\n",
       "      <td>-0.005464</td>\n",
       "      <td>0.138857</td>\n",
       "      <td>0.147681</td>\n",
       "    </tr>\n",
       "    <tr>\n",
       "      <th>1734</th>\n",
       "      <td>0.0</td>\n",
       "      <td>0.0</td>\n",
       "      <td>0.181818</td>\n",
       "      <td>0.0</td>\n",
       "      <td>0.0</td>\n",
       "      <td>0.089057</td>\n",
       "      <td>0.146</td>\n",
       "      <td>0.097</td>\n",
       "      <td>15.323</td>\n",
       "      <td>14.417</td>\n",
       "      <td>...</td>\n",
       "      <td>0.0</td>\n",
       "      <td>0.000000</td>\n",
       "      <td>0.000000</td>\n",
       "      <td>-0.016949</td>\n",
       "      <td>-0.363201</td>\n",
       "      <td>0.0</td>\n",
       "      <td>0.0</td>\n",
       "      <td>-0.095171</td>\n",
       "      <td>0.130826</td>\n",
       "      <td>0.071186</td>\n",
       "    </tr>\n",
       "    <tr>\n",
       "      <th>4912</th>\n",
       "      <td>0.0</td>\n",
       "      <td>0.0</td>\n",
       "      <td>0.304444</td>\n",
       "      <td>0.0</td>\n",
       "      <td>0.0</td>\n",
       "      <td>0.135055</td>\n",
       "      <td>0.112</td>\n",
       "      <td>0.110</td>\n",
       "      <td>11.028</td>\n",
       "      <td>5.864</td>\n",
       "      <td>...</td>\n",
       "      <td>0.0</td>\n",
       "      <td>0.000000</td>\n",
       "      <td>-0.011628</td>\n",
       "      <td>-0.013699</td>\n",
       "      <td>0.000000</td>\n",
       "      <td>0.0</td>\n",
       "      <td>0.0</td>\n",
       "      <td>-0.114448</td>\n",
       "      <td>0.036812</td>\n",
       "      <td>-0.002057</td>\n",
       "    </tr>\n",
       "  </tbody>\n",
       "</table>\n",
       "<p>5 rows × 34 columns</p>\n",
       "</div>"
      ],
      "text/plain": [
       "       actq  ancq    epsfxq  lctq  ltq     revtq    roa    roe  pe_inc  \\\n",
       "172     0.0   0.0 -0.115385   0.0  0.0 -0.016251  0.224  0.556  25.408   \n",
       "15082   0.0   0.0 -0.013423   0.0  0.0  0.036061  0.170  0.032  11.749   \n",
       "5213    0.0   0.0 -0.135338   0.0  0.0 -0.172254  0.211  0.034   9.079   \n",
       "1734    0.0   0.0  0.181818   0.0  0.0  0.089057  0.146  0.097  15.323   \n",
       "4912    0.0   0.0  0.304444   0.0  0.0  0.135055  0.112  0.110  11.028   \n",
       "\n",
       "          pcf  ...  gpm_change  evm_change  cfm_change  npm_change  \\\n",
       "172    34.228  ...         0.0    0.000000    0.000000    0.000000   \n",
       "15082   6.020  ...         0.0   -0.028041   -0.106383   -0.108434   \n",
       "5213    3.284  ...         0.0    0.354212   -0.326087   -0.054054   \n",
       "1734   14.417  ...         0.0    0.000000    0.000000   -0.016949   \n",
       "4912    5.864  ...         0.0    0.000000   -0.011628   -0.013699   \n",
       "\n",
       "       PEG_trailing_change  de_ratio_change  curr_ratio_change  ptb_change  \\\n",
       "172              -0.295597              0.0                0.0   -0.177037   \n",
       "15082             0.237403              0.0                0.0    0.050788   \n",
       "5213              0.148148              0.0                0.0   -0.005464   \n",
       "1734             -0.363201              0.0                0.0   -0.095171   \n",
       "4912              0.000000              0.0                0.0   -0.114448   \n",
       "\n",
       "       relative_quarterly_return  next_relative_quarterly_return  \n",
       "172                    -0.016088                        0.028255  \n",
       "15082                  -0.046479                        0.144996  \n",
       "5213                    0.138857                        0.147681  \n",
       "1734                    0.130826                        0.071186  \n",
       "4912                    0.036812                       -0.002057  \n",
       "\n",
       "[5 rows x 34 columns]"
      ]
     },
     "execution_count": 8,
     "metadata": {},
     "output_type": "execute_result"
    }
   ],
   "source": [
    "# Create a copy of the test results\n",
    "results = test_df[['datadate', 'tic', 'next_prccq_change', 'next_relative_quarterly_return']].copy()\n",
    "\n",
    "# Define columns to drop\n",
    "drop_cols = ['gvkey', 'datadate', 'tic', 'spindx', 'spindx_change', 'next_spindx_change', 'prccq', 'prccq_change', 'next_prccq_change']\n",
    "\n",
    "# Drop the specified columns from train, validation, and test datasets\n",
    "train_df = train_df.drop(columns=drop_cols)\n",
    "valid_df = valid_df.drop(columns=drop_cols)\n",
    "test_df  = test_df.drop(columns=drop_cols)\n",
    "\n",
    "# Display the first few rows of the training dataset\n",
    "train_df.head()\n"
   ]
  },
  {
   "cell_type": "code",
   "execution_count": 9,
   "metadata": {},
   "outputs": [
    {
     "data": {
      "text/html": [
       "<div>\n",
       "<style scoped>\n",
       "    .dataframe tbody tr th:only-of-type {\n",
       "        vertical-align: middle;\n",
       "    }\n",
       "\n",
       "    .dataframe tbody tr th {\n",
       "        vertical-align: top;\n",
       "    }\n",
       "\n",
       "    .dataframe thead th {\n",
       "        text-align: right;\n",
       "    }\n",
       "</style>\n",
       "<table border=\"1\" class=\"dataframe\">\n",
       "  <thead>\n",
       "    <tr style=\"text-align: right;\">\n",
       "      <th></th>\n",
       "      <th>actq</th>\n",
       "      <th>ancq</th>\n",
       "      <th>epsfxq</th>\n",
       "      <th>lctq</th>\n",
       "      <th>ltq</th>\n",
       "      <th>revtq</th>\n",
       "      <th>roa</th>\n",
       "      <th>roe</th>\n",
       "      <th>pe_inc</th>\n",
       "      <th>pcf</th>\n",
       "      <th>...</th>\n",
       "      <th>debt_ebitda_change</th>\n",
       "      <th>gpm_change</th>\n",
       "      <th>evm_change</th>\n",
       "      <th>cfm_change</th>\n",
       "      <th>npm_change</th>\n",
       "      <th>PEG_trailing_change</th>\n",
       "      <th>de_ratio_change</th>\n",
       "      <th>curr_ratio_change</th>\n",
       "      <th>ptb_change</th>\n",
       "      <th>relative_quarterly_return</th>\n",
       "    </tr>\n",
       "  </thead>\n",
       "  <tbody>\n",
       "    <tr>\n",
       "      <th>172</th>\n",
       "      <td>0.0</td>\n",
       "      <td>0.0</td>\n",
       "      <td>-0.115385</td>\n",
       "      <td>0.0</td>\n",
       "      <td>0.0</td>\n",
       "      <td>-0.016251</td>\n",
       "      <td>0.224</td>\n",
       "      <td>0.556</td>\n",
       "      <td>25.408</td>\n",
       "      <td>34.228</td>\n",
       "      <td>...</td>\n",
       "      <td>0.000000</td>\n",
       "      <td>0.0</td>\n",
       "      <td>0.000000</td>\n",
       "      <td>0.000000</td>\n",
       "      <td>0.000000</td>\n",
       "      <td>-0.295597</td>\n",
       "      <td>0.0</td>\n",
       "      <td>0.0</td>\n",
       "      <td>-0.177037</td>\n",
       "      <td>-0.016088</td>\n",
       "    </tr>\n",
       "    <tr>\n",
       "      <th>15082</th>\n",
       "      <td>0.0</td>\n",
       "      <td>0.0</td>\n",
       "      <td>-0.013423</td>\n",
       "      <td>0.0</td>\n",
       "      <td>0.0</td>\n",
       "      <td>0.036061</td>\n",
       "      <td>0.170</td>\n",
       "      <td>0.032</td>\n",
       "      <td>11.749</td>\n",
       "      <td>6.020</td>\n",
       "      <td>...</td>\n",
       "      <td>-0.000895</td>\n",
       "      <td>0.0</td>\n",
       "      <td>-0.028041</td>\n",
       "      <td>-0.106383</td>\n",
       "      <td>-0.108434</td>\n",
       "      <td>0.237403</td>\n",
       "      <td>0.0</td>\n",
       "      <td>0.0</td>\n",
       "      <td>0.050788</td>\n",
       "      <td>-0.046479</td>\n",
       "    </tr>\n",
       "    <tr>\n",
       "      <th>5213</th>\n",
       "      <td>0.0</td>\n",
       "      <td>0.0</td>\n",
       "      <td>-0.135338</td>\n",
       "      <td>0.0</td>\n",
       "      <td>0.0</td>\n",
       "      <td>-0.172254</td>\n",
       "      <td>0.211</td>\n",
       "      <td>0.034</td>\n",
       "      <td>9.079</td>\n",
       "      <td>3.284</td>\n",
       "      <td>...</td>\n",
       "      <td>0.371212</td>\n",
       "      <td>0.0</td>\n",
       "      <td>0.354212</td>\n",
       "      <td>-0.326087</td>\n",
       "      <td>-0.054054</td>\n",
       "      <td>0.148148</td>\n",
       "      <td>0.0</td>\n",
       "      <td>0.0</td>\n",
       "      <td>-0.005464</td>\n",
       "      <td>0.138857</td>\n",
       "    </tr>\n",
       "    <tr>\n",
       "      <th>1734</th>\n",
       "      <td>0.0</td>\n",
       "      <td>0.0</td>\n",
       "      <td>0.181818</td>\n",
       "      <td>0.0</td>\n",
       "      <td>0.0</td>\n",
       "      <td>0.089057</td>\n",
       "      <td>0.146</td>\n",
       "      <td>0.097</td>\n",
       "      <td>15.323</td>\n",
       "      <td>14.417</td>\n",
       "      <td>...</td>\n",
       "      <td>0.000000</td>\n",
       "      <td>0.0</td>\n",
       "      <td>0.000000</td>\n",
       "      <td>0.000000</td>\n",
       "      <td>-0.016949</td>\n",
       "      <td>-0.363201</td>\n",
       "      <td>0.0</td>\n",
       "      <td>0.0</td>\n",
       "      <td>-0.095171</td>\n",
       "      <td>0.130826</td>\n",
       "    </tr>\n",
       "    <tr>\n",
       "      <th>4912</th>\n",
       "      <td>0.0</td>\n",
       "      <td>0.0</td>\n",
       "      <td>0.304444</td>\n",
       "      <td>0.0</td>\n",
       "      <td>0.0</td>\n",
       "      <td>0.135055</td>\n",
       "      <td>0.112</td>\n",
       "      <td>0.110</td>\n",
       "      <td>11.028</td>\n",
       "      <td>5.864</td>\n",
       "      <td>...</td>\n",
       "      <td>0.000000</td>\n",
       "      <td>0.0</td>\n",
       "      <td>0.000000</td>\n",
       "      <td>-0.011628</td>\n",
       "      <td>-0.013699</td>\n",
       "      <td>0.000000</td>\n",
       "      <td>0.0</td>\n",
       "      <td>0.0</td>\n",
       "      <td>-0.114448</td>\n",
       "      <td>0.036812</td>\n",
       "    </tr>\n",
       "  </tbody>\n",
       "</table>\n",
       "<p>5 rows × 33 columns</p>\n",
       "</div>"
      ],
      "text/plain": [
       "       actq  ancq    epsfxq  lctq  ltq     revtq    roa    roe  pe_inc  \\\n",
       "172     0.0   0.0 -0.115385   0.0  0.0 -0.016251  0.224  0.556  25.408   \n",
       "15082   0.0   0.0 -0.013423   0.0  0.0  0.036061  0.170  0.032  11.749   \n",
       "5213    0.0   0.0 -0.135338   0.0  0.0 -0.172254  0.211  0.034   9.079   \n",
       "1734    0.0   0.0  0.181818   0.0  0.0  0.089057  0.146  0.097  15.323   \n",
       "4912    0.0   0.0  0.304444   0.0  0.0  0.135055  0.112  0.110  11.028   \n",
       "\n",
       "          pcf  ...  debt_ebitda_change  gpm_change  evm_change  cfm_change  \\\n",
       "172    34.228  ...            0.000000         0.0    0.000000    0.000000   \n",
       "15082   6.020  ...           -0.000895         0.0   -0.028041   -0.106383   \n",
       "5213    3.284  ...            0.371212         0.0    0.354212   -0.326087   \n",
       "1734   14.417  ...            0.000000         0.0    0.000000    0.000000   \n",
       "4912    5.864  ...            0.000000         0.0    0.000000   -0.011628   \n",
       "\n",
       "       npm_change  PEG_trailing_change  de_ratio_change  curr_ratio_change  \\\n",
       "172      0.000000            -0.295597              0.0                0.0   \n",
       "15082   -0.108434             0.237403              0.0                0.0   \n",
       "5213    -0.054054             0.148148              0.0                0.0   \n",
       "1734    -0.016949            -0.363201              0.0                0.0   \n",
       "4912    -0.013699             0.000000              0.0                0.0   \n",
       "\n",
       "       ptb_change  relative_quarterly_return  \n",
       "172     -0.177037                  -0.016088  \n",
       "15082    0.050788                  -0.046479  \n",
       "5213    -0.005464                   0.138857  \n",
       "1734    -0.095171                   0.130826  \n",
       "4912    -0.114448                   0.036812  \n",
       "\n",
       "[5 rows x 33 columns]"
      ]
     },
     "execution_count": 9,
     "metadata": {},
     "output_type": "execute_result"
    }
   ],
   "source": [
    "# Define target variable (y) and features (X) for train, validation, and test sets\n",
    "y_train = train_df['next_relative_quarterly_return'].copy()\n",
    "X_train = train_df.drop(columns=['next_relative_quarterly_return'])\n",
    "\n",
    "y_valid = valid_df['next_relative_quarterly_return'].copy()\n",
    "X_valid = valid_df.drop(columns=['next_relative_quarterly_return'])\n",
    "\n",
    "y_test  = test_df['next_relative_quarterly_return'].copy()\n",
    "X_test  = test_df.drop(columns=['next_relative_quarterly_return'])\n",
    "\n",
    "# Display the first few rows of X_train\n",
    "X_train.head()\n"
   ]
  },
  {
   "cell_type": "code",
   "execution_count": 10,
   "metadata": {},
   "outputs": [
    {
     "name": "stdout",
     "output_type": "stream",
     "text": [
      "<class 'pandas.core.frame.DataFrame'>\n",
      "RangeIndex: 7396 entries, 0 to 7395\n",
      "Data columns (total 33 columns):\n",
      " #   Column                     Non-Null Count  Dtype  \n",
      "---  ------                     --------------  -----  \n",
      " 0   actq                       7396 non-null   float64\n",
      " 1   ancq                       7396 non-null   float64\n",
      " 2   epsfxq                     7396 non-null   float64\n",
      " 3   lctq                       7396 non-null   float64\n",
      " 4   ltq                        7396 non-null   float64\n",
      " 5   revtq                      7396 non-null   float64\n",
      " 6   roa                        7396 non-null   float64\n",
      " 7   roe                        7396 non-null   float64\n",
      " 8   pe_inc                     7396 non-null   float64\n",
      " 9   pcf                        7396 non-null   float64\n",
      " 10  roce                       7396 non-null   float64\n",
      " 11  debt_ebitda                7396 non-null   float64\n",
      " 12  gpm                        7396 non-null   float64\n",
      " 13  evm                        7396 non-null   float64\n",
      " 14  npm                        7396 non-null   float64\n",
      " 15  curr_ratio                 7396 non-null   float64\n",
      " 16  ptb                        7396 non-null   float64\n",
      " 17  roa_change                 7396 non-null   float64\n",
      " 18  roe_change                 7396 non-null   float64\n",
      " 19  pe_inc_change              7396 non-null   float64\n",
      " 20  divyield_change            7396 non-null   float64\n",
      " 21  pcf_change                 7396 non-null   float64\n",
      " 22  roce_change                7396 non-null   float64\n",
      " 23  debt_ebitda_change         7396 non-null   float64\n",
      " 24  gpm_change                 7396 non-null   float64\n",
      " 25  evm_change                 7396 non-null   float64\n",
      " 26  cfm_change                 7396 non-null   float64\n",
      " 27  npm_change                 7396 non-null   float64\n",
      " 28  PEG_trailing_change        7396 non-null   float64\n",
      " 29  de_ratio_change            7396 non-null   float64\n",
      " 30  curr_ratio_change          7396 non-null   float64\n",
      " 31  ptb_change                 7396 non-null   float64\n",
      " 32  relative_quarterly_return  7396 non-null   float64\n",
      "dtypes: float64(33)\n",
      "memory usage: 1.9 MB\n"
     ]
    }
   ],
   "source": [
    "# Scaling\n",
    "scaler = MinMaxScaler()\n",
    "\n",
    "# Fit the scaler on the training/validation data\n",
    "X_train_scaled = scaler.fit_transform(X_train)\n",
    "\n",
    "# Now apply the same scaling to the val/test data using the already fitted scaler\n",
    "X_valid_scaled = scaler.transform(X_valid)\n",
    "X_test_scaled = scaler.transform(X_test)\n",
    "\n",
    "# Convert the scaled data back to DataFrame for consistency\n",
    "X_train_scaled = pd.DataFrame(X_train_scaled, columns=X_train.columns)\n",
    "X_valid_scaled = pd.DataFrame(X_valid_scaled, columns=X_valid.columns)\n",
    "X_test_scaled = pd.DataFrame(X_test_scaled, columns=X_test.columns)\n",
    "\n",
    "X_train_scaled.info()"
   ]
  },
  {
   "cell_type": "code",
   "execution_count": 11,
   "metadata": {},
   "outputs": [
    {
     "name": "stdout",
     "output_type": "stream",
     "text": [
      "Best alpha: 1.0\n"
     ]
    },
    {
     "data": {
      "text/html": [
       "<style>#sk-container-id-1 {\n",
       "  /* Definition of color scheme common for light and dark mode */\n",
       "  --sklearn-color-text: black;\n",
       "  --sklearn-color-line: gray;\n",
       "  /* Definition of color scheme for unfitted estimators */\n",
       "  --sklearn-color-unfitted-level-0: #fff5e6;\n",
       "  --sklearn-color-unfitted-level-1: #f6e4d2;\n",
       "  --sklearn-color-unfitted-level-2: #ffe0b3;\n",
       "  --sklearn-color-unfitted-level-3: chocolate;\n",
       "  /* Definition of color scheme for fitted estimators */\n",
       "  --sklearn-color-fitted-level-0: #f0f8ff;\n",
       "  --sklearn-color-fitted-level-1: #d4ebff;\n",
       "  --sklearn-color-fitted-level-2: #b3dbfd;\n",
       "  --sklearn-color-fitted-level-3: cornflowerblue;\n",
       "\n",
       "  /* Specific color for light theme */\n",
       "  --sklearn-color-text-on-default-background: var(--sg-text-color, var(--theme-code-foreground, var(--jp-content-font-color1, black)));\n",
       "  --sklearn-color-background: var(--sg-background-color, var(--theme-background, var(--jp-layout-color0, white)));\n",
       "  --sklearn-color-border-box: var(--sg-text-color, var(--theme-code-foreground, var(--jp-content-font-color1, black)));\n",
       "  --sklearn-color-icon: #696969;\n",
       "\n",
       "  @media (prefers-color-scheme: dark) {\n",
       "    /* Redefinition of color scheme for dark theme */\n",
       "    --sklearn-color-text-on-default-background: var(--sg-text-color, var(--theme-code-foreground, var(--jp-content-font-color1, white)));\n",
       "    --sklearn-color-background: var(--sg-background-color, var(--theme-background, var(--jp-layout-color0, #111)));\n",
       "    --sklearn-color-border-box: var(--sg-text-color, var(--theme-code-foreground, var(--jp-content-font-color1, white)));\n",
       "    --sklearn-color-icon: #878787;\n",
       "  }\n",
       "}\n",
       "\n",
       "#sk-container-id-1 {\n",
       "  color: var(--sklearn-color-text);\n",
       "}\n",
       "\n",
       "#sk-container-id-1 pre {\n",
       "  padding: 0;\n",
       "}\n",
       "\n",
       "#sk-container-id-1 input.sk-hidden--visually {\n",
       "  border: 0;\n",
       "  clip: rect(1px 1px 1px 1px);\n",
       "  clip: rect(1px, 1px, 1px, 1px);\n",
       "  height: 1px;\n",
       "  margin: -1px;\n",
       "  overflow: hidden;\n",
       "  padding: 0;\n",
       "  position: absolute;\n",
       "  width: 1px;\n",
       "}\n",
       "\n",
       "#sk-container-id-1 div.sk-dashed-wrapped {\n",
       "  border: 1px dashed var(--sklearn-color-line);\n",
       "  margin: 0 0.4em 0.5em 0.4em;\n",
       "  box-sizing: border-box;\n",
       "  padding-bottom: 0.4em;\n",
       "  background-color: var(--sklearn-color-background);\n",
       "}\n",
       "\n",
       "#sk-container-id-1 div.sk-container {\n",
       "  /* jupyter's `normalize.less` sets `[hidden] { display: none; }`\n",
       "     but bootstrap.min.css set `[hidden] { display: none !important; }`\n",
       "     so we also need the `!important` here to be able to override the\n",
       "     default hidden behavior on the sphinx rendered scikit-learn.org.\n",
       "     See: https://github.com/scikit-learn/scikit-learn/issues/21755 */\n",
       "  display: inline-block !important;\n",
       "  position: relative;\n",
       "}\n",
       "\n",
       "#sk-container-id-1 div.sk-text-repr-fallback {\n",
       "  display: none;\n",
       "}\n",
       "\n",
       "div.sk-parallel-item,\n",
       "div.sk-serial,\n",
       "div.sk-item {\n",
       "  /* draw centered vertical line to link estimators */\n",
       "  background-image: linear-gradient(var(--sklearn-color-text-on-default-background), var(--sklearn-color-text-on-default-background));\n",
       "  background-size: 2px 100%;\n",
       "  background-repeat: no-repeat;\n",
       "  background-position: center center;\n",
       "}\n",
       "\n",
       "/* Parallel-specific style estimator block */\n",
       "\n",
       "#sk-container-id-1 div.sk-parallel-item::after {\n",
       "  content: \"\";\n",
       "  width: 100%;\n",
       "  border-bottom: 2px solid var(--sklearn-color-text-on-default-background);\n",
       "  flex-grow: 1;\n",
       "}\n",
       "\n",
       "#sk-container-id-1 div.sk-parallel {\n",
       "  display: flex;\n",
       "  align-items: stretch;\n",
       "  justify-content: center;\n",
       "  background-color: var(--sklearn-color-background);\n",
       "  position: relative;\n",
       "}\n",
       "\n",
       "#sk-container-id-1 div.sk-parallel-item {\n",
       "  display: flex;\n",
       "  flex-direction: column;\n",
       "}\n",
       "\n",
       "#sk-container-id-1 div.sk-parallel-item:first-child::after {\n",
       "  align-self: flex-end;\n",
       "  width: 50%;\n",
       "}\n",
       "\n",
       "#sk-container-id-1 div.sk-parallel-item:last-child::after {\n",
       "  align-self: flex-start;\n",
       "  width: 50%;\n",
       "}\n",
       "\n",
       "#sk-container-id-1 div.sk-parallel-item:only-child::after {\n",
       "  width: 0;\n",
       "}\n",
       "\n",
       "/* Serial-specific style estimator block */\n",
       "\n",
       "#sk-container-id-1 div.sk-serial {\n",
       "  display: flex;\n",
       "  flex-direction: column;\n",
       "  align-items: center;\n",
       "  background-color: var(--sklearn-color-background);\n",
       "  padding-right: 1em;\n",
       "  padding-left: 1em;\n",
       "}\n",
       "\n",
       "\n",
       "/* Toggleable style: style used for estimator/Pipeline/ColumnTransformer box that is\n",
       "clickable and can be expanded/collapsed.\n",
       "- Pipeline and ColumnTransformer use this feature and define the default style\n",
       "- Estimators will overwrite some part of the style using the `sk-estimator` class\n",
       "*/\n",
       "\n",
       "/* Pipeline and ColumnTransformer style (default) */\n",
       "\n",
       "#sk-container-id-1 div.sk-toggleable {\n",
       "  /* Default theme specific background. It is overwritten whether we have a\n",
       "  specific estimator or a Pipeline/ColumnTransformer */\n",
       "  background-color: var(--sklearn-color-background);\n",
       "}\n",
       "\n",
       "/* Toggleable label */\n",
       "#sk-container-id-1 label.sk-toggleable__label {\n",
       "  cursor: pointer;\n",
       "  display: block;\n",
       "  width: 100%;\n",
       "  margin-bottom: 0;\n",
       "  padding: 0.5em;\n",
       "  box-sizing: border-box;\n",
       "  text-align: center;\n",
       "}\n",
       "\n",
       "#sk-container-id-1 label.sk-toggleable__label-arrow:before {\n",
       "  /* Arrow on the left of the label */\n",
       "  content: \"▸\";\n",
       "  float: left;\n",
       "  margin-right: 0.25em;\n",
       "  color: var(--sklearn-color-icon);\n",
       "}\n",
       "\n",
       "#sk-container-id-1 label.sk-toggleable__label-arrow:hover:before {\n",
       "  color: var(--sklearn-color-text);\n",
       "}\n",
       "\n",
       "/* Toggleable content - dropdown */\n",
       "\n",
       "#sk-container-id-1 div.sk-toggleable__content {\n",
       "  max-height: 0;\n",
       "  max-width: 0;\n",
       "  overflow: hidden;\n",
       "  text-align: left;\n",
       "  /* unfitted */\n",
       "  background-color: var(--sklearn-color-unfitted-level-0);\n",
       "}\n",
       "\n",
       "#sk-container-id-1 div.sk-toggleable__content.fitted {\n",
       "  /* fitted */\n",
       "  background-color: var(--sklearn-color-fitted-level-0);\n",
       "}\n",
       "\n",
       "#sk-container-id-1 div.sk-toggleable__content pre {\n",
       "  margin: 0.2em;\n",
       "  border-radius: 0.25em;\n",
       "  color: var(--sklearn-color-text);\n",
       "  /* unfitted */\n",
       "  background-color: var(--sklearn-color-unfitted-level-0);\n",
       "}\n",
       "\n",
       "#sk-container-id-1 div.sk-toggleable__content.fitted pre {\n",
       "  /* unfitted */\n",
       "  background-color: var(--sklearn-color-fitted-level-0);\n",
       "}\n",
       "\n",
       "#sk-container-id-1 input.sk-toggleable__control:checked~div.sk-toggleable__content {\n",
       "  /* Expand drop-down */\n",
       "  max-height: 200px;\n",
       "  max-width: 100%;\n",
       "  overflow: auto;\n",
       "}\n",
       "\n",
       "#sk-container-id-1 input.sk-toggleable__control:checked~label.sk-toggleable__label-arrow:before {\n",
       "  content: \"▾\";\n",
       "}\n",
       "\n",
       "/* Pipeline/ColumnTransformer-specific style */\n",
       "\n",
       "#sk-container-id-1 div.sk-label input.sk-toggleable__control:checked~label.sk-toggleable__label {\n",
       "  color: var(--sklearn-color-text);\n",
       "  background-color: var(--sklearn-color-unfitted-level-2);\n",
       "}\n",
       "\n",
       "#sk-container-id-1 div.sk-label.fitted input.sk-toggleable__control:checked~label.sk-toggleable__label {\n",
       "  background-color: var(--sklearn-color-fitted-level-2);\n",
       "}\n",
       "\n",
       "/* Estimator-specific style */\n",
       "\n",
       "/* Colorize estimator box */\n",
       "#sk-container-id-1 div.sk-estimator input.sk-toggleable__control:checked~label.sk-toggleable__label {\n",
       "  /* unfitted */\n",
       "  background-color: var(--sklearn-color-unfitted-level-2);\n",
       "}\n",
       "\n",
       "#sk-container-id-1 div.sk-estimator.fitted input.sk-toggleable__control:checked~label.sk-toggleable__label {\n",
       "  /* fitted */\n",
       "  background-color: var(--sklearn-color-fitted-level-2);\n",
       "}\n",
       "\n",
       "#sk-container-id-1 div.sk-label label.sk-toggleable__label,\n",
       "#sk-container-id-1 div.sk-label label {\n",
       "  /* The background is the default theme color */\n",
       "  color: var(--sklearn-color-text-on-default-background);\n",
       "}\n",
       "\n",
       "/* On hover, darken the color of the background */\n",
       "#sk-container-id-1 div.sk-label:hover label.sk-toggleable__label {\n",
       "  color: var(--sklearn-color-text);\n",
       "  background-color: var(--sklearn-color-unfitted-level-2);\n",
       "}\n",
       "\n",
       "/* Label box, darken color on hover, fitted */\n",
       "#sk-container-id-1 div.sk-label.fitted:hover label.sk-toggleable__label.fitted {\n",
       "  color: var(--sklearn-color-text);\n",
       "  background-color: var(--sklearn-color-fitted-level-2);\n",
       "}\n",
       "\n",
       "/* Estimator label */\n",
       "\n",
       "#sk-container-id-1 div.sk-label label {\n",
       "  font-family: monospace;\n",
       "  font-weight: bold;\n",
       "  display: inline-block;\n",
       "  line-height: 1.2em;\n",
       "}\n",
       "\n",
       "#sk-container-id-1 div.sk-label-container {\n",
       "  text-align: center;\n",
       "}\n",
       "\n",
       "/* Estimator-specific */\n",
       "#sk-container-id-1 div.sk-estimator {\n",
       "  font-family: monospace;\n",
       "  border: 1px dotted var(--sklearn-color-border-box);\n",
       "  border-radius: 0.25em;\n",
       "  box-sizing: border-box;\n",
       "  margin-bottom: 0.5em;\n",
       "  /* unfitted */\n",
       "  background-color: var(--sklearn-color-unfitted-level-0);\n",
       "}\n",
       "\n",
       "#sk-container-id-1 div.sk-estimator.fitted {\n",
       "  /* fitted */\n",
       "  background-color: var(--sklearn-color-fitted-level-0);\n",
       "}\n",
       "\n",
       "/* on hover */\n",
       "#sk-container-id-1 div.sk-estimator:hover {\n",
       "  /* unfitted */\n",
       "  background-color: var(--sklearn-color-unfitted-level-2);\n",
       "}\n",
       "\n",
       "#sk-container-id-1 div.sk-estimator.fitted:hover {\n",
       "  /* fitted */\n",
       "  background-color: var(--sklearn-color-fitted-level-2);\n",
       "}\n",
       "\n",
       "/* Specification for estimator info (e.g. \"i\" and \"?\") */\n",
       "\n",
       "/* Common style for \"i\" and \"?\" */\n",
       "\n",
       ".sk-estimator-doc-link,\n",
       "a:link.sk-estimator-doc-link,\n",
       "a:visited.sk-estimator-doc-link {\n",
       "  float: right;\n",
       "  font-size: smaller;\n",
       "  line-height: 1em;\n",
       "  font-family: monospace;\n",
       "  background-color: var(--sklearn-color-background);\n",
       "  border-radius: 1em;\n",
       "  height: 1em;\n",
       "  width: 1em;\n",
       "  text-decoration: none !important;\n",
       "  margin-left: 1ex;\n",
       "  /* unfitted */\n",
       "  border: var(--sklearn-color-unfitted-level-1) 1pt solid;\n",
       "  color: var(--sklearn-color-unfitted-level-1);\n",
       "}\n",
       "\n",
       ".sk-estimator-doc-link.fitted,\n",
       "a:link.sk-estimator-doc-link.fitted,\n",
       "a:visited.sk-estimator-doc-link.fitted {\n",
       "  /* fitted */\n",
       "  border: var(--sklearn-color-fitted-level-1) 1pt solid;\n",
       "  color: var(--sklearn-color-fitted-level-1);\n",
       "}\n",
       "\n",
       "/* On hover */\n",
       "div.sk-estimator:hover .sk-estimator-doc-link:hover,\n",
       ".sk-estimator-doc-link:hover,\n",
       "div.sk-label-container:hover .sk-estimator-doc-link:hover,\n",
       ".sk-estimator-doc-link:hover {\n",
       "  /* unfitted */\n",
       "  background-color: var(--sklearn-color-unfitted-level-3);\n",
       "  color: var(--sklearn-color-background);\n",
       "  text-decoration: none;\n",
       "}\n",
       "\n",
       "div.sk-estimator.fitted:hover .sk-estimator-doc-link.fitted:hover,\n",
       ".sk-estimator-doc-link.fitted:hover,\n",
       "div.sk-label-container:hover .sk-estimator-doc-link.fitted:hover,\n",
       ".sk-estimator-doc-link.fitted:hover {\n",
       "  /* fitted */\n",
       "  background-color: var(--sklearn-color-fitted-level-3);\n",
       "  color: var(--sklearn-color-background);\n",
       "  text-decoration: none;\n",
       "}\n",
       "\n",
       "/* Span, style for the box shown on hovering the info icon */\n",
       ".sk-estimator-doc-link span {\n",
       "  display: none;\n",
       "  z-index: 9999;\n",
       "  position: relative;\n",
       "  font-weight: normal;\n",
       "  right: .2ex;\n",
       "  padding: .5ex;\n",
       "  margin: .5ex;\n",
       "  width: min-content;\n",
       "  min-width: 20ex;\n",
       "  max-width: 50ex;\n",
       "  color: var(--sklearn-color-text);\n",
       "  box-shadow: 2pt 2pt 4pt #999;\n",
       "  /* unfitted */\n",
       "  background: var(--sklearn-color-unfitted-level-0);\n",
       "  border: .5pt solid var(--sklearn-color-unfitted-level-3);\n",
       "}\n",
       "\n",
       ".sk-estimator-doc-link.fitted span {\n",
       "  /* fitted */\n",
       "  background: var(--sklearn-color-fitted-level-0);\n",
       "  border: var(--sklearn-color-fitted-level-3);\n",
       "}\n",
       "\n",
       ".sk-estimator-doc-link:hover span {\n",
       "  display: block;\n",
       "}\n",
       "\n",
       "/* \"?\"-specific style due to the `<a>` HTML tag */\n",
       "\n",
       "#sk-container-id-1 a.estimator_doc_link {\n",
       "  float: right;\n",
       "  font-size: 1rem;\n",
       "  line-height: 1em;\n",
       "  font-family: monospace;\n",
       "  background-color: var(--sklearn-color-background);\n",
       "  border-radius: 1rem;\n",
       "  height: 1rem;\n",
       "  width: 1rem;\n",
       "  text-decoration: none;\n",
       "  /* unfitted */\n",
       "  color: var(--sklearn-color-unfitted-level-1);\n",
       "  border: var(--sklearn-color-unfitted-level-1) 1pt solid;\n",
       "}\n",
       "\n",
       "#sk-container-id-1 a.estimator_doc_link.fitted {\n",
       "  /* fitted */\n",
       "  border: var(--sklearn-color-fitted-level-1) 1pt solid;\n",
       "  color: var(--sklearn-color-fitted-level-1);\n",
       "}\n",
       "\n",
       "/* On hover */\n",
       "#sk-container-id-1 a.estimator_doc_link:hover {\n",
       "  /* unfitted */\n",
       "  background-color: var(--sklearn-color-unfitted-level-3);\n",
       "  color: var(--sklearn-color-background);\n",
       "  text-decoration: none;\n",
       "}\n",
       "\n",
       "#sk-container-id-1 a.estimator_doc_link.fitted:hover {\n",
       "  /* fitted */\n",
       "  background-color: var(--sklearn-color-fitted-level-3);\n",
       "}\n",
       "</style><div id=\"sk-container-id-1\" class=\"sk-top-container\"><div class=\"sk-text-repr-fallback\"><pre>Ridge()</pre><b>In a Jupyter environment, please rerun this cell to show the HTML representation or trust the notebook. <br />On GitHub, the HTML representation is unable to render, please try loading this page with nbviewer.org.</b></div><div class=\"sk-container\" hidden><div class=\"sk-item\"><div class=\"sk-estimator fitted sk-toggleable\"><input class=\"sk-toggleable__control sk-hidden--visually\" id=\"sk-estimator-id-1\" type=\"checkbox\" checked><label for=\"sk-estimator-id-1\" class=\"sk-toggleable__label fitted sk-toggleable__label-arrow fitted\">&nbsp;&nbsp;Ridge<a class=\"sk-estimator-doc-link fitted\" rel=\"noreferrer\" target=\"_blank\" href=\"https://scikit-learn.org/1.5/modules/generated/sklearn.linear_model.Ridge.html\">?<span>Documentation for Ridge</span></a><span class=\"sk-estimator-doc-link fitted\">i<span>Fitted</span></span></label><div class=\"sk-toggleable__content fitted\"><pre>Ridge()</pre></div> </div></div></div></div>"
      ],
      "text/plain": [
       "Ridge()"
      ]
     },
     "execution_count": 11,
     "metadata": {},
     "output_type": "execute_result"
    }
   ],
   "source": [
    "# Define the Ridge model\n",
    "ridge_model = Ridge()\n",
    "\n",
    "# Define the parameter grid for alpha values\n",
    "param_grid = {'alpha': [0.0, 0.1, 1.0, 10.0, 100.0, 1000, 10000]}\n",
    "\n",
    "# Perform GridSearchCV to find the best alpha\n",
    "grid_search = GridSearchCV(ridge_model, param_grid, cv=5, scoring='neg_mean_squared_error')\n",
    "grid_search.fit(X_train_scaled, y_train)\n",
    "\n",
    "# Get the best alpha\n",
    "best_alpha = grid_search.best_params_['alpha']\n",
    "print(f\"Best alpha: {best_alpha}\")\n",
    "\n",
    "# Train the Ridge model with the best alpha\n",
    "ridge_model = Ridge(alpha=best_alpha)\n",
    "ridge_model.fit(X_train_scaled, y_train)"
   ]
  },
  {
   "cell_type": "code",
   "execution_count": 12,
   "metadata": {},
   "outputs": [],
   "source": [
    "context = ['actq', 'ancq']\n",
    "#, 'epsfxq', 'lctq', 'ltq', 'revtq'\n",
    "\n",
    "C_train = X_train_scaled[context].to_numpy()\n",
    "C_valid = X_valid_scaled[context].to_numpy()\n",
    "C_test = X_test_scaled[context].to_numpy()\n",
    "\n",
    "X_train_scaled_c = X_train_scaled.drop(columns=context)\n",
    "X_valid_scaled_c = X_valid_scaled.drop(columns=context)\n",
    "X_test_scaled_c = X_test_scaled.drop(columns=context)"
   ]
  },
  {
   "cell_type": "code",
   "execution_count": 13,
   "metadata": {},
   "outputs": [
    {
     "name": "stderr",
     "output_type": "stream",
     "text": [
      "GPU available: False, used: False\n",
      "TPU available: False, using: 0 TPU cores\n",
      "HPU available: False, using: 0 HPUs\n",
      "/Library/Frameworks/Python.framework/Versions/3.11/lib/python3.11/site-packages/pytorch_lightning/trainer/connectors/logger_connector/logger_connector.py:76: UserWarning:\n",
      "\n",
      "Starting from v1.9.0, `tensorboardX` has been removed as a dependency of the `pytorch_lightning` package, due to potential conflicts with other packages in the ML ecosystem. For this reason, `logger=True` will use `CSVLogger` as the default logger, unless the `tensorboard` or `tensorboardX` packages are found. Please `pip install lightning[extra]` or one of them to enable TensorBoard support by default\n",
      "\n",
      "/Library/Frameworks/Python.framework/Versions/3.11/lib/python3.11/site-packages/pytorch_lightning/loops/utilities.py:73: PossibleUserWarning:\n",
      "\n",
      "`max_epochs` was not set. Setting it to 1000 epochs. To train without an epoch limit, set `max_epochs=-1`.\n",
      "\n",
      "/Library/Frameworks/Python.framework/Versions/3.11/lib/python3.11/site-packages/pytorch_lightning/callbacks/model_checkpoint.py:654: UserWarning:\n",
      "\n",
      "Checkpoint directory /Users/edocampione/Desktop/Meng Engineering Science/4YP/models/lightning_logs/boot_0_checkpoints exists and is not empty.\n",
      "\n",
      "\n",
      "  | Name      | Type           | Params | Mode \n",
      "-----------------------------------------------------\n",
      "0 | metamodel | NaiveMetamodel | 2.2 K  | train\n",
      "-----------------------------------------------------\n",
      "2.2 K     Trainable params\n",
      "0         Non-trainable params\n",
      "2.2 K     Total params\n",
      "0.009     Total estimated model params size (MB)\n",
      "10        Modules in train mode\n",
      "0         Modules in eval mode\n",
      "/Library/Frameworks/Python.framework/Versions/3.11/lib/python3.11/site-packages/pytorch_lightning/trainer/connectors/data_connector.py:425: PossibleUserWarning:\n",
      "\n",
      "The 'val_dataloader' does not have many workers which may be a bottleneck. Consider increasing the value of the `num_workers` argument` to `num_workers=7` in the `DataLoader` to improve performance.\n",
      "\n",
      "/Library/Frameworks/Python.framework/Versions/3.11/lib/python3.11/site-packages/pytorch_lightning/trainer/connectors/data_connector.py:425: PossibleUserWarning:\n",
      "\n",
      "The 'train_dataloader' does not have many workers which may be a bottleneck. Consider increasing the value of the `num_workers` argument` to `num_workers=7` in the `DataLoader` to improve performance.\n",
      "\n"
     ]
    }
   ],
   "source": [
    "contextualised_model = ContextualizedRegressor()\n",
    "contextualised_model.fit(C_train, X_train_scaled_c.to_numpy(), y_train.to_numpy())\n",
    "\n"
   ]
  },
  {
   "cell_type": "code",
   "execution_count": 14,
   "metadata": {},
   "outputs": [
    {
     "data": {
      "text/plain": [
       "\"\\n\\n%%time\\n\\nparameters = {\\n    'n_estimators': [300],\\n    'learning_rate': [0.1],\\n    'max_depth': [8],\\n    'gamma': [0.1],\\n    'random_state': [42]\\n}\\n\\neval_set = [(X_train_scaled, y_train), (X_valid_scaled, y_valid)]\\nmodel = xgb.XGBRegressor(eval_set=eval_set, objective='reg:squarederror', verbose=False)\\nclf = GridSearchCV(model, parameters)\\n\\nclf.fit(X_train_scaled, y_train)\\n\\nprint(f'Best params: {clf.best_params_}')\\nprint(f'Best validation score = {clf.best_score_}')\\n\\n\""
      ]
     },
     "execution_count": 14,
     "metadata": {},
     "output_type": "execute_result"
    }
   ],
   "source": [
    "'''\n",
    "\n",
    "%%time\n",
    "\n",
    "parameters = {\n",
    "    'n_estimators': [300],\n",
    "    'learning_rate': [0.1],\n",
    "    'max_depth': [8],\n",
    "    'gamma': [0.1],\n",
    "    'random_state': [42]\n",
    "}\n",
    "\n",
    "eval_set = [(X_train_scaled, y_train), (X_valid_scaled, y_valid)]\n",
    "model = xgb.XGBRegressor(eval_set=eval_set, objective='reg:squarederror', verbose=False)\n",
    "clf = GridSearchCV(model, parameters)\n",
    "\n",
    "clf.fit(X_train_scaled, y_train)\n",
    "\n",
    "print(f'Best params: {clf.best_params_}')\n",
    "print(f'Best validation score = {clf.best_score_}')\n",
    "\n",
    "'''"
   ]
  },
  {
   "cell_type": "code",
   "execution_count": 15,
   "metadata": {},
   "outputs": [
    {
     "data": {
      "text/plain": [
       "\"\\n%%time\\n\\nmodel = xgb.XGBRegressor(**clf.best_params_, objective='reg:squarederror')\\nmodel.fit(X_train_scaled, y_train, eval_set=eval_set, verbose=False)\\n\\n\""
      ]
     },
     "execution_count": 15,
     "metadata": {},
     "output_type": "execute_result"
    }
   ],
   "source": [
    "'''\n",
    "%%time\n",
    "\n",
    "model = xgb.XGBRegressor(**clf.best_params_, objective='reg:squarederror')\n",
    "model.fit(X_train_scaled, y_train, eval_set=eval_set, verbose=False)\n",
    "\n",
    "'''"
   ]
  },
  {
   "cell_type": "code",
   "execution_count": 16,
   "metadata": {},
   "outputs": [
    {
     "name": "stdout",
     "output_type": "stream",
     "text": [
      "[0.10456686 0.02450733 0.08465651 ... 0.01158717 0.0291608  0.01272812]\n",
      "              precision    recall  f1-score   support\n",
      "\n",
      "           0       0.70      0.36      0.47      3460\n",
      "           1       0.60      0.87      0.71      3936\n",
      "\n",
      "    accuracy                           0.63      7396\n",
      "   macro avg       0.65      0.61      0.59      7396\n",
      "weighted avg       0.65      0.63      0.60      7396\n",
      "\n"
     ]
    }
   ],
   "source": [
    "y_train_pred = ridge_model.predict(X_train_scaled)\n",
    "y_valid_pred = ridge_model.predict(X_valid_scaled)\n",
    "y_test_pred = ridge_model.predict(X_test_scaled)\n",
    "\n",
    "# Classifier\n",
    "y_train_pred_binary = (y_train_pred >= 0).astype(int)\n",
    "y_valid_pred_binary = (y_valid_pred >= 0).astype(int)\n",
    "y_test_pred_binary = (y_test_pred >= 0).astype(int)\n",
    "\n",
    "y_train_binary = (y_train >= 0).astype(int)\n",
    "y_valid_binary = (y_valid >= 0).astype(int)\n",
    "y_test_binary = (y_test >= 0).astype(int)\n",
    "\n",
    "print(y_test_pred)\n",
    "\n",
    "print(classification_report(y_train_binary, y_train_pred_binary))\n",
    "\n"
   ]
  },
  {
   "cell_type": "code",
   "execution_count": 18,
   "metadata": {},
   "outputs": [
    {
     "data": {
      "text/html": [
       "<div>\n",
       "<style scoped>\n",
       "    .dataframe tbody tr th:only-of-type {\n",
       "        vertical-align: middle;\n",
       "    }\n",
       "\n",
       "    .dataframe tbody tr th {\n",
       "        vertical-align: top;\n",
       "    }\n",
       "\n",
       "    .dataframe thead th {\n",
       "        text-align: right;\n",
       "    }\n",
       "</style>\n",
       "<table border=\"1\" class=\"dataframe\">\n",
       "  <thead>\n",
       "    <tr style=\"text-align: right;\">\n",
       "      <th></th>\n",
       "      <th>datadate</th>\n",
       "      <th>tic</th>\n",
       "      <th>next_prccq_change</th>\n",
       "      <th>next_relative_quarterly_return</th>\n",
       "      <th>y_pred</th>\n",
       "    </tr>\n",
       "  </thead>\n",
       "  <tbody>\n",
       "    <tr>\n",
       "      <th>8319</th>\n",
       "      <td>2013-03-31</td>\n",
       "      <td>LMT</td>\n",
       "      <td>0.123705</td>\n",
       "      <td>0.089912</td>\n",
       "      <td>0.144930</td>\n",
       "    </tr>\n",
       "    <tr>\n",
       "      <th>11978</th>\n",
       "      <td>2013-03-31</td>\n",
       "      <td>REGN</td>\n",
       "      <td>0.274808</td>\n",
       "      <td>0.241016</td>\n",
       "      <td>0.096544</td>\n",
       "    </tr>\n",
       "    <tr>\n",
       "      <th>14021</th>\n",
       "      <td>2013-03-31</td>\n",
       "      <td>UPS</td>\n",
       "      <td>0.006752</td>\n",
       "      <td>-0.027041</td>\n",
       "      <td>0.074188</td>\n",
       "    </tr>\n",
       "    <tr>\n",
       "      <th>1253</th>\n",
       "      <td>2013-03-31</td>\n",
       "      <td>AMD</td>\n",
       "      <td>0.600000</td>\n",
       "      <td>0.566207</td>\n",
       "      <td>0.074005</td>\n",
       "    </tr>\n",
       "    <tr>\n",
       "      <th>12835</th>\n",
       "      <td>2013-03-31</td>\n",
       "      <td>SPGI</td>\n",
       "      <td>0.021313</td>\n",
       "      <td>-0.012479</td>\n",
       "      <td>0.065693</td>\n",
       "    </tr>\n",
       "  </tbody>\n",
       "</table>\n",
       "</div>"
      ],
      "text/plain": [
       "        datadate   tic  next_prccq_change  next_relative_quarterly_return  \\\n",
       "8319  2013-03-31   LMT           0.123705                        0.089912   \n",
       "11978 2013-03-31  REGN           0.274808                        0.241016   \n",
       "14021 2013-03-31   UPS           0.006752                       -0.027041   \n",
       "1253  2013-03-31   AMD           0.600000                        0.566207   \n",
       "12835 2013-03-31  SPGI           0.021313                       -0.012479   \n",
       "\n",
       "         y_pred  \n",
       "8319   0.144930  \n",
       "11978  0.096544  \n",
       "14021  0.074188  \n",
       "1253   0.074005  \n",
       "12835  0.065693  "
      ]
     },
     "execution_count": 18,
     "metadata": {},
     "output_type": "execute_result"
    }
   ],
   "source": [
    "results['y_pred'] = y_test_pred\n",
    "results1 = results.sort_values(by=['datadate', 'y_pred'], ascending=[True, False])\n",
    "\n",
    "results1.head(5)\n",
    "\n"
   ]
  },
  {
   "cell_type": "code",
   "execution_count": 19,
   "metadata": {},
   "outputs": [
    {
     "data": {
      "text/html": [
       "<div>\n",
       "<style scoped>\n",
       "    .dataframe tbody tr th:only-of-type {\n",
       "        vertical-align: middle;\n",
       "    }\n",
       "\n",
       "    .dataframe tbody tr th {\n",
       "        vertical-align: top;\n",
       "    }\n",
       "\n",
       "    .dataframe thead th {\n",
       "        text-align: right;\n",
       "    }\n",
       "</style>\n",
       "<table border=\"1\" class=\"dataframe\">\n",
       "  <thead>\n",
       "    <tr style=\"text-align: right;\">\n",
       "      <th></th>\n",
       "      <th>datadate</th>\n",
       "      <th>stocks</th>\n",
       "      <th>baseline</th>\n",
       "      <th>top_10</th>\n",
       "      <th>top_10_ideal</th>\n",
       "      <th>bottom_10</th>\n",
       "      <th>bottom_10_ideal</th>\n",
       "    </tr>\n",
       "  </thead>\n",
       "  <tbody>\n",
       "    <tr>\n",
       "      <th>0</th>\n",
       "      <td>2013-03-31</td>\n",
       "      <td>63</td>\n",
       "      <td>0.065437</td>\n",
       "      <td>0.177596</td>\n",
       "      <td>0.421077</td>\n",
       "      <td>-0.042579</td>\n",
       "      <td>-0.124256</td>\n",
       "    </tr>\n",
       "    <tr>\n",
       "      <th>1</th>\n",
       "      <td>2013-06-30</td>\n",
       "      <td>64</td>\n",
       "      <td>0.059808</td>\n",
       "      <td>0.166463</td>\n",
       "      <td>0.354006</td>\n",
       "      <td>0.010523</td>\n",
       "      <td>-0.093581</td>\n",
       "    </tr>\n",
       "    <tr>\n",
       "      <th>2</th>\n",
       "      <td>2013-09-30</td>\n",
       "      <td>66</td>\n",
       "      <td>0.110123</td>\n",
       "      <td>0.150323</td>\n",
       "      <td>0.412804</td>\n",
       "      <td>0.064688</td>\n",
       "      <td>-0.106066</td>\n",
       "    </tr>\n",
       "    <tr>\n",
       "      <th>3</th>\n",
       "      <td>2013-12-31</td>\n",
       "      <td>66</td>\n",
       "      <td>0.032754</td>\n",
       "      <td>0.022677</td>\n",
       "      <td>0.256265</td>\n",
       "      <td>-0.046945</td>\n",
       "      <td>-0.120828</td>\n",
       "    </tr>\n",
       "    <tr>\n",
       "      <th>4</th>\n",
       "      <td>2014-03-31</td>\n",
       "      <td>66</td>\n",
       "      <td>0.039382</td>\n",
       "      <td>0.099187</td>\n",
       "      <td>0.215892</td>\n",
       "      <td>-0.006959</td>\n",
       "      <td>-0.098166</td>\n",
       "    </tr>\n",
       "    <tr>\n",
       "      <th>5</th>\n",
       "      <td>2014-06-30</td>\n",
       "      <td>67</td>\n",
       "      <td>0.022670</td>\n",
       "      <td>0.063948</td>\n",
       "      <td>0.230542</td>\n",
       "      <td>0.013537</td>\n",
       "      <td>-0.145873</td>\n",
       "    </tr>\n",
       "    <tr>\n",
       "      <th>6</th>\n",
       "      <td>2014-09-30</td>\n",
       "      <td>65</td>\n",
       "      <td>0.054048</td>\n",
       "      <td>0.085250</td>\n",
       "      <td>0.238110</td>\n",
       "      <td>-0.021426</td>\n",
       "      <td>-0.189307</td>\n",
       "    </tr>\n",
       "    <tr>\n",
       "      <th>7</th>\n",
       "      <td>2014-12-31</td>\n",
       "      <td>64</td>\n",
       "      <td>0.027150</td>\n",
       "      <td>0.003643</td>\n",
       "      <td>0.206037</td>\n",
       "      <td>-0.046202</td>\n",
       "      <td>-0.152242</td>\n",
       "    </tr>\n",
       "    <tr>\n",
       "      <th>8</th>\n",
       "      <td>2015-03-31</td>\n",
       "      <td>65</td>\n",
       "      <td>0.009599</td>\n",
       "      <td>-0.043170</td>\n",
       "      <td>0.322730</td>\n",
       "      <td>-0.138860</td>\n",
       "      <td>-0.169087</td>\n",
       "    </tr>\n",
       "    <tr>\n",
       "      <th>9</th>\n",
       "      <td>2015-06-30</td>\n",
       "      <td>63</td>\n",
       "      <td>-0.056546</td>\n",
       "      <td>-0.046671</td>\n",
       "      <td>0.143413</td>\n",
       "      <td>-0.134363</td>\n",
       "      <td>-0.309548</td>\n",
       "    </tr>\n",
       "  </tbody>\n",
       "</table>\n",
       "</div>"
      ],
      "text/plain": [
       "    datadate  stocks  baseline    top_10  top_10_ideal  bottom_10  \\\n",
       "0 2013-03-31      63  0.065437  0.177596      0.421077  -0.042579   \n",
       "1 2013-06-30      64  0.059808  0.166463      0.354006   0.010523   \n",
       "2 2013-09-30      66  0.110123  0.150323      0.412804   0.064688   \n",
       "3 2013-12-31      66  0.032754  0.022677      0.256265  -0.046945   \n",
       "4 2014-03-31      66  0.039382  0.099187      0.215892  -0.006959   \n",
       "5 2014-06-30      67  0.022670  0.063948      0.230542   0.013537   \n",
       "6 2014-09-30      65  0.054048  0.085250      0.238110  -0.021426   \n",
       "7 2014-12-31      64  0.027150  0.003643      0.206037  -0.046202   \n",
       "8 2015-03-31      65  0.009599 -0.043170      0.322730  -0.138860   \n",
       "9 2015-06-30      63 -0.056546 -0.046671      0.143413  -0.134363   \n",
       "\n",
       "   bottom_10_ideal  \n",
       "0        -0.124256  \n",
       "1        -0.093581  \n",
       "2        -0.106066  \n",
       "3        -0.120828  \n",
       "4        -0.098166  \n",
       "5        -0.145873  \n",
       "6        -0.189307  \n",
       "7        -0.152242  \n",
       "8        -0.169087  \n",
       "9        -0.309548  "
      ]
     },
     "execution_count": 19,
     "metadata": {},
     "output_type": "execute_result"
    }
   ],
   "source": [
    "def softmax_weighted_return(df, sort_col, target_col, n=5, largest=True):\n",
    "    if largest:\n",
    "        selected = df.nlargest(n, sort_col)\n",
    "    else:\n",
    "        selected = df.nsmallest(n, sort_col)\n",
    "    # Compute softmax weights from the predicted scores:\n",
    "    e_scores = np.exp(selected[sort_col])\n",
    "    weights = e_scores / e_scores.sum()\n",
    "    return (selected[target_col] * weights).sum()\n",
    "\n",
    "def exponential_weighted_return(df, sort_col, target_col, n=10, largest=True, alpha=0.5):\n",
    "    if largest:\n",
    "        selected = df.nlargest(n, sort_col)\n",
    "    else:\n",
    "        selected = df.nsmallest(n, sort_col)\n",
    "    selected = selected.sort_values(by=sort_col, ascending=not largest).copy()\n",
    "    selected['rank'] = range(1, len(selected) + 1)\n",
    "    # Exponential weights: weight = exp(-alpha * (rank - 1))\n",
    "    selected['weight'] = np.exp(-alpha * (selected['rank'] - 1))\n",
    "    selected['weight'] /= selected['weight'].sum()  # Normalize weights\n",
    "    return (selected[target_col] * selected['weight']).sum()\n",
    "\n",
    "\n",
    "# Baseline aggregation remains unchanged.\n",
    "df_avg = results.groupby('datadate').agg(\n",
    "    stocks=('next_prccq_change', 'size'),\n",
    "    baseline=('next_prccq_change', 'mean')\n",
    ").reset_index()\n",
    "\n",
    "# For the predicted top 10, weight by predicted returns ('pred_rank_score')\n",
    "df_avg['top_10'] = results.groupby('datadate').apply(\n",
    "    lambda group: exponential_weighted_return(\n",
    "        group,\n",
    "        sort_col='y_pred',\n",
    "        target_col='next_prccq_change',\n",
    "        largest=True\n",
    "    )\n",
    ").reset_index(level=0, drop=True)\n",
    "\n",
    "# For the ideal top 10, weight by the actual returns\n",
    "df_avg['top_10_ideal'] = results.groupby('datadate').apply(\n",
    "    lambda group: exponential_weighted_return(\n",
    "        group,\n",
    "        sort_col='next_prccq_change',\n",
    "        target_col='next_prccq_change',\n",
    "        largest=True\n",
    "    )\n",
    ").reset_index(level=0, drop=True)\n",
    "\n",
    "# For the predicted bottom 10, weight by predicted returns\n",
    "df_avg['bottom_10'] = results.groupby('datadate').apply(\n",
    "    lambda group: exponential_weighted_return(\n",
    "        group,\n",
    "        sort_col='y_pred',\n",
    "        target_col='next_prccq_change',\n",
    "        largest=False\n",
    "    )\n",
    ").reset_index(level=0, drop=True)\n",
    "\n",
    "# For the ideal bottom 10, weight by the actual returns\n",
    "df_avg['bottom_10_ideal'] = results.groupby('datadate').apply(\n",
    "    lambda group: exponential_weighted_return(\n",
    "        group,\n",
    "        sort_col='next_prccq_change',\n",
    "        target_col='next_prccq_change',\n",
    "        largest=False\n",
    "    )\n",
    ").reset_index(level=0, drop=True)\n",
    "\n",
    "# Display the first 100 rows of the new dataframe\n",
    "df_avg.head(10)\n"
   ]
  },
  {
   "cell_type": "code",
   "execution_count": 20,
   "metadata": {},
   "outputs": [
    {
     "name": "stdout",
     "output_type": "stream",
     "text": [
      "Mean quarterly return of the baseline portfolio: 0.03360167684373078\n",
      "Sharpe Ratio of the baseline portfolio: 0.14378314191983477\n",
      "\n",
      "Mean quarterly return of the top_10 portfolio: 0.06461174972148111\n",
      "Sharpe Ratio of the top_10 portfolio: 0.48048550144335544\n",
      "\n",
      "Mean quarterly return of the bottom_10 portfolio: -0.06933116221360922\n",
      "Sharpe Ratio of the bottom_10 portfolio: -0.9241780629387369\n",
      "\n"
     ]
    }
   ],
   "source": [
    "for portfolio in ['baseline', 'top_10', 'bottom_10']:\n",
    "\n",
    "    mean_return = df_avg[portfolio].mean()\n",
    "\n",
    "    # Calculate the standard deviation of the returns of the top 10 portfolio\n",
    "    std_return = df_avg[portfolio].std()\n",
    "\n",
    "    # Assuming the risk-free rate is 0 (if you have a specific risk-free rate, replace 0 with that value)\n",
    "    risk_free_rate = 0.025\n",
    "\n",
    "    # Calculate the Sharpe ratio\n",
    "    sharpe_ratio = (mean_return - risk_free_rate) / std_return\n",
    "\n",
    "    # Print the Sharpe ratio\n",
    "    print(f\"Mean quarterly return of the {portfolio} portfolio: {mean_return}\")\n",
    "    print(f\"Sharpe Ratio of the {portfolio} portfolio: {sharpe_ratio}\")\n",
    "    print(\"\")"
   ]
  },
  {
   "cell_type": "code",
   "execution_count": 21,
   "metadata": {},
   "outputs": [
    {
     "data": {
      "application/vnd.plotly.v1+json": {
       "config": {
        "plotlyServerURL": "https://plot.ly"
       },
       "data": [
        {
         "mode": "lines",
         "name": "Baseline Portfolio",
         "type": "scatter",
         "x": [
          "2013-03-31T00:00:00",
          "2013-06-30T00:00:00",
          "2013-09-30T00:00:00",
          "2013-12-31T00:00:00",
          "2014-03-31T00:00:00",
          "2014-06-30T00:00:00",
          "2014-09-30T00:00:00",
          "2014-12-31T00:00:00",
          "2015-03-31T00:00:00",
          "2015-06-30T00:00:00",
          "2015-09-30T00:00:00",
          "2015-12-31T00:00:00",
          "2016-03-31T00:00:00",
          "2016-06-30T00:00:00",
          "2016-09-30T00:00:00",
          "2016-12-31T00:00:00",
          "2017-03-31T00:00:00",
          "2017-06-30T00:00:00",
          "2017-09-30T00:00:00",
          "2017-12-31T00:00:00",
          "2018-03-31T00:00:00",
          "2018-06-30T00:00:00",
          "2018-09-30T00:00:00",
          "2018-12-31T00:00:00",
          "2019-03-31T00:00:00",
          "2019-06-30T00:00:00",
          "2019-09-30T00:00:00",
          "2019-12-31T00:00:00",
          "2020-03-31T00:00:00",
          "2020-06-30T00:00:00",
          "2020-09-30T00:00:00",
          "2020-12-31T00:00:00",
          "2021-03-31T00:00:00",
          "2021-06-30T00:00:00",
          "2021-09-30T00:00:00",
          "2021-12-31T00:00:00",
          "2022-03-31T00:00:00",
          "2022-06-30T00:00:00",
          "2022-09-30T00:00:00",
          "2022-12-31T00:00:00",
          "2023-03-31T00:00:00",
          "2023-06-30T00:00:00"
         ],
         "y": [
          1065.4371958232998,
          1129.158555801018,
          1253.504932219555,
          1294.5627948278475,
          1345.5449075612785,
          1376.0488503962213,
          1450.4209420711502,
          1489.7999079150622,
          1504.1006826860594,
          1419.0491976789824,
          1532.8619041760492,
          1526.8454764030162,
          1595.6530802603083,
          1670.5003529710327,
          1693.3048216355464,
          1806.3940396765208,
          1877.9491868072244,
          1974.0047428534597,
          2083.7869748399794,
          2136.843713783442,
          2209.0551592121974,
          2413.5292586963624,
          2175.7094661891324,
          2370.8521064286383,
          2435.7967721326663,
          2514.7218204608134,
          2731.0651296527913,
          2291.9914990282114,
          2599.984512088596,
          2808.7678965191553,
          3100.289213300711,
          3350.5361613923674,
          3568.127870904715,
          3564.924966398189,
          3894.5966139011493,
          3875.813552377668,
          3521.3314335965306,
          3244.2768305862883,
          3521.720690443635,
          3590.0165855143373,
          3728.5024491728045,
          3726.7208199094616
         ]
        },
        {
         "mode": "lines",
         "name": "Top 10 Portfolio",
         "type": "scatter",
         "x": [
          "2013-03-31T00:00:00",
          "2013-06-30T00:00:00",
          "2013-09-30T00:00:00",
          "2013-12-31T00:00:00",
          "2014-03-31T00:00:00",
          "2014-06-30T00:00:00",
          "2014-09-30T00:00:00",
          "2014-12-31T00:00:00",
          "2015-03-31T00:00:00",
          "2015-06-30T00:00:00",
          "2015-09-30T00:00:00",
          "2015-12-31T00:00:00",
          "2016-03-31T00:00:00",
          "2016-06-30T00:00:00",
          "2016-09-30T00:00:00",
          "2016-12-31T00:00:00",
          "2017-03-31T00:00:00",
          "2017-06-30T00:00:00",
          "2017-09-30T00:00:00",
          "2017-12-31T00:00:00",
          "2018-03-31T00:00:00",
          "2018-06-30T00:00:00",
          "2018-09-30T00:00:00",
          "2018-12-31T00:00:00",
          "2019-03-31T00:00:00",
          "2019-06-30T00:00:00",
          "2019-09-30T00:00:00",
          "2019-12-31T00:00:00",
          "2020-03-31T00:00:00",
          "2020-06-30T00:00:00",
          "2020-09-30T00:00:00",
          "2020-12-31T00:00:00",
          "2021-03-31T00:00:00",
          "2021-06-30T00:00:00",
          "2021-09-30T00:00:00",
          "2021-12-31T00:00:00",
          "2022-03-31T00:00:00",
          "2022-06-30T00:00:00",
          "2022-09-30T00:00:00",
          "2022-12-31T00:00:00",
          "2023-03-31T00:00:00",
          "2023-06-30T00:00:00"
         ],
         "y": [
          1177.5957102046611,
          1373.6214422111236,
          1580.108230572822,
          1615.940836512041,
          1776.221046201504,
          1889.8059683380684,
          2050.9125977652147,
          2058.38458181234,
          1969.5241074765866,
          1877.604039320928,
          2084.293795369886,
          2108.9809825900397,
          2208.181283835061,
          2328.4004499398584,
          2173.1447661902657,
          2306.5341041389906,
          2399.8136612339586,
          2685.9059750156653,
          2836.24310089247,
          3326.850162208004,
          3403.6739146957407,
          3729.7389672580657,
          3270.456252426707,
          3715.400303026222,
          4161.118571108556,
          4391.929629659806,
          4768.759757696908,
          4293.748428572268,
          5359.503550701676,
          6327.431398472689,
          6623.683719034791,
          6732.6511863146325,
          7256.793084600745,
          7768.055332776551,
          8762.933493839404,
          8485.883550116143,
          8511.72382956789,
          7787.336945142181,
          8922.732657003584,
          9543.510343535569,
          10929.108325479616,
          12229.304943167568
         ]
        }
       ],
       "layout": {
        "template": {
         "data": {
          "bar": [
           {
            "error_x": {
             "color": "#2a3f5f"
            },
            "error_y": {
             "color": "#2a3f5f"
            },
            "marker": {
             "line": {
              "color": "#E5ECF6",
              "width": 0.5
             },
             "pattern": {
              "fillmode": "overlay",
              "size": 10,
              "solidity": 0.2
             }
            },
            "type": "bar"
           }
          ],
          "barpolar": [
           {
            "marker": {
             "line": {
              "color": "#E5ECF6",
              "width": 0.5
             },
             "pattern": {
              "fillmode": "overlay",
              "size": 10,
              "solidity": 0.2
             }
            },
            "type": "barpolar"
           }
          ],
          "carpet": [
           {
            "aaxis": {
             "endlinecolor": "#2a3f5f",
             "gridcolor": "white",
             "linecolor": "white",
             "minorgridcolor": "white",
             "startlinecolor": "#2a3f5f"
            },
            "baxis": {
             "endlinecolor": "#2a3f5f",
             "gridcolor": "white",
             "linecolor": "white",
             "minorgridcolor": "white",
             "startlinecolor": "#2a3f5f"
            },
            "type": "carpet"
           }
          ],
          "choropleth": [
           {
            "colorbar": {
             "outlinewidth": 0,
             "ticks": ""
            },
            "type": "choropleth"
           }
          ],
          "contour": [
           {
            "colorbar": {
             "outlinewidth": 0,
             "ticks": ""
            },
            "colorscale": [
             [
              0,
              "#0d0887"
             ],
             [
              0.1111111111111111,
              "#46039f"
             ],
             [
              0.2222222222222222,
              "#7201a8"
             ],
             [
              0.3333333333333333,
              "#9c179e"
             ],
             [
              0.4444444444444444,
              "#bd3786"
             ],
             [
              0.5555555555555556,
              "#d8576b"
             ],
             [
              0.6666666666666666,
              "#ed7953"
             ],
             [
              0.7777777777777778,
              "#fb9f3a"
             ],
             [
              0.8888888888888888,
              "#fdca26"
             ],
             [
              1,
              "#f0f921"
             ]
            ],
            "type": "contour"
           }
          ],
          "contourcarpet": [
           {
            "colorbar": {
             "outlinewidth": 0,
             "ticks": ""
            },
            "type": "contourcarpet"
           }
          ],
          "heatmap": [
           {
            "colorbar": {
             "outlinewidth": 0,
             "ticks": ""
            },
            "colorscale": [
             [
              0,
              "#0d0887"
             ],
             [
              0.1111111111111111,
              "#46039f"
             ],
             [
              0.2222222222222222,
              "#7201a8"
             ],
             [
              0.3333333333333333,
              "#9c179e"
             ],
             [
              0.4444444444444444,
              "#bd3786"
             ],
             [
              0.5555555555555556,
              "#d8576b"
             ],
             [
              0.6666666666666666,
              "#ed7953"
             ],
             [
              0.7777777777777778,
              "#fb9f3a"
             ],
             [
              0.8888888888888888,
              "#fdca26"
             ],
             [
              1,
              "#f0f921"
             ]
            ],
            "type": "heatmap"
           }
          ],
          "heatmapgl": [
           {
            "colorbar": {
             "outlinewidth": 0,
             "ticks": ""
            },
            "colorscale": [
             [
              0,
              "#0d0887"
             ],
             [
              0.1111111111111111,
              "#46039f"
             ],
             [
              0.2222222222222222,
              "#7201a8"
             ],
             [
              0.3333333333333333,
              "#9c179e"
             ],
             [
              0.4444444444444444,
              "#bd3786"
             ],
             [
              0.5555555555555556,
              "#d8576b"
             ],
             [
              0.6666666666666666,
              "#ed7953"
             ],
             [
              0.7777777777777778,
              "#fb9f3a"
             ],
             [
              0.8888888888888888,
              "#fdca26"
             ],
             [
              1,
              "#f0f921"
             ]
            ],
            "type": "heatmapgl"
           }
          ],
          "histogram": [
           {
            "marker": {
             "pattern": {
              "fillmode": "overlay",
              "size": 10,
              "solidity": 0.2
             }
            },
            "type": "histogram"
           }
          ],
          "histogram2d": [
           {
            "colorbar": {
             "outlinewidth": 0,
             "ticks": ""
            },
            "colorscale": [
             [
              0,
              "#0d0887"
             ],
             [
              0.1111111111111111,
              "#46039f"
             ],
             [
              0.2222222222222222,
              "#7201a8"
             ],
             [
              0.3333333333333333,
              "#9c179e"
             ],
             [
              0.4444444444444444,
              "#bd3786"
             ],
             [
              0.5555555555555556,
              "#d8576b"
             ],
             [
              0.6666666666666666,
              "#ed7953"
             ],
             [
              0.7777777777777778,
              "#fb9f3a"
             ],
             [
              0.8888888888888888,
              "#fdca26"
             ],
             [
              1,
              "#f0f921"
             ]
            ],
            "type": "histogram2d"
           }
          ],
          "histogram2dcontour": [
           {
            "colorbar": {
             "outlinewidth": 0,
             "ticks": ""
            },
            "colorscale": [
             [
              0,
              "#0d0887"
             ],
             [
              0.1111111111111111,
              "#46039f"
             ],
             [
              0.2222222222222222,
              "#7201a8"
             ],
             [
              0.3333333333333333,
              "#9c179e"
             ],
             [
              0.4444444444444444,
              "#bd3786"
             ],
             [
              0.5555555555555556,
              "#d8576b"
             ],
             [
              0.6666666666666666,
              "#ed7953"
             ],
             [
              0.7777777777777778,
              "#fb9f3a"
             ],
             [
              0.8888888888888888,
              "#fdca26"
             ],
             [
              1,
              "#f0f921"
             ]
            ],
            "type": "histogram2dcontour"
           }
          ],
          "mesh3d": [
           {
            "colorbar": {
             "outlinewidth": 0,
             "ticks": ""
            },
            "type": "mesh3d"
           }
          ],
          "parcoords": [
           {
            "line": {
             "colorbar": {
              "outlinewidth": 0,
              "ticks": ""
             }
            },
            "type": "parcoords"
           }
          ],
          "pie": [
           {
            "automargin": true,
            "type": "pie"
           }
          ],
          "scatter": [
           {
            "fillpattern": {
             "fillmode": "overlay",
             "size": 10,
             "solidity": 0.2
            },
            "type": "scatter"
           }
          ],
          "scatter3d": [
           {
            "line": {
             "colorbar": {
              "outlinewidth": 0,
              "ticks": ""
             }
            },
            "marker": {
             "colorbar": {
              "outlinewidth": 0,
              "ticks": ""
             }
            },
            "type": "scatter3d"
           }
          ],
          "scattercarpet": [
           {
            "marker": {
             "colorbar": {
              "outlinewidth": 0,
              "ticks": ""
             }
            },
            "type": "scattercarpet"
           }
          ],
          "scattergeo": [
           {
            "marker": {
             "colorbar": {
              "outlinewidth": 0,
              "ticks": ""
             }
            },
            "type": "scattergeo"
           }
          ],
          "scattergl": [
           {
            "marker": {
             "colorbar": {
              "outlinewidth": 0,
              "ticks": ""
             }
            },
            "type": "scattergl"
           }
          ],
          "scattermapbox": [
           {
            "marker": {
             "colorbar": {
              "outlinewidth": 0,
              "ticks": ""
             }
            },
            "type": "scattermapbox"
           }
          ],
          "scatterpolar": [
           {
            "marker": {
             "colorbar": {
              "outlinewidth": 0,
              "ticks": ""
             }
            },
            "type": "scatterpolar"
           }
          ],
          "scatterpolargl": [
           {
            "marker": {
             "colorbar": {
              "outlinewidth": 0,
              "ticks": ""
             }
            },
            "type": "scatterpolargl"
           }
          ],
          "scatterternary": [
           {
            "marker": {
             "colorbar": {
              "outlinewidth": 0,
              "ticks": ""
             }
            },
            "type": "scatterternary"
           }
          ],
          "surface": [
           {
            "colorbar": {
             "outlinewidth": 0,
             "ticks": ""
            },
            "colorscale": [
             [
              0,
              "#0d0887"
             ],
             [
              0.1111111111111111,
              "#46039f"
             ],
             [
              0.2222222222222222,
              "#7201a8"
             ],
             [
              0.3333333333333333,
              "#9c179e"
             ],
             [
              0.4444444444444444,
              "#bd3786"
             ],
             [
              0.5555555555555556,
              "#d8576b"
             ],
             [
              0.6666666666666666,
              "#ed7953"
             ],
             [
              0.7777777777777778,
              "#fb9f3a"
             ],
             [
              0.8888888888888888,
              "#fdca26"
             ],
             [
              1,
              "#f0f921"
             ]
            ],
            "type": "surface"
           }
          ],
          "table": [
           {
            "cells": {
             "fill": {
              "color": "#EBF0F8"
             },
             "line": {
              "color": "white"
             }
            },
            "header": {
             "fill": {
              "color": "#C8D4E3"
             },
             "line": {
              "color": "white"
             }
            },
            "type": "table"
           }
          ]
         },
         "layout": {
          "annotationdefaults": {
           "arrowcolor": "#2a3f5f",
           "arrowhead": 0,
           "arrowwidth": 1
          },
          "autotypenumbers": "strict",
          "coloraxis": {
           "colorbar": {
            "outlinewidth": 0,
            "ticks": ""
           }
          },
          "colorscale": {
           "diverging": [
            [
             0,
             "#8e0152"
            ],
            [
             0.1,
             "#c51b7d"
            ],
            [
             0.2,
             "#de77ae"
            ],
            [
             0.3,
             "#f1b6da"
            ],
            [
             0.4,
             "#fde0ef"
            ],
            [
             0.5,
             "#f7f7f7"
            ],
            [
             0.6,
             "#e6f5d0"
            ],
            [
             0.7,
             "#b8e186"
            ],
            [
             0.8,
             "#7fbc41"
            ],
            [
             0.9,
             "#4d9221"
            ],
            [
             1,
             "#276419"
            ]
           ],
           "sequential": [
            [
             0,
             "#0d0887"
            ],
            [
             0.1111111111111111,
             "#46039f"
            ],
            [
             0.2222222222222222,
             "#7201a8"
            ],
            [
             0.3333333333333333,
             "#9c179e"
            ],
            [
             0.4444444444444444,
             "#bd3786"
            ],
            [
             0.5555555555555556,
             "#d8576b"
            ],
            [
             0.6666666666666666,
             "#ed7953"
            ],
            [
             0.7777777777777778,
             "#fb9f3a"
            ],
            [
             0.8888888888888888,
             "#fdca26"
            ],
            [
             1,
             "#f0f921"
            ]
           ],
           "sequentialminus": [
            [
             0,
             "#0d0887"
            ],
            [
             0.1111111111111111,
             "#46039f"
            ],
            [
             0.2222222222222222,
             "#7201a8"
            ],
            [
             0.3333333333333333,
             "#9c179e"
            ],
            [
             0.4444444444444444,
             "#bd3786"
            ],
            [
             0.5555555555555556,
             "#d8576b"
            ],
            [
             0.6666666666666666,
             "#ed7953"
            ],
            [
             0.7777777777777778,
             "#fb9f3a"
            ],
            [
             0.8888888888888888,
             "#fdca26"
            ],
            [
             1,
             "#f0f921"
            ]
           ]
          },
          "colorway": [
           "#636efa",
           "#EF553B",
           "#00cc96",
           "#ab63fa",
           "#FFA15A",
           "#19d3f3",
           "#FF6692",
           "#B6E880",
           "#FF97FF",
           "#FECB52"
          ],
          "font": {
           "color": "#2a3f5f"
          },
          "geo": {
           "bgcolor": "white",
           "lakecolor": "white",
           "landcolor": "#E5ECF6",
           "showlakes": true,
           "showland": true,
           "subunitcolor": "white"
          },
          "hoverlabel": {
           "align": "left"
          },
          "hovermode": "closest",
          "mapbox": {
           "style": "light"
          },
          "paper_bgcolor": "rgba(0,0,0,0)",
          "plot_bgcolor": "rgba(250,250,250,0.8)",
          "polar": {
           "angularaxis": {
            "gridcolor": "white",
            "linecolor": "white",
            "ticks": ""
           },
           "bgcolor": "#E5ECF6",
           "radialaxis": {
            "gridcolor": "white",
            "linecolor": "white",
            "ticks": ""
           }
          },
          "scene": {
           "xaxis": {
            "backgroundcolor": "#E5ECF6",
            "gridcolor": "white",
            "gridwidth": 2,
            "linecolor": "white",
            "showbackground": true,
            "ticks": "",
            "zerolinecolor": "white"
           },
           "yaxis": {
            "backgroundcolor": "#E5ECF6",
            "gridcolor": "white",
            "gridwidth": 2,
            "linecolor": "white",
            "showbackground": true,
            "ticks": "",
            "zerolinecolor": "white"
           },
           "zaxis": {
            "backgroundcolor": "#E5ECF6",
            "gridcolor": "white",
            "gridwidth": 2,
            "linecolor": "white",
            "showbackground": true,
            "ticks": "",
            "zerolinecolor": "white"
           }
          },
          "shapedefaults": {
           "line": {
            "color": "#2a3f5f"
           }
          },
          "ternary": {
           "aaxis": {
            "gridcolor": "white",
            "linecolor": "white",
            "ticks": ""
           },
           "baxis": {
            "gridcolor": "white",
            "linecolor": "white",
            "ticks": ""
           },
           "bgcolor": "#E5ECF6",
           "caxis": {
            "gridcolor": "white",
            "linecolor": "white",
            "ticks": ""
           }
          },
          "title": {
           "x": 0.05
          },
          "xaxis": {
           "automargin": true,
           "gridcolor": "white",
           "linecolor": "white",
           "ticks": "",
           "title": {
            "standoff": 15
           },
           "zerolinecolor": "white",
           "zerolinewidth": 2
          },
          "yaxis": {
           "automargin": true,
           "gridcolor": "white",
           "linecolor": "white",
           "ticks": "",
           "title": {
            "standoff": 15
           },
           "zerolinecolor": "white",
           "zerolinewidth": 2
          }
         }
        },
        "title": {
         "text": "Portfolio Value Over Time ($1,000 Investment)"
        },
        "xaxis": {
         "title": {
          "text": "Date"
         }
        },
        "yaxis": {
         "title": {
          "text": "Portfolio Value ($)"
         }
        }
       }
      },
      "text/html": [
       "<div>                            <div id=\"7cb08542-b37c-44ea-a04c-906ba5faa2b8\" class=\"plotly-graph-div\" style=\"height:525px; width:100%;\"></div>            <script type=\"text/javascript\">                require([\"plotly\"], function(Plotly) {                    window.PLOTLYENV=window.PLOTLYENV || {};                                    if (document.getElementById(\"7cb08542-b37c-44ea-a04c-906ba5faa2b8\")) {                    Plotly.newPlot(                        \"7cb08542-b37c-44ea-a04c-906ba5faa2b8\",                        [{\"mode\":\"lines\",\"name\":\"Baseline Portfolio\",\"x\":[\"2013-03-31T00:00:00\",\"2013-06-30T00:00:00\",\"2013-09-30T00:00:00\",\"2013-12-31T00:00:00\",\"2014-03-31T00:00:00\",\"2014-06-30T00:00:00\",\"2014-09-30T00:00:00\",\"2014-12-31T00:00:00\",\"2015-03-31T00:00:00\",\"2015-06-30T00:00:00\",\"2015-09-30T00:00:00\",\"2015-12-31T00:00:00\",\"2016-03-31T00:00:00\",\"2016-06-30T00:00:00\",\"2016-09-30T00:00:00\",\"2016-12-31T00:00:00\",\"2017-03-31T00:00:00\",\"2017-06-30T00:00:00\",\"2017-09-30T00:00:00\",\"2017-12-31T00:00:00\",\"2018-03-31T00:00:00\",\"2018-06-30T00:00:00\",\"2018-09-30T00:00:00\",\"2018-12-31T00:00:00\",\"2019-03-31T00:00:00\",\"2019-06-30T00:00:00\",\"2019-09-30T00:00:00\",\"2019-12-31T00:00:00\",\"2020-03-31T00:00:00\",\"2020-06-30T00:00:00\",\"2020-09-30T00:00:00\",\"2020-12-31T00:00:00\",\"2021-03-31T00:00:00\",\"2021-06-30T00:00:00\",\"2021-09-30T00:00:00\",\"2021-12-31T00:00:00\",\"2022-03-31T00:00:00\",\"2022-06-30T00:00:00\",\"2022-09-30T00:00:00\",\"2022-12-31T00:00:00\",\"2023-03-31T00:00:00\",\"2023-06-30T00:00:00\"],\"y\":[1065.4371958232998,1129.158555801018,1253.504932219555,1294.5627948278475,1345.5449075612785,1376.0488503962213,1450.4209420711502,1489.7999079150622,1504.1006826860594,1419.0491976789824,1532.8619041760492,1526.8454764030162,1595.6530802603083,1670.5003529710327,1693.3048216355464,1806.3940396765208,1877.9491868072244,1974.0047428534597,2083.7869748399794,2136.843713783442,2209.0551592121974,2413.5292586963624,2175.7094661891324,2370.8521064286383,2435.7967721326663,2514.7218204608134,2731.0651296527913,2291.9914990282114,2599.984512088596,2808.7678965191553,3100.289213300711,3350.5361613923674,3568.127870904715,3564.924966398189,3894.5966139011493,3875.813552377668,3521.3314335965306,3244.2768305862883,3521.720690443635,3590.0165855143373,3728.5024491728045,3726.7208199094616],\"type\":\"scatter\"},{\"mode\":\"lines\",\"name\":\"Top 10 Portfolio\",\"x\":[\"2013-03-31T00:00:00\",\"2013-06-30T00:00:00\",\"2013-09-30T00:00:00\",\"2013-12-31T00:00:00\",\"2014-03-31T00:00:00\",\"2014-06-30T00:00:00\",\"2014-09-30T00:00:00\",\"2014-12-31T00:00:00\",\"2015-03-31T00:00:00\",\"2015-06-30T00:00:00\",\"2015-09-30T00:00:00\",\"2015-12-31T00:00:00\",\"2016-03-31T00:00:00\",\"2016-06-30T00:00:00\",\"2016-09-30T00:00:00\",\"2016-12-31T00:00:00\",\"2017-03-31T00:00:00\",\"2017-06-30T00:00:00\",\"2017-09-30T00:00:00\",\"2017-12-31T00:00:00\",\"2018-03-31T00:00:00\",\"2018-06-30T00:00:00\",\"2018-09-30T00:00:00\",\"2018-12-31T00:00:00\",\"2019-03-31T00:00:00\",\"2019-06-30T00:00:00\",\"2019-09-30T00:00:00\",\"2019-12-31T00:00:00\",\"2020-03-31T00:00:00\",\"2020-06-30T00:00:00\",\"2020-09-30T00:00:00\",\"2020-12-31T00:00:00\",\"2021-03-31T00:00:00\",\"2021-06-30T00:00:00\",\"2021-09-30T00:00:00\",\"2021-12-31T00:00:00\",\"2022-03-31T00:00:00\",\"2022-06-30T00:00:00\",\"2022-09-30T00:00:00\",\"2022-12-31T00:00:00\",\"2023-03-31T00:00:00\",\"2023-06-30T00:00:00\"],\"y\":[1177.5957102046611,1373.6214422111236,1580.108230572822,1615.940836512041,1776.221046201504,1889.8059683380684,2050.9125977652147,2058.38458181234,1969.5241074765866,1877.604039320928,2084.293795369886,2108.9809825900397,2208.181283835061,2328.4004499398584,2173.1447661902657,2306.5341041389906,2399.8136612339586,2685.9059750156653,2836.24310089247,3326.850162208004,3403.6739146957407,3729.7389672580657,3270.456252426707,3715.400303026222,4161.118571108556,4391.929629659806,4768.759757696908,4293.748428572268,5359.503550701676,6327.431398472689,6623.683719034791,6732.6511863146325,7256.793084600745,7768.055332776551,8762.933493839404,8485.883550116143,8511.72382956789,7787.336945142181,8922.732657003584,9543.510343535569,10929.108325479616,12229.304943167568],\"type\":\"scatter\"}],                        {\"template\":{\"data\":{\"barpolar\":[{\"marker\":{\"line\":{\"color\":\"#E5ECF6\",\"width\":0.5},\"pattern\":{\"fillmode\":\"overlay\",\"size\":10,\"solidity\":0.2}},\"type\":\"barpolar\"}],\"bar\":[{\"error_x\":{\"color\":\"#2a3f5f\"},\"error_y\":{\"color\":\"#2a3f5f\"},\"marker\":{\"line\":{\"color\":\"#E5ECF6\",\"width\":0.5},\"pattern\":{\"fillmode\":\"overlay\",\"size\":10,\"solidity\":0.2}},\"type\":\"bar\"}],\"carpet\":[{\"aaxis\":{\"endlinecolor\":\"#2a3f5f\",\"gridcolor\":\"white\",\"linecolor\":\"white\",\"minorgridcolor\":\"white\",\"startlinecolor\":\"#2a3f5f\"},\"baxis\":{\"endlinecolor\":\"#2a3f5f\",\"gridcolor\":\"white\",\"linecolor\":\"white\",\"minorgridcolor\":\"white\",\"startlinecolor\":\"#2a3f5f\"},\"type\":\"carpet\"}],\"choropleth\":[{\"colorbar\":{\"outlinewidth\":0,\"ticks\":\"\"},\"type\":\"choropleth\"}],\"contourcarpet\":[{\"colorbar\":{\"outlinewidth\":0,\"ticks\":\"\"},\"type\":\"contourcarpet\"}],\"contour\":[{\"colorbar\":{\"outlinewidth\":0,\"ticks\":\"\"},\"colorscale\":[[0.0,\"#0d0887\"],[0.1111111111111111,\"#46039f\"],[0.2222222222222222,\"#7201a8\"],[0.3333333333333333,\"#9c179e\"],[0.4444444444444444,\"#bd3786\"],[0.5555555555555556,\"#d8576b\"],[0.6666666666666666,\"#ed7953\"],[0.7777777777777778,\"#fb9f3a\"],[0.8888888888888888,\"#fdca26\"],[1.0,\"#f0f921\"]],\"type\":\"contour\"}],\"heatmapgl\":[{\"colorbar\":{\"outlinewidth\":0,\"ticks\":\"\"},\"colorscale\":[[0.0,\"#0d0887\"],[0.1111111111111111,\"#46039f\"],[0.2222222222222222,\"#7201a8\"],[0.3333333333333333,\"#9c179e\"],[0.4444444444444444,\"#bd3786\"],[0.5555555555555556,\"#d8576b\"],[0.6666666666666666,\"#ed7953\"],[0.7777777777777778,\"#fb9f3a\"],[0.8888888888888888,\"#fdca26\"],[1.0,\"#f0f921\"]],\"type\":\"heatmapgl\"}],\"heatmap\":[{\"colorbar\":{\"outlinewidth\":0,\"ticks\":\"\"},\"colorscale\":[[0.0,\"#0d0887\"],[0.1111111111111111,\"#46039f\"],[0.2222222222222222,\"#7201a8\"],[0.3333333333333333,\"#9c179e\"],[0.4444444444444444,\"#bd3786\"],[0.5555555555555556,\"#d8576b\"],[0.6666666666666666,\"#ed7953\"],[0.7777777777777778,\"#fb9f3a\"],[0.8888888888888888,\"#fdca26\"],[1.0,\"#f0f921\"]],\"type\":\"heatmap\"}],\"histogram2dcontour\":[{\"colorbar\":{\"outlinewidth\":0,\"ticks\":\"\"},\"colorscale\":[[0.0,\"#0d0887\"],[0.1111111111111111,\"#46039f\"],[0.2222222222222222,\"#7201a8\"],[0.3333333333333333,\"#9c179e\"],[0.4444444444444444,\"#bd3786\"],[0.5555555555555556,\"#d8576b\"],[0.6666666666666666,\"#ed7953\"],[0.7777777777777778,\"#fb9f3a\"],[0.8888888888888888,\"#fdca26\"],[1.0,\"#f0f921\"]],\"type\":\"histogram2dcontour\"}],\"histogram2d\":[{\"colorbar\":{\"outlinewidth\":0,\"ticks\":\"\"},\"colorscale\":[[0.0,\"#0d0887\"],[0.1111111111111111,\"#46039f\"],[0.2222222222222222,\"#7201a8\"],[0.3333333333333333,\"#9c179e\"],[0.4444444444444444,\"#bd3786\"],[0.5555555555555556,\"#d8576b\"],[0.6666666666666666,\"#ed7953\"],[0.7777777777777778,\"#fb9f3a\"],[0.8888888888888888,\"#fdca26\"],[1.0,\"#f0f921\"]],\"type\":\"histogram2d\"}],\"histogram\":[{\"marker\":{\"pattern\":{\"fillmode\":\"overlay\",\"size\":10,\"solidity\":0.2}},\"type\":\"histogram\"}],\"mesh3d\":[{\"colorbar\":{\"outlinewidth\":0,\"ticks\":\"\"},\"type\":\"mesh3d\"}],\"parcoords\":[{\"line\":{\"colorbar\":{\"outlinewidth\":0,\"ticks\":\"\"}},\"type\":\"parcoords\"}],\"pie\":[{\"automargin\":true,\"type\":\"pie\"}],\"scatter3d\":[{\"line\":{\"colorbar\":{\"outlinewidth\":0,\"ticks\":\"\"}},\"marker\":{\"colorbar\":{\"outlinewidth\":0,\"ticks\":\"\"}},\"type\":\"scatter3d\"}],\"scattercarpet\":[{\"marker\":{\"colorbar\":{\"outlinewidth\":0,\"ticks\":\"\"}},\"type\":\"scattercarpet\"}],\"scattergeo\":[{\"marker\":{\"colorbar\":{\"outlinewidth\":0,\"ticks\":\"\"}},\"type\":\"scattergeo\"}],\"scattergl\":[{\"marker\":{\"colorbar\":{\"outlinewidth\":0,\"ticks\":\"\"}},\"type\":\"scattergl\"}],\"scattermapbox\":[{\"marker\":{\"colorbar\":{\"outlinewidth\":0,\"ticks\":\"\"}},\"type\":\"scattermapbox\"}],\"scatterpolargl\":[{\"marker\":{\"colorbar\":{\"outlinewidth\":0,\"ticks\":\"\"}},\"type\":\"scatterpolargl\"}],\"scatterpolar\":[{\"marker\":{\"colorbar\":{\"outlinewidth\":0,\"ticks\":\"\"}},\"type\":\"scatterpolar\"}],\"scatter\":[{\"fillpattern\":{\"fillmode\":\"overlay\",\"size\":10,\"solidity\":0.2},\"type\":\"scatter\"}],\"scatterternary\":[{\"marker\":{\"colorbar\":{\"outlinewidth\":0,\"ticks\":\"\"}},\"type\":\"scatterternary\"}],\"surface\":[{\"colorbar\":{\"outlinewidth\":0,\"ticks\":\"\"},\"colorscale\":[[0.0,\"#0d0887\"],[0.1111111111111111,\"#46039f\"],[0.2222222222222222,\"#7201a8\"],[0.3333333333333333,\"#9c179e\"],[0.4444444444444444,\"#bd3786\"],[0.5555555555555556,\"#d8576b\"],[0.6666666666666666,\"#ed7953\"],[0.7777777777777778,\"#fb9f3a\"],[0.8888888888888888,\"#fdca26\"],[1.0,\"#f0f921\"]],\"type\":\"surface\"}],\"table\":[{\"cells\":{\"fill\":{\"color\":\"#EBF0F8\"},\"line\":{\"color\":\"white\"}},\"header\":{\"fill\":{\"color\":\"#C8D4E3\"},\"line\":{\"color\":\"white\"}},\"type\":\"table\"}]},\"layout\":{\"annotationdefaults\":{\"arrowcolor\":\"#2a3f5f\",\"arrowhead\":0,\"arrowwidth\":1},\"autotypenumbers\":\"strict\",\"coloraxis\":{\"colorbar\":{\"outlinewidth\":0,\"ticks\":\"\"}},\"colorscale\":{\"diverging\":[[0,\"#8e0152\"],[0.1,\"#c51b7d\"],[0.2,\"#de77ae\"],[0.3,\"#f1b6da\"],[0.4,\"#fde0ef\"],[0.5,\"#f7f7f7\"],[0.6,\"#e6f5d0\"],[0.7,\"#b8e186\"],[0.8,\"#7fbc41\"],[0.9,\"#4d9221\"],[1,\"#276419\"]],\"sequential\":[[0.0,\"#0d0887\"],[0.1111111111111111,\"#46039f\"],[0.2222222222222222,\"#7201a8\"],[0.3333333333333333,\"#9c179e\"],[0.4444444444444444,\"#bd3786\"],[0.5555555555555556,\"#d8576b\"],[0.6666666666666666,\"#ed7953\"],[0.7777777777777778,\"#fb9f3a\"],[0.8888888888888888,\"#fdca26\"],[1.0,\"#f0f921\"]],\"sequentialminus\":[[0.0,\"#0d0887\"],[0.1111111111111111,\"#46039f\"],[0.2222222222222222,\"#7201a8\"],[0.3333333333333333,\"#9c179e\"],[0.4444444444444444,\"#bd3786\"],[0.5555555555555556,\"#d8576b\"],[0.6666666666666666,\"#ed7953\"],[0.7777777777777778,\"#fb9f3a\"],[0.8888888888888888,\"#fdca26\"],[1.0,\"#f0f921\"]]},\"colorway\":[\"#636efa\",\"#EF553B\",\"#00cc96\",\"#ab63fa\",\"#FFA15A\",\"#19d3f3\",\"#FF6692\",\"#B6E880\",\"#FF97FF\",\"#FECB52\"],\"font\":{\"color\":\"#2a3f5f\"},\"geo\":{\"bgcolor\":\"white\",\"lakecolor\":\"white\",\"landcolor\":\"#E5ECF6\",\"showlakes\":true,\"showland\":true,\"subunitcolor\":\"white\"},\"hoverlabel\":{\"align\":\"left\"},\"hovermode\":\"closest\",\"mapbox\":{\"style\":\"light\"},\"paper_bgcolor\":\"rgba(0,0,0,0)\",\"plot_bgcolor\":\"rgba(250,250,250,0.8)\",\"polar\":{\"angularaxis\":{\"gridcolor\":\"white\",\"linecolor\":\"white\",\"ticks\":\"\"},\"bgcolor\":\"#E5ECF6\",\"radialaxis\":{\"gridcolor\":\"white\",\"linecolor\":\"white\",\"ticks\":\"\"}},\"scene\":{\"xaxis\":{\"backgroundcolor\":\"#E5ECF6\",\"gridcolor\":\"white\",\"gridwidth\":2,\"linecolor\":\"white\",\"showbackground\":true,\"ticks\":\"\",\"zerolinecolor\":\"white\"},\"yaxis\":{\"backgroundcolor\":\"#E5ECF6\",\"gridcolor\":\"white\",\"gridwidth\":2,\"linecolor\":\"white\",\"showbackground\":true,\"ticks\":\"\",\"zerolinecolor\":\"white\"},\"zaxis\":{\"backgroundcolor\":\"#E5ECF6\",\"gridcolor\":\"white\",\"gridwidth\":2,\"linecolor\":\"white\",\"showbackground\":true,\"ticks\":\"\",\"zerolinecolor\":\"white\"}},\"shapedefaults\":{\"line\":{\"color\":\"#2a3f5f\"}},\"ternary\":{\"aaxis\":{\"gridcolor\":\"white\",\"linecolor\":\"white\",\"ticks\":\"\"},\"baxis\":{\"gridcolor\":\"white\",\"linecolor\":\"white\",\"ticks\":\"\"},\"bgcolor\":\"#E5ECF6\",\"caxis\":{\"gridcolor\":\"white\",\"linecolor\":\"white\",\"ticks\":\"\"}},\"title\":{\"x\":0.05},\"xaxis\":{\"automargin\":true,\"gridcolor\":\"white\",\"linecolor\":\"white\",\"ticks\":\"\",\"title\":{\"standoff\":15},\"zerolinecolor\":\"white\",\"zerolinewidth\":2},\"yaxis\":{\"automargin\":true,\"gridcolor\":\"white\",\"linecolor\":\"white\",\"ticks\":\"\",\"title\":{\"standoff\":15},\"zerolinecolor\":\"white\",\"zerolinewidth\":2}}},\"title\":{\"text\":\"Portfolio Value Over Time ($1,000 Investment)\"},\"xaxis\":{\"title\":{\"text\":\"Date\"}},\"yaxis\":{\"title\":{\"text\":\"Portfolio Value ($)\"}}},                        {\"responsive\": true}                    ).then(function(){\n",
       "                            \n",
       "var gd = document.getElementById('7cb08542-b37c-44ea-a04c-906ba5faa2b8');\n",
       "var x = new MutationObserver(function (mutations, observer) {{\n",
       "        var display = window.getComputedStyle(gd).display;\n",
       "        if (!display || display === 'none') {{\n",
       "            console.log([gd, 'removed!']);\n",
       "            Plotly.purge(gd);\n",
       "            observer.disconnect();\n",
       "        }}\n",
       "}});\n",
       "\n",
       "// Listen for the removal of the full notebook cells\n",
       "var notebookContainer = gd.closest('#notebook-container');\n",
       "if (notebookContainer) {{\n",
       "    x.observe(notebookContainer, {childList: true});\n",
       "}}\n",
       "\n",
       "// Listen for the clearing of the current output cell\n",
       "var outputEl = gd.closest('.output');\n",
       "if (outputEl) {{\n",
       "    x.observe(outputEl, {childList: true});\n",
       "}}\n",
       "\n",
       "                        })                };                });            </script>        </div>"
      ]
     },
     "metadata": {},
     "output_type": "display_data"
    }
   ],
   "source": [
    "import plotly.graph_objects as go\n",
    "\n",
    "# Assuming you have a dataframe 'df_avg' with columns 'datadate', 'baseline_portfolio', and 'top_10'\n",
    "\n",
    "# Calculate the cumulative return for both portfolios\n",
    "df_avg['baseline_cum_return'] = (1 + df_avg['baseline']).cumprod()\n",
    "df_avg['top_10_cum_return'] = (1 + df_avg['top_10']).cumprod()\n",
    "\n",
    "# Calculate the value over time of a $1,000 investment\n",
    "initial_investment = 1000\n",
    "df_avg['baseline_value'] = initial_investment * df_avg['baseline_cum_return']\n",
    "df_avg['top_10_value'] = initial_investment * df_avg['top_10_cum_return']\n",
    "\n",
    "# Create the plot\n",
    "fig = go.Figure()\n",
    "\n",
    "# Add baseline portfolio trace\n",
    "fig.add_trace(go.Scatter(x=df_avg['datadate'], y=df_avg['baseline_value'],\n",
    "                         mode='lines', name='Baseline Portfolio'))\n",
    "\n",
    "# Add top_10 portfolio trace\n",
    "fig.add_trace(go.Scatter(x=df_avg['datadate'], y=df_avg['top_10_value'],\n",
    "                         mode='lines', name='Top 10 Portfolio'))\n",
    "\n",
    "# Update the layout\n",
    "fig.update_layout(\n",
    "    title='Portfolio Value Over Time ($1,000 Investment)',\n",
    "    xaxis_title='Date',\n",
    "    yaxis_title='Portfolio Value ($)',\n",
    ")\n",
    "\n",
    "# Show the plot\n",
    "fig.show()\n"
   ]
  },
  {
   "cell_type": "code",
   "execution_count": null,
   "metadata": {},
   "outputs": [],
   "source": [
    "y_train_pred = contextualised_model.predict(C_train, X_train_scaled_c.to_numpy())\n",
    "y_valid_pred = contextualised_model.predict(C_valid, X_valid_scaled_c.to_numpy())\n",
    "y_test_pred = contextualised_model.predict(C_test, X_test_scaled_c.to_numpy())\n",
    "\n",
    "# Classifier\n",
    "y_train_pred_binary = (y_train_pred >= 0).astype(int)\n",
    "y_valid_pred_binary = (y_valid_pred >= 0).astype(int)\n",
    "y_test_pred_binary = (y_test_pred >= 0).astype(int)\n",
    "\n",
    "y_train_binary = (y_train >= 0).astype(int)\n",
    "y_valid_binary = (y_valid >= 0).astype(int)\n",
    "y_test_binary = (y_test >= 0).astype(int)\n",
    "\n",
    "print(y_test_pred)\n",
    "\n",
    "print(classification_report(y_train_binary, y_train_pred_binary))"
   ]
  }
 ],
 "metadata": {
  "kernelspec": {
   "display_name": "Python 3",
   "language": "python",
   "name": "python3"
  },
  "language_info": {
   "codemirror_mode": {
    "name": "ipython",
    "version": 3
   },
   "file_extension": ".py",
   "mimetype": "text/x-python",
   "name": "python",
   "nbconvert_exporter": "python",
   "pygments_lexer": "ipython3",
   "version": "3.11.2"
  }
 },
 "nbformat": 4,
 "nbformat_minor": 2
}
