{
 "cells": [
  {
   "cell_type": "code",
   "execution_count": 35,
   "metadata": {},
   "outputs": [
    {
     "data": {
      "text/html": [
       "        <script type=\"text/javascript\">\n",
       "        window.PlotlyConfig = {MathJaxConfig: 'local'};\n",
       "        if (window.MathJax && window.MathJax.Hub && window.MathJax.Hub.Config) {window.MathJax.Hub.Config({SVG: {font: \"STIX-Web\"}});}\n",
       "        if (typeof require !== 'undefined') {\n",
       "        require.undef(\"plotly\");\n",
       "        requirejs.config({\n",
       "            paths: {\n",
       "                'plotly': ['https://cdn.plot.ly/plotly-2.12.1.min']\n",
       "            }\n",
       "        });\n",
       "        require(['plotly'], function(Plotly) {\n",
       "            window._Plotly = Plotly;\n",
       "        });\n",
       "        }\n",
       "        </script>\n",
       "        "
      ]
     },
     "metadata": {},
     "output_type": "display_data"
    }
   ],
   "source": [
    "import os\n",
    "import numpy as np\n",
    "import pandas as pd\n",
    "import xgboost as xgb\n",
    "import matplotlib.pyplot as plt\n",
    "from xgboost import plot_importance, plot_tree\n",
    "from sklearn.metrics import mean_squared_error\n",
    "from sklearn.preprocessing import MinMaxScaler, StandardScaler\n",
    "from sklearn.model_selection import train_test_split, GridSearchCV\n",
    "from sklearn.metrics import accuracy_score,classification_report\n",
    "from sklearn.metrics import roc_curve, auc\n",
    "from sklearn.base import BaseEstimator\n",
    "from sklearn.metrics import ndcg_score\n",
    "\n",
    "# Time series decomposition\n",
    "from statsmodels.tsa.seasonal import seasonal_decompose\n",
    "\n",
    "# Chart drawing\n",
    "import plotly as py\n",
    "import plotly.io as pio\n",
    "import plotly.graph_objects as go\n",
    "from plotly.subplots import make_subplots\n",
    "from plotly.offline import download_plotlyjs, init_notebook_mode, plot, iplot\n",
    "\n",
    "# Mute sklearn warnings\n",
    "from warnings import simplefilter\n",
    "simplefilter(action='ignore', category=FutureWarning)\n",
    "simplefilter(action='ignore', category=DeprecationWarning)\n",
    "\n",
    "# Show charts when running kernel\n",
    "init_notebook_mode(connected=True)\n",
    "\n",
    "# Change default background color for all visualizations\n",
    "layout=go.Layout(paper_bgcolor='rgba(0,0,0,0)', plot_bgcolor='rgba(250,250,250,0.8)')\n",
    "fig = go.Figure(layout=layout)\n",
    "templated_fig = pio.to_templated(fig)\n",
    "pio.templates['my_template'] = templated_fig.layout.template\n",
    "pio.templates.default = 'my_template'"
   ]
  },
  {
   "cell_type": "code",
   "execution_count": 36,
   "metadata": {},
   "outputs": [
    {
     "name": "stdout",
     "output_type": "stream",
     "text": [
      "<class 'pandas.core.frame.DataFrame'>\n",
      "Int64Index: 11723 entries, 1 to 11812\n",
      "Data columns (total 64 columns):\n",
      " #   Column                          Non-Null Count  Dtype  \n",
      "---  ------                          --------------  -----  \n",
      " 0   tic                             11723 non-null  object \n",
      " 1   datadate                        11723 non-null  object \n",
      " 2   roa                             11692 non-null  float64\n",
      " 3   roe                             11563 non-null  float64\n",
      " 4   pe_inc                          11199 non-null  float64\n",
      " 5   divyield                        9443 non-null   float64\n",
      " 6   pcf                             11692 non-null  float64\n",
      " 7   roce                            11586 non-null  float64\n",
      " 8   gpm                             11711 non-null  float64\n",
      " 9   evm                             11636 non-null  float64\n",
      " 10  npm                             11712 non-null  float64\n",
      " 11  PEG_trailing                    8110 non-null   float64\n",
      " 12  de_ratio                        11708 non-null  float64\n",
      " 13  ptb                             11592 non-null  float64\n",
      " 14  market_cap                      11481 non-null  float64\n",
      " 15  prccq_change                    11723 non-null  float64\n",
      " 16  capxy_change                    8602 non-null   float64\n",
      " 17  oancfy_change                   8131 non-null   float64\n",
      " 18  actq_change                     9196 non-null   float64\n",
      " 19  lctq_change                     9189 non-null   float64\n",
      " 20  roa_change                      11676 non-null  float64\n",
      " 21  roe_change                      11503 non-null  float64\n",
      " 22  pe_inc_change                   11173 non-null  float64\n",
      " 23  divyield_change                 9414 non-null   float64\n",
      " 24  pcf_change                      11675 non-null  float64\n",
      " 25  roce_change                     11535 non-null  float64\n",
      " 26  gpm_change                      11703 non-null  float64\n",
      " 27  evm_change                      11618 non-null  float64\n",
      " 28  npm_change                      11694 non-null  float64\n",
      " 29  PEG_trailing_change             7371 non-null   float64\n",
      " 30  de_ratio_change                 11697 non-null  float64\n",
      " 31  ptb_change                      11574 non-null  float64\n",
      " 32  next_prccq_change               11717 non-null  float64\n",
      " 33  relative_quarterly_return       11723 non-null  float64\n",
      " 34  next_relative_quarterly_return  11717 non-null  float64\n",
      " 35  volatility_score                11646 non-null  float64\n",
      " 36  FFI10_desc                      11723 non-null  object \n",
      " 37  mktrf                           11723 non-null  float64\n",
      " 38  smb                             11723 non-null  float64\n",
      " 39  hml                             11723 non-null  float64\n",
      " 40  rmw                             11723 non-null  float64\n",
      " 41  cma                             11723 non-null  float64\n",
      " 42  rf                              11723 non-null  float64\n",
      " 43  umd                             11723 non-null  float64\n",
      " 44  h_1_x                           11723 non-null  float64\n",
      " 45  h_3_x                           11723 non-null  float64\n",
      " 46  h_12_x                          11723 non-null  float64\n",
      " 47  h_1_y                           11723 non-null  float64\n",
      " 48  h_3_y                           11723 non-null  float64\n",
      " 49  h_12_y                          11723 non-null  float64\n",
      " 50  r_f                             11723 non-null  float64\n",
      " 51  r_mkt                           11723 non-null  float64\n",
      " 52  r_me                            11723 non-null  float64\n",
      " 53  r_ia                            11723 non-null  float64\n",
      " 54  r_roe                           11723 non-null  float64\n",
      " 55  r_eg                            11723 non-null  float64\n",
      " 56  divyield_Median                 11723 non-null  float64\n",
      " 57  PEG_trailing_Median             11723 non-null  float64\n",
      " 58  pe_inc_Median                   11723 non-null  float64\n",
      " 59  ptb_Median                      11723 non-null  float64\n",
      " 60  evm_Median                      11723 non-null  float64\n",
      " 61  roce_Median                     11723 non-null  float64\n",
      " 62  roe_Median                      11723 non-null  float64\n",
      " 63  bm_Median                       11723 non-null  float64\n",
      "dtypes: float64(61), object(3)\n",
      "memory usage: 5.8+ MB\n"
     ]
    },
    {
     "data": {
      "text/html": [
       "<div>\n",
       "<style scoped>\n",
       "    .dataframe tbody tr th:only-of-type {\n",
       "        vertical-align: middle;\n",
       "    }\n",
       "\n",
       "    .dataframe tbody tr th {\n",
       "        vertical-align: top;\n",
       "    }\n",
       "\n",
       "    .dataframe thead th {\n",
       "        text-align: right;\n",
       "    }\n",
       "</style>\n",
       "<table border=\"1\" class=\"dataframe\">\n",
       "  <thead>\n",
       "    <tr style=\"text-align: right;\">\n",
       "      <th></th>\n",
       "      <th>tic</th>\n",
       "      <th>datadate</th>\n",
       "      <th>roa</th>\n",
       "      <th>roe</th>\n",
       "      <th>pe_inc</th>\n",
       "      <th>divyield</th>\n",
       "      <th>pcf</th>\n",
       "      <th>roce</th>\n",
       "      <th>gpm</th>\n",
       "      <th>evm</th>\n",
       "      <th>...</th>\n",
       "      <th>r_roe</th>\n",
       "      <th>r_eg</th>\n",
       "      <th>divyield_Median</th>\n",
       "      <th>PEG_trailing_Median</th>\n",
       "      <th>pe_inc_Median</th>\n",
       "      <th>ptb_Median</th>\n",
       "      <th>evm_Median</th>\n",
       "      <th>roce_Median</th>\n",
       "      <th>roe_Median</th>\n",
       "      <th>bm_Median</th>\n",
       "    </tr>\n",
       "  </thead>\n",
       "  <tbody>\n",
       "    <tr>\n",
       "      <th>11808</th>\n",
       "      <td>ZTS</td>\n",
       "      <td>2018-12-31</td>\n",
       "      <td>0.230</td>\n",
       "      <td>0.594</td>\n",
       "      <td>32.160</td>\n",
       "      <td>0.696</td>\n",
       "      <td>25.204</td>\n",
       "      <td>0.250</td>\n",
       "      <td>0.708</td>\n",
       "      <td>21.308</td>\n",
       "      <td>...</td>\n",
       "      <td>3.2636</td>\n",
       "      <td>4.3514</td>\n",
       "      <td>1.33</td>\n",
       "      <td>-0.101</td>\n",
       "      <td>-7.090</td>\n",
       "      <td>3.183</td>\n",
       "      <td>-4.273</td>\n",
       "      <td>-0.413</td>\n",
       "      <td>-0.531</td>\n",
       "      <td>0.227</td>\n",
       "    </tr>\n",
       "    <tr>\n",
       "      <th>11809</th>\n",
       "      <td>ZTS</td>\n",
       "      <td>2019-03-31</td>\n",
       "      <td>0.239</td>\n",
       "      <td>0.577</td>\n",
       "      <td>35.332</td>\n",
       "      <td>0.649</td>\n",
       "      <td>27.021</td>\n",
       "      <td>0.252</td>\n",
       "      <td>0.715</td>\n",
       "      <td>21.631</td>\n",
       "      <td>...</td>\n",
       "      <td>-3.5981</td>\n",
       "      <td>-5.1201</td>\n",
       "      <td>1.24</td>\n",
       "      <td>-0.079</td>\n",
       "      <td>-2.895</td>\n",
       "      <td>3.745</td>\n",
       "      <td>-2.919</td>\n",
       "      <td>-0.446</td>\n",
       "      <td>-0.452</td>\n",
       "      <td>0.308</td>\n",
       "    </tr>\n",
       "    <tr>\n",
       "      <th>11810</th>\n",
       "      <td>ZTS</td>\n",
       "      <td>2019-06-30</td>\n",
       "      <td>0.233</td>\n",
       "      <td>0.539</td>\n",
       "      <td>44.671</td>\n",
       "      <td>0.519</td>\n",
       "      <td>32.794</td>\n",
       "      <td>0.241</td>\n",
       "      <td>0.722</td>\n",
       "      <td>22.510</td>\n",
       "      <td>...</td>\n",
       "      <td>2.6492</td>\n",
       "      <td>1.1047</td>\n",
       "      <td>1.21</td>\n",
       "      <td>-0.115</td>\n",
       "      <td>-7.734</td>\n",
       "      <td>3.796</td>\n",
       "      <td>-3.920</td>\n",
       "      <td>-0.411</td>\n",
       "      <td>-0.512</td>\n",
       "      <td>0.251</td>\n",
       "    </tr>\n",
       "    <tr>\n",
       "      <th>11811</th>\n",
       "      <td>ZTS</td>\n",
       "      <td>2019-09-30</td>\n",
       "      <td>0.228</td>\n",
       "      <td>0.538</td>\n",
       "      <td>39.907</td>\n",
       "      <td>0.544</td>\n",
       "      <td>31.944</td>\n",
       "      <td>0.234</td>\n",
       "      <td>0.728</td>\n",
       "      <td>23.287</td>\n",
       "      <td>...</td>\n",
       "      <td>3.8375</td>\n",
       "      <td>0.8189</td>\n",
       "      <td>1.22</td>\n",
       "      <td>-0.092</td>\n",
       "      <td>-6.526</td>\n",
       "      <td>3.278</td>\n",
       "      <td>-3.883</td>\n",
       "      <td>-0.416</td>\n",
       "      <td>-0.509</td>\n",
       "      <td>0.258</td>\n",
       "    </tr>\n",
       "    <tr>\n",
       "      <th>11812</th>\n",
       "      <td>ZTS</td>\n",
       "      <td>2019-12-31</td>\n",
       "      <td>0.226</td>\n",
       "      <td>0.517</td>\n",
       "      <td>42.839</td>\n",
       "      <td>0.600</td>\n",
       "      <td>35.251</td>\n",
       "      <td>0.235</td>\n",
       "      <td>0.736</td>\n",
       "      <td>27.557</td>\n",
       "      <td>...</td>\n",
       "      <td>-1.9816</td>\n",
       "      <td>0.6485</td>\n",
       "      <td>1.10</td>\n",
       "      <td>-0.088</td>\n",
       "      <td>-8.014</td>\n",
       "      <td>3.910</td>\n",
       "      <td>-3.433</td>\n",
       "      <td>-0.447</td>\n",
       "      <td>-0.545</td>\n",
       "      <td>0.285</td>\n",
       "    </tr>\n",
       "  </tbody>\n",
       "</table>\n",
       "<p>5 rows × 64 columns</p>\n",
       "</div>"
      ],
      "text/plain": [
       "       tic    datadate    roa    roe  pe_inc  divyield     pcf   roce    gpm  \\\n",
       "11808  ZTS  2018-12-31  0.230  0.594  32.160     0.696  25.204  0.250  0.708   \n",
       "11809  ZTS  2019-03-31  0.239  0.577  35.332     0.649  27.021  0.252  0.715   \n",
       "11810  ZTS  2019-06-30  0.233  0.539  44.671     0.519  32.794  0.241  0.722   \n",
       "11811  ZTS  2019-09-30  0.228  0.538  39.907     0.544  31.944  0.234  0.728   \n",
       "11812  ZTS  2019-12-31  0.226  0.517  42.839     0.600  35.251  0.235  0.736   \n",
       "\n",
       "          evm  ...   r_roe    r_eg  divyield_Median  PEG_trailing_Median  \\\n",
       "11808  21.308  ...  3.2636  4.3514             1.33               -0.101   \n",
       "11809  21.631  ... -3.5981 -5.1201             1.24               -0.079   \n",
       "11810  22.510  ...  2.6492  1.1047             1.21               -0.115   \n",
       "11811  23.287  ...  3.8375  0.8189             1.22               -0.092   \n",
       "11812  27.557  ... -1.9816  0.6485             1.10               -0.088   \n",
       "\n",
       "       pe_inc_Median  ptb_Median  evm_Median  roce_Median  roe_Median  \\\n",
       "11808         -7.090       3.183      -4.273       -0.413      -0.531   \n",
       "11809         -2.895       3.745      -2.919       -0.446      -0.452   \n",
       "11810         -7.734       3.796      -3.920       -0.411      -0.512   \n",
       "11811         -6.526       3.278      -3.883       -0.416      -0.509   \n",
       "11812         -8.014       3.910      -3.433       -0.447      -0.545   \n",
       "\n",
       "       bm_Median  \n",
       "11808      0.227  \n",
       "11809      0.308  \n",
       "11810      0.251  \n",
       "11811      0.258  \n",
       "11812      0.285  \n",
       "\n",
       "[5 rows x 64 columns]"
      ]
     },
     "execution_count": 36,
     "metadata": {},
     "output_type": "execute_result"
    }
   ],
   "source": [
    "\n",
    "file_path = '/Users/edocampione/Desktop/Meng Engineering Science/4YP/scripts/dati_with_context_f.csv' # cleaned data\n",
    "df = pd.read_csv(file_path)\n",
    "df = df.dropna(subset=['relative_quarterly_return'])\n",
    "\n",
    "df.info()\n",
    "df.tail()"
   ]
  },
  {
   "cell_type": "code",
   "execution_count": 37,
   "metadata": {},
   "outputs": [
    {
     "name": "stdout",
     "output_type": "stream",
     "text": [
      "['tic', 'datadate', 'roa', 'roe', 'pe_inc', 'divyield', 'pcf', 'roce', 'gpm', 'evm', 'npm', 'PEG_trailing', 'de_ratio', 'ptb', 'market_cap', 'prccq_change', 'capxy_change', 'oancfy_change', 'actq_change', 'lctq_change', 'roa_change', 'roe_change', 'pe_inc_change', 'divyield_change', 'pcf_change', 'roce_change', 'gpm_change', 'evm_change', 'npm_change', 'PEG_trailing_change', 'de_ratio_change', 'ptb_change', 'next_prccq_change', 'relative_quarterly_return', 'next_relative_quarterly_return', 'volatility_score', 'FFI10_desc', 'mktrf', 'smb', 'hml', 'rmw', 'cma', 'rf', 'umd', 'h_1_x', 'h_3_x', 'h_12_x', 'h_1_y', 'h_3_y', 'h_12_y', 'r_f', 'r_mkt', 'r_me', 'r_ia', 'r_roe', 'r_eg', 'divyield_Median', 'PEG_trailing_Median', 'pe_inc_Median', 'ptb_Median', 'evm_Median', 'roce_Median', 'roe_Median', 'bm_Median']\n",
      "PEG_trailing_change     7371\n",
      "PEG_trailing            8110\n",
      "oancfy_change           8131\n",
      "capxy_change            8602\n",
      "lctq_change             9189\n",
      "                       ...  \n",
      "roe_Median             11723\n",
      "prccq_change           11723\n",
      "datadate               11723\n",
      "h_12_x                 11723\n",
      "bm_Median              11723\n",
      "Length: 64, dtype: int64\n"
     ]
    }
   ],
   "source": [
    "print(df.columns.tolist())\n",
    "print(df.notna().sum().sort_values())\n",
    "\n"
   ]
  },
  {
   "cell_type": "code",
   "execution_count": 38,
   "metadata": {},
   "outputs": [
    {
     "name": "stdout",
     "output_type": "stream",
     "text": [
      "<class 'pandas.core.frame.DataFrame'>\n",
      "Int64Index: 10509 entries, 2 to 11812\n",
      "Data columns (total 56 columns):\n",
      " #   Column                          Non-Null Count  Dtype  \n",
      "---  ------                          --------------  -----  \n",
      " 0   tic                             10509 non-null  object \n",
      " 1   datadate                        10509 non-null  object \n",
      " 2   roa                             10509 non-null  float64\n",
      " 3   roe                             10509 non-null  float64\n",
      " 4   pe_inc                          10509 non-null  float64\n",
      " 5   pcf                             10509 non-null  float64\n",
      " 6   roce                            10509 non-null  float64\n",
      " 7   gpm                             10509 non-null  float64\n",
      " 8   evm                             10509 non-null  float64\n",
      " 9   npm                             10509 non-null  float64\n",
      " 10  de_ratio                        10509 non-null  float64\n",
      " 11  ptb                             10509 non-null  float64\n",
      " 12  market_cap                      10509 non-null  float64\n",
      " 13  prccq_change                    10509 non-null  float64\n",
      " 14  roa_change                      10509 non-null  float64\n",
      " 15  roe_change                      10509 non-null  float64\n",
      " 16  pe_inc_change                   10509 non-null  float64\n",
      " 17  pcf_change                      10509 non-null  float64\n",
      " 18  roce_change                     10509 non-null  float64\n",
      " 19  gpm_change                      10509 non-null  float64\n",
      " 20  evm_change                      10509 non-null  float64\n",
      " 21  npm_change                      10509 non-null  float64\n",
      " 22  de_ratio_change                 10509 non-null  float64\n",
      " 23  ptb_change                      10509 non-null  float64\n",
      " 24  next_prccq_change               10509 non-null  float64\n",
      " 25  relative_quarterly_return       10509 non-null  float64\n",
      " 26  next_relative_quarterly_return  10509 non-null  float64\n",
      " 27  volatility_score                10509 non-null  float64\n",
      " 28  FFI10_desc                      10509 non-null  object \n",
      " 29  mktrf                           10509 non-null  float64\n",
      " 30  smb                             10509 non-null  float64\n",
      " 31  hml                             10509 non-null  float64\n",
      " 32  rmw                             10509 non-null  float64\n",
      " 33  cma                             10509 non-null  float64\n",
      " 34  rf                              10509 non-null  float64\n",
      " 35  umd                             10509 non-null  float64\n",
      " 36  h_1_x                           10509 non-null  float64\n",
      " 37  h_3_x                           10509 non-null  float64\n",
      " 38  h_12_x                          10509 non-null  float64\n",
      " 39  h_1_y                           10509 non-null  float64\n",
      " 40  h_3_y                           10509 non-null  float64\n",
      " 41  h_12_y                          10509 non-null  float64\n",
      " 42  r_f                             10509 non-null  float64\n",
      " 43  r_mkt                           10509 non-null  float64\n",
      " 44  r_me                            10509 non-null  float64\n",
      " 45  r_ia                            10509 non-null  float64\n",
      " 46  r_roe                           10509 non-null  float64\n",
      " 47  r_eg                            10509 non-null  float64\n",
      " 48  divyield_Median                 10509 non-null  float64\n",
      " 49  PEG_trailing_Median             10509 non-null  float64\n",
      " 50  pe_inc_Median                   10509 non-null  float64\n",
      " 51  ptb_Median                      10509 non-null  float64\n",
      " 52  evm_Median                      10509 non-null  float64\n",
      " 53  roce_Median                     10509 non-null  float64\n",
      " 54  roe_Median                      10509 non-null  float64\n",
      " 55  bm_Median                       10509 non-null  float64\n",
      "dtypes: float64(53), object(3)\n",
      "memory usage: 4.6+ MB\n",
      "['tic', 'datadate', 'roa', 'roe', 'pe_inc', 'pcf', 'roce', 'gpm', 'evm', 'npm', 'de_ratio', 'ptb', 'market_cap', 'prccq_change', 'roa_change', 'roe_change', 'pe_inc_change', 'pcf_change', 'roce_change', 'gpm_change', 'evm_change', 'npm_change', 'de_ratio_change', 'ptb_change', 'next_prccq_change', 'relative_quarterly_return', 'next_relative_quarterly_return', 'volatility_score', 'FFI10_desc', 'mktrf', 'smb', 'hml', 'rmw', 'cma', 'rf', 'umd', 'h_1_x', 'h_3_x', 'h_12_x', 'h_1_y', 'h_3_y', 'h_12_y', 'r_f', 'r_mkt', 'r_me', 'r_ia', 'r_roe', 'r_eg', 'divyield_Median', 'PEG_trailing_Median', 'pe_inc_Median', 'ptb_Median', 'evm_Median', 'roce_Median', 'roe_Median', 'bm_Median']\n"
     ]
    }
   ],
   "source": [
    "\n",
    "\n",
    "df = df.loc[:, df.count() >= 11000]\n",
    "\n",
    "# Drop rows with missing values\n",
    "df = df.dropna()\n",
    "\n",
    "# Display dataframe info\n",
    "df.info()\n",
    "\n",
    "print(df.columns.tolist())\n"
   ]
  },
  {
   "cell_type": "code",
   "execution_count": 39,
   "metadata": {},
   "outputs": [
    {
     "name": "stdout",
     "output_type": "stream",
     "text": [
      "Number of unique gvkeys: 76\n",
      "['AAPL' 'ABT' 'ADM' 'AFL' 'AIG' 'AMD' 'AMT' 'AMZN' 'APD' 'BA' 'BAX' 'BMY'\n",
      " 'BRK.B' 'CAT' 'CL' 'CME' 'COP' 'CTSH' 'CVS' 'CVX' 'DIS' 'ECL' 'EQIX'\n",
      " 'EXC' 'EXPE' 'F' 'FIS' 'GE' 'GOOGL' 'GS' 'HCA' 'IBM' 'INTC' 'JNJ' 'JPM'\n",
      " 'KMB' 'KO' 'LLY' 'LMT' 'LUV' 'MA' 'MCD' 'META' 'MMC' 'MMM' 'MRK' 'MS'\n",
      " 'MSFT' 'NFLX' 'NOC' 'OXY' 'PFE' 'PG' 'PGR' 'PPL' 'PYPL' 'QCOM' 'REGN'\n",
      " 'RJF' 'RTX' 'SBUX' 'SCHW' 'SPGI' 'T' 'TMO' 'TSLA' 'TSN' 'UNH' 'UPS' 'V'\n",
      " 'VZ' 'WBA' 'WDC' 'WFC' 'XOM' 'ZTS']\n"
     ]
    }
   ],
   "source": [
    "# Find the unique number of stocks in the dataframe\n",
    "unique_gvkeys = df['tic'].unique()\n",
    "\n",
    "# Print the result\n",
    "print(f\"Number of unique gvkeys: {len(unique_gvkeys)}\")\n",
    "print(unique_gvkeys)\n"
   ]
  },
  {
   "cell_type": "code",
   "execution_count": 40,
   "metadata": {},
   "outputs": [
    {
     "name": "stdout",
     "output_type": "stream",
     "text": [
      "Number of unique gvkeys: 76\n"
     ]
    },
    {
     "data": {
      "text/html": [
       "<div>\n",
       "<style scoped>\n",
       "    .dataframe tbody tr th:only-of-type {\n",
       "        vertical-align: middle;\n",
       "    }\n",
       "\n",
       "    .dataframe tbody tr th {\n",
       "        vertical-align: top;\n",
       "    }\n",
       "\n",
       "    .dataframe thead th {\n",
       "        text-align: right;\n",
       "    }\n",
       "</style>\n",
       "<table border=\"1\" class=\"dataframe\">\n",
       "  <thead>\n",
       "    <tr style=\"text-align: right;\">\n",
       "      <th></th>\n",
       "      <th>tic</th>\n",
       "      <th>datadate</th>\n",
       "      <th>roa</th>\n",
       "      <th>roe</th>\n",
       "      <th>pe_inc</th>\n",
       "      <th>pcf</th>\n",
       "      <th>roce</th>\n",
       "      <th>gpm</th>\n",
       "      <th>evm</th>\n",
       "      <th>npm</th>\n",
       "      <th>...</th>\n",
       "      <th>r_roe</th>\n",
       "      <th>r_eg</th>\n",
       "      <th>divyield_Median</th>\n",
       "      <th>PEG_trailing_Median</th>\n",
       "      <th>pe_inc_Median</th>\n",
       "      <th>ptb_Median</th>\n",
       "      <th>evm_Median</th>\n",
       "      <th>roce_Median</th>\n",
       "      <th>roe_Median</th>\n",
       "      <th>bm_Median</th>\n",
       "    </tr>\n",
       "  </thead>\n",
       "  <tbody>\n",
       "    <tr>\n",
       "      <th>876</th>\n",
       "      <td>AIG</td>\n",
       "      <td>2019-12-31</td>\n",
       "      <td>0.023</td>\n",
       "      <td>0.054</td>\n",
       "      <td>11.273</td>\n",
       "      <td>-37.158</td>\n",
       "      <td>0.066</td>\n",
       "      <td>0.236</td>\n",
       "      <td>7.292</td>\n",
       "      <td>0.067</td>\n",
       "      <td>...</td>\n",
       "      <td>-1.9816</td>\n",
       "      <td>0.6485</td>\n",
       "      <td>2.2</td>\n",
       "      <td>0.616</td>\n",
       "      <td>13.611</td>\n",
       "      <td>1.387</td>\n",
       "      <td>10.016</td>\n",
       "      <td>0.102</td>\n",
       "      <td>0.097</td>\n",
       "      <td>0.770</td>\n",
       "    </tr>\n",
       "    <tr>\n",
       "      <th>5972</th>\n",
       "      <td>JPM</td>\n",
       "      <td>2019-12-31</td>\n",
       "      <td>0.027</td>\n",
       "      <td>0.153</td>\n",
       "      <td>10.831</td>\n",
       "      <td>59.034</td>\n",
       "      <td>0.083</td>\n",
       "      <td>0.773</td>\n",
       "      <td>13.715</td>\n",
       "      <td>0.256</td>\n",
       "      <td>...</td>\n",
       "      <td>-1.9816</td>\n",
       "      <td>0.6485</td>\n",
       "      <td>2.2</td>\n",
       "      <td>0.616</td>\n",
       "      <td>13.611</td>\n",
       "      <td>1.387</td>\n",
       "      <td>10.016</td>\n",
       "      <td>0.102</td>\n",
       "      <td>0.097</td>\n",
       "      <td>0.770</td>\n",
       "    </tr>\n",
       "    <tr>\n",
       "      <th>5772</th>\n",
       "      <td>JNJ</td>\n",
       "      <td>2019-12-31</td>\n",
       "      <td>0.181</td>\n",
       "      <td>0.228</td>\n",
       "      <td>23.886</td>\n",
       "      <td>15.131</td>\n",
       "      <td>0.237</td>\n",
       "      <td>0.751</td>\n",
       "      <td>14.671</td>\n",
       "      <td>0.184</td>\n",
       "      <td>...</td>\n",
       "      <td>-1.9816</td>\n",
       "      <td>0.6485</td>\n",
       "      <td>1.1</td>\n",
       "      <td>-0.088</td>\n",
       "      <td>-8.014</td>\n",
       "      <td>3.910</td>\n",
       "      <td>-3.433</td>\n",
       "      <td>-0.447</td>\n",
       "      <td>-0.545</td>\n",
       "      <td>0.285</td>\n",
       "    </tr>\n",
       "    <tr>\n",
       "      <th>1932</th>\n",
       "      <td>BAX</td>\n",
       "      <td>2019-12-31</td>\n",
       "      <td>0.161</td>\n",
       "      <td>0.125</td>\n",
       "      <td>43.249</td>\n",
       "      <td>20.255</td>\n",
       "      <td>0.154</td>\n",
       "      <td>0.502</td>\n",
       "      <td>17.713</td>\n",
       "      <td>0.088</td>\n",
       "      <td>...</td>\n",
       "      <td>-1.9816</td>\n",
       "      <td>0.6485</td>\n",
       "      <td>2.2</td>\n",
       "      <td>0.616</td>\n",
       "      <td>13.611</td>\n",
       "      <td>1.387</td>\n",
       "      <td>10.016</td>\n",
       "      <td>0.102</td>\n",
       "      <td>0.097</td>\n",
       "      <td>0.770</td>\n",
       "    </tr>\n",
       "    <tr>\n",
       "      <th>11812</th>\n",
       "      <td>ZTS</td>\n",
       "      <td>2019-12-31</td>\n",
       "      <td>0.226</td>\n",
       "      <td>0.517</td>\n",
       "      <td>42.839</td>\n",
       "      <td>35.251</td>\n",
       "      <td>0.235</td>\n",
       "      <td>0.736</td>\n",
       "      <td>27.557</td>\n",
       "      <td>0.239</td>\n",
       "      <td>...</td>\n",
       "      <td>-1.9816</td>\n",
       "      <td>0.6485</td>\n",
       "      <td>1.1</td>\n",
       "      <td>-0.088</td>\n",
       "      <td>-8.014</td>\n",
       "      <td>3.910</td>\n",
       "      <td>-3.433</td>\n",
       "      <td>-0.447</td>\n",
       "      <td>-0.545</td>\n",
       "      <td>0.285</td>\n",
       "    </tr>\n",
       "  </tbody>\n",
       "</table>\n",
       "<p>5 rows × 56 columns</p>\n",
       "</div>"
      ],
      "text/plain": [
       "       tic    datadate    roa    roe  pe_inc     pcf   roce    gpm     evm  \\\n",
       "876    AIG  2019-12-31  0.023  0.054  11.273 -37.158  0.066  0.236   7.292   \n",
       "5972   JPM  2019-12-31  0.027  0.153  10.831  59.034  0.083  0.773  13.715   \n",
       "5772   JNJ  2019-12-31  0.181  0.228  23.886  15.131  0.237  0.751  14.671   \n",
       "1932   BAX  2019-12-31  0.161  0.125  43.249  20.255  0.154  0.502  17.713   \n",
       "11812  ZTS  2019-12-31  0.226  0.517  42.839  35.251  0.235  0.736  27.557   \n",
       "\n",
       "         npm  ...   r_roe    r_eg  divyield_Median  PEG_trailing_Median  \\\n",
       "876    0.067  ... -1.9816  0.6485              2.2                0.616   \n",
       "5972   0.256  ... -1.9816  0.6485              2.2                0.616   \n",
       "5772   0.184  ... -1.9816  0.6485              1.1               -0.088   \n",
       "1932   0.088  ... -1.9816  0.6485              2.2                0.616   \n",
       "11812  0.239  ... -1.9816  0.6485              1.1               -0.088   \n",
       "\n",
       "       pe_inc_Median  ptb_Median  evm_Median  roce_Median  roe_Median  \\\n",
       "876           13.611       1.387      10.016        0.102       0.097   \n",
       "5972          13.611       1.387      10.016        0.102       0.097   \n",
       "5772          -8.014       3.910      -3.433       -0.447      -0.545   \n",
       "1932          13.611       1.387      10.016        0.102       0.097   \n",
       "11812         -8.014       3.910      -3.433       -0.447      -0.545   \n",
       "\n",
       "       bm_Median  \n",
       "876        0.770  \n",
       "5972       0.770  \n",
       "5772       0.285  \n",
       "1932       0.770  \n",
       "11812      0.285  \n",
       "\n",
       "[5 rows x 56 columns]"
      ]
     },
     "execution_count": 40,
     "metadata": {},
     "output_type": "execute_result"
    }
   ],
   "source": [
    "df = df.dropna()\n",
    "df = df.sort_values(by=['datadate'])\n",
    "\n",
    "unique_gvkeys = df['tic'].unique()\n",
    "\n",
    "# Print the result\n",
    "print(f\"Number of unique gvkeys: {len(unique_gvkeys)}\")\n",
    "\n",
    "df.tail()"
   ]
  },
  {
   "cell_type": "code",
   "execution_count": 41,
   "metadata": {},
   "outputs": [],
   "source": [
    "tickers_to_drop = ['AMT', 'CTSH', 'GOOGL', 'META', 'PYPL', 'RJF', 'TSLA', 'ZTS']\n",
    "\n",
    "#df = df[~df['tic'].isin(tickers_to_drop)]"
   ]
  },
  {
   "cell_type": "code",
   "execution_count": 42,
   "metadata": {},
   "outputs": [
    {
     "data": {
      "text/html": [
       "<div>\n",
       "<style scoped>\n",
       "    .dataframe tbody tr th:only-of-type {\n",
       "        vertical-align: middle;\n",
       "    }\n",
       "\n",
       "    .dataframe tbody tr th {\n",
       "        vertical-align: top;\n",
       "    }\n",
       "\n",
       "    .dataframe thead th {\n",
       "        text-align: right;\n",
       "    }\n",
       "</style>\n",
       "<table border=\"1\" class=\"dataframe\">\n",
       "  <thead>\n",
       "    <tr style=\"text-align: right;\">\n",
       "      <th></th>\n",
       "      <th>tic</th>\n",
       "      <th>datadate</th>\n",
       "      <th>roa</th>\n",
       "      <th>roe</th>\n",
       "      <th>pe_inc</th>\n",
       "      <th>pcf</th>\n",
       "      <th>roce</th>\n",
       "      <th>gpm</th>\n",
       "      <th>evm</th>\n",
       "      <th>npm</th>\n",
       "      <th>...</th>\n",
       "      <th>r_roe</th>\n",
       "      <th>r_eg</th>\n",
       "      <th>divyield_Median</th>\n",
       "      <th>PEG_trailing_Median</th>\n",
       "      <th>pe_inc_Median</th>\n",
       "      <th>ptb_Median</th>\n",
       "      <th>evm_Median</th>\n",
       "      <th>roce_Median</th>\n",
       "      <th>roe_Median</th>\n",
       "      <th>bm_Median</th>\n",
       "    </tr>\n",
       "  </thead>\n",
       "  <tbody>\n",
       "    <tr>\n",
       "      <th>4330</th>\n",
       "      <td>EXPE</td>\n",
       "      <td>2019-12-31</td>\n",
       "      <td>0.095</td>\n",
       "      <td>0.138</td>\n",
       "      <td>26.159</td>\n",
       "      <td>4.793</td>\n",
       "      <td>0.111</td>\n",
       "      <td>0.828</td>\n",
       "      <td>11.237</td>\n",
       "      <td>0.047</td>\n",
       "      <td>...</td>\n",
       "      <td>-1.9816</td>\n",
       "      <td>0.6485</td>\n",
       "      <td>1.37</td>\n",
       "      <td>0.306</td>\n",
       "      <td>1.471</td>\n",
       "      <td>3.459</td>\n",
       "      <td>12.578</td>\n",
       "      <td>0.043</td>\n",
       "      <td>0.004</td>\n",
       "      <td>0.289</td>\n",
       "    </tr>\n",
       "    <tr>\n",
       "      <th>4530</th>\n",
       "      <td>F</td>\n",
       "      <td>2019-12-31</td>\n",
       "      <td>0.060</td>\n",
       "      <td>0.001</td>\n",
       "      <td>306.600</td>\n",
       "      <td>1.537</td>\n",
       "      <td>0.030</td>\n",
       "      <td>0.180</td>\n",
       "      <td>12.526</td>\n",
       "      <td>0.000</td>\n",
       "      <td>...</td>\n",
       "      <td>-1.9816</td>\n",
       "      <td>0.6485</td>\n",
       "      <td>2.31</td>\n",
       "      <td>0.416</td>\n",
       "      <td>11.098</td>\n",
       "      <td>2.718</td>\n",
       "      <td>9.116</td>\n",
       "      <td>0.098</td>\n",
       "      <td>0.085</td>\n",
       "      <td>0.413</td>\n",
       "    </tr>\n",
       "    <tr>\n",
       "      <th>2953</th>\n",
       "      <td>COP</td>\n",
       "      <td>2019-12-31</td>\n",
       "      <td>0.190</td>\n",
       "      <td>0.188</td>\n",
       "      <td>7.566</td>\n",
       "      <td>4.714</td>\n",
       "      <td>0.130</td>\n",
       "      <td>0.444</td>\n",
       "      <td>6.459</td>\n",
       "      <td>0.221</td>\n",
       "      <td>...</td>\n",
       "      <td>-1.9816</td>\n",
       "      <td>0.6485</td>\n",
       "      <td>2.55</td>\n",
       "      <td>0.090</td>\n",
       "      <td>3.964</td>\n",
       "      <td>0.919</td>\n",
       "      <td>5.440</td>\n",
       "      <td>0.061</td>\n",
       "      <td>0.047</td>\n",
       "      <td>1.103</td>\n",
       "    </tr>\n",
       "    <tr>\n",
       "      <th>876</th>\n",
       "      <td>AIG</td>\n",
       "      <td>2019-12-31</td>\n",
       "      <td>0.023</td>\n",
       "      <td>0.054</td>\n",
       "      <td>11.273</td>\n",
       "      <td>-37.158</td>\n",
       "      <td>0.066</td>\n",
       "      <td>0.236</td>\n",
       "      <td>7.292</td>\n",
       "      <td>0.067</td>\n",
       "      <td>...</td>\n",
       "      <td>-1.9816</td>\n",
       "      <td>0.6485</td>\n",
       "      <td>2.20</td>\n",
       "      <td>0.616</td>\n",
       "      <td>13.611</td>\n",
       "      <td>1.387</td>\n",
       "      <td>10.016</td>\n",
       "      <td>0.102</td>\n",
       "      <td>0.097</td>\n",
       "      <td>0.770</td>\n",
       "    </tr>\n",
       "    <tr>\n",
       "      <th>8520</th>\n",
       "      <td>OXY</td>\n",
       "      <td>2019-12-31</td>\n",
       "      <td>0.129</td>\n",
       "      <td>-0.023</td>\n",
       "      <td>-26.836</td>\n",
       "      <td>3.974</td>\n",
       "      <td>0.081</td>\n",
       "      <td>0.540</td>\n",
       "      <td>8.755</td>\n",
       "      <td>-0.032</td>\n",
       "      <td>...</td>\n",
       "      <td>-1.9816</td>\n",
       "      <td>0.6485</td>\n",
       "      <td>2.55</td>\n",
       "      <td>0.090</td>\n",
       "      <td>3.964</td>\n",
       "      <td>0.919</td>\n",
       "      <td>5.440</td>\n",
       "      <td>0.061</td>\n",
       "      <td>0.047</td>\n",
       "      <td>1.103</td>\n",
       "    </tr>\n",
       "  </tbody>\n",
       "</table>\n",
       "<p>5 rows × 56 columns</p>\n",
       "</div>"
      ],
      "text/plain": [
       "       tic    datadate    roa    roe   pe_inc     pcf   roce    gpm     evm  \\\n",
       "4330  EXPE  2019-12-31  0.095  0.138   26.159   4.793  0.111  0.828  11.237   \n",
       "4530     F  2019-12-31  0.060  0.001  306.600   1.537  0.030  0.180  12.526   \n",
       "2953   COP  2019-12-31  0.190  0.188    7.566   4.714  0.130  0.444   6.459   \n",
       "876    AIG  2019-12-31  0.023  0.054   11.273 -37.158  0.066  0.236   7.292   \n",
       "8520   OXY  2019-12-31  0.129 -0.023  -26.836   3.974  0.081  0.540   8.755   \n",
       "\n",
       "        npm  ...   r_roe    r_eg  divyield_Median  PEG_trailing_Median  \\\n",
       "4330  0.047  ... -1.9816  0.6485             1.37                0.306   \n",
       "4530  0.000  ... -1.9816  0.6485             2.31                0.416   \n",
       "2953  0.221  ... -1.9816  0.6485             2.55                0.090   \n",
       "876   0.067  ... -1.9816  0.6485             2.20                0.616   \n",
       "8520 -0.032  ... -1.9816  0.6485             2.55                0.090   \n",
       "\n",
       "      pe_inc_Median  ptb_Median  evm_Median  roce_Median  roe_Median  \\\n",
       "4330          1.471       3.459      12.578        0.043       0.004   \n",
       "4530         11.098       2.718       9.116        0.098       0.085   \n",
       "2953          3.964       0.919       5.440        0.061       0.047   \n",
       "876          13.611       1.387      10.016        0.102       0.097   \n",
       "8520          3.964       0.919       5.440        0.061       0.047   \n",
       "\n",
       "      bm_Median  \n",
       "4330      0.289  \n",
       "4530      0.413  \n",
       "2953      1.103  \n",
       "876       0.770  \n",
       "8520      1.103  \n",
       "\n",
       "[5 rows x 56 columns]"
      ]
     },
     "execution_count": 42,
     "metadata": {},
     "output_type": "execute_result"
    }
   ],
   "source": [
    "train_start_date = '1900-03-31'\n",
    "valid_start_date = '2010-03-31'\n",
    "test_start_date = '2013-03-31'\n",
    "end_date = '2026-09-30'\n",
    "\n",
    "df = df.sort_values(by=['datadate'])\n",
    "\n",
    "train_df = df[(df['datadate'] >= train_start_date) & (df['datadate'] < valid_start_date)]\n",
    "valid_df = df[(df['datadate'] >= valid_start_date) & (df['datadate'] < test_start_date)]\n",
    "test_df = df[(df['datadate'] >= test_start_date) & (df['datadate'] < end_date)]\n",
    "\n",
    "test_df = test_df.sort_values(by=['datadate', 'next_prccq_change'], ascending=[True, False])\n",
    "test_df.tail()\n"
   ]
  },
  {
   "cell_type": "code",
   "execution_count": 43,
   "metadata": {},
   "outputs": [
    {
     "name": "stdout",
     "output_type": "stream",
     "text": [
      "[4, 24, 30, 32, 32, 31, 33, 34, 35, 32, 32, 37, 36, 35, 37, 38, 35, 37, 33, 33, 32, 36, 26, 26, 28, 37, 35, 34, 34, 37, 36, 36, 35, 38, 38, 38, 38, 40, 39, 39, 37, 36, 30, 32, 32, 35, 34, 39, 43, 39, 39, 44, 43, 41, 42, 46, 46, 43, 43, 49, 50, 50, 50, 50, 50, 51, 54, 52, 52, 48, 47, 52, 51, 50, 51, 52, 52, 50, 51, 52, 52, 50, 51, 53, 53, 52, 51, 52, 51, 53, 53, 51, 52, 53, 53, 54, 54, 52, 54, 54, 55, 55, 56, 56, 56, 57, 56, 57, 57, 56, 56, 57, 57, 59, 60, 59, 59, 58, 59, 60, 60, 59, 59, 59, 61, 61, 60, 61, 61, 60, 61, 63, 63, 63, 63, 63, 63, 63, 64, 63, 63, 64, 64, 65, 66, 66, 66, 66, 66, 66, 66, 67, 66, 63, 67, 67, 67, 64]\n"
     ]
    }
   ],
   "source": [
    "train_group = list(train_df['datadate'].value_counts().sort_index().tolist())\n",
    "valid_group = list(valid_df['datadate'].value_counts().sort_index().tolist())\n",
    "test_group = list(test_df['datadate'].value_counts().sort_index().tolist())\n",
    "\n",
    "print(train_group)"
   ]
  },
  {
   "cell_type": "code",
   "execution_count": 44,
   "metadata": {},
   "outputs": [
    {
     "data": {
      "text/html": [
       "<div>\n",
       "<style scoped>\n",
       "    .dataframe tbody tr th:only-of-type {\n",
       "        vertical-align: middle;\n",
       "    }\n",
       "\n",
       "    .dataframe tbody tr th {\n",
       "        vertical-align: top;\n",
       "    }\n",
       "\n",
       "    .dataframe thead th {\n",
       "        text-align: right;\n",
       "    }\n",
       "</style>\n",
       "<table border=\"1\" class=\"dataframe\">\n",
       "  <thead>\n",
       "    <tr style=\"text-align: right;\">\n",
       "      <th></th>\n",
       "      <th>roa</th>\n",
       "      <th>roe</th>\n",
       "      <th>pe_inc</th>\n",
       "      <th>pcf</th>\n",
       "      <th>roce</th>\n",
       "      <th>gpm</th>\n",
       "      <th>evm</th>\n",
       "      <th>npm</th>\n",
       "      <th>de_ratio</th>\n",
       "      <th>ptb</th>\n",
       "      <th>...</th>\n",
       "      <th>r_roe</th>\n",
       "      <th>r_eg</th>\n",
       "      <th>divyield_Median</th>\n",
       "      <th>PEG_trailing_Median</th>\n",
       "      <th>pe_inc_Median</th>\n",
       "      <th>ptb_Median</th>\n",
       "      <th>evm_Median</th>\n",
       "      <th>roce_Median</th>\n",
       "      <th>roe_Median</th>\n",
       "      <th>bm_Median</th>\n",
       "    </tr>\n",
       "  </thead>\n",
       "  <tbody>\n",
       "    <tr>\n",
       "      <th>1335</th>\n",
       "      <td>0.145</td>\n",
       "      <td>0.093</td>\n",
       "      <td>17.928</td>\n",
       "      <td>8.009</td>\n",
       "      <td>0.117</td>\n",
       "      <td>0.507</td>\n",
       "      <td>7.570</td>\n",
       "      <td>0.057</td>\n",
       "      <td>1.440</td>\n",
       "      <td>1.387</td>\n",
       "      <td>...</td>\n",
       "      <td>-6.2954</td>\n",
       "      <td>-10.1619</td>\n",
       "      <td>3.51</td>\n",
       "      <td>0.908</td>\n",
       "      <td>14.712</td>\n",
       "      <td>1.435</td>\n",
       "      <td>9.151</td>\n",
       "      <td>0.102</td>\n",
       "      <td>0.087</td>\n",
       "      <td>0.612</td>\n",
       "    </tr>\n",
       "    <tr>\n",
       "      <th>3443</th>\n",
       "      <td>0.204</td>\n",
       "      <td>0.115</td>\n",
       "      <td>41.576</td>\n",
       "      <td>41.821</td>\n",
       "      <td>0.209</td>\n",
       "      <td>0.309</td>\n",
       "      <td>13.130</td>\n",
       "      <td>0.130</td>\n",
       "      <td>0.227</td>\n",
       "      <td>3.479</td>\n",
       "      <td>...</td>\n",
       "      <td>-6.2954</td>\n",
       "      <td>-10.1619</td>\n",
       "      <td>2.95</td>\n",
       "      <td>0.855</td>\n",
       "      <td>12.418</td>\n",
       "      <td>1.368</td>\n",
       "      <td>7.375</td>\n",
       "      <td>0.187</td>\n",
       "      <td>0.106</td>\n",
       "      <td>0.655</td>\n",
       "    </tr>\n",
       "    <tr>\n",
       "      <th>11213</th>\n",
       "      <td>0.112</td>\n",
       "      <td>0.094</td>\n",
       "      <td>14.020</td>\n",
       "      <td>16.465</td>\n",
       "      <td>0.122</td>\n",
       "      <td>0.276</td>\n",
       "      <td>7.442</td>\n",
       "      <td>0.013</td>\n",
       "      <td>1.215</td>\n",
       "      <td>1.280</td>\n",
       "      <td>...</td>\n",
       "      <td>-6.2954</td>\n",
       "      <td>-10.1619</td>\n",
       "      <td>3.70</td>\n",
       "      <td>1.084</td>\n",
       "      <td>12.710</td>\n",
       "      <td>1.218</td>\n",
       "      <td>7.059</td>\n",
       "      <td>0.166</td>\n",
       "      <td>0.091</td>\n",
       "      <td>0.689</td>\n",
       "    </tr>\n",
       "    <tr>\n",
       "      <th>7019</th>\n",
       "      <td>0.248</td>\n",
       "      <td>0.441</td>\n",
       "      <td>30.332</td>\n",
       "      <td>25.417</td>\n",
       "      <td>0.283</td>\n",
       "      <td>0.386</td>\n",
       "      <td>16.650</td>\n",
       "      <td>0.091</td>\n",
       "      <td>1.872</td>\n",
       "      <td>9.436</td>\n",
       "      <td>...</td>\n",
       "      <td>-6.2954</td>\n",
       "      <td>-10.1619</td>\n",
       "      <td>2.95</td>\n",
       "      <td>0.855</td>\n",
       "      <td>12.418</td>\n",
       "      <td>1.368</td>\n",
       "      <td>7.375</td>\n",
       "      <td>0.187</td>\n",
       "      <td>0.106</td>\n",
       "      <td>0.655</td>\n",
       "    </tr>\n",
       "    <tr>\n",
       "      <th>3444</th>\n",
       "      <td>0.204</td>\n",
       "      <td>0.105</td>\n",
       "      <td>47.375</td>\n",
       "      <td>56.869</td>\n",
       "      <td>0.209</td>\n",
       "      <td>0.309</td>\n",
       "      <td>13.130</td>\n",
       "      <td>0.135</td>\n",
       "      <td>0.227</td>\n",
       "      <td>4.730</td>\n",
       "      <td>...</td>\n",
       "      <td>5.6547</td>\n",
       "      <td>6.2280</td>\n",
       "      <td>2.71</td>\n",
       "      <td>1.046</td>\n",
       "      <td>13.920</td>\n",
       "      <td>1.415</td>\n",
       "      <td>7.319</td>\n",
       "      <td>0.183</td>\n",
       "      <td>0.115</td>\n",
       "      <td>0.673</td>\n",
       "    </tr>\n",
       "  </tbody>\n",
       "</table>\n",
       "<p>5 rows × 52 columns</p>\n",
       "</div>"
      ],
      "text/plain": [
       "         roa    roe  pe_inc     pcf   roce    gpm     evm    npm  de_ratio  \\\n",
       "1335   0.145  0.093  17.928   8.009  0.117  0.507   7.570  0.057     1.440   \n",
       "3443   0.204  0.115  41.576  41.821  0.209  0.309  13.130  0.130     0.227   \n",
       "11213  0.112  0.094  14.020  16.465  0.122  0.276   7.442  0.013     1.215   \n",
       "7019   0.248  0.441  30.332  25.417  0.283  0.386  16.650  0.091     1.872   \n",
       "3444   0.204  0.105  47.375  56.869  0.209  0.309  13.130  0.135     0.227   \n",
       "\n",
       "         ptb  ...   r_roe     r_eg  divyield_Median  PEG_trailing_Median  \\\n",
       "1335   1.387  ... -6.2954 -10.1619             3.51                0.908   \n",
       "3443   3.479  ... -6.2954 -10.1619             2.95                0.855   \n",
       "11213  1.280  ... -6.2954 -10.1619             3.70                1.084   \n",
       "7019   9.436  ... -6.2954 -10.1619             2.95                0.855   \n",
       "3444   4.730  ...  5.6547   6.2280             2.71                1.046   \n",
       "\n",
       "       pe_inc_Median  ptb_Median  evm_Median  roce_Median  roe_Median  \\\n",
       "1335          14.712       1.435       9.151        0.102       0.087   \n",
       "3443          12.418       1.368       7.375        0.187       0.106   \n",
       "11213         12.710       1.218       7.059        0.166       0.091   \n",
       "7019          12.418       1.368       7.375        0.187       0.106   \n",
       "3444          13.920       1.415       7.319        0.183       0.115   \n",
       "\n",
       "       bm_Median  \n",
       "1335       0.612  \n",
       "3443       0.655  \n",
       "11213      0.689  \n",
       "7019       0.655  \n",
       "3444       0.673  \n",
       "\n",
       "[5 rows x 52 columns]"
      ]
     },
     "execution_count": 44,
     "metadata": {},
     "output_type": "execute_result"
    }
   ],
   "source": [
    "# Create a copy of the test results\n",
    "results = test_df[['datadate', 'tic', 'next_prccq_change', 'next_relative_quarterly_return']].copy()\n",
    "\n",
    "# Define columns to drop\n",
    "drop_cols = ['datadate', 'tic', 'next_prccq_change', 'FFI10_desc']\n",
    "\n",
    "# Drop the specified columns from train, validation, and test datasets\n",
    "train_df = train_df.drop(columns=drop_cols)\n",
    "valid_df = valid_df.drop(columns=drop_cols)\n",
    "test_df  = test_df.drop(columns=drop_cols)\n",
    "\n",
    "# Display the first few rows of the training dataset\n",
    "train_df.head()\n"
   ]
  },
  {
   "cell_type": "code",
   "execution_count": 45,
   "metadata": {},
   "outputs": [
    {
     "data": {
      "text/html": [
       "<div>\n",
       "<style scoped>\n",
       "    .dataframe tbody tr th:only-of-type {\n",
       "        vertical-align: middle;\n",
       "    }\n",
       "\n",
       "    .dataframe tbody tr th {\n",
       "        vertical-align: top;\n",
       "    }\n",
       "\n",
       "    .dataframe thead th {\n",
       "        text-align: right;\n",
       "    }\n",
       "</style>\n",
       "<table border=\"1\" class=\"dataframe\">\n",
       "  <thead>\n",
       "    <tr style=\"text-align: right;\">\n",
       "      <th></th>\n",
       "      <th>roa</th>\n",
       "      <th>roe</th>\n",
       "      <th>pe_inc</th>\n",
       "      <th>pcf</th>\n",
       "      <th>roce</th>\n",
       "      <th>gpm</th>\n",
       "      <th>evm</th>\n",
       "      <th>npm</th>\n",
       "      <th>de_ratio</th>\n",
       "      <th>ptb</th>\n",
       "      <th>...</th>\n",
       "      <th>r_roe</th>\n",
       "      <th>r_eg</th>\n",
       "      <th>divyield_Median</th>\n",
       "      <th>PEG_trailing_Median</th>\n",
       "      <th>pe_inc_Median</th>\n",
       "      <th>ptb_Median</th>\n",
       "      <th>evm_Median</th>\n",
       "      <th>roce_Median</th>\n",
       "      <th>roe_Median</th>\n",
       "      <th>bm_Median</th>\n",
       "    </tr>\n",
       "  </thead>\n",
       "  <tbody>\n",
       "    <tr>\n",
       "      <th>1335</th>\n",
       "      <td>0.145</td>\n",
       "      <td>0.093</td>\n",
       "      <td>17.928</td>\n",
       "      <td>8.009</td>\n",
       "      <td>0.117</td>\n",
       "      <td>0.507</td>\n",
       "      <td>7.570</td>\n",
       "      <td>0.057</td>\n",
       "      <td>1.440</td>\n",
       "      <td>1.387</td>\n",
       "      <td>...</td>\n",
       "      <td>-6.2954</td>\n",
       "      <td>-10.1619</td>\n",
       "      <td>3.51</td>\n",
       "      <td>0.908</td>\n",
       "      <td>14.712</td>\n",
       "      <td>1.435</td>\n",
       "      <td>9.151</td>\n",
       "      <td>0.102</td>\n",
       "      <td>0.087</td>\n",
       "      <td>0.612</td>\n",
       "    </tr>\n",
       "    <tr>\n",
       "      <th>3443</th>\n",
       "      <td>0.204</td>\n",
       "      <td>0.115</td>\n",
       "      <td>41.576</td>\n",
       "      <td>41.821</td>\n",
       "      <td>0.209</td>\n",
       "      <td>0.309</td>\n",
       "      <td>13.130</td>\n",
       "      <td>0.130</td>\n",
       "      <td>0.227</td>\n",
       "      <td>3.479</td>\n",
       "      <td>...</td>\n",
       "      <td>-6.2954</td>\n",
       "      <td>-10.1619</td>\n",
       "      <td>2.95</td>\n",
       "      <td>0.855</td>\n",
       "      <td>12.418</td>\n",
       "      <td>1.368</td>\n",
       "      <td>7.375</td>\n",
       "      <td>0.187</td>\n",
       "      <td>0.106</td>\n",
       "      <td>0.655</td>\n",
       "    </tr>\n",
       "    <tr>\n",
       "      <th>11213</th>\n",
       "      <td>0.112</td>\n",
       "      <td>0.094</td>\n",
       "      <td>14.020</td>\n",
       "      <td>16.465</td>\n",
       "      <td>0.122</td>\n",
       "      <td>0.276</td>\n",
       "      <td>7.442</td>\n",
       "      <td>0.013</td>\n",
       "      <td>1.215</td>\n",
       "      <td>1.280</td>\n",
       "      <td>...</td>\n",
       "      <td>-6.2954</td>\n",
       "      <td>-10.1619</td>\n",
       "      <td>3.70</td>\n",
       "      <td>1.084</td>\n",
       "      <td>12.710</td>\n",
       "      <td>1.218</td>\n",
       "      <td>7.059</td>\n",
       "      <td>0.166</td>\n",
       "      <td>0.091</td>\n",
       "      <td>0.689</td>\n",
       "    </tr>\n",
       "    <tr>\n",
       "      <th>7019</th>\n",
       "      <td>0.248</td>\n",
       "      <td>0.441</td>\n",
       "      <td>30.332</td>\n",
       "      <td>25.417</td>\n",
       "      <td>0.283</td>\n",
       "      <td>0.386</td>\n",
       "      <td>16.650</td>\n",
       "      <td>0.091</td>\n",
       "      <td>1.872</td>\n",
       "      <td>9.436</td>\n",
       "      <td>...</td>\n",
       "      <td>-6.2954</td>\n",
       "      <td>-10.1619</td>\n",
       "      <td>2.95</td>\n",
       "      <td>0.855</td>\n",
       "      <td>12.418</td>\n",
       "      <td>1.368</td>\n",
       "      <td>7.375</td>\n",
       "      <td>0.187</td>\n",
       "      <td>0.106</td>\n",
       "      <td>0.655</td>\n",
       "    </tr>\n",
       "    <tr>\n",
       "      <th>3444</th>\n",
       "      <td>0.204</td>\n",
       "      <td>0.105</td>\n",
       "      <td>47.375</td>\n",
       "      <td>56.869</td>\n",
       "      <td>0.209</td>\n",
       "      <td>0.309</td>\n",
       "      <td>13.130</td>\n",
       "      <td>0.135</td>\n",
       "      <td>0.227</td>\n",
       "      <td>4.730</td>\n",
       "      <td>...</td>\n",
       "      <td>5.6547</td>\n",
       "      <td>6.2280</td>\n",
       "      <td>2.71</td>\n",
       "      <td>1.046</td>\n",
       "      <td>13.920</td>\n",
       "      <td>1.415</td>\n",
       "      <td>7.319</td>\n",
       "      <td>0.183</td>\n",
       "      <td>0.115</td>\n",
       "      <td>0.673</td>\n",
       "    </tr>\n",
       "  </tbody>\n",
       "</table>\n",
       "<p>5 rows × 51 columns</p>\n",
       "</div>"
      ],
      "text/plain": [
       "         roa    roe  pe_inc     pcf   roce    gpm     evm    npm  de_ratio  \\\n",
       "1335   0.145  0.093  17.928   8.009  0.117  0.507   7.570  0.057     1.440   \n",
       "3443   0.204  0.115  41.576  41.821  0.209  0.309  13.130  0.130     0.227   \n",
       "11213  0.112  0.094  14.020  16.465  0.122  0.276   7.442  0.013     1.215   \n",
       "7019   0.248  0.441  30.332  25.417  0.283  0.386  16.650  0.091     1.872   \n",
       "3444   0.204  0.105  47.375  56.869  0.209  0.309  13.130  0.135     0.227   \n",
       "\n",
       "         ptb  ...   r_roe     r_eg  divyield_Median  PEG_trailing_Median  \\\n",
       "1335   1.387  ... -6.2954 -10.1619             3.51                0.908   \n",
       "3443   3.479  ... -6.2954 -10.1619             2.95                0.855   \n",
       "11213  1.280  ... -6.2954 -10.1619             3.70                1.084   \n",
       "7019   9.436  ... -6.2954 -10.1619             2.95                0.855   \n",
       "3444   4.730  ...  5.6547   6.2280             2.71                1.046   \n",
       "\n",
       "       pe_inc_Median  ptb_Median  evm_Median  roce_Median  roe_Median  \\\n",
       "1335          14.712       1.435       9.151        0.102       0.087   \n",
       "3443          12.418       1.368       7.375        0.187       0.106   \n",
       "11213         12.710       1.218       7.059        0.166       0.091   \n",
       "7019          12.418       1.368       7.375        0.187       0.106   \n",
       "3444          13.920       1.415       7.319        0.183       0.115   \n",
       "\n",
       "       bm_Median  \n",
       "1335       0.612  \n",
       "3443       0.655  \n",
       "11213      0.689  \n",
       "7019       0.655  \n",
       "3444       0.673  \n",
       "\n",
       "[5 rows x 51 columns]"
      ]
     },
     "execution_count": 45,
     "metadata": {},
     "output_type": "execute_result"
    }
   ],
   "source": [
    "# Define target variable (y) and features (X) for train, validation, and test sets\n",
    "y_train = train_df['next_relative_quarterly_return'].copy()\n",
    "X_train = train_df.drop(columns=['next_relative_quarterly_return'])\n",
    "\n",
    "y_valid = valid_df['next_relative_quarterly_return'].copy()\n",
    "X_valid = valid_df.drop(columns=['next_relative_quarterly_return'])\n",
    "\n",
    "y_test  = test_df['next_relative_quarterly_return'].copy()\n",
    "X_test  = test_df.drop(columns=['next_relative_quarterly_return'])\n",
    "\n",
    "# Display the first few rows of X_train\n",
    "X_train.head()\n"
   ]
  },
  {
   "cell_type": "code",
   "execution_count": 46,
   "metadata": {},
   "outputs": [
    {
     "name": "stdout",
     "output_type": "stream",
     "text": [
      "['roa', 'roe', 'pe_inc', 'pcf', 'roce', 'gpm', 'evm', 'npm', 'de_ratio', 'ptb', 'market_cap', 'prccq_change', 'roa_change', 'roe_change', 'pe_inc_change', 'pcf_change', 'roce_change', 'gpm_change', 'evm_change', 'npm_change', 'de_ratio_change', 'ptb_change', 'relative_quarterly_return', 'volatility_score', 'mktrf', 'smb', 'hml', 'rmw', 'cma', 'rf', 'umd', 'h_1_x', 'h_3_x', 'h_12_x', 'h_1_y', 'h_3_y', 'h_12_y', 'r_f', 'r_mkt', 'r_me', 'r_ia', 'r_roe', 'r_eg', 'divyield_Median', 'PEG_trailing_Median', 'pe_inc_Median', 'ptb_Median', 'evm_Median', 'roce_Median', 'roe_Median', 'bm_Median']\n"
     ]
    }
   ],
   "source": [
    "# Scaling\n",
    "scaler = MinMaxScaler()\n",
    "\n",
    "# Fit the scaler on the training/validation data\n",
    "X_train_scaled = scaler.fit_transform(X_train)\n",
    "\n",
    "# Now apply the same scaling to the val/test data using the already fitted scaler\n",
    "X_valid_scaled = scaler.transform(X_valid)\n",
    "X_test_scaled = scaler.transform(X_test)\n",
    "\n",
    "# Convert the scaled data back to DataFrame for consistency\n",
    "X_train_scaled = pd.DataFrame(X_train_scaled, columns=X_train.columns)\n",
    "X_valid_scaled = pd.DataFrame(X_valid_scaled, columns=X_valid.columns)\n",
    "X_test_scaled = pd.DataFrame(X_test_scaled, columns=X_test.columns)\n",
    "\n",
    "#X_train_scaled.info()\n",
    "\n",
    "print(X_train_scaled.columns.tolist())\n"
   ]
  },
  {
   "cell_type": "code",
   "execution_count": 47,
   "metadata": {},
   "outputs": [],
   "source": [
    "\n",
    "context = ['relative_quarterly_return_-1', 'relative_quarterly_return_-2', 'relative_quarterly_return_-3', 'mktrf', 'smb', 'hml', 'rmw', 'cma', 'rf', 'umd', 'h_1_x', 'h_3_x', 'h_12_x', 'h_1_y', 'h_3_y', 'h_12_y', 'r_f', 'r_mkt', 'r_me', 'r_ia', 'r_roe', 'r_eg', 'indret_ew', 'CAPEI_Median', 'bm_Median', 'evm_Median', 'pe_inc_Median', 'ptb_Median', 'PEG_trailing_Median', 'divyield_Median', 'roa_Median', 'roce_Median', 'roe_Median', 'gpm_Median', 'npm_Median', 'opmad_Median', 'de_ratio_Median', 'debt_ebitda_Median', 'debt_assets_Median', 'intcov_ratio_Median', 'cash_ratio_Median', 'curr_ratio_Median', 'quick_ratio_Median', 'at_turn_Median', 'inv_turn_Median', 'rect_turn_Median']\n",
    "context = ['market_cap', 'volatility_score', 'mktrf', 'smb', 'hml', 'rmw', 'cma', 'rf', 'umd', 'h_1_x', 'h_3_x', 'h_12_x', 'h_1_y', 'h_3_y', 'h_12_y', 'r_f', 'r_mkt', 'r_me', 'r_ia', 'r_roe', 'r_eg', 'divyield_Median', 'PEG_trailing_Median', 'pe_inc_Median', 'ptb_Median', 'evm_Median', 'roce_Median', 'roe_Median', 'bm_Median']\n",
    "\n",
    "\n",
    "C_train = X_train_scaled[context].to_numpy()\n",
    "C_valid = X_valid_scaled[context].to_numpy()\n",
    "C_test = X_test_scaled[context].to_numpy()\n",
    "\n",
    "X_train_context = X_train_scaled.drop(columns=context)\n",
    "X_valid_context = X_valid_scaled.drop(columns=context)\n",
    "X_test_context = X_test_scaled.drop(columns=context)\n",
    "\n"
   ]
  },
  {
   "cell_type": "code",
   "execution_count": 48,
   "metadata": {},
   "outputs": [
    {
     "name": "stderr",
     "output_type": "stream",
     "text": [
      "/opt/anaconda3/lib/python3.9/site-packages/xgboost/core.py:158: UserWarning:\n",
      "\n",
      "[16:36:59] WARNING: /Users/runner/work/xgboost/xgboost/src/learner.cc:740: \n",
      "Parameters: { \"eval_set\", \"verbose\" } are not used.\n",
      "\n",
      "\n",
      "/opt/anaconda3/lib/python3.9/site-packages/xgboost/core.py:158: UserWarning:\n",
      "\n",
      "[16:36:59] WARNING: /Users/runner/work/xgboost/xgboost/src/learner.cc:740: \n",
      "Parameters: { \"eval_set\", \"verbose\" } are not used.\n",
      "\n",
      "\n",
      "/opt/anaconda3/lib/python3.9/site-packages/xgboost/core.py:158: UserWarning:\n",
      "\n",
      "[16:36:59] WARNING: /Users/runner/work/xgboost/xgboost/src/learner.cc:740: \n",
      "Parameters: { \"eval_set\", \"verbose\" } are not used.\n",
      "\n",
      "\n",
      "/opt/anaconda3/lib/python3.9/site-packages/xgboost/core.py:158: UserWarning:\n",
      "\n",
      "[16:37:00] WARNING: /Users/runner/work/xgboost/xgboost/src/learner.cc:740: \n",
      "Parameters: { \"eval_set\", \"verbose\" } are not used.\n",
      "\n",
      "\n",
      "/opt/anaconda3/lib/python3.9/site-packages/xgboost/core.py:158: UserWarning:\n",
      "\n",
      "[16:37:00] WARNING: /Users/runner/work/xgboost/xgboost/src/learner.cc:740: \n",
      "Parameters: { \"eval_set\", \"verbose\" } are not used.\n",
      "\n",
      "\n",
      "/opt/anaconda3/lib/python3.9/site-packages/xgboost/core.py:158: UserWarning:\n",
      "\n",
      "[16:37:00] WARNING: /Users/runner/work/xgboost/xgboost/src/learner.cc:740: \n",
      "Parameters: { \"eval_set\", \"verbose\" } are not used.\n",
      "\n",
      "\n"
     ]
    },
    {
     "name": "stdout",
     "output_type": "stream",
     "text": [
      "Best params: {'gamma': 0.5, 'learning_rate': 0.1, 'max_depth': 8, 'n_estimators': 300, 'random_state': 42}\n",
      "Best validation score = 0.21588686042300434\n",
      "CPU times: user 14 s, sys: 464 ms, total: 14.5 s\n",
      "Wall time: 1.98 s\n"
     ]
    }
   ],
   "source": [
    "\n",
    "\n",
    "%%time\n",
    "\n",
    "parameters = {\n",
    "    'n_estimators': [300],\n",
    "    'learning_rate': [0.1],\n",
    "    'max_depth': [8],\n",
    "    'gamma': [0.5],\n",
    "    'random_state': [42]\n",
    "}\n",
    "\n",
    "eval_set = [(X_train_scaled, y_train), (X_valid_scaled, y_valid)]\n",
    "model = xgb.XGBRegressor(eval_set=eval_set, objective='reg:squarederror', verbose=False)\n",
    "clf = GridSearchCV(model, parameters)\n",
    "\n",
    "clf.fit(X_train_scaled, y_train)\n",
    "\n",
    "print(f'Best params: {clf.best_params_}')\n",
    "print(f'Best validation score = {clf.best_score_}')\n",
    "\n"
   ]
  },
  {
   "cell_type": "code",
   "execution_count": 49,
   "metadata": {},
   "outputs": [
    {
     "data": {
      "text/plain": [
       "XGBRegressor(base_score=None, booster=None, callbacks=None,\n",
       "             colsample_bylevel=None, colsample_bynode=None,\n",
       "             colsample_bytree=None, device=None, early_stopping_rounds=None,\n",
       "             enable_categorical=False, eval_metric=None, feature_types=None,\n",
       "             gamma=0.5, grow_policy=None, importance_type=None,\n",
       "             interaction_constraints=None, learning_rate=0.1, max_bin=None,\n",
       "             max_cat_threshold=None, max_cat_to_onehot=None,\n",
       "             max_delta_step=None, max_depth=8, max_leaves=None,\n",
       "             min_child_weight=None, missing=nan, monotone_constraints=None,\n",
       "             multi_strategy=None, n_estimators=300, n_jobs=None,\n",
       "             num_parallel_tree=None, random_state=42, ...)"
      ]
     },
     "execution_count": 49,
     "metadata": {},
     "output_type": "execute_result"
    }
   ],
   "source": [
    "model = xgb.XGBRegressor(**clf.best_params_, objective='reg:squarederror')\n",
    "model.fit(X_train_scaled, y_train, eval_set=eval_set, verbose=False)\n"
   ]
  },
  {
   "cell_type": "code",
   "execution_count": 50,
   "metadata": {},
   "outputs": [
    {
     "name": "stdout",
     "output_type": "stream",
     "text": [
      "Best params: {'gamma': 0.5, 'learning_rate': 0.1, 'max_depth': 8, 'n_estimators': 300, 'random_state': 42}\n",
      "Best validation score = 0.1870295767969326\n",
      "CPU times: user 12.2 s, sys: 444 ms, total: 12.6 s\n",
      "Wall time: 1.77 s\n"
     ]
    },
    {
     "data": {
      "text/plain": [
       "XGBRegressor(base_score=None, booster=None, callbacks=None,\n",
       "             colsample_bylevel=None, colsample_bynode=None,\n",
       "             colsample_bytree=None, device=None, early_stopping_rounds=None,\n",
       "             enable_categorical=False, eval_metric=None, feature_types=None,\n",
       "             gamma=0.5, grow_policy=None, importance_type=None,\n",
       "             interaction_constraints=None, learning_rate=0.1, max_bin=None,\n",
       "             max_cat_threshold=None, max_cat_to_onehot=None,\n",
       "             max_delta_step=None, max_depth=8, max_leaves=None,\n",
       "             min_child_weight=None, missing=nan, monotone_constraints=None,\n",
       "             multi_strategy=None, n_estimators=300, n_jobs=None,\n",
       "             num_parallel_tree=None, random_state=42, ...)"
      ]
     },
     "execution_count": 50,
     "metadata": {},
     "output_type": "execute_result"
    }
   ],
   "source": [
    "%%time\n",
    "\n",
    "parameters = {\n",
    "    'n_estimators': [300],\n",
    "    'learning_rate': [0.1],\n",
    "    'max_depth': [8],\n",
    "    'gamma': [0.5],\n",
    "    'random_state': [42]\n",
    "}\n",
    "\n",
    "eval_set = [(X_train_context, y_train), (X_valid_context, y_valid)]\n",
    "model2 = xgb.XGBRegressor(eval_set=eval_set, objective='reg:squarederror', verbose=False)\n",
    "clf = GridSearchCV(model, parameters)\n",
    "\n",
    "clf.fit(X_train_context, y_train)\n",
    "\n",
    "print(f'Best params: {clf.best_params_}')\n",
    "print(f'Best validation score = {clf.best_score_}')\n",
    "\n",
    "model2 = xgb.XGBRegressor(**clf.best_params_, objective='reg:squarederror')\n",
    "model2.fit(X_train_context, y_train, eval_set=eval_set, verbose=False)\n"
   ]
  },
  {
   "cell_type": "code",
   "execution_count": 51,
   "metadata": {},
   "outputs": [
    {
     "data": {
      "text/plain": [
       "XGBRanker(base_score=None, booster=None, callbacks=None, colsample_bylevel=None,\n",
       "          colsample_bynode=None, colsample_bytree=None, device=None,\n",
       "          early_stopping_rounds=None, enable_categorical=False,\n",
       "          eval_metric='ndcg@10', feature_types=None, gamma=0.5,\n",
       "          grow_policy=None, importance_type=None, interaction_constraints=None,\n",
       "          learning_rate=0.1, max_bin=None, max_cat_threshold=None,\n",
       "          max_cat_to_onehot=None, max_delta_step=None, max_depth=8,\n",
       "          max_leaves=None, min_child_weight=None, missing=nan,\n",
       "          monotone_constraints=None, multi_strategy=None, n_estimators=300,\n",
       "          n_jobs=None, ndcg_exp_gain=False, num_parallel_tree=None, ...)"
      ]
     },
     "execution_count": 51,
     "metadata": {},
     "output_type": "execute_result"
    }
   ],
   "source": [
    "# **Define Model Parameters**\n",
    "ranker_model = xgb.XGBRanker(\n",
    "    objective=\"rank:ndcg\",\n",
    "    eval_metric=\"ndcg@10\",\n",
    "    ndcg_exp_gain=False,\n",
    "    learning_rate=0.1,\n",
    "    max_depth=8,\n",
    "    gamma=0.5,  \n",
    "    random_state=42,\n",
    "    n_estimators=300\n",
    ")\n",
    "\n",
    "ranker_model.fit(\n",
    "        X_train_scaled,\n",
    "        y_train,\n",
    "        group=train_group,\n",
    "        verbose=True,\n",
    "    )\n"
   ]
  },
  {
   "cell_type": "code",
   "execution_count": 53,
   "metadata": {},
   "outputs": [
    {
     "name": "stdout",
     "output_type": "stream",
     "text": [
      "              precision    recall  f1-score   support\n",
      "\n",
      "           0       0.71      0.51      0.60       954\n",
      "           1       0.63      0.80      0.70       986\n",
      "\n",
      "    accuracy                           0.66      1940\n",
      "   macro avg       0.67      0.65      0.65      1940\n",
      "weighted avg       0.67      0.66      0.65      1940\n",
      "\n",
      "              precision    recall  f1-score   support\n",
      "\n",
      "           0       0.71      0.51      0.60       954\n",
      "           1       0.63      0.80      0.70       986\n",
      "\n",
      "    accuracy                           0.66      1940\n",
      "   macro avg       0.67      0.65      0.65      1940\n",
      "weighted avg       0.67      0.66      0.65      1940\n",
      "\n"
     ]
    }
   ],
   "source": [
    "y_train_pred1 = model.predict(X_train_scaled)\n",
    "y_valid_pred1 = model.predict(X_valid_scaled)\n",
    "y_test_pred1 = model.predict(X_test_scaled)\n",
    "\n",
    "y_train_pred3 = model2.predict(X_train_context)\n",
    "y_valid_pred3 = model2.predict(X_valid_context)\n",
    "y_test_pred3 = model2.predict(X_test_context)\n",
    "\n",
    "# Classifier\n",
    "y_train_pred_binary1 = (y_train_pred1 >= 0).astype(int)\n",
    "y_valid_pred_binary1 = (y_valid_pred1 >= 0).astype(int)\n",
    "y_test_pred_binary1 = (y_test_pred1 >= 0).astype(int)\n",
    "\n",
    "y_train_binary1 = (y_train >= 0).astype(int)\n",
    "y_valid_binary1 = (y_valid >= 0).astype(int)\n",
    "y_test_binary1 = (y_test >= 0).astype(int)\n",
    "\n",
    "print(classification_report(y_test_binary1, y_test_pred_binary1))\n",
    "\n",
    "y_train_pred2 = ranker_model.predict(X_train_scaled)\n",
    "y_valid_pred2 = ranker_model.predict(X_valid_scaled)\n",
    "y_test_pred2 = ranker_model.predict(X_test_scaled)\n",
    "\n",
    "# Classifier\n",
    "y_train_pred_binary2 = (y_train_pred1 >= 0).astype(int)\n",
    "y_valid_pred_binary2 = (y_valid_pred1 >= 0).astype(int)\n",
    "y_test_pred_binary2 = (y_test_pred1 >= 0).astype(int)\n",
    "\n",
    "y_train_binary2 = (y_train >= 0).astype(int)\n",
    "y_valid_binary2 = (y_valid >= 0).astype(int)\n",
    "y_test_binary2 = (y_test >= 0).astype(int)\n",
    "\n",
    "print(classification_report(y_test_binary2, y_test_pred_binary2))\n",
    "\n"
   ]
  },
  {
   "cell_type": "code",
   "execution_count": null,
   "metadata": {},
   "outputs": [],
   "source": [
    "mse = mean_squared_error(y_test, y_test_pred1)\n",
    "mae = mean_absolute_error(y_test, y_test_pred1)\n",
    "print(f\"MSE: {mse:.4f}, MAE: {mae:.4f}\")"
   ]
  },
  {
   "cell_type": "code",
   "execution_count": 54,
   "metadata": {},
   "outputs": [
    {
     "data": {
      "text/html": [
       "<div>\n",
       "<style scoped>\n",
       "    .dataframe tbody tr th:only-of-type {\n",
       "        vertical-align: middle;\n",
       "    }\n",
       "\n",
       "    .dataframe tbody tr th {\n",
       "        vertical-align: top;\n",
       "    }\n",
       "\n",
       "    .dataframe thead th {\n",
       "        text-align: right;\n",
       "    }\n",
       "</style>\n",
       "<table border=\"1\" class=\"dataframe\">\n",
       "  <thead>\n",
       "    <tr style=\"text-align: right;\">\n",
       "      <th></th>\n",
       "      <th>datadate</th>\n",
       "      <th>tic</th>\n",
       "      <th>next_prccq_change</th>\n",
       "      <th>next_relative_quarterly_return</th>\n",
       "      <th>y_pred1</th>\n",
       "      <th>y_pred2</th>\n",
       "      <th>y_pred3</th>\n",
       "    </tr>\n",
       "  </thead>\n",
       "  <tbody>\n",
       "    <tr>\n",
       "      <th>1037</th>\n",
       "      <td>2013-03-31</td>\n",
       "      <td>AMD</td>\n",
       "      <td>0.600000</td>\n",
       "      <td>0.566207</td>\n",
       "      <td>0.231085</td>\n",
       "      <td>1.642451</td>\n",
       "      <td>0.354364</td>\n",
       "    </tr>\n",
       "    <tr>\n",
       "      <th>329</th>\n",
       "      <td>2013-03-31</td>\n",
       "      <td>ABT</td>\n",
       "      <td>-0.012458</td>\n",
       "      <td>-0.046250</td>\n",
       "      <td>0.203722</td>\n",
       "      <td>1.309412</td>\n",
       "      <td>0.339194</td>\n",
       "    </tr>\n",
       "    <tr>\n",
       "      <th>9481</th>\n",
       "      <td>2013-03-31</td>\n",
       "      <td>REGN</td>\n",
       "      <td>0.274808</td>\n",
       "      <td>0.241016</td>\n",
       "      <td>0.198589</td>\n",
       "      <td>1.316080</td>\n",
       "      <td>0.159023</td>\n",
       "    </tr>\n",
       "    <tr>\n",
       "      <th>11356</th>\n",
       "      <td>2013-03-31</td>\n",
       "      <td>WDC</td>\n",
       "      <td>0.234639</td>\n",
       "      <td>0.200846</td>\n",
       "      <td>0.152784</td>\n",
       "      <td>1.289010</td>\n",
       "      <td>0.156192</td>\n",
       "    </tr>\n",
       "    <tr>\n",
       "      <th>849</th>\n",
       "      <td>2013-03-31</td>\n",
       "      <td>AIG</td>\n",
       "      <td>0.151468</td>\n",
       "      <td>0.117676</td>\n",
       "      <td>0.122948</td>\n",
       "      <td>-0.172166</td>\n",
       "      <td>0.070108</td>\n",
       "    </tr>\n",
       "    <tr>\n",
       "      <th>681</th>\n",
       "      <td>2013-03-31</td>\n",
       "      <td>AFL</td>\n",
       "      <td>0.117263</td>\n",
       "      <td>0.083470</td>\n",
       "      <td>0.099873</td>\n",
       "      <td>0.826512</td>\n",
       "      <td>0.103789</td>\n",
       "    </tr>\n",
       "    <tr>\n",
       "      <th>6744</th>\n",
       "      <td>2013-03-31</td>\n",
       "      <td>LMT</td>\n",
       "      <td>0.123705</td>\n",
       "      <td>0.089912</td>\n",
       "      <td>0.085388</td>\n",
       "      <td>0.555808</td>\n",
       "      <td>0.117922</td>\n",
       "    </tr>\n",
       "    <tr>\n",
       "      <th>6933</th>\n",
       "      <td>2013-03-31</td>\n",
       "      <td>LUV</td>\n",
       "      <td>-0.043769</td>\n",
       "      <td>-0.077561</td>\n",
       "      <td>0.083469</td>\n",
       "      <td>-0.039872</td>\n",
       "      <td>0.087504</td>\n",
       "    </tr>\n",
       "    <tr>\n",
       "      <th>8097</th>\n",
       "      <td>2013-03-31</td>\n",
       "      <td>NFLX</td>\n",
       "      <td>0.115226</td>\n",
       "      <td>0.081433</td>\n",
       "      <td>0.083399</td>\n",
       "      <td>0.625556</td>\n",
       "      <td>0.057244</td>\n",
       "    </tr>\n",
       "    <tr>\n",
       "      <th>10068</th>\n",
       "      <td>2013-03-31</td>\n",
       "      <td>SCHW</td>\n",
       "      <td>0.200113</td>\n",
       "      <td>0.166320</td>\n",
       "      <td>0.082576</td>\n",
       "      <td>0.272229</td>\n",
       "      <td>0.075706</td>\n",
       "    </tr>\n",
       "  </tbody>\n",
       "</table>\n",
       "</div>"
      ],
      "text/plain": [
       "         datadate   tic  next_prccq_change  next_relative_quarterly_return  \\\n",
       "1037   2013-03-31   AMD           0.600000                        0.566207   \n",
       "329    2013-03-31   ABT          -0.012458                       -0.046250   \n",
       "9481   2013-03-31  REGN           0.274808                        0.241016   \n",
       "11356  2013-03-31   WDC           0.234639                        0.200846   \n",
       "849    2013-03-31   AIG           0.151468                        0.117676   \n",
       "681    2013-03-31   AFL           0.117263                        0.083470   \n",
       "6744   2013-03-31   LMT           0.123705                        0.089912   \n",
       "6933   2013-03-31   LUV          -0.043769                       -0.077561   \n",
       "8097   2013-03-31  NFLX           0.115226                        0.081433   \n",
       "10068  2013-03-31  SCHW           0.200113                        0.166320   \n",
       "\n",
       "        y_pred1   y_pred2   y_pred3  \n",
       "1037   0.231085  1.642451  0.354364  \n",
       "329    0.203722  1.309412  0.339194  \n",
       "9481   0.198589  1.316080  0.159023  \n",
       "11356  0.152784  1.289010  0.156192  \n",
       "849    0.122948 -0.172166  0.070108  \n",
       "681    0.099873  0.826512  0.103789  \n",
       "6744   0.085388  0.555808  0.117922  \n",
       "6933   0.083469 -0.039872  0.087504  \n",
       "8097   0.083399  0.625556  0.057244  \n",
       "10068  0.082576  0.272229  0.075706  "
      ]
     },
     "execution_count": 54,
     "metadata": {},
     "output_type": "execute_result"
    }
   ],
   "source": [
    "results['y_pred1'] = y_test_pred1\n",
    "results['y_pred2'] = y_test_pred2\n",
    "results['y_pred3'] = y_test_pred3\n",
    "results1 = results.sort_values(by=['datadate', 'y_pred1'], ascending=[True, False])\n",
    "\n",
    "results1.head(10)\n",
    "\n"
   ]
  },
  {
   "cell_type": "code",
   "execution_count": 55,
   "metadata": {},
   "outputs": [
    {
     "data": {
      "text/html": [
       "<div>\n",
       "<style scoped>\n",
       "    .dataframe tbody tr th:only-of-type {\n",
       "        vertical-align: middle;\n",
       "    }\n",
       "\n",
       "    .dataframe tbody tr th {\n",
       "        vertical-align: top;\n",
       "    }\n",
       "\n",
       "    .dataframe thead th {\n",
       "        text-align: right;\n",
       "    }\n",
       "</style>\n",
       "<table border=\"1\" class=\"dataframe\">\n",
       "  <thead>\n",
       "    <tr style=\"text-align: right;\">\n",
       "      <th></th>\n",
       "      <th>datadate</th>\n",
       "      <th>stocks</th>\n",
       "      <th>baseline</th>\n",
       "      <th>top_10_xgb3</th>\n",
       "      <th>top_10_xgb</th>\n",
       "      <th>top_10_rank</th>\n",
       "      <th>top_10_ideal</th>\n",
       "      <th>bottom_10_xgb</th>\n",
       "      <th>bottom_10_xgb3</th>\n",
       "      <th>bottom_10_rank</th>\n",
       "      <th>bottom_10_ideal</th>\n",
       "    </tr>\n",
       "  </thead>\n",
       "  <tbody>\n",
       "    <tr>\n",
       "      <th>0</th>\n",
       "      <td>2013-03-31</td>\n",
       "      <td>70</td>\n",
       "      <td>0.077383</td>\n",
       "      <td>0.287450</td>\n",
       "      <td>0.287450</td>\n",
       "      <td>0.287450</td>\n",
       "      <td>0.902758</td>\n",
       "      <td>-0.058295</td>\n",
       "      <td>-0.058295</td>\n",
       "      <td>-0.058295</td>\n",
       "      <td>-0.154523</td>\n",
       "    </tr>\n",
       "    <tr>\n",
       "      <th>1</th>\n",
       "      <td>2013-06-30</td>\n",
       "      <td>69</td>\n",
       "      <td>0.081841</td>\n",
       "      <td>0.510726</td>\n",
       "      <td>0.451609</td>\n",
       "      <td>0.510726</td>\n",
       "      <td>0.761617</td>\n",
       "      <td>-0.028207</td>\n",
       "      <td>-0.056417</td>\n",
       "      <td>-0.071172</td>\n",
       "      <td>-0.092545</td>\n",
       "    </tr>\n",
       "    <tr>\n",
       "      <th>2</th>\n",
       "      <td>2013-09-30</td>\n",
       "      <td>70</td>\n",
       "      <td>0.105676</td>\n",
       "      <td>0.168220</td>\n",
       "      <td>0.195744</td>\n",
       "      <td>0.242487</td>\n",
       "      <td>0.320609</td>\n",
       "      <td>-0.094076</td>\n",
       "      <td>-0.031308</td>\n",
       "      <td>-0.039739</td>\n",
       "      <td>-0.142566</td>\n",
       "    </tr>\n",
       "    <tr>\n",
       "      <th>3</th>\n",
       "      <td>2013-12-31</td>\n",
       "      <td>70</td>\n",
       "      <td>0.030107</td>\n",
       "      <td>0.148058</td>\n",
       "      <td>0.148058</td>\n",
       "      <td>0.148058</td>\n",
       "      <td>0.318063</td>\n",
       "      <td>-0.018598</td>\n",
       "      <td>-0.018598</td>\n",
       "      <td>0.035645</td>\n",
       "      <td>-0.127698</td>\n",
       "    </tr>\n",
       "    <tr>\n",
       "      <th>4</th>\n",
       "      <td>2014-03-31</td>\n",
       "      <td>70</td>\n",
       "      <td>0.031233</td>\n",
       "      <td>0.019502</td>\n",
       "      <td>0.012541</td>\n",
       "      <td>0.048605</td>\n",
       "      <td>0.227395</td>\n",
       "      <td>-0.024054</td>\n",
       "      <td>-0.114129</td>\n",
       "      <td>-0.195668</td>\n",
       "      <td>-0.238462</td>\n",
       "    </tr>\n",
       "    <tr>\n",
       "      <th>5</th>\n",
       "      <td>2014-06-30</td>\n",
       "      <td>72</td>\n",
       "      <td>0.021678</td>\n",
       "      <td>0.048057</td>\n",
       "      <td>0.089478</td>\n",
       "      <td>0.091654</td>\n",
       "      <td>0.236063</td>\n",
       "      <td>-0.054955</td>\n",
       "      <td>-0.054955</td>\n",
       "      <td>-0.064749</td>\n",
       "      <td>-0.145233</td>\n",
       "    </tr>\n",
       "    <tr>\n",
       "      <th>6</th>\n",
       "      <td>2014-09-30</td>\n",
       "      <td>71</td>\n",
       "      <td>0.041867</td>\n",
       "      <td>0.215527</td>\n",
       "      <td>0.151956</td>\n",
       "      <td>0.105189</td>\n",
       "      <td>0.230704</td>\n",
       "      <td>-0.162667</td>\n",
       "      <td>-0.207161</td>\n",
       "      <td>-0.106317</td>\n",
       "      <td>-0.207161</td>\n",
       "    </tr>\n",
       "    <tr>\n",
       "      <th>7</th>\n",
       "      <td>2014-12-31</td>\n",
       "      <td>70</td>\n",
       "      <td>0.013406</td>\n",
       "      <td>0.017472</td>\n",
       "      <td>0.099763</td>\n",
       "      <td>0.043041</td>\n",
       "      <td>0.201174</td>\n",
       "      <td>-0.041130</td>\n",
       "      <td>-0.041130</td>\n",
       "      <td>-0.100933</td>\n",
       "      <td>-0.155817</td>\n",
       "    </tr>\n",
       "    <tr>\n",
       "      <th>8</th>\n",
       "      <td>2015-03-31</td>\n",
       "      <td>71</td>\n",
       "      <td>0.018974</td>\n",
       "      <td>-0.044439</td>\n",
       "      <td>0.171261</td>\n",
       "      <td>0.111305</td>\n",
       "      <td>0.388086</td>\n",
       "      <td>-0.139271</td>\n",
       "      <td>-0.124998</td>\n",
       "      <td>-0.153799</td>\n",
       "      <td>-0.171955</td>\n",
       "    </tr>\n",
       "    <tr>\n",
       "      <th>9</th>\n",
       "      <td>2015-06-30</td>\n",
       "      <td>71</td>\n",
       "      <td>-0.057272</td>\n",
       "      <td>0.132804</td>\n",
       "      <td>0.132804</td>\n",
       "      <td>0.132804</td>\n",
       "      <td>0.170299</td>\n",
       "      <td>-0.337120</td>\n",
       "      <td>-0.337120</td>\n",
       "      <td>-0.289475</td>\n",
       "      <td>-0.347668</td>\n",
       "    </tr>\n",
       "    <tr>\n",
       "      <th>10</th>\n",
       "      <td>2015-09-30</td>\n",
       "      <td>70</td>\n",
       "      <td>0.080331</td>\n",
       "      <td>0.361149</td>\n",
       "      <td>0.151766</td>\n",
       "      <td>0.361367</td>\n",
       "      <td>0.414163</td>\n",
       "      <td>-0.088163</td>\n",
       "      <td>-0.073897</td>\n",
       "      <td>-0.151921</td>\n",
       "      <td>-0.151921</td>\n",
       "    </tr>\n",
       "    <tr>\n",
       "      <th>11</th>\n",
       "      <td>2015-12-31</td>\n",
       "      <td>67</td>\n",
       "      <td>-0.000571</td>\n",
       "      <td>0.201699</td>\n",
       "      <td>0.166203</td>\n",
       "      <td>0.226536</td>\n",
       "      <td>0.237110</td>\n",
       "      <td>-0.144455</td>\n",
       "      <td>-0.130718</td>\n",
       "      <td>-0.180529</td>\n",
       "      <td>-0.254380</td>\n",
       "    </tr>\n",
       "    <tr>\n",
       "      <th>12</th>\n",
       "      <td>2016-03-31</td>\n",
       "      <td>69</td>\n",
       "      <td>0.023455</td>\n",
       "      <td>0.066572</td>\n",
       "      <td>0.082625</td>\n",
       "      <td>-0.013400</td>\n",
       "      <td>0.191539</td>\n",
       "      <td>-0.030094</td>\n",
       "      <td>-0.030094</td>\n",
       "      <td>0.016146</td>\n",
       "      <td>-0.117596</td>\n",
       "    </tr>\n",
       "    <tr>\n",
       "      <th>13</th>\n",
       "      <td>2016-06-30</td>\n",
       "      <td>70</td>\n",
       "      <td>0.037207</td>\n",
       "      <td>0.030333</td>\n",
       "      <td>0.018778</td>\n",
       "      <td>0.137027</td>\n",
       "      <td>0.254411</td>\n",
       "      <td>-0.104639</td>\n",
       "      <td>-0.104639</td>\n",
       "      <td>-0.032881</td>\n",
       "      <td>-0.172606</td>\n",
       "    </tr>\n",
       "    <tr>\n",
       "      <th>14</th>\n",
       "      <td>2016-09-30</td>\n",
       "      <td>70</td>\n",
       "      <td>0.044731</td>\n",
       "      <td>0.150168</td>\n",
       "      <td>0.129626</td>\n",
       "      <td>0.127886</td>\n",
       "      <td>0.366153</td>\n",
       "      <td>-0.077368</td>\n",
       "      <td>-0.077368</td>\n",
       "      <td>-0.133383</td>\n",
       "      <td>-0.145840</td>\n",
       "    </tr>\n",
       "    <tr>\n",
       "      <th>15</th>\n",
       "      <td>2016-12-31</td>\n",
       "      <td>68</td>\n",
       "      <td>0.052059</td>\n",
       "      <td>0.076077</td>\n",
       "      <td>0.090093</td>\n",
       "      <td>0.173250</td>\n",
       "      <td>0.259136</td>\n",
       "      <td>0.135867</td>\n",
       "      <td>0.180263</td>\n",
       "      <td>0.068168</td>\n",
       "      <td>-0.107481</td>\n",
       "    </tr>\n",
       "    <tr>\n",
       "      <th>16</th>\n",
       "      <td>2017-03-31</td>\n",
       "      <td>68</td>\n",
       "      <td>0.045745</td>\n",
       "      <td>0.146408</td>\n",
       "      <td>0.206821</td>\n",
       "      <td>0.181882</td>\n",
       "      <td>0.271446</td>\n",
       "      <td>0.039321</td>\n",
       "      <td>0.039321</td>\n",
       "      <td>-0.057973</td>\n",
       "      <td>-0.112118</td>\n",
       "    </tr>\n",
       "    <tr>\n",
       "      <th>17</th>\n",
       "      <td>2017-06-30</td>\n",
       "      <td>70</td>\n",
       "      <td>0.048123</td>\n",
       "      <td>0.142813</td>\n",
       "      <td>0.085962</td>\n",
       "      <td>0.092630</td>\n",
       "      <td>0.230773</td>\n",
       "      <td>-0.065365</td>\n",
       "      <td>-0.035777</td>\n",
       "      <td>-0.065365</td>\n",
       "      <td>-0.097845</td>\n",
       "    </tr>\n",
       "    <tr>\n",
       "      <th>18</th>\n",
       "      <td>2017-09-30</td>\n",
       "      <td>70</td>\n",
       "      <td>0.047354</td>\n",
       "      <td>0.156481</td>\n",
       "      <td>0.156481</td>\n",
       "      <td>0.177366</td>\n",
       "      <td>0.238337</td>\n",
       "      <td>-0.138096</td>\n",
       "      <td>-0.138096</td>\n",
       "      <td>-0.175253</td>\n",
       "      <td>-0.218836</td>\n",
       "    </tr>\n",
       "    <tr>\n",
       "      <th>19</th>\n",
       "      <td>2017-12-31</td>\n",
       "      <td>67</td>\n",
       "      <td>-0.001274</td>\n",
       "      <td>0.239128</td>\n",
       "      <td>-0.023322</td>\n",
       "      <td>0.184518</td>\n",
       "      <td>0.312132</td>\n",
       "      <td>-0.076048</td>\n",
       "      <td>-0.076048</td>\n",
       "      <td>-0.067911</td>\n",
       "      <td>-0.171559</td>\n",
       "    </tr>\n",
       "    <tr>\n",
       "      <th>20</th>\n",
       "      <td>2018-03-31</td>\n",
       "      <td>68</td>\n",
       "      <td>0.034133</td>\n",
       "      <td>0.157350</td>\n",
       "      <td>0.207710</td>\n",
       "      <td>0.135489</td>\n",
       "      <td>0.368502</td>\n",
       "      <td>0.021433</td>\n",
       "      <td>0.058803</td>\n",
       "      <td>-0.121483</td>\n",
       "      <td>-0.147422</td>\n",
       "    </tr>\n",
       "    <tr>\n",
       "      <th>21</th>\n",
       "      <td>2018-06-30</td>\n",
       "      <td>69</td>\n",
       "      <td>0.078557</td>\n",
       "      <td>0.468603</td>\n",
       "      <td>0.435549</td>\n",
       "      <td>0.432701</td>\n",
       "      <td>0.533932</td>\n",
       "      <td>-0.192879</td>\n",
       "      <td>-0.192879</td>\n",
       "      <td>-0.057047</td>\n",
       "      <td>-0.214064</td>\n",
       "    </tr>\n",
       "    <tr>\n",
       "      <th>22</th>\n",
       "      <td>2018-09-30</td>\n",
       "      <td>70</td>\n",
       "      <td>-0.118264</td>\n",
       "      <td>-0.081530</td>\n",
       "      <td>-0.069913</td>\n",
       "      <td>0.087509</td>\n",
       "      <td>0.165056</td>\n",
       "      <td>-0.312372</td>\n",
       "      <td>-0.264829</td>\n",
       "      <td>-0.243883</td>\n",
       "      <td>-0.366786</td>\n",
       "    </tr>\n",
       "    <tr>\n",
       "      <th>23</th>\n",
       "      <td>2018-12-31</td>\n",
       "      <td>68</td>\n",
       "      <td>0.122503</td>\n",
       "      <td>0.334035</td>\n",
       "      <td>0.240194</td>\n",
       "      <td>0.338186</td>\n",
       "      <td>0.344756</td>\n",
       "      <td>-0.111286</td>\n",
       "      <td>-0.111286</td>\n",
       "      <td>-0.045249</td>\n",
       "      <td>-0.153700</td>\n",
       "    </tr>\n",
       "    <tr>\n",
       "      <th>24</th>\n",
       "      <td>2019-03-31</td>\n",
       "      <td>68</td>\n",
       "      <td>0.036156</td>\n",
       "      <td>0.116855</td>\n",
       "      <td>0.105108</td>\n",
       "      <td>0.193820</td>\n",
       "      <td>0.276294</td>\n",
       "      <td>-0.226584</td>\n",
       "      <td>-0.128632</td>\n",
       "      <td>-0.123606</td>\n",
       "      <td>-0.226584</td>\n",
       "    </tr>\n",
       "    <tr>\n",
       "      <th>25</th>\n",
       "      <td>2019-06-30</td>\n",
       "      <td>69</td>\n",
       "      <td>0.011335</td>\n",
       "      <td>0.156920</td>\n",
       "      <td>0.162134</td>\n",
       "      <td>0.156014</td>\n",
       "      <td>0.191488</td>\n",
       "      <td>-0.105467</td>\n",
       "      <td>-0.105467</td>\n",
       "      <td>-0.151175</td>\n",
       "      <td>-0.196863</td>\n",
       "    </tr>\n",
       "    <tr>\n",
       "      <th>26</th>\n",
       "      <td>2019-09-30</td>\n",
       "      <td>68</td>\n",
       "      <td>0.093054</td>\n",
       "      <td>0.416964</td>\n",
       "      <td>0.416964</td>\n",
       "      <td>0.446212</td>\n",
       "      <td>0.557413</td>\n",
       "      <td>0.012864</td>\n",
       "      <td>0.012864</td>\n",
       "      <td>-0.068179</td>\n",
       "      <td>-0.140492</td>\n",
       "    </tr>\n",
       "    <tr>\n",
       "      <th>27</th>\n",
       "      <td>2019-12-31</td>\n",
       "      <td>67</td>\n",
       "      <td>-0.202941</td>\n",
       "      <td>0.039618</td>\n",
       "      <td>0.065767</td>\n",
       "      <td>-0.073724</td>\n",
       "      <td>0.237844</td>\n",
       "      <td>-0.175272</td>\n",
       "      <td>-0.286860</td>\n",
       "      <td>-0.299269</td>\n",
       "      <td>-0.590980</td>\n",
       "    </tr>\n",
       "  </tbody>\n",
       "</table>\n",
       "</div>"
      ],
      "text/plain": [
       "      datadate  stocks  baseline  top_10_xgb3  top_10_xgb  top_10_rank  \\\n",
       "0   2013-03-31      70  0.077383     0.287450    0.287450     0.287450   \n",
       "1   2013-06-30      69  0.081841     0.510726    0.451609     0.510726   \n",
       "2   2013-09-30      70  0.105676     0.168220    0.195744     0.242487   \n",
       "3   2013-12-31      70  0.030107     0.148058    0.148058     0.148058   \n",
       "4   2014-03-31      70  0.031233     0.019502    0.012541     0.048605   \n",
       "5   2014-06-30      72  0.021678     0.048057    0.089478     0.091654   \n",
       "6   2014-09-30      71  0.041867     0.215527    0.151956     0.105189   \n",
       "7   2014-12-31      70  0.013406     0.017472    0.099763     0.043041   \n",
       "8   2015-03-31      71  0.018974    -0.044439    0.171261     0.111305   \n",
       "9   2015-06-30      71 -0.057272     0.132804    0.132804     0.132804   \n",
       "10  2015-09-30      70  0.080331     0.361149    0.151766     0.361367   \n",
       "11  2015-12-31      67 -0.000571     0.201699    0.166203     0.226536   \n",
       "12  2016-03-31      69  0.023455     0.066572    0.082625    -0.013400   \n",
       "13  2016-06-30      70  0.037207     0.030333    0.018778     0.137027   \n",
       "14  2016-09-30      70  0.044731     0.150168    0.129626     0.127886   \n",
       "15  2016-12-31      68  0.052059     0.076077    0.090093     0.173250   \n",
       "16  2017-03-31      68  0.045745     0.146408    0.206821     0.181882   \n",
       "17  2017-06-30      70  0.048123     0.142813    0.085962     0.092630   \n",
       "18  2017-09-30      70  0.047354     0.156481    0.156481     0.177366   \n",
       "19  2017-12-31      67 -0.001274     0.239128   -0.023322     0.184518   \n",
       "20  2018-03-31      68  0.034133     0.157350    0.207710     0.135489   \n",
       "21  2018-06-30      69  0.078557     0.468603    0.435549     0.432701   \n",
       "22  2018-09-30      70 -0.118264    -0.081530   -0.069913     0.087509   \n",
       "23  2018-12-31      68  0.122503     0.334035    0.240194     0.338186   \n",
       "24  2019-03-31      68  0.036156     0.116855    0.105108     0.193820   \n",
       "25  2019-06-30      69  0.011335     0.156920    0.162134     0.156014   \n",
       "26  2019-09-30      68  0.093054     0.416964    0.416964     0.446212   \n",
       "27  2019-12-31      67 -0.202941     0.039618    0.065767    -0.073724   \n",
       "\n",
       "    top_10_ideal  bottom_10_xgb  bottom_10_xgb3  bottom_10_rank  \\\n",
       "0       0.902758      -0.058295       -0.058295       -0.058295   \n",
       "1       0.761617      -0.028207       -0.056417       -0.071172   \n",
       "2       0.320609      -0.094076       -0.031308       -0.039739   \n",
       "3       0.318063      -0.018598       -0.018598        0.035645   \n",
       "4       0.227395      -0.024054       -0.114129       -0.195668   \n",
       "5       0.236063      -0.054955       -0.054955       -0.064749   \n",
       "6       0.230704      -0.162667       -0.207161       -0.106317   \n",
       "7       0.201174      -0.041130       -0.041130       -0.100933   \n",
       "8       0.388086      -0.139271       -0.124998       -0.153799   \n",
       "9       0.170299      -0.337120       -0.337120       -0.289475   \n",
       "10      0.414163      -0.088163       -0.073897       -0.151921   \n",
       "11      0.237110      -0.144455       -0.130718       -0.180529   \n",
       "12      0.191539      -0.030094       -0.030094        0.016146   \n",
       "13      0.254411      -0.104639       -0.104639       -0.032881   \n",
       "14      0.366153      -0.077368       -0.077368       -0.133383   \n",
       "15      0.259136       0.135867        0.180263        0.068168   \n",
       "16      0.271446       0.039321        0.039321       -0.057973   \n",
       "17      0.230773      -0.065365       -0.035777       -0.065365   \n",
       "18      0.238337      -0.138096       -0.138096       -0.175253   \n",
       "19      0.312132      -0.076048       -0.076048       -0.067911   \n",
       "20      0.368502       0.021433        0.058803       -0.121483   \n",
       "21      0.533932      -0.192879       -0.192879       -0.057047   \n",
       "22      0.165056      -0.312372       -0.264829       -0.243883   \n",
       "23      0.344756      -0.111286       -0.111286       -0.045249   \n",
       "24      0.276294      -0.226584       -0.128632       -0.123606   \n",
       "25      0.191488      -0.105467       -0.105467       -0.151175   \n",
       "26      0.557413       0.012864        0.012864       -0.068179   \n",
       "27      0.237844      -0.175272       -0.286860       -0.299269   \n",
       "\n",
       "    bottom_10_ideal  \n",
       "0         -0.154523  \n",
       "1         -0.092545  \n",
       "2         -0.142566  \n",
       "3         -0.127698  \n",
       "4         -0.238462  \n",
       "5         -0.145233  \n",
       "6         -0.207161  \n",
       "7         -0.155817  \n",
       "8         -0.171955  \n",
       "9         -0.347668  \n",
       "10        -0.151921  \n",
       "11        -0.254380  \n",
       "12        -0.117596  \n",
       "13        -0.172606  \n",
       "14        -0.145840  \n",
       "15        -0.107481  \n",
       "16        -0.112118  \n",
       "17        -0.097845  \n",
       "18        -0.218836  \n",
       "19        -0.171559  \n",
       "20        -0.147422  \n",
       "21        -0.214064  \n",
       "22        -0.366786  \n",
       "23        -0.153700  \n",
       "24        -0.226584  \n",
       "25        -0.196863  \n",
       "26        -0.140492  \n",
       "27        -0.590980  "
      ]
     },
     "execution_count": 55,
     "metadata": {},
     "output_type": "execute_result"
    }
   ],
   "source": [
    "def softmax_weighted_return(df, sort_col, target_col, n=5, largest=True):\n",
    "    if largest:\n",
    "        selected = df.nlargest(n, sort_col)\n",
    "    else:\n",
    "        selected = df.nsmallest(n, sort_col)\n",
    "    # Compute softmax weights from the predicted scores:\n",
    "    e_scores = np.exp(selected[sort_col])\n",
    "    weights = e_scores / e_scores.sum()\n",
    "    return (selected[target_col] * weights).sum()\n",
    "\n",
    "def exponential_weighted_return(df, sort_col, target_col, n=3, largest=True, alpha=0):\n",
    "    if largest:\n",
    "        selected = df.nlargest(n, sort_col)\n",
    "    else:\n",
    "        selected = df.nsmallest(n, sort_col)\n",
    "    selected = selected.sort_values(by=sort_col, ascending=not largest).copy()\n",
    "    selected['rank'] = range(1, len(selected) + 1)\n",
    "    # Exponential weights: weight = exp(-alpha * (rank - 1))\n",
    "    selected['weight'] = np.exp(-alpha * (selected['rank'] - 1))\n",
    "    selected['weight'] /= selected['weight'].sum()  # Normalize weights\n",
    "    return (selected[target_col] * selected['weight']).sum()\n",
    "\n",
    "\n",
    "# Baseline aggregation remains unchanged.\n",
    "df_avg = results.groupby('datadate').agg(\n",
    "    stocks=('next_prccq_change', 'size'),\n",
    "    baseline=('next_prccq_change', 'mean')\n",
    ").reset_index()\n",
    "\n",
    "# For the predicted top 10, weight by predicted returns ('pred_rank_score')\n",
    "df_avg['top_10_xgb3'] = results.groupby('datadate').apply(\n",
    "    lambda group: exponential_weighted_return(\n",
    "        group,\n",
    "        sort_col='y_pred3',\n",
    "        target_col='next_prccq_change',\n",
    "        largest=True\n",
    "    )\n",
    ").reset_index(level=0, drop=True)\n",
    "\n",
    "# For the predicted top 10, weight by predicted returns ('pred_rank_score')\n",
    "df_avg['top_10_xgb'] = results.groupby('datadate').apply(\n",
    "    lambda group: exponential_weighted_return(\n",
    "        group,\n",
    "        sort_col='y_pred1',\n",
    "        target_col='next_prccq_change',\n",
    "        largest=True\n",
    "    )\n",
    ").reset_index(level=0, drop=True)\n",
    "\n",
    "# For the predicted top 10, weight by predicted returns ('pred_rank_score')\n",
    "df_avg['top_10_rank'] = results.groupby('datadate').apply(\n",
    "    lambda group: exponential_weighted_return(\n",
    "        group,\n",
    "        sort_col='y_pred2',\n",
    "        target_col='next_prccq_change',\n",
    "        largest=True\n",
    "    )\n",
    ").reset_index(level=0, drop=True)\n",
    "\n",
    "# For the ideal top 10, weight by the actual returns\n",
    "df_avg['top_10_ideal'] = results.groupby('datadate').apply(\n",
    "    lambda group: exponential_weighted_return(\n",
    "        group,\n",
    "        sort_col='next_prccq_change',\n",
    "        target_col='next_prccq_change',\n",
    "        largest=True\n",
    "    )\n",
    ").reset_index(level=0, drop=True)\n",
    "\n",
    "# For the predicted bottom 10, weight by predicted returns\n",
    "df_avg['bottom_10_xgb'] = results.groupby('datadate').apply(\n",
    "    lambda group: exponential_weighted_return(\n",
    "        group,\n",
    "        sort_col='y_pred1',\n",
    "        target_col='next_prccq_change',\n",
    "        largest=False\n",
    "    )\n",
    ").reset_index(level=0, drop=True)\n",
    "\n",
    "# For the predicted bottom 10, weight by predicted returns\n",
    "df_avg['bottom_10_xgb3'] = results.groupby('datadate').apply(\n",
    "    lambda group: exponential_weighted_return(\n",
    "        group,\n",
    "        sort_col='y_pred3',\n",
    "        target_col='next_prccq_change',\n",
    "        largest=False\n",
    "    )\n",
    ").reset_index(level=0, drop=True)\n",
    "\n",
    "# For the predicted bottom 10, weight by predicted returns\n",
    "df_avg['bottom_10_rank'] = results.groupby('datadate').apply(\n",
    "    lambda group: exponential_weighted_return(\n",
    "        group,\n",
    "        sort_col='y_pred2',\n",
    "        target_col='next_prccq_change',\n",
    "        largest=False\n",
    "    )\n",
    ").reset_index(level=0, drop=True)\n",
    "\n",
    "# For the ideal bottom 10, weight by the actual returns\n",
    "df_avg['bottom_10_ideal'] = results.groupby('datadate').apply(\n",
    "    lambda group: exponential_weighted_return(\n",
    "        group,\n",
    "        sort_col='next_prccq_change',\n",
    "        target_col='next_prccq_change',\n",
    "        largest=False\n",
    "    )\n",
    ").reset_index(level=0, drop=True)\n",
    "\n",
    "# Display the first 100 rows of the new dataframe\n",
    "df_avg.head(100)\n"
   ]
  },
  {
   "cell_type": "code",
   "execution_count": 56,
   "metadata": {},
   "outputs": [
    {
     "name": "stdout",
     "output_type": "stream",
     "text": [
      "Mean quarterly return of the baseline portfolio: 0.0284\n",
      "Sortino Ratio of the baseline portfolio: 0.1127\n",
      "\n",
      "Mean quarterly return of the top_10_xgb3 portfolio: 0.1673\n",
      "Sortino Ratio of the top_10_xgb3 portfolio: 3.4404\n",
      "\n",
      "Mean quarterly return of the top_10_xgb portfolio: 0.1560\n",
      "Sortino Ratio of the top_10_xgb portfolio: 3.8543\n",
      "\n",
      "Mean quarterly return of the top_10_rank portfolio: 0.1817\n",
      "Sortino Ratio of the top_10_rank portfolio: 5.3599\n",
      "\n",
      "Mean quarterly return of the top_10_ideal portfolio: 0.3288\n",
      "Sortino Ratio of the top_10_ideal portfolio: nan\n",
      "\n",
      "Mean quarterly return of the bottom_10_xgb3 portfolio: -0.0896\n",
      "Sortino Ratio of the bottom_10_xgb3 portfolio: 1.0234\n",
      "\n",
      "Mean quarterly return of the bottom_10_rank portfolio: -0.1048\n",
      "Sortino Ratio of the bottom_10_rank portfolio: 3.9533\n",
      "\n",
      "Mean quarterly return of the bottom_10_ideal portfolio: -0.1918\n",
      "Sortino Ratio of the bottom_10_ideal portfolio: nan\n",
      "\n"
     ]
    }
   ],
   "source": [
    "risk_free_rate = 0.02  # 2% annual risk-free rate, approximated quarterly\n",
    "\n",
    "for portfolio in ['baseline', 'top_10_xgb3', 'top_10_xgb', 'top_10_rank', 'top_10_ideal']:\n",
    "    \n",
    "    returns = df_avg[portfolio]\n",
    "    mean_return = returns.mean()\n",
    "    \n",
    "    # Calculate downside deviation: only consider returns below the risk-free rate\n",
    "    downside_returns = returns[returns < risk_free_rate]\n",
    "    downside_deviation = np.std(downside_returns) if len(downside_returns) > 0 else 0\n",
    "    \n",
    "    # Compute excess return\n",
    "    excess_return = mean_return - risk_free_rate\n",
    "    \n",
    "    # Avoid division by zero\n",
    "    sortino_ratio = excess_return / downside_deviation if downside_deviation > 0 else np.nan\n",
    "    \n",
    "    print(f\"Mean quarterly return of the {portfolio} portfolio: {mean_return:.4f}\")\n",
    "    #print(f\"Downside deviation of the {portfolio} portfolio: {downside_deviation:.4f}\")\n",
    "    print(f\"Sortino Ratio of the {portfolio} portfolio: {sortino_ratio:.4f}\")\n",
    "    print(\"\")\n",
    "\n",
    "\n",
    "for portfolio in ['bottom_10_xgb3', 'bottom_10_rank', 'bottom_10_ideal']:\n",
    "    \n",
    "    returns = df_avg[portfolio]\n",
    "    mean_return = returns.mean()\n",
    "    \n",
    "    # Calculate downside deviation: only consider returns below the risk-free rate\n",
    "    downside_returns = returns[returns > -1 * risk_free_rate]\n",
    "    downside_deviation = np.std(downside_returns) if len(downside_returns) > 0 else 0\n",
    "    \n",
    "    # Compute excess return\n",
    "    excess_return = np.abs(mean_return) - risk_free_rate\n",
    "    \n",
    "    # Avoid division by zero\n",
    "    sortino_ratio = excess_return / downside_deviation if downside_deviation > 0 else np.nan\n",
    "    \n",
    "    print(f\"Mean quarterly return of the {portfolio} portfolio: {mean_return:.4f}\")\n",
    "    #print(f\"Downside deviation of the {portfolio} portfolio: {downside_deviation:.4f}\")\n",
    "    print(f\"Sortino Ratio of the {portfolio} portfolio: {sortino_ratio:.4f}\")\n",
    "    print(\"\")"
   ]
  },
  {
   "cell_type": "code",
   "execution_count": null,
   "metadata": {},
   "outputs": [
    {
     "data": {
      "application/vnd.plotly.v1+json": {
       "config": {
        "plotlyServerURL": "https://plot.ly"
       },
       "data": [
        {
         "mode": "lines",
         "name": "Baseline Portfolio",
         "type": "scatter",
         "x": [
          "2013-03-31",
          "2013-06-30",
          "2013-09-30",
          "2013-12-31",
          "2014-03-31",
          "2014-06-30",
          "2014-09-30",
          "2014-12-31",
          "2015-03-31",
          "2015-06-30",
          "2015-09-30",
          "2015-12-31",
          "2016-03-31",
          "2016-06-30",
          "2016-09-30",
          "2016-12-31",
          "2017-03-31",
          "2017-06-30",
          "2017-09-30",
          "2017-12-31",
          "2018-03-31",
          "2018-06-30",
          "2018-09-30",
          "2018-12-31",
          "2019-03-31",
          "2019-06-30",
          "2019-09-30",
          "2019-12-31"
         ],
         "y": [
          1077.3830602934809,
          1165.5571278902469,
          1288.7286317455043,
          1327.5279747946074,
          1368.9908747046672,
          1398.6674889928238,
          1457.225622298827,
          1476.7613185210196,
          1504.7808075212147,
          1418.5995802553198,
          1532.556955556495,
          1531.6820592239962,
          1567.6081814680135,
          1625.9342649349344,
          1698.6635196001841,
          1787.093903280934,
          1868.8445337275575,
          1958.7789506801857,
          2051.534908902155,
          2048.9209183495122,
          2118.856633690162,
          2285.3078537119236,
          2015.038258388376,
          2261.8869686464413,
          2343.6678440749947,
          2370.233024163677,
          2590.7927713224713,
          2065.0138882200326
         ]
        },
        {
         "mode": "lines",
         "name": "XGB Portfolio",
         "type": "scatter",
         "x": [
          "2013-03-31",
          "2013-06-30",
          "2013-09-30",
          "2013-12-31",
          "2014-03-31",
          "2014-06-30",
          "2014-09-30",
          "2014-12-31",
          "2015-03-31",
          "2015-06-30",
          "2015-09-30",
          "2015-12-31",
          "2016-03-31",
          "2016-06-30",
          "2016-09-30",
          "2016-12-31",
          "2017-03-31",
          "2017-06-30",
          "2017-09-30",
          "2017-12-31",
          "2018-03-31",
          "2018-06-30",
          "2018-09-30",
          "2018-12-31",
          "2019-03-31",
          "2019-06-30",
          "2019-09-30",
          "2019-12-31"
         ],
         "y": [
          1409.7357202816072,
          2373.7570115766057,
          2684.9086756147562,
          3401.3999340512373,
          3484.641935284805,
          3865.2745291559913,
          4466.842698389515,
          4624.078633544558,
          4885.220109952616,
          5449.565677326917,
          6310.069703193925,
          6681.252364748365,
          6996.443644417293,
          6907.214876328338,
          8410.90237744947,
          8880.981036971365,
          11195.034720057323,
          11880.467464762192,
          14214.092631045014,
          15435.106111113075,
          17074.74921375589,
          22476.742868298872,
          20924.853003064407,
          27142.945464365606,
          29373.091081062,
          33382.86618822807,
          45687.22265127593,
          52234.93869283781
         ]
        },
        {
         "mode": "lines",
         "name": "XGB Ranking Portfolio",
         "type": "scatter",
         "x": [
          "2013-03-31",
          "2013-06-30",
          "2013-09-30",
          "2013-12-31",
          "2014-03-31",
          "2014-06-30",
          "2014-09-30",
          "2014-12-31",
          "2015-03-31",
          "2015-06-30",
          "2015-09-30",
          "2015-12-31",
          "2016-03-31",
          "2016-06-30",
          "2016-09-30",
          "2016-12-31",
          "2017-03-31",
          "2017-06-30",
          "2017-09-30",
          "2017-12-31",
          "2018-03-31",
          "2018-06-30",
          "2018-09-30",
          "2018-12-31",
          "2019-03-31",
          "2019-06-30",
          "2019-09-30",
          "2019-12-31"
         ],
         "y": [
          1452.4287995813606,
          2524.498927962397,
          3262.8672125872326,
          4071.193436069654,
          4270.94644796104,
          4692.612373555959,
          5557.466338526196,
          6308.514265243705,
          7998.871765798829,
          9035.442506674835,
          13581.387328878738,
          16878.679479765575,
          16960.197502856885,
          19510.50194783453,
          22372.301690340988,
          26077.086270403466,
          31111.385856828092,
          32983.26095443781,
          38525.18406260949,
          50953.90792486943,
          55501.05170303746,
          95831.71685950655,
          105533.62852475574,
          137601.11860026416,
          159473.07581624604,
          190800.52319677937,
          300594.72163008165,
          323636.816995436
         ]
        }
       ],
       "layout": {
        "template": {
         "data": {
          "bar": [
           {
            "error_x": {
             "color": "#2a3f5f"
            },
            "error_y": {
             "color": "#2a3f5f"
            },
            "marker": {
             "line": {
              "color": "#E5ECF6",
              "width": 0.5
             },
             "pattern": {
              "fillmode": "overlay",
              "size": 10,
              "solidity": 0.2
             }
            },
            "type": "bar"
           }
          ],
          "barpolar": [
           {
            "marker": {
             "line": {
              "color": "#E5ECF6",
              "width": 0.5
             },
             "pattern": {
              "fillmode": "overlay",
              "size": 10,
              "solidity": 0.2
             }
            },
            "type": "barpolar"
           }
          ],
          "carpet": [
           {
            "aaxis": {
             "endlinecolor": "#2a3f5f",
             "gridcolor": "white",
             "linecolor": "white",
             "minorgridcolor": "white",
             "startlinecolor": "#2a3f5f"
            },
            "baxis": {
             "endlinecolor": "#2a3f5f",
             "gridcolor": "white",
             "linecolor": "white",
             "minorgridcolor": "white",
             "startlinecolor": "#2a3f5f"
            },
            "type": "carpet"
           }
          ],
          "choropleth": [
           {
            "colorbar": {
             "outlinewidth": 0,
             "ticks": ""
            },
            "type": "choropleth"
           }
          ],
          "contour": [
           {
            "colorbar": {
             "outlinewidth": 0,
             "ticks": ""
            },
            "colorscale": [
             [
              0,
              "#0d0887"
             ],
             [
              0.1111111111111111,
              "#46039f"
             ],
             [
              0.2222222222222222,
              "#7201a8"
             ],
             [
              0.3333333333333333,
              "#9c179e"
             ],
             [
              0.4444444444444444,
              "#bd3786"
             ],
             [
              0.5555555555555556,
              "#d8576b"
             ],
             [
              0.6666666666666666,
              "#ed7953"
             ],
             [
              0.7777777777777778,
              "#fb9f3a"
             ],
             [
              0.8888888888888888,
              "#fdca26"
             ],
             [
              1,
              "#f0f921"
             ]
            ],
            "type": "contour"
           }
          ],
          "contourcarpet": [
           {
            "colorbar": {
             "outlinewidth": 0,
             "ticks": ""
            },
            "type": "contourcarpet"
           }
          ],
          "heatmap": [
           {
            "colorbar": {
             "outlinewidth": 0,
             "ticks": ""
            },
            "colorscale": [
             [
              0,
              "#0d0887"
             ],
             [
              0.1111111111111111,
              "#46039f"
             ],
             [
              0.2222222222222222,
              "#7201a8"
             ],
             [
              0.3333333333333333,
              "#9c179e"
             ],
             [
              0.4444444444444444,
              "#bd3786"
             ],
             [
              0.5555555555555556,
              "#d8576b"
             ],
             [
              0.6666666666666666,
              "#ed7953"
             ],
             [
              0.7777777777777778,
              "#fb9f3a"
             ],
             [
              0.8888888888888888,
              "#fdca26"
             ],
             [
              1,
              "#f0f921"
             ]
            ],
            "type": "heatmap"
           }
          ],
          "heatmapgl": [
           {
            "colorbar": {
             "outlinewidth": 0,
             "ticks": ""
            },
            "colorscale": [
             [
              0,
              "#0d0887"
             ],
             [
              0.1111111111111111,
              "#46039f"
             ],
             [
              0.2222222222222222,
              "#7201a8"
             ],
             [
              0.3333333333333333,
              "#9c179e"
             ],
             [
              0.4444444444444444,
              "#bd3786"
             ],
             [
              0.5555555555555556,
              "#d8576b"
             ],
             [
              0.6666666666666666,
              "#ed7953"
             ],
             [
              0.7777777777777778,
              "#fb9f3a"
             ],
             [
              0.8888888888888888,
              "#fdca26"
             ],
             [
              1,
              "#f0f921"
             ]
            ],
            "type": "heatmapgl"
           }
          ],
          "histogram": [
           {
            "marker": {
             "pattern": {
              "fillmode": "overlay",
              "size": 10,
              "solidity": 0.2
             }
            },
            "type": "histogram"
           }
          ],
          "histogram2d": [
           {
            "colorbar": {
             "outlinewidth": 0,
             "ticks": ""
            },
            "colorscale": [
             [
              0,
              "#0d0887"
             ],
             [
              0.1111111111111111,
              "#46039f"
             ],
             [
              0.2222222222222222,
              "#7201a8"
             ],
             [
              0.3333333333333333,
              "#9c179e"
             ],
             [
              0.4444444444444444,
              "#bd3786"
             ],
             [
              0.5555555555555556,
              "#d8576b"
             ],
             [
              0.6666666666666666,
              "#ed7953"
             ],
             [
              0.7777777777777778,
              "#fb9f3a"
             ],
             [
              0.8888888888888888,
              "#fdca26"
             ],
             [
              1,
              "#f0f921"
             ]
            ],
            "type": "histogram2d"
           }
          ],
          "histogram2dcontour": [
           {
            "colorbar": {
             "outlinewidth": 0,
             "ticks": ""
            },
            "colorscale": [
             [
              0,
              "#0d0887"
             ],
             [
              0.1111111111111111,
              "#46039f"
             ],
             [
              0.2222222222222222,
              "#7201a8"
             ],
             [
              0.3333333333333333,
              "#9c179e"
             ],
             [
              0.4444444444444444,
              "#bd3786"
             ],
             [
              0.5555555555555556,
              "#d8576b"
             ],
             [
              0.6666666666666666,
              "#ed7953"
             ],
             [
              0.7777777777777778,
              "#fb9f3a"
             ],
             [
              0.8888888888888888,
              "#fdca26"
             ],
             [
              1,
              "#f0f921"
             ]
            ],
            "type": "histogram2dcontour"
           }
          ],
          "mesh3d": [
           {
            "colorbar": {
             "outlinewidth": 0,
             "ticks": ""
            },
            "type": "mesh3d"
           }
          ],
          "parcoords": [
           {
            "line": {
             "colorbar": {
              "outlinewidth": 0,
              "ticks": ""
             }
            },
            "type": "parcoords"
           }
          ],
          "pie": [
           {
            "automargin": true,
            "type": "pie"
           }
          ],
          "scatter": [
           {
            "fillpattern": {
             "fillmode": "overlay",
             "size": 10,
             "solidity": 0.2
            },
            "type": "scatter"
           }
          ],
          "scatter3d": [
           {
            "line": {
             "colorbar": {
              "outlinewidth": 0,
              "ticks": ""
             }
            },
            "marker": {
             "colorbar": {
              "outlinewidth": 0,
              "ticks": ""
             }
            },
            "type": "scatter3d"
           }
          ],
          "scattercarpet": [
           {
            "marker": {
             "colorbar": {
              "outlinewidth": 0,
              "ticks": ""
             }
            },
            "type": "scattercarpet"
           }
          ],
          "scattergeo": [
           {
            "marker": {
             "colorbar": {
              "outlinewidth": 0,
              "ticks": ""
             }
            },
            "type": "scattergeo"
           }
          ],
          "scattergl": [
           {
            "marker": {
             "colorbar": {
              "outlinewidth": 0,
              "ticks": ""
             }
            },
            "type": "scattergl"
           }
          ],
          "scattermapbox": [
           {
            "marker": {
             "colorbar": {
              "outlinewidth": 0,
              "ticks": ""
             }
            },
            "type": "scattermapbox"
           }
          ],
          "scatterpolar": [
           {
            "marker": {
             "colorbar": {
              "outlinewidth": 0,
              "ticks": ""
             }
            },
            "type": "scatterpolar"
           }
          ],
          "scatterpolargl": [
           {
            "marker": {
             "colorbar": {
              "outlinewidth": 0,
              "ticks": ""
             }
            },
            "type": "scatterpolargl"
           }
          ],
          "scatterternary": [
           {
            "marker": {
             "colorbar": {
              "outlinewidth": 0,
              "ticks": ""
             }
            },
            "type": "scatterternary"
           }
          ],
          "surface": [
           {
            "colorbar": {
             "outlinewidth": 0,
             "ticks": ""
            },
            "colorscale": [
             [
              0,
              "#0d0887"
             ],
             [
              0.1111111111111111,
              "#46039f"
             ],
             [
              0.2222222222222222,
              "#7201a8"
             ],
             [
              0.3333333333333333,
              "#9c179e"
             ],
             [
              0.4444444444444444,
              "#bd3786"
             ],
             [
              0.5555555555555556,
              "#d8576b"
             ],
             [
              0.6666666666666666,
              "#ed7953"
             ],
             [
              0.7777777777777778,
              "#fb9f3a"
             ],
             [
              0.8888888888888888,
              "#fdca26"
             ],
             [
              1,
              "#f0f921"
             ]
            ],
            "type": "surface"
           }
          ],
          "table": [
           {
            "cells": {
             "fill": {
              "color": "#EBF0F8"
             },
             "line": {
              "color": "white"
             }
            },
            "header": {
             "fill": {
              "color": "#C8D4E3"
             },
             "line": {
              "color": "white"
             }
            },
            "type": "table"
           }
          ]
         },
         "layout": {
          "annotationdefaults": {
           "arrowcolor": "#2a3f5f",
           "arrowhead": 0,
           "arrowwidth": 1
          },
          "autotypenumbers": "strict",
          "coloraxis": {
           "colorbar": {
            "outlinewidth": 0,
            "ticks": ""
           }
          },
          "colorscale": {
           "diverging": [
            [
             0,
             "#8e0152"
            ],
            [
             0.1,
             "#c51b7d"
            ],
            [
             0.2,
             "#de77ae"
            ],
            [
             0.3,
             "#f1b6da"
            ],
            [
             0.4,
             "#fde0ef"
            ],
            [
             0.5,
             "#f7f7f7"
            ],
            [
             0.6,
             "#e6f5d0"
            ],
            [
             0.7,
             "#b8e186"
            ],
            [
             0.8,
             "#7fbc41"
            ],
            [
             0.9,
             "#4d9221"
            ],
            [
             1,
             "#276419"
            ]
           ],
           "sequential": [
            [
             0,
             "#0d0887"
            ],
            [
             0.1111111111111111,
             "#46039f"
            ],
            [
             0.2222222222222222,
             "#7201a8"
            ],
            [
             0.3333333333333333,
             "#9c179e"
            ],
            [
             0.4444444444444444,
             "#bd3786"
            ],
            [
             0.5555555555555556,
             "#d8576b"
            ],
            [
             0.6666666666666666,
             "#ed7953"
            ],
            [
             0.7777777777777778,
             "#fb9f3a"
            ],
            [
             0.8888888888888888,
             "#fdca26"
            ],
            [
             1,
             "#f0f921"
            ]
           ],
           "sequentialminus": [
            [
             0,
             "#0d0887"
            ],
            [
             0.1111111111111111,
             "#46039f"
            ],
            [
             0.2222222222222222,
             "#7201a8"
            ],
            [
             0.3333333333333333,
             "#9c179e"
            ],
            [
             0.4444444444444444,
             "#bd3786"
            ],
            [
             0.5555555555555556,
             "#d8576b"
            ],
            [
             0.6666666666666666,
             "#ed7953"
            ],
            [
             0.7777777777777778,
             "#fb9f3a"
            ],
            [
             0.8888888888888888,
             "#fdca26"
            ],
            [
             1,
             "#f0f921"
            ]
           ]
          },
          "colorway": [
           "#636efa",
           "#EF553B",
           "#00cc96",
           "#ab63fa",
           "#FFA15A",
           "#19d3f3",
           "#FF6692",
           "#B6E880",
           "#FF97FF",
           "#FECB52"
          ],
          "font": {
           "color": "#2a3f5f"
          },
          "geo": {
           "bgcolor": "white",
           "lakecolor": "white",
           "landcolor": "#E5ECF6",
           "showlakes": true,
           "showland": true,
           "subunitcolor": "white"
          },
          "hoverlabel": {
           "align": "left"
          },
          "hovermode": "closest",
          "mapbox": {
           "style": "light"
          },
          "paper_bgcolor": "rgba(0,0,0,0)",
          "plot_bgcolor": "rgba(250,250,250,0.8)",
          "polar": {
           "angularaxis": {
            "gridcolor": "white",
            "linecolor": "white",
            "ticks": ""
           },
           "bgcolor": "#E5ECF6",
           "radialaxis": {
            "gridcolor": "white",
            "linecolor": "white",
            "ticks": ""
           }
          },
          "scene": {
           "xaxis": {
            "backgroundcolor": "#E5ECF6",
            "gridcolor": "white",
            "gridwidth": 2,
            "linecolor": "white",
            "showbackground": true,
            "ticks": "",
            "zerolinecolor": "white"
           },
           "yaxis": {
            "backgroundcolor": "#E5ECF6",
            "gridcolor": "white",
            "gridwidth": 2,
            "linecolor": "white",
            "showbackground": true,
            "ticks": "",
            "zerolinecolor": "white"
           },
           "zaxis": {
            "backgroundcolor": "#E5ECF6",
            "gridcolor": "white",
            "gridwidth": 2,
            "linecolor": "white",
            "showbackground": true,
            "ticks": "",
            "zerolinecolor": "white"
           }
          },
          "shapedefaults": {
           "line": {
            "color": "#2a3f5f"
           }
          },
          "ternary": {
           "aaxis": {
            "gridcolor": "white",
            "linecolor": "white",
            "ticks": ""
           },
           "baxis": {
            "gridcolor": "white",
            "linecolor": "white",
            "ticks": ""
           },
           "bgcolor": "#E5ECF6",
           "caxis": {
            "gridcolor": "white",
            "linecolor": "white",
            "ticks": ""
           }
          },
          "title": {
           "x": 0.05
          },
          "xaxis": {
           "automargin": true,
           "gridcolor": "white",
           "linecolor": "white",
           "ticks": "",
           "title": {
            "standoff": 15
           },
           "zerolinecolor": "white",
           "zerolinewidth": 2
          },
          "yaxis": {
           "automargin": true,
           "gridcolor": "white",
           "linecolor": "white",
           "ticks": "",
           "title": {
            "standoff": 15
           },
           "zerolinecolor": "white",
           "zerolinewidth": 2
          }
         }
        },
        "title": {
         "text": "Portfolio Value Over Time ($1,000 Investment)"
        },
        "xaxis": {
         "title": {
          "text": "Date"
         }
        },
        "yaxis": {
         "title": {
          "text": "Portfolio Value ($)"
         }
        }
       }
      },
      "text/html": [
       "<div>                            <div id=\"7e215d55-9a8f-402c-9370-635fcd1821e8\" class=\"plotly-graph-div\" style=\"height:525px; width:100%;\"></div>            <script type=\"text/javascript\">                require([\"plotly\"], function(Plotly) {                    window.PLOTLYENV=window.PLOTLYENV || {};                                    if (document.getElementById(\"7e215d55-9a8f-402c-9370-635fcd1821e8\")) {                    Plotly.newPlot(                        \"7e215d55-9a8f-402c-9370-635fcd1821e8\",                        [{\"mode\":\"lines\",\"name\":\"Baseline Portfolio\",\"x\":[\"2013-03-31\",\"2013-06-30\",\"2013-09-30\",\"2013-12-31\",\"2014-03-31\",\"2014-06-30\",\"2014-09-30\",\"2014-12-31\",\"2015-03-31\",\"2015-06-30\",\"2015-09-30\",\"2015-12-31\",\"2016-03-31\",\"2016-06-30\",\"2016-09-30\",\"2016-12-31\",\"2017-03-31\",\"2017-06-30\",\"2017-09-30\",\"2017-12-31\",\"2018-03-31\",\"2018-06-30\",\"2018-09-30\",\"2018-12-31\",\"2019-03-31\",\"2019-06-30\",\"2019-09-30\",\"2019-12-31\"],\"y\":[1077.3830602934809,1165.5571278902469,1288.7286317455043,1327.5279747946074,1368.9908747046672,1398.6674889928238,1457.225622298827,1476.7613185210196,1504.7808075212147,1418.5995802553198,1532.556955556495,1531.6820592239962,1567.6081814680135,1625.9342649349344,1698.6635196001841,1787.093903280934,1868.8445337275575,1958.7789506801857,2051.534908902155,2048.9209183495122,2118.856633690162,2285.3078537119236,2015.038258388376,2261.8869686464413,2343.6678440749947,2370.233024163677,2590.7927713224713,2065.0138882200326],\"type\":\"scatter\"},{\"mode\":\"lines\",\"name\":\"XGB Portfolio\",\"x\":[\"2013-03-31\",\"2013-06-30\",\"2013-09-30\",\"2013-12-31\",\"2014-03-31\",\"2014-06-30\",\"2014-09-30\",\"2014-12-31\",\"2015-03-31\",\"2015-06-30\",\"2015-09-30\",\"2015-12-31\",\"2016-03-31\",\"2016-06-30\",\"2016-09-30\",\"2016-12-31\",\"2017-03-31\",\"2017-06-30\",\"2017-09-30\",\"2017-12-31\",\"2018-03-31\",\"2018-06-30\",\"2018-09-30\",\"2018-12-31\",\"2019-03-31\",\"2019-06-30\",\"2019-09-30\",\"2019-12-31\"],\"y\":[1409.7357202816072,2373.7570115766057,2684.9086756147562,3401.3999340512373,3484.641935284805,3865.2745291559913,4466.842698389515,4624.078633544558,4885.220109952616,5449.565677326917,6310.069703193925,6681.252364748365,6996.443644417293,6907.214876328338,8410.90237744947,8880.981036971365,11195.034720057323,11880.467464762192,14214.092631045014,15435.106111113075,17074.74921375589,22476.742868298872,20924.853003064407,27142.945464365606,29373.091081062,33382.86618822807,45687.22265127593,52234.93869283781],\"type\":\"scatter\"},{\"mode\":\"lines\",\"name\":\"XGB Ranking Portfolio\",\"x\":[\"2013-03-31\",\"2013-06-30\",\"2013-09-30\",\"2013-12-31\",\"2014-03-31\",\"2014-06-30\",\"2014-09-30\",\"2014-12-31\",\"2015-03-31\",\"2015-06-30\",\"2015-09-30\",\"2015-12-31\",\"2016-03-31\",\"2016-06-30\",\"2016-09-30\",\"2016-12-31\",\"2017-03-31\",\"2017-06-30\",\"2017-09-30\",\"2017-12-31\",\"2018-03-31\",\"2018-06-30\",\"2018-09-30\",\"2018-12-31\",\"2019-03-31\",\"2019-06-30\",\"2019-09-30\",\"2019-12-31\"],\"y\":[1452.4287995813606,2524.498927962397,3262.8672125872326,4071.193436069654,4270.94644796104,4692.612373555959,5557.466338526196,6308.514265243705,7998.871765798829,9035.442506674835,13581.387328878738,16878.679479765575,16960.197502856885,19510.50194783453,22372.301690340988,26077.086270403466,31111.385856828092,32983.26095443781,38525.18406260949,50953.90792486943,55501.05170303746,95831.71685950655,105533.62852475574,137601.11860026416,159473.07581624604,190800.52319677937,300594.72163008165,323636.816995436],\"type\":\"scatter\"}],                        {\"template\":{\"data\":{\"barpolar\":[{\"marker\":{\"line\":{\"color\":\"#E5ECF6\",\"width\":0.5},\"pattern\":{\"fillmode\":\"overlay\",\"size\":10,\"solidity\":0.2}},\"type\":\"barpolar\"}],\"bar\":[{\"error_x\":{\"color\":\"#2a3f5f\"},\"error_y\":{\"color\":\"#2a3f5f\"},\"marker\":{\"line\":{\"color\":\"#E5ECF6\",\"width\":0.5},\"pattern\":{\"fillmode\":\"overlay\",\"size\":10,\"solidity\":0.2}},\"type\":\"bar\"}],\"carpet\":[{\"aaxis\":{\"endlinecolor\":\"#2a3f5f\",\"gridcolor\":\"white\",\"linecolor\":\"white\",\"minorgridcolor\":\"white\",\"startlinecolor\":\"#2a3f5f\"},\"baxis\":{\"endlinecolor\":\"#2a3f5f\",\"gridcolor\":\"white\",\"linecolor\":\"white\",\"minorgridcolor\":\"white\",\"startlinecolor\":\"#2a3f5f\"},\"type\":\"carpet\"}],\"choropleth\":[{\"colorbar\":{\"outlinewidth\":0,\"ticks\":\"\"},\"type\":\"choropleth\"}],\"contourcarpet\":[{\"colorbar\":{\"outlinewidth\":0,\"ticks\":\"\"},\"type\":\"contourcarpet\"}],\"contour\":[{\"colorbar\":{\"outlinewidth\":0,\"ticks\":\"\"},\"colorscale\":[[0.0,\"#0d0887\"],[0.1111111111111111,\"#46039f\"],[0.2222222222222222,\"#7201a8\"],[0.3333333333333333,\"#9c179e\"],[0.4444444444444444,\"#bd3786\"],[0.5555555555555556,\"#d8576b\"],[0.6666666666666666,\"#ed7953\"],[0.7777777777777778,\"#fb9f3a\"],[0.8888888888888888,\"#fdca26\"],[1.0,\"#f0f921\"]],\"type\":\"contour\"}],\"heatmapgl\":[{\"colorbar\":{\"outlinewidth\":0,\"ticks\":\"\"},\"colorscale\":[[0.0,\"#0d0887\"],[0.1111111111111111,\"#46039f\"],[0.2222222222222222,\"#7201a8\"],[0.3333333333333333,\"#9c179e\"],[0.4444444444444444,\"#bd3786\"],[0.5555555555555556,\"#d8576b\"],[0.6666666666666666,\"#ed7953\"],[0.7777777777777778,\"#fb9f3a\"],[0.8888888888888888,\"#fdca26\"],[1.0,\"#f0f921\"]],\"type\":\"heatmapgl\"}],\"heatmap\":[{\"colorbar\":{\"outlinewidth\":0,\"ticks\":\"\"},\"colorscale\":[[0.0,\"#0d0887\"],[0.1111111111111111,\"#46039f\"],[0.2222222222222222,\"#7201a8\"],[0.3333333333333333,\"#9c179e\"],[0.4444444444444444,\"#bd3786\"],[0.5555555555555556,\"#d8576b\"],[0.6666666666666666,\"#ed7953\"],[0.7777777777777778,\"#fb9f3a\"],[0.8888888888888888,\"#fdca26\"],[1.0,\"#f0f921\"]],\"type\":\"heatmap\"}],\"histogram2dcontour\":[{\"colorbar\":{\"outlinewidth\":0,\"ticks\":\"\"},\"colorscale\":[[0.0,\"#0d0887\"],[0.1111111111111111,\"#46039f\"],[0.2222222222222222,\"#7201a8\"],[0.3333333333333333,\"#9c179e\"],[0.4444444444444444,\"#bd3786\"],[0.5555555555555556,\"#d8576b\"],[0.6666666666666666,\"#ed7953\"],[0.7777777777777778,\"#fb9f3a\"],[0.8888888888888888,\"#fdca26\"],[1.0,\"#f0f921\"]],\"type\":\"histogram2dcontour\"}],\"histogram2d\":[{\"colorbar\":{\"outlinewidth\":0,\"ticks\":\"\"},\"colorscale\":[[0.0,\"#0d0887\"],[0.1111111111111111,\"#46039f\"],[0.2222222222222222,\"#7201a8\"],[0.3333333333333333,\"#9c179e\"],[0.4444444444444444,\"#bd3786\"],[0.5555555555555556,\"#d8576b\"],[0.6666666666666666,\"#ed7953\"],[0.7777777777777778,\"#fb9f3a\"],[0.8888888888888888,\"#fdca26\"],[1.0,\"#f0f921\"]],\"type\":\"histogram2d\"}],\"histogram\":[{\"marker\":{\"pattern\":{\"fillmode\":\"overlay\",\"size\":10,\"solidity\":0.2}},\"type\":\"histogram\"}],\"mesh3d\":[{\"colorbar\":{\"outlinewidth\":0,\"ticks\":\"\"},\"type\":\"mesh3d\"}],\"parcoords\":[{\"line\":{\"colorbar\":{\"outlinewidth\":0,\"ticks\":\"\"}},\"type\":\"parcoords\"}],\"pie\":[{\"automargin\":true,\"type\":\"pie\"}],\"scatter3d\":[{\"line\":{\"colorbar\":{\"outlinewidth\":0,\"ticks\":\"\"}},\"marker\":{\"colorbar\":{\"outlinewidth\":0,\"ticks\":\"\"}},\"type\":\"scatter3d\"}],\"scattercarpet\":[{\"marker\":{\"colorbar\":{\"outlinewidth\":0,\"ticks\":\"\"}},\"type\":\"scattercarpet\"}],\"scattergeo\":[{\"marker\":{\"colorbar\":{\"outlinewidth\":0,\"ticks\":\"\"}},\"type\":\"scattergeo\"}],\"scattergl\":[{\"marker\":{\"colorbar\":{\"outlinewidth\":0,\"ticks\":\"\"}},\"type\":\"scattergl\"}],\"scattermapbox\":[{\"marker\":{\"colorbar\":{\"outlinewidth\":0,\"ticks\":\"\"}},\"type\":\"scattermapbox\"}],\"scatterpolargl\":[{\"marker\":{\"colorbar\":{\"outlinewidth\":0,\"ticks\":\"\"}},\"type\":\"scatterpolargl\"}],\"scatterpolar\":[{\"marker\":{\"colorbar\":{\"outlinewidth\":0,\"ticks\":\"\"}},\"type\":\"scatterpolar\"}],\"scatter\":[{\"fillpattern\":{\"fillmode\":\"overlay\",\"size\":10,\"solidity\":0.2},\"type\":\"scatter\"}],\"scatterternary\":[{\"marker\":{\"colorbar\":{\"outlinewidth\":0,\"ticks\":\"\"}},\"type\":\"scatterternary\"}],\"surface\":[{\"colorbar\":{\"outlinewidth\":0,\"ticks\":\"\"},\"colorscale\":[[0.0,\"#0d0887\"],[0.1111111111111111,\"#46039f\"],[0.2222222222222222,\"#7201a8\"],[0.3333333333333333,\"#9c179e\"],[0.4444444444444444,\"#bd3786\"],[0.5555555555555556,\"#d8576b\"],[0.6666666666666666,\"#ed7953\"],[0.7777777777777778,\"#fb9f3a\"],[0.8888888888888888,\"#fdca26\"],[1.0,\"#f0f921\"]],\"type\":\"surface\"}],\"table\":[{\"cells\":{\"fill\":{\"color\":\"#EBF0F8\"},\"line\":{\"color\":\"white\"}},\"header\":{\"fill\":{\"color\":\"#C8D4E3\"},\"line\":{\"color\":\"white\"}},\"type\":\"table\"}]},\"layout\":{\"annotationdefaults\":{\"arrowcolor\":\"#2a3f5f\",\"arrowhead\":0,\"arrowwidth\":1},\"autotypenumbers\":\"strict\",\"coloraxis\":{\"colorbar\":{\"outlinewidth\":0,\"ticks\":\"\"}},\"colorscale\":{\"diverging\":[[0,\"#8e0152\"],[0.1,\"#c51b7d\"],[0.2,\"#de77ae\"],[0.3,\"#f1b6da\"],[0.4,\"#fde0ef\"],[0.5,\"#f7f7f7\"],[0.6,\"#e6f5d0\"],[0.7,\"#b8e186\"],[0.8,\"#7fbc41\"],[0.9,\"#4d9221\"],[1,\"#276419\"]],\"sequential\":[[0.0,\"#0d0887\"],[0.1111111111111111,\"#46039f\"],[0.2222222222222222,\"#7201a8\"],[0.3333333333333333,\"#9c179e\"],[0.4444444444444444,\"#bd3786\"],[0.5555555555555556,\"#d8576b\"],[0.6666666666666666,\"#ed7953\"],[0.7777777777777778,\"#fb9f3a\"],[0.8888888888888888,\"#fdca26\"],[1.0,\"#f0f921\"]],\"sequentialminus\":[[0.0,\"#0d0887\"],[0.1111111111111111,\"#46039f\"],[0.2222222222222222,\"#7201a8\"],[0.3333333333333333,\"#9c179e\"],[0.4444444444444444,\"#bd3786\"],[0.5555555555555556,\"#d8576b\"],[0.6666666666666666,\"#ed7953\"],[0.7777777777777778,\"#fb9f3a\"],[0.8888888888888888,\"#fdca26\"],[1.0,\"#f0f921\"]]},\"colorway\":[\"#636efa\",\"#EF553B\",\"#00cc96\",\"#ab63fa\",\"#FFA15A\",\"#19d3f3\",\"#FF6692\",\"#B6E880\",\"#FF97FF\",\"#FECB52\"],\"font\":{\"color\":\"#2a3f5f\"},\"geo\":{\"bgcolor\":\"white\",\"lakecolor\":\"white\",\"landcolor\":\"#E5ECF6\",\"showlakes\":true,\"showland\":true,\"subunitcolor\":\"white\"},\"hoverlabel\":{\"align\":\"left\"},\"hovermode\":\"closest\",\"mapbox\":{\"style\":\"light\"},\"paper_bgcolor\":\"rgba(0,0,0,0)\",\"plot_bgcolor\":\"rgba(250,250,250,0.8)\",\"polar\":{\"angularaxis\":{\"gridcolor\":\"white\",\"linecolor\":\"white\",\"ticks\":\"\"},\"bgcolor\":\"#E5ECF6\",\"radialaxis\":{\"gridcolor\":\"white\",\"linecolor\":\"white\",\"ticks\":\"\"}},\"scene\":{\"xaxis\":{\"backgroundcolor\":\"#E5ECF6\",\"gridcolor\":\"white\",\"gridwidth\":2,\"linecolor\":\"white\",\"showbackground\":true,\"ticks\":\"\",\"zerolinecolor\":\"white\"},\"yaxis\":{\"backgroundcolor\":\"#E5ECF6\",\"gridcolor\":\"white\",\"gridwidth\":2,\"linecolor\":\"white\",\"showbackground\":true,\"ticks\":\"\",\"zerolinecolor\":\"white\"},\"zaxis\":{\"backgroundcolor\":\"#E5ECF6\",\"gridcolor\":\"white\",\"gridwidth\":2,\"linecolor\":\"white\",\"showbackground\":true,\"ticks\":\"\",\"zerolinecolor\":\"white\"}},\"shapedefaults\":{\"line\":{\"color\":\"#2a3f5f\"}},\"ternary\":{\"aaxis\":{\"gridcolor\":\"white\",\"linecolor\":\"white\",\"ticks\":\"\"},\"baxis\":{\"gridcolor\":\"white\",\"linecolor\":\"white\",\"ticks\":\"\"},\"bgcolor\":\"#E5ECF6\",\"caxis\":{\"gridcolor\":\"white\",\"linecolor\":\"white\",\"ticks\":\"\"}},\"title\":{\"x\":0.05},\"xaxis\":{\"automargin\":true,\"gridcolor\":\"white\",\"linecolor\":\"white\",\"ticks\":\"\",\"title\":{\"standoff\":15},\"zerolinecolor\":\"white\",\"zerolinewidth\":2},\"yaxis\":{\"automargin\":true,\"gridcolor\":\"white\",\"linecolor\":\"white\",\"ticks\":\"\",\"title\":{\"standoff\":15},\"zerolinecolor\":\"white\",\"zerolinewidth\":2}}},\"title\":{\"text\":\"Portfolio Value Over Time ($1,000 Investment)\"},\"xaxis\":{\"title\":{\"text\":\"Date\"}},\"yaxis\":{\"title\":{\"text\":\"Portfolio Value ($)\"}}},                        {\"responsive\": true}                    ).then(function(){\n",
       "                            \n",
       "var gd = document.getElementById('7e215d55-9a8f-402c-9370-635fcd1821e8');\n",
       "var x = new MutationObserver(function (mutations, observer) {{\n",
       "        var display = window.getComputedStyle(gd).display;\n",
       "        if (!display || display === 'none') {{\n",
       "            console.log([gd, 'removed!']);\n",
       "            Plotly.purge(gd);\n",
       "            observer.disconnect();\n",
       "        }}\n",
       "}});\n",
       "\n",
       "// Listen for the removal of the full notebook cells\n",
       "var notebookContainer = gd.closest('#notebook-container');\n",
       "if (notebookContainer) {{\n",
       "    x.observe(notebookContainer, {childList: true});\n",
       "}}\n",
       "\n",
       "// Listen for the clearing of the current output cell\n",
       "var outputEl = gd.closest('.output');\n",
       "if (outputEl) {{\n",
       "    x.observe(outputEl, {childList: true});\n",
       "}}\n",
       "\n",
       "                        })                };                });            </script>        </div>"
      ]
     },
     "metadata": {},
     "output_type": "display_data"
    }
   ],
   "source": [
    "import plotly.graph_objects as go\n",
    "\n",
    "# Assuming you have a dataframe 'df_avg' with columns 'datadate', 'baseline_portfolio', and 'top_10'\n",
    "\n",
    "# Calculate the cumulative return for both portfolios\n",
    "df_avg['baseline_cum_return'] = (1 + df_avg['baseline']).cumprod()\n",
    "df_avg['top_10_xgb_cum_return'] = (1 + df_avg['top_10_xgb']).cumprod()\n",
    "df_avg['top_10_rank_cum_return'] = (1 + df_avg['top_10_rank']).cumprod()\n",
    "\n",
    "# Calculate the value over time of a $1,000 investment\n",
    "initial_investment = 1000\n",
    "df_avg['baseline_value'] = initial_investment * df_avg['baseline_cum_return']\n",
    "df_avg['top_10_xgb_value'] = initial_investment * df_avg['top_10_xgb_cum_return']\n",
    "df_avg['top_10_rank_value'] = initial_investment * df_avg['top_10_rank_cum_return']\n",
    "\n",
    "# Create the plot\n",
    "fig = go.Figure()\n",
    "\n",
    "# Add baseline portfolio trace\n",
    "fig.add_trace(go.Scatter(x=df_avg['datadate'], y=df_avg['baseline_value'],\n",
    "                         mode='lines', name='Baseline Portfolio'))\n",
    "\n",
    "# Add baseline portfolio trace\n",
    "fig.add_trace(go.Scatter(x=df_avg['datadate'], y=df_avg['top_10_xgb_value'],\n",
    "                         mode='lines', name='XGB Portfolio'))\n",
    "\n",
    "# Add baseline portfolio trace\n",
    "fig.add_trace(go.Scatter(x=df_avg['datadate'], y=df_avg['top_10_rank_value'],\n",
    "                         mode='lines', name='XGB Ranking Portfolio'))\n",
    "\n",
    "# Update the layout\n",
    "fig.update_layout(\n",
    "    title='Portfolio Value Over Time ($1,000 Investment)',\n",
    "    xaxis_title='Date',\n",
    "    yaxis_title='Portfolio Value ($)',\n",
    ")\n",
    "\n",
    "# Show the plot\n",
    "fig.show()\n"
   ]
  },
  {
   "cell_type": "code",
   "execution_count": null,
   "metadata": {},
   "outputs": [
    {
     "data": {
      "image/png": "[encoded data removed]",
      "text/plain": [
       "<Figure size 640x480 with 1 Axes>"
      ]
     },
     "metadata": {},
     "output_type": "display_data"
    }
   ],
   "source": [
    "plot_importance(model);\n",
    "\n",
    "# Get the feature importance scores\n",
    "importance = model.get_booster().get_score(importance_type='weight')\n",
    "\n",
    "# Sort the features by importance\n",
    "sorted_importance = sorted(importance.items(), key=lambda x: x[1], reverse=True)\n",
    "\n",
    "# Extract the most important features as a list of feature names (strings)\n",
    "important_features = [feature for feature, score in sorted_importance[:5]]"
   ]
  }
 ],
 "metadata": {
  "kernelspec": {
   "display_name": "Python 3",
   "language": "python",
   "name": "python3"
  },
  "language_info": {
   "codemirror_mode": {
    "name": "ipython",
    "version": 3
   },
   "file_extension": ".py",
   "mimetype": "text/x-python",
   "name": "python",
   "nbconvert_exporter": "python",
   "pygments_lexer": "ipython3",
   "version": "3.9.13"
  }
 },
 "nbformat": 4,
 "nbformat_minor": 2
}
