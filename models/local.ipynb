{
 "cells": [
  {
   "cell_type": "code",
   "execution_count": 707,
   "metadata": {},
   "outputs": [
    {
     "data": {
      "text/html": [
       "        <script type=\"text/javascript\">\n",
       "        window.PlotlyConfig = {MathJaxConfig: 'local'};\n",
       "        if (window.MathJax && window.MathJax.Hub && window.MathJax.Hub.Config) {window.MathJax.Hub.Config({SVG: {font: \"STIX-Web\"}});}\n",
       "        if (typeof require !== 'undefined') {\n",
       "        require.undef(\"plotly\");\n",
       "        requirejs.config({\n",
       "            paths: {\n",
       "                'plotly': ['https://cdn.plot.ly/plotly-2.12.1.min']\n",
       "            }\n",
       "        });\n",
       "        require(['plotly'], function(Plotly) {\n",
       "            window._Plotly = Plotly;\n",
       "        });\n",
       "        }\n",
       "        </script>\n",
       "        "
      ]
     },
     "metadata": {},
     "output_type": "display_data"
    }
   ],
   "source": [
    "import os\n",
    "import numpy as np\n",
    "import pandas as pd\n",
    "import xgboost as xgb\n",
    "import matplotlib.pyplot as plt\n",
    "from xgboost import plot_importance, plot_tree\n",
    "from sklearn.metrics import mean_squared_error\n",
    "from sklearn.preprocessing import MinMaxScaler, StandardScaler\n",
    "from sklearn.model_selection import train_test_split, GridSearchCV\n",
    "from sklearn.metrics import accuracy_score,classification_report\n",
    "from sklearn.metrics import roc_curve, auc\n",
    "\n",
    "# Time series decomposition\n",
    "from statsmodels.tsa.seasonal import seasonal_decompose\n",
    "\n",
    "# Chart drawing\n",
    "import plotly as py\n",
    "import plotly.io as pio\n",
    "import plotly.graph_objects as go\n",
    "from plotly.subplots import make_subplots\n",
    "from plotly.offline import download_plotlyjs, init_notebook_mode, plot, iplot\n",
    "\n",
    "# Mute sklearn warnings\n",
    "from warnings import simplefilter\n",
    "simplefilter(action='ignore', category=FutureWarning)\n",
    "simplefilter(action='ignore', category=DeprecationWarning)\n",
    "\n",
    "# Show charts when running kernel\n",
    "init_notebook_mode(connected=True)\n",
    "\n",
    "# Change default background color for all visualizations\n",
    "layout=go.Layout(paper_bgcolor='rgba(0,0,0,0)', plot_bgcolor='rgba(250,250,250,0.8)')\n",
    "fig = go.Figure(layout=layout)\n",
    "templated_fig = pio.to_templated(fig)\n",
    "pio.templates['my_template'] = templated_fig.layout.template\n",
    "pio.templates.default = 'my_template'"
   ]
  },
  {
   "cell_type": "code",
   "execution_count": 708,
   "metadata": {},
   "outputs": [
    {
     "name": "stdout",
     "output_type": "stream",
     "text": [
      "<class 'pandas.core.frame.DataFrame'>\n",
      "Int64Index: 14322 entries, 1 to 15338\n",
      "Data columns (total 48 columns):\n",
      " #   Column                          Non-Null Count  Dtype         \n",
      "---  ------                          --------------  -----         \n",
      " 0   gvkey                           14322 non-null  int64         \n",
      " 1   datadate                        14322 non-null  datetime64[ns]\n",
      " 2   tic                             14322 non-null  object        \n",
      " 3   actq                            14322 non-null  float64       \n",
      " 4   ancq                            14322 non-null  float64       \n",
      " 5   epsfxq                          14302 non-null  float64       \n",
      " 6   lctq                            14322 non-null  float64       \n",
      " 7   ltq                             14322 non-null  float64       \n",
      " 8   revtq                           14322 non-null  float64       \n",
      " 9   capxy                           13783 non-null  float64       \n",
      " 10  roa                             14289 non-null  float64       \n",
      " 11  roe                             14097 non-null  float64       \n",
      " 12  pe_inc                          13681 non-null  float64       \n",
      " 13  divyield                        11113 non-null  float64       \n",
      " 14  pcf                             14290 non-null  float64       \n",
      " 15  roce                            14187 non-null  float64       \n",
      " 16  debt_ebitda                     14176 non-null  float64       \n",
      " 17  gpm                             14310 non-null  float64       \n",
      " 18  evm                             14243 non-null  float64       \n",
      " 19  cfm                             14037 non-null  float64       \n",
      " 20  npm                             14311 non-null  float64       \n",
      " 21  PEG_trailing                    9837 non-null   float64       \n",
      " 22  de_ratio                        14307 non-null  float64       \n",
      " 23  curr_ratio                      12494 non-null  float64       \n",
      " 24  ptb                             14128 non-null  float64       \n",
      " 25  roa_change                      14318 non-null  float64       \n",
      " 26  roe_change                      14316 non-null  float64       \n",
      " 27  pe_inc_change                   14322 non-null  float64       \n",
      " 28  divyield_change                 14298 non-null  float64       \n",
      " 29  pcf_change                      14322 non-null  float64       \n",
      " 30  roce_change                     14315 non-null  float64       \n",
      " 31  debt_ebitda_change              13908 non-null  float64       \n",
      " 32  gpm_change                      14322 non-null  float64       \n",
      " 33  evm_change                      14322 non-null  float64       \n",
      " 34  cfm_change                      14318 non-null  float64       \n",
      " 35  npm_change                      14309 non-null  float64       \n",
      " 36  PEG_trailing_change             14294 non-null  float64       \n",
      " 37  de_ratio_change                 14322 non-null  float64       \n",
      " 38  curr_ratio_change               14322 non-null  float64       \n",
      " 39  ptb_change                      14322 non-null  float64       \n",
      " 40  relative_quarterly_return       14322 non-null  float64       \n",
      " 41  next_relative_quarterly_return  14321 non-null  float64       \n",
      " 42  spindx                          14322 non-null  float64       \n",
      " 43  spindx_change                   14322 non-null  float64       \n",
      " 44  next_spindx_change              14321 non-null  float64       \n",
      " 45  prccq                           14321 non-null  float64       \n",
      " 46  prccq_change                    14322 non-null  float64       \n",
      " 47  next_prccq_change               14321 non-null  float64       \n",
      "dtypes: datetime64[ns](1), float64(45), int64(1), object(1)\n",
      "memory usage: 5.4+ MB\n"
     ]
    }
   ],
   "source": [
    "file_path = '/Users/edocampione/Desktop/Meng Engineering Science/4YP/scripts/dati_trattati.csv' # cleaned data\n",
    "df = pd.read_csv(file_path)\n",
    "df['datadate'] = pd.to_datetime(df['datadate'])\n",
    "df['datadate'] = df['datadate'] + pd.offsets.QuarterEnd(0)\n",
    "\n",
    "df = df.dropna(subset=['relative_quarterly_return'])\n",
    "\n",
    "df.info()"
   ]
  },
  {
   "cell_type": "code",
   "execution_count": 709,
   "metadata": {},
   "outputs": [
    {
     "name": "stdout",
     "output_type": "stream",
     "text": [
      "<class 'pandas.core.frame.DataFrame'>\n",
      "Int64Index: 11212 entries, 32 to 15337\n",
      "Data columns (total 43 columns):\n",
      " #   Column                          Non-Null Count  Dtype         \n",
      "---  ------                          --------------  -----         \n",
      " 0   gvkey                           11212 non-null  int64         \n",
      " 1   datadate                        11212 non-null  datetime64[ns]\n",
      " 2   tic                             11212 non-null  object        \n",
      " 3   actq                            11212 non-null  float64       \n",
      " 4   ancq                            11212 non-null  float64       \n",
      " 5   epsfxq                          11212 non-null  float64       \n",
      " 6   lctq                            11212 non-null  float64       \n",
      " 7   ltq                             11212 non-null  float64       \n",
      " 8   revtq                           11212 non-null  float64       \n",
      " 9   roa                             11212 non-null  float64       \n",
      " 10  roe                             11212 non-null  float64       \n",
      " 11  pe_inc                          11212 non-null  float64       \n",
      " 12  pcf                             11212 non-null  float64       \n",
      " 13  roce                            11212 non-null  float64       \n",
      " 14  debt_ebitda                     11212 non-null  float64       \n",
      " 15  gpm                             11212 non-null  float64       \n",
      " 16  evm                             11212 non-null  float64       \n",
      " 17  npm                             11212 non-null  float64       \n",
      " 18  curr_ratio                      11212 non-null  float64       \n",
      " 19  ptb                             11212 non-null  float64       \n",
      " 20  roa_change                      11212 non-null  float64       \n",
      " 21  roe_change                      11212 non-null  float64       \n",
      " 22  pe_inc_change                   11212 non-null  float64       \n",
      " 23  divyield_change                 11212 non-null  float64       \n",
      " 24  pcf_change                      11212 non-null  float64       \n",
      " 25  roce_change                     11212 non-null  float64       \n",
      " 26  debt_ebitda_change              11212 non-null  float64       \n",
      " 27  gpm_change                      11212 non-null  float64       \n",
      " 28  evm_change                      11212 non-null  float64       \n",
      " 29  cfm_change                      11212 non-null  float64       \n",
      " 30  npm_change                      11212 non-null  float64       \n",
      " 31  PEG_trailing_change             11212 non-null  float64       \n",
      " 32  de_ratio_change                 11212 non-null  float64       \n",
      " 33  curr_ratio_change               11212 non-null  float64       \n",
      " 34  ptb_change                      11212 non-null  float64       \n",
      " 35  relative_quarterly_return       11212 non-null  float64       \n",
      " 36  next_relative_quarterly_return  11212 non-null  float64       \n",
      " 37  spindx                          11212 non-null  float64       \n",
      " 38  spindx_change                   11212 non-null  float64       \n",
      " 39  next_spindx_change              11212 non-null  float64       \n",
      " 40  prccq                           11212 non-null  float64       \n",
      " 41  prccq_change                    11212 non-null  float64       \n",
      " 42  next_prccq_change               11212 non-null  float64       \n",
      "dtypes: datetime64[ns](1), float64(40), int64(1), object(1)\n",
      "memory usage: 3.8+ MB\n"
     ]
    }
   ],
   "source": [
    "drop_features = ['capxy', 'cfm', 'PEG_trailing', 'de_ratio', 'divyield']\n",
    "df = df.drop(drop_features, 1)\n",
    "df = df.dropna()\n",
    "df.info()"
   ]
  },
  {
   "cell_type": "code",
   "execution_count": 710,
   "metadata": {},
   "outputs": [
    {
     "name": "stdout",
     "output_type": "stream",
     "text": [
      "Number of stocks: 80\n",
      "['AAPL' 'ABT' 'ADBE' 'ADM' 'AMD' 'AMGN' 'AMT' 'AMZN' 'APD' 'BA' 'BAX'\n",
      " 'BMY' 'CAT' 'CL' 'CME' 'COP' 'COST' 'CSCO' 'CTSH' 'CVS' 'CVX' 'DIS' 'ECL'\n",
      " 'EQIX' 'EXC' 'EXPE' 'F' 'FDX' 'FIS' 'GE' 'GOOGL' 'HCA' 'HD' 'IBM' 'INTC'\n",
      " 'JBL' 'JNJ' 'KMB' 'KO' 'LLY' 'LMT' 'LUV' 'MA' 'MCD' 'META' 'MMC' 'MMM'\n",
      " 'MRK' 'MSFT' 'MU' 'NFLX' 'NKE' 'NOC' 'NVDA' 'OXY' 'PFE' 'PG' 'PPL' 'PYPL'\n",
      " 'QCOM' 'REGN' 'RJF' 'RTX' 'SBUX' 'SPGI' 'STZ' 'T' 'TGT' 'TMO' 'TSLA'\n",
      " 'TSN' 'UNH' 'UPS' 'V' 'VZ' 'WBA' 'WDC' 'WMT' 'XOM' 'ZTS']\n"
     ]
    }
   ],
   "source": [
    "# Find the unique number of stocks in the dataframe\n",
    "unique_stocks = df['tic'].unique()\n",
    "\n",
    "# Print the result\n",
    "print(f\"Number of stocks: {len(unique_stocks)}\")\n",
    "print(unique_stocks)\n"
   ]
  },
  {
   "cell_type": "code",
   "execution_count": 711,
   "metadata": {},
   "outputs": [
    {
     "name": "stdout",
     "output_type": "stream",
     "text": [
      "<class 'pandas.core.frame.DataFrame'>\n",
      "Int64Index: 11212 entries, 172 to 3737\n",
      "Data columns (total 43 columns):\n",
      " #   Column                          Non-Null Count  Dtype         \n",
      "---  ------                          --------------  -----         \n",
      " 0   gvkey                           11212 non-null  int64         \n",
      " 1   datadate                        11212 non-null  datetime64[ns]\n",
      " 2   tic                             11212 non-null  object        \n",
      " 3   actq                            11212 non-null  float64       \n",
      " 4   ancq                            11212 non-null  float64       \n",
      " 5   epsfxq                          11212 non-null  float64       \n",
      " 6   lctq                            11212 non-null  float64       \n",
      " 7   ltq                             11212 non-null  float64       \n",
      " 8   revtq                           11212 non-null  float64       \n",
      " 9   roa                             11212 non-null  float64       \n",
      " 10  roe                             11212 non-null  float64       \n",
      " 11  pe_inc                          11212 non-null  float64       \n",
      " 12  pcf                             11212 non-null  float64       \n",
      " 13  roce                            11212 non-null  float64       \n",
      " 14  debt_ebitda                     11212 non-null  float64       \n",
      " 15  gpm                             11212 non-null  float64       \n",
      " 16  evm                             11212 non-null  float64       \n",
      " 17  npm                             11212 non-null  float64       \n",
      " 18  curr_ratio                      11212 non-null  float64       \n",
      " 19  ptb                             11212 non-null  float64       \n",
      " 20  roa_change                      11212 non-null  float64       \n",
      " 21  roe_change                      11212 non-null  float64       \n",
      " 22  pe_inc_change                   11212 non-null  float64       \n",
      " 23  divyield_change                 11212 non-null  float64       \n",
      " 24  pcf_change                      11212 non-null  float64       \n",
      " 25  roce_change                     11212 non-null  float64       \n",
      " 26  debt_ebitda_change              11212 non-null  float64       \n",
      " 27  gpm_change                      11212 non-null  float64       \n",
      " 28  evm_change                      11212 non-null  float64       \n",
      " 29  cfm_change                      11212 non-null  float64       \n",
      " 30  npm_change                      11212 non-null  float64       \n",
      " 31  PEG_trailing_change             11212 non-null  float64       \n",
      " 32  de_ratio_change                 11212 non-null  float64       \n",
      " 33  curr_ratio_change               11212 non-null  float64       \n",
      " 34  ptb_change                      11212 non-null  float64       \n",
      " 35  relative_quarterly_return       11212 non-null  float64       \n",
      " 36  next_relative_quarterly_return  11212 non-null  float64       \n",
      " 37  spindx                          11212 non-null  float64       \n",
      " 38  spindx_change                   11212 non-null  float64       \n",
      " 39  next_spindx_change              11212 non-null  float64       \n",
      " 40  prccq                           11212 non-null  float64       \n",
      " 41  prccq_change                    11212 non-null  float64       \n",
      " 42  next_prccq_change               11212 non-null  float64       \n",
      "dtypes: datetime64[ns](1), float64(40), int64(1), object(1)\n",
      "memory usage: 3.8+ MB\n"
     ]
    }
   ],
   "source": [
    "df = df.dropna()\n",
    "df = df.sort_values(by=['datadate'])\n",
    "\n",
    "df.info()"
   ]
  },
  {
   "cell_type": "code",
   "execution_count": 712,
   "metadata": {},
   "outputs": [
    {
     "name": "stderr",
     "output_type": "stream",
     "text": [
      "/opt/anaconda3/lib/python3.9/site-packages/xgboost/core.py:158: UserWarning:\n",
      "\n",
      "[18:19:52] WARNING: /Users/runner/work/xgboost/xgboost/src/learner.cc:740: \n",
      "Parameters: { \"eval_set\", \"verbose\" } are not used.\n",
      "\n",
      "\n",
      "/opt/anaconda3/lib/python3.9/site-packages/xgboost/core.py:158: UserWarning:\n",
      "\n",
      "[18:19:52] WARNING: /Users/runner/work/xgboost/xgboost/src/learner.cc:740: \n",
      "Parameters: { \"eval_set\", \"verbose\" } are not used.\n",
      "\n",
      "\n",
      "/opt/anaconda3/lib/python3.9/site-packages/xgboost/core.py:158: UserWarning:\n",
      "\n",
      "[18:19:52] WARNING: /Users/runner/work/xgboost/xgboost/src/learner.cc:740: \n",
      "Parameters: { \"eval_set\", \"verbose\" } are not used.\n",
      "\n",
      "\n",
      "/opt/anaconda3/lib/python3.9/site-packages/xgboost/core.py:158: UserWarning:\n",
      "\n",
      "[18:19:52] WARNING: /Users/runner/work/xgboost/xgboost/src/learner.cc:740: \n",
      "Parameters: { \"eval_set\", \"verbose\" } are not used.\n",
      "\n",
      "\n",
      "/opt/anaconda3/lib/python3.9/site-packages/xgboost/core.py:158: UserWarning:\n",
      "\n",
      "[18:19:53] WARNING: /Users/runner/work/xgboost/xgboost/src/learner.cc:740: \n",
      "Parameters: { \"eval_set\", \"verbose\" } are not used.\n",
      "\n",
      "\n",
      "/opt/anaconda3/lib/python3.9/site-packages/xgboost/core.py:158: UserWarning:\n",
      "\n",
      "[18:19:53] WARNING: /Users/runner/work/xgboost/xgboost/src/learner.cc:740: \n",
      "Parameters: { \"eval_set\", \"verbose\" } are not used.\n",
      "\n",
      "\n"
     ]
    },
    {
     "name": "stdout",
     "output_type": "stream",
     "text": [
      "Best params: {'gamma': 0.1, 'learning_rate': 0.05, 'max_depth': 8, 'n_estimators': 100, 'random_state': 42}\n",
      "Best validation score = -0.014121836421940226\n"
     ]
    },
    {
     "name": "stderr",
     "output_type": "stream",
     "text": [
      "/opt/anaconda3/lib/python3.9/site-packages/xgboost/core.py:158: UserWarning:\n",
      "\n",
      "[18:19:53] WARNING: /Users/runner/work/xgboost/xgboost/src/learner.cc:740: \n",
      "Parameters: { \"eval_set\", \"verbose\" } are not used.\n",
      "\n",
      "\n",
      "/opt/anaconda3/lib/python3.9/site-packages/xgboost/core.py:158: UserWarning:\n",
      "\n",
      "[18:19:53] WARNING: /Users/runner/work/xgboost/xgboost/src/learner.cc:740: \n",
      "Parameters: { \"eval_set\", \"verbose\" } are not used.\n",
      "\n",
      "\n",
      "/opt/anaconda3/lib/python3.9/site-packages/xgboost/core.py:158: UserWarning:\n",
      "\n",
      "[18:19:53] WARNING: /Users/runner/work/xgboost/xgboost/src/learner.cc:740: \n",
      "Parameters: { \"eval_set\", \"verbose\" } are not used.\n",
      "\n",
      "\n",
      "/opt/anaconda3/lib/python3.9/site-packages/xgboost/core.py:158: UserWarning:\n",
      "\n",
      "[18:19:53] WARNING: /Users/runner/work/xgboost/xgboost/src/learner.cc:740: \n",
      "Parameters: { \"eval_set\", \"verbose\" } are not used.\n",
      "\n",
      "\n",
      "/opt/anaconda3/lib/python3.9/site-packages/xgboost/core.py:158: UserWarning:\n",
      "\n",
      "[18:19:53] WARNING: /Users/runner/work/xgboost/xgboost/src/learner.cc:740: \n",
      "Parameters: { \"eval_set\", \"verbose\" } are not used.\n",
      "\n",
      "\n",
      "/opt/anaconda3/lib/python3.9/site-packages/xgboost/core.py:158: UserWarning:\n",
      "\n",
      "[18:19:53] WARNING: /Users/runner/work/xgboost/xgboost/src/learner.cc:740: \n",
      "Parameters: { \"eval_set\", \"verbose\" } are not used.\n",
      "\n",
      "\n"
     ]
    },
    {
     "name": "stdout",
     "output_type": "stream",
     "text": [
      "Best params: {'gamma': 0.1, 'learning_rate': 0.05, 'max_depth': 8, 'n_estimators': 100, 'random_state': 42}\n",
      "Best validation score = -0.02829947967081401\n"
     ]
    },
    {
     "name": "stderr",
     "output_type": "stream",
     "text": [
      "/opt/anaconda3/lib/python3.9/site-packages/xgboost/core.py:158: UserWarning:\n",
      "\n",
      "[18:19:54] WARNING: /Users/runner/work/xgboost/xgboost/src/learner.cc:740: \n",
      "Parameters: { \"eval_set\", \"verbose\" } are not used.\n",
      "\n",
      "\n",
      "/opt/anaconda3/lib/python3.9/site-packages/xgboost/core.py:158: UserWarning:\n",
      "\n",
      "[18:19:54] WARNING: /Users/runner/work/xgboost/xgboost/src/learner.cc:740: \n",
      "Parameters: { \"eval_set\", \"verbose\" } are not used.\n",
      "\n",
      "\n",
      "/opt/anaconda3/lib/python3.9/site-packages/xgboost/core.py:158: UserWarning:\n",
      "\n",
      "[18:19:54] WARNING: /Users/runner/work/xgboost/xgboost/src/learner.cc:740: \n",
      "Parameters: { \"eval_set\", \"verbose\" } are not used.\n",
      "\n",
      "\n",
      "/opt/anaconda3/lib/python3.9/site-packages/xgboost/core.py:158: UserWarning:\n",
      "\n",
      "[18:19:54] WARNING: /Users/runner/work/xgboost/xgboost/src/learner.cc:740: \n",
      "Parameters: { \"eval_set\", \"verbose\" } are not used.\n",
      "\n",
      "\n",
      "/opt/anaconda3/lib/python3.9/site-packages/xgboost/core.py:158: UserWarning:\n",
      "\n",
      "[18:19:54] WARNING: /Users/runner/work/xgboost/xgboost/src/learner.cc:740: \n",
      "Parameters: { \"eval_set\", \"verbose\" } are not used.\n",
      "\n",
      "\n",
      "/opt/anaconda3/lib/python3.9/site-packages/xgboost/core.py:158: UserWarning:\n",
      "\n",
      "[18:19:54] WARNING: /Users/runner/work/xgboost/xgboost/src/learner.cc:740: \n",
      "Parameters: { \"eval_set\", \"verbose\" } are not used.\n",
      "\n",
      "\n"
     ]
    },
    {
     "name": "stdout",
     "output_type": "stream",
     "text": [
      "Best params: {'gamma': 0.1, 'learning_rate': 0.05, 'max_depth': 8, 'n_estimators': 100, 'random_state': 42}\n",
      "Best validation score = -0.311406155833497\n"
     ]
    },
    {
     "name": "stderr",
     "output_type": "stream",
     "text": [
      "/opt/anaconda3/lib/python3.9/site-packages/xgboost/core.py:158: UserWarning:\n",
      "\n",
      "[18:19:54] WARNING: /Users/runner/work/xgboost/xgboost/src/learner.cc:740: \n",
      "Parameters: { \"eval_set\", \"verbose\" } are not used.\n",
      "\n",
      "\n",
      "/opt/anaconda3/lib/python3.9/site-packages/xgboost/core.py:158: UserWarning:\n",
      "\n",
      "[18:19:54] WARNING: /Users/runner/work/xgboost/xgboost/src/learner.cc:740: \n",
      "Parameters: { \"eval_set\", \"verbose\" } are not used.\n",
      "\n",
      "\n",
      "/opt/anaconda3/lib/python3.9/site-packages/xgboost/core.py:158: UserWarning:\n",
      "\n",
      "[18:19:54] WARNING: /Users/runner/work/xgboost/xgboost/src/learner.cc:740: \n",
      "Parameters: { \"eval_set\", \"verbose\" } are not used.\n",
      "\n",
      "\n",
      "/opt/anaconda3/lib/python3.9/site-packages/xgboost/core.py:158: UserWarning:\n",
      "\n",
      "[18:19:55] WARNING: /Users/runner/work/xgboost/xgboost/src/learner.cc:740: \n",
      "Parameters: { \"eval_set\", \"verbose\" } are not used.\n",
      "\n",
      "\n",
      "/opt/anaconda3/lib/python3.9/site-packages/xgboost/core.py:158: UserWarning:\n",
      "\n",
      "[18:19:55] WARNING: /Users/runner/work/xgboost/xgboost/src/learner.cc:740: \n",
      "Parameters: { \"eval_set\", \"verbose\" } are not used.\n",
      "\n",
      "\n",
      "/opt/anaconda3/lib/python3.9/site-packages/xgboost/core.py:158: UserWarning:\n",
      "\n",
      "[18:19:55] WARNING: /Users/runner/work/xgboost/xgboost/src/learner.cc:740: \n",
      "Parameters: { \"eval_set\", \"verbose\" } are not used.\n",
      "\n",
      "\n"
     ]
    },
    {
     "name": "stdout",
     "output_type": "stream",
     "text": [
      "Best params: {'gamma': 0.1, 'learning_rate': 0.05, 'max_depth': 8, 'n_estimators': 100, 'random_state': 42}\n",
      "Best validation score = 0.06758348068453537\n"
     ]
    },
    {
     "name": "stderr",
     "output_type": "stream",
     "text": [
      "/opt/anaconda3/lib/python3.9/site-packages/xgboost/core.py:158: UserWarning:\n",
      "\n",
      "[18:19:55] WARNING: /Users/runner/work/xgboost/xgboost/src/learner.cc:740: \n",
      "Parameters: { \"eval_set\", \"verbose\" } are not used.\n",
      "\n",
      "\n",
      "/opt/anaconda3/lib/python3.9/site-packages/xgboost/core.py:158: UserWarning:\n",
      "\n",
      "[18:19:55] WARNING: /Users/runner/work/xgboost/xgboost/src/learner.cc:740: \n",
      "Parameters: { \"eval_set\", \"verbose\" } are not used.\n",
      "\n",
      "\n",
      "/opt/anaconda3/lib/python3.9/site-packages/xgboost/core.py:158: UserWarning:\n",
      "\n",
      "[18:19:55] WARNING: /Users/runner/work/xgboost/xgboost/src/learner.cc:740: \n",
      "Parameters: { \"eval_set\", \"verbose\" } are not used.\n",
      "\n",
      "\n",
      "/opt/anaconda3/lib/python3.9/site-packages/xgboost/core.py:158: UserWarning:\n",
      "\n",
      "[18:19:55] WARNING: /Users/runner/work/xgboost/xgboost/src/learner.cc:740: \n",
      "Parameters: { \"eval_set\", \"verbose\" } are not used.\n",
      "\n",
      "\n",
      "/opt/anaconda3/lib/python3.9/site-packages/xgboost/core.py:158: UserWarning:\n",
      "\n",
      "[18:19:56] WARNING: /Users/runner/work/xgboost/xgboost/src/learner.cc:740: \n",
      "Parameters: { \"eval_set\", \"verbose\" } are not used.\n",
      "\n",
      "\n",
      "/opt/anaconda3/lib/python3.9/site-packages/xgboost/core.py:158: UserWarning:\n",
      "\n",
      "[18:19:56] WARNING: /Users/runner/work/xgboost/xgboost/src/learner.cc:740: \n",
      "Parameters: { \"eval_set\", \"verbose\" } are not used.\n",
      "\n",
      "\n"
     ]
    },
    {
     "name": "stdout",
     "output_type": "stream",
     "text": [
      "Best params: {'gamma': 0.1, 'learning_rate': 0.05, 'max_depth': 8, 'n_estimators': 100, 'random_state': 42}\n",
      "Best validation score = 0.27352064246217256\n"
     ]
    },
    {
     "name": "stderr",
     "output_type": "stream",
     "text": [
      "/opt/anaconda3/lib/python3.9/site-packages/xgboost/core.py:158: UserWarning:\n",
      "\n",
      "[18:19:56] WARNING: /Users/runner/work/xgboost/xgboost/src/learner.cc:740: \n",
      "Parameters: { \"eval_set\", \"verbose\" } are not used.\n",
      "\n",
      "\n",
      "/opt/anaconda3/lib/python3.9/site-packages/xgboost/core.py:158: UserWarning:\n",
      "\n",
      "[18:19:56] WARNING: /Users/runner/work/xgboost/xgboost/src/learner.cc:740: \n",
      "Parameters: { \"eval_set\", \"verbose\" } are not used.\n",
      "\n",
      "\n",
      "/opt/anaconda3/lib/python3.9/site-packages/xgboost/core.py:158: UserWarning:\n",
      "\n",
      "[18:19:57] WARNING: /Users/runner/work/xgboost/xgboost/src/learner.cc:740: \n",
      "Parameters: { \"eval_set\", \"verbose\" } are not used.\n",
      "\n",
      "\n",
      "/opt/anaconda3/lib/python3.9/site-packages/xgboost/core.py:158: UserWarning:\n",
      "\n",
      "[18:19:57] WARNING: /Users/runner/work/xgboost/xgboost/src/learner.cc:740: \n",
      "Parameters: { \"eval_set\", \"verbose\" } are not used.\n",
      "\n",
      "\n",
      "/opt/anaconda3/lib/python3.9/site-packages/xgboost/core.py:158: UserWarning:\n",
      "\n",
      "[18:19:57] WARNING: /Users/runner/work/xgboost/xgboost/src/learner.cc:740: \n",
      "Parameters: { \"eval_set\", \"verbose\" } are not used.\n",
      "\n",
      "\n",
      "/opt/anaconda3/lib/python3.9/site-packages/xgboost/core.py:158: UserWarning:\n",
      "\n",
      "[18:19:57] WARNING: /Users/runner/work/xgboost/xgboost/src/learner.cc:740: \n",
      "Parameters: { \"eval_set\", \"verbose\" } are not used.\n",
      "\n",
      "\n"
     ]
    },
    {
     "name": "stdout",
     "output_type": "stream",
     "text": [
      "Best params: {'gamma': 0.1, 'learning_rate': 0.05, 'max_depth': 8, 'n_estimators': 100, 'random_state': 42}\n",
      "Best validation score = 0.12373727932740004\n"
     ]
    },
    {
     "name": "stderr",
     "output_type": "stream",
     "text": [
      "/opt/anaconda3/lib/python3.9/site-packages/xgboost/core.py:158: UserWarning:\n",
      "\n",
      "[18:19:57] WARNING: /Users/runner/work/xgboost/xgboost/src/learner.cc:740: \n",
      "Parameters: { \"eval_set\", \"verbose\" } are not used.\n",
      "\n",
      "\n",
      "/opt/anaconda3/lib/python3.9/site-packages/xgboost/core.py:158: UserWarning:\n",
      "\n",
      "[18:19:57] WARNING: /Users/runner/work/xgboost/xgboost/src/learner.cc:740: \n",
      "Parameters: { \"eval_set\", \"verbose\" } are not used.\n",
      "\n",
      "\n",
      "/opt/anaconda3/lib/python3.9/site-packages/xgboost/core.py:158: UserWarning:\n",
      "\n",
      "[18:19:57] WARNING: /Users/runner/work/xgboost/xgboost/src/learner.cc:740: \n",
      "Parameters: { \"eval_set\", \"verbose\" } are not used.\n",
      "\n",
      "\n",
      "/opt/anaconda3/lib/python3.9/site-packages/xgboost/core.py:158: UserWarning:\n",
      "\n",
      "[18:19:58] WARNING: /Users/runner/work/xgboost/xgboost/src/learner.cc:740: \n",
      "Parameters: { \"eval_set\", \"verbose\" } are not used.\n",
      "\n",
      "\n",
      "/opt/anaconda3/lib/python3.9/site-packages/xgboost/core.py:158: UserWarning:\n",
      "\n",
      "[18:19:58] WARNING: /Users/runner/work/xgboost/xgboost/src/learner.cc:740: \n",
      "Parameters: { \"eval_set\", \"verbose\" } are not used.\n",
      "\n",
      "\n",
      "/opt/anaconda3/lib/python3.9/site-packages/xgboost/core.py:158: UserWarning:\n",
      "\n",
      "[18:19:58] WARNING: /Users/runner/work/xgboost/xgboost/src/learner.cc:740: \n",
      "Parameters: { \"eval_set\", \"verbose\" } are not used.\n",
      "\n",
      "\n"
     ]
    },
    {
     "name": "stdout",
     "output_type": "stream",
     "text": [
      "Best params: {'gamma': 0.1, 'learning_rate': 0.05, 'max_depth': 8, 'n_estimators': 100, 'random_state': 42}\n",
      "Best validation score = -0.11101902573505595\n"
     ]
    },
    {
     "name": "stderr",
     "output_type": "stream",
     "text": [
      "/opt/anaconda3/lib/python3.9/site-packages/xgboost/core.py:158: UserWarning:\n",
      "\n",
      "[18:19:58] WARNING: /Users/runner/work/xgboost/xgboost/src/learner.cc:740: \n",
      "Parameters: { \"eval_set\", \"verbose\" } are not used.\n",
      "\n",
      "\n",
      "/opt/anaconda3/lib/python3.9/site-packages/xgboost/core.py:158: UserWarning:\n",
      "\n",
      "[18:19:58] WARNING: /Users/runner/work/xgboost/xgboost/src/learner.cc:740: \n",
      "Parameters: { \"eval_set\", \"verbose\" } are not used.\n",
      "\n",
      "\n",
      "/opt/anaconda3/lib/python3.9/site-packages/xgboost/core.py:158: UserWarning:\n",
      "\n",
      "[18:19:58] WARNING: /Users/runner/work/xgboost/xgboost/src/learner.cc:740: \n",
      "Parameters: { \"eval_set\", \"verbose\" } are not used.\n",
      "\n",
      "\n",
      "/opt/anaconda3/lib/python3.9/site-packages/xgboost/core.py:158: UserWarning:\n",
      "\n",
      "[18:19:59] WARNING: /Users/runner/work/xgboost/xgboost/src/learner.cc:740: \n",
      "Parameters: { \"eval_set\", \"verbose\" } are not used.\n",
      "\n",
      "\n",
      "/opt/anaconda3/lib/python3.9/site-packages/xgboost/core.py:158: UserWarning:\n",
      "\n",
      "[18:19:59] WARNING: /Users/runner/work/xgboost/xgboost/src/learner.cc:740: \n",
      "Parameters: { \"eval_set\", \"verbose\" } are not used.\n",
      "\n",
      "\n",
      "/opt/anaconda3/lib/python3.9/site-packages/xgboost/core.py:158: UserWarning:\n",
      "\n",
      "[18:19:59] WARNING: /Users/runner/work/xgboost/xgboost/src/learner.cc:740: \n",
      "Parameters: { \"eval_set\", \"verbose\" } are not used.\n",
      "\n",
      "\n"
     ]
    },
    {
     "name": "stdout",
     "output_type": "stream",
     "text": [
      "Best params: {'gamma': 0.1, 'learning_rate': 0.05, 'max_depth': 8, 'n_estimators': 100, 'random_state': 42}\n",
      "Best validation score = 0.07865580711601447\n"
     ]
    },
    {
     "name": "stderr",
     "output_type": "stream",
     "text": [
      "/opt/anaconda3/lib/python3.9/site-packages/xgboost/core.py:158: UserWarning:\n",
      "\n",
      "[18:19:59] WARNING: /Users/runner/work/xgboost/xgboost/src/learner.cc:740: \n",
      "Parameters: { \"eval_set\", \"verbose\" } are not used.\n",
      "\n",
      "\n",
      "/opt/anaconda3/lib/python3.9/site-packages/xgboost/core.py:158: UserWarning:\n",
      "\n",
      "[18:19:59] WARNING: /Users/runner/work/xgboost/xgboost/src/learner.cc:740: \n",
      "Parameters: { \"eval_set\", \"verbose\" } are not used.\n",
      "\n",
      "\n",
      "/opt/anaconda3/lib/python3.9/site-packages/xgboost/core.py:158: UserWarning:\n",
      "\n",
      "[18:19:59] WARNING: /Users/runner/work/xgboost/xgboost/src/learner.cc:740: \n",
      "Parameters: { \"eval_set\", \"verbose\" } are not used.\n",
      "\n",
      "\n",
      "/opt/anaconda3/lib/python3.9/site-packages/xgboost/core.py:158: UserWarning:\n",
      "\n",
      "[18:19:59] WARNING: /Users/runner/work/xgboost/xgboost/src/learner.cc:740: \n",
      "Parameters: { \"eval_set\", \"verbose\" } are not used.\n",
      "\n",
      "\n",
      "/opt/anaconda3/lib/python3.9/site-packages/xgboost/core.py:158: UserWarning:\n",
      "\n",
      "[18:20:00] WARNING: /Users/runner/work/xgboost/xgboost/src/learner.cc:740: \n",
      "Parameters: { \"eval_set\", \"verbose\" } are not used.\n",
      "\n",
      "\n",
      "/opt/anaconda3/lib/python3.9/site-packages/xgboost/core.py:158: UserWarning:\n",
      "\n",
      "[18:20:00] WARNING: /Users/runner/work/xgboost/xgboost/src/learner.cc:740: \n",
      "Parameters: { \"eval_set\", \"verbose\" } are not used.\n",
      "\n",
      "\n"
     ]
    },
    {
     "name": "stdout",
     "output_type": "stream",
     "text": [
      "Best params: {'gamma': 0.1, 'learning_rate': 0.05, 'max_depth': 8, 'n_estimators': 100, 'random_state': 42}\n",
      "Best validation score = 0.21263843515140674\n"
     ]
    },
    {
     "name": "stderr",
     "output_type": "stream",
     "text": [
      "/opt/anaconda3/lib/python3.9/site-packages/xgboost/core.py:158: UserWarning:\n",
      "\n",
      "[18:20:00] WARNING: /Users/runner/work/xgboost/xgboost/src/learner.cc:740: \n",
      "Parameters: { \"eval_set\", \"verbose\" } are not used.\n",
      "\n",
      "\n",
      "/opt/anaconda3/lib/python3.9/site-packages/xgboost/core.py:158: UserWarning:\n",
      "\n",
      "[18:20:00] WARNING: /Users/runner/work/xgboost/xgboost/src/learner.cc:740: \n",
      "Parameters: { \"eval_set\", \"verbose\" } are not used.\n",
      "\n",
      "\n",
      "/opt/anaconda3/lib/python3.9/site-packages/xgboost/core.py:158: UserWarning:\n",
      "\n",
      "[18:20:00] WARNING: /Users/runner/work/xgboost/xgboost/src/learner.cc:740: \n",
      "Parameters: { \"eval_set\", \"verbose\" } are not used.\n",
      "\n",
      "\n",
      "/opt/anaconda3/lib/python3.9/site-packages/xgboost/core.py:158: UserWarning:\n",
      "\n",
      "[18:20:00] WARNING: /Users/runner/work/xgboost/xgboost/src/learner.cc:740: \n",
      "Parameters: { \"eval_set\", \"verbose\" } are not used.\n",
      "\n",
      "\n",
      "/opt/anaconda3/lib/python3.9/site-packages/xgboost/core.py:158: UserWarning:\n",
      "\n",
      "[18:20:00] WARNING: /Users/runner/work/xgboost/xgboost/src/learner.cc:740: \n",
      "Parameters: { \"eval_set\", \"verbose\" } are not used.\n",
      "\n",
      "\n",
      "/opt/anaconda3/lib/python3.9/site-packages/xgboost/core.py:158: UserWarning:\n",
      "\n",
      "[18:20:01] WARNING: /Users/runner/work/xgboost/xgboost/src/learner.cc:740: \n",
      "Parameters: { \"eval_set\", \"verbose\" } are not used.\n",
      "\n",
      "\n"
     ]
    },
    {
     "name": "stdout",
     "output_type": "stream",
     "text": [
      "Best params: {'gamma': 0.1, 'learning_rate': 0.05, 'max_depth': 8, 'n_estimators': 100, 'random_state': 42}\n",
      "Best validation score = 0.0949891982316962\n"
     ]
    },
    {
     "name": "stderr",
     "output_type": "stream",
     "text": [
      "/opt/anaconda3/lib/python3.9/site-packages/xgboost/core.py:158: UserWarning:\n",
      "\n",
      "[18:20:01] WARNING: /Users/runner/work/xgboost/xgboost/src/learner.cc:740: \n",
      "Parameters: { \"eval_set\", \"verbose\" } are not used.\n",
      "\n",
      "\n",
      "/opt/anaconda3/lib/python3.9/site-packages/xgboost/core.py:158: UserWarning:\n",
      "\n",
      "[18:20:01] WARNING: /Users/runner/work/xgboost/xgboost/src/learner.cc:740: \n",
      "Parameters: { \"eval_set\", \"verbose\" } are not used.\n",
      "\n",
      "\n",
      "/opt/anaconda3/lib/python3.9/site-packages/xgboost/core.py:158: UserWarning:\n",
      "\n",
      "[18:20:01] WARNING: /Users/runner/work/xgboost/xgboost/src/learner.cc:740: \n",
      "Parameters: { \"eval_set\", \"verbose\" } are not used.\n",
      "\n",
      "\n",
      "/opt/anaconda3/lib/python3.9/site-packages/xgboost/core.py:158: UserWarning:\n",
      "\n",
      "[18:20:01] WARNING: /Users/runner/work/xgboost/xgboost/src/learner.cc:740: \n",
      "Parameters: { \"eval_set\", \"verbose\" } are not used.\n",
      "\n",
      "\n",
      "/opt/anaconda3/lib/python3.9/site-packages/xgboost/core.py:158: UserWarning:\n",
      "\n",
      "[18:20:01] WARNING: /Users/runner/work/xgboost/xgboost/src/learner.cc:740: \n",
      "Parameters: { \"eval_set\", \"verbose\" } are not used.\n",
      "\n",
      "\n",
      "/opt/anaconda3/lib/python3.9/site-packages/xgboost/core.py:158: UserWarning:\n",
      "\n",
      "[18:20:01] WARNING: /Users/runner/work/xgboost/xgboost/src/learner.cc:740: \n",
      "Parameters: { \"eval_set\", \"verbose\" } are not used.\n",
      "\n",
      "\n"
     ]
    },
    {
     "name": "stdout",
     "output_type": "stream",
     "text": [
      "Best params: {'gamma': 0.1, 'learning_rate': 0.05, 'max_depth': 8, 'n_estimators': 100, 'random_state': 42}\n",
      "Best validation score = 0.0194559277172782\n"
     ]
    },
    {
     "name": "stderr",
     "output_type": "stream",
     "text": [
      "/opt/anaconda3/lib/python3.9/site-packages/xgboost/core.py:158: UserWarning:\n",
      "\n",
      "[18:20:02] WARNING: /Users/runner/work/xgboost/xgboost/src/learner.cc:740: \n",
      "Parameters: { \"eval_set\", \"verbose\" } are not used.\n",
      "\n",
      "\n",
      "/opt/anaconda3/lib/python3.9/site-packages/xgboost/core.py:158: UserWarning:\n",
      "\n",
      "[18:20:02] WARNING: /Users/runner/work/xgboost/xgboost/src/learner.cc:740: \n",
      "Parameters: { \"eval_set\", \"verbose\" } are not used.\n",
      "\n",
      "\n",
      "/opt/anaconda3/lib/python3.9/site-packages/xgboost/core.py:158: UserWarning:\n",
      "\n",
      "[18:20:02] WARNING: /Users/runner/work/xgboost/xgboost/src/learner.cc:740: \n",
      "Parameters: { \"eval_set\", \"verbose\" } are not used.\n",
      "\n",
      "\n",
      "/opt/anaconda3/lib/python3.9/site-packages/xgboost/core.py:158: UserWarning:\n",
      "\n",
      "[18:20:02] WARNING: /Users/runner/work/xgboost/xgboost/src/learner.cc:740: \n",
      "Parameters: { \"eval_set\", \"verbose\" } are not used.\n",
      "\n",
      "\n",
      "/opt/anaconda3/lib/python3.9/site-packages/xgboost/core.py:158: UserWarning:\n",
      "\n",
      "[18:20:03] WARNING: /Users/runner/work/xgboost/xgboost/src/learner.cc:740: \n",
      "Parameters: { \"eval_set\", \"verbose\" } are not used.\n",
      "\n",
      "\n",
      "/opt/anaconda3/lib/python3.9/site-packages/xgboost/core.py:158: UserWarning:\n",
      "\n",
      "[18:20:03] WARNING: /Users/runner/work/xgboost/xgboost/src/learner.cc:740: \n",
      "Parameters: { \"eval_set\", \"verbose\" } are not used.\n",
      "\n",
      "\n"
     ]
    },
    {
     "name": "stdout",
     "output_type": "stream",
     "text": [
      "Best params: {'gamma': 0.1, 'learning_rate': 0.05, 'max_depth': 8, 'n_estimators': 100, 'random_state': 42}\n",
      "Best validation score = 0.0637823270414398\n"
     ]
    },
    {
     "name": "stderr",
     "output_type": "stream",
     "text": [
      "/opt/anaconda3/lib/python3.9/site-packages/xgboost/core.py:158: UserWarning:\n",
      "\n",
      "[18:20:03] WARNING: /Users/runner/work/xgboost/xgboost/src/learner.cc:740: \n",
      "Parameters: { \"eval_set\", \"verbose\" } are not used.\n",
      "\n",
      "\n",
      "/opt/anaconda3/lib/python3.9/site-packages/xgboost/core.py:158: UserWarning:\n",
      "\n",
      "[18:20:03] WARNING: /Users/runner/work/xgboost/xgboost/src/learner.cc:740: \n",
      "Parameters: { \"eval_set\", \"verbose\" } are not used.\n",
      "\n",
      "\n",
      "/opt/anaconda3/lib/python3.9/site-packages/xgboost/core.py:158: UserWarning:\n",
      "\n",
      "[18:20:03] WARNING: /Users/runner/work/xgboost/xgboost/src/learner.cc:740: \n",
      "Parameters: { \"eval_set\", \"verbose\" } are not used.\n",
      "\n",
      "\n",
      "/opt/anaconda3/lib/python3.9/site-packages/xgboost/core.py:158: UserWarning:\n",
      "\n",
      "[18:20:03] WARNING: /Users/runner/work/xgboost/xgboost/src/learner.cc:740: \n",
      "Parameters: { \"eval_set\", \"verbose\" } are not used.\n",
      "\n",
      "\n",
      "/opt/anaconda3/lib/python3.9/site-packages/xgboost/core.py:158: UserWarning:\n",
      "\n",
      "[18:20:03] WARNING: /Users/runner/work/xgboost/xgboost/src/learner.cc:740: \n",
      "Parameters: { \"eval_set\", \"verbose\" } are not used.\n",
      "\n",
      "\n",
      "/opt/anaconda3/lib/python3.9/site-packages/xgboost/core.py:158: UserWarning:\n",
      "\n",
      "[18:20:03] WARNING: /Users/runner/work/xgboost/xgboost/src/learner.cc:740: \n",
      "Parameters: { \"eval_set\", \"verbose\" } are not used.\n",
      "\n",
      "\n"
     ]
    },
    {
     "name": "stdout",
     "output_type": "stream",
     "text": [
      "Best params: {'gamma': 0.1, 'learning_rate': 0.05, 'max_depth': 8, 'n_estimators': 100, 'random_state': 42}\n",
      "Best validation score = 0.09365362294111368\n"
     ]
    },
    {
     "name": "stderr",
     "output_type": "stream",
     "text": [
      "/opt/anaconda3/lib/python3.9/site-packages/xgboost/core.py:158: UserWarning:\n",
      "\n",
      "[18:20:04] WARNING: /Users/runner/work/xgboost/xgboost/src/learner.cc:740: \n",
      "Parameters: { \"eval_set\", \"verbose\" } are not used.\n",
      "\n",
      "\n",
      "/opt/anaconda3/lib/python3.9/site-packages/xgboost/core.py:158: UserWarning:\n",
      "\n",
      "[18:20:04] WARNING: /Users/runner/work/xgboost/xgboost/src/learner.cc:740: \n",
      "Parameters: { \"eval_set\", \"verbose\" } are not used.\n",
      "\n",
      "\n",
      "/opt/anaconda3/lib/python3.9/site-packages/xgboost/core.py:158: UserWarning:\n",
      "\n",
      "[18:20:04] WARNING: /Users/runner/work/xgboost/xgboost/src/learner.cc:740: \n",
      "Parameters: { \"eval_set\", \"verbose\" } are not used.\n",
      "\n",
      "\n",
      "/opt/anaconda3/lib/python3.9/site-packages/xgboost/core.py:158: UserWarning:\n",
      "\n",
      "[18:20:04] WARNING: /Users/runner/work/xgboost/xgboost/src/learner.cc:740: \n",
      "Parameters: { \"eval_set\", \"verbose\" } are not used.\n",
      "\n",
      "\n",
      "/opt/anaconda3/lib/python3.9/site-packages/xgboost/core.py:158: UserWarning:\n",
      "\n",
      "[18:20:04] WARNING: /Users/runner/work/xgboost/xgboost/src/learner.cc:740: \n",
      "Parameters: { \"eval_set\", \"verbose\" } are not used.\n",
      "\n",
      "\n",
      "/opt/anaconda3/lib/python3.9/site-packages/xgboost/core.py:158: UserWarning:\n",
      "\n",
      "[18:20:04] WARNING: /Users/runner/work/xgboost/xgboost/src/learner.cc:740: \n",
      "Parameters: { \"eval_set\", \"verbose\" } are not used.\n",
      "\n",
      "\n"
     ]
    },
    {
     "name": "stdout",
     "output_type": "stream",
     "text": [
      "Best params: {'gamma': 0.1, 'learning_rate': 0.05, 'max_depth': 8, 'n_estimators': 100, 'random_state': 42}\n",
      "Best validation score = -0.9879978304113303\n"
     ]
    },
    {
     "name": "stderr",
     "output_type": "stream",
     "text": [
      "/opt/anaconda3/lib/python3.9/site-packages/xgboost/core.py:158: UserWarning:\n",
      "\n",
      "[18:20:04] WARNING: /Users/runner/work/xgboost/xgboost/src/learner.cc:740: \n",
      "Parameters: { \"eval_set\", \"verbose\" } are not used.\n",
      "\n",
      "\n",
      "/opt/anaconda3/lib/python3.9/site-packages/xgboost/core.py:158: UserWarning:\n",
      "\n",
      "[18:20:05] WARNING: /Users/runner/work/xgboost/xgboost/src/learner.cc:740: \n",
      "Parameters: { \"eval_set\", \"verbose\" } are not used.\n",
      "\n",
      "\n",
      "/opt/anaconda3/lib/python3.9/site-packages/xgboost/core.py:158: UserWarning:\n",
      "\n",
      "[18:20:05] WARNING: /Users/runner/work/xgboost/xgboost/src/learner.cc:740: \n",
      "Parameters: { \"eval_set\", \"verbose\" } are not used.\n",
      "\n",
      "\n",
      "/opt/anaconda3/lib/python3.9/site-packages/xgboost/core.py:158: UserWarning:\n",
      "\n",
      "[18:20:05] WARNING: /Users/runner/work/xgboost/xgboost/src/learner.cc:740: \n",
      "Parameters: { \"eval_set\", \"verbose\" } are not used.\n",
      "\n",
      "\n",
      "/opt/anaconda3/lib/python3.9/site-packages/xgboost/core.py:158: UserWarning:\n",
      "\n",
      "[18:20:05] WARNING: /Users/runner/work/xgboost/xgboost/src/learner.cc:740: \n",
      "Parameters: { \"eval_set\", \"verbose\" } are not used.\n",
      "\n",
      "\n",
      "/opt/anaconda3/lib/python3.9/site-packages/xgboost/core.py:158: UserWarning:\n",
      "\n",
      "[18:20:05] WARNING: /Users/runner/work/xgboost/xgboost/src/learner.cc:740: \n",
      "Parameters: { \"eval_set\", \"verbose\" } are not used.\n",
      "\n",
      "\n"
     ]
    },
    {
     "name": "stdout",
     "output_type": "stream",
     "text": [
      "Best params: {'gamma': 0.1, 'learning_rate': 0.05, 'max_depth': 8, 'n_estimators': 100, 'random_state': 42}\n",
      "Best validation score = 0.048150029648377335\n"
     ]
    },
    {
     "name": "stderr",
     "output_type": "stream",
     "text": [
      "/opt/anaconda3/lib/python3.9/site-packages/xgboost/core.py:158: UserWarning:\n",
      "\n",
      "[18:20:05] WARNING: /Users/runner/work/xgboost/xgboost/src/learner.cc:740: \n",
      "Parameters: { \"eval_set\", \"verbose\" } are not used.\n",
      "\n",
      "\n",
      "/opt/anaconda3/lib/python3.9/site-packages/xgboost/core.py:158: UserWarning:\n",
      "\n",
      "[18:20:05] WARNING: /Users/runner/work/xgboost/xgboost/src/learner.cc:740: \n",
      "Parameters: { \"eval_set\", \"verbose\" } are not used.\n",
      "\n",
      "\n",
      "/opt/anaconda3/lib/python3.9/site-packages/xgboost/core.py:158: UserWarning:\n",
      "\n",
      "[18:20:05] WARNING: /Users/runner/work/xgboost/xgboost/src/learner.cc:740: \n",
      "Parameters: { \"eval_set\", \"verbose\" } are not used.\n",
      "\n",
      "\n",
      "/opt/anaconda3/lib/python3.9/site-packages/xgboost/core.py:158: UserWarning:\n",
      "\n",
      "[18:20:06] WARNING: /Users/runner/work/xgboost/xgboost/src/learner.cc:740: \n",
      "Parameters: { \"eval_set\", \"verbose\" } are not used.\n",
      "\n",
      "\n",
      "/opt/anaconda3/lib/python3.9/site-packages/xgboost/core.py:158: UserWarning:\n",
      "\n",
      "[18:20:06] WARNING: /Users/runner/work/xgboost/xgboost/src/learner.cc:740: \n",
      "Parameters: { \"eval_set\", \"verbose\" } are not used.\n",
      "\n",
      "\n",
      "/opt/anaconda3/lib/python3.9/site-packages/xgboost/core.py:158: UserWarning:\n",
      "\n",
      "[18:20:06] WARNING: /Users/runner/work/xgboost/xgboost/src/learner.cc:740: \n",
      "Parameters: { \"eval_set\", \"verbose\" } are not used.\n",
      "\n",
      "\n"
     ]
    },
    {
     "name": "stdout",
     "output_type": "stream",
     "text": [
      "Best params: {'gamma': 0.1, 'learning_rate': 0.05, 'max_depth': 8, 'n_estimators': 100, 'random_state': 42}\n",
      "Best validation score = -0.1113895693650413\n"
     ]
    },
    {
     "name": "stderr",
     "output_type": "stream",
     "text": [
      "/opt/anaconda3/lib/python3.9/site-packages/xgboost/core.py:158: UserWarning:\n",
      "\n",
      "[18:20:06] WARNING: /Users/runner/work/xgboost/xgboost/src/learner.cc:740: \n",
      "Parameters: { \"eval_set\", \"verbose\" } are not used.\n",
      "\n",
      "\n",
      "/opt/anaconda3/lib/python3.9/site-packages/xgboost/core.py:158: UserWarning:\n",
      "\n",
      "[18:20:06] WARNING: /Users/runner/work/xgboost/xgboost/src/learner.cc:740: \n",
      "Parameters: { \"eval_set\", \"verbose\" } are not used.\n",
      "\n",
      "\n",
      "/opt/anaconda3/lib/python3.9/site-packages/xgboost/core.py:158: UserWarning:\n",
      "\n",
      "[18:20:06] WARNING: /Users/runner/work/xgboost/xgboost/src/learner.cc:740: \n",
      "Parameters: { \"eval_set\", \"verbose\" } are not used.\n",
      "\n",
      "\n",
      "/opt/anaconda3/lib/python3.9/site-packages/xgboost/core.py:158: UserWarning:\n",
      "\n",
      "[18:20:06] WARNING: /Users/runner/work/xgboost/xgboost/src/learner.cc:740: \n",
      "Parameters: { \"eval_set\", \"verbose\" } are not used.\n",
      "\n",
      "\n",
      "/opt/anaconda3/lib/python3.9/site-packages/xgboost/core.py:158: UserWarning:\n",
      "\n",
      "[18:20:07] WARNING: /Users/runner/work/xgboost/xgboost/src/learner.cc:740: \n",
      "Parameters: { \"eval_set\", \"verbose\" } are not used.\n",
      "\n",
      "\n",
      "/opt/anaconda3/lib/python3.9/site-packages/xgboost/core.py:158: UserWarning:\n",
      "\n",
      "[18:20:07] WARNING: /Users/runner/work/xgboost/xgboost/src/learner.cc:740: \n",
      "Parameters: { \"eval_set\", \"verbose\" } are not used.\n",
      "\n",
      "\n"
     ]
    },
    {
     "name": "stdout",
     "output_type": "stream",
     "text": [
      "Best params: {'gamma': 0.1, 'learning_rate': 0.05, 'max_depth': 8, 'n_estimators': 100, 'random_state': 42}\n",
      "Best validation score = -12.065489241365448\n"
     ]
    },
    {
     "name": "stderr",
     "output_type": "stream",
     "text": [
      "/opt/anaconda3/lib/python3.9/site-packages/xgboost/core.py:158: UserWarning:\n",
      "\n",
      "[18:20:07] WARNING: /Users/runner/work/xgboost/xgboost/src/learner.cc:740: \n",
      "Parameters: { \"eval_set\", \"verbose\" } are not used.\n",
      "\n",
      "\n",
      "/opt/anaconda3/lib/python3.9/site-packages/xgboost/core.py:158: UserWarning:\n",
      "\n",
      "[18:20:07] WARNING: /Users/runner/work/xgboost/xgboost/src/learner.cc:740: \n",
      "Parameters: { \"eval_set\", \"verbose\" } are not used.\n",
      "\n",
      "\n",
      "/opt/anaconda3/lib/python3.9/site-packages/xgboost/core.py:158: UserWarning:\n",
      "\n",
      "[18:20:07] WARNING: /Users/runner/work/xgboost/xgboost/src/learner.cc:740: \n",
      "Parameters: { \"eval_set\", \"verbose\" } are not used.\n",
      "\n",
      "\n",
      "/opt/anaconda3/lib/python3.9/site-packages/xgboost/core.py:158: UserWarning:\n",
      "\n",
      "[18:20:07] WARNING: /Users/runner/work/xgboost/xgboost/src/learner.cc:740: \n",
      "Parameters: { \"eval_set\", \"verbose\" } are not used.\n",
      "\n",
      "\n",
      "/opt/anaconda3/lib/python3.9/site-packages/xgboost/core.py:158: UserWarning:\n",
      "\n",
      "[18:20:07] WARNING: /Users/runner/work/xgboost/xgboost/src/learner.cc:740: \n",
      "Parameters: { \"eval_set\", \"verbose\" } are not used.\n",
      "\n",
      "\n",
      "/opt/anaconda3/lib/python3.9/site-packages/xgboost/core.py:158: UserWarning:\n",
      "\n",
      "[18:20:08] WARNING: /Users/runner/work/xgboost/xgboost/src/learner.cc:740: \n",
      "Parameters: { \"eval_set\", \"verbose\" } are not used.\n",
      "\n",
      "\n"
     ]
    },
    {
     "name": "stdout",
     "output_type": "stream",
     "text": [
      "Best params: {'gamma': 0.1, 'learning_rate': 0.05, 'max_depth': 8, 'n_estimators': 100, 'random_state': 42}\n",
      "Best validation score = 0.06928986827352257\n"
     ]
    },
    {
     "name": "stderr",
     "output_type": "stream",
     "text": [
      "/opt/anaconda3/lib/python3.9/site-packages/xgboost/core.py:158: UserWarning:\n",
      "\n",
      "[18:20:08] WARNING: /Users/runner/work/xgboost/xgboost/src/learner.cc:740: \n",
      "Parameters: { \"eval_set\", \"verbose\" } are not used.\n",
      "\n",
      "\n",
      "/opt/anaconda3/lib/python3.9/site-packages/xgboost/core.py:158: UserWarning:\n",
      "\n",
      "[18:20:08] WARNING: /Users/runner/work/xgboost/xgboost/src/learner.cc:740: \n",
      "Parameters: { \"eval_set\", \"verbose\" } are not used.\n",
      "\n",
      "\n",
      "/opt/anaconda3/lib/python3.9/site-packages/xgboost/core.py:158: UserWarning:\n",
      "\n",
      "[18:20:08] WARNING: /Users/runner/work/xgboost/xgboost/src/learner.cc:740: \n",
      "Parameters: { \"eval_set\", \"verbose\" } are not used.\n",
      "\n",
      "\n",
      "/opt/anaconda3/lib/python3.9/site-packages/xgboost/core.py:158: UserWarning:\n",
      "\n",
      "[18:20:08] WARNING: /Users/runner/work/xgboost/xgboost/src/learner.cc:740: \n",
      "Parameters: { \"eval_set\", \"verbose\" } are not used.\n",
      "\n",
      "\n",
      "/opt/anaconda3/lib/python3.9/site-packages/xgboost/core.py:158: UserWarning:\n",
      "\n",
      "[18:20:08] WARNING: /Users/runner/work/xgboost/xgboost/src/learner.cc:740: \n",
      "Parameters: { \"eval_set\", \"verbose\" } are not used.\n",
      "\n",
      "\n",
      "/opt/anaconda3/lib/python3.9/site-packages/xgboost/core.py:158: UserWarning:\n",
      "\n",
      "[18:20:08] WARNING: /Users/runner/work/xgboost/xgboost/src/learner.cc:740: \n",
      "Parameters: { \"eval_set\", \"verbose\" } are not used.\n",
      "\n",
      "\n"
     ]
    },
    {
     "name": "stdout",
     "output_type": "stream",
     "text": [
      "Best params: {'gamma': 0.1, 'learning_rate': 0.05, 'max_depth': 8, 'n_estimators': 100, 'random_state': 42}\n",
      "Best validation score = -0.05237546763125658\n"
     ]
    },
    {
     "name": "stderr",
     "output_type": "stream",
     "text": [
      "/opt/anaconda3/lib/python3.9/site-packages/xgboost/core.py:158: UserWarning:\n",
      "\n",
      "[18:20:09] WARNING: /Users/runner/work/xgboost/xgboost/src/learner.cc:740: \n",
      "Parameters: { \"eval_set\", \"verbose\" } are not used.\n",
      "\n",
      "\n",
      "/opt/anaconda3/lib/python3.9/site-packages/xgboost/core.py:158: UserWarning:\n",
      "\n",
      "[18:20:09] WARNING: /Users/runner/work/xgboost/xgboost/src/learner.cc:740: \n",
      "Parameters: { \"eval_set\", \"verbose\" } are not used.\n",
      "\n",
      "\n",
      "/opt/anaconda3/lib/python3.9/site-packages/xgboost/core.py:158: UserWarning:\n",
      "\n",
      "[18:20:09] WARNING: /Users/runner/work/xgboost/xgboost/src/learner.cc:740: \n",
      "Parameters: { \"eval_set\", \"verbose\" } are not used.\n",
      "\n",
      "\n",
      "/opt/anaconda3/lib/python3.9/site-packages/xgboost/core.py:158: UserWarning:\n",
      "\n",
      "[18:20:09] WARNING: /Users/runner/work/xgboost/xgboost/src/learner.cc:740: \n",
      "Parameters: { \"eval_set\", \"verbose\" } are not used.\n",
      "\n",
      "\n",
      "/opt/anaconda3/lib/python3.9/site-packages/xgboost/core.py:158: UserWarning:\n",
      "\n",
      "[18:20:09] WARNING: /Users/runner/work/xgboost/xgboost/src/learner.cc:740: \n",
      "Parameters: { \"eval_set\", \"verbose\" } are not used.\n",
      "\n",
      "\n",
      "/opt/anaconda3/lib/python3.9/site-packages/xgboost/core.py:158: UserWarning:\n",
      "\n",
      "[18:20:09] WARNING: /Users/runner/work/xgboost/xgboost/src/learner.cc:740: \n",
      "Parameters: { \"eval_set\", \"verbose\" } are not used.\n",
      "\n",
      "\n"
     ]
    },
    {
     "name": "stdout",
     "output_type": "stream",
     "text": [
      "Best params: {'gamma': 0.1, 'learning_rate': 0.05, 'max_depth': 8, 'n_estimators': 100, 'random_state': 42}\n",
      "Best validation score = -0.05633318605629245\n"
     ]
    },
    {
     "name": "stderr",
     "output_type": "stream",
     "text": [
      "/opt/anaconda3/lib/python3.9/site-packages/xgboost/core.py:158: UserWarning:\n",
      "\n",
      "[18:20:09] WARNING: /Users/runner/work/xgboost/xgboost/src/learner.cc:740: \n",
      "Parameters: { \"eval_set\", \"verbose\" } are not used.\n",
      "\n",
      "\n",
      "/opt/anaconda3/lib/python3.9/site-packages/xgboost/core.py:158: UserWarning:\n",
      "\n",
      "[18:20:10] WARNING: /Users/runner/work/xgboost/xgboost/src/learner.cc:740: \n",
      "Parameters: { \"eval_set\", \"verbose\" } are not used.\n",
      "\n",
      "\n",
      "/opt/anaconda3/lib/python3.9/site-packages/xgboost/core.py:158: UserWarning:\n",
      "\n",
      "[18:20:10] WARNING: /Users/runner/work/xgboost/xgboost/src/learner.cc:740: \n",
      "Parameters: { \"eval_set\", \"verbose\" } are not used.\n",
      "\n",
      "\n",
      "/opt/anaconda3/lib/python3.9/site-packages/xgboost/core.py:158: UserWarning:\n",
      "\n",
      "[18:20:10] WARNING: /Users/runner/work/xgboost/xgboost/src/learner.cc:740: \n",
      "Parameters: { \"eval_set\", \"verbose\" } are not used.\n",
      "\n",
      "\n",
      "/opt/anaconda3/lib/python3.9/site-packages/xgboost/core.py:158: UserWarning:\n",
      "\n",
      "[18:20:10] WARNING: /Users/runner/work/xgboost/xgboost/src/learner.cc:740: \n",
      "Parameters: { \"eval_set\", \"verbose\" } are not used.\n",
      "\n",
      "\n",
      "/opt/anaconda3/lib/python3.9/site-packages/xgboost/core.py:158: UserWarning:\n",
      "\n",
      "[18:20:10] WARNING: /Users/runner/work/xgboost/xgboost/src/learner.cc:740: \n",
      "Parameters: { \"eval_set\", \"verbose\" } are not used.\n",
      "\n",
      "\n"
     ]
    },
    {
     "name": "stdout",
     "output_type": "stream",
     "text": [
      "Best params: {'gamma': 0.1, 'learning_rate': 0.05, 'max_depth': 8, 'n_estimators': 100, 'random_state': 42}\n",
      "Best validation score = 0.10272830565980651\n"
     ]
    },
    {
     "name": "stderr",
     "output_type": "stream",
     "text": [
      "/opt/anaconda3/lib/python3.9/site-packages/xgboost/core.py:158: UserWarning:\n",
      "\n",
      "[18:20:10] WARNING: /Users/runner/work/xgboost/xgboost/src/learner.cc:740: \n",
      "Parameters: { \"eval_set\", \"verbose\" } are not used.\n",
      "\n",
      "\n",
      "/opt/anaconda3/lib/python3.9/site-packages/xgboost/core.py:158: UserWarning:\n",
      "\n",
      "[18:20:10] WARNING: /Users/runner/work/xgboost/xgboost/src/learner.cc:740: \n",
      "Parameters: { \"eval_set\", \"verbose\" } are not used.\n",
      "\n",
      "\n",
      "/opt/anaconda3/lib/python3.9/site-packages/xgboost/core.py:158: UserWarning:\n",
      "\n",
      "[18:20:11] WARNING: /Users/runner/work/xgboost/xgboost/src/learner.cc:740: \n",
      "Parameters: { \"eval_set\", \"verbose\" } are not used.\n",
      "\n",
      "\n",
      "/opt/anaconda3/lib/python3.9/site-packages/xgboost/core.py:158: UserWarning:\n",
      "\n",
      "[18:20:11] WARNING: /Users/runner/work/xgboost/xgboost/src/learner.cc:740: \n",
      "Parameters: { \"eval_set\", \"verbose\" } are not used.\n",
      "\n",
      "\n",
      "/opt/anaconda3/lib/python3.9/site-packages/xgboost/core.py:158: UserWarning:\n",
      "\n",
      "[18:20:11] WARNING: /Users/runner/work/xgboost/xgboost/src/learner.cc:740: \n",
      "Parameters: { \"eval_set\", \"verbose\" } are not used.\n",
      "\n",
      "\n",
      "/opt/anaconda3/lib/python3.9/site-packages/xgboost/core.py:158: UserWarning:\n",
      "\n",
      "[18:20:11] WARNING: /Users/runner/work/xgboost/xgboost/src/learner.cc:740: \n",
      "Parameters: { \"eval_set\", \"verbose\" } are not used.\n",
      "\n",
      "\n"
     ]
    },
    {
     "name": "stdout",
     "output_type": "stream",
     "text": [
      "Best params: {'gamma': 0.1, 'learning_rate': 0.05, 'max_depth': 8, 'n_estimators': 100, 'random_state': 42}\n",
      "Best validation score = -2.380377038358969\n"
     ]
    },
    {
     "name": "stderr",
     "output_type": "stream",
     "text": [
      "/opt/anaconda3/lib/python3.9/site-packages/xgboost/core.py:158: UserWarning:\n",
      "\n",
      "[18:20:12] WARNING: /Users/runner/work/xgboost/xgboost/src/learner.cc:740: \n",
      "Parameters: { \"eval_set\", \"verbose\" } are not used.\n",
      "\n",
      "\n",
      "/opt/anaconda3/lib/python3.9/site-packages/xgboost/core.py:158: UserWarning:\n",
      "\n",
      "[18:20:12] WARNING: /Users/runner/work/xgboost/xgboost/src/learner.cc:740: \n",
      "Parameters: { \"eval_set\", \"verbose\" } are not used.\n",
      "\n",
      "\n",
      "/opt/anaconda3/lib/python3.9/site-packages/xgboost/core.py:158: UserWarning:\n",
      "\n",
      "[18:20:12] WARNING: /Users/runner/work/xgboost/xgboost/src/learner.cc:740: \n",
      "Parameters: { \"eval_set\", \"verbose\" } are not used.\n",
      "\n",
      "\n",
      "/opt/anaconda3/lib/python3.9/site-packages/xgboost/core.py:158: UserWarning:\n",
      "\n",
      "[18:20:12] WARNING: /Users/runner/work/xgboost/xgboost/src/learner.cc:740: \n",
      "Parameters: { \"eval_set\", \"verbose\" } are not used.\n",
      "\n",
      "\n",
      "/opt/anaconda3/lib/python3.9/site-packages/xgboost/core.py:158: UserWarning:\n",
      "\n",
      "[18:20:12] WARNING: /Users/runner/work/xgboost/xgboost/src/learner.cc:740: \n",
      "Parameters: { \"eval_set\", \"verbose\" } are not used.\n",
      "\n",
      "\n",
      "/opt/anaconda3/lib/python3.9/site-packages/xgboost/core.py:158: UserWarning:\n",
      "\n",
      "[18:20:12] WARNING: /Users/runner/work/xgboost/xgboost/src/learner.cc:740: \n",
      "Parameters: { \"eval_set\", \"verbose\" } are not used.\n",
      "\n",
      "\n"
     ]
    },
    {
     "name": "stdout",
     "output_type": "stream",
     "text": [
      "Best params: {'gamma': 0.1, 'learning_rate': 0.05, 'max_depth': 8, 'n_estimators': 100, 'random_state': 42}\n",
      "Best validation score = 0.08587936193739058\n"
     ]
    },
    {
     "name": "stderr",
     "output_type": "stream",
     "text": [
      "/opt/anaconda3/lib/python3.9/site-packages/xgboost/core.py:158: UserWarning:\n",
      "\n",
      "[18:20:13] WARNING: /Users/runner/work/xgboost/xgboost/src/learner.cc:740: \n",
      "Parameters: { \"eval_set\", \"verbose\" } are not used.\n",
      "\n",
      "\n",
      "/opt/anaconda3/lib/python3.9/site-packages/xgboost/core.py:158: UserWarning:\n",
      "\n",
      "[18:20:13] WARNING: /Users/runner/work/xgboost/xgboost/src/learner.cc:740: \n",
      "Parameters: { \"eval_set\", \"verbose\" } are not used.\n",
      "\n",
      "\n",
      "/opt/anaconda3/lib/python3.9/site-packages/xgboost/core.py:158: UserWarning:\n",
      "\n",
      "[18:20:13] WARNING: /Users/runner/work/xgboost/xgboost/src/learner.cc:740: \n",
      "Parameters: { \"eval_set\", \"verbose\" } are not used.\n",
      "\n",
      "\n",
      "/opt/anaconda3/lib/python3.9/site-packages/xgboost/core.py:158: UserWarning:\n",
      "\n",
      "[18:20:13] WARNING: /Users/runner/work/xgboost/xgboost/src/learner.cc:740: \n",
      "Parameters: { \"eval_set\", \"verbose\" } are not used.\n",
      "\n",
      "\n",
      "/opt/anaconda3/lib/python3.9/site-packages/xgboost/core.py:158: UserWarning:\n",
      "\n",
      "[18:20:13] WARNING: /Users/runner/work/xgboost/xgboost/src/learner.cc:740: \n",
      "Parameters: { \"eval_set\", \"verbose\" } are not used.\n",
      "\n",
      "\n",
      "/opt/anaconda3/lib/python3.9/site-packages/xgboost/core.py:158: UserWarning:\n",
      "\n",
      "[18:20:13] WARNING: /Users/runner/work/xgboost/xgboost/src/learner.cc:740: \n",
      "Parameters: { \"eval_set\", \"verbose\" } are not used.\n",
      "\n",
      "\n"
     ]
    },
    {
     "name": "stdout",
     "output_type": "stream",
     "text": [
      "Best params: {'gamma': 0.1, 'learning_rate': 0.05, 'max_depth': 8, 'n_estimators': 100, 'random_state': 42}\n",
      "Best validation score = 0.09988059654808265\n"
     ]
    },
    {
     "name": "stderr",
     "output_type": "stream",
     "text": [
      "/opt/anaconda3/lib/python3.9/site-packages/xgboost/core.py:158: UserWarning:\n",
      "\n",
      "[18:20:13] WARNING: /Users/runner/work/xgboost/xgboost/src/learner.cc:740: \n",
      "Parameters: { \"eval_set\", \"verbose\" } are not used.\n",
      "\n",
      "\n",
      "/opt/anaconda3/lib/python3.9/site-packages/xgboost/core.py:158: UserWarning:\n",
      "\n",
      "[18:20:14] WARNING: /Users/runner/work/xgboost/xgboost/src/learner.cc:740: \n",
      "Parameters: { \"eval_set\", \"verbose\" } are not used.\n",
      "\n",
      "\n",
      "/opt/anaconda3/lib/python3.9/site-packages/xgboost/core.py:158: UserWarning:\n",
      "\n",
      "[18:20:14] WARNING: /Users/runner/work/xgboost/xgboost/src/learner.cc:740: \n",
      "Parameters: { \"eval_set\", \"verbose\" } are not used.\n",
      "\n",
      "\n",
      "/opt/anaconda3/lib/python3.9/site-packages/xgboost/core.py:158: UserWarning:\n",
      "\n",
      "[18:20:14] WARNING: /Users/runner/work/xgboost/xgboost/src/learner.cc:740: \n",
      "Parameters: { \"eval_set\", \"verbose\" } are not used.\n",
      "\n",
      "\n",
      "/opt/anaconda3/lib/python3.9/site-packages/xgboost/core.py:158: UserWarning:\n",
      "\n",
      "[18:20:14] WARNING: /Users/runner/work/xgboost/xgboost/src/learner.cc:740: \n",
      "Parameters: { \"eval_set\", \"verbose\" } are not used.\n",
      "\n",
      "\n",
      "/opt/anaconda3/lib/python3.9/site-packages/xgboost/core.py:158: UserWarning:\n",
      "\n",
      "[18:20:14] WARNING: /Users/runner/work/xgboost/xgboost/src/learner.cc:740: \n",
      "Parameters: { \"eval_set\", \"verbose\" } are not used.\n",
      "\n",
      "\n"
     ]
    },
    {
     "name": "stdout",
     "output_type": "stream",
     "text": [
      "Best params: {'gamma': 0.1, 'learning_rate': 0.05, 'max_depth': 8, 'n_estimators': 100, 'random_state': 42}\n",
      "Best validation score = -0.19567668014383052\n"
     ]
    },
    {
     "name": "stderr",
     "output_type": "stream",
     "text": [
      "/opt/anaconda3/lib/python3.9/site-packages/xgboost/core.py:158: UserWarning:\n",
      "\n",
      "[18:20:14] WARNING: /Users/runner/work/xgboost/xgboost/src/learner.cc:740: \n",
      "Parameters: { \"eval_set\", \"verbose\" } are not used.\n",
      "\n",
      "\n",
      "/opt/anaconda3/lib/python3.9/site-packages/xgboost/core.py:158: UserWarning:\n",
      "\n",
      "[18:20:14] WARNING: /Users/runner/work/xgboost/xgboost/src/learner.cc:740: \n",
      "Parameters: { \"eval_set\", \"verbose\" } are not used.\n",
      "\n",
      "\n",
      "/opt/anaconda3/lib/python3.9/site-packages/xgboost/core.py:158: UserWarning:\n",
      "\n",
      "[18:20:14] WARNING: /Users/runner/work/xgboost/xgboost/src/learner.cc:740: \n",
      "Parameters: { \"eval_set\", \"verbose\" } are not used.\n",
      "\n",
      "\n",
      "/opt/anaconda3/lib/python3.9/site-packages/xgboost/core.py:158: UserWarning:\n",
      "\n",
      "[18:20:15] WARNING: /Users/runner/work/xgboost/xgboost/src/learner.cc:740: \n",
      "Parameters: { \"eval_set\", \"verbose\" } are not used.\n",
      "\n",
      "\n",
      "/opt/anaconda3/lib/python3.9/site-packages/xgboost/core.py:158: UserWarning:\n",
      "\n",
      "[18:20:15] WARNING: /Users/runner/work/xgboost/xgboost/src/learner.cc:740: \n",
      "Parameters: { \"eval_set\", \"verbose\" } are not used.\n",
      "\n",
      "\n",
      "/opt/anaconda3/lib/python3.9/site-packages/xgboost/core.py:158: UserWarning:\n",
      "\n",
      "[18:20:15] WARNING: /Users/runner/work/xgboost/xgboost/src/learner.cc:740: \n",
      "Parameters: { \"eval_set\", \"verbose\" } are not used.\n",
      "\n",
      "\n"
     ]
    },
    {
     "name": "stdout",
     "output_type": "stream",
     "text": [
      "Best params: {'gamma': 0.1, 'learning_rate': 0.05, 'max_depth': 8, 'n_estimators': 100, 'random_state': 42}\n",
      "Best validation score = 0.024727041068306765\n"
     ]
    },
    {
     "name": "stderr",
     "output_type": "stream",
     "text": [
      "/opt/anaconda3/lib/python3.9/site-packages/xgboost/core.py:158: UserWarning:\n",
      "\n",
      "[18:20:15] WARNING: /Users/runner/work/xgboost/xgboost/src/learner.cc:740: \n",
      "Parameters: { \"eval_set\", \"verbose\" } are not used.\n",
      "\n",
      "\n",
      "/opt/anaconda3/lib/python3.9/site-packages/xgboost/core.py:158: UserWarning:\n",
      "\n",
      "[18:20:15] WARNING: /Users/runner/work/xgboost/xgboost/src/learner.cc:740: \n",
      "Parameters: { \"eval_set\", \"verbose\" } are not used.\n",
      "\n",
      "\n",
      "/opt/anaconda3/lib/python3.9/site-packages/xgboost/core.py:158: UserWarning:\n",
      "\n",
      "[18:20:15] WARNING: /Users/runner/work/xgboost/xgboost/src/learner.cc:740: \n",
      "Parameters: { \"eval_set\", \"verbose\" } are not used.\n",
      "\n",
      "\n",
      "/opt/anaconda3/lib/python3.9/site-packages/xgboost/core.py:158: UserWarning:\n",
      "\n",
      "[18:20:15] WARNING: /Users/runner/work/xgboost/xgboost/src/learner.cc:740: \n",
      "Parameters: { \"eval_set\", \"verbose\" } are not used.\n",
      "\n",
      "\n",
      "/opt/anaconda3/lib/python3.9/site-packages/xgboost/core.py:158: UserWarning:\n",
      "\n",
      "[18:20:15] WARNING: /Users/runner/work/xgboost/xgboost/src/learner.cc:740: \n",
      "Parameters: { \"eval_set\", \"verbose\" } are not used.\n",
      "\n",
      "\n",
      "/opt/anaconda3/lib/python3.9/site-packages/xgboost/core.py:158: UserWarning:\n",
      "\n",
      "[18:20:16] WARNING: /Users/runner/work/xgboost/xgboost/src/learner.cc:740: \n",
      "Parameters: { \"eval_set\", \"verbose\" } are not used.\n",
      "\n",
      "\n"
     ]
    },
    {
     "name": "stdout",
     "output_type": "stream",
     "text": [
      "Best params: {'gamma': 0.1, 'learning_rate': 0.05, 'max_depth': 8, 'n_estimators': 100, 'random_state': 42}\n",
      "Best validation score = -0.5411370162139022\n"
     ]
    },
    {
     "name": "stderr",
     "output_type": "stream",
     "text": [
      "/opt/anaconda3/lib/python3.9/site-packages/xgboost/core.py:158: UserWarning:\n",
      "\n",
      "[18:20:16] WARNING: /Users/runner/work/xgboost/xgboost/src/learner.cc:740: \n",
      "Parameters: { \"eval_set\", \"verbose\" } are not used.\n",
      "\n",
      "\n",
      "/opt/anaconda3/lib/python3.9/site-packages/xgboost/core.py:158: UserWarning:\n",
      "\n",
      "[18:20:16] WARNING: /Users/runner/work/xgboost/xgboost/src/learner.cc:740: \n",
      "Parameters: { \"eval_set\", \"verbose\" } are not used.\n",
      "\n",
      "\n",
      "/opt/anaconda3/lib/python3.9/site-packages/xgboost/core.py:158: UserWarning:\n",
      "\n",
      "[18:20:16] WARNING: /Users/runner/work/xgboost/xgboost/src/learner.cc:740: \n",
      "Parameters: { \"eval_set\", \"verbose\" } are not used.\n",
      "\n",
      "\n",
      "/opt/anaconda3/lib/python3.9/site-packages/xgboost/core.py:158: UserWarning:\n",
      "\n",
      "[18:20:16] WARNING: /Users/runner/work/xgboost/xgboost/src/learner.cc:740: \n",
      "Parameters: { \"eval_set\", \"verbose\" } are not used.\n",
      "\n",
      "\n",
      "/opt/anaconda3/lib/python3.9/site-packages/xgboost/core.py:158: UserWarning:\n",
      "\n",
      "[18:20:16] WARNING: /Users/runner/work/xgboost/xgboost/src/learner.cc:740: \n",
      "Parameters: { \"eval_set\", \"verbose\" } are not used.\n",
      "\n",
      "\n",
      "/opt/anaconda3/lib/python3.9/site-packages/xgboost/core.py:158: UserWarning:\n",
      "\n",
      "[18:20:16] WARNING: /Users/runner/work/xgboost/xgboost/src/learner.cc:740: \n",
      "Parameters: { \"eval_set\", \"verbose\" } are not used.\n",
      "\n",
      "\n"
     ]
    },
    {
     "name": "stdout",
     "output_type": "stream",
     "text": [
      "Best params: {'gamma': 0.1, 'learning_rate': 0.05, 'max_depth': 8, 'n_estimators': 100, 'random_state': 42}\n",
      "Best validation score = -0.08595237170268319\n",
      "Error encountered: Cannot have number of splits n_splits=5 greater than the number of samples: n_samples=4.\n"
     ]
    },
    {
     "name": "stderr",
     "output_type": "stream",
     "text": [
      "/opt/anaconda3/lib/python3.9/site-packages/xgboost/core.py:158: UserWarning:\n",
      "\n",
      "[18:20:16] WARNING: /Users/runner/work/xgboost/xgboost/src/learner.cc:740: \n",
      "Parameters: { \"eval_set\", \"verbose\" } are not used.\n",
      "\n",
      "\n",
      "/opt/anaconda3/lib/python3.9/site-packages/xgboost/core.py:158: UserWarning:\n",
      "\n",
      "[18:20:17] WARNING: /Users/runner/work/xgboost/xgboost/src/learner.cc:740: \n",
      "Parameters: { \"eval_set\", \"verbose\" } are not used.\n",
      "\n",
      "\n",
      "/opt/anaconda3/lib/python3.9/site-packages/xgboost/core.py:158: UserWarning:\n",
      "\n",
      "[18:20:17] WARNING: /Users/runner/work/xgboost/xgboost/src/learner.cc:740: \n",
      "Parameters: { \"eval_set\", \"verbose\" } are not used.\n",
      "\n",
      "\n",
      "/opt/anaconda3/lib/python3.9/site-packages/xgboost/core.py:158: UserWarning:\n",
      "\n",
      "[18:20:17] WARNING: /Users/runner/work/xgboost/xgboost/src/learner.cc:740: \n",
      "Parameters: { \"eval_set\", \"verbose\" } are not used.\n",
      "\n",
      "\n",
      "/opt/anaconda3/lib/python3.9/site-packages/xgboost/core.py:158: UserWarning:\n",
      "\n",
      "[18:20:17] WARNING: /Users/runner/work/xgboost/xgboost/src/learner.cc:740: \n",
      "Parameters: { \"eval_set\", \"verbose\" } are not used.\n",
      "\n",
      "\n",
      "/opt/anaconda3/lib/python3.9/site-packages/xgboost/core.py:158: UserWarning:\n",
      "\n",
      "[18:20:17] WARNING: /Users/runner/work/xgboost/xgboost/src/learner.cc:740: \n",
      "Parameters: { \"eval_set\", \"verbose\" } are not used.\n",
      "\n",
      "\n"
     ]
    },
    {
     "name": "stdout",
     "output_type": "stream",
     "text": [
      "Best params: {'gamma': 0.1, 'learning_rate': 0.05, 'max_depth': 8, 'n_estimators': 100, 'random_state': 42}\n",
      "Best validation score = -0.0753006725157487\n"
     ]
    },
    {
     "name": "stderr",
     "output_type": "stream",
     "text": [
      "/opt/anaconda3/lib/python3.9/site-packages/xgboost/core.py:158: UserWarning:\n",
      "\n",
      "[18:20:17] WARNING: /Users/runner/work/xgboost/xgboost/src/learner.cc:740: \n",
      "Parameters: { \"eval_set\", \"verbose\" } are not used.\n",
      "\n",
      "\n",
      "/opt/anaconda3/lib/python3.9/site-packages/xgboost/core.py:158: UserWarning:\n",
      "\n",
      "[18:20:17] WARNING: /Users/runner/work/xgboost/xgboost/src/learner.cc:740: \n",
      "Parameters: { \"eval_set\", \"verbose\" } are not used.\n",
      "\n",
      "\n",
      "/opt/anaconda3/lib/python3.9/site-packages/xgboost/core.py:158: UserWarning:\n",
      "\n",
      "[18:20:17] WARNING: /Users/runner/work/xgboost/xgboost/src/learner.cc:740: \n",
      "Parameters: { \"eval_set\", \"verbose\" } are not used.\n",
      "\n",
      "\n",
      "/opt/anaconda3/lib/python3.9/site-packages/xgboost/core.py:158: UserWarning:\n",
      "\n",
      "[18:20:18] WARNING: /Users/runner/work/xgboost/xgboost/src/learner.cc:740: \n",
      "Parameters: { \"eval_set\", \"verbose\" } are not used.\n",
      "\n",
      "\n",
      "/opt/anaconda3/lib/python3.9/site-packages/xgboost/core.py:158: UserWarning:\n",
      "\n",
      "[18:20:18] WARNING: /Users/runner/work/xgboost/xgboost/src/learner.cc:740: \n",
      "Parameters: { \"eval_set\", \"verbose\" } are not used.\n",
      "\n",
      "\n",
      "/opt/anaconda3/lib/python3.9/site-packages/xgboost/core.py:158: UserWarning:\n",
      "\n",
      "[18:20:18] WARNING: /Users/runner/work/xgboost/xgboost/src/learner.cc:740: \n",
      "Parameters: { \"eval_set\", \"verbose\" } are not used.\n",
      "\n",
      "\n"
     ]
    },
    {
     "name": "stdout",
     "output_type": "stream",
     "text": [
      "Best params: {'gamma': 0.1, 'learning_rate': 0.05, 'max_depth': 8, 'n_estimators': 100, 'random_state': 42}\n",
      "Best validation score = 0.1444577779007365\n"
     ]
    },
    {
     "name": "stderr",
     "output_type": "stream",
     "text": [
      "/opt/anaconda3/lib/python3.9/site-packages/xgboost/core.py:158: UserWarning:\n",
      "\n",
      "[18:20:18] WARNING: /Users/runner/work/xgboost/xgboost/src/learner.cc:740: \n",
      "Parameters: { \"eval_set\", \"verbose\" } are not used.\n",
      "\n",
      "\n",
      "/opt/anaconda3/lib/python3.9/site-packages/xgboost/core.py:158: UserWarning:\n",
      "\n",
      "[18:20:18] WARNING: /Users/runner/work/xgboost/xgboost/src/learner.cc:740: \n",
      "Parameters: { \"eval_set\", \"verbose\" } are not used.\n",
      "\n",
      "\n",
      "/opt/anaconda3/lib/python3.9/site-packages/xgboost/core.py:158: UserWarning:\n",
      "\n",
      "[18:20:18] WARNING: /Users/runner/work/xgboost/xgboost/src/learner.cc:740: \n",
      "Parameters: { \"eval_set\", \"verbose\" } are not used.\n",
      "\n",
      "\n",
      "/opt/anaconda3/lib/python3.9/site-packages/xgboost/core.py:158: UserWarning:\n",
      "\n",
      "[18:20:18] WARNING: /Users/runner/work/xgboost/xgboost/src/learner.cc:740: \n",
      "Parameters: { \"eval_set\", \"verbose\" } are not used.\n",
      "\n",
      "\n",
      "/opt/anaconda3/lib/python3.9/site-packages/xgboost/core.py:158: UserWarning:\n",
      "\n",
      "[18:20:19] WARNING: /Users/runner/work/xgboost/xgboost/src/learner.cc:740: \n",
      "Parameters: { \"eval_set\", \"verbose\" } are not used.\n",
      "\n",
      "\n",
      "/opt/anaconda3/lib/python3.9/site-packages/xgboost/core.py:158: UserWarning:\n",
      "\n",
      "[18:20:19] WARNING: /Users/runner/work/xgboost/xgboost/src/learner.cc:740: \n",
      "Parameters: { \"eval_set\", \"verbose\" } are not used.\n",
      "\n",
      "\n"
     ]
    },
    {
     "name": "stdout",
     "output_type": "stream",
     "text": [
      "Best params: {'gamma': 0.1, 'learning_rate': 0.05, 'max_depth': 8, 'n_estimators': 100, 'random_state': 42}\n",
      "Best validation score = 0.036156009766764786\n"
     ]
    },
    {
     "name": "stderr",
     "output_type": "stream",
     "text": [
      "/opt/anaconda3/lib/python3.9/site-packages/xgboost/core.py:158: UserWarning:\n",
      "\n",
      "[18:20:19] WARNING: /Users/runner/work/xgboost/xgboost/src/learner.cc:740: \n",
      "Parameters: { \"eval_set\", \"verbose\" } are not used.\n",
      "\n",
      "\n",
      "/opt/anaconda3/lib/python3.9/site-packages/xgboost/core.py:158: UserWarning:\n",
      "\n",
      "[18:20:19] WARNING: /Users/runner/work/xgboost/xgboost/src/learner.cc:740: \n",
      "Parameters: { \"eval_set\", \"verbose\" } are not used.\n",
      "\n",
      "\n",
      "/opt/anaconda3/lib/python3.9/site-packages/xgboost/core.py:158: UserWarning:\n",
      "\n",
      "[18:20:19] WARNING: /Users/runner/work/xgboost/xgboost/src/learner.cc:740: \n",
      "Parameters: { \"eval_set\", \"verbose\" } are not used.\n",
      "\n",
      "\n",
      "/opt/anaconda3/lib/python3.9/site-packages/xgboost/core.py:158: UserWarning:\n",
      "\n",
      "[18:20:19] WARNING: /Users/runner/work/xgboost/xgboost/src/learner.cc:740: \n",
      "Parameters: { \"eval_set\", \"verbose\" } are not used.\n",
      "\n",
      "\n",
      "/opt/anaconda3/lib/python3.9/site-packages/xgboost/core.py:158: UserWarning:\n",
      "\n",
      "[18:20:19] WARNING: /Users/runner/work/xgboost/xgboost/src/learner.cc:740: \n",
      "Parameters: { \"eval_set\", \"verbose\" } are not used.\n",
      "\n",
      "\n",
      "/opt/anaconda3/lib/python3.9/site-packages/xgboost/core.py:158: UserWarning:\n",
      "\n",
      "[18:20:20] WARNING: /Users/runner/work/xgboost/xgboost/src/learner.cc:740: \n",
      "Parameters: { \"eval_set\", \"verbose\" } are not used.\n",
      "\n",
      "\n"
     ]
    },
    {
     "name": "stdout",
     "output_type": "stream",
     "text": [
      "Best params: {'gamma': 0.1, 'learning_rate': 0.05, 'max_depth': 8, 'n_estimators': 100, 'random_state': 42}\n",
      "Best validation score = 0.06415133544943497\n"
     ]
    },
    {
     "name": "stderr",
     "output_type": "stream",
     "text": [
      "/opt/anaconda3/lib/python3.9/site-packages/xgboost/core.py:158: UserWarning:\n",
      "\n",
      "[18:20:20] WARNING: /Users/runner/work/xgboost/xgboost/src/learner.cc:740: \n",
      "Parameters: { \"eval_set\", \"verbose\" } are not used.\n",
      "\n",
      "\n",
      "/opt/anaconda3/lib/python3.9/site-packages/xgboost/core.py:158: UserWarning:\n",
      "\n",
      "[18:20:20] WARNING: /Users/runner/work/xgboost/xgboost/src/learner.cc:740: \n",
      "Parameters: { \"eval_set\", \"verbose\" } are not used.\n",
      "\n",
      "\n",
      "/opt/anaconda3/lib/python3.9/site-packages/xgboost/core.py:158: UserWarning:\n",
      "\n",
      "[18:20:20] WARNING: /Users/runner/work/xgboost/xgboost/src/learner.cc:740: \n",
      "Parameters: { \"eval_set\", \"verbose\" } are not used.\n",
      "\n",
      "\n",
      "/opt/anaconda3/lib/python3.9/site-packages/xgboost/core.py:158: UserWarning:\n",
      "\n",
      "[18:20:20] WARNING: /Users/runner/work/xgboost/xgboost/src/learner.cc:740: \n",
      "Parameters: { \"eval_set\", \"verbose\" } are not used.\n",
      "\n",
      "\n",
      "/opt/anaconda3/lib/python3.9/site-packages/xgboost/core.py:158: UserWarning:\n",
      "\n",
      "[18:20:20] WARNING: /Users/runner/work/xgboost/xgboost/src/learner.cc:740: \n",
      "Parameters: { \"eval_set\", \"verbose\" } are not used.\n",
      "\n",
      "\n",
      "/opt/anaconda3/lib/python3.9/site-packages/xgboost/core.py:158: UserWarning:\n",
      "\n",
      "[18:20:21] WARNING: /Users/runner/work/xgboost/xgboost/src/learner.cc:740: \n",
      "Parameters: { \"eval_set\", \"verbose\" } are not used.\n",
      "\n",
      "\n"
     ]
    },
    {
     "name": "stdout",
     "output_type": "stream",
     "text": [
      "Best params: {'gamma': 0.1, 'learning_rate': 0.05, 'max_depth': 8, 'n_estimators': 100, 'random_state': 42}\n",
      "Best validation score = -0.37723024844769126\n"
     ]
    },
    {
     "name": "stderr",
     "output_type": "stream",
     "text": [
      "/opt/anaconda3/lib/python3.9/site-packages/xgboost/core.py:158: UserWarning:\n",
      "\n",
      "[18:20:21] WARNING: /Users/runner/work/xgboost/xgboost/src/learner.cc:740: \n",
      "Parameters: { \"eval_set\", \"verbose\" } are not used.\n",
      "\n",
      "\n",
      "/opt/anaconda3/lib/python3.9/site-packages/xgboost/core.py:158: UserWarning:\n",
      "\n",
      "[18:20:21] WARNING: /Users/runner/work/xgboost/xgboost/src/learner.cc:740: \n",
      "Parameters: { \"eval_set\", \"verbose\" } are not used.\n",
      "\n",
      "\n",
      "/opt/anaconda3/lib/python3.9/site-packages/xgboost/core.py:158: UserWarning:\n",
      "\n",
      "[18:20:21] WARNING: /Users/runner/work/xgboost/xgboost/src/learner.cc:740: \n",
      "Parameters: { \"eval_set\", \"verbose\" } are not used.\n",
      "\n",
      "\n",
      "/opt/anaconda3/lib/python3.9/site-packages/xgboost/core.py:158: UserWarning:\n",
      "\n",
      "[18:20:21] WARNING: /Users/runner/work/xgboost/xgboost/src/learner.cc:740: \n",
      "Parameters: { \"eval_set\", \"verbose\" } are not used.\n",
      "\n",
      "\n",
      "/opt/anaconda3/lib/python3.9/site-packages/xgboost/core.py:158: UserWarning:\n",
      "\n",
      "[18:20:21] WARNING: /Users/runner/work/xgboost/xgboost/src/learner.cc:740: \n",
      "Parameters: { \"eval_set\", \"verbose\" } are not used.\n",
      "\n",
      "\n",
      "/opt/anaconda3/lib/python3.9/site-packages/xgboost/core.py:158: UserWarning:\n",
      "\n",
      "[18:20:21] WARNING: /Users/runner/work/xgboost/xgboost/src/learner.cc:740: \n",
      "Parameters: { \"eval_set\", \"verbose\" } are not used.\n",
      "\n",
      "\n"
     ]
    },
    {
     "name": "stdout",
     "output_type": "stream",
     "text": [
      "Best params: {'gamma': 0.1, 'learning_rate': 0.05, 'max_depth': 8, 'n_estimators': 100, 'random_state': 42}\n",
      "Best validation score = -0.0028338258754393884\n"
     ]
    },
    {
     "name": "stderr",
     "output_type": "stream",
     "text": [
      "/opt/anaconda3/lib/python3.9/site-packages/xgboost/core.py:158: UserWarning:\n",
      "\n",
      "[18:20:22] WARNING: /Users/runner/work/xgboost/xgboost/src/learner.cc:740: \n",
      "Parameters: { \"eval_set\", \"verbose\" } are not used.\n",
      "\n",
      "\n",
      "/opt/anaconda3/lib/python3.9/site-packages/xgboost/core.py:158: UserWarning:\n",
      "\n",
      "[18:20:22] WARNING: /Users/runner/work/xgboost/xgboost/src/learner.cc:740: \n",
      "Parameters: { \"eval_set\", \"verbose\" } are not used.\n",
      "\n",
      "\n",
      "/opt/anaconda3/lib/python3.9/site-packages/xgboost/core.py:158: UserWarning:\n",
      "\n",
      "[18:20:22] WARNING: /Users/runner/work/xgboost/xgboost/src/learner.cc:740: \n",
      "Parameters: { \"eval_set\", \"verbose\" } are not used.\n",
      "\n",
      "\n",
      "/opt/anaconda3/lib/python3.9/site-packages/xgboost/core.py:158: UserWarning:\n",
      "\n",
      "[18:20:22] WARNING: /Users/runner/work/xgboost/xgboost/src/learner.cc:740: \n",
      "Parameters: { \"eval_set\", \"verbose\" } are not used.\n",
      "\n",
      "\n",
      "/opt/anaconda3/lib/python3.9/site-packages/xgboost/core.py:158: UserWarning:\n",
      "\n",
      "[18:20:22] WARNING: /Users/runner/work/xgboost/xgboost/src/learner.cc:740: \n",
      "Parameters: { \"eval_set\", \"verbose\" } are not used.\n",
      "\n",
      "\n",
      "/opt/anaconda3/lib/python3.9/site-packages/xgboost/core.py:158: UserWarning:\n",
      "\n",
      "[18:20:22] WARNING: /Users/runner/work/xgboost/xgboost/src/learner.cc:740: \n",
      "Parameters: { \"eval_set\", \"verbose\" } are not used.\n",
      "\n",
      "\n"
     ]
    },
    {
     "name": "stdout",
     "output_type": "stream",
     "text": [
      "Best params: {'gamma': 0.1, 'learning_rate': 0.05, 'max_depth': 8, 'n_estimators': 100, 'random_state': 42}\n",
      "Best validation score = 0.08161011934705598\n"
     ]
    },
    {
     "name": "stderr",
     "output_type": "stream",
     "text": [
      "/opt/anaconda3/lib/python3.9/site-packages/xgboost/core.py:158: UserWarning:\n",
      "\n",
      "[18:20:22] WARNING: /Users/runner/work/xgboost/xgboost/src/learner.cc:740: \n",
      "Parameters: { \"eval_set\", \"verbose\" } are not used.\n",
      "\n",
      "\n",
      "/opt/anaconda3/lib/python3.9/site-packages/xgboost/core.py:158: UserWarning:\n",
      "\n",
      "[18:20:23] WARNING: /Users/runner/work/xgboost/xgboost/src/learner.cc:740: \n",
      "Parameters: { \"eval_set\", \"verbose\" } are not used.\n",
      "\n",
      "\n",
      "/opt/anaconda3/lib/python3.9/site-packages/xgboost/core.py:158: UserWarning:\n",
      "\n",
      "[18:20:23] WARNING: /Users/runner/work/xgboost/xgboost/src/learner.cc:740: \n",
      "Parameters: { \"eval_set\", \"verbose\" } are not used.\n",
      "\n",
      "\n",
      "/opt/anaconda3/lib/python3.9/site-packages/xgboost/core.py:158: UserWarning:\n",
      "\n",
      "[18:20:23] WARNING: /Users/runner/work/xgboost/xgboost/src/learner.cc:740: \n",
      "Parameters: { \"eval_set\", \"verbose\" } are not used.\n",
      "\n",
      "\n",
      "/opt/anaconda3/lib/python3.9/site-packages/xgboost/core.py:158: UserWarning:\n",
      "\n",
      "[18:20:23] WARNING: /Users/runner/work/xgboost/xgboost/src/learner.cc:740: \n",
      "Parameters: { \"eval_set\", \"verbose\" } are not used.\n",
      "\n",
      "\n",
      "/opt/anaconda3/lib/python3.9/site-packages/xgboost/core.py:158: UserWarning:\n",
      "\n",
      "[18:20:23] WARNING: /Users/runner/work/xgboost/xgboost/src/learner.cc:740: \n",
      "Parameters: { \"eval_set\", \"verbose\" } are not used.\n",
      "\n",
      "\n"
     ]
    },
    {
     "name": "stdout",
     "output_type": "stream",
     "text": [
      "Best params: {'gamma': 0.1, 'learning_rate': 0.05, 'max_depth': 8, 'n_estimators': 100, 'random_state': 42}\n",
      "Best validation score = 0.02373288475930373\n"
     ]
    },
    {
     "name": "stderr",
     "output_type": "stream",
     "text": [
      "/opt/anaconda3/lib/python3.9/site-packages/xgboost/core.py:158: UserWarning:\n",
      "\n",
      "[18:20:23] WARNING: /Users/runner/work/xgboost/xgboost/src/learner.cc:740: \n",
      "Parameters: { \"eval_set\", \"verbose\" } are not used.\n",
      "\n",
      "\n",
      "/opt/anaconda3/lib/python3.9/site-packages/xgboost/core.py:158: UserWarning:\n",
      "\n",
      "[18:20:23] WARNING: /Users/runner/work/xgboost/xgboost/src/learner.cc:740: \n",
      "Parameters: { \"eval_set\", \"verbose\" } are not used.\n",
      "\n",
      "\n",
      "/opt/anaconda3/lib/python3.9/site-packages/xgboost/core.py:158: UserWarning:\n",
      "\n",
      "[18:20:24] WARNING: /Users/runner/work/xgboost/xgboost/src/learner.cc:740: \n",
      "Parameters: { \"eval_set\", \"verbose\" } are not used.\n",
      "\n",
      "\n",
      "/opt/anaconda3/lib/python3.9/site-packages/xgboost/core.py:158: UserWarning:\n",
      "\n",
      "[18:20:24] WARNING: /Users/runner/work/xgboost/xgboost/src/learner.cc:740: \n",
      "Parameters: { \"eval_set\", \"verbose\" } are not used.\n",
      "\n",
      "\n",
      "/opt/anaconda3/lib/python3.9/site-packages/xgboost/core.py:158: UserWarning:\n",
      "\n",
      "[18:20:24] WARNING: /Users/runner/work/xgboost/xgboost/src/learner.cc:740: \n",
      "Parameters: { \"eval_set\", \"verbose\" } are not used.\n",
      "\n",
      "\n",
      "/opt/anaconda3/lib/python3.9/site-packages/xgboost/core.py:158: UserWarning:\n",
      "\n",
      "[18:20:24] WARNING: /Users/runner/work/xgboost/xgboost/src/learner.cc:740: \n",
      "Parameters: { \"eval_set\", \"verbose\" } are not used.\n",
      "\n",
      "\n"
     ]
    },
    {
     "name": "stdout",
     "output_type": "stream",
     "text": [
      "Best params: {'gamma': 0.1, 'learning_rate': 0.05, 'max_depth': 8, 'n_estimators': 100, 'random_state': 42}\n",
      "Best validation score = -0.04410487980172917\n"
     ]
    },
    {
     "name": "stderr",
     "output_type": "stream",
     "text": [
      "/opt/anaconda3/lib/python3.9/site-packages/xgboost/core.py:158: UserWarning:\n",
      "\n",
      "[18:20:24] WARNING: /Users/runner/work/xgboost/xgboost/src/learner.cc:740: \n",
      "Parameters: { \"eval_set\", \"verbose\" } are not used.\n",
      "\n",
      "\n",
      "/opt/anaconda3/lib/python3.9/site-packages/xgboost/core.py:158: UserWarning:\n",
      "\n",
      "[18:20:24] WARNING: /Users/runner/work/xgboost/xgboost/src/learner.cc:740: \n",
      "Parameters: { \"eval_set\", \"verbose\" } are not used.\n",
      "\n",
      "\n",
      "/opt/anaconda3/lib/python3.9/site-packages/xgboost/core.py:158: UserWarning:\n",
      "\n",
      "[18:20:24] WARNING: /Users/runner/work/xgboost/xgboost/src/learner.cc:740: \n",
      "Parameters: { \"eval_set\", \"verbose\" } are not used.\n",
      "\n",
      "\n",
      "/opt/anaconda3/lib/python3.9/site-packages/xgboost/core.py:158: UserWarning:\n",
      "\n",
      "[18:20:24] WARNING: /Users/runner/work/xgboost/xgboost/src/learner.cc:740: \n",
      "Parameters: { \"eval_set\", \"verbose\" } are not used.\n",
      "\n",
      "\n",
      "/opt/anaconda3/lib/python3.9/site-packages/xgboost/core.py:158: UserWarning:\n",
      "\n",
      "[18:20:25] WARNING: /Users/runner/work/xgboost/xgboost/src/learner.cc:740: \n",
      "Parameters: { \"eval_set\", \"verbose\" } are not used.\n",
      "\n",
      "\n",
      "/opt/anaconda3/lib/python3.9/site-packages/xgboost/core.py:158: UserWarning:\n",
      "\n",
      "[18:20:25] WARNING: /Users/runner/work/xgboost/xgboost/src/learner.cc:740: \n",
      "Parameters: { \"eval_set\", \"verbose\" } are not used.\n",
      "\n",
      "\n"
     ]
    },
    {
     "name": "stdout",
     "output_type": "stream",
     "text": [
      "Best params: {'gamma': 0.1, 'learning_rate': 0.05, 'max_depth': 8, 'n_estimators': 100, 'random_state': 42}\n",
      "Best validation score = 0.09450674924152244\n"
     ]
    },
    {
     "name": "stderr",
     "output_type": "stream",
     "text": [
      "/opt/anaconda3/lib/python3.9/site-packages/xgboost/core.py:158: UserWarning:\n",
      "\n",
      "[18:20:25] WARNING: /Users/runner/work/xgboost/xgboost/src/learner.cc:740: \n",
      "Parameters: { \"eval_set\", \"verbose\" } are not used.\n",
      "\n",
      "\n",
      "/opt/anaconda3/lib/python3.9/site-packages/xgboost/core.py:158: UserWarning:\n",
      "\n",
      "[18:20:25] WARNING: /Users/runner/work/xgboost/xgboost/src/learner.cc:740: \n",
      "Parameters: { \"eval_set\", \"verbose\" } are not used.\n",
      "\n",
      "\n",
      "/opt/anaconda3/lib/python3.9/site-packages/xgboost/core.py:158: UserWarning:\n",
      "\n",
      "[18:20:25] WARNING: /Users/runner/work/xgboost/xgboost/src/learner.cc:740: \n",
      "Parameters: { \"eval_set\", \"verbose\" } are not used.\n",
      "\n",
      "\n",
      "/opt/anaconda3/lib/python3.9/site-packages/xgboost/core.py:158: UserWarning:\n",
      "\n",
      "[18:20:25] WARNING: /Users/runner/work/xgboost/xgboost/src/learner.cc:740: \n",
      "Parameters: { \"eval_set\", \"verbose\" } are not used.\n",
      "\n",
      "\n",
      "/opt/anaconda3/lib/python3.9/site-packages/xgboost/core.py:158: UserWarning:\n",
      "\n",
      "[18:20:25] WARNING: /Users/runner/work/xgboost/xgboost/src/learner.cc:740: \n",
      "Parameters: { \"eval_set\", \"verbose\" } are not used.\n",
      "\n",
      "\n",
      "/opt/anaconda3/lib/python3.9/site-packages/xgboost/core.py:158: UserWarning:\n",
      "\n",
      "[18:20:25] WARNING: /Users/runner/work/xgboost/xgboost/src/learner.cc:740: \n",
      "Parameters: { \"eval_set\", \"verbose\" } are not used.\n",
      "\n",
      "\n"
     ]
    },
    {
     "name": "stdout",
     "output_type": "stream",
     "text": [
      "Best params: {'gamma': 0.1, 'learning_rate': 0.05, 'max_depth': 8, 'n_estimators': 100, 'random_state': 42}\n",
      "Best validation score = 0.17098706445068607\n"
     ]
    },
    {
     "name": "stderr",
     "output_type": "stream",
     "text": [
      "/opt/anaconda3/lib/python3.9/site-packages/xgboost/core.py:158: UserWarning:\n",
      "\n",
      "[18:20:26] WARNING: /Users/runner/work/xgboost/xgboost/src/learner.cc:740: \n",
      "Parameters: { \"eval_set\", \"verbose\" } are not used.\n",
      "\n",
      "\n",
      "/opt/anaconda3/lib/python3.9/site-packages/xgboost/core.py:158: UserWarning:\n",
      "\n",
      "[18:20:26] WARNING: /Users/runner/work/xgboost/xgboost/src/learner.cc:740: \n",
      "Parameters: { \"eval_set\", \"verbose\" } are not used.\n",
      "\n",
      "\n",
      "/opt/anaconda3/lib/python3.9/site-packages/xgboost/core.py:158: UserWarning:\n",
      "\n",
      "[18:20:26] WARNING: /Users/runner/work/xgboost/xgboost/src/learner.cc:740: \n",
      "Parameters: { \"eval_set\", \"verbose\" } are not used.\n",
      "\n",
      "\n",
      "/opt/anaconda3/lib/python3.9/site-packages/xgboost/core.py:158: UserWarning:\n",
      "\n",
      "[18:20:26] WARNING: /Users/runner/work/xgboost/xgboost/src/learner.cc:740: \n",
      "Parameters: { \"eval_set\", \"verbose\" } are not used.\n",
      "\n",
      "\n",
      "/opt/anaconda3/lib/python3.9/site-packages/xgboost/core.py:158: UserWarning:\n",
      "\n",
      "[18:20:26] WARNING: /Users/runner/work/xgboost/xgboost/src/learner.cc:740: \n",
      "Parameters: { \"eval_set\", \"verbose\" } are not used.\n",
      "\n",
      "\n",
      "/opt/anaconda3/lib/python3.9/site-packages/xgboost/core.py:158: UserWarning:\n",
      "\n",
      "[18:20:26] WARNING: /Users/runner/work/xgboost/xgboost/src/learner.cc:740: \n",
      "Parameters: { \"eval_set\", \"verbose\" } are not used.\n",
      "\n",
      "\n"
     ]
    },
    {
     "name": "stdout",
     "output_type": "stream",
     "text": [
      "Best params: {'gamma': 0.1, 'learning_rate': 0.05, 'max_depth': 8, 'n_estimators': 100, 'random_state': 42}\n",
      "Best validation score = -0.3069962478963513\n"
     ]
    },
    {
     "name": "stderr",
     "output_type": "stream",
     "text": [
      "/opt/anaconda3/lib/python3.9/site-packages/xgboost/core.py:158: UserWarning:\n",
      "\n",
      "[18:20:26] WARNING: /Users/runner/work/xgboost/xgboost/src/learner.cc:740: \n",
      "Parameters: { \"eval_set\", \"verbose\" } are not used.\n",
      "\n",
      "\n",
      "/opt/anaconda3/lib/python3.9/site-packages/xgboost/core.py:158: UserWarning:\n",
      "\n",
      "[18:20:27] WARNING: /Users/runner/work/xgboost/xgboost/src/learner.cc:740: \n",
      "Parameters: { \"eval_set\", \"verbose\" } are not used.\n",
      "\n",
      "\n",
      "/opt/anaconda3/lib/python3.9/site-packages/xgboost/core.py:158: UserWarning:\n",
      "\n",
      "[18:20:27] WARNING: /Users/runner/work/xgboost/xgboost/src/learner.cc:740: \n",
      "Parameters: { \"eval_set\", \"verbose\" } are not used.\n",
      "\n",
      "\n",
      "/opt/anaconda3/lib/python3.9/site-packages/xgboost/core.py:158: UserWarning:\n",
      "\n",
      "[18:20:27] WARNING: /Users/runner/work/xgboost/xgboost/src/learner.cc:740: \n",
      "Parameters: { \"eval_set\", \"verbose\" } are not used.\n",
      "\n",
      "\n",
      "/opt/anaconda3/lib/python3.9/site-packages/xgboost/core.py:158: UserWarning:\n",
      "\n",
      "[18:20:27] WARNING: /Users/runner/work/xgboost/xgboost/src/learner.cc:740: \n",
      "Parameters: { \"eval_set\", \"verbose\" } are not used.\n",
      "\n",
      "\n",
      "/opt/anaconda3/lib/python3.9/site-packages/xgboost/core.py:158: UserWarning:\n",
      "\n",
      "[18:20:27] WARNING: /Users/runner/work/xgboost/xgboost/src/learner.cc:740: \n",
      "Parameters: { \"eval_set\", \"verbose\" } are not used.\n",
      "\n",
      "\n"
     ]
    },
    {
     "name": "stdout",
     "output_type": "stream",
     "text": [
      "Best params: {'gamma': 0.1, 'learning_rate': 0.05, 'max_depth': 8, 'n_estimators': 100, 'random_state': 42}\n",
      "Best validation score = 0.027124811644589\n"
     ]
    },
    {
     "name": "stderr",
     "output_type": "stream",
     "text": [
      "/opt/anaconda3/lib/python3.9/site-packages/xgboost/core.py:158: UserWarning:\n",
      "\n",
      "[18:20:27] WARNING: /Users/runner/work/xgboost/xgboost/src/learner.cc:740: \n",
      "Parameters: { \"eval_set\", \"verbose\" } are not used.\n",
      "\n",
      "\n",
      "/opt/anaconda3/lib/python3.9/site-packages/xgboost/core.py:158: UserWarning:\n",
      "\n",
      "[18:20:27] WARNING: /Users/runner/work/xgboost/xgboost/src/learner.cc:740: \n",
      "Parameters: { \"eval_set\", \"verbose\" } are not used.\n",
      "\n",
      "\n",
      "/opt/anaconda3/lib/python3.9/site-packages/xgboost/core.py:158: UserWarning:\n",
      "\n",
      "[18:20:27] WARNING: /Users/runner/work/xgboost/xgboost/src/learner.cc:740: \n",
      "Parameters: { \"eval_set\", \"verbose\" } are not used.\n",
      "\n",
      "\n",
      "/opt/anaconda3/lib/python3.9/site-packages/xgboost/core.py:158: UserWarning:\n",
      "\n",
      "[18:20:27] WARNING: /Users/runner/work/xgboost/xgboost/src/learner.cc:740: \n",
      "Parameters: { \"eval_set\", \"verbose\" } are not used.\n",
      "\n",
      "\n",
      "/opt/anaconda3/lib/python3.9/site-packages/xgboost/core.py:158: UserWarning:\n",
      "\n",
      "[18:20:28] WARNING: /Users/runner/work/xgboost/xgboost/src/learner.cc:740: \n",
      "Parameters: { \"eval_set\", \"verbose\" } are not used.\n",
      "\n",
      "\n",
      "/opt/anaconda3/lib/python3.9/site-packages/xgboost/core.py:158: UserWarning:\n",
      "\n",
      "[18:20:28] WARNING: /Users/runner/work/xgboost/xgboost/src/learner.cc:740: \n",
      "Parameters: { \"eval_set\", \"verbose\" } are not used.\n",
      "\n",
      "\n"
     ]
    },
    {
     "name": "stdout",
     "output_type": "stream",
     "text": [
      "Best params: {'gamma': 0.1, 'learning_rate': 0.05, 'max_depth': 8, 'n_estimators': 100, 'random_state': 42}\n",
      "Best validation score = -0.08145674973496426\n"
     ]
    },
    {
     "name": "stderr",
     "output_type": "stream",
     "text": [
      "/opt/anaconda3/lib/python3.9/site-packages/xgboost/core.py:158: UserWarning:\n",
      "\n",
      "[18:20:28] WARNING: /Users/runner/work/xgboost/xgboost/src/learner.cc:740: \n",
      "Parameters: { \"eval_set\", \"verbose\" } are not used.\n",
      "\n",
      "\n",
      "/opt/anaconda3/lib/python3.9/site-packages/xgboost/core.py:158: UserWarning:\n",
      "\n",
      "[18:20:28] WARNING: /Users/runner/work/xgboost/xgboost/src/learner.cc:740: \n",
      "Parameters: { \"eval_set\", \"verbose\" } are not used.\n",
      "\n",
      "\n",
      "/opt/anaconda3/lib/python3.9/site-packages/xgboost/core.py:158: UserWarning:\n",
      "\n",
      "[18:20:28] WARNING: /Users/runner/work/xgboost/xgboost/src/learner.cc:740: \n",
      "Parameters: { \"eval_set\", \"verbose\" } are not used.\n",
      "\n",
      "\n",
      "/opt/anaconda3/lib/python3.9/site-packages/xgboost/core.py:158: UserWarning:\n",
      "\n",
      "[18:20:28] WARNING: /Users/runner/work/xgboost/xgboost/src/learner.cc:740: \n",
      "Parameters: { \"eval_set\", \"verbose\" } are not used.\n",
      "\n",
      "\n",
      "/opt/anaconda3/lib/python3.9/site-packages/xgboost/core.py:158: UserWarning:\n",
      "\n",
      "[18:20:28] WARNING: /Users/runner/work/xgboost/xgboost/src/learner.cc:740: \n",
      "Parameters: { \"eval_set\", \"verbose\" } are not used.\n",
      "\n",
      "\n",
      "/opt/anaconda3/lib/python3.9/site-packages/xgboost/core.py:158: UserWarning:\n",
      "\n",
      "[18:20:28] WARNING: /Users/runner/work/xgboost/xgboost/src/learner.cc:740: \n",
      "Parameters: { \"eval_set\", \"verbose\" } are not used.\n",
      "\n",
      "\n"
     ]
    },
    {
     "name": "stdout",
     "output_type": "stream",
     "text": [
      "Best params: {'gamma': 0.1, 'learning_rate': 0.05, 'max_depth': 8, 'n_estimators': 100, 'random_state': 42}\n",
      "Best validation score = 0.0063273320009820996\n"
     ]
    },
    {
     "name": "stderr",
     "output_type": "stream",
     "text": [
      "/opt/anaconda3/lib/python3.9/site-packages/xgboost/core.py:158: UserWarning:\n",
      "\n",
      "[18:20:29] WARNING: /Users/runner/work/xgboost/xgboost/src/learner.cc:740: \n",
      "Parameters: { \"eval_set\", \"verbose\" } are not used.\n",
      "\n",
      "\n",
      "/opt/anaconda3/lib/python3.9/site-packages/xgboost/core.py:158: UserWarning:\n",
      "\n",
      "[18:20:29] WARNING: /Users/runner/work/xgboost/xgboost/src/learner.cc:740: \n",
      "Parameters: { \"eval_set\", \"verbose\" } are not used.\n",
      "\n",
      "\n",
      "/opt/anaconda3/lib/python3.9/site-packages/xgboost/core.py:158: UserWarning:\n",
      "\n",
      "[18:20:29] WARNING: /Users/runner/work/xgboost/xgboost/src/learner.cc:740: \n",
      "Parameters: { \"eval_set\", \"verbose\" } are not used.\n",
      "\n",
      "\n",
      "/opt/anaconda3/lib/python3.9/site-packages/xgboost/core.py:158: UserWarning:\n",
      "\n",
      "[18:20:29] WARNING: /Users/runner/work/xgboost/xgboost/src/learner.cc:740: \n",
      "Parameters: { \"eval_set\", \"verbose\" } are not used.\n",
      "\n",
      "\n",
      "/opt/anaconda3/lib/python3.9/site-packages/xgboost/core.py:158: UserWarning:\n",
      "\n",
      "[18:20:29] WARNING: /Users/runner/work/xgboost/xgboost/src/learner.cc:740: \n",
      "Parameters: { \"eval_set\", \"verbose\" } are not used.\n",
      "\n",
      "\n",
      "/opt/anaconda3/lib/python3.9/site-packages/xgboost/core.py:158: UserWarning:\n",
      "\n",
      "[18:20:29] WARNING: /Users/runner/work/xgboost/xgboost/src/learner.cc:740: \n",
      "Parameters: { \"eval_set\", \"verbose\" } are not used.\n",
      "\n",
      "\n"
     ]
    },
    {
     "name": "stdout",
     "output_type": "stream",
     "text": [
      "Best params: {'gamma': 0.1, 'learning_rate': 0.05, 'max_depth': 8, 'n_estimators': 100, 'random_state': 42}\n",
      "Best validation score = 0.016709223199584212\n"
     ]
    },
    {
     "name": "stderr",
     "output_type": "stream",
     "text": [
      "/opt/anaconda3/lib/python3.9/site-packages/xgboost/core.py:158: UserWarning:\n",
      "\n",
      "[18:20:29] WARNING: /Users/runner/work/xgboost/xgboost/src/learner.cc:740: \n",
      "Parameters: { \"eval_set\", \"verbose\" } are not used.\n",
      "\n",
      "\n",
      "/opt/anaconda3/lib/python3.9/site-packages/xgboost/core.py:158: UserWarning:\n",
      "\n",
      "[18:20:29] WARNING: /Users/runner/work/xgboost/xgboost/src/learner.cc:740: \n",
      "Parameters: { \"eval_set\", \"verbose\" } are not used.\n",
      "\n",
      "\n",
      "/opt/anaconda3/lib/python3.9/site-packages/xgboost/core.py:158: UserWarning:\n",
      "\n",
      "[18:20:30] WARNING: /Users/runner/work/xgboost/xgboost/src/learner.cc:740: \n",
      "Parameters: { \"eval_set\", \"verbose\" } are not used.\n",
      "\n",
      "\n",
      "/opt/anaconda3/lib/python3.9/site-packages/xgboost/core.py:158: UserWarning:\n",
      "\n",
      "[18:20:30] WARNING: /Users/runner/work/xgboost/xgboost/src/learner.cc:740: \n",
      "Parameters: { \"eval_set\", \"verbose\" } are not used.\n",
      "\n",
      "\n",
      "/opt/anaconda3/lib/python3.9/site-packages/xgboost/core.py:158: UserWarning:\n",
      "\n",
      "[18:20:30] WARNING: /Users/runner/work/xgboost/xgboost/src/learner.cc:740: \n",
      "Parameters: { \"eval_set\", \"verbose\" } are not used.\n",
      "\n",
      "\n",
      "/opt/anaconda3/lib/python3.9/site-packages/xgboost/core.py:158: UserWarning:\n",
      "\n",
      "[18:20:30] WARNING: /Users/runner/work/xgboost/xgboost/src/learner.cc:740: \n",
      "Parameters: { \"eval_set\", \"verbose\" } are not used.\n",
      "\n",
      "\n"
     ]
    },
    {
     "name": "stdout",
     "output_type": "stream",
     "text": [
      "Best params: {'gamma': 0.1, 'learning_rate': 0.05, 'max_depth': 8, 'n_estimators': 100, 'random_state': 42}\n",
      "Best validation score = -4.472818408409075\n"
     ]
    },
    {
     "name": "stderr",
     "output_type": "stream",
     "text": [
      "/opt/anaconda3/lib/python3.9/site-packages/xgboost/core.py:158: UserWarning:\n",
      "\n",
      "[18:20:30] WARNING: /Users/runner/work/xgboost/xgboost/src/learner.cc:740: \n",
      "Parameters: { \"eval_set\", \"verbose\" } are not used.\n",
      "\n",
      "\n",
      "/opt/anaconda3/lib/python3.9/site-packages/xgboost/core.py:158: UserWarning:\n",
      "\n",
      "[18:20:30] WARNING: /Users/runner/work/xgboost/xgboost/src/learner.cc:740: \n",
      "Parameters: { \"eval_set\", \"verbose\" } are not used.\n",
      "\n",
      "\n",
      "/opt/anaconda3/lib/python3.9/site-packages/xgboost/core.py:158: UserWarning:\n",
      "\n",
      "[18:20:30] WARNING: /Users/runner/work/xgboost/xgboost/src/learner.cc:740: \n",
      "Parameters: { \"eval_set\", \"verbose\" } are not used.\n",
      "\n",
      "\n",
      "/opt/anaconda3/lib/python3.9/site-packages/xgboost/core.py:158: UserWarning:\n",
      "\n",
      "[18:20:31] WARNING: /Users/runner/work/xgboost/xgboost/src/learner.cc:740: \n",
      "Parameters: { \"eval_set\", \"verbose\" } are not used.\n",
      "\n",
      "\n",
      "/opt/anaconda3/lib/python3.9/site-packages/xgboost/core.py:158: UserWarning:\n",
      "\n",
      "[18:20:31] WARNING: /Users/runner/work/xgboost/xgboost/src/learner.cc:740: \n",
      "Parameters: { \"eval_set\", \"verbose\" } are not used.\n",
      "\n",
      "\n",
      "/opt/anaconda3/lib/python3.9/site-packages/xgboost/core.py:158: UserWarning:\n",
      "\n",
      "[18:20:31] WARNING: /Users/runner/work/xgboost/xgboost/src/learner.cc:740: \n",
      "Parameters: { \"eval_set\", \"verbose\" } are not used.\n",
      "\n",
      "\n"
     ]
    },
    {
     "name": "stdout",
     "output_type": "stream",
     "text": [
      "Best params: {'gamma': 0.1, 'learning_rate': 0.05, 'max_depth': 8, 'n_estimators': 100, 'random_state': 42}\n",
      "Best validation score = -0.04451034708837163\n"
     ]
    },
    {
     "name": "stderr",
     "output_type": "stream",
     "text": [
      "/opt/anaconda3/lib/python3.9/site-packages/xgboost/core.py:158: UserWarning:\n",
      "\n",
      "[18:20:31] WARNING: /Users/runner/work/xgboost/xgboost/src/learner.cc:740: \n",
      "Parameters: { \"eval_set\", \"verbose\" } are not used.\n",
      "\n",
      "\n",
      "/opt/anaconda3/lib/python3.9/site-packages/xgboost/core.py:158: UserWarning:\n",
      "\n",
      "[18:20:31] WARNING: /Users/runner/work/xgboost/xgboost/src/learner.cc:740: \n",
      "Parameters: { \"eval_set\", \"verbose\" } are not used.\n",
      "\n",
      "\n",
      "/opt/anaconda3/lib/python3.9/site-packages/xgboost/core.py:158: UserWarning:\n",
      "\n",
      "[18:20:31] WARNING: /Users/runner/work/xgboost/xgboost/src/learner.cc:740: \n",
      "Parameters: { \"eval_set\", \"verbose\" } are not used.\n",
      "\n",
      "\n",
      "/opt/anaconda3/lib/python3.9/site-packages/xgboost/core.py:158: UserWarning:\n",
      "\n",
      "[18:20:31] WARNING: /Users/runner/work/xgboost/xgboost/src/learner.cc:740: \n",
      "Parameters: { \"eval_set\", \"verbose\" } are not used.\n",
      "\n",
      "\n",
      "/opt/anaconda3/lib/python3.9/site-packages/xgboost/core.py:158: UserWarning:\n",
      "\n",
      "[18:20:31] WARNING: /Users/runner/work/xgboost/xgboost/src/learner.cc:740: \n",
      "Parameters: { \"eval_set\", \"verbose\" } are not used.\n",
      "\n",
      "\n",
      "/opt/anaconda3/lib/python3.9/site-packages/xgboost/core.py:158: UserWarning:\n",
      "\n",
      "[18:20:32] WARNING: /Users/runner/work/xgboost/xgboost/src/learner.cc:740: \n",
      "Parameters: { \"eval_set\", \"verbose\" } are not used.\n",
      "\n",
      "\n"
     ]
    },
    {
     "name": "stdout",
     "output_type": "stream",
     "text": [
      "Best params: {'gamma': 0.1, 'learning_rate': 0.05, 'max_depth': 8, 'n_estimators': 100, 'random_state': 42}\n",
      "Best validation score = -2.236989835340701\n"
     ]
    },
    {
     "name": "stderr",
     "output_type": "stream",
     "text": [
      "/opt/anaconda3/lib/python3.9/site-packages/xgboost/core.py:158: UserWarning:\n",
      "\n",
      "[18:20:32] WARNING: /Users/runner/work/xgboost/xgboost/src/learner.cc:740: \n",
      "Parameters: { \"eval_set\", \"verbose\" } are not used.\n",
      "\n",
      "\n",
      "/opt/anaconda3/lib/python3.9/site-packages/xgboost/core.py:158: UserWarning:\n",
      "\n",
      "[18:20:32] WARNING: /Users/runner/work/xgboost/xgboost/src/learner.cc:740: \n",
      "Parameters: { \"eval_set\", \"verbose\" } are not used.\n",
      "\n",
      "\n",
      "/opt/anaconda3/lib/python3.9/site-packages/xgboost/core.py:158: UserWarning:\n",
      "\n",
      "[18:20:32] WARNING: /Users/runner/work/xgboost/xgboost/src/learner.cc:740: \n",
      "Parameters: { \"eval_set\", \"verbose\" } are not used.\n",
      "\n",
      "\n",
      "/opt/anaconda3/lib/python3.9/site-packages/xgboost/core.py:158: UserWarning:\n",
      "\n",
      "[18:20:32] WARNING: /Users/runner/work/xgboost/xgboost/src/learner.cc:740: \n",
      "Parameters: { \"eval_set\", \"verbose\" } are not used.\n",
      "\n",
      "\n",
      "/opt/anaconda3/lib/python3.9/site-packages/xgboost/core.py:158: UserWarning:\n",
      "\n",
      "[18:20:32] WARNING: /Users/runner/work/xgboost/xgboost/src/learner.cc:740: \n",
      "Parameters: { \"eval_set\", \"verbose\" } are not used.\n",
      "\n",
      "\n",
      "/opt/anaconda3/lib/python3.9/site-packages/xgboost/core.py:158: UserWarning:\n",
      "\n",
      "[18:20:32] WARNING: /Users/runner/work/xgboost/xgboost/src/learner.cc:740: \n",
      "Parameters: { \"eval_set\", \"verbose\" } are not used.\n",
      "\n",
      "\n"
     ]
    },
    {
     "name": "stdout",
     "output_type": "stream",
     "text": [
      "Best params: {'gamma': 0.1, 'learning_rate': 0.05, 'max_depth': 8, 'n_estimators': 100, 'random_state': 42}\n",
      "Best validation score = 0.17402458566763698\n"
     ]
    },
    {
     "name": "stderr",
     "output_type": "stream",
     "text": [
      "/opt/anaconda3/lib/python3.9/site-packages/xgboost/core.py:158: UserWarning:\n",
      "\n",
      "[18:20:33] WARNING: /Users/runner/work/xgboost/xgboost/src/learner.cc:740: \n",
      "Parameters: { \"eval_set\", \"verbose\" } are not used.\n",
      "\n",
      "\n",
      "/opt/anaconda3/lib/python3.9/site-packages/xgboost/core.py:158: UserWarning:\n",
      "\n",
      "[18:20:33] WARNING: /Users/runner/work/xgboost/xgboost/src/learner.cc:740: \n",
      "Parameters: { \"eval_set\", \"verbose\" } are not used.\n",
      "\n",
      "\n",
      "/opt/anaconda3/lib/python3.9/site-packages/xgboost/core.py:158: UserWarning:\n",
      "\n",
      "[18:20:33] WARNING: /Users/runner/work/xgboost/xgboost/src/learner.cc:740: \n",
      "Parameters: { \"eval_set\", \"verbose\" } are not used.\n",
      "\n",
      "\n",
      "/opt/anaconda3/lib/python3.9/site-packages/xgboost/core.py:158: UserWarning:\n",
      "\n",
      "[18:20:33] WARNING: /Users/runner/work/xgboost/xgboost/src/learner.cc:740: \n",
      "Parameters: { \"eval_set\", \"verbose\" } are not used.\n",
      "\n",
      "\n",
      "/opt/anaconda3/lib/python3.9/site-packages/xgboost/core.py:158: UserWarning:\n",
      "\n",
      "[18:20:33] WARNING: /Users/runner/work/xgboost/xgboost/src/learner.cc:740: \n",
      "Parameters: { \"eval_set\", \"verbose\" } are not used.\n",
      "\n",
      "\n",
      "/opt/anaconda3/lib/python3.9/site-packages/xgboost/core.py:158: UserWarning:\n",
      "\n",
      "[18:20:33] WARNING: /Users/runner/work/xgboost/xgboost/src/learner.cc:740: \n",
      "Parameters: { \"eval_set\", \"verbose\" } are not used.\n",
      "\n",
      "\n"
     ]
    },
    {
     "name": "stdout",
     "output_type": "stream",
     "text": [
      "Best params: {'gamma': 0.1, 'learning_rate': 0.05, 'max_depth': 8, 'n_estimators': 100, 'random_state': 42}\n",
      "Best validation score = 0.19500324203072142\n"
     ]
    },
    {
     "name": "stderr",
     "output_type": "stream",
     "text": [
      "/opt/anaconda3/lib/python3.9/site-packages/xgboost/core.py:158: UserWarning:\n",
      "\n",
      "[18:20:33] WARNING: /Users/runner/work/xgboost/xgboost/src/learner.cc:740: \n",
      "Parameters: { \"eval_set\", \"verbose\" } are not used.\n",
      "\n",
      "\n",
      "/opt/anaconda3/lib/python3.9/site-packages/xgboost/core.py:158: UserWarning:\n",
      "\n",
      "[18:20:34] WARNING: /Users/runner/work/xgboost/xgboost/src/learner.cc:740: \n",
      "Parameters: { \"eval_set\", \"verbose\" } are not used.\n",
      "\n",
      "\n",
      "/opt/anaconda3/lib/python3.9/site-packages/xgboost/core.py:158: UserWarning:\n",
      "\n",
      "[18:20:34] WARNING: /Users/runner/work/xgboost/xgboost/src/learner.cc:740: \n",
      "Parameters: { \"eval_set\", \"verbose\" } are not used.\n",
      "\n",
      "\n",
      "/opt/anaconda3/lib/python3.9/site-packages/xgboost/core.py:158: UserWarning:\n",
      "\n",
      "[18:20:34] WARNING: /Users/runner/work/xgboost/xgboost/src/learner.cc:740: \n",
      "Parameters: { \"eval_set\", \"verbose\" } are not used.\n",
      "\n",
      "\n",
      "/opt/anaconda3/lib/python3.9/site-packages/xgboost/core.py:158: UserWarning:\n",
      "\n",
      "[18:20:34] WARNING: /Users/runner/work/xgboost/xgboost/src/learner.cc:740: \n",
      "Parameters: { \"eval_set\", \"verbose\" } are not used.\n",
      "\n",
      "\n",
      "/opt/anaconda3/lib/python3.9/site-packages/xgboost/core.py:158: UserWarning:\n",
      "\n",
      "[18:20:34] WARNING: /Users/runner/work/xgboost/xgboost/src/learner.cc:740: \n",
      "Parameters: { \"eval_set\", \"verbose\" } are not used.\n",
      "\n",
      "\n"
     ]
    },
    {
     "name": "stdout",
     "output_type": "stream",
     "text": [
      "Best params: {'gamma': 0.1, 'learning_rate': 0.05, 'max_depth': 8, 'n_estimators': 100, 'random_state': 42}\n",
      "Best validation score = -0.45584929187892415\n"
     ]
    },
    {
     "name": "stderr",
     "output_type": "stream",
     "text": [
      "/opt/anaconda3/lib/python3.9/site-packages/xgboost/core.py:158: UserWarning:\n",
      "\n",
      "[18:20:34] WARNING: /Users/runner/work/xgboost/xgboost/src/learner.cc:740: \n",
      "Parameters: { \"eval_set\", \"verbose\" } are not used.\n",
      "\n",
      "\n",
      "/opt/anaconda3/lib/python3.9/site-packages/xgboost/core.py:158: UserWarning:\n",
      "\n",
      "[18:20:34] WARNING: /Users/runner/work/xgboost/xgboost/src/learner.cc:740: \n",
      "Parameters: { \"eval_set\", \"verbose\" } are not used.\n",
      "\n",
      "\n",
      "/opt/anaconda3/lib/python3.9/site-packages/xgboost/core.py:158: UserWarning:\n",
      "\n",
      "[18:20:35] WARNING: /Users/runner/work/xgboost/xgboost/src/learner.cc:740: \n",
      "Parameters: { \"eval_set\", \"verbose\" } are not used.\n",
      "\n",
      "\n",
      "/opt/anaconda3/lib/python3.9/site-packages/xgboost/core.py:158: UserWarning:\n",
      "\n",
      "[18:20:35] WARNING: /Users/runner/work/xgboost/xgboost/src/learner.cc:740: \n",
      "Parameters: { \"eval_set\", \"verbose\" } are not used.\n",
      "\n",
      "\n",
      "/opt/anaconda3/lib/python3.9/site-packages/xgboost/core.py:158: UserWarning:\n",
      "\n",
      "[18:20:35] WARNING: /Users/runner/work/xgboost/xgboost/src/learner.cc:740: \n",
      "Parameters: { \"eval_set\", \"verbose\" } are not used.\n",
      "\n",
      "\n",
      "/opt/anaconda3/lib/python3.9/site-packages/xgboost/core.py:158: UserWarning:\n",
      "\n",
      "[18:20:35] WARNING: /Users/runner/work/xgboost/xgboost/src/learner.cc:740: \n",
      "Parameters: { \"eval_set\", \"verbose\" } are not used.\n",
      "\n",
      "\n"
     ]
    },
    {
     "name": "stdout",
     "output_type": "stream",
     "text": [
      "Best params: {'gamma': 0.1, 'learning_rate': 0.05, 'max_depth': 8, 'n_estimators': 100, 'random_state': 42}\n",
      "Best validation score = -0.00633644854973423\n"
     ]
    },
    {
     "name": "stderr",
     "output_type": "stream",
     "text": [
      "/opt/anaconda3/lib/python3.9/site-packages/xgboost/core.py:158: UserWarning:\n",
      "\n",
      "[18:20:35] WARNING: /Users/runner/work/xgboost/xgboost/src/learner.cc:740: \n",
      "Parameters: { \"eval_set\", \"verbose\" } are not used.\n",
      "\n",
      "\n",
      "/opt/anaconda3/lib/python3.9/site-packages/xgboost/core.py:158: UserWarning:\n",
      "\n",
      "[18:20:35] WARNING: /Users/runner/work/xgboost/xgboost/src/learner.cc:740: \n",
      "Parameters: { \"eval_set\", \"verbose\" } are not used.\n",
      "\n",
      "\n",
      "/opt/anaconda3/lib/python3.9/site-packages/xgboost/core.py:158: UserWarning:\n",
      "\n",
      "[18:20:35] WARNING: /Users/runner/work/xgboost/xgboost/src/learner.cc:740: \n",
      "Parameters: { \"eval_set\", \"verbose\" } are not used.\n",
      "\n",
      "\n",
      "/opt/anaconda3/lib/python3.9/site-packages/xgboost/core.py:158: UserWarning:\n",
      "\n",
      "[18:20:35] WARNING: /Users/runner/work/xgboost/xgboost/src/learner.cc:740: \n",
      "Parameters: { \"eval_set\", \"verbose\" } are not used.\n",
      "\n",
      "\n",
      "/opt/anaconda3/lib/python3.9/site-packages/xgboost/core.py:158: UserWarning:\n",
      "\n",
      "[18:20:35] WARNING: /Users/runner/work/xgboost/xgboost/src/learner.cc:740: \n",
      "Parameters: { \"eval_set\", \"verbose\" } are not used.\n",
      "\n",
      "\n",
      "/opt/anaconda3/lib/python3.9/site-packages/xgboost/core.py:158: UserWarning:\n",
      "\n",
      "[18:20:36] WARNING: /Users/runner/work/xgboost/xgboost/src/learner.cc:740: \n",
      "Parameters: { \"eval_set\", \"verbose\" } are not used.\n",
      "\n",
      "\n"
     ]
    },
    {
     "name": "stdout",
     "output_type": "stream",
     "text": [
      "Best params: {'gamma': 0.1, 'learning_rate': 0.05, 'max_depth': 8, 'n_estimators': 100, 'random_state': 42}\n",
      "Best validation score = 0.05165048663721587\n"
     ]
    },
    {
     "name": "stderr",
     "output_type": "stream",
     "text": [
      "/opt/anaconda3/lib/python3.9/site-packages/xgboost/core.py:158: UserWarning:\n",
      "\n",
      "[18:20:36] WARNING: /Users/runner/work/xgboost/xgboost/src/learner.cc:740: \n",
      "Parameters: { \"eval_set\", \"verbose\" } are not used.\n",
      "\n",
      "\n",
      "/opt/anaconda3/lib/python3.9/site-packages/xgboost/core.py:158: UserWarning:\n",
      "\n",
      "[18:20:36] WARNING: /Users/runner/work/xgboost/xgboost/src/learner.cc:740: \n",
      "Parameters: { \"eval_set\", \"verbose\" } are not used.\n",
      "\n",
      "\n",
      "/opt/anaconda3/lib/python3.9/site-packages/xgboost/core.py:158: UserWarning:\n",
      "\n",
      "[18:20:36] WARNING: /Users/runner/work/xgboost/xgboost/src/learner.cc:740: \n",
      "Parameters: { \"eval_set\", \"verbose\" } are not used.\n",
      "\n",
      "\n",
      "/opt/anaconda3/lib/python3.9/site-packages/xgboost/core.py:158: UserWarning:\n",
      "\n",
      "[18:20:36] WARNING: /Users/runner/work/xgboost/xgboost/src/learner.cc:740: \n",
      "Parameters: { \"eval_set\", \"verbose\" } are not used.\n",
      "\n",
      "\n",
      "/opt/anaconda3/lib/python3.9/site-packages/xgboost/core.py:158: UserWarning:\n",
      "\n",
      "[18:20:36] WARNING: /Users/runner/work/xgboost/xgboost/src/learner.cc:740: \n",
      "Parameters: { \"eval_set\", \"verbose\" } are not used.\n",
      "\n",
      "\n",
      "/opt/anaconda3/lib/python3.9/site-packages/xgboost/core.py:158: UserWarning:\n",
      "\n",
      "[18:20:36] WARNING: /Users/runner/work/xgboost/xgboost/src/learner.cc:740: \n",
      "Parameters: { \"eval_set\", \"verbose\" } are not used.\n",
      "\n",
      "\n"
     ]
    },
    {
     "name": "stdout",
     "output_type": "stream",
     "text": [
      "Best params: {'gamma': 0.1, 'learning_rate': 0.05, 'max_depth': 8, 'n_estimators': 100, 'random_state': 42}\n",
      "Best validation score = 0.02937226531703028\n"
     ]
    },
    {
     "name": "stderr",
     "output_type": "stream",
     "text": [
      "/opt/anaconda3/lib/python3.9/site-packages/xgboost/core.py:158: UserWarning:\n",
      "\n",
      "[18:20:37] WARNING: /Users/runner/work/xgboost/xgboost/src/learner.cc:740: \n",
      "Parameters: { \"eval_set\", \"verbose\" } are not used.\n",
      "\n",
      "\n",
      "/opt/anaconda3/lib/python3.9/site-packages/xgboost/core.py:158: UserWarning:\n",
      "\n",
      "[18:20:37] WARNING: /Users/runner/work/xgboost/xgboost/src/learner.cc:740: \n",
      "Parameters: { \"eval_set\", \"verbose\" } are not used.\n",
      "\n",
      "\n",
      "/opt/anaconda3/lib/python3.9/site-packages/xgboost/core.py:158: UserWarning:\n",
      "\n",
      "[18:20:37] WARNING: /Users/runner/work/xgboost/xgboost/src/learner.cc:740: \n",
      "Parameters: { \"eval_set\", \"verbose\" } are not used.\n",
      "\n",
      "\n",
      "/opt/anaconda3/lib/python3.9/site-packages/xgboost/core.py:158: UserWarning:\n",
      "\n",
      "[18:20:37] WARNING: /Users/runner/work/xgboost/xgboost/src/learner.cc:740: \n",
      "Parameters: { \"eval_set\", \"verbose\" } are not used.\n",
      "\n",
      "\n",
      "/opt/anaconda3/lib/python3.9/site-packages/xgboost/core.py:158: UserWarning:\n",
      "\n",
      "[18:20:37] WARNING: /Users/runner/work/xgboost/xgboost/src/learner.cc:740: \n",
      "Parameters: { \"eval_set\", \"verbose\" } are not used.\n",
      "\n",
      "\n",
      "/opt/anaconda3/lib/python3.9/site-packages/xgboost/core.py:158: UserWarning:\n",
      "\n",
      "[18:20:37] WARNING: /Users/runner/work/xgboost/xgboost/src/learner.cc:740: \n",
      "Parameters: { \"eval_set\", \"verbose\" } are not used.\n",
      "\n",
      "\n"
     ]
    },
    {
     "name": "stdout",
     "output_type": "stream",
     "text": [
      "Best params: {'gamma': 0.1, 'learning_rate': 0.05, 'max_depth': 8, 'n_estimators': 100, 'random_state': 42}\n",
      "Best validation score = -0.006071334122875372\n"
     ]
    },
    {
     "name": "stderr",
     "output_type": "stream",
     "text": [
      "/opt/anaconda3/lib/python3.9/site-packages/xgboost/core.py:158: UserWarning:\n",
      "\n",
      "[18:20:37] WARNING: /Users/runner/work/xgboost/xgboost/src/learner.cc:740: \n",
      "Parameters: { \"eval_set\", \"verbose\" } are not used.\n",
      "\n",
      "\n",
      "/opt/anaconda3/lib/python3.9/site-packages/xgboost/core.py:158: UserWarning:\n",
      "\n",
      "[18:20:38] WARNING: /Users/runner/work/xgboost/xgboost/src/learner.cc:740: \n",
      "Parameters: { \"eval_set\", \"verbose\" } are not used.\n",
      "\n",
      "\n",
      "/opt/anaconda3/lib/python3.9/site-packages/xgboost/core.py:158: UserWarning:\n",
      "\n",
      "[18:20:38] WARNING: /Users/runner/work/xgboost/xgboost/src/learner.cc:740: \n",
      "Parameters: { \"eval_set\", \"verbose\" } are not used.\n",
      "\n",
      "\n",
      "/opt/anaconda3/lib/python3.9/site-packages/xgboost/core.py:158: UserWarning:\n",
      "\n",
      "[18:20:38] WARNING: /Users/runner/work/xgboost/xgboost/src/learner.cc:740: \n",
      "Parameters: { \"eval_set\", \"verbose\" } are not used.\n",
      "\n",
      "\n",
      "/opt/anaconda3/lib/python3.9/site-packages/xgboost/core.py:158: UserWarning:\n",
      "\n",
      "[18:20:38] WARNING: /Users/runner/work/xgboost/xgboost/src/learner.cc:740: \n",
      "Parameters: { \"eval_set\", \"verbose\" } are not used.\n",
      "\n",
      "\n",
      "/opt/anaconda3/lib/python3.9/site-packages/xgboost/core.py:158: UserWarning:\n",
      "\n",
      "[18:20:38] WARNING: /Users/runner/work/xgboost/xgboost/src/learner.cc:740: \n",
      "Parameters: { \"eval_set\", \"verbose\" } are not used.\n",
      "\n",
      "\n"
     ]
    },
    {
     "name": "stdout",
     "output_type": "stream",
     "text": [
      "Best params: {'gamma': 0.1, 'learning_rate': 0.05, 'max_depth': 8, 'n_estimators': 100, 'random_state': 42}\n",
      "Best validation score = -0.073258406316527\n"
     ]
    },
    {
     "name": "stderr",
     "output_type": "stream",
     "text": [
      "/opt/anaconda3/lib/python3.9/site-packages/xgboost/core.py:158: UserWarning:\n",
      "\n",
      "[18:20:38] WARNING: /Users/runner/work/xgboost/xgboost/src/learner.cc:740: \n",
      "Parameters: { \"eval_set\", \"verbose\" } are not used.\n",
      "\n",
      "\n",
      "/opt/anaconda3/lib/python3.9/site-packages/xgboost/core.py:158: UserWarning:\n",
      "\n",
      "[18:20:38] WARNING: /Users/runner/work/xgboost/xgboost/src/learner.cc:740: \n",
      "Parameters: { \"eval_set\", \"verbose\" } are not used.\n",
      "\n",
      "\n",
      "/opt/anaconda3/lib/python3.9/site-packages/xgboost/core.py:158: UserWarning:\n",
      "\n",
      "[18:20:39] WARNING: /Users/runner/work/xgboost/xgboost/src/learner.cc:740: \n",
      "Parameters: { \"eval_set\", \"verbose\" } are not used.\n",
      "\n",
      "\n",
      "/opt/anaconda3/lib/python3.9/site-packages/xgboost/core.py:158: UserWarning:\n",
      "\n",
      "[18:20:39] WARNING: /Users/runner/work/xgboost/xgboost/src/learner.cc:740: \n",
      "Parameters: { \"eval_set\", \"verbose\" } are not used.\n",
      "\n",
      "\n",
      "/opt/anaconda3/lib/python3.9/site-packages/xgboost/core.py:158: UserWarning:\n",
      "\n",
      "[18:20:39] WARNING: /Users/runner/work/xgboost/xgboost/src/learner.cc:740: \n",
      "Parameters: { \"eval_set\", \"verbose\" } are not used.\n",
      "\n",
      "\n",
      "/opt/anaconda3/lib/python3.9/site-packages/xgboost/core.py:158: UserWarning:\n",
      "\n",
      "[18:20:39] WARNING: /Users/runner/work/xgboost/xgboost/src/learner.cc:740: \n",
      "Parameters: { \"eval_set\", \"verbose\" } are not used.\n",
      "\n",
      "\n"
     ]
    },
    {
     "name": "stdout",
     "output_type": "stream",
     "text": [
      "Best params: {'gamma': 0.1, 'learning_rate': 0.05, 'max_depth': 8, 'n_estimators': 100, 'random_state': 42}\n",
      "Best validation score = -0.10700171425894218\n"
     ]
    },
    {
     "name": "stderr",
     "output_type": "stream",
     "text": [
      "/opt/anaconda3/lib/python3.9/site-packages/xgboost/core.py:158: UserWarning:\n",
      "\n",
      "[18:20:39] WARNING: /Users/runner/work/xgboost/xgboost/src/learner.cc:740: \n",
      "Parameters: { \"eval_set\", \"verbose\" } are not used.\n",
      "\n",
      "\n",
      "/opt/anaconda3/lib/python3.9/site-packages/xgboost/core.py:158: UserWarning:\n",
      "\n",
      "[18:20:39] WARNING: /Users/runner/work/xgboost/xgboost/src/learner.cc:740: \n",
      "Parameters: { \"eval_set\", \"verbose\" } are not used.\n",
      "\n",
      "\n",
      "/opt/anaconda3/lib/python3.9/site-packages/xgboost/core.py:158: UserWarning:\n",
      "\n",
      "[18:20:39] WARNING: /Users/runner/work/xgboost/xgboost/src/learner.cc:740: \n",
      "Parameters: { \"eval_set\", \"verbose\" } are not used.\n",
      "\n",
      "\n",
      "/opt/anaconda3/lib/python3.9/site-packages/xgboost/core.py:158: UserWarning:\n",
      "\n",
      "[18:20:39] WARNING: /Users/runner/work/xgboost/xgboost/src/learner.cc:740: \n",
      "Parameters: { \"eval_set\", \"verbose\" } are not used.\n",
      "\n",
      "\n",
      "/opt/anaconda3/lib/python3.9/site-packages/xgboost/core.py:158: UserWarning:\n",
      "\n",
      "[18:20:40] WARNING: /Users/runner/work/xgboost/xgboost/src/learner.cc:740: \n",
      "Parameters: { \"eval_set\", \"verbose\" } are not used.\n",
      "\n",
      "\n",
      "/opt/anaconda3/lib/python3.9/site-packages/xgboost/core.py:158: UserWarning:\n",
      "\n",
      "[18:20:40] WARNING: /Users/runner/work/xgboost/xgboost/src/learner.cc:740: \n",
      "Parameters: { \"eval_set\", \"verbose\" } are not used.\n",
      "\n",
      "\n"
     ]
    },
    {
     "name": "stdout",
     "output_type": "stream",
     "text": [
      "Best params: {'gamma': 0.1, 'learning_rate': 0.05, 'max_depth': 8, 'n_estimators': 100, 'random_state': 42}\n",
      "Best validation score = -0.04951713674221945\n"
     ]
    },
    {
     "name": "stderr",
     "output_type": "stream",
     "text": [
      "/opt/anaconda3/lib/python3.9/site-packages/xgboost/core.py:158: UserWarning:\n",
      "\n",
      "[18:20:40] WARNING: /Users/runner/work/xgboost/xgboost/src/learner.cc:740: \n",
      "Parameters: { \"eval_set\", \"verbose\" } are not used.\n",
      "\n",
      "\n",
      "/opt/anaconda3/lib/python3.9/site-packages/xgboost/core.py:158: UserWarning:\n",
      "\n",
      "[18:20:40] WARNING: /Users/runner/work/xgboost/xgboost/src/learner.cc:740: \n",
      "Parameters: { \"eval_set\", \"verbose\" } are not used.\n",
      "\n",
      "\n",
      "/opt/anaconda3/lib/python3.9/site-packages/xgboost/core.py:158: UserWarning:\n",
      "\n",
      "[18:20:40] WARNING: /Users/runner/work/xgboost/xgboost/src/learner.cc:740: \n",
      "Parameters: { \"eval_set\", \"verbose\" } are not used.\n",
      "\n",
      "\n",
      "/opt/anaconda3/lib/python3.9/site-packages/xgboost/core.py:158: UserWarning:\n",
      "\n",
      "[18:20:40] WARNING: /Users/runner/work/xgboost/xgboost/src/learner.cc:740: \n",
      "Parameters: { \"eval_set\", \"verbose\" } are not used.\n",
      "\n",
      "\n",
      "/opt/anaconda3/lib/python3.9/site-packages/xgboost/core.py:158: UserWarning:\n",
      "\n",
      "[18:20:41] WARNING: /Users/runner/work/xgboost/xgboost/src/learner.cc:740: \n",
      "Parameters: { \"eval_set\", \"verbose\" } are not used.\n",
      "\n",
      "\n",
      "/opt/anaconda3/lib/python3.9/site-packages/xgboost/core.py:158: UserWarning:\n",
      "\n",
      "[18:20:41] WARNING: /Users/runner/work/xgboost/xgboost/src/learner.cc:740: \n",
      "Parameters: { \"eval_set\", \"verbose\" } are not used.\n",
      "\n",
      "\n"
     ]
    },
    {
     "name": "stdout",
     "output_type": "stream",
     "text": [
      "Best params: {'gamma': 0.1, 'learning_rate': 0.05, 'max_depth': 8, 'n_estimators': 100, 'random_state': 42}\n",
      "Best validation score = 0.23412185007433753\n"
     ]
    },
    {
     "name": "stderr",
     "output_type": "stream",
     "text": [
      "/opt/anaconda3/lib/python3.9/site-packages/xgboost/core.py:158: UserWarning:\n",
      "\n",
      "[18:20:41] WARNING: /Users/runner/work/xgboost/xgboost/src/learner.cc:740: \n",
      "Parameters: { \"eval_set\", \"verbose\" } are not used.\n",
      "\n",
      "\n",
      "/opt/anaconda3/lib/python3.9/site-packages/xgboost/core.py:158: UserWarning:\n",
      "\n",
      "[18:20:41] WARNING: /Users/runner/work/xgboost/xgboost/src/learner.cc:740: \n",
      "Parameters: { \"eval_set\", \"verbose\" } are not used.\n",
      "\n",
      "\n",
      "/opt/anaconda3/lib/python3.9/site-packages/xgboost/core.py:158: UserWarning:\n",
      "\n",
      "[18:20:41] WARNING: /Users/runner/work/xgboost/xgboost/src/learner.cc:740: \n",
      "Parameters: { \"eval_set\", \"verbose\" } are not used.\n",
      "\n",
      "\n",
      "/opt/anaconda3/lib/python3.9/site-packages/xgboost/core.py:158: UserWarning:\n",
      "\n",
      "[18:20:42] WARNING: /Users/runner/work/xgboost/xgboost/src/learner.cc:740: \n",
      "Parameters: { \"eval_set\", \"verbose\" } are not used.\n",
      "\n",
      "\n",
      "/opt/anaconda3/lib/python3.9/site-packages/xgboost/core.py:158: UserWarning:\n",
      "\n",
      "[18:20:42] WARNING: /Users/runner/work/xgboost/xgboost/src/learner.cc:740: \n",
      "Parameters: { \"eval_set\", \"verbose\" } are not used.\n",
      "\n",
      "\n",
      "/opt/anaconda3/lib/python3.9/site-packages/xgboost/core.py:158: UserWarning:\n",
      "\n",
      "[18:20:42] WARNING: /Users/runner/work/xgboost/xgboost/src/learner.cc:740: \n",
      "Parameters: { \"eval_set\", \"verbose\" } are not used.\n",
      "\n",
      "\n"
     ]
    },
    {
     "name": "stdout",
     "output_type": "stream",
     "text": [
      "Best params: {'gamma': 0.1, 'learning_rate': 0.05, 'max_depth': 8, 'n_estimators': 100, 'random_state': 42}\n",
      "Best validation score = 0.12015829376173952\n"
     ]
    },
    {
     "name": "stderr",
     "output_type": "stream",
     "text": [
      "/opt/anaconda3/lib/python3.9/site-packages/xgboost/core.py:158: UserWarning:\n",
      "\n",
      "[18:20:42] WARNING: /Users/runner/work/xgboost/xgboost/src/learner.cc:740: \n",
      "Parameters: { \"eval_set\", \"verbose\" } are not used.\n",
      "\n",
      "\n",
      "/opt/anaconda3/lib/python3.9/site-packages/xgboost/core.py:158: UserWarning:\n",
      "\n",
      "[18:20:42] WARNING: /Users/runner/work/xgboost/xgboost/src/learner.cc:740: \n",
      "Parameters: { \"eval_set\", \"verbose\" } are not used.\n",
      "\n",
      "\n",
      "/opt/anaconda3/lib/python3.9/site-packages/xgboost/core.py:158: UserWarning:\n",
      "\n",
      "[18:20:42] WARNING: /Users/runner/work/xgboost/xgboost/src/learner.cc:740: \n",
      "Parameters: { \"eval_set\", \"verbose\" } are not used.\n",
      "\n",
      "\n",
      "/opt/anaconda3/lib/python3.9/site-packages/xgboost/core.py:158: UserWarning:\n",
      "\n",
      "[18:20:43] WARNING: /Users/runner/work/xgboost/xgboost/src/learner.cc:740: \n",
      "Parameters: { \"eval_set\", \"verbose\" } are not used.\n",
      "\n",
      "\n",
      "/opt/anaconda3/lib/python3.9/site-packages/xgboost/core.py:158: UserWarning:\n",
      "\n",
      "[18:20:43] WARNING: /Users/runner/work/xgboost/xgboost/src/learner.cc:740: \n",
      "Parameters: { \"eval_set\", \"verbose\" } are not used.\n",
      "\n",
      "\n",
      "/opt/anaconda3/lib/python3.9/site-packages/xgboost/core.py:158: UserWarning:\n",
      "\n",
      "[18:20:43] WARNING: /Users/runner/work/xgboost/xgboost/src/learner.cc:740: \n",
      "Parameters: { \"eval_set\", \"verbose\" } are not used.\n",
      "\n",
      "\n"
     ]
    },
    {
     "name": "stdout",
     "output_type": "stream",
     "text": [
      "Best params: {'gamma': 0.1, 'learning_rate': 0.05, 'max_depth': 8, 'n_estimators': 100, 'random_state': 42}\n",
      "Best validation score = -0.01288835520277216\n"
     ]
    },
    {
     "name": "stderr",
     "output_type": "stream",
     "text": [
      "/opt/anaconda3/lib/python3.9/site-packages/xgboost/core.py:158: UserWarning:\n",
      "\n",
      "[18:20:43] WARNING: /Users/runner/work/xgboost/xgboost/src/learner.cc:740: \n",
      "Parameters: { \"eval_set\", \"verbose\" } are not used.\n",
      "\n",
      "\n",
      "/opt/anaconda3/lib/python3.9/site-packages/xgboost/core.py:158: UserWarning:\n",
      "\n",
      "[18:20:43] WARNING: /Users/runner/work/xgboost/xgboost/src/learner.cc:740: \n",
      "Parameters: { \"eval_set\", \"verbose\" } are not used.\n",
      "\n",
      "\n",
      "/opt/anaconda3/lib/python3.9/site-packages/xgboost/core.py:158: UserWarning:\n",
      "\n",
      "[18:20:43] WARNING: /Users/runner/work/xgboost/xgboost/src/learner.cc:740: \n",
      "Parameters: { \"eval_set\", \"verbose\" } are not used.\n",
      "\n",
      "\n",
      "/opt/anaconda3/lib/python3.9/site-packages/xgboost/core.py:158: UserWarning:\n",
      "\n",
      "[18:20:43] WARNING: /Users/runner/work/xgboost/xgboost/src/learner.cc:740: \n",
      "Parameters: { \"eval_set\", \"verbose\" } are not used.\n",
      "\n",
      "\n",
      "/opt/anaconda3/lib/python3.9/site-packages/xgboost/core.py:158: UserWarning:\n",
      "\n",
      "[18:20:44] WARNING: /Users/runner/work/xgboost/xgboost/src/learner.cc:740: \n",
      "Parameters: { \"eval_set\", \"verbose\" } are not used.\n",
      "\n",
      "\n",
      "/opt/anaconda3/lib/python3.9/site-packages/xgboost/core.py:158: UserWarning:\n",
      "\n",
      "[18:20:44] WARNING: /Users/runner/work/xgboost/xgboost/src/learner.cc:740: \n",
      "Parameters: { \"eval_set\", \"verbose\" } are not used.\n",
      "\n",
      "\n"
     ]
    },
    {
     "name": "stdout",
     "output_type": "stream",
     "text": [
      "Best params: {'gamma': 0.1, 'learning_rate': 0.05, 'max_depth': 8, 'n_estimators': 100, 'random_state': 42}\n",
      "Best validation score = -0.03131119455485978\n"
     ]
    },
    {
     "name": "stderr",
     "output_type": "stream",
     "text": [
      "/opt/anaconda3/lib/python3.9/site-packages/xgboost/core.py:158: UserWarning:\n",
      "\n",
      "[18:20:44] WARNING: /Users/runner/work/xgboost/xgboost/src/learner.cc:740: \n",
      "Parameters: { \"eval_set\", \"verbose\" } are not used.\n",
      "\n",
      "\n",
      "/opt/anaconda3/lib/python3.9/site-packages/xgboost/core.py:158: UserWarning:\n",
      "\n",
      "[18:20:44] WARNING: /Users/runner/work/xgboost/xgboost/src/learner.cc:740: \n",
      "Parameters: { \"eval_set\", \"verbose\" } are not used.\n",
      "\n",
      "\n",
      "/opt/anaconda3/lib/python3.9/site-packages/xgboost/core.py:158: UserWarning:\n",
      "\n",
      "[18:20:44] WARNING: /Users/runner/work/xgboost/xgboost/src/learner.cc:740: \n",
      "Parameters: { \"eval_set\", \"verbose\" } are not used.\n",
      "\n",
      "\n",
      "/opt/anaconda3/lib/python3.9/site-packages/xgboost/core.py:158: UserWarning:\n",
      "\n",
      "[18:20:44] WARNING: /Users/runner/work/xgboost/xgboost/src/learner.cc:740: \n",
      "Parameters: { \"eval_set\", \"verbose\" } are not used.\n",
      "\n",
      "\n",
      "/opt/anaconda3/lib/python3.9/site-packages/xgboost/core.py:158: UserWarning:\n",
      "\n",
      "[18:20:44] WARNING: /Users/runner/work/xgboost/xgboost/src/learner.cc:740: \n",
      "Parameters: { \"eval_set\", \"verbose\" } are not used.\n",
      "\n",
      "\n",
      "/opt/anaconda3/lib/python3.9/site-packages/xgboost/core.py:158: UserWarning:\n",
      "\n",
      "[18:20:44] WARNING: /Users/runner/work/xgboost/xgboost/src/learner.cc:740: \n",
      "Parameters: { \"eval_set\", \"verbose\" } are not used.\n",
      "\n",
      "\n"
     ]
    },
    {
     "name": "stdout",
     "output_type": "stream",
     "text": [
      "Best params: {'gamma': 0.1, 'learning_rate': 0.05, 'max_depth': 8, 'n_estimators': 100, 'random_state': 42}\n",
      "Best validation score = 0.1838251599008534\n"
     ]
    },
    {
     "name": "stderr",
     "output_type": "stream",
     "text": [
      "/opt/anaconda3/lib/python3.9/site-packages/xgboost/core.py:158: UserWarning:\n",
      "\n",
      "[18:20:45] WARNING: /Users/runner/work/xgboost/xgboost/src/learner.cc:740: \n",
      "Parameters: { \"eval_set\", \"verbose\" } are not used.\n",
      "\n",
      "\n",
      "/opt/anaconda3/lib/python3.9/site-packages/xgboost/core.py:158: UserWarning:\n",
      "\n",
      "[18:20:45] WARNING: /Users/runner/work/xgboost/xgboost/src/learner.cc:740: \n",
      "Parameters: { \"eval_set\", \"verbose\" } are not used.\n",
      "\n",
      "\n",
      "/opt/anaconda3/lib/python3.9/site-packages/xgboost/core.py:158: UserWarning:\n",
      "\n",
      "[18:20:45] WARNING: /Users/runner/work/xgboost/xgboost/src/learner.cc:740: \n",
      "Parameters: { \"eval_set\", \"verbose\" } are not used.\n",
      "\n",
      "\n",
      "/opt/anaconda3/lib/python3.9/site-packages/xgboost/core.py:158: UserWarning:\n",
      "\n",
      "[18:20:45] WARNING: /Users/runner/work/xgboost/xgboost/src/learner.cc:740: \n",
      "Parameters: { \"eval_set\", \"verbose\" } are not used.\n",
      "\n",
      "\n",
      "/opt/anaconda3/lib/python3.9/site-packages/xgboost/core.py:158: UserWarning:\n",
      "\n",
      "[18:20:45] WARNING: /Users/runner/work/xgboost/xgboost/src/learner.cc:740: \n",
      "Parameters: { \"eval_set\", \"verbose\" } are not used.\n",
      "\n",
      "\n",
      "/opt/anaconda3/lib/python3.9/site-packages/xgboost/core.py:158: UserWarning:\n",
      "\n",
      "[18:20:45] WARNING: /Users/runner/work/xgboost/xgboost/src/learner.cc:740: \n",
      "Parameters: { \"eval_set\", \"verbose\" } are not used.\n",
      "\n",
      "\n"
     ]
    },
    {
     "name": "stdout",
     "output_type": "stream",
     "text": [
      "Best params: {'gamma': 0.1, 'learning_rate': 0.05, 'max_depth': 8, 'n_estimators': 100, 'random_state': 42}\n",
      "Best validation score = 0.0520871705138309\n"
     ]
    },
    {
     "name": "stderr",
     "output_type": "stream",
     "text": [
      "/opt/anaconda3/lib/python3.9/site-packages/xgboost/core.py:158: UserWarning:\n",
      "\n",
      "[18:20:45] WARNING: /Users/runner/work/xgboost/xgboost/src/learner.cc:740: \n",
      "Parameters: { \"eval_set\", \"verbose\" } are not used.\n",
      "\n",
      "\n",
      "/opt/anaconda3/lib/python3.9/site-packages/xgboost/core.py:158: UserWarning:\n",
      "\n",
      "[18:20:46] WARNING: /Users/runner/work/xgboost/xgboost/src/learner.cc:740: \n",
      "Parameters: { \"eval_set\", \"verbose\" } are not used.\n",
      "\n",
      "\n",
      "/opt/anaconda3/lib/python3.9/site-packages/xgboost/core.py:158: UserWarning:\n",
      "\n",
      "[18:20:46] WARNING: /Users/runner/work/xgboost/xgboost/src/learner.cc:740: \n",
      "Parameters: { \"eval_set\", \"verbose\" } are not used.\n",
      "\n",
      "\n",
      "/opt/anaconda3/lib/python3.9/site-packages/xgboost/core.py:158: UserWarning:\n",
      "\n",
      "[18:20:46] WARNING: /Users/runner/work/xgboost/xgboost/src/learner.cc:740: \n",
      "Parameters: { \"eval_set\", \"verbose\" } are not used.\n",
      "\n",
      "\n",
      "/opt/anaconda3/lib/python3.9/site-packages/xgboost/core.py:158: UserWarning:\n",
      "\n",
      "[18:20:46] WARNING: /Users/runner/work/xgboost/xgboost/src/learner.cc:740: \n",
      "Parameters: { \"eval_set\", \"verbose\" } are not used.\n",
      "\n",
      "\n",
      "/opt/anaconda3/lib/python3.9/site-packages/xgboost/core.py:158: UserWarning:\n",
      "\n",
      "[18:20:46] WARNING: /Users/runner/work/xgboost/xgboost/src/learner.cc:740: \n",
      "Parameters: { \"eval_set\", \"verbose\" } are not used.\n",
      "\n",
      "\n"
     ]
    },
    {
     "name": "stdout",
     "output_type": "stream",
     "text": [
      "Best params: {'gamma': 0.1, 'learning_rate': 0.05, 'max_depth': 8, 'n_estimators': 100, 'random_state': 42}\n",
      "Best validation score = 0.19497167462884726\n"
     ]
    },
    {
     "name": "stderr",
     "output_type": "stream",
     "text": [
      "/opt/anaconda3/lib/python3.9/site-packages/xgboost/core.py:158: UserWarning:\n",
      "\n",
      "[18:20:46] WARNING: /Users/runner/work/xgboost/xgboost/src/learner.cc:740: \n",
      "Parameters: { \"eval_set\", \"verbose\" } are not used.\n",
      "\n",
      "\n",
      "/opt/anaconda3/lib/python3.9/site-packages/xgboost/core.py:158: UserWarning:\n",
      "\n",
      "[18:20:46] WARNING: /Users/runner/work/xgboost/xgboost/src/learner.cc:740: \n",
      "Parameters: { \"eval_set\", \"verbose\" } are not used.\n",
      "\n",
      "\n",
      "/opt/anaconda3/lib/python3.9/site-packages/xgboost/core.py:158: UserWarning:\n",
      "\n",
      "[18:20:47] WARNING: /Users/runner/work/xgboost/xgboost/src/learner.cc:740: \n",
      "Parameters: { \"eval_set\", \"verbose\" } are not used.\n",
      "\n",
      "\n",
      "/opt/anaconda3/lib/python3.9/site-packages/xgboost/core.py:158: UserWarning:\n",
      "\n",
      "[18:20:47] WARNING: /Users/runner/work/xgboost/xgboost/src/learner.cc:740: \n",
      "Parameters: { \"eval_set\", \"verbose\" } are not used.\n",
      "\n",
      "\n",
      "/opt/anaconda3/lib/python3.9/site-packages/xgboost/core.py:158: UserWarning:\n",
      "\n",
      "[18:20:47] WARNING: /Users/runner/work/xgboost/xgboost/src/learner.cc:740: \n",
      "Parameters: { \"eval_set\", \"verbose\" } are not used.\n",
      "\n",
      "\n",
      "/opt/anaconda3/lib/python3.9/site-packages/xgboost/core.py:158: UserWarning:\n",
      "\n",
      "[18:20:47] WARNING: /Users/runner/work/xgboost/xgboost/src/learner.cc:740: \n",
      "Parameters: { \"eval_set\", \"verbose\" } are not used.\n",
      "\n",
      "\n"
     ]
    },
    {
     "name": "stdout",
     "output_type": "stream",
     "text": [
      "Best params: {'gamma': 0.1, 'learning_rate': 0.05, 'max_depth': 8, 'n_estimators': 100, 'random_state': 42}\n",
      "Best validation score = 0.16069117086742074\n"
     ]
    },
    {
     "name": "stderr",
     "output_type": "stream",
     "text": [
      "/opt/anaconda3/lib/python3.9/site-packages/xgboost/core.py:158: UserWarning:\n",
      "\n",
      "[18:20:47] WARNING: /Users/runner/work/xgboost/xgboost/src/learner.cc:740: \n",
      "Parameters: { \"eval_set\", \"verbose\" } are not used.\n",
      "\n",
      "\n",
      "/opt/anaconda3/lib/python3.9/site-packages/xgboost/core.py:158: UserWarning:\n",
      "\n",
      "[18:20:47] WARNING: /Users/runner/work/xgboost/xgboost/src/learner.cc:740: \n",
      "Parameters: { \"eval_set\", \"verbose\" } are not used.\n",
      "\n",
      "\n",
      "/opt/anaconda3/lib/python3.9/site-packages/xgboost/core.py:158: UserWarning:\n",
      "\n",
      "[18:20:47] WARNING: /Users/runner/work/xgboost/xgboost/src/learner.cc:740: \n",
      "Parameters: { \"eval_set\", \"verbose\" } are not used.\n",
      "\n",
      "\n",
      "/opt/anaconda3/lib/python3.9/site-packages/xgboost/core.py:158: UserWarning:\n",
      "\n",
      "[18:20:47] WARNING: /Users/runner/work/xgboost/xgboost/src/learner.cc:740: \n",
      "Parameters: { \"eval_set\", \"verbose\" } are not used.\n",
      "\n",
      "\n",
      "/opt/anaconda3/lib/python3.9/site-packages/xgboost/core.py:158: UserWarning:\n",
      "\n",
      "[18:20:48] WARNING: /Users/runner/work/xgboost/xgboost/src/learner.cc:740: \n",
      "Parameters: { \"eval_set\", \"verbose\" } are not used.\n",
      "\n",
      "\n",
      "/opt/anaconda3/lib/python3.9/site-packages/xgboost/core.py:158: UserWarning:\n",
      "\n",
      "[18:20:48] WARNING: /Users/runner/work/xgboost/xgboost/src/learner.cc:740: \n",
      "Parameters: { \"eval_set\", \"verbose\" } are not used.\n",
      "\n",
      "\n"
     ]
    },
    {
     "name": "stdout",
     "output_type": "stream",
     "text": [
      "Best params: {'gamma': 0.1, 'learning_rate': 0.05, 'max_depth': 8, 'n_estimators': 100, 'random_state': 42}\n",
      "Best validation score = -0.052144502528999936\n"
     ]
    },
    {
     "name": "stderr",
     "output_type": "stream",
     "text": [
      "/opt/anaconda3/lib/python3.9/site-packages/xgboost/core.py:158: UserWarning:\n",
      "\n",
      "[18:20:48] WARNING: /Users/runner/work/xgboost/xgboost/src/learner.cc:740: \n",
      "Parameters: { \"eval_set\", \"verbose\" } are not used.\n",
      "\n",
      "\n",
      "/opt/anaconda3/lib/python3.9/site-packages/sklearn/metrics/_regression.py:796: UndefinedMetricWarning:\n",
      "\n",
      "R^2 score is not well-defined with less than two samples.\n",
      "\n",
      "/opt/anaconda3/lib/python3.9/site-packages/xgboost/core.py:158: UserWarning:\n",
      "\n",
      "[18:20:48] WARNING: /Users/runner/work/xgboost/xgboost/src/learner.cc:740: \n",
      "Parameters: { \"eval_set\", \"verbose\" } are not used.\n",
      "\n",
      "\n",
      "/opt/anaconda3/lib/python3.9/site-packages/sklearn/metrics/_regression.py:796: UndefinedMetricWarning:\n",
      "\n",
      "R^2 score is not well-defined with less than two samples.\n",
      "\n",
      "/opt/anaconda3/lib/python3.9/site-packages/xgboost/core.py:158: UserWarning:\n",
      "\n",
      "[18:20:48] WARNING: /Users/runner/work/xgboost/xgboost/src/learner.cc:740: \n",
      "Parameters: { \"eval_set\", \"verbose\" } are not used.\n",
      "\n",
      "\n",
      "/opt/anaconda3/lib/python3.9/site-packages/sklearn/metrics/_regression.py:796: UndefinedMetricWarning:\n",
      "\n",
      "R^2 score is not well-defined with less than two samples.\n",
      "\n",
      "/opt/anaconda3/lib/python3.9/site-packages/xgboost/core.py:158: UserWarning:\n",
      "\n",
      "[18:20:48] WARNING: /Users/runner/work/xgboost/xgboost/src/learner.cc:740: \n",
      "Parameters: { \"eval_set\", \"verbose\" } are not used.\n",
      "\n",
      "\n",
      "/opt/anaconda3/lib/python3.9/site-packages/sklearn/metrics/_regression.py:796: UndefinedMetricWarning:\n",
      "\n",
      "R^2 score is not well-defined with less than two samples.\n",
      "\n",
      "/opt/anaconda3/lib/python3.9/site-packages/xgboost/core.py:158: UserWarning:\n",
      "\n",
      "[18:20:48] WARNING: /Users/runner/work/xgboost/xgboost/src/learner.cc:740: \n",
      "Parameters: { \"eval_set\", \"verbose\" } are not used.\n",
      "\n",
      "\n",
      "/opt/anaconda3/lib/python3.9/site-packages/sklearn/metrics/_regression.py:796: UndefinedMetricWarning:\n",
      "\n",
      "R^2 score is not well-defined with less than two samples.\n",
      "\n",
      "/opt/anaconda3/lib/python3.9/site-packages/sklearn/model_selection/_search.py:969: UserWarning:\n",
      "\n",
      "One or more of the test scores are non-finite: [nan]\n",
      "\n",
      "/opt/anaconda3/lib/python3.9/site-packages/xgboost/core.py:158: UserWarning:\n",
      "\n",
      "[18:20:48] WARNING: /Users/runner/work/xgboost/xgboost/src/learner.cc:740: \n",
      "Parameters: { \"eval_set\", \"verbose\" } are not used.\n",
      "\n",
      "\n"
     ]
    },
    {
     "name": "stdout",
     "output_type": "stream",
     "text": [
      "Best params: {'gamma': 0.1, 'learning_rate': 0.05, 'max_depth': 8, 'n_estimators': 100, 'random_state': 42}\n",
      "Best validation score = nan\n"
     ]
    },
    {
     "name": "stderr",
     "output_type": "stream",
     "text": [
      "/opt/anaconda3/lib/python3.9/site-packages/xgboost/core.py:158: UserWarning:\n",
      "\n",
      "[18:20:49] WARNING: /Users/runner/work/xgboost/xgboost/src/learner.cc:740: \n",
      "Parameters: { \"eval_set\", \"verbose\" } are not used.\n",
      "\n",
      "\n",
      "/opt/anaconda3/lib/python3.9/site-packages/xgboost/core.py:158: UserWarning:\n",
      "\n",
      "[18:20:49] WARNING: /Users/runner/work/xgboost/xgboost/src/learner.cc:740: \n",
      "Parameters: { \"eval_set\", \"verbose\" } are not used.\n",
      "\n",
      "\n",
      "/opt/anaconda3/lib/python3.9/site-packages/xgboost/core.py:158: UserWarning:\n",
      "\n",
      "[18:20:49] WARNING: /Users/runner/work/xgboost/xgboost/src/learner.cc:740: \n",
      "Parameters: { \"eval_set\", \"verbose\" } are not used.\n",
      "\n",
      "\n",
      "/opt/anaconda3/lib/python3.9/site-packages/xgboost/core.py:158: UserWarning:\n",
      "\n",
      "[18:20:49] WARNING: /Users/runner/work/xgboost/xgboost/src/learner.cc:740: \n",
      "Parameters: { \"eval_set\", \"verbose\" } are not used.\n",
      "\n",
      "\n",
      "/opt/anaconda3/lib/python3.9/site-packages/xgboost/core.py:158: UserWarning:\n",
      "\n",
      "[18:20:49] WARNING: /Users/runner/work/xgboost/xgboost/src/learner.cc:740: \n",
      "Parameters: { \"eval_set\", \"verbose\" } are not used.\n",
      "\n",
      "\n",
      "/opt/anaconda3/lib/python3.9/site-packages/xgboost/core.py:158: UserWarning:\n",
      "\n",
      "[18:20:49] WARNING: /Users/runner/work/xgboost/xgboost/src/learner.cc:740: \n",
      "Parameters: { \"eval_set\", \"verbose\" } are not used.\n",
      "\n",
      "\n"
     ]
    },
    {
     "name": "stdout",
     "output_type": "stream",
     "text": [
      "Best params: {'gamma': 0.1, 'learning_rate': 0.05, 'max_depth': 8, 'n_estimators': 100, 'random_state': 42}\n",
      "Best validation score = -0.0297072194277578\n"
     ]
    },
    {
     "name": "stderr",
     "output_type": "stream",
     "text": [
      "/opt/anaconda3/lib/python3.9/site-packages/xgboost/core.py:158: UserWarning:\n",
      "\n",
      "[18:20:49] WARNING: /Users/runner/work/xgboost/xgboost/src/learner.cc:740: \n",
      "Parameters: { \"eval_set\", \"verbose\" } are not used.\n",
      "\n",
      "\n",
      "/opt/anaconda3/lib/python3.9/site-packages/xgboost/core.py:158: UserWarning:\n",
      "\n",
      "[18:20:49] WARNING: /Users/runner/work/xgboost/xgboost/src/learner.cc:740: \n",
      "Parameters: { \"eval_set\", \"verbose\" } are not used.\n",
      "\n",
      "\n",
      "/opt/anaconda3/lib/python3.9/site-packages/xgboost/core.py:158: UserWarning:\n",
      "\n",
      "[18:20:50] WARNING: /Users/runner/work/xgboost/xgboost/src/learner.cc:740: \n",
      "Parameters: { \"eval_set\", \"verbose\" } are not used.\n",
      "\n",
      "\n",
      "/opt/anaconda3/lib/python3.9/site-packages/xgboost/core.py:158: UserWarning:\n",
      "\n",
      "[18:20:50] WARNING: /Users/runner/work/xgboost/xgboost/src/learner.cc:740: \n",
      "Parameters: { \"eval_set\", \"verbose\" } are not used.\n",
      "\n",
      "\n",
      "/opt/anaconda3/lib/python3.9/site-packages/xgboost/core.py:158: UserWarning:\n",
      "\n",
      "[18:20:50] WARNING: /Users/runner/work/xgboost/xgboost/src/learner.cc:740: \n",
      "Parameters: { \"eval_set\", \"verbose\" } are not used.\n",
      "\n",
      "\n",
      "/opt/anaconda3/lib/python3.9/site-packages/xgboost/core.py:158: UserWarning:\n",
      "\n",
      "[18:20:50] WARNING: /Users/runner/work/xgboost/xgboost/src/learner.cc:740: \n",
      "Parameters: { \"eval_set\", \"verbose\" } are not used.\n",
      "\n",
      "\n"
     ]
    },
    {
     "name": "stdout",
     "output_type": "stream",
     "text": [
      "Best params: {'gamma': 0.1, 'learning_rate': 0.05, 'max_depth': 8, 'n_estimators': 100, 'random_state': 42}\n",
      "Best validation score = 0.04471073165455679\n"
     ]
    },
    {
     "name": "stderr",
     "output_type": "stream",
     "text": [
      "/opt/anaconda3/lib/python3.9/site-packages/xgboost/core.py:158: UserWarning:\n",
      "\n",
      "[18:20:50] WARNING: /Users/runner/work/xgboost/xgboost/src/learner.cc:740: \n",
      "Parameters: { \"eval_set\", \"verbose\" } are not used.\n",
      "\n",
      "\n",
      "/opt/anaconda3/lib/python3.9/site-packages/xgboost/core.py:158: UserWarning:\n",
      "\n",
      "[18:20:50] WARNING: /Users/runner/work/xgboost/xgboost/src/learner.cc:740: \n",
      "Parameters: { \"eval_set\", \"verbose\" } are not used.\n",
      "\n",
      "\n",
      "/opt/anaconda3/lib/python3.9/site-packages/xgboost/core.py:158: UserWarning:\n",
      "\n",
      "[18:20:50] WARNING: /Users/runner/work/xgboost/xgboost/src/learner.cc:740: \n",
      "Parameters: { \"eval_set\", \"verbose\" } are not used.\n",
      "\n",
      "\n",
      "/opt/anaconda3/lib/python3.9/site-packages/xgboost/core.py:158: UserWarning:\n",
      "\n",
      "[18:20:50] WARNING: /Users/runner/work/xgboost/xgboost/src/learner.cc:740: \n",
      "Parameters: { \"eval_set\", \"verbose\" } are not used.\n",
      "\n",
      "\n",
      "/opt/anaconda3/lib/python3.9/site-packages/xgboost/core.py:158: UserWarning:\n",
      "\n",
      "[18:20:51] WARNING: /Users/runner/work/xgboost/xgboost/src/learner.cc:740: \n",
      "Parameters: { \"eval_set\", \"verbose\" } are not used.\n",
      "\n",
      "\n",
      "/opt/anaconda3/lib/python3.9/site-packages/xgboost/core.py:158: UserWarning:\n",
      "\n",
      "[18:20:51] WARNING: /Users/runner/work/xgboost/xgboost/src/learner.cc:740: \n",
      "Parameters: { \"eval_set\", \"verbose\" } are not used.\n",
      "\n",
      "\n"
     ]
    },
    {
     "name": "stdout",
     "output_type": "stream",
     "text": [
      "Best params: {'gamma': 0.1, 'learning_rate': 0.05, 'max_depth': 8, 'n_estimators': 100, 'random_state': 42}\n",
      "Best validation score = -0.24923813700078137\n"
     ]
    },
    {
     "name": "stderr",
     "output_type": "stream",
     "text": [
      "/opt/anaconda3/lib/python3.9/site-packages/xgboost/core.py:158: UserWarning:\n",
      "\n",
      "[18:20:51] WARNING: /Users/runner/work/xgboost/xgboost/src/learner.cc:740: \n",
      "Parameters: { \"eval_set\", \"verbose\" } are not used.\n",
      "\n",
      "\n",
      "/opt/anaconda3/lib/python3.9/site-packages/xgboost/core.py:158: UserWarning:\n",
      "\n",
      "[18:20:51] WARNING: /Users/runner/work/xgboost/xgboost/src/learner.cc:740: \n",
      "Parameters: { \"eval_set\", \"verbose\" } are not used.\n",
      "\n",
      "\n",
      "/opt/anaconda3/lib/python3.9/site-packages/xgboost/core.py:158: UserWarning:\n",
      "\n",
      "[18:20:51] WARNING: /Users/runner/work/xgboost/xgboost/src/learner.cc:740: \n",
      "Parameters: { \"eval_set\", \"verbose\" } are not used.\n",
      "\n",
      "\n",
      "/opt/anaconda3/lib/python3.9/site-packages/xgboost/core.py:158: UserWarning:\n",
      "\n",
      "[18:20:51] WARNING: /Users/runner/work/xgboost/xgboost/src/learner.cc:740: \n",
      "Parameters: { \"eval_set\", \"verbose\" } are not used.\n",
      "\n",
      "\n",
      "/opt/anaconda3/lib/python3.9/site-packages/xgboost/core.py:158: UserWarning:\n",
      "\n",
      "[18:20:51] WARNING: /Users/runner/work/xgboost/xgboost/src/learner.cc:740: \n",
      "Parameters: { \"eval_set\", \"verbose\" } are not used.\n",
      "\n",
      "\n",
      "/opt/anaconda3/lib/python3.9/site-packages/xgboost/core.py:158: UserWarning:\n",
      "\n",
      "[18:20:52] WARNING: /Users/runner/work/xgboost/xgboost/src/learner.cc:740: \n",
      "Parameters: { \"eval_set\", \"verbose\" } are not used.\n",
      "\n",
      "\n"
     ]
    },
    {
     "name": "stdout",
     "output_type": "stream",
     "text": [
      "Best params: {'gamma': 0.1, 'learning_rate': 0.05, 'max_depth': 8, 'n_estimators': 100, 'random_state': 42}\n",
      "Best validation score = 0.011799185075074558\n"
     ]
    },
    {
     "name": "stderr",
     "output_type": "stream",
     "text": [
      "/opt/anaconda3/lib/python3.9/site-packages/xgboost/core.py:158: UserWarning:\n",
      "\n",
      "[18:20:52] WARNING: /Users/runner/work/xgboost/xgboost/src/learner.cc:740: \n",
      "Parameters: { \"eval_set\", \"verbose\" } are not used.\n",
      "\n",
      "\n",
      "/opt/anaconda3/lib/python3.9/site-packages/xgboost/core.py:158: UserWarning:\n",
      "\n",
      "[18:20:52] WARNING: /Users/runner/work/xgboost/xgboost/src/learner.cc:740: \n",
      "Parameters: { \"eval_set\", \"verbose\" } are not used.\n",
      "\n",
      "\n",
      "/opt/anaconda3/lib/python3.9/site-packages/xgboost/core.py:158: UserWarning:\n",
      "\n",
      "[18:20:52] WARNING: /Users/runner/work/xgboost/xgboost/src/learner.cc:740: \n",
      "Parameters: { \"eval_set\", \"verbose\" } are not used.\n",
      "\n",
      "\n",
      "/opt/anaconda3/lib/python3.9/site-packages/xgboost/core.py:158: UserWarning:\n",
      "\n",
      "[18:20:52] WARNING: /Users/runner/work/xgboost/xgboost/src/learner.cc:740: \n",
      "Parameters: { \"eval_set\", \"verbose\" } are not used.\n",
      "\n",
      "\n",
      "/opt/anaconda3/lib/python3.9/site-packages/xgboost/core.py:158: UserWarning:\n",
      "\n",
      "[18:20:52] WARNING: /Users/runner/work/xgboost/xgboost/src/learner.cc:740: \n",
      "Parameters: { \"eval_set\", \"verbose\" } are not used.\n",
      "\n",
      "\n",
      "/opt/anaconda3/lib/python3.9/site-packages/xgboost/core.py:158: UserWarning:\n",
      "\n",
      "[18:20:52] WARNING: /Users/runner/work/xgboost/xgboost/src/learner.cc:740: \n",
      "Parameters: { \"eval_set\", \"verbose\" } are not used.\n",
      "\n",
      "\n"
     ]
    },
    {
     "name": "stdout",
     "output_type": "stream",
     "text": [
      "Best params: {'gamma': 0.1, 'learning_rate': 0.05, 'max_depth': 8, 'n_estimators': 100, 'random_state': 42}\n",
      "Best validation score = -0.012970262304416069\n"
     ]
    }
   ],
   "source": [
    "results = pd.DataFrame(columns=['datadate', 'tic', 'next_prccq_change', 'next_relative_quarterly_return', 'y_pred'])\n",
    "\n",
    "y_train = []\n",
    "y_valid = []\n",
    "y_test = []\n",
    "\n",
    "y_train_pred = []\n",
    "y_valid_pred = []\n",
    "y_test_pred = []\n",
    "\n",
    "removed_stocks = []\n",
    "\n",
    "for stock in unique_stocks:\n",
    "    try:\n",
    "        # Your processing code here\n",
    "\n",
    "        df_local = df[df['tic'] == stock].reset_index(drop=True)\n",
    "\n",
    "        train_start_date = '1970-03-31'\n",
    "        valid_start_date = '2010-03-31'\n",
    "        test_start_date = '2013-03-31'\n",
    "        end_date = '2023-09-30'\n",
    "\n",
    "        train_df = df_local[(df_local['datadate'] >= train_start_date) & (df_local['datadate'] < valid_start_date)].sort_values(by=['datadate'])\n",
    "        valid_df = df_local[(df_local['datadate'] >= valid_start_date) & (df_local['datadate'] < test_start_date)].sort_values(by=['datadate'])\n",
    "        test_df = df_local[(df_local['datadate'] >= test_start_date) & (df_local['datadate'] < end_date)].sort_values(by=['datadate'])\n",
    "\n",
    "        if train_df.empty:\n",
    "            removed_stocks.append(stock)\n",
    "            continue  # Skip this iteration if the DataFrame is empty\n",
    "\n",
    "        if test_df.empty:\n",
    "            removed_stocks.append(stock)\n",
    "            continue  # Skip this iteration if the DataFrame is empty\n",
    "\n",
    "        results_temp = test_df[['datadate', 'tic', 'next_prccq_change', 'next_relative_quarterly_return']].copy()\n",
    "\n",
    "        drop_cols = ['gvkey', 'datadate', 'tic', 'spindx', 'spindx_change', 'next_spindx_change', 'prccq', 'prccq_change', 'next_prccq_change']\n",
    "\n",
    "        train_df = train_df.drop(drop_cols, 1)\n",
    "        valid_df = valid_df.drop(drop_cols, 1)\n",
    "        test_df  = test_df.drop(drop_cols, 1)\n",
    "\n",
    "        y_train_temp = train_df['next_relative_quarterly_return'].copy()\n",
    "        X_train = train_df.drop(['next_relative_quarterly_return',], 1)\n",
    "\n",
    "        y_valid_temp = valid_df['next_relative_quarterly_return'].copy()\n",
    "        X_valid = valid_df.drop(['next_relative_quarterly_return',], 1)\n",
    "\n",
    "        y_test_temp  = test_df['next_relative_quarterly_return'].copy()\n",
    "        X_test  = test_df.drop(['next_relative_quarterly_return',], 1)\n",
    "\n",
    "        # Scaling\n",
    "        scaler = MinMaxScaler()\n",
    "\n",
    "        # Fit the scaler on the training/validation data\n",
    "        X_train_scaled = scaler.fit_transform(X_train)\n",
    "\n",
    "        # Now apply the same scaling to the val/test data using the already fitted scaler\n",
    "        #X_valid_scaled = scaler.transform(X_valid)\n",
    "        X_test_scaled = scaler.transform(X_test)\n",
    "\n",
    "        # Convert the scaled data back to DataFrame for consistency\n",
    "        X_train_scaled = pd.DataFrame(X_train_scaled, columns=X_train.columns)\n",
    "        X_valid_scaled = pd.DataFrame(X_valid_scaled, columns=X_valid.columns)\n",
    "        X_test_scaled = pd.DataFrame(X_test_scaled, columns=X_test.columns)\n",
    "\n",
    "        parameters = {\n",
    "            'n_estimators': [100],\n",
    "            'learning_rate': [0.05],\n",
    "            'max_depth': [8],\n",
    "            'gamma': [0.1],\n",
    "            'random_state': [42]\n",
    "        }\n",
    "\n",
    "        eval_set = [(X_train_scaled, y_train_temp), (X_test_scaled, y_test_temp)]\n",
    "        model = xgb.XGBRegressor(eval_set=eval_set, objective='reg:squarederror', verbose=False)\n",
    "        clf = GridSearchCV(model, parameters)\n",
    "\n",
    "        clf.fit(X_train_scaled, y_train_temp)\n",
    "\n",
    "        print(f'Best params: {clf.best_params_}')\n",
    "        print(f'Best validation score = {clf.best_score_}')\n",
    "\n",
    "        model = xgb.XGBRegressor(**clf.best_params_, objective='reg:squarederror')\n",
    "        model.fit(X_train_scaled, y_train_temp, eval_set=eval_set, verbose=False)\n",
    "\n",
    "        # Predictions\n",
    "        y_train_pred_temp = model.predict(X_train_scaled)\n",
    "        y_valid_pred_temp = model.predict(X_valid_scaled)\n",
    "        y_test_pred_temp = model.predict(X_test_scaled)\n",
    "        y_train_pred.extend(y_train_pred_temp)\n",
    "        y_valid_pred.extend(y_valid_pred_temp)\n",
    "        y_test_pred.extend(y_test_pred_temp)\n",
    "\n",
    "        y_train.extend(y_train_temp)\n",
    "        y_valid.extend(y_valid_temp)\n",
    "        y_test.extend(y_test_temp)\n",
    "\n",
    "        results_temp['y_pred'] = y_test_pred_temp\n",
    "        results = pd.concat([results, results_temp], ignore_index=True)\n",
    "\n",
    "    except Exception as e:\n",
    "        removed_stocks.append(stock)\n",
    "        print(f\"Error encountered: {e}\")  # Logs the error\n",
    "        continue\n"
   ]
  },
  {
   "cell_type": "code",
   "execution_count": 713,
   "metadata": {},
   "outputs": [
    {
     "name": "stdout",
     "output_type": "stream",
     "text": [
      "['AMT', 'CTSH', 'GOOGL', 'META', 'PYPL', 'RJF', 'TSLA', 'ZTS']\n"
     ]
    }
   ],
   "source": [
    "print(removed_stocks)"
   ]
  },
  {
   "cell_type": "code",
   "execution_count": 714,
   "metadata": {},
   "outputs": [
    {
     "data": {
      "text/html": [
       "<div>\n",
       "<style scoped>\n",
       "    .dataframe tbody tr th:only-of-type {\n",
       "        vertical-align: middle;\n",
       "    }\n",
       "\n",
       "    .dataframe tbody tr th {\n",
       "        vertical-align: top;\n",
       "    }\n",
       "\n",
       "    .dataframe thead th {\n",
       "        text-align: right;\n",
       "    }\n",
       "</style>\n",
       "<table border=\"1\" class=\"dataframe\">\n",
       "  <thead>\n",
       "    <tr style=\"text-align: right;\">\n",
       "      <th></th>\n",
       "      <th>datadate</th>\n",
       "      <th>tic</th>\n",
       "      <th>next_prccq_change</th>\n",
       "      <th>next_relative_quarterly_return</th>\n",
       "      <th>y_pred</th>\n",
       "    </tr>\n",
       "  </thead>\n",
       "  <tbody>\n",
       "    <tr>\n",
       "      <th>158</th>\n",
       "      <td>2013-03-31</td>\n",
       "      <td>AMD</td>\n",
       "      <td>0.600000</td>\n",
       "      <td>0.566207</td>\n",
       "      <td>0.306892</td>\n",
       "    </tr>\n",
       "    <tr>\n",
       "      <th>1642</th>\n",
       "      <td>2013-03-31</td>\n",
       "      <td>MU</td>\n",
       "      <td>0.394627</td>\n",
       "      <td>0.318003</td>\n",
       "      <td>0.038616</td>\n",
       "    </tr>\n",
       "    <tr>\n",
       "      <th>2044</th>\n",
       "      <td>2013-03-31</td>\n",
       "      <td>REGN</td>\n",
       "      <td>0.274808</td>\n",
       "      <td>0.241016</td>\n",
       "      <td>-0.065373</td>\n",
       "    </tr>\n",
       "    <tr>\n",
       "      <th>489</th>\n",
       "      <td>2013-03-31</td>\n",
       "      <td>CME</td>\n",
       "      <td>0.236769</td>\n",
       "      <td>0.202977</td>\n",
       "      <td>0.073255</td>\n",
       "    </tr>\n",
       "    <tr>\n",
       "      <th>2598</th>\n",
       "      <td>2013-03-31</td>\n",
       "      <td>WDC</td>\n",
       "      <td>0.234639</td>\n",
       "      <td>0.200846</td>\n",
       "      <td>0.169980</td>\n",
       "    </tr>\n",
       "    <tr>\n",
       "      <th>1600</th>\n",
       "      <td>2013-03-31</td>\n",
       "      <td>MSFT</td>\n",
       "      <td>0.207656</td>\n",
       "      <td>0.173863</td>\n",
       "      <td>0.042969</td>\n",
       "    </tr>\n",
       "    <tr>\n",
       "      <th>317</th>\n",
       "      <td>2013-03-31</td>\n",
       "      <td>BA</td>\n",
       "      <td>0.193244</td>\n",
       "      <td>0.159451</td>\n",
       "      <td>0.074426</td>\n",
       "    </tr>\n",
       "    <tr>\n",
       "      <th>1763</th>\n",
       "      <td>2013-03-31</td>\n",
       "      <td>NOC</td>\n",
       "      <td>0.180328</td>\n",
       "      <td>0.146535</td>\n",
       "      <td>0.024585</td>\n",
       "    </tr>\n",
       "    <tr>\n",
       "      <th>2192</th>\n",
       "      <td>2013-03-31</td>\n",
       "      <td>STZ</td>\n",
       "      <td>0.198237</td>\n",
       "      <td>0.121613</td>\n",
       "      <td>0.020715</td>\n",
       "    </tr>\n",
       "    <tr>\n",
       "      <th>2126</th>\n",
       "      <td>2013-03-31</td>\n",
       "      <td>SBUX</td>\n",
       "      <td>0.150307</td>\n",
       "      <td>0.116515</td>\n",
       "      <td>0.067577</td>\n",
       "    </tr>\n",
       "  </tbody>\n",
       "</table>\n",
       "</div>"
      ],
      "text/plain": [
       "       datadate   tic  next_prccq_change  next_relative_quarterly_return  \\\n",
       "158  2013-03-31   AMD           0.600000                        0.566207   \n",
       "1642 2013-03-31    MU           0.394627                        0.318003   \n",
       "2044 2013-03-31  REGN           0.274808                        0.241016   \n",
       "489  2013-03-31   CME           0.236769                        0.202977   \n",
       "2598 2013-03-31   WDC           0.234639                        0.200846   \n",
       "1600 2013-03-31  MSFT           0.207656                        0.173863   \n",
       "317  2013-03-31    BA           0.193244                        0.159451   \n",
       "1763 2013-03-31   NOC           0.180328                        0.146535   \n",
       "2192 2013-03-31   STZ           0.198237                        0.121613   \n",
       "2126 2013-03-31  SBUX           0.150307                        0.116515   \n",
       "\n",
       "        y_pred  \n",
       "158   0.306892  \n",
       "1642  0.038616  \n",
       "2044 -0.065373  \n",
       "489   0.073255  \n",
       "2598  0.169980  \n",
       "1600  0.042969  \n",
       "317   0.074426  \n",
       "1763  0.024585  \n",
       "2192  0.020715  \n",
       "2126  0.067577  "
      ]
     },
     "execution_count": 714,
     "metadata": {},
     "output_type": "execute_result"
    }
   ],
   "source": [
    "results = results.sort_values(by=['datadate', 'next_relative_quarterly_return'], ascending=[True, False])\n",
    "results.head(10)"
   ]
  },
  {
   "cell_type": "code",
   "execution_count": 715,
   "metadata": {},
   "outputs": [
    {
     "name": "stdout",
     "output_type": "stream",
     "text": [
      "              precision    recall  f1-score   support\n",
      "\n",
      "           0       0.68      0.50      0.58      1373\n",
      "           1       0.60      0.76      0.67      1349\n",
      "\n",
      "    accuracy                           0.63      2722\n",
      "   macro avg       0.64      0.63      0.62      2722\n",
      "weighted avg       0.64      0.63      0.62      2722\n",
      "\n"
     ]
    }
   ],
   "source": [
    "# Classifier\n",
    "y_train = np.array(y_train)\n",
    "y_valid = np.array(y_valid)\n",
    "y_test = np.array(y_test)\n",
    "\n",
    "y_train_pred = np.array(y_train_pred)\n",
    "y_valid_pred = np.array(y_valid_pred)\n",
    "y_test_pred = np.array(y_test_pred)\n",
    "\n",
    "y_train_pred_binary = (y_train_pred >= 0).astype(int)\n",
    "y_valid_pred_binary = (y_valid_pred >= 0).astype(int)\n",
    "y_test_pred_binary = (y_test_pred >= 0).astype(int)\n",
    "\n",
    "y_train_binary = (y_train >= 0).astype(int)\n",
    "y_valid_binary = (y_valid >= 0).astype(int)\n",
    "y_test_binary = (y_test >= 0).astype(int)\n",
    "\n",
    "print(classification_report(y_test_binary, y_test_pred_binary))"
   ]
  },
  {
   "cell_type": "code",
   "execution_count": 719,
   "metadata": {},
   "outputs": [
    {
     "data": {
      "text/html": [
       "<div>\n",
       "<style scoped>\n",
       "    .dataframe tbody tr th:only-of-type {\n",
       "        vertical-align: middle;\n",
       "    }\n",
       "\n",
       "    .dataframe tbody tr th {\n",
       "        vertical-align: top;\n",
       "    }\n",
       "\n",
       "    .dataframe thead th {\n",
       "        text-align: right;\n",
       "    }\n",
       "</style>\n",
       "<table border=\"1\" class=\"dataframe\">\n",
       "  <thead>\n",
       "    <tr style=\"text-align: right;\">\n",
       "      <th></th>\n",
       "      <th>datadate</th>\n",
       "      <th>stocks</th>\n",
       "      <th>baseline</th>\n",
       "      <th>top_10</th>\n",
       "      <th>top_10_ideal</th>\n",
       "      <th>bottom_10</th>\n",
       "      <th>bottom_10_ideal</th>\n",
       "    </tr>\n",
       "  </thead>\n",
       "  <tbody>\n",
       "    <tr>\n",
       "      <th>0</th>\n",
       "      <td>2013-03-31</td>\n",
       "      <td>63</td>\n",
       "      <td>0.065437</td>\n",
       "      <td>0.152438</td>\n",
       "      <td>0.268833</td>\n",
       "      <td>0.001110</td>\n",
       "      <td>-0.084238</td>\n",
       "    </tr>\n",
       "    <tr>\n",
       "      <th>1</th>\n",
       "      <td>2013-06-30</td>\n",
       "      <td>64</td>\n",
       "      <td>0.059808</td>\n",
       "      <td>0.096976</td>\n",
       "      <td>0.230842</td>\n",
       "      <td>0.099633</td>\n",
       "      <td>-0.061988</td>\n",
       "    </tr>\n",
       "    <tr>\n",
       "      <th>2</th>\n",
       "      <td>2013-09-30</td>\n",
       "      <td>66</td>\n",
       "      <td>0.110123</td>\n",
       "      <td>0.226560</td>\n",
       "      <td>0.314411</td>\n",
       "      <td>0.014327</td>\n",
       "      <td>-0.058148</td>\n",
       "    </tr>\n",
       "    <tr>\n",
       "      <th>3</th>\n",
       "      <td>2013-12-31</td>\n",
       "      <td>66</td>\n",
       "      <td>0.032754</td>\n",
       "      <td>0.076488</td>\n",
       "      <td>0.183728</td>\n",
       "      <td>-0.006577</td>\n",
       "      <td>-0.082451</td>\n",
       "    </tr>\n",
       "    <tr>\n",
       "      <th>4</th>\n",
       "      <td>2014-03-31</td>\n",
       "      <td>66</td>\n",
       "      <td>0.039382</td>\n",
       "      <td>0.097259</td>\n",
       "      <td>0.158701</td>\n",
       "      <td>0.026445</td>\n",
       "      <td>-0.061300</td>\n",
       "    </tr>\n",
       "    <tr>\n",
       "      <th>5</th>\n",
       "      <td>2014-06-30</td>\n",
       "      <td>67</td>\n",
       "      <td>0.022670</td>\n",
       "      <td>0.054786</td>\n",
       "      <td>0.167058</td>\n",
       "      <td>0.011773</td>\n",
       "      <td>-0.099601</td>\n",
       "    </tr>\n",
       "    <tr>\n",
       "      <th>6</th>\n",
       "      <td>2014-09-30</td>\n",
       "      <td>65</td>\n",
       "      <td>0.054048</td>\n",
       "      <td>0.140578</td>\n",
       "      <td>0.196296</td>\n",
       "      <td>-0.049027</td>\n",
       "      <td>-0.109057</td>\n",
       "    </tr>\n",
       "    <tr>\n",
       "      <th>7</th>\n",
       "      <td>2014-12-31</td>\n",
       "      <td>64</td>\n",
       "      <td>0.027150</td>\n",
       "      <td>0.075584</td>\n",
       "      <td>0.177872</td>\n",
       "      <td>-0.004105</td>\n",
       "      <td>-0.122243</td>\n",
       "    </tr>\n",
       "    <tr>\n",
       "      <th>8</th>\n",
       "      <td>2015-03-31</td>\n",
       "      <td>65</td>\n",
       "      <td>0.009599</td>\n",
       "      <td>0.060870</td>\n",
       "      <td>0.175274</td>\n",
       "      <td>0.016432</td>\n",
       "      <td>-0.111613</td>\n",
       "    </tr>\n",
       "    <tr>\n",
       "      <th>9</th>\n",
       "      <td>2015-06-30</td>\n",
       "      <td>63</td>\n",
       "      <td>-0.056546</td>\n",
       "      <td>0.001166</td>\n",
       "      <td>0.096890</td>\n",
       "      <td>-0.117609</td>\n",
       "      <td>-0.220885</td>\n",
       "    </tr>\n",
       "  </tbody>\n",
       "</table>\n",
       "</div>"
      ],
      "text/plain": [
       "    datadate  stocks  baseline    top_10  top_10_ideal  bottom_10  \\\n",
       "0 2013-03-31      63  0.065437  0.152438      0.268833   0.001110   \n",
       "1 2013-06-30      64  0.059808  0.096976      0.230842   0.099633   \n",
       "2 2013-09-30      66  0.110123  0.226560      0.314411   0.014327   \n",
       "3 2013-12-31      66  0.032754  0.076488      0.183728  -0.006577   \n",
       "4 2014-03-31      66  0.039382  0.097259      0.158701   0.026445   \n",
       "5 2014-06-30      67  0.022670  0.054786      0.167058   0.011773   \n",
       "6 2014-09-30      65  0.054048  0.140578      0.196296  -0.049027   \n",
       "7 2014-12-31      64  0.027150  0.075584      0.177872  -0.004105   \n",
       "8 2015-03-31      65  0.009599  0.060870      0.175274   0.016432   \n",
       "9 2015-06-30      63 -0.056546  0.001166      0.096890  -0.117609   \n",
       "\n",
       "   bottom_10_ideal  \n",
       "0        -0.084238  \n",
       "1        -0.061988  \n",
       "2        -0.058148  \n",
       "3        -0.082451  \n",
       "4        -0.061300  \n",
       "5        -0.099601  \n",
       "6        -0.109057  \n",
       "7        -0.122243  \n",
       "8        -0.111613  \n",
       "9        -0.220885  "
      ]
     },
     "execution_count": 719,
     "metadata": {},
     "output_type": "execute_result"
    }
   ],
   "source": [
    "# Group by 'datadate' and calculate the count of rows and the mean of 'next_prccq_change'\n",
    "df_avg = results.groupby('datadate').agg(\n",
    "    stocks=('next_prccq_change', 'size'),\n",
    "    baseline=('next_prccq_change', 'mean')\n",
    ").reset_index()\n",
    "\n",
    "\n",
    "# Add a 'top_10' column that contains the average of the top 10 highest 'y_pred' for each quarter\n",
    "df_avg['top_10'] = results.groupby('datadate').apply(\n",
    "    lambda x: x.nlargest(10, 'y_pred')['next_prccq_change'].mean()\n",
    ").reset_index(level=0, drop=True)\n",
    "\n",
    "\n",
    "df_avg['top_10_ideal'] = results.groupby('datadate').apply(\n",
    "    lambda x: x.nlargest(10, 'next_prccq_change')['next_prccq_change'].mean()\n",
    ").reset_index(level=0, drop=True)\n",
    "\n",
    "\n",
    "df_avg['bottom_10'] = results.groupby('datadate').apply(\n",
    "    lambda x: x.nsmallest(10, 'y_pred')['next_prccq_change'].mean()\n",
    ").reset_index(level=0, drop=True)\n",
    "\n",
    "\n",
    "df_avg['bottom_10_ideal'] = results.groupby('datadate').apply(\n",
    "    lambda x: x.nsmallest(10, 'next_prccq_change')['next_prccq_change'].mean()\n",
    ").reset_index(level=0, drop=True)\n",
    "\n",
    "# Show the first few rows of the new dataframe\n",
    "df_avg.head(10)\n"
   ]
  },
  {
   "cell_type": "code",
   "execution_count": 717,
   "metadata": {},
   "outputs": [
    {
     "name": "stdout",
     "output_type": "stream",
     "text": [
      "Mean quarterly return of the baseline portfolio: 0.03360167684373077\n",
      "Sharpe Ratio of the baseline portfolio: 0.14378314191983466\n",
      "\n",
      "Mean quarterly return of the top_10 portfolio: 0.10251447836443624\n",
      "Sharpe Ratio of the top_10 portfolio: 0.9569300654687405\n",
      "\n"
     ]
    }
   ],
   "source": [
    "for portfolio in ['baseline', 'top_10']:\n",
    "\n",
    "    mean_return = df_avg[portfolio].mean()\n",
    "\n",
    "    # Calculate the standard deviation of the returns of the top 10 portfolio\n",
    "    std_return = df_avg[portfolio].std()\n",
    "\n",
    "    # Assuming the risk-free rate is 0 (if you have a specific risk-free rate, replace 0 with that value)\n",
    "    risk_free_rate = 0.025\n",
    "\n",
    "    # Calculate the Sharpe ratio\n",
    "    sharpe_ratio = (mean_return - risk_free_rate) / std_return\n",
    "\n",
    "    # Print the Sharpe ratio\n",
    "    print(f\"Mean quarterly return of the {portfolio} portfolio: {mean_return}\")\n",
    "    print(f\"Sharpe Ratio of the {portfolio} portfolio: {sharpe_ratio}\")\n",
    "    print(\"\")"
   ]
  },
  {
   "cell_type": "code",
   "execution_count": 718,
   "metadata": {},
   "outputs": [
    {
     "data": {
      "application/vnd.plotly.v1+json": {
       "config": {
        "plotlyServerURL": "https://plot.ly"
       },
       "data": [
        {
         "mode": "lines",
         "name": "Baseline Portfolio",
         "type": "scatter",
         "x": [
          "2013-03-31T00:00:00",
          "2013-06-30T00:00:00",
          "2013-09-30T00:00:00",
          "2013-12-31T00:00:00",
          "2014-03-31T00:00:00",
          "2014-06-30T00:00:00",
          "2014-09-30T00:00:00",
          "2014-12-31T00:00:00",
          "2015-03-31T00:00:00",
          "2015-06-30T00:00:00",
          "2015-09-30T00:00:00",
          "2015-12-31T00:00:00",
          "2016-03-31T00:00:00",
          "2016-06-30T00:00:00",
          "2016-09-30T00:00:00",
          "2016-12-31T00:00:00",
          "2017-03-31T00:00:00",
          "2017-06-30T00:00:00",
          "2017-09-30T00:00:00",
          "2017-12-31T00:00:00",
          "2018-03-31T00:00:00",
          "2018-06-30T00:00:00",
          "2018-09-30T00:00:00",
          "2018-12-31T00:00:00",
          "2019-03-31T00:00:00",
          "2019-06-30T00:00:00",
          "2019-09-30T00:00:00",
          "2019-12-31T00:00:00",
          "2020-03-31T00:00:00",
          "2020-06-30T00:00:00",
          "2020-09-30T00:00:00",
          "2020-12-31T00:00:00",
          "2021-03-31T00:00:00",
          "2021-06-30T00:00:00",
          "2021-09-30T00:00:00",
          "2021-12-31T00:00:00",
          "2022-03-31T00:00:00",
          "2022-06-30T00:00:00",
          "2022-09-30T00:00:00",
          "2022-12-31T00:00:00",
          "2023-03-31T00:00:00",
          "2023-06-30T00:00:00"
         ],
         "y": [
          1065.4371958232998,
          1129.158555801018,
          1253.504932219555,
          1294.5627948278475,
          1345.5449075612785,
          1376.0488503962213,
          1450.4209420711502,
          1489.7999079150622,
          1504.1006826860594,
          1419.0491976789824,
          1532.8619041760492,
          1526.8454764030162,
          1595.6530802603083,
          1670.5003529710327,
          1693.3048216355464,
          1806.3940396765208,
          1877.9491868072244,
          1974.0047428534597,
          2083.7869748399794,
          2136.843713783442,
          2209.0551592121974,
          2413.5292586963624,
          2175.7094661891324,
          2370.8521064286383,
          2435.7967721326663,
          2514.7218204608134,
          2731.0651296527913,
          2291.9914990282114,
          2599.984512088596,
          2808.7678965191553,
          3100.289213300711,
          3350.5361613923674,
          3568.127870904715,
          3564.924966398189,
          3894.5966139011493,
          3875.813552377668,
          3521.3314335965306,
          3244.2768305862883,
          3521.720690443635,
          3590.0165855143373,
          3728.5024491728045,
          3726.7208199094616
         ]
        },
        {
         "mode": "lines",
         "name": "Top 10 Portfolio",
         "type": "scatter",
         "x": [
          "2013-03-31T00:00:00",
          "2013-06-30T00:00:00",
          "2013-09-30T00:00:00",
          "2013-12-31T00:00:00",
          "2014-03-31T00:00:00",
          "2014-06-30T00:00:00",
          "2014-09-30T00:00:00",
          "2014-12-31T00:00:00",
          "2015-03-31T00:00:00",
          "2015-06-30T00:00:00",
          "2015-09-30T00:00:00",
          "2015-12-31T00:00:00",
          "2016-03-31T00:00:00",
          "2016-06-30T00:00:00",
          "2016-09-30T00:00:00",
          "2016-12-31T00:00:00",
          "2017-03-31T00:00:00",
          "2017-06-30T00:00:00",
          "2017-09-30T00:00:00",
          "2017-12-31T00:00:00",
          "2018-03-31T00:00:00",
          "2018-06-30T00:00:00",
          "2018-09-30T00:00:00",
          "2018-12-31T00:00:00",
          "2019-03-31T00:00:00",
          "2019-06-30T00:00:00",
          "2019-09-30T00:00:00",
          "2019-12-31T00:00:00",
          "2020-03-31T00:00:00",
          "2020-06-30T00:00:00",
          "2020-09-30T00:00:00",
          "2020-12-31T00:00:00",
          "2021-03-31T00:00:00",
          "2021-06-30T00:00:00",
          "2021-09-30T00:00:00",
          "2021-12-31T00:00:00",
          "2022-03-31T00:00:00",
          "2022-06-30T00:00:00",
          "2022-09-30T00:00:00",
          "2022-12-31T00:00:00",
          "2023-03-31T00:00:00",
          "2023-06-30T00:00:00"
         ],
         "y": [
          1152.4381139682064,
          1264.197120154052,
          1550.6141163295144,
          1669.2175636594568,
          1831.5645852663097,
          1931.9085887701024,
          2203.493275795216,
          2370.042746941658,
          2514.3078465236,
          2517.2387867261596,
          3148.6363070314023,
          3093.9273895091715,
          3416.8500196595915,
          4096.5127466695,
          4458.7661497678655,
          5340.603900650011,
          5784.0145807670115,
          5887.967215003277,
          6591.458824377243,
          7532.4910493930165,
          8049.746161352539,
          9876.167178524905,
          9136.214519490011,
          10364.144316752103,
          11233.942303071637,
          11928.136265088568,
          13144.381033363294,
          12705.876273503143,
          15436.762303066876,
          19329.175173937507,
          23252.702599791075,
          27495.169377143386,
          29357.699446755814,
          31023.695174933706,
          34379.36164525264,
          36478.60645482713,
          35318.716569616896,
          34008.12130636758,
          38590.929762135944,
          41392.33421049218,
          46344.2689030122,
          53900.04514699855
         ]
        }
       ],
       "layout": {
        "template": {
         "data": {
          "bar": [
           {
            "error_x": {
             "color": "#2a3f5f"
            },
            "error_y": {
             "color": "#2a3f5f"
            },
            "marker": {
             "line": {
              "color": "#E5ECF6",
              "width": 0.5
             },
             "pattern": {
              "fillmode": "overlay",
              "size": 10,
              "solidity": 0.2
             }
            },
            "type": "bar"
           }
          ],
          "barpolar": [
           {
            "marker": {
             "line": {
              "color": "#E5ECF6",
              "width": 0.5
             },
             "pattern": {
              "fillmode": "overlay",
              "size": 10,
              "solidity": 0.2
             }
            },
            "type": "barpolar"
           }
          ],
          "carpet": [
           {
            "aaxis": {
             "endlinecolor": "#2a3f5f",
             "gridcolor": "white",
             "linecolor": "white",
             "minorgridcolor": "white",
             "startlinecolor": "#2a3f5f"
            },
            "baxis": {
             "endlinecolor": "#2a3f5f",
             "gridcolor": "white",
             "linecolor": "white",
             "minorgridcolor": "white",
             "startlinecolor": "#2a3f5f"
            },
            "type": "carpet"
           }
          ],
          "choropleth": [
           {
            "colorbar": {
             "outlinewidth": 0,
             "ticks": ""
            },
            "type": "choropleth"
           }
          ],
          "contour": [
           {
            "colorbar": {
             "outlinewidth": 0,
             "ticks": ""
            },
            "colorscale": [
             [
              0,
              "#0d0887"
             ],
             [
              0.1111111111111111,
              "#46039f"
             ],
             [
              0.2222222222222222,
              "#7201a8"
             ],
             [
              0.3333333333333333,
              "#9c179e"
             ],
             [
              0.4444444444444444,
              "#bd3786"
             ],
             [
              0.5555555555555556,
              "#d8576b"
             ],
             [
              0.6666666666666666,
              "#ed7953"
             ],
             [
              0.7777777777777778,
              "#fb9f3a"
             ],
             [
              0.8888888888888888,
              "#fdca26"
             ],
             [
              1,
              "#f0f921"
             ]
            ],
            "type": "contour"
           }
          ],
          "contourcarpet": [
           {
            "colorbar": {
             "outlinewidth": 0,
             "ticks": ""
            },
            "type": "contourcarpet"
           }
          ],
          "heatmap": [
           {
            "colorbar": {
             "outlinewidth": 0,
             "ticks": ""
            },
            "colorscale": [
             [
              0,
              "#0d0887"
             ],
             [
              0.1111111111111111,
              "#46039f"
             ],
             [
              0.2222222222222222,
              "#7201a8"
             ],
             [
              0.3333333333333333,
              "#9c179e"
             ],
             [
              0.4444444444444444,
              "#bd3786"
             ],
             [
              0.5555555555555556,
              "#d8576b"
             ],
             [
              0.6666666666666666,
              "#ed7953"
             ],
             [
              0.7777777777777778,
              "#fb9f3a"
             ],
             [
              0.8888888888888888,
              "#fdca26"
             ],
             [
              1,
              "#f0f921"
             ]
            ],
            "type": "heatmap"
           }
          ],
          "heatmapgl": [
           {
            "colorbar": {
             "outlinewidth": 0,
             "ticks": ""
            },
            "colorscale": [
             [
              0,
              "#0d0887"
             ],
             [
              0.1111111111111111,
              "#46039f"
             ],
             [
              0.2222222222222222,
              "#7201a8"
             ],
             [
              0.3333333333333333,
              "#9c179e"
             ],
             [
              0.4444444444444444,
              "#bd3786"
             ],
             [
              0.5555555555555556,
              "#d8576b"
             ],
             [
              0.6666666666666666,
              "#ed7953"
             ],
             [
              0.7777777777777778,
              "#fb9f3a"
             ],
             [
              0.8888888888888888,
              "#fdca26"
             ],
             [
              1,
              "#f0f921"
             ]
            ],
            "type": "heatmapgl"
           }
          ],
          "histogram": [
           {
            "marker": {
             "pattern": {
              "fillmode": "overlay",
              "size": 10,
              "solidity": 0.2
             }
            },
            "type": "histogram"
           }
          ],
          "histogram2d": [
           {
            "colorbar": {
             "outlinewidth": 0,
             "ticks": ""
            },
            "colorscale": [
             [
              0,
              "#0d0887"
             ],
             [
              0.1111111111111111,
              "#46039f"
             ],
             [
              0.2222222222222222,
              "#7201a8"
             ],
             [
              0.3333333333333333,
              "#9c179e"
             ],
             [
              0.4444444444444444,
              "#bd3786"
             ],
             [
              0.5555555555555556,
              "#d8576b"
             ],
             [
              0.6666666666666666,
              "#ed7953"
             ],
             [
              0.7777777777777778,
              "#fb9f3a"
             ],
             [
              0.8888888888888888,
              "#fdca26"
             ],
             [
              1,
              "#f0f921"
             ]
            ],
            "type": "histogram2d"
           }
          ],
          "histogram2dcontour": [
           {
            "colorbar": {
             "outlinewidth": 0,
             "ticks": ""
            },
            "colorscale": [
             [
              0,
              "#0d0887"
             ],
             [
              0.1111111111111111,
              "#46039f"
             ],
             [
              0.2222222222222222,
              "#7201a8"
             ],
             [
              0.3333333333333333,
              "#9c179e"
             ],
             [
              0.4444444444444444,
              "#bd3786"
             ],
             [
              0.5555555555555556,
              "#d8576b"
             ],
             [
              0.6666666666666666,
              "#ed7953"
             ],
             [
              0.7777777777777778,
              "#fb9f3a"
             ],
             [
              0.8888888888888888,
              "#fdca26"
             ],
             [
              1,
              "#f0f921"
             ]
            ],
            "type": "histogram2dcontour"
           }
          ],
          "mesh3d": [
           {
            "colorbar": {
             "outlinewidth": 0,
             "ticks": ""
            },
            "type": "mesh3d"
           }
          ],
          "parcoords": [
           {
            "line": {
             "colorbar": {
              "outlinewidth": 0,
              "ticks": ""
             }
            },
            "type": "parcoords"
           }
          ],
          "pie": [
           {
            "automargin": true,
            "type": "pie"
           }
          ],
          "scatter": [
           {
            "fillpattern": {
             "fillmode": "overlay",
             "size": 10,
             "solidity": 0.2
            },
            "type": "scatter"
           }
          ],
          "scatter3d": [
           {
            "line": {
             "colorbar": {
              "outlinewidth": 0,
              "ticks": ""
             }
            },
            "marker": {
             "colorbar": {
              "outlinewidth": 0,
              "ticks": ""
             }
            },
            "type": "scatter3d"
           }
          ],
          "scattercarpet": [
           {
            "marker": {
             "colorbar": {
              "outlinewidth": 0,
              "ticks": ""
             }
            },
            "type": "scattercarpet"
           }
          ],
          "scattergeo": [
           {
            "marker": {
             "colorbar": {
              "outlinewidth": 0,
              "ticks": ""
             }
            },
            "type": "scattergeo"
           }
          ],
          "scattergl": [
           {
            "marker": {
             "colorbar": {
              "outlinewidth": 0,
              "ticks": ""
             }
            },
            "type": "scattergl"
           }
          ],
          "scattermapbox": [
           {
            "marker": {
             "colorbar": {
              "outlinewidth": 0,
              "ticks": ""
             }
            },
            "type": "scattermapbox"
           }
          ],
          "scatterpolar": [
           {
            "marker": {
             "colorbar": {
              "outlinewidth": 0,
              "ticks": ""
             }
            },
            "type": "scatterpolar"
           }
          ],
          "scatterpolargl": [
           {
            "marker": {
             "colorbar": {
              "outlinewidth": 0,
              "ticks": ""
             }
            },
            "type": "scatterpolargl"
           }
          ],
          "scatterternary": [
           {
            "marker": {
             "colorbar": {
              "outlinewidth": 0,
              "ticks": ""
             }
            },
            "type": "scatterternary"
           }
          ],
          "surface": [
           {
            "colorbar": {
             "outlinewidth": 0,
             "ticks": ""
            },
            "colorscale": [
             [
              0,
              "#0d0887"
             ],
             [
              0.1111111111111111,
              "#46039f"
             ],
             [
              0.2222222222222222,
              "#7201a8"
             ],
             [
              0.3333333333333333,
              "#9c179e"
             ],
             [
              0.4444444444444444,
              "#bd3786"
             ],
             [
              0.5555555555555556,
              "#d8576b"
             ],
             [
              0.6666666666666666,
              "#ed7953"
             ],
             [
              0.7777777777777778,
              "#fb9f3a"
             ],
             [
              0.8888888888888888,
              "#fdca26"
             ],
             [
              1,
              "#f0f921"
             ]
            ],
            "type": "surface"
           }
          ],
          "table": [
           {
            "cells": {
             "fill": {
              "color": "#EBF0F8"
             },
             "line": {
              "color": "white"
             }
            },
            "header": {
             "fill": {
              "color": "#C8D4E3"
             },
             "line": {
              "color": "white"
             }
            },
            "type": "table"
           }
          ]
         },
         "layout": {
          "annotationdefaults": {
           "arrowcolor": "#2a3f5f",
           "arrowhead": 0,
           "arrowwidth": 1
          },
          "autotypenumbers": "strict",
          "coloraxis": {
           "colorbar": {
            "outlinewidth": 0,
            "ticks": ""
           }
          },
          "colorscale": {
           "diverging": [
            [
             0,
             "#8e0152"
            ],
            [
             0.1,
             "#c51b7d"
            ],
            [
             0.2,
             "#de77ae"
            ],
            [
             0.3,
             "#f1b6da"
            ],
            [
             0.4,
             "#fde0ef"
            ],
            [
             0.5,
             "#f7f7f7"
            ],
            [
             0.6,
             "#e6f5d0"
            ],
            [
             0.7,
             "#b8e186"
            ],
            [
             0.8,
             "#7fbc41"
            ],
            [
             0.9,
             "#4d9221"
            ],
            [
             1,
             "#276419"
            ]
           ],
           "sequential": [
            [
             0,
             "#0d0887"
            ],
            [
             0.1111111111111111,
             "#46039f"
            ],
            [
             0.2222222222222222,
             "#7201a8"
            ],
            [
             0.3333333333333333,
             "#9c179e"
            ],
            [
             0.4444444444444444,
             "#bd3786"
            ],
            [
             0.5555555555555556,
             "#d8576b"
            ],
            [
             0.6666666666666666,
             "#ed7953"
            ],
            [
             0.7777777777777778,
             "#fb9f3a"
            ],
            [
             0.8888888888888888,
             "#fdca26"
            ],
            [
             1,
             "#f0f921"
            ]
           ],
           "sequentialminus": [
            [
             0,
             "#0d0887"
            ],
            [
             0.1111111111111111,
             "#46039f"
            ],
            [
             0.2222222222222222,
             "#7201a8"
            ],
            [
             0.3333333333333333,
             "#9c179e"
            ],
            [
             0.4444444444444444,
             "#bd3786"
            ],
            [
             0.5555555555555556,
             "#d8576b"
            ],
            [
             0.6666666666666666,
             "#ed7953"
            ],
            [
             0.7777777777777778,
             "#fb9f3a"
            ],
            [
             0.8888888888888888,
             "#fdca26"
            ],
            [
             1,
             "#f0f921"
            ]
           ]
          },
          "colorway": [
           "#636efa",
           "#EF553B",
           "#00cc96",
           "#ab63fa",
           "#FFA15A",
           "#19d3f3",
           "#FF6692",
           "#B6E880",
           "#FF97FF",
           "#FECB52"
          ],
          "font": {
           "color": "#2a3f5f"
          },
          "geo": {
           "bgcolor": "white",
           "lakecolor": "white",
           "landcolor": "#E5ECF6",
           "showlakes": true,
           "showland": true,
           "subunitcolor": "white"
          },
          "hoverlabel": {
           "align": "left"
          },
          "hovermode": "closest",
          "mapbox": {
           "style": "light"
          },
          "paper_bgcolor": "rgba(0,0,0,0)",
          "plot_bgcolor": "rgba(250,250,250,0.8)",
          "polar": {
           "angularaxis": {
            "gridcolor": "white",
            "linecolor": "white",
            "ticks": ""
           },
           "bgcolor": "#E5ECF6",
           "radialaxis": {
            "gridcolor": "white",
            "linecolor": "white",
            "ticks": ""
           }
          },
          "scene": {
           "xaxis": {
            "backgroundcolor": "#E5ECF6",
            "gridcolor": "white",
            "gridwidth": 2,
            "linecolor": "white",
            "showbackground": true,
            "ticks": "",
            "zerolinecolor": "white"
           },
           "yaxis": {
            "backgroundcolor": "#E5ECF6",
            "gridcolor": "white",
            "gridwidth": 2,
            "linecolor": "white",
            "showbackground": true,
            "ticks": "",
            "zerolinecolor": "white"
           },
           "zaxis": {
            "backgroundcolor": "#E5ECF6",
            "gridcolor": "white",
            "gridwidth": 2,
            "linecolor": "white",
            "showbackground": true,
            "ticks": "",
            "zerolinecolor": "white"
           }
          },
          "shapedefaults": {
           "line": {
            "color": "#2a3f5f"
           }
          },
          "ternary": {
           "aaxis": {
            "gridcolor": "white",
            "linecolor": "white",
            "ticks": ""
           },
           "baxis": {
            "gridcolor": "white",
            "linecolor": "white",
            "ticks": ""
           },
           "bgcolor": "#E5ECF6",
           "caxis": {
            "gridcolor": "white",
            "linecolor": "white",
            "ticks": ""
           }
          },
          "title": {
           "x": 0.05
          },
          "xaxis": {
           "automargin": true,
           "gridcolor": "white",
           "linecolor": "white",
           "ticks": "",
           "title": {
            "standoff": 15
           },
           "zerolinecolor": "white",
           "zerolinewidth": 2
          },
          "yaxis": {
           "automargin": true,
           "gridcolor": "white",
           "linecolor": "white",
           "ticks": "",
           "title": {
            "standoff": 15
           },
           "zerolinecolor": "white",
           "zerolinewidth": 2
          }
         }
        },
        "title": {
         "text": "Portfolio Value Over Time ($1,000 Investment)"
        },
        "xaxis": {
         "title": {
          "text": "Date"
         }
        },
        "yaxis": {
         "title": {
          "text": "Portfolio Value ($)"
         }
        }
       }
      },
      "text/html": [
       "<div>                            <div id=\"eeac2512-717f-40c4-a99d-f813d179b58a\" class=\"plotly-graph-div\" style=\"height:525px; width:100%;\"></div>            <script type=\"text/javascript\">                require([\"plotly\"], function(Plotly) {                    window.PLOTLYENV=window.PLOTLYENV || {};                                    if (document.getElementById(\"eeac2512-717f-40c4-a99d-f813d179b58a\")) {                    Plotly.newPlot(                        \"eeac2512-717f-40c4-a99d-f813d179b58a\",                        [{\"mode\":\"lines\",\"name\":\"Baseline Portfolio\",\"x\":[\"2013-03-31T00:00:00\",\"2013-06-30T00:00:00\",\"2013-09-30T00:00:00\",\"2013-12-31T00:00:00\",\"2014-03-31T00:00:00\",\"2014-06-30T00:00:00\",\"2014-09-30T00:00:00\",\"2014-12-31T00:00:00\",\"2015-03-31T00:00:00\",\"2015-06-30T00:00:00\",\"2015-09-30T00:00:00\",\"2015-12-31T00:00:00\",\"2016-03-31T00:00:00\",\"2016-06-30T00:00:00\",\"2016-09-30T00:00:00\",\"2016-12-31T00:00:00\",\"2017-03-31T00:00:00\",\"2017-06-30T00:00:00\",\"2017-09-30T00:00:00\",\"2017-12-31T00:00:00\",\"2018-03-31T00:00:00\",\"2018-06-30T00:00:00\",\"2018-09-30T00:00:00\",\"2018-12-31T00:00:00\",\"2019-03-31T00:00:00\",\"2019-06-30T00:00:00\",\"2019-09-30T00:00:00\",\"2019-12-31T00:00:00\",\"2020-03-31T00:00:00\",\"2020-06-30T00:00:00\",\"2020-09-30T00:00:00\",\"2020-12-31T00:00:00\",\"2021-03-31T00:00:00\",\"2021-06-30T00:00:00\",\"2021-09-30T00:00:00\",\"2021-12-31T00:00:00\",\"2022-03-31T00:00:00\",\"2022-06-30T00:00:00\",\"2022-09-30T00:00:00\",\"2022-12-31T00:00:00\",\"2023-03-31T00:00:00\",\"2023-06-30T00:00:00\"],\"y\":[1065.4371958232998,1129.158555801018,1253.504932219555,1294.5627948278475,1345.5449075612785,1376.0488503962213,1450.4209420711502,1489.7999079150622,1504.1006826860594,1419.0491976789824,1532.8619041760492,1526.8454764030162,1595.6530802603083,1670.5003529710327,1693.3048216355464,1806.3940396765208,1877.9491868072244,1974.0047428534597,2083.7869748399794,2136.843713783442,2209.0551592121974,2413.5292586963624,2175.7094661891324,2370.8521064286383,2435.7967721326663,2514.7218204608134,2731.0651296527913,2291.9914990282114,2599.984512088596,2808.7678965191553,3100.289213300711,3350.5361613923674,3568.127870904715,3564.924966398189,3894.5966139011493,3875.813552377668,3521.3314335965306,3244.2768305862883,3521.720690443635,3590.0165855143373,3728.5024491728045,3726.7208199094616],\"type\":\"scatter\"},{\"mode\":\"lines\",\"name\":\"Top 10 Portfolio\",\"x\":[\"2013-03-31T00:00:00\",\"2013-06-30T00:00:00\",\"2013-09-30T00:00:00\",\"2013-12-31T00:00:00\",\"2014-03-31T00:00:00\",\"2014-06-30T00:00:00\",\"2014-09-30T00:00:00\",\"2014-12-31T00:00:00\",\"2015-03-31T00:00:00\",\"2015-06-30T00:00:00\",\"2015-09-30T00:00:00\",\"2015-12-31T00:00:00\",\"2016-03-31T00:00:00\",\"2016-06-30T00:00:00\",\"2016-09-30T00:00:00\",\"2016-12-31T00:00:00\",\"2017-03-31T00:00:00\",\"2017-06-30T00:00:00\",\"2017-09-30T00:00:00\",\"2017-12-31T00:00:00\",\"2018-03-31T00:00:00\",\"2018-06-30T00:00:00\",\"2018-09-30T00:00:00\",\"2018-12-31T00:00:00\",\"2019-03-31T00:00:00\",\"2019-06-30T00:00:00\",\"2019-09-30T00:00:00\",\"2019-12-31T00:00:00\",\"2020-03-31T00:00:00\",\"2020-06-30T00:00:00\",\"2020-09-30T00:00:00\",\"2020-12-31T00:00:00\",\"2021-03-31T00:00:00\",\"2021-06-30T00:00:00\",\"2021-09-30T00:00:00\",\"2021-12-31T00:00:00\",\"2022-03-31T00:00:00\",\"2022-06-30T00:00:00\",\"2022-09-30T00:00:00\",\"2022-12-31T00:00:00\",\"2023-03-31T00:00:00\",\"2023-06-30T00:00:00\"],\"y\":[1152.4381139682064,1264.197120154052,1550.6141163295144,1669.2175636594568,1831.5645852663097,1931.9085887701024,2203.493275795216,2370.042746941658,2514.3078465236,2517.2387867261596,3148.6363070314023,3093.9273895091715,3416.8500196595915,4096.5127466695,4458.7661497678655,5340.603900650011,5784.0145807670115,5887.967215003277,6591.458824377243,7532.4910493930165,8049.746161352539,9876.167178524905,9136.214519490011,10364.144316752103,11233.942303071637,11928.136265088568,13144.381033363294,12705.876273503143,15436.762303066876,19329.175173937507,23252.702599791075,27495.169377143386,29357.699446755814,31023.695174933706,34379.36164525264,36478.60645482713,35318.716569616896,34008.12130636758,38590.929762135944,41392.33421049218,46344.2689030122,53900.04514699855],\"type\":\"scatter\"}],                        {\"template\":{\"data\":{\"barpolar\":[{\"marker\":{\"line\":{\"color\":\"#E5ECF6\",\"width\":0.5},\"pattern\":{\"fillmode\":\"overlay\",\"size\":10,\"solidity\":0.2}},\"type\":\"barpolar\"}],\"bar\":[{\"error_x\":{\"color\":\"#2a3f5f\"},\"error_y\":{\"color\":\"#2a3f5f\"},\"marker\":{\"line\":{\"color\":\"#E5ECF6\",\"width\":0.5},\"pattern\":{\"fillmode\":\"overlay\",\"size\":10,\"solidity\":0.2}},\"type\":\"bar\"}],\"carpet\":[{\"aaxis\":{\"endlinecolor\":\"#2a3f5f\",\"gridcolor\":\"white\",\"linecolor\":\"white\",\"minorgridcolor\":\"white\",\"startlinecolor\":\"#2a3f5f\"},\"baxis\":{\"endlinecolor\":\"#2a3f5f\",\"gridcolor\":\"white\",\"linecolor\":\"white\",\"minorgridcolor\":\"white\",\"startlinecolor\":\"#2a3f5f\"},\"type\":\"carpet\"}],\"choropleth\":[{\"colorbar\":{\"outlinewidth\":0,\"ticks\":\"\"},\"type\":\"choropleth\"}],\"contourcarpet\":[{\"colorbar\":{\"outlinewidth\":0,\"ticks\":\"\"},\"type\":\"contourcarpet\"}],\"contour\":[{\"colorbar\":{\"outlinewidth\":0,\"ticks\":\"\"},\"colorscale\":[[0.0,\"#0d0887\"],[0.1111111111111111,\"#46039f\"],[0.2222222222222222,\"#7201a8\"],[0.3333333333333333,\"#9c179e\"],[0.4444444444444444,\"#bd3786\"],[0.5555555555555556,\"#d8576b\"],[0.6666666666666666,\"#ed7953\"],[0.7777777777777778,\"#fb9f3a\"],[0.8888888888888888,\"#fdca26\"],[1.0,\"#f0f921\"]],\"type\":\"contour\"}],\"heatmapgl\":[{\"colorbar\":{\"outlinewidth\":0,\"ticks\":\"\"},\"colorscale\":[[0.0,\"#0d0887\"],[0.1111111111111111,\"#46039f\"],[0.2222222222222222,\"#7201a8\"],[0.3333333333333333,\"#9c179e\"],[0.4444444444444444,\"#bd3786\"],[0.5555555555555556,\"#d8576b\"],[0.6666666666666666,\"#ed7953\"],[0.7777777777777778,\"#fb9f3a\"],[0.8888888888888888,\"#fdca26\"],[1.0,\"#f0f921\"]],\"type\":\"heatmapgl\"}],\"heatmap\":[{\"colorbar\":{\"outlinewidth\":0,\"ticks\":\"\"},\"colorscale\":[[0.0,\"#0d0887\"],[0.1111111111111111,\"#46039f\"],[0.2222222222222222,\"#7201a8\"],[0.3333333333333333,\"#9c179e\"],[0.4444444444444444,\"#bd3786\"],[0.5555555555555556,\"#d8576b\"],[0.6666666666666666,\"#ed7953\"],[0.7777777777777778,\"#fb9f3a\"],[0.8888888888888888,\"#fdca26\"],[1.0,\"#f0f921\"]],\"type\":\"heatmap\"}],\"histogram2dcontour\":[{\"colorbar\":{\"outlinewidth\":0,\"ticks\":\"\"},\"colorscale\":[[0.0,\"#0d0887\"],[0.1111111111111111,\"#46039f\"],[0.2222222222222222,\"#7201a8\"],[0.3333333333333333,\"#9c179e\"],[0.4444444444444444,\"#bd3786\"],[0.5555555555555556,\"#d8576b\"],[0.6666666666666666,\"#ed7953\"],[0.7777777777777778,\"#fb9f3a\"],[0.8888888888888888,\"#fdca26\"],[1.0,\"#f0f921\"]],\"type\":\"histogram2dcontour\"}],\"histogram2d\":[{\"colorbar\":{\"outlinewidth\":0,\"ticks\":\"\"},\"colorscale\":[[0.0,\"#0d0887\"],[0.1111111111111111,\"#46039f\"],[0.2222222222222222,\"#7201a8\"],[0.3333333333333333,\"#9c179e\"],[0.4444444444444444,\"#bd3786\"],[0.5555555555555556,\"#d8576b\"],[0.6666666666666666,\"#ed7953\"],[0.7777777777777778,\"#fb9f3a\"],[0.8888888888888888,\"#fdca26\"],[1.0,\"#f0f921\"]],\"type\":\"histogram2d\"}],\"histogram\":[{\"marker\":{\"pattern\":{\"fillmode\":\"overlay\",\"size\":10,\"solidity\":0.2}},\"type\":\"histogram\"}],\"mesh3d\":[{\"colorbar\":{\"outlinewidth\":0,\"ticks\":\"\"},\"type\":\"mesh3d\"}],\"parcoords\":[{\"line\":{\"colorbar\":{\"outlinewidth\":0,\"ticks\":\"\"}},\"type\":\"parcoords\"}],\"pie\":[{\"automargin\":true,\"type\":\"pie\"}],\"scatter3d\":[{\"line\":{\"colorbar\":{\"outlinewidth\":0,\"ticks\":\"\"}},\"marker\":{\"colorbar\":{\"outlinewidth\":0,\"ticks\":\"\"}},\"type\":\"scatter3d\"}],\"scattercarpet\":[{\"marker\":{\"colorbar\":{\"outlinewidth\":0,\"ticks\":\"\"}},\"type\":\"scattercarpet\"}],\"scattergeo\":[{\"marker\":{\"colorbar\":{\"outlinewidth\":0,\"ticks\":\"\"}},\"type\":\"scattergeo\"}],\"scattergl\":[{\"marker\":{\"colorbar\":{\"outlinewidth\":0,\"ticks\":\"\"}},\"type\":\"scattergl\"}],\"scattermapbox\":[{\"marker\":{\"colorbar\":{\"outlinewidth\":0,\"ticks\":\"\"}},\"type\":\"scattermapbox\"}],\"scatterpolargl\":[{\"marker\":{\"colorbar\":{\"outlinewidth\":0,\"ticks\":\"\"}},\"type\":\"scatterpolargl\"}],\"scatterpolar\":[{\"marker\":{\"colorbar\":{\"outlinewidth\":0,\"ticks\":\"\"}},\"type\":\"scatterpolar\"}],\"scatter\":[{\"fillpattern\":{\"fillmode\":\"overlay\",\"size\":10,\"solidity\":0.2},\"type\":\"scatter\"}],\"scatterternary\":[{\"marker\":{\"colorbar\":{\"outlinewidth\":0,\"ticks\":\"\"}},\"type\":\"scatterternary\"}],\"surface\":[{\"colorbar\":{\"outlinewidth\":0,\"ticks\":\"\"},\"colorscale\":[[0.0,\"#0d0887\"],[0.1111111111111111,\"#46039f\"],[0.2222222222222222,\"#7201a8\"],[0.3333333333333333,\"#9c179e\"],[0.4444444444444444,\"#bd3786\"],[0.5555555555555556,\"#d8576b\"],[0.6666666666666666,\"#ed7953\"],[0.7777777777777778,\"#fb9f3a\"],[0.8888888888888888,\"#fdca26\"],[1.0,\"#f0f921\"]],\"type\":\"surface\"}],\"table\":[{\"cells\":{\"fill\":{\"color\":\"#EBF0F8\"},\"line\":{\"color\":\"white\"}},\"header\":{\"fill\":{\"color\":\"#C8D4E3\"},\"line\":{\"color\":\"white\"}},\"type\":\"table\"}]},\"layout\":{\"annotationdefaults\":{\"arrowcolor\":\"#2a3f5f\",\"arrowhead\":0,\"arrowwidth\":1},\"autotypenumbers\":\"strict\",\"coloraxis\":{\"colorbar\":{\"outlinewidth\":0,\"ticks\":\"\"}},\"colorscale\":{\"diverging\":[[0,\"#8e0152\"],[0.1,\"#c51b7d\"],[0.2,\"#de77ae\"],[0.3,\"#f1b6da\"],[0.4,\"#fde0ef\"],[0.5,\"#f7f7f7\"],[0.6,\"#e6f5d0\"],[0.7,\"#b8e186\"],[0.8,\"#7fbc41\"],[0.9,\"#4d9221\"],[1,\"#276419\"]],\"sequential\":[[0.0,\"#0d0887\"],[0.1111111111111111,\"#46039f\"],[0.2222222222222222,\"#7201a8\"],[0.3333333333333333,\"#9c179e\"],[0.4444444444444444,\"#bd3786\"],[0.5555555555555556,\"#d8576b\"],[0.6666666666666666,\"#ed7953\"],[0.7777777777777778,\"#fb9f3a\"],[0.8888888888888888,\"#fdca26\"],[1.0,\"#f0f921\"]],\"sequentialminus\":[[0.0,\"#0d0887\"],[0.1111111111111111,\"#46039f\"],[0.2222222222222222,\"#7201a8\"],[0.3333333333333333,\"#9c179e\"],[0.4444444444444444,\"#bd3786\"],[0.5555555555555556,\"#d8576b\"],[0.6666666666666666,\"#ed7953\"],[0.7777777777777778,\"#fb9f3a\"],[0.8888888888888888,\"#fdca26\"],[1.0,\"#f0f921\"]]},\"colorway\":[\"#636efa\",\"#EF553B\",\"#00cc96\",\"#ab63fa\",\"#FFA15A\",\"#19d3f3\",\"#FF6692\",\"#B6E880\",\"#FF97FF\",\"#FECB52\"],\"font\":{\"color\":\"#2a3f5f\"},\"geo\":{\"bgcolor\":\"white\",\"lakecolor\":\"white\",\"landcolor\":\"#E5ECF6\",\"showlakes\":true,\"showland\":true,\"subunitcolor\":\"white\"},\"hoverlabel\":{\"align\":\"left\"},\"hovermode\":\"closest\",\"mapbox\":{\"style\":\"light\"},\"paper_bgcolor\":\"rgba(0,0,0,0)\",\"plot_bgcolor\":\"rgba(250,250,250,0.8)\",\"polar\":{\"angularaxis\":{\"gridcolor\":\"white\",\"linecolor\":\"white\",\"ticks\":\"\"},\"bgcolor\":\"#E5ECF6\",\"radialaxis\":{\"gridcolor\":\"white\",\"linecolor\":\"white\",\"ticks\":\"\"}},\"scene\":{\"xaxis\":{\"backgroundcolor\":\"#E5ECF6\",\"gridcolor\":\"white\",\"gridwidth\":2,\"linecolor\":\"white\",\"showbackground\":true,\"ticks\":\"\",\"zerolinecolor\":\"white\"},\"yaxis\":{\"backgroundcolor\":\"#E5ECF6\",\"gridcolor\":\"white\",\"gridwidth\":2,\"linecolor\":\"white\",\"showbackground\":true,\"ticks\":\"\",\"zerolinecolor\":\"white\"},\"zaxis\":{\"backgroundcolor\":\"#E5ECF6\",\"gridcolor\":\"white\",\"gridwidth\":2,\"linecolor\":\"white\",\"showbackground\":true,\"ticks\":\"\",\"zerolinecolor\":\"white\"}},\"shapedefaults\":{\"line\":{\"color\":\"#2a3f5f\"}},\"ternary\":{\"aaxis\":{\"gridcolor\":\"white\",\"linecolor\":\"white\",\"ticks\":\"\"},\"baxis\":{\"gridcolor\":\"white\",\"linecolor\":\"white\",\"ticks\":\"\"},\"bgcolor\":\"#E5ECF6\",\"caxis\":{\"gridcolor\":\"white\",\"linecolor\":\"white\",\"ticks\":\"\"}},\"title\":{\"x\":0.05},\"xaxis\":{\"automargin\":true,\"gridcolor\":\"white\",\"linecolor\":\"white\",\"ticks\":\"\",\"title\":{\"standoff\":15},\"zerolinecolor\":\"white\",\"zerolinewidth\":2},\"yaxis\":{\"automargin\":true,\"gridcolor\":\"white\",\"linecolor\":\"white\",\"ticks\":\"\",\"title\":{\"standoff\":15},\"zerolinecolor\":\"white\",\"zerolinewidth\":2}}},\"title\":{\"text\":\"Portfolio Value Over Time ($1,000 Investment)\"},\"xaxis\":{\"title\":{\"text\":\"Date\"}},\"yaxis\":{\"title\":{\"text\":\"Portfolio Value ($)\"}}},                        {\"responsive\": true}                    ).then(function(){\n",
       "                            \n",
       "var gd = document.getElementById('eeac2512-717f-40c4-a99d-f813d179b58a');\n",
       "var x = new MutationObserver(function (mutations, observer) {{\n",
       "        var display = window.getComputedStyle(gd).display;\n",
       "        if (!display || display === 'none') {{\n",
       "            console.log([gd, 'removed!']);\n",
       "            Plotly.purge(gd);\n",
       "            observer.disconnect();\n",
       "        }}\n",
       "}});\n",
       "\n",
       "// Listen for the removal of the full notebook cells\n",
       "var notebookContainer = gd.closest('#notebook-container');\n",
       "if (notebookContainer) {{\n",
       "    x.observe(notebookContainer, {childList: true});\n",
       "}}\n",
       "\n",
       "// Listen for the clearing of the current output cell\n",
       "var outputEl = gd.closest('.output');\n",
       "if (outputEl) {{\n",
       "    x.observe(outputEl, {childList: true});\n",
       "}}\n",
       "\n",
       "                        })                };                });            </script>        </div>"
      ]
     },
     "metadata": {},
     "output_type": "display_data"
    }
   ],
   "source": [
    "import plotly.graph_objects as go\n",
    "\n",
    "# Assuming you have a dataframe 'df_avg' with columns 'datadate', 'baseline_portfolio', and 'top_10'\n",
    "\n",
    "# Calculate the cumulative return for both portfolios\n",
    "df_avg['baseline_cum_return'] = (1 + df_avg['baseline']).cumprod()\n",
    "df_avg['top_10_cum_return'] = (1 + df_avg['top_10']).cumprod()\n",
    "\n",
    "# Calculate the value over time of a $1,000 investment\n",
    "initial_investment = 1000\n",
    "df_avg['baseline_value'] = initial_investment * df_avg['baseline_cum_return']\n",
    "df_avg['top_10_value'] = initial_investment * df_avg['top_10_cum_return']\n",
    "\n",
    "# Create the plot\n",
    "fig = go.Figure()\n",
    "\n",
    "# Add baseline portfolio trace\n",
    "fig.add_trace(go.Scatter(x=df_avg['datadate'], y=df_avg['baseline_value'],\n",
    "                         mode='lines', name='Baseline Portfolio'))\n",
    "\n",
    "# Add top_10 portfolio trace\n",
    "fig.add_trace(go.Scatter(x=df_avg['datadate'], y=df_avg['top_10_value'],\n",
    "                         mode='lines', name='Top 10 Portfolio'))\n",
    "\n",
    "# Update the layout\n",
    "fig.update_layout(\n",
    "    title='Portfolio Value Over Time ($1,000 Investment)',\n",
    "    xaxis_title='Date',\n",
    "    yaxis_title='Portfolio Value ($)',\n",
    ")\n",
    "\n",
    "# Show the plot\n",
    "fig.show()\n"
   ]
  }
 ],
 "metadata": {
  "kernelspec": {
   "display_name": "Python 3",
   "language": "python",
   "name": "python3"
  },
  "language_info": {
   "codemirror_mode": {
    "name": "ipython",
    "version": 3
   },
   "file_extension": ".py",
   "mimetype": "text/x-python",
   "name": "python",
   "nbconvert_exporter": "python",
   "pygments_lexer": "ipython3",
   "version": "3.9.13"
  }
 },
 "nbformat": 4,
 "nbformat_minor": 2
}
